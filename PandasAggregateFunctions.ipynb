{
  "nbformat": 4,
  "nbformat_minor": 0,
  "metadata": {
    "anaconda-cloud": {},
    "kernelspec": {
      "display_name": "Python 3",
      "language": "python",
      "name": "python3"
    },
    "language_info": {
      "codemirror_mode": {
        "name": "ipython",
        "version": 3
      },
      "file_extension": ".py",
      "mimetype": "text/x-python",
      "name": "python",
      "nbconvert_exporter": "python",
      "pygments_lexer": "ipython3",
      "version": "3.6.8"
    },
    "colab": {
      "name": "AggregateFunctions.ipynb",
      "provenance": [],
      "include_colab_link": true
    }
  },
  "cells": [
    {
      "cell_type": "markdown",
      "metadata": {
        "id": "view-in-github",
        "colab_type": "text"
      },
      "source": [
        "<a href=\"https://colab.research.google.com/github/gopal2812/mlblr/blob/master/PandasAggregateFunctions.ipynb\" target=\"_parent\"><img src=\"https://colab.research.google.com/assets/colab-badge.svg\" alt=\"Open In Colab\"/></a>"
      ]
    },
    {
      "cell_type": "code",
      "metadata": {
        "id": "PmZSth3O4lJH",
        "colab_type": "code",
        "colab": {}
      },
      "source": [
        "# Import libraries\n",
        "import pandas as pd\n",
        "import numpy as np"
      ],
      "execution_count": 0,
      "outputs": []
    },
    {
      "cell_type": "code",
      "metadata": {
        "id": "wHxqKT-K4lJS",
        "colab_type": "code",
        "colab": {}
      },
      "source": [
        "# Load Excel File\n",
        "filename = 'data/car_financing.xlsx'\n",
        "df = pd.read_excel(filename)"
      ],
      "execution_count": 0,
      "outputs": []
    },
    {
      "cell_type": "code",
      "metadata": {
        "id": "zC-i8GNg4lJY",
        "colab_type": "code",
        "colab": {}
      },
      "source": [
        "## Filtering \n",
        "car_filter = df['car_type']=='Toyota Sienna'\n",
        "interest_filter = df['interest_rate']==0.0702\n",
        "df = df.loc[car_filter & interest_filter, :]"
      ],
      "execution_count": 0,
      "outputs": []
    },
    {
      "cell_type": "code",
      "metadata": {
        "id": "NwfALqTj4lJd",
        "colab_type": "code",
        "colab": {}
      },
      "source": [
        "# Approach 1 dictionary substitution using rename method\n",
        "df = df.rename(columns={'Starting Balance': 'starting_balance',\n",
        "                        'Interest Paid': 'interest_paid', \n",
        "                        'Principal Paid': 'principal_paid',\n",
        "                        'New Balance': 'new_balance'})"
      ],
      "execution_count": 0,
      "outputs": []
    },
    {
      "cell_type": "code",
      "metadata": {
        "id": "vWW9c-wF4lJj",
        "colab_type": "code",
        "colab": {}
      },
      "source": [
        "# Approach 2 list replacement\n",
        "# Only changing Month -> month, but we need to list the rest of the columns\n",
        "df.columns = ['month',\n",
        "              'starting_balance',\n",
        "              'Repayment',\n",
        "              'interest_paid',\n",
        "              'principal_paid',\n",
        "              'new_balance',\n",
        "              'term',\n",
        "              'interest_rate',\n",
        "              'car_type']"
      ],
      "execution_count": 0,
      "outputs": []
    },
    {
      "cell_type": "code",
      "metadata": {
        "id": "1mnElxVY4lJq",
        "colab_type": "code",
        "colab": {}
      },
      "source": [
        "# Approach 1\n",
        "# This approach allows you to drop multiple columns at a time \n",
        "df = df.drop(columns=['term'])"
      ],
      "execution_count": 0,
      "outputs": []
    },
    {
      "cell_type": "code",
      "metadata": {
        "id": "q3T7G3r14lJz",
        "colab_type": "code",
        "colab": {}
      },
      "source": [
        "# Approach 2 use the del command\n",
        "del df['Repayment']"
      ],
      "execution_count": 0,
      "outputs": []
    },
    {
      "cell_type": "code",
      "metadata": {
        "id": "k0cEAoM_4lJ5",
        "colab_type": "code",
        "colab": {}
      },
      "source": [
        "df.shape"
      ],
      "execution_count": 0,
      "outputs": []
    },
    {
      "cell_type": "markdown",
      "metadata": {
        "id": "8-X9DUaU4lKA",
        "colab_type": "text"
      },
      "source": [
        "## Aggregate Methods\n",
        "It is often a good idea to compute summary statistics."
      ]
    },
    {
      "cell_type": "markdown",
      "metadata": {
        "id": "W81n4Etb4lKC",
        "colab_type": "text"
      },
      "source": [
        "Aggregate Method | Description\n",
        "--- | --- \n",
        "sum | sum of values\n",
        "cumsum | cumulative sum\n",
        "mean | mean of values\n",
        "median | arithmetic median of values\n",
        "min | minimum\n",
        "max | maximum\n",
        "mode | mode\n",
        "std | unbiased standard deviation\n",
        "var | unbiased variance\n",
        "quantile | compute rank-based statistics of elements"
      ]
    },
    {
      "cell_type": "code",
      "metadata": {
        "id": "vAXraWJq4lKD",
        "colab_type": "code",
        "colab": {}
      },
      "source": [
        "df.head()"
      ],
      "execution_count": 0,
      "outputs": []
    },
    {
      "cell_type": "code",
      "metadata": {
        "id": "5wy_SBY44lKJ",
        "colab_type": "code",
        "colab": {}
      },
      "source": [
        "# sum the values in a column\n",
        "# total amount of interest paid over the course of the loan\n",
        "df['interest_paid'].sum()"
      ],
      "execution_count": 0,
      "outputs": []
    },
    {
      "cell_type": "code",
      "metadata": {
        "id": "_HDpuXZk4lKR",
        "colab_type": "code",
        "colab": {}
      },
      "source": [
        "# sum all the values across all columns\n",
        "df.sum()"
      ],
      "execution_count": 0,
      "outputs": []
    },
    {
      "cell_type": "code",
      "metadata": {
        "id": "DdsybNtc4lKW",
        "colab_type": "code",
        "colab": {}
      },
      "source": [
        "'Toyota Sienna' + 'Toyota Sienna'"
      ],
      "execution_count": 0,
      "outputs": []
    },
    {
      "cell_type": "code",
      "metadata": {
        "id": "chjptGau4lKd",
        "colab_type": "code",
        "colab": {}
      },
      "source": [
        "# Notice that by default it seems like the sum function ignores missing values. \n",
        "help(df['interest_paid'].sum)"
      ],
      "execution_count": 0,
      "outputs": []
    },
    {
      "cell_type": "code",
      "metadata": {
        "id": "V3uEuTRy4lKj",
        "colab_type": "code",
        "colab": {}
      },
      "source": [
        "# The info method gives the column datatypes + number of non-null values\n",
        "# Notice that we seem to have 60 non-null values for all but the Interest Paid column. \n",
        "df.info()"
      ],
      "execution_count": 0,
      "outputs": []
    },
    {
      "cell_type": "code",
      "metadata": {
        "id": "nH0fgA7h4lKp",
        "colab_type": "code",
        "colab": {}
      },
      "source": [
        ""
      ],
      "execution_count": 0,
      "outputs": []
    },
    {
      "cell_type": "code",
      "metadata": {
        "id": "uFBwofUj4lKv",
        "colab_type": "code",
        "colab": {}
      },
      "source": [
        ""
      ],
      "execution_count": 0,
      "outputs": []
    }
  ]
}