{
  "nbformat": 4,
  "nbformat_minor": 0,
  "metadata": {
    "anaconda-cloud": {},
    "kernelspec": {
      "display_name": "Python 3",
      "language": "python",
      "name": "python3"
    },
    "language_info": {
      "codemirror_mode": {
        "name": "ipython",
        "version": 3
      },
      "file_extension": ".py",
      "mimetype": "text/x-python",
      "name": "python",
      "nbconvert_exporter": "python",
      "pygments_lexer": "ipython3",
      "version": "3.6.8"
    },
    "colab": {
      "name": "BasicsMatplotlib.ipynb",
      "provenance": [],
      "include_colab_link": true
    }
  },
  "cells": [
    {
      "cell_type": "markdown",
      "metadata": {
        "id": "view-in-github",
        "colab_type": "text"
      },
      "source": [
        "<a href=\"https://colab.research.google.com/github/gopal2812/mlblr/blob/master/Matplotlib.ipynb\" target=\"_parent\"><img src=\"https://colab.research.google.com/assets/colab-badge.svg\" alt=\"Open In Colab\"/></a>"
      ]
    },
    {
      "cell_type": "markdown",
      "metadata": {
        "id": "eelFho1i6pJz",
        "colab_type": "text"
      },
      "source": [
        "## Basics of Matplotlib\n",
        "\n",
        "### What is Matplotlib\n",
        "The [matplotlib](http://matplotlib.org) library is a powerful tool capable of producing complex publication-quality figures with fine layout control in two and three dimensions. While it is an older library, so many libraries are built on top of it and use its syntax."
      ]
    },
    {
      "cell_type": "markdown",
      "metadata": {
        "id": "sVkZ1L4T-3bY",
        "colab_type": "text"
      },
      "source": [
        " layout control in two or three dimensions. While this is an older library, so many libraries are built on top of it and use its syntax. The first thing we have to do is import the libraries we're going to use. The inline flag will use the appropriate back end to make the figures appear inline in the notebook or to utilize the pandas and numpy libraries to manipulate data in a format that's suitable for plotting. We're going to import matplotlib.pyplot as plt and plt is just an alias for the matplotlib.pyplot module. And lastly, we're going to import the seaborn library which is a wrapper for matplotlib as sns. Before we can graph data, we have to have data in a form that's suitable for graphing. So we're first going to import the car loan data into a pandas dataframe. We're next going to look at the first five rows of the dataframe, as this is a good practice. Next, we're going to check to make sure we don't have nans in our dataframe, as it is not easy to directly plot data that contains nans and to do this we're going to use the info method. And as you can see, we have 60 entries in our dataframe, and we have 60 non-null values for each column. In this video we're going to graph month number on the X-axis and interest paid and principal paid on the Y-axis. But to first do that we have to have our data in the form of numpy arrays. And what this code over here does is add my dataframe. I'm using the lock operator. I'm saying I want all the rows and I just want the month column so this is a panda series and I'm turning this panda series into a numpy array by using the values attribute and assigning this entire thing to the month number variable. And similarly I'm doing the same for the interest paid column and the principal paid column. Keep in mind you can also check that the values attribute converts a column of values into a numpy array by using the in-built type function. Once you have data in an appropriate format, you can begin to plot it. In this case, we're going to plot month number on the X-axis and principal paid on the Y-axis. As a reminder, if you don't know what a method does you can always use the in-built help function. Now it is time for our first plot. We're going to do plt.plot and for X-axis we're going to have our month number and for our Y-axis we're going to have our interest paid. And as you can see it is not the prettiest plot. You can also plot another line on the same graph. So before, we only graphed month number and interest paid but we can also graph month number and principal paid. This is also not the prettiest plot. One way to make our plots more aesthetically pleasing is to choose a figure style. We will use plt.style.available to select an appropriate aesthetic style for our figure. The default style is not the most aesthetically pleasing. On this line I'm doing plt.style.available and pressing shift enter to see the different styles I can choose from. The style of classic is very similar to what we've already plotted. However, the 538 style is more aesthetically pleasing. If you're coming from R, you can also use the gg plot style as you can see here. You can also use different styles like tableau-colorblind. You can also use the seaborn style which is a wrapper from matplotlib as you can see here. In this video we've gone over how to use matplotlib.pyplot to make line graphs, and we saw how when you change style, you can make your graphs more aesthetically pleasing."
      ]
    },
    {
      "cell_type": "code",
      "metadata": {
        "id": "_fIivsfM6pJ8",
        "colab_type": "code",
        "colab": {}
      },
      "source": [
        "# The inline flag will use the appropriate backend to make figures appear inline in the notebook.  \n",
        "%matplotlib inline\n",
        "\n",
        "import pandas as pd\n",
        "import numpy as np\n",
        "\n",
        "# `plt` is an alias for the `matplotlib.pyplot` module\n",
        "import matplotlib.pyplot as plt\n",
        "\n",
        "# import seaborn library (wrapper of matplotlib)\n",
        "import seaborn as sns"
      ],
      "execution_count": 0,
      "outputs": []
    },
    {
      "cell_type": "code",
      "metadata": {
        "id": "8L_0aScV66cf",
        "colab_type": "code",
        "colab": {
          "base_uri": "https://localhost:8080/",
          "height": 71
        },
        "outputId": "24a0283b-1852-4d65-e0f6-bce4856ec4c0"
      },
      "source": [
        "from google.colab import drive\n",
        "drive.mount('/content/gdrive')\n",
        "!ls \n",
        "root_path = 'gdrive/My Drive/your_project_folder/'  #change dir to your project folder\n",
        "filename = pd.read_csv('gdrive/My Drive/datavisual/4 Matplotlib/data/table_i702t60.csv')"
      ],
      "execution_count": 3,
      "outputs": [
        {
          "output_type": "stream",
          "text": [
            "Drive already mounted at /content/gdrive; to attempt to forcibly remount, call drive.mount(\"/content/gdrive\", force_remount=True).\n",
            "gdrive\tsample_data\n"
          ],
          "name": "stdout"
        }
      ]
    },
    {
      "cell_type": "markdown",
      "metadata": {
        "id": "K8Fj7UAY6pKD",
        "colab_type": "text"
      },
      "source": [
        "### Load Data"
      ]
    },
    {
      "cell_type": "code",
      "metadata": {
        "id": "zsOVYVYO6pKG",
        "colab_type": "code",
        "colab": {}
      },
      "source": [
        "# Load car loan data into a pandas dataframe from a csv file\n",
        "#filename = 'data/table_i702t60.csv'\n",
        "df = pd.read_csv('gdrive/My Drive/datavisual/4 Matplotlib/data/table_i702t60.csv')"
      ],
      "execution_count": 0,
      "outputs": []
    },
    {
      "cell_type": "code",
      "metadata": {
        "id": "zmFlpYhm6pKL",
        "colab_type": "code",
        "colab": {
          "base_uri": "https://localhost:8080/",
          "height": 308
        },
        "outputId": "94ec93ae-7a06-4e35-b70b-1d69c513d003"
      },
      "source": [
        "# View the first 5 rows of the dataframe\n",
        "df.head()"
      ],
      "execution_count": 7,
      "outputs": [
        {
          "output_type": "execute_result",
          "data": {
            "text/html": [
              "<div>\n",
              "<style scoped>\n",
              "    .dataframe tbody tr th:only-of-type {\n",
              "        vertical-align: middle;\n",
              "    }\n",
              "\n",
              "    .dataframe tbody tr th {\n",
              "        vertical-align: top;\n",
              "    }\n",
              "\n",
              "    .dataframe thead th {\n",
              "        text-align: right;\n",
              "    }\n",
              "</style>\n",
              "<table border=\"1\" class=\"dataframe\">\n",
              "  <thead>\n",
              "    <tr style=\"text-align: right;\">\n",
              "      <th></th>\n",
              "      <th>month</th>\n",
              "      <th>starting_balance</th>\n",
              "      <th>interest_paid</th>\n",
              "      <th>principal_paid</th>\n",
              "      <th>new_balance</th>\n",
              "      <th>interest_rate</th>\n",
              "      <th>car_type</th>\n",
              "    </tr>\n",
              "  </thead>\n",
              "  <tbody>\n",
              "    <tr>\n",
              "      <th>0</th>\n",
              "      <td>1</td>\n",
              "      <td>34689.96</td>\n",
              "      <td>202.93</td>\n",
              "      <td>484.30</td>\n",
              "      <td>34205.66</td>\n",
              "      <td>0.0702</td>\n",
              "      <td>Toyota Sienna</td>\n",
              "    </tr>\n",
              "    <tr>\n",
              "      <th>1</th>\n",
              "      <td>2</td>\n",
              "      <td>34205.66</td>\n",
              "      <td>200.10</td>\n",
              "      <td>487.13</td>\n",
              "      <td>33718.53</td>\n",
              "      <td>0.0702</td>\n",
              "      <td>Toyota Sienna</td>\n",
              "    </tr>\n",
              "    <tr>\n",
              "      <th>2</th>\n",
              "      <td>3</td>\n",
              "      <td>33718.53</td>\n",
              "      <td>197.25</td>\n",
              "      <td>489.98</td>\n",
              "      <td>33228.55</td>\n",
              "      <td>0.0702</td>\n",
              "      <td>Toyota Sienna</td>\n",
              "    </tr>\n",
              "    <tr>\n",
              "      <th>3</th>\n",
              "      <td>4</td>\n",
              "      <td>33228.55</td>\n",
              "      <td>194.38</td>\n",
              "      <td>492.85</td>\n",
              "      <td>32735.70</td>\n",
              "      <td>0.0702</td>\n",
              "      <td>Toyota Sienna</td>\n",
              "    </tr>\n",
              "    <tr>\n",
              "      <th>4</th>\n",
              "      <td>5</td>\n",
              "      <td>32735.70</td>\n",
              "      <td>191.50</td>\n",
              "      <td>495.73</td>\n",
              "      <td>32239.97</td>\n",
              "      <td>0.0702</td>\n",
              "      <td>Toyota Sienna</td>\n",
              "    </tr>\n",
              "  </tbody>\n",
              "</table>\n",
              "</div>"
            ],
            "text/plain": [
              "   month  starting_balance  ...  interest_rate       car_type\n",
              "0      1          34689.96  ...         0.0702  Toyota Sienna\n",
              "1      2          34205.66  ...         0.0702  Toyota Sienna\n",
              "2      3          33718.53  ...         0.0702  Toyota Sienna\n",
              "3      4          33228.55  ...         0.0702  Toyota Sienna\n",
              "4      5          32735.70  ...         0.0702  Toyota Sienna\n",
              "\n",
              "[5 rows x 7 columns]"
            ]
          },
          "metadata": {
            "tags": []
          },
          "execution_count": 7
        }
      ]
    },
    {
      "cell_type": "code",
      "metadata": {
        "id": "o4roNRRM6pKR",
        "colab_type": "code",
        "colab": {
          "base_uri": "https://localhost:8080/",
          "height": 225
        },
        "outputId": "6ebe4ec4-3699-425a-dc6c-c22cad181030"
      },
      "source": [
        "# Checking to make sure we dont have nans in our dataframe\n",
        "# It is not easy to directly plot data that contains nans\n",
        "df.info()"
      ],
      "execution_count": 8,
      "outputs": [
        {
          "output_type": "stream",
          "text": [
            "<class 'pandas.core.frame.DataFrame'>\n",
            "RangeIndex: 60 entries, 0 to 59\n",
            "Data columns (total 7 columns):\n",
            "month               60 non-null int64\n",
            "starting_balance    60 non-null float64\n",
            "interest_paid       60 non-null float64\n",
            "principal_paid      60 non-null float64\n",
            "new_balance         60 non-null float64\n",
            "interest_rate       60 non-null float64\n",
            "car_type            60 non-null object\n",
            "dtypes: float64(5), int64(1), object(1)\n",
            "memory usage: 3.4+ KB\n"
          ],
          "name": "stdout"
        }
      ]
    },
    {
      "cell_type": "code",
      "metadata": {
        "id": "1TSmxDDS6pKX",
        "colab_type": "code",
        "colab": {}
      },
      "source": [
        "month_number = df.loc[:, 'month'].values\n",
        "interest_paid = df.loc[:, 'interest_paid'].values\n",
        "principal_paid = df.loc[:, 'principal_paid'].values"
      ],
      "execution_count": 0,
      "outputs": []
    },
    {
      "cell_type": "code",
      "metadata": {
        "id": "GHgz3RGy6pKh",
        "colab_type": "code",
        "colab": {
          "base_uri": "https://localhost:8080/",
          "height": 86
        },
        "outputId": "697e9bde-2078-4e68-9f33-092c1eedc05b"
      },
      "source": [
        "month_number"
      ],
      "execution_count": 10,
      "outputs": [
        {
          "output_type": "execute_result",
          "data": {
            "text/plain": [
              "array([ 1,  2,  3,  4,  5,  6,  7,  8,  9, 10, 11, 12, 13, 14, 15, 16, 17,\n",
              "       18, 19, 20, 21, 22, 23, 24, 25, 26, 27, 28, 29, 30, 31, 32, 33, 34,\n",
              "       35, 36, 37, 38, 39, 40, 41, 42, 43, 44, 45, 46, 47, 48, 49, 50, 51,\n",
              "       52, 53, 54, 55, 56, 57, 58, 59, 60])"
            ]
          },
          "metadata": {
            "tags": []
          },
          "execution_count": 10
        }
      ]
    },
    {
      "cell_type": "code",
      "metadata": {
        "id": "ZlPSgNpL6pKr",
        "colab_type": "code",
        "colab": {
          "base_uri": "https://localhost:8080/",
          "height": 34
        },
        "outputId": "03f72476-cae4-45ad-94c6-5dde9f9894ad"
      },
      "source": [
        "# The values attribute converts a column of values into a numpy array\n",
        "type(month_number)"
      ],
      "execution_count": 11,
      "outputs": [
        {
          "output_type": "execute_result",
          "data": {
            "text/plain": [
              "numpy.ndarray"
            ]
          },
          "metadata": {
            "tags": []
          },
          "execution_count": 11
        }
      ]
    },
    {
      "cell_type": "markdown",
      "metadata": {
        "id": "6ONQLa5r6pKz",
        "colab_type": "text"
      },
      "source": [
        "###  `plot` method\n",
        "Plotting month_number on the x axis and principal paid on the y axis. As a reminder, if you dont know what a method accepts, you can use the in built-in function `help`"
      ]
    },
    {
      "cell_type": "code",
      "metadata": {
        "id": "k3IwTeE_6pK1",
        "colab_type": "code",
        "colab": {
          "base_uri": "https://localhost:8080/",
          "height": 1000
        },
        "outputId": "02e54cba-c3d0-4fde-a755-6eb95f85f214"
      },
      "source": [
        "help(plt.plot)"
      ],
      "execution_count": 12,
      "outputs": [
        {
          "output_type": "stream",
          "text": [
            "Help on function plot in module matplotlib.pyplot:\n",
            "\n",
            "plot(*args, scalex=True, scaley=True, data=None, **kwargs)\n",
            "    Plot y versus x as lines and/or markers.\n",
            "    \n",
            "    Call signatures::\n",
            "    \n",
            "        plot([x], y, [fmt], *, data=None, **kwargs)\n",
            "        plot([x], y, [fmt], [x2], y2, [fmt2], ..., **kwargs)\n",
            "    \n",
            "    The coordinates of the points or line nodes are given by *x*, *y*.\n",
            "    \n",
            "    The optional parameter *fmt* is a convenient way for defining basic\n",
            "    formatting like color, marker and linestyle. It's a shortcut string\n",
            "    notation described in the *Notes* section below.\n",
            "    \n",
            "    >>> plot(x, y)        # plot x and y using default line style and color\n",
            "    >>> plot(x, y, 'bo')  # plot x and y using blue circle markers\n",
            "    >>> plot(y)           # plot y using x as index array 0..N-1\n",
            "    >>> plot(y, 'r+')     # ditto, but with red plusses\n",
            "    \n",
            "    You can use `.Line2D` properties as keyword arguments for more\n",
            "    control on the appearance. Line properties and *fmt* can be mixed.\n",
            "    The following two calls yield identical results:\n",
            "    \n",
            "    >>> plot(x, y, 'go--', linewidth=2, markersize=12)\n",
            "    >>> plot(x, y, color='green', marker='o', linestyle='dashed',\n",
            "    ...      linewidth=2, markersize=12)\n",
            "    \n",
            "    When conflicting with *fmt*, keyword arguments take precedence.\n",
            "    \n",
            "    \n",
            "    **Plotting labelled data**\n",
            "    \n",
            "    There's a convenient way for plotting objects with labelled data (i.e.\n",
            "    data that can be accessed by index ``obj['y']``). Instead of giving\n",
            "    the data in *x* and *y*, you can provide the object in the *data*\n",
            "    parameter and just give the labels for *x* and *y*::\n",
            "    \n",
            "    >>> plot('xlabel', 'ylabel', data=obj)\n",
            "    \n",
            "    All indexable objects are supported. This could e.g. be a `dict`, a\n",
            "    `pandas.DataFame` or a structured numpy array.\n",
            "    \n",
            "    \n",
            "    **Plotting multiple sets of data**\n",
            "    \n",
            "    There are various ways to plot multiple sets of data.\n",
            "    \n",
            "    - The most straight forward way is just to call `plot` multiple times.\n",
            "      Example:\n",
            "    \n",
            "      >>> plot(x1, y1, 'bo')\n",
            "      >>> plot(x2, y2, 'go')\n",
            "    \n",
            "    - Alternatively, if your data is already a 2d array, you can pass it\n",
            "      directly to *x*, *y*. A separate data set will be drawn for every\n",
            "      column.\n",
            "    \n",
            "      Example: an array ``a`` where the first column represents the *x*\n",
            "      values and the other columns are the *y* columns::\n",
            "    \n",
            "      >>> plot(a[0], a[1:])\n",
            "    \n",
            "    - The third way is to specify multiple sets of *[x]*, *y*, *[fmt]*\n",
            "      groups::\n",
            "    \n",
            "      >>> plot(x1, y1, 'g^', x2, y2, 'g-')\n",
            "    \n",
            "      In this case, any additional keyword argument applies to all\n",
            "      datasets. Also this syntax cannot be combined with the *data*\n",
            "      parameter.\n",
            "    \n",
            "    By default, each line is assigned a different style specified by a\n",
            "    'style cycle'. The *fmt* and line property parameters are only\n",
            "    necessary if you want explicit deviations from these defaults.\n",
            "    Alternatively, you can also change the style cycle using the\n",
            "    'axes.prop_cycle' rcParam.\n",
            "    \n",
            "    \n",
            "    Parameters\n",
            "    ----------\n",
            "    x, y : array-like or scalar\n",
            "        The horizontal / vertical coordinates of the data points.\n",
            "        *x* values are optional and default to `range(len(y))`.\n",
            "    \n",
            "        Commonly, these parameters are 1D arrays.\n",
            "    \n",
            "        They can also be scalars, or two-dimensional (in that case, the\n",
            "        columns represent separate data sets).\n",
            "    \n",
            "        These arguments cannot be passed as keywords.\n",
            "    \n",
            "    fmt : str, optional\n",
            "        A format string, e.g. 'ro' for red circles. See the *Notes*\n",
            "        section for a full description of the format strings.\n",
            "    \n",
            "        Format strings are just an abbreviation for quickly setting\n",
            "        basic line properties. All of these and more can also be\n",
            "        controlled by keyword arguments.\n",
            "    \n",
            "        This argument cannot be passed as keyword.\n",
            "    \n",
            "    data : indexable object, optional\n",
            "        An object with labelled data. If given, provide the label names to\n",
            "        plot in *x* and *y*.\n",
            "    \n",
            "        .. note::\n",
            "            Technically there's a slight ambiguity in calls where the\n",
            "            second label is a valid *fmt*. `plot('n', 'o', data=obj)`\n",
            "            could be `plt(x, y)` or `plt(y, fmt)`. In such cases,\n",
            "            the former interpretation is chosen, but a warning is issued.\n",
            "            You may suppress the warning by adding an empty format string\n",
            "            `plot('n', 'o', '', data=obj)`.\n",
            "    \n",
            "    Other Parameters\n",
            "    ----------------\n",
            "    scalex, scaley : bool, optional, default: True\n",
            "        These parameters determined if the view limits are adapted to\n",
            "        the data limits. The values are passed on to `autoscale_view`.\n",
            "    \n",
            "    **kwargs : `.Line2D` properties, optional\n",
            "        *kwargs* are used to specify properties like a line label (for\n",
            "        auto legends), linewidth, antialiasing, marker face color.\n",
            "        Example::\n",
            "    \n",
            "        >>> plot([1,2,3], [1,2,3], 'go-', label='line 1', linewidth=2)\n",
            "        >>> plot([1,2,3], [1,4,9], 'rs',  label='line 2')\n",
            "    \n",
            "        If you make multiple lines with one plot command, the kwargs\n",
            "        apply to all those lines.\n",
            "    \n",
            "        Here is a list of available `.Line2D` properties:\n",
            "    \n",
            "      agg_filter: a filter function, which takes a (m, n, 3) float array and a dpi value, and returns a (m, n, 3) array\n",
            "      alpha: float\n",
            "      animated: bool\n",
            "      antialiased or aa: bool\n",
            "      clip_box: `.Bbox`\n",
            "      clip_on: bool\n",
            "      clip_path: [(`~matplotlib.path.Path`, `.Transform`) | `.Patch` | None]\n",
            "      color or c: color\n",
            "      contains: callable\n",
            "      dash_capstyle: {'butt', 'round', 'projecting'}\n",
            "      dash_joinstyle: {'miter', 'round', 'bevel'}\n",
            "      dashes: sequence of floats (on/off ink in points) or (None, None)\n",
            "      drawstyle or ds: {'default', 'steps', 'steps-pre', 'steps-mid', 'steps-post'}, default: 'default'\n",
            "      figure: `.Figure`\n",
            "      fillstyle: {'full', 'left', 'right', 'bottom', 'top', 'none'}\n",
            "      gid: str\n",
            "      in_layout: bool\n",
            "      label: object\n",
            "      linestyle or ls: {'-', '--', '-.', ':', '', (offset, on-off-seq), ...}\n",
            "      linewidth or lw: float\n",
            "      marker: marker style\n",
            "      markeredgecolor or mec: color\n",
            "      markeredgewidth or mew: float\n",
            "      markerfacecolor or mfc: color\n",
            "      markerfacecoloralt or mfcalt: color\n",
            "      markersize or ms: float\n",
            "      markevery: None or int or (int, int) or slice or List[int] or float or (float, float)\n",
            "      path_effects: `.AbstractPathEffect`\n",
            "      picker: float or callable[[Artist, Event], Tuple[bool, dict]]\n",
            "      pickradius: float\n",
            "      rasterized: bool or None\n",
            "      sketch_params: (scale: float, length: float, randomness: float)\n",
            "      snap: bool or None\n",
            "      solid_capstyle: {'butt', 'round', 'projecting'}\n",
            "      solid_joinstyle: {'miter', 'round', 'bevel'}\n",
            "      transform: `matplotlib.transforms.Transform`\n",
            "      url: str\n",
            "      visible: bool\n",
            "      xdata: 1D array\n",
            "      ydata: 1D array\n",
            "      zorder: float\n",
            "    \n",
            "    Returns\n",
            "    -------\n",
            "    lines\n",
            "        A list of `.Line2D` objects representing the plotted data.\n",
            "    \n",
            "    See Also\n",
            "    --------\n",
            "    scatter : XY scatter plot with markers of varying size and/or color (\n",
            "        sometimes also called bubble chart).\n",
            "    \n",
            "    Notes\n",
            "    -----\n",
            "    **Format Strings**\n",
            "    \n",
            "    A format string consists of a part for color, marker and line::\n",
            "    \n",
            "        fmt = '[marker][line][color]'\n",
            "    \n",
            "    Each of them is optional. If not provided, the value from the style\n",
            "    cycle is used. Exception: If ``line`` is given, but no ``marker``,\n",
            "    the data will be a line without markers.\n",
            "    \n",
            "    Other combinations such as ``[color][marker][line]`` are also\n",
            "    supported, but note that their parsing may be ambiguous.\n",
            "    \n",
            "    **Markers**\n",
            "    \n",
            "    =============    ===============================\n",
            "    character        description\n",
            "    =============    ===============================\n",
            "    ``'.'``          point marker\n",
            "    ``','``          pixel marker\n",
            "    ``'o'``          circle marker\n",
            "    ``'v'``          triangle_down marker\n",
            "    ``'^'``          triangle_up marker\n",
            "    ``'<'``          triangle_left marker\n",
            "    ``'>'``          triangle_right marker\n",
            "    ``'1'``          tri_down marker\n",
            "    ``'2'``          tri_up marker\n",
            "    ``'3'``          tri_left marker\n",
            "    ``'4'``          tri_right marker\n",
            "    ``'s'``          square marker\n",
            "    ``'p'``          pentagon marker\n",
            "    ``'*'``          star marker\n",
            "    ``'h'``          hexagon1 marker\n",
            "    ``'H'``          hexagon2 marker\n",
            "    ``'+'``          plus marker\n",
            "    ``'x'``          x marker\n",
            "    ``'D'``          diamond marker\n",
            "    ``'d'``          thin_diamond marker\n",
            "    ``'|'``          vline marker\n",
            "    ``'_'``          hline marker\n",
            "    =============    ===============================\n",
            "    \n",
            "    **Line Styles**\n",
            "    \n",
            "    =============    ===============================\n",
            "    character        description\n",
            "    =============    ===============================\n",
            "    ``'-'``          solid line style\n",
            "    ``'--'``         dashed line style\n",
            "    ``'-.'``         dash-dot line style\n",
            "    ``':'``          dotted line style\n",
            "    =============    ===============================\n",
            "    \n",
            "    Example format strings::\n",
            "    \n",
            "        'b'    # blue markers with default shape\n",
            "        'or'   # red circles\n",
            "        '-g'   # green solid line\n",
            "        '--'   # dashed line with default color\n",
            "        '^k:'  # black triangle_up markers connected by a dotted line\n",
            "    \n",
            "    **Colors**\n",
            "    \n",
            "    The supported color abbreviations are the single letter codes\n",
            "    \n",
            "    =============    ===============================\n",
            "    character        color\n",
            "    =============    ===============================\n",
            "    ``'b'``          blue\n",
            "    ``'g'``          green\n",
            "    ``'r'``          red\n",
            "    ``'c'``          cyan\n",
            "    ``'m'``          magenta\n",
            "    ``'y'``          yellow\n",
            "    ``'k'``          black\n",
            "    ``'w'``          white\n",
            "    =============    ===============================\n",
            "    \n",
            "    and the ``'CN'`` colors that index into the default property cycle.\n",
            "    \n",
            "    If the color is the only part of the format string, you can\n",
            "    additionally use any  `matplotlib.colors` spec, e.g. full names\n",
            "    (``'green'``) or hex strings (``'#008000'``).\n",
            "\n"
          ],
          "name": "stdout"
        }
      ]
    },
    {
      "cell_type": "code",
      "metadata": {
        "id": "9ZqDCBSI6pK-",
        "colab_type": "code",
        "colab": {
          "base_uri": "https://localhost:8080/",
          "height": 282
        },
        "outputId": "9f1b5e1c-6e81-4073-c172-cceda8a0120a"
      },
      "source": [
        "# Not the prettiest plot\n",
        "plt.plot(month_number, interest_paid)"
      ],
      "execution_count": 13,
      "outputs": [
        {
          "output_type": "execute_result",
          "data": {
            "text/plain": [
              "[<matplotlib.lines.Line2D at 0x7f40818b0908>]"
            ]
          },
          "metadata": {
            "tags": []
          },
          "execution_count": 13
        },
        {
          "output_type": "display_data",
          "data": {
            "image/png": "[encoded data removed]",
            "text/plain": [
              "<Figure size 432x288 with 1 Axes>"
            ]
          },
          "metadata": {
            "tags": []
          }
        }
      ]
    },
    {
      "cell_type": "code",
      "metadata": {
        "id": "PV6aH8ol6pLE",
        "colab_type": "code",
        "colab": {
          "base_uri": "https://localhost:8080/",
          "height": 282
        },
        "outputId": "dd5298ba-4fdf-4bf3-a13f-777f18a160de"
      },
      "source": [
        "# You can also plot another line on the same graph\n",
        "plt.plot(month_number, interest_paid)\n",
        "plt.plot(month_number, principal_paid)"
      ],
      "execution_count": 14,
      "outputs": [
        {
          "output_type": "execute_result",
          "data": {
            "text/plain": [
              "[<matplotlib.lines.Line2D at 0x7f40818b0dd8>]"
            ]
          },
          "metadata": {
            "tags": []
          },
          "execution_count": 14
        },
        {
          "output_type": "display_data",
          "data": {
            "image/png": "[encoded data removed]",
            "text/plain": [
              "<Figure size 432x288 with 1 Axes>"
            ]
          },
          "metadata": {
            "tags": []
          }
        }
      ]
    },
    {
      "cell_type": "markdown",
      "metadata": {
        "id": "y4RCj-k_6pLM",
        "colab_type": "text"
      },
      "source": [
        "### Choose Figure Style\n",
        "We will use `plt.style.available` to select an appropriate aesthetic styles for our figures. \n",
        "\n",
        "The default style is not the most aesthetically pleasing."
      ]
    },
    {
      "cell_type": "code",
      "metadata": {
        "id": "h2AQL_yN6pLO",
        "colab_type": "code",
        "colab": {
          "base_uri": "https://localhost:8080/",
          "height": 467
        },
        "outputId": "5da218fd-4f0c-4d78-96e4-a21ede738c73"
      },
      "source": [
        "# Our style choices\n",
        "plt.style.available"
      ],
      "execution_count": 15,
      "outputs": [
        {
          "output_type": "execute_result",
          "data": {
            "text/plain": [
              "['tableau-colorblind10',\n",
              " 'seaborn-muted',\n",
              " 'seaborn',\n",
              " 'dark_background',\n",
              " 'grayscale',\n",
              " 'seaborn-paper',\n",
              " 'seaborn-ticks',\n",
              " 'classic',\n",
              " 'seaborn-white',\n",
              " 'seaborn-bright',\n",
              " '_classic_test',\n",
              " 'seaborn-pastel',\n",
              " 'seaborn-poster',\n",
              " 'bmh',\n",
              " 'seaborn-darkgrid',\n",
              " 'seaborn-notebook',\n",
              " 'seaborn-dark',\n",
              " 'seaborn-dark-palette',\n",
              " 'fivethirtyeight',\n",
              " 'seaborn-deep',\n",
              " 'Solarize_Light2',\n",
              " 'fast',\n",
              " 'seaborn-colorblind',\n",
              " 'seaborn-talk',\n",
              " 'ggplot',\n",
              " 'seaborn-whitegrid']"
            ]
          },
          "metadata": {
            "tags": []
          },
          "execution_count": 15
        }
      ]
    },
    {
      "cell_type": "code",
      "metadata": {
        "id": "wwQ6BE396pLV",
        "colab_type": "code",
        "colab": {
          "base_uri": "https://localhost:8080/",
          "height": 457
        },
        "outputId": "d5c8c413-4605-45e0-d317-08cced09fc61"
      },
      "source": [
        "# We are currently using default plot \n",
        "# so this will not change much about our plot\n",
        "plt.style.use('classic')\n",
        "\n",
        "plt.plot(month_number, interest_paid)\n",
        "plt.plot(month_number, principal_paid)"
      ],
      "execution_count": 16,
      "outputs": [
        {
          "output_type": "execute_result",
          "data": {
            "text/plain": [
              "[<matplotlib.lines.Line2D at 0x7f408143bef0>]"
            ]
          },
          "metadata": {
            "tags": []
          },
          "execution_count": 16
        },
        {
          "output_type": "display_data",
          "data": {
            "image/png": "[encoded data removed]",
            "text/plain": [
              "<Figure size 640x480 with 1 Axes>"
            ]
          },
          "metadata": {
            "tags": []
          }
        }
      ]
    },
    {
      "cell_type": "code",
      "metadata": {
        "id": "IZZgVd1V6pLd",
        "colab_type": "code",
        "colab": {
          "base_uri": "https://localhost:8080/",
          "height": 475
        },
        "outputId": "95f1d625-c86b-4097-a6e4-3b4ebf8c06e2"
      },
      "source": [
        "plt.style.use('fivethirtyeight')\n",
        "\n",
        "plt.plot(month_number, interest_paid)\n",
        "plt.plot(month_number, principal_paid)"
      ],
      "execution_count": 17,
      "outputs": [
        {
          "output_type": "execute_result",
          "data": {
            "text/plain": [
              "[<matplotlib.lines.Line2D at 0x7f408199cd30>]"
            ]
          },
          "metadata": {
            "tags": []
          },
          "execution_count": 17
        },
        {
          "output_type": "display_data",
          "data": {
            "image/png": "[encoded data removed]",
            "text/plain": [
              "<Figure size 640x480 with 1 Axes>"
            ]
          },
          "metadata": {
            "tags": []
          }
        }
      ]
    },
    {
      "cell_type": "code",
      "metadata": {
        "id": "5ue6-E5f6pLj",
        "colab_type": "code",
        "colab": {
          "base_uri": "https://localhost:8080/",
          "height": 467
        },
        "outputId": "ec810aab-ab34-45a8-eaa3-92d30535313a"
      },
      "source": [
        "plt.style.use('ggplot')\n",
        "\n",
        "plt.plot(month_number, interest_paid)\n",
        "plt.plot(month_number, principal_paid)"
      ],
      "execution_count": 18,
      "outputs": [
        {
          "output_type": "execute_result",
          "data": {
            "text/plain": [
              "[<matplotlib.lines.Line2D at 0x7f4081344630>]"
            ]
          },
          "metadata": {
            "tags": []
          },
          "execution_count": 18
        },
        {
          "output_type": "display_data",
          "data": {
            "image/png": "[encoded data removed]",
            "text/plain": [
              "<Figure size 640x480 with 1 Axes>"
            ]
          },
          "metadata": {
            "tags": []
          }
        }
      ]
    },
    {
      "cell_type": "code",
      "metadata": {
        "scrolled": true,
        "id": "4BMcLE386pLt",
        "colab_type": "code",
        "colab": {
          "base_uri": "https://localhost:8080/",
          "height": 467
        },
        "outputId": "4578c5d6-c095-4146-be75-1d8ad01e37d2"
      },
      "source": [
        "plt.style.use('tableau-colorblind10')\n",
        "\n",
        "plt.plot(month_number, interest_paid)\n",
        "plt.plot(month_number, principal_paid)"
      ],
      "execution_count": 19,
      "outputs": [
        {
          "output_type": "execute_result",
          "data": {
            "text/plain": [
              "[<matplotlib.lines.Line2D at 0x7f40812ba630>]"
            ]
          },
          "metadata": {
            "tags": []
          },
          "execution_count": 19
        },
        {
          "output_type": "display_data",
          "data": {
            "image/png": "[encoded data removed]",
            "text/plain": [
              "<Figure size 640x480 with 1 Axes>"
            ]
          },
          "metadata": {
            "tags": []
          }
        }
      ]
    },
    {
      "cell_type": "code",
      "metadata": {
        "id": "Wmtk8VnY6pLz",
        "colab_type": "code",
        "colab": {
          "base_uri": "https://localhost:8080/",
          "height": 437
        },
        "outputId": "36689f53-0bcf-468c-c42a-0d61e2eb1698"
      },
      "source": [
        "plt.style.use('seaborn')\n",
        "\n",
        "plt.plot(month_number, interest_paid)\n",
        "plt.plot(month_number, principal_paid)"
      ],
      "execution_count": 20,
      "outputs": [
        {
          "output_type": "execute_result",
          "data": {
            "text/plain": [
              "[<matplotlib.lines.Line2D at 0x7f4081344ef0>]"
            ]
          },
          "metadata": {
            "tags": []
          },
          "execution_count": 20
        },
        {
          "output_type": "display_data",
          "data": {
            "image/png": "[encoded data removed]",
            "text/plain": [
              "<Figure size 640x440 with 1 Axes>"
            ]
          },
          "metadata": {
            "tags": []
          }
        }
      ]
    },
    {
      "cell_type": "code",
      "metadata": {
        "id": "ul3AsmYd6pL5",
        "colab_type": "code",
        "colab": {}
      },
      "source": [
        ""
      ],
      "execution_count": 0,
      "outputs": []
    },
    {
      "cell_type": "code",
      "metadata": {
        "id": "WTIJmRMR6pMA",
        "colab_type": "code",
        "colab": {}
      },
      "source": [
        ""
      ],
      "execution_count": 0,
      "outputs": []
    }
  ]
}