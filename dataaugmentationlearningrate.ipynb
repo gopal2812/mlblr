{
  "nbformat": 4,
  "nbformat_minor": 0,
  "metadata": {
    "colab": {
      "name": "Untitled1.ipynb",
      "version": "0.3.2",
      "provenance": [],
      "collapsed_sections": []
    },
    "kernelspec": {
      "name": "python3",
      "display_name": "Python 3"
    },
    "accelerator": "GPU"
  },
  "cells": [
    {
      "cell_type": "markdown",
      "metadata": {
        "id": "view-in-github",
        "colab_type": "text"
      },
      "source": [
        "[View in Colaboratory](https://colab.research.google.com/github/gopal2812/mlblr/blob/master/dataaugmentationlearningrate.ipynb)"
      ]
    },
    {
      "metadata": {
        "id": "BmmCFW8gxeDf",
        "colab_type": "code",
        "colab": {
          "base_uri": "https://localhost:8080/",
          "height": 7948
        },
        "outputId": "418a183d-6f82-4f10-bba3-edc111242c0b"
      },
      "cell_type": "code",
      "source": [
        "!pip install -q keras\n",
        "import keras\n",
        "\n",
        "import keras\n",
        "from keras.datasets import cifar10\n",
        "from keras.models import Model, Sequential\n",
        "from keras.layers import Dense, Dropout, Flatten, Input, AveragePooling2D, merge, Activation\n",
        "from keras.layers import Conv2D, MaxPooling2D, BatchNormalization\n",
        "from keras.layers import Concatenate\n",
        "from keras.optimizers import Adam\n",
        "from keras.callbacks import LearningRateScheduler\n",
        "from keras import regularizers\n",
        "from keras.preprocessing.image import ImageDataGenerator\n",
        "import matplotlib.pyplot as plt\n",
        "\n",
        "# this part will prevent tensorflow to allocate all the avaliable GPU Memory\n",
        "# backend\n",
        "import tensorflow as tf\n",
        "from keras import backend as k\n",
        "\n",
        "# Don't pre-allocate memory; allocate as-needed\n",
        "config = tf.ConfigProto()\n",
        "config.gpu_options.allow_growth = True\n",
        "\n",
        "# Create a session with the above options specified.\n",
        "k.tensorflow_backend.set_session(tf.Session(config=config))\n",
        "\n",
        "batch_size = 128\n",
        "num_classes = 10\n",
        "epochs = 50\n",
        "l = 24\n",
        "num_filter = 64\n",
        "compression = 0.5\n",
        "dropout_rate = 0.5\n",
        "\n",
        "(x_train, y_train), (x_test, y_test) = cifar10.load_data()\n",
        "img_height, img_width, channel = x_train.shape[1],x_train.shape[2],x_train.shape[3]\n",
        "\n",
        "# convert to one hot encoing \n",
        "y_train = keras.utils.to_categorical(y_train, num_classes)\n",
        "y_test = keras.utils.to_categorical(y_test, num_classes)\n",
        "\n",
        "\n",
        "def lr_schedule(epoch):\n",
        "    lrate = 0.001\n",
        "    if epoch > 30:\n",
        "        lrate = 0.0005\n",
        "    elif epoch > 40:\n",
        "        lrate = 0.0003        \n",
        "    return lrate\n",
        "\n",
        "# Dense Block\n",
        "def add_denseblock(input, num_filter = 12, dropout_rate = 0.2):\n",
        "    global compression\n",
        "    temp = input\n",
        "    for _ in range(l):\n",
        "        BatchNorm = BatchNormalization()(temp)\n",
        "        relu = Activation('relu')(BatchNorm)\n",
        "        Conv2D_3_3 = Conv2D(int(num_filter*compression), (3,3), use_bias=False ,padding='same')(relu)\n",
        "        if dropout_rate>0:\n",
        "          Conv2D_3_3 = Dropout(dropout_rate)(Conv2D_3_3)\n",
        "        concat = Concatenate(axis=-1)([temp,Conv2D_3_3])\n",
        "        \n",
        "        temp = concat\n",
        "        \n",
        "    return temp\n",
        "  \n",
        "def add_transition(input, num_filter = 12, dropout_rate = 0.2):\n",
        "    global compression\n",
        "    BatchNorm = BatchNormalization()(input)\n",
        "    relu = Activation('relu')(BatchNorm)\n",
        "    Conv2D_BottleNeck = Conv2D(int(num_filter*compression), (1,1), use_bias=False ,padding='same')(relu)\n",
        "    if dropout_rate>0:\n",
        "      Conv2D_BottleNeck = Dropout(dropout_rate)(Conv2D_BottleNeck)\n",
        "    avg = AveragePooling2D(pool_size=(2,2))(Conv2D_BottleNeck)\n",
        "    \n",
        "    return avg\n",
        "  \n",
        "def output_layer(input):\n",
        "    global compression\n",
        "    BatchNorm = BatchNormalization()(input)\n",
        "    relu = Activation('relu')(BatchNorm)\n",
        "    AvgPooling = AveragePooling2D(pool_size=(2,2))(relu)\n",
        "    flat = Flatten()(AvgPooling)\n",
        "    output = Dense(num_classes, activation='softmax')(flat)\n",
        "    \n",
        "    return output\n",
        "  \n",
        "num_filter = 64\n",
        "dropout_rate = 0.2\n",
        "l = 6\n",
        "input = Input(shape=(img_height, img_width, channel,))\n",
        "First_Conv2D = Conv2D(num_filter, (3,3), use_bias=False ,padding='same')(input)\n",
        "\n",
        "First_Block = add_denseblock(First_Conv2D, num_filter, dropout_rate)\n",
        "First_Transition = add_transition(First_Block, num_filter, dropout_rate)\n",
        "\n",
        "Second_Block = add_denseblock(First_Transition, num_filter, dropout_rate)\n",
        "Second_Transition = add_transition(Second_Block, num_filter, dropout_rate)\n",
        "\n",
        "Third_Block = add_denseblock(Second_Transition, num_filter, dropout_rate)\n",
        "Third_Transition = add_transition(Third_Block, num_filter, dropout_rate)\n",
        "\n",
        "Last_Block = add_denseblock(Third_Transition,  num_filter, dropout_rate)\n",
        "output = output_layer(Last_Block)\n",
        "\n",
        "model = Model(inputs=[input], outputs=[output])\n",
        "model.summary()\n",
        "\n",
        "\n",
        "opt_rms = keras.optimizers.rmsprop(lr=0.001,decay=1e-6)\n",
        "model.compile(loss='categorical_crossentropy', optimizer=opt_rms, metrics=['accuracy'])\n",
        "\n",
        "#model.compile(loss='categorical_crossentropy',\n",
        "#              optimizer=Adam(),\n",
        "#              metrics=['accuracy'])\n",
        "\n",
        "\n",
        "#datagen = ImageDataGenerator(\n",
        "#         rotation_range=10,\n",
        "#         width_shift_range=.2,\n",
        "#         height_shift_range=.2,\n",
        "#         shear_range=0.,\n",
        "         #rescale=1./255,\n",
        "         #zoom_range=[.8, 1],\n",
        "#         channel_shift_range=20,\n",
        "#         fill_mode='nearest',\n",
        "#         horizontal_flip=True,\n",
        "#         vertical_flip=True,\n",
        "#        rescale=None\n",
        "#        )\n",
        " \n",
        "\n",
        "#data augmentation\n",
        "datagen = ImageDataGenerator(\n",
        "    rotation_range=15,\n",
        "    width_shift_range=0.1,\n",
        "    height_shift_range=0.1,\n",
        "    horizontal_flip=True,\n",
        "    )\n",
        "datagen.fit(x_train)\n",
        "#         zoom_range=0.2, # randomly zoom into images\n",
        "#         rotation_range=10,  # randomly rotate images in the range (degrees, 0 to 180)\n",
        "#        width_shift_range=0.1,  # randomly shift images horizontally (fraction of total width)\n",
        "#        height_shift_range=0.1,  # randomly shift images vertically (fraction of total height)\n",
        "#        horizontal_flip=True,  # randomly flip images\n",
        "#        vertical_flip=False)  # randomly flip images\n",
        " \n",
        "# Fit the model on the batches generated by datagen.flow().\n",
        "\n",
        "history = model.fit_generator(datagen.flow(x_train, y_train, batch_size=batch_size),\n",
        "                               epochs=epochs,verbose=1,\n",
        "                               steps_per_epoch=x_train.shape[0] // batch_size,\n",
        "                               validation_data=(x_test, y_test),\n",
        "                               workers=4, callbacks=[LearningRateScheduler(lr_schedule)])\n",
        " \n",
        "\n",
        "#history= model.fit(x_train, y_train,\n",
        "#                    batch_size=batch_size,\n",
        "#                    epochs=epochs,\n",
        "#                    verbose=1,\n",
        "#                    validation_data=(x_test, y_test))\n",
        "\n",
        "score = model.evaluate(x_test, y_test, verbose=1)\n",
        "print('Test loss:', score[0])\n",
        "print('Test accuracy:', score[1])\n",
        "\n",
        "# Loss Curves\n",
        "plt.figure(figsize=[8,6])\n",
        "plt.plot(history.history['loss'],'r',linewidth=3.0)\n",
        "plt.plot(history.history['val_loss'],'b',linewidth=3.0)\n",
        "plt.legend(['Training loss', 'Validation Loss'],fontsize=18)\n",
        "plt.xlabel('Epochs ',fontsize=16)\n",
        "plt.ylabel('Loss',fontsize=16)\n",
        "plt.title('Loss Curves',fontsize=16)\n",
        " \n",
        "# Accuracy Curves\n",
        "plt.figure(figsize=[8,6])\n",
        "plt.plot(history.history['acc'],'r',linewidth=3.0)\n",
        "plt.plot(history.history['val_acc'],'b',linewidth=3.0)\n",
        "plt.legend(['Training Accuracy', 'Validation Accuracy'],fontsize=18)\n",
        "plt.xlabel('Epochs ',fontsize=16)\n",
        "plt.ylabel('Accuracy',fontsize=16)\n",
        "plt.title('Accuracy Curves',fontsize=16)"
      ],
      "execution_count": 4,
      "outputs": [
        {
          "output_type": "stream",
          "text": [
            "__________________________________________________________________________________________________\n",
            "Layer (type)                    Output Shape         Param #     Connected to                     \n",
            "==================================================================================================\n",
            "input_3 (InputLayer)            (None, 32, 32, 3)    0                                            \n",
            "__________________________________________________________________________________________________\n",
            "conv2d_57 (Conv2D)              (None, 32, 32, 64)   1728        input_3[0][0]                    \n",
            "__________________________________________________________________________________________________\n",
            "batch_normalization_57 (BatchNo (None, 32, 32, 64)   256         conv2d_57[0][0]                  \n",
            "__________________________________________________________________________________________________\n",
            "activation_57 (Activation)      (None, 32, 32, 64)   0           batch_normalization_57[0][0]     \n",
            "__________________________________________________________________________________________________\n",
            "conv2d_58 (Conv2D)              (None, 32, 32, 32)   18432       activation_57[0][0]              \n",
            "__________________________________________________________________________________________________\n",
            "dropout_55 (Dropout)            (None, 32, 32, 32)   0           conv2d_58[0][0]                  \n",
            "__________________________________________________________________________________________________\n",
            "concatenate_49 (Concatenate)    (None, 32, 32, 96)   0           conv2d_57[0][0]                  \n",
            "                                                                 dropout_55[0][0]                 \n",
            "__________________________________________________________________________________________________\n",
            "batch_normalization_58 (BatchNo (None, 32, 32, 96)   384         concatenate_49[0][0]             \n",
            "__________________________________________________________________________________________________\n",
            "activation_58 (Activation)      (None, 32, 32, 96)   0           batch_normalization_58[0][0]     \n",
            "__________________________________________________________________________________________________\n",
            "conv2d_59 (Conv2D)              (None, 32, 32, 32)   27648       activation_58[0][0]              \n",
            "__________________________________________________________________________________________________\n",
            "dropout_56 (Dropout)            (None, 32, 32, 32)   0           conv2d_59[0][0]                  \n",
            "__________________________________________________________________________________________________\n",
            "concatenate_50 (Concatenate)    (None, 32, 32, 128)  0           concatenate_49[0][0]             \n",
            "                                                                 dropout_56[0][0]                 \n",
            "__________________________________________________________________________________________________\n",
            "batch_normalization_59 (BatchNo (None, 32, 32, 128)  512         concatenate_50[0][0]             \n",
            "__________________________________________________________________________________________________\n",
            "activation_59 (Activation)      (None, 32, 32, 128)  0           batch_normalization_59[0][0]     \n",
            "__________________________________________________________________________________________________\n",
            "conv2d_60 (Conv2D)              (None, 32, 32, 32)   36864       activation_59[0][0]              \n",
            "__________________________________________________________________________________________________\n",
            "dropout_57 (Dropout)            (None, 32, 32, 32)   0           conv2d_60[0][0]                  \n",
            "__________________________________________________________________________________________________\n",
            "concatenate_51 (Concatenate)    (None, 32, 32, 160)  0           concatenate_50[0][0]             \n",
            "                                                                 dropout_57[0][0]                 \n",
            "__________________________________________________________________________________________________\n",
            "batch_normalization_60 (BatchNo (None, 32, 32, 160)  640         concatenate_51[0][0]             \n",
            "__________________________________________________________________________________________________\n",
            "activation_60 (Activation)      (None, 32, 32, 160)  0           batch_normalization_60[0][0]     \n",
            "__________________________________________________________________________________________________\n",
            "conv2d_61 (Conv2D)              (None, 32, 32, 32)   46080       activation_60[0][0]              \n",
            "__________________________________________________________________________________________________\n",
            "dropout_58 (Dropout)            (None, 32, 32, 32)   0           conv2d_61[0][0]                  \n",
            "__________________________________________________________________________________________________\n",
            "concatenate_52 (Concatenate)    (None, 32, 32, 192)  0           concatenate_51[0][0]             \n",
            "                                                                 dropout_58[0][0]                 \n",
            "__________________________________________________________________________________________________\n",
            "batch_normalization_61 (BatchNo (None, 32, 32, 192)  768         concatenate_52[0][0]             \n",
            "__________________________________________________________________________________________________\n",
            "activation_61 (Activation)      (None, 32, 32, 192)  0           batch_normalization_61[0][0]     \n",
            "__________________________________________________________________________________________________\n",
            "conv2d_62 (Conv2D)              (None, 32, 32, 32)   55296       activation_61[0][0]              \n",
            "__________________________________________________________________________________________________\n",
            "dropout_59 (Dropout)            (None, 32, 32, 32)   0           conv2d_62[0][0]                  \n",
            "__________________________________________________________________________________________________\n",
            "concatenate_53 (Concatenate)    (None, 32, 32, 224)  0           concatenate_52[0][0]             \n",
            "                                                                 dropout_59[0][0]                 \n",
            "__________________________________________________________________________________________________\n",
            "batch_normalization_62 (BatchNo (None, 32, 32, 224)  896         concatenate_53[0][0]             \n",
            "__________________________________________________________________________________________________\n",
            "activation_62 (Activation)      (None, 32, 32, 224)  0           batch_normalization_62[0][0]     \n",
            "__________________________________________________________________________________________________\n",
            "conv2d_63 (Conv2D)              (None, 32, 32, 32)   64512       activation_62[0][0]              \n",
            "__________________________________________________________________________________________________\n",
            "dropout_60 (Dropout)            (None, 32, 32, 32)   0           conv2d_63[0][0]                  \n",
            "__________________________________________________________________________________________________\n",
            "concatenate_54 (Concatenate)    (None, 32, 32, 256)  0           concatenate_53[0][0]             \n",
            "                                                                 dropout_60[0][0]                 \n",
            "__________________________________________________________________________________________________\n",
            "batch_normalization_63 (BatchNo (None, 32, 32, 256)  1024        concatenate_54[0][0]             \n",
            "__________________________________________________________________________________________________\n",
            "activation_63 (Activation)      (None, 32, 32, 256)  0           batch_normalization_63[0][0]     \n",
            "__________________________________________________________________________________________________\n",
            "conv2d_64 (Conv2D)              (None, 32, 32, 32)   8192        activation_63[0][0]              \n",
            "__________________________________________________________________________________________________\n",
            "dropout_61 (Dropout)            (None, 32, 32, 32)   0           conv2d_64[0][0]                  \n",
            "__________________________________________________________________________________________________\n",
            "average_pooling2d_9 (AveragePoo (None, 16, 16, 32)   0           dropout_61[0][0]                 \n",
            "__________________________________________________________________________________________________\n",
            "batch_normalization_64 (BatchNo (None, 16, 16, 32)   128         average_pooling2d_9[0][0]        \n",
            "__________________________________________________________________________________________________\n",
            "activation_64 (Activation)      (None, 16, 16, 32)   0           batch_normalization_64[0][0]     \n",
            "__________________________________________________________________________________________________\n",
            "conv2d_65 (Conv2D)              (None, 16, 16, 32)   9216        activation_64[0][0]              \n",
            "__________________________________________________________________________________________________\n",
            "dropout_62 (Dropout)            (None, 16, 16, 32)   0           conv2d_65[0][0]                  \n",
            "__________________________________________________________________________________________________\n",
            "concatenate_55 (Concatenate)    (None, 16, 16, 64)   0           average_pooling2d_9[0][0]        \n",
            "                                                                 dropout_62[0][0]                 \n",
            "__________________________________________________________________________________________________\n",
            "batch_normalization_65 (BatchNo (None, 16, 16, 64)   256         concatenate_55[0][0]             \n",
            "__________________________________________________________________________________________________\n",
            "activation_65 (Activation)      (None, 16, 16, 64)   0           batch_normalization_65[0][0]     \n",
            "__________________________________________________________________________________________________\n",
            "conv2d_66 (Conv2D)              (None, 16, 16, 32)   18432       activation_65[0][0]              \n",
            "__________________________________________________________________________________________________\n",
            "dropout_63 (Dropout)            (None, 16, 16, 32)   0           conv2d_66[0][0]                  \n",
            "__________________________________________________________________________________________________\n",
            "concatenate_56 (Concatenate)    (None, 16, 16, 96)   0           concatenate_55[0][0]             \n",
            "                                                                 dropout_63[0][0]                 \n",
            "__________________________________________________________________________________________________\n",
            "batch_normalization_66 (BatchNo (None, 16, 16, 96)   384         concatenate_56[0][0]             \n",
            "__________________________________________________________________________________________________\n",
            "activation_66 (Activation)      (None, 16, 16, 96)   0           batch_normalization_66[0][0]     \n",
            "__________________________________________________________________________________________________\n",
            "conv2d_67 (Conv2D)              (None, 16, 16, 32)   27648       activation_66[0][0]              \n",
            "__________________________________________________________________________________________________\n",
            "dropout_64 (Dropout)            (None, 16, 16, 32)   0           conv2d_67[0][0]                  \n",
            "__________________________________________________________________________________________________\n",
            "concatenate_57 (Concatenate)    (None, 16, 16, 128)  0           concatenate_56[0][0]             \n",
            "                                                                 dropout_64[0][0]                 \n",
            "__________________________________________________________________________________________________\n",
            "batch_normalization_67 (BatchNo (None, 16, 16, 128)  512         concatenate_57[0][0]             \n",
            "__________________________________________________________________________________________________\n",
            "activation_67 (Activation)      (None, 16, 16, 128)  0           batch_normalization_67[0][0]     \n",
            "__________________________________________________________________________________________________\n",
            "conv2d_68 (Conv2D)              (None, 16, 16, 32)   36864       activation_67[0][0]              \n",
            "__________________________________________________________________________________________________\n",
            "dropout_65 (Dropout)            (None, 16, 16, 32)   0           conv2d_68[0][0]                  \n",
            "__________________________________________________________________________________________________\n",
            "concatenate_58 (Concatenate)    (None, 16, 16, 160)  0           concatenate_57[0][0]             \n",
            "                                                                 dropout_65[0][0]                 \n",
            "__________________________________________________________________________________________________\n",
            "batch_normalization_68 (BatchNo (None, 16, 16, 160)  640         concatenate_58[0][0]             \n",
            "__________________________________________________________________________________________________\n",
            "activation_68 (Activation)      (None, 16, 16, 160)  0           batch_normalization_68[0][0]     \n",
            "__________________________________________________________________________________________________\n",
            "conv2d_69 (Conv2D)              (None, 16, 16, 32)   46080       activation_68[0][0]              \n",
            "__________________________________________________________________________________________________\n",
            "dropout_66 (Dropout)            (None, 16, 16, 32)   0           conv2d_69[0][0]                  \n",
            "__________________________________________________________________________________________________\n",
            "concatenate_59 (Concatenate)    (None, 16, 16, 192)  0           concatenate_58[0][0]             \n",
            "                                                                 dropout_66[0][0]                 \n",
            "__________________________________________________________________________________________________\n",
            "batch_normalization_69 (BatchNo (None, 16, 16, 192)  768         concatenate_59[0][0]             \n",
            "__________________________________________________________________________________________________\n",
            "activation_69 (Activation)      (None, 16, 16, 192)  0           batch_normalization_69[0][0]     \n",
            "__________________________________________________________________________________________________\n",
            "conv2d_70 (Conv2D)              (None, 16, 16, 32)   55296       activation_69[0][0]              \n",
            "__________________________________________________________________________________________________\n",
            "dropout_67 (Dropout)            (None, 16, 16, 32)   0           conv2d_70[0][0]                  \n",
            "__________________________________________________________________________________________________\n",
            "concatenate_60 (Concatenate)    (None, 16, 16, 224)  0           concatenate_59[0][0]             \n",
            "                                                                 dropout_67[0][0]                 \n",
            "__________________________________________________________________________________________________\n",
            "batch_normalization_70 (BatchNo (None, 16, 16, 224)  896         concatenate_60[0][0]             \n",
            "__________________________________________________________________________________________________\n",
            "activation_70 (Activation)      (None, 16, 16, 224)  0           batch_normalization_70[0][0]     \n",
            "__________________________________________________________________________________________________\n",
            "conv2d_71 (Conv2D)              (None, 16, 16, 32)   7168        activation_70[0][0]              \n",
            "__________________________________________________________________________________________________\n",
            "dropout_68 (Dropout)            (None, 16, 16, 32)   0           conv2d_71[0][0]                  \n",
            "__________________________________________________________________________________________________\n",
            "average_pooling2d_10 (AveragePo (None, 8, 8, 32)     0           dropout_68[0][0]                 \n",
            "__________________________________________________________________________________________________\n",
            "batch_normalization_71 (BatchNo (None, 8, 8, 32)     128         average_pooling2d_10[0][0]       \n",
            "__________________________________________________________________________________________________\n",
            "activation_71 (Activation)      (None, 8, 8, 32)     0           batch_normalization_71[0][0]     \n",
            "__________________________________________________________________________________________________\n",
            "conv2d_72 (Conv2D)              (None, 8, 8, 32)     9216        activation_71[0][0]              \n",
            "__________________________________________________________________________________________________\n",
            "dropout_69 (Dropout)            (None, 8, 8, 32)     0           conv2d_72[0][0]                  \n",
            "__________________________________________________________________________________________________\n",
            "concatenate_61 (Concatenate)    (None, 8, 8, 64)     0           average_pooling2d_10[0][0]       \n",
            "                                                                 dropout_69[0][0]                 \n",
            "__________________________________________________________________________________________________\n",
            "batch_normalization_72 (BatchNo (None, 8, 8, 64)     256         concatenate_61[0][0]             \n",
            "__________________________________________________________________________________________________\n",
            "activation_72 (Activation)      (None, 8, 8, 64)     0           batch_normalization_72[0][0]     \n",
            "__________________________________________________________________________________________________\n",
            "conv2d_73 (Conv2D)              (None, 8, 8, 32)     18432       activation_72[0][0]              \n",
            "__________________________________________________________________________________________________\n",
            "dropout_70 (Dropout)            (None, 8, 8, 32)     0           conv2d_73[0][0]                  \n",
            "__________________________________________________________________________________________________\n",
            "concatenate_62 (Concatenate)    (None, 8, 8, 96)     0           concatenate_61[0][0]             \n",
            "                                                                 dropout_70[0][0]                 \n",
            "__________________________________________________________________________________________________\n",
            "batch_normalization_73 (BatchNo (None, 8, 8, 96)     384         concatenate_62[0][0]             \n",
            "__________________________________________________________________________________________________\n",
            "activation_73 (Activation)      (None, 8, 8, 96)     0           batch_normalization_73[0][0]     \n",
            "__________________________________________________________________________________________________\n",
            "conv2d_74 (Conv2D)              (None, 8, 8, 32)     27648       activation_73[0][0]              \n",
            "__________________________________________________________________________________________________\n",
            "dropout_71 (Dropout)            (None, 8, 8, 32)     0           conv2d_74[0][0]                  \n",
            "__________________________________________________________________________________________________\n",
            "concatenate_63 (Concatenate)    (None, 8, 8, 128)    0           concatenate_62[0][0]             \n",
            "                                                                 dropout_71[0][0]                 \n",
            "__________________________________________________________________________________________________\n",
            "batch_normalization_74 (BatchNo (None, 8, 8, 128)    512         concatenate_63[0][0]             \n",
            "__________________________________________________________________________________________________\n",
            "activation_74 (Activation)      (None, 8, 8, 128)    0           batch_normalization_74[0][0]     \n",
            "__________________________________________________________________________________________________\n",
            "conv2d_75 (Conv2D)              (None, 8, 8, 32)     36864       activation_74[0][0]              \n",
            "__________________________________________________________________________________________________\n",
            "dropout_72 (Dropout)            (None, 8, 8, 32)     0           conv2d_75[0][0]                  \n",
            "__________________________________________________________________________________________________\n",
            "concatenate_64 (Concatenate)    (None, 8, 8, 160)    0           concatenate_63[0][0]             \n",
            "                                                                 dropout_72[0][0]                 \n",
            "__________________________________________________________________________________________________\n",
            "batch_normalization_75 (BatchNo (None, 8, 8, 160)    640         concatenate_64[0][0]             \n",
            "__________________________________________________________________________________________________\n",
            "activation_75 (Activation)      (None, 8, 8, 160)    0           batch_normalization_75[0][0]     \n",
            "__________________________________________________________________________________________________\n",
            "conv2d_76 (Conv2D)              (None, 8, 8, 32)     46080       activation_75[0][0]              \n",
            "__________________________________________________________________________________________________\n",
            "dropout_73 (Dropout)            (None, 8, 8, 32)     0           conv2d_76[0][0]                  \n",
            "__________________________________________________________________________________________________\n",
            "concatenate_65 (Concatenate)    (None, 8, 8, 192)    0           concatenate_64[0][0]             \n",
            "                                                                 dropout_73[0][0]                 \n",
            "__________________________________________________________________________________________________\n",
            "batch_normalization_76 (BatchNo (None, 8, 8, 192)    768         concatenate_65[0][0]             \n",
            "__________________________________________________________________________________________________\n",
            "activation_76 (Activation)      (None, 8, 8, 192)    0           batch_normalization_76[0][0]     \n",
            "__________________________________________________________________________________________________\n",
            "conv2d_77 (Conv2D)              (None, 8, 8, 32)     55296       activation_76[0][0]              \n",
            "__________________________________________________________________________________________________\n",
            "dropout_74 (Dropout)            (None, 8, 8, 32)     0           conv2d_77[0][0]                  \n",
            "__________________________________________________________________________________________________\n",
            "concatenate_66 (Concatenate)    (None, 8, 8, 224)    0           concatenate_65[0][0]             \n",
            "                                                                 dropout_74[0][0]                 \n",
            "__________________________________________________________________________________________________\n",
            "batch_normalization_77 (BatchNo (None, 8, 8, 224)    896         concatenate_66[0][0]             \n",
            "__________________________________________________________________________________________________\n",
            "activation_77 (Activation)      (None, 8, 8, 224)    0           batch_normalization_77[0][0]     \n",
            "__________________________________________________________________________________________________\n",
            "conv2d_78 (Conv2D)              (None, 8, 8, 32)     7168        activation_77[0][0]              \n",
            "__________________________________________________________________________________________________\n",
            "dropout_75 (Dropout)            (None, 8, 8, 32)     0           conv2d_78[0][0]                  \n",
            "__________________________________________________________________________________________________\n",
            "average_pooling2d_11 (AveragePo (None, 4, 4, 32)     0           dropout_75[0][0]                 \n",
            "__________________________________________________________________________________________________\n",
            "batch_normalization_78 (BatchNo (None, 4, 4, 32)     128         average_pooling2d_11[0][0]       \n",
            "__________________________________________________________________________________________________\n",
            "activation_78 (Activation)      (None, 4, 4, 32)     0           batch_normalization_78[0][0]     \n",
            "__________________________________________________________________________________________________\n",
            "conv2d_79 (Conv2D)              (None, 4, 4, 32)     9216        activation_78[0][0]              \n",
            "__________________________________________________________________________________________________\n",
            "dropout_76 (Dropout)            (None, 4, 4, 32)     0           conv2d_79[0][0]                  \n",
            "__________________________________________________________________________________________________\n",
            "concatenate_67 (Concatenate)    (None, 4, 4, 64)     0           average_pooling2d_11[0][0]       \n",
            "                                                                 dropout_76[0][0]                 \n",
            "__________________________________________________________________________________________________\n",
            "batch_normalization_79 (BatchNo (None, 4, 4, 64)     256         concatenate_67[0][0]             \n",
            "__________________________________________________________________________________________________\n",
            "activation_79 (Activation)      (None, 4, 4, 64)     0           batch_normalization_79[0][0]     \n",
            "__________________________________________________________________________________________________\n",
            "conv2d_80 (Conv2D)              (None, 4, 4, 32)     18432       activation_79[0][0]              \n",
            "__________________________________________________________________________________________________\n",
            "dropout_77 (Dropout)            (None, 4, 4, 32)     0           conv2d_80[0][0]                  \n",
            "__________________________________________________________________________________________________\n",
            "concatenate_68 (Concatenate)    (None, 4, 4, 96)     0           concatenate_67[0][0]             \n",
            "                                                                 dropout_77[0][0]                 \n",
            "__________________________________________________________________________________________________\n",
            "batch_normalization_80 (BatchNo (None, 4, 4, 96)     384         concatenate_68[0][0]             \n",
            "__________________________________________________________________________________________________\n",
            "activation_80 (Activation)      (None, 4, 4, 96)     0           batch_normalization_80[0][0]     \n",
            "__________________________________________________________________________________________________\n",
            "conv2d_81 (Conv2D)              (None, 4, 4, 32)     27648       activation_80[0][0]              \n",
            "__________________________________________________________________________________________________\n",
            "dropout_78 (Dropout)            (None, 4, 4, 32)     0           conv2d_81[0][0]                  \n",
            "__________________________________________________________________________________________________\n",
            "concatenate_69 (Concatenate)    (None, 4, 4, 128)    0           concatenate_68[0][0]             \n",
            "                                                                 dropout_78[0][0]                 \n",
            "__________________________________________________________________________________________________\n",
            "batch_normalization_81 (BatchNo (None, 4, 4, 128)    512         concatenate_69[0][0]             \n",
            "__________________________________________________________________________________________________\n",
            "activation_81 (Activation)      (None, 4, 4, 128)    0           batch_normalization_81[0][0]     \n",
            "__________________________________________________________________________________________________\n",
            "conv2d_82 (Conv2D)              (None, 4, 4, 32)     36864       activation_81[0][0]              \n",
            "__________________________________________________________________________________________________\n",
            "dropout_79 (Dropout)            (None, 4, 4, 32)     0           conv2d_82[0][0]                  \n",
            "__________________________________________________________________________________________________\n",
            "concatenate_70 (Concatenate)    (None, 4, 4, 160)    0           concatenate_69[0][0]             \n",
            "                                                                 dropout_79[0][0]                 \n",
            "__________________________________________________________________________________________________\n",
            "batch_normalization_82 (BatchNo (None, 4, 4, 160)    640         concatenate_70[0][0]             \n",
            "__________________________________________________________________________________________________\n",
            "activation_82 (Activation)      (None, 4, 4, 160)    0           batch_normalization_82[0][0]     \n",
            "__________________________________________________________________________________________________\n",
            "conv2d_83 (Conv2D)              (None, 4, 4, 32)     46080       activation_82[0][0]              \n",
            "__________________________________________________________________________________________________\n",
            "dropout_80 (Dropout)            (None, 4, 4, 32)     0           conv2d_83[0][0]                  \n",
            "__________________________________________________________________________________________________\n",
            "concatenate_71 (Concatenate)    (None, 4, 4, 192)    0           concatenate_70[0][0]             \n",
            "                                                                 dropout_80[0][0]                 \n",
            "__________________________________________________________________________________________________\n",
            "batch_normalization_83 (BatchNo (None, 4, 4, 192)    768         concatenate_71[0][0]             \n",
            "__________________________________________________________________________________________________\n",
            "activation_83 (Activation)      (None, 4, 4, 192)    0           batch_normalization_83[0][0]     \n",
            "__________________________________________________________________________________________________\n",
            "conv2d_84 (Conv2D)              (None, 4, 4, 32)     55296       activation_83[0][0]              \n",
            "__________________________________________________________________________________________________\n",
            "dropout_81 (Dropout)            (None, 4, 4, 32)     0           conv2d_84[0][0]                  \n",
            "__________________________________________________________________________________________________\n",
            "concatenate_72 (Concatenate)    (None, 4, 4, 224)    0           concatenate_71[0][0]             \n",
            "                                                                 dropout_81[0][0]                 \n",
            "__________________________________________________________________________________________________\n",
            "batch_normalization_84 (BatchNo (None, 4, 4, 224)    896         concatenate_72[0][0]             \n",
            "__________________________________________________________________________________________________\n",
            "activation_84 (Activation)      (None, 4, 4, 224)    0           batch_normalization_84[0][0]     \n",
            "__________________________________________________________________________________________________\n",
            "average_pooling2d_12 (AveragePo (None, 2, 2, 224)    0           activation_84[0][0]              \n",
            "__________________________________________________________________________________________________\n",
            "flatten_3 (Flatten)             (None, 896)          0           average_pooling2d_12[0][0]       \n",
            "__________________________________________________________________________________________________\n",
            "dense_3 (Dense)                 (None, 10)           8970        flatten_3[0][0]                  \n",
            "==================================================================================================\n",
            "Total params: 877,898\n",
            "Trainable params: 870,282\n",
            "Non-trainable params: 7,616\n",
            "__________________________________________________________________________________________________\n",
            "Epoch 1/50\n",
            "  1/390 [..............................] - ETA: 47:06 - loss: 2.6341 - acc: 0.0625"
          ],
          "name": "stdout"
        },
        {
          "output_type": "stream",
          "text": [
            "390/390 [==============================] - 195s 499ms/step - loss: 1.5158 - acc: 0.4403 - val_loss: 1.8975 - val_acc: 0.4120\n",
            "Epoch 2/50\n",
            "315/390 [=======================>......] - ETA: 33s - loss: 1.1239 - acc: 0.5974"
          ],
          "name": "stdout"
        },
        {
          "output_type": "stream",
          "text": [
            "390/390 [==============================] - 189s 484ms/step - loss: 1.1057 - acc: 0.6040 - val_loss: 1.9491 - val_acc: 0.4951\n",
            "Epoch 3/50\n",
            "390/390 [==============================] - 189s 485ms/step - loss: 0.9323 - acc: 0.6673 - val_loss: 1.4886 - val_acc: 0.5986\n",
            "Epoch 4/50\n",
            " 25/390 [>.............................] - ETA: 2:48 - loss: 0.8869 - acc: 0.6781"
          ],
          "name": "stdout"
        },
        {
          "output_type": "stream",
          "text": [
            "390/390 [==============================] - 189s 485ms/step - loss: 0.8331 - acc: 0.7048 - val_loss: 1.3745 - val_acc: 0.5939\n",
            "Epoch 5/50\n",
            "324/390 [=======================>......] - ETA: 29s - loss: 0.7605 - acc: 0.7316"
          ],
          "name": "stdout"
        },
        {
          "output_type": "stream",
          "text": [
            "390/390 [==============================] - 189s 484ms/step - loss: 0.7536 - acc: 0.7347 - val_loss: 1.0139 - val_acc: 0.7045\n",
            "Epoch 6/50\n",
            "390/390 [==============================] - 189s 485ms/step - loss: 0.6962 - acc: 0.7554 - val_loss: 1.2528 - val_acc: 0.6645\n",
            "Epoch 7/50\n",
            " 27/390 [=>............................] - ETA: 2:45 - loss: 0.6475 - acc: 0.7682"
          ],
          "name": "stdout"
        },
        {
          "output_type": "stream",
          "text": [
            "390/390 [==============================] - 189s 485ms/step - loss: 0.6529 - acc: 0.7702 - val_loss: 1.1183 - val_acc: 0.7056\n",
            "Epoch 8/50\n",
            "325/390 [========================>.....] - ETA: 29s - loss: 0.6162 - acc: 0.7835"
          ],
          "name": "stdout"
        },
        {
          "output_type": "stream",
          "text": [
            "390/390 [==============================] - 189s 485ms/step - loss: 0.6141 - acc: 0.7848 - val_loss: 1.2026 - val_acc: 0.6981\n",
            "Epoch 9/50\n",
            "390/390 [==============================] - 189s 485ms/step - loss: 0.5835 - acc: 0.7955 - val_loss: 0.8788 - val_acc: 0.7491\n",
            "Epoch 10/50\n",
            " 27/390 [=>............................] - ETA: 2:46 - loss: 0.5668 - acc: 0.7925"
          ],
          "name": "stdout"
        },
        {
          "output_type": "stream",
          "text": [
            "390/390 [==============================] - 189s 484ms/step - loss: 0.5574 - acc: 0.8052 - val_loss: 0.8916 - val_acc: 0.7495\n",
            "Epoch 11/50\n",
            "323/390 [=======================>......] - ETA: 30s - loss: 0.5361 - acc: 0.8129"
          ],
          "name": "stdout"
        },
        {
          "output_type": "stream",
          "text": [
            "390/390 [==============================] - 189s 485ms/step - loss: 0.5336 - acc: 0.8142 - val_loss: 0.9450 - val_acc: 0.7481\n",
            "Epoch 12/50\n",
            "390/390 [==============================] - 189s 485ms/step - loss: 0.5158 - acc: 0.8209 - val_loss: 0.7697 - val_acc: 0.7830\n",
            "Epoch 13/50\n",
            " 25/390 [>.............................] - ETA: 2:46 - loss: 0.4958 - acc: 0.8297"
          ],
          "name": "stdout"
        },
        {
          "output_type": "stream",
          "text": [
            "390/390 [==============================] - 189s 484ms/step - loss: 0.4980 - acc: 0.8273 - val_loss: 0.8020 - val_acc: 0.7714\n",
            "Epoch 14/50\n",
            "322/390 [=======================>......] - ETA: 30s - loss: 0.4831 - acc: 0.8324"
          ],
          "name": "stdout"
        },
        {
          "output_type": "stream",
          "text": [
            "390/390 [==============================] - 189s 485ms/step - loss: 0.4815 - acc: 0.8323 - val_loss: 1.0696 - val_acc: 0.7351\n",
            "Epoch 15/50\n",
            "390/390 [==============================] - 189s 485ms/step - loss: 0.4661 - acc: 0.8382 - val_loss: 0.7941 - val_acc: 0.7748\n",
            "Epoch 16/50\n",
            " 25/390 [>.............................] - ETA: 2:47 - loss: 0.4757 - acc: 0.8334"
          ],
          "name": "stdout"
        },
        {
          "output_type": "stream",
          "text": [
            "390/390 [==============================] - 189s 485ms/step - loss: 0.4538 - acc: 0.8423 - val_loss: 0.6013 - val_acc: 0.8192\n",
            "Epoch 17/50\n",
            "322/390 [=======================>......] - ETA: 30s - loss: 0.4396 - acc: 0.8460"
          ],
          "name": "stdout"
        },
        {
          "output_type": "stream",
          "text": [
            "390/390 [==============================] - 189s 485ms/step - loss: 0.4388 - acc: 0.8462 - val_loss: 0.6687 - val_acc: 0.8044\n",
            "Epoch 18/50\n",
            "390/390 [==============================] - 189s 484ms/step - loss: 0.4275 - acc: 0.8513 - val_loss: 0.8654 - val_acc: 0.7772\n",
            "Epoch 19/50\n",
            " 25/390 [>.............................] - ETA: 2:47 - loss: 0.4260 - acc: 0.8503"
          ],
          "name": "stdout"
        },
        {
          "output_type": "stream",
          "text": [
            "390/390 [==============================] - 189s 485ms/step - loss: 0.4192 - acc: 0.8547 - val_loss: 0.7035 - val_acc: 0.8039\n",
            "Epoch 20/50\n",
            "322/390 [=======================>......] - ETA: 30s - loss: 0.4101 - acc: 0.8557"
          ],
          "name": "stdout"
        },
        {
          "output_type": "stream",
          "text": [
            "390/390 [==============================] - 189s 484ms/step - loss: 0.4086 - acc: 0.8564 - val_loss: 1.0898 - val_acc: 0.7316\n",
            "Epoch 21/50\n",
            "390/390 [==============================] - 189s 485ms/step - loss: 0.3967 - acc: 0.8603 - val_loss: 0.6140 - val_acc: 0.8233\n",
            "Epoch 22/50\n",
            " 25/390 [>.............................] - ETA: 2:45 - loss: 0.3907 - acc: 0.8637"
          ],
          "name": "stdout"
        },
        {
          "output_type": "stream",
          "text": [
            "390/390 [==============================] - 189s 484ms/step - loss: 0.3947 - acc: 0.8614 - val_loss: 0.6858 - val_acc: 0.8147\n",
            "Epoch 23/50\n",
            "322/390 [=======================>......] - ETA: 30s - loss: 0.3770 - acc: 0.8690"
          ],
          "name": "stdout"
        },
        {
          "output_type": "stream",
          "text": [
            "390/390 [==============================] - 189s 485ms/step - loss: 0.3790 - acc: 0.8676 - val_loss: 0.7215 - val_acc: 0.8064\n",
            "Epoch 24/50\n",
            "390/390 [==============================] - 189s 485ms/step - loss: 0.3802 - acc: 0.8679 - val_loss: 0.8544 - val_acc: 0.7839\n",
            "Epoch 25/50\n",
            " 25/390 [>.............................] - ETA: 2:43 - loss: 0.3620 - acc: 0.8746"
          ],
          "name": "stdout"
        },
        {
          "output_type": "stream",
          "text": [
            "390/390 [==============================] - 189s 485ms/step - loss: 0.3688 - acc: 0.8722 - val_loss: 0.5943 - val_acc: 0.8293\n",
            "Epoch 26/50\n",
            "322/390 [=======================>......] - ETA: 30s - loss: 0.3602 - acc: 0.8745"
          ],
          "name": "stdout"
        },
        {
          "output_type": "stream",
          "text": [
            "390/390 [==============================] - 189s 484ms/step - loss: 0.3573 - acc: 0.8758 - val_loss: 0.8858 - val_acc: 0.7781\n",
            "Epoch 27/50\n",
            "390/390 [==============================] - 188s 481ms/step - loss: 0.3588 - acc: 0.8754 - val_loss: 0.5474 - val_acc: 0.8454\n",
            "Epoch 28/50\n",
            " 25/390 [>.............................] - ETA: 2:41 - loss: 0.3502 - acc: 0.8791"
          ],
          "name": "stdout"
        },
        {
          "output_type": "stream",
          "text": [
            "390/390 [==============================] - 188s 481ms/step - loss: 0.3455 - acc: 0.8802 - val_loss: 0.8187 - val_acc: 0.8061\n",
            "Epoch 29/50\n",
            "322/390 [=======================>......] - ETA: 30s - loss: 0.3383 - acc: 0.8830"
          ],
          "name": "stdout"
        },
        {
          "output_type": "stream",
          "text": [
            "390/390 [==============================] - 188s 482ms/step - loss: 0.3375 - acc: 0.8829 - val_loss: 0.6855 - val_acc: 0.8211\n",
            "Epoch 30/50\n",
            "390/390 [==============================] - 188s 481ms/step - loss: 0.3327 - acc: 0.8828 - val_loss: 0.6636 - val_acc: 0.8241\n",
            "Epoch 31/50\n",
            " 25/390 [>.............................] - ETA: 2:43 - loss: 0.3670 - acc: 0.8681"
          ],
          "name": "stdout"
        },
        {
          "output_type": "stream",
          "text": [
            "390/390 [==============================] - 188s 482ms/step - loss: 0.3377 - acc: 0.8823 - val_loss: 0.5933 - val_acc: 0.8454\n",
            "Epoch 32/50\n",
            "322/390 [=======================>......] - ETA: 30s - loss: 0.2879 - acc: 0.8988"
          ],
          "name": "stdout"
        },
        {
          "output_type": "stream",
          "text": [
            "390/390 [==============================] - 188s 481ms/step - loss: 0.2875 - acc: 0.8991 - val_loss: 0.5123 - val_acc: 0.8624\n",
            "Epoch 33/50\n",
            "390/390 [==============================] - 188s 482ms/step - loss: 0.2800 - acc: 0.9017 - val_loss: 0.4165 - val_acc: 0.8784\n",
            "Epoch 34/50\n",
            " 25/390 [>.............................] - ETA: 2:41 - loss: 0.2857 - acc: 0.8994"
          ],
          "name": "stdout"
        },
        {
          "output_type": "stream",
          "text": [
            "390/390 [==============================] - 188s 482ms/step - loss: 0.2717 - acc: 0.9039 - val_loss: 0.5051 - val_acc: 0.8605\n",
            "Epoch 35/50\n",
            "322/390 [=======================>......] - ETA: 30s - loss: 0.2672 - acc: 0.9069"
          ],
          "name": "stdout"
        },
        {
          "output_type": "stream",
          "text": [
            "390/390 [==============================] - 188s 482ms/step - loss: 0.2686 - acc: 0.9065 - val_loss: 0.4139 - val_acc: 0.8854\n",
            "Epoch 36/50\n",
            "390/390 [==============================] - 188s 482ms/step - loss: 0.2606 - acc: 0.9083 - val_loss: 0.5574 - val_acc: 0.8558\n",
            "Epoch 37/50\n",
            " 25/390 [>.............................] - ETA: 2:44 - loss: 0.2853 - acc: 0.8981"
          ],
          "name": "stdout"
        },
        {
          "output_type": "stream",
          "text": [
            "390/390 [==============================] - 188s 481ms/step - loss: 0.2613 - acc: 0.9089 - val_loss: 0.4006 - val_acc: 0.8872\n",
            "Epoch 38/50\n",
            "322/390 [=======================>......] - ETA: 30s - loss: 0.2543 - acc: 0.9105"
          ],
          "name": "stdout"
        },
        {
          "output_type": "stream",
          "text": [
            "390/390 [==============================] - 188s 482ms/step - loss: 0.2580 - acc: 0.9083 - val_loss: 0.4162 - val_acc: 0.8859\n",
            "Epoch 39/50\n",
            "390/390 [==============================] - 188s 481ms/step - loss: 0.2540 - acc: 0.9112 - val_loss: 0.4759 - val_acc: 0.8802\n",
            "Epoch 40/50\n",
            " 25/390 [>.............................] - ETA: 2:44 - loss: 0.2483 - acc: 0.9119"
          ],
          "name": "stdout"
        },
        {
          "output_type": "stream",
          "text": [
            "390/390 [==============================] - 188s 483ms/step - loss: 0.2538 - acc: 0.9115 - val_loss: 0.4602 - val_acc: 0.8808\n",
            "Epoch 41/50\n",
            "322/390 [=======================>......] - ETA: 30s - loss: 0.2486 - acc: 0.9134"
          ],
          "name": "stdout"
        },
        {
          "output_type": "stream",
          "text": [
            "390/390 [==============================] - 188s 481ms/step - loss: 0.2456 - acc: 0.9146 - val_loss: 0.4556 - val_acc: 0.8847\n",
            "Epoch 42/50\n",
            "390/390 [==============================] - 188s 482ms/step - loss: 0.2465 - acc: 0.9134 - val_loss: 0.4972 - val_acc: 0.8731\n",
            "Epoch 43/50\n",
            " 25/390 [>.............................] - ETA: 2:44 - loss: 0.2356 - acc: 0.9197"
          ],
          "name": "stdout"
        },
        {
          "output_type": "stream",
          "text": [
            "390/390 [==============================] - 188s 482ms/step - loss: 0.2446 - acc: 0.9145 - val_loss: 0.4453 - val_acc: 0.8845\n",
            "Epoch 44/50\n",
            "322/390 [=======================>......] - ETA: 30s - loss: 0.2426 - acc: 0.9148"
          ],
          "name": "stdout"
        },
        {
          "output_type": "stream",
          "text": [
            "390/390 [==============================] - 188s 482ms/step - loss: 0.2432 - acc: 0.9148 - val_loss: 0.4427 - val_acc: 0.8842\n",
            "Epoch 45/50\n",
            "390/390 [==============================] - 188s 482ms/step - loss: 0.2403 - acc: 0.9153 - val_loss: 0.4051 - val_acc: 0.8900\n",
            "Epoch 46/50\n",
            " 25/390 [>.............................] - ETA: 2:44 - loss: 0.2552 - acc: 0.9106"
          ],
          "name": "stdout"
        },
        {
          "output_type": "stream",
          "text": [
            "390/390 [==============================] - 188s 482ms/step - loss: 0.2389 - acc: 0.9164 - val_loss: 0.5249 - val_acc: 0.8694\n",
            "Epoch 47/50\n",
            "322/390 [=======================>......] - ETA: 30s - loss: 0.2355 - acc: 0.9152"
          ],
          "name": "stdout"
        },
        {
          "output_type": "stream",
          "text": [
            "390/390 [==============================] - 188s 482ms/step - loss: 0.2381 - acc: 0.9149 - val_loss: 0.4795 - val_acc: 0.8797\n",
            "Epoch 48/50\n",
            "390/390 [==============================] - 188s 483ms/step - loss: 0.2350 - acc: 0.9182 - val_loss: 0.5573 - val_acc: 0.8631\n",
            "Epoch 49/50\n",
            " 25/390 [>.............................] - ETA: 2:42 - loss: 0.2295 - acc: 0.9207"
          ],
          "name": "stdout"
        },
        {
          "output_type": "stream",
          "text": [
            "390/390 [==============================] - 188s 481ms/step - loss: 0.2324 - acc: 0.9165 - val_loss: 0.4714 - val_acc: 0.8795\n",
            "Epoch 50/50\n",
            "322/390 [=======================>......] - ETA: 30s - loss: 0.2256 - acc: 0.9204"
          ],
          "name": "stdout"
        },
        {
          "output_type": "stream",
          "text": [
            "390/390 [==============================] - 188s 483ms/step - loss: 0.2267 - acc: 0.9196 - val_loss: 0.4100 - val_acc: 0.8928\n",
            "10000/10000 [==============================] - 17s 2ms/step\n",
            "Test loss: 0.41004103380441664\n",
            "Test accuracy: 0.8928\n"
          ],
          "name": "stdout"
        },
        {
          "output_type": "execute_result",
          "data": {
            "text/plain": [
              "Text(0.5,1,'Accuracy Curves')"
            ]
          },
          "metadata": {
            "tags": []
          },
          "execution_count": 4
        },
        {
          "output_type": "display_data",
          "data": {
            "image/png": "[encoded data removed]",
            "text/plain": [
              "<matplotlib.figure.Figure at 0x7fa57b4cb320>"
            ]
          },
          "metadata": {
            "tags": []
          }
        },
        {
          "output_type": "display_data",
          "data": {
            "image/png": "[encoded data removed]",
            "text/plain": [
              "<matplotlib.figure.Figure at 0x7fa5509acb38>"
            ]
          },
          "metadata": {
            "tags": []
          }
        }
      ]
    }
  ]
}