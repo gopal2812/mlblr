{
  "nbformat": 4,
  "nbformat_minor": 0,
  "metadata": {
    "kernelspec": {
      "name": "python3",
      "display_name": "Python 3",
      "language": "python"
    },
    "language_info": {
      "name": "python",
      "version": "3.6.6",
      "mimetype": "text/x-python",
      "codemirror_mode": {
        "name": "ipython",
        "version": 3
      },
      "pygments_lexer": "ipython3",
      "nbconvert_exporter": "python",
      "file_extension": ".py"
    },
    "colab": {
      "name": "notebookb290667a2e.ipynb",
      "provenance": [],
      "include_colab_link": true
    }
  },
  "cells": [
    {
      "cell_type": "markdown",
      "metadata": {
        "id": "view-in-github",
        "colab_type": "text"
      },
      "source": [
        "<a href=\"https://colab.research.google.com/github/gopal2812/mlblr/blob/master/stockmarketprediction.ipynb\" target=\"_parent\"><img src=\"https://colab.research.google.com/assets/colab-badge.svg\" alt=\"Open In Colab\"/></a>"
      ]
    },
    {
      "cell_type": "code",
      "metadata": {
        "_uuid": "8f2839f25d086af736a60e9eeb907d3b93b6e0e5",
        "_cell_guid": "b1076dfc-b9ad-4769-8c92-a6c4dae69d19",
        "trusted": true,
        "id": "4G28GzaiDRrt",
        "colab_type": "code",
        "colab": {}
      },
      "source": [
        "# This Python 3 environment comes with many helpful analytics libraries installed\n",
        "# It is defined by the kaggle/python docker image: https://github.com/kaggle/docker-python\n",
        "# For example, here's several helpful packages to load in \n",
        "\n",
        "import numpy as np # linear algebra\n",
        "import pandas as pd # data processing, CSV file I/O (e.g. pd.read_csv)\n",
        "import matplotlib.pyplot as plt\n",
        "\n",
        "# Input data files are available in the \"../input/\" directory.\n",
        "# For example, running this (by clicking run or pressing Shift+Enter) will list the files in the input directory\n",
        "\n",
        "import os\n",
        "#print(os.listdir(\"../input\"))\n",
        "\n",
        "# Any results you write to the current directory are saved as output."
      ],
      "execution_count": 14,
      "outputs": []
    },
    {
      "cell_type": "code",
      "metadata": {
        "id": "Zz7X1sLgEIEF",
        "colab_type": "code",
        "colab": {
          "resources": {
            "http://localhost:8080/nbextensions/google.colab/files.js": {
              "data": "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",
              "ok": true,
              "headers": [
                [
                  "content-type",
                  "application/javascript"
                ]
              ],
              "status": 200,
              "status_text": "OK"
            }
          },
          "base_uri": "https://localhost:8080/",
          "height": 56
        },
        "outputId": "85f5b7de-3a89-4ac0-e3de-71190de1afa1"
      },
      "source": [
        "from google.colab import files\n",
        "files.upload()"
      ],
      "execution_count": 15,
      "outputs": [
        {
          "output_type": "display_data",
          "data": {
            "text/html": [
              "\n",
              "     <input type=\"file\" id=\"files-538396f9-f898-404f-b819-8d6c753b17ec\" name=\"files[]\" multiple disabled\n",
              "        style=\"border:none\" />\n",
              "     <output id=\"result-538396f9-f898-404f-b819-8d6c753b17ec\">\n",
              "      Upload widget is only available when the cell has been executed in the\n",
              "      current browser session. Please rerun this cell to enable.\n",
              "      </output>\n",
              "      <script src=\"/nbextensions/google.colab/files.js\"></script> "
            ],
            "text/plain": [
              "<IPython.core.display.HTML object>"
            ]
          },
          "metadata": {
            "tags": []
          }
        },
        {
          "output_type": "execute_result",
          "data": {
            "text/plain": [
              "{}"
            ]
          },
          "metadata": {
            "tags": []
          },
          "execution_count": 15
        }
      ]
    },
    {
      "cell_type": "code",
      "metadata": {
        "_cell_guid": "79c7e3d0-c299-4dcb-8224-4455121ee9b0",
        "_uuid": "d629ff2d2480ee46fbb7e2d37f6b5fab8052498a",
        "trusted": true,
        "id": "T7Frg4E_DRr9",
        "colab_type": "code",
        "colab": {}
      },
      "source": [
        "dataset_train = pd.read_csv(\"datasets_50914_95133_trainset.csv\")"
      ],
      "execution_count": 17,
      "outputs": []
    },
    {
      "cell_type": "code",
      "metadata": {
        "trusted": true,
        "_uuid": "9de88d689da1a279477470f6cef999c0a45bf98a",
        "id": "0nRZgW2wDRsH",
        "colab_type": "code",
        "colab": {
          "base_uri": "https://localhost:8080/",
          "height": 423
        },
        "outputId": "f80e0f7a-13ac-4c76-8a9a-b5d7820478b2"
      },
      "source": [
        "dataset_train"
      ],
      "execution_count": 18,
      "outputs": [
        {
          "output_type": "execute_result",
          "data": {
            "text/html": [
              "<div>\n",
              "<style scoped>\n",
              "    .dataframe tbody tr th:only-of-type {\n",
              "        vertical-align: middle;\n",
              "    }\n",
              "\n",
              "    .dataframe tbody tr th {\n",
              "        vertical-align: top;\n",
              "    }\n",
              "\n",
              "    .dataframe thead th {\n",
              "        text-align: right;\n",
              "    }\n",
              "</style>\n",
              "<table border=\"1\" class=\"dataframe\">\n",
              "  <thead>\n",
              "    <tr style=\"text-align: right;\">\n",
              "      <th></th>\n",
              "      <th>Date</th>\n",
              "      <th>Open</th>\n",
              "      <th>High</th>\n",
              "      <th>Low</th>\n",
              "      <th>Close</th>\n",
              "      <th>Adj Close</th>\n",
              "      <th>Volume</th>\n",
              "    </tr>\n",
              "  </thead>\n",
              "  <tbody>\n",
              "    <tr>\n",
              "      <th>0</th>\n",
              "      <td>2013-01-02</td>\n",
              "      <td>357.385559</td>\n",
              "      <td>361.151062</td>\n",
              "      <td>355.959839</td>\n",
              "      <td>359.288177</td>\n",
              "      <td>359.288177</td>\n",
              "      <td>5115500</td>\n",
              "    </tr>\n",
              "    <tr>\n",
              "      <th>1</th>\n",
              "      <td>2013-01-03</td>\n",
              "      <td>360.122742</td>\n",
              "      <td>363.600128</td>\n",
              "      <td>358.031342</td>\n",
              "      <td>359.496826</td>\n",
              "      <td>359.496826</td>\n",
              "      <td>4666500</td>\n",
              "    </tr>\n",
              "    <tr>\n",
              "      <th>2</th>\n",
              "      <td>2013-01-04</td>\n",
              "      <td>362.313507</td>\n",
              "      <td>368.339294</td>\n",
              "      <td>361.488861</td>\n",
              "      <td>366.600616</td>\n",
              "      <td>366.600616</td>\n",
              "      <td>5562800</td>\n",
              "    </tr>\n",
              "    <tr>\n",
              "      <th>3</th>\n",
              "      <td>2013-01-07</td>\n",
              "      <td>365.348755</td>\n",
              "      <td>367.301056</td>\n",
              "      <td>362.929504</td>\n",
              "      <td>365.001007</td>\n",
              "      <td>365.001007</td>\n",
              "      <td>3332900</td>\n",
              "    </tr>\n",
              "    <tr>\n",
              "      <th>4</th>\n",
              "      <td>2013-01-08</td>\n",
              "      <td>365.393463</td>\n",
              "      <td>365.771027</td>\n",
              "      <td>359.874359</td>\n",
              "      <td>364.280701</td>\n",
              "      <td>364.280701</td>\n",
              "      <td>3373900</td>\n",
              "    </tr>\n",
              "    <tr>\n",
              "      <th>...</th>\n",
              "      <td>...</td>\n",
              "      <td>...</td>\n",
              "      <td>...</td>\n",
              "      <td>...</td>\n",
              "      <td>...</td>\n",
              "      <td>...</td>\n",
              "      <td>...</td>\n",
              "    </tr>\n",
              "    <tr>\n",
              "      <th>1254</th>\n",
              "      <td>2017-12-22</td>\n",
              "      <td>1061.109985</td>\n",
              "      <td>1064.199951</td>\n",
              "      <td>1059.439941</td>\n",
              "      <td>1060.119995</td>\n",
              "      <td>1060.119995</td>\n",
              "      <td>755100</td>\n",
              "    </tr>\n",
              "    <tr>\n",
              "      <th>1255</th>\n",
              "      <td>2017-12-26</td>\n",
              "      <td>1058.069946</td>\n",
              "      <td>1060.119995</td>\n",
              "      <td>1050.199951</td>\n",
              "      <td>1056.739990</td>\n",
              "      <td>1056.739990</td>\n",
              "      <td>760600</td>\n",
              "    </tr>\n",
              "    <tr>\n",
              "      <th>1256</th>\n",
              "      <td>2017-12-27</td>\n",
              "      <td>1057.390015</td>\n",
              "      <td>1058.369995</td>\n",
              "      <td>1048.050049</td>\n",
              "      <td>1049.369995</td>\n",
              "      <td>1049.369995</td>\n",
              "      <td>1271900</td>\n",
              "    </tr>\n",
              "    <tr>\n",
              "      <th>1257</th>\n",
              "      <td>2017-12-28</td>\n",
              "      <td>1051.599976</td>\n",
              "      <td>1054.750000</td>\n",
              "      <td>1044.770020</td>\n",
              "      <td>1048.140015</td>\n",
              "      <td>1048.140015</td>\n",
              "      <td>837100</td>\n",
              "    </tr>\n",
              "    <tr>\n",
              "      <th>1258</th>\n",
              "      <td>2017-12-29</td>\n",
              "      <td>1046.719971</td>\n",
              "      <td>1049.699951</td>\n",
              "      <td>1044.900024</td>\n",
              "      <td>1046.400024</td>\n",
              "      <td>1046.400024</td>\n",
              "      <td>887500</td>\n",
              "    </tr>\n",
              "  </tbody>\n",
              "</table>\n",
              "<p>1259 rows × 7 columns</p>\n",
              "</div>"
            ],
            "text/plain": [
              "            Date         Open         High  ...        Close    Adj Close   Volume\n",
              "0     2013-01-02   357.385559   361.151062  ...   359.288177   359.288177  5115500\n",
              "1     2013-01-03   360.122742   363.600128  ...   359.496826   359.496826  4666500\n",
              "2     2013-01-04   362.313507   368.339294  ...   366.600616   366.600616  5562800\n",
              "3     2013-01-07   365.348755   367.301056  ...   365.001007   365.001007  3332900\n",
              "4     2013-01-08   365.393463   365.771027  ...   364.280701   364.280701  3373900\n",
              "...          ...          ...          ...  ...          ...          ...      ...\n",
              "1254  2017-12-22  1061.109985  1064.199951  ...  1060.119995  1060.119995   755100\n",
              "1255  2017-12-26  1058.069946  1060.119995  ...  1056.739990  1056.739990   760600\n",
              "1256  2017-12-27  1057.390015  1058.369995  ...  1049.369995  1049.369995  1271900\n",
              "1257  2017-12-28  1051.599976  1054.750000  ...  1048.140015  1048.140015   837100\n",
              "1258  2017-12-29  1046.719971  1049.699951  ...  1046.400024  1046.400024   887500\n",
              "\n",
              "[1259 rows x 7 columns]"
            ]
          },
          "metadata": {
            "tags": []
          },
          "execution_count": 18
        }
      ]
    },
    {
      "cell_type": "code",
      "metadata": {
        "trusted": true,
        "_uuid": "99cca4c05240bd82c4492c6c3c200925c5c096e5",
        "id": "kJWV0af4DRsR",
        "colab_type": "code",
        "colab": {}
      },
      "source": [
        "trainset = dataset_train.iloc[:,1:2].values"
      ],
      "execution_count": 19,
      "outputs": []
    },
    {
      "cell_type": "code",
      "metadata": {
        "trusted": true,
        "_uuid": "1f00141023a0cc15593c8ef1351883177ca3ba21",
        "id": "KX5Uo5DtDRsY",
        "colab_type": "code",
        "colab": {
          "base_uri": "https://localhost:8080/",
          "height": 148
        },
        "outputId": "d9b5591d-a7a1-4cb2-fbad-4135c5687e64"
      },
      "source": [
        "trainset"
      ],
      "execution_count": 20,
      "outputs": [
        {
          "output_type": "execute_result",
          "data": {
            "text/plain": [
              "array([[ 357.385559],\n",
              "       [ 360.122742],\n",
              "       [ 362.313507],\n",
              "       ...,\n",
              "       [1057.390015],\n",
              "       [1051.599976],\n",
              "       [1046.719971]])"
            ]
          },
          "metadata": {
            "tags": []
          },
          "execution_count": 20
        }
      ]
    },
    {
      "cell_type": "code",
      "metadata": {
        "trusted": true,
        "_uuid": "1abc6fe47fb5c4443767a2e2053cf9999c8a9a5c",
        "id": "qiOVuZRcDRsf",
        "colab_type": "code",
        "colab": {}
      },
      "source": [
        "from sklearn.preprocessing import MinMaxScaler\n",
        "sc = MinMaxScaler(feature_range = (0,1))\n",
        "training_scaled = sc.fit_transform(trainset)"
      ],
      "execution_count": 21,
      "outputs": []
    },
    {
      "cell_type": "code",
      "metadata": {
        "trusted": true,
        "_uuid": "15362ed79df83c13fbddff1889a71f21e968fbc2",
        "id": "4M-qIWCCDRsm",
        "colab_type": "code",
        "colab": {
          "base_uri": "https://localhost:8080/",
          "height": 148
        },
        "outputId": "786b6bab-27d7-4f8c-b385-9b3fe37ddad5"
      },
      "source": [
        "training_scaled"
      ],
      "execution_count": 22,
      "outputs": [
        {
          "output_type": "execute_result",
          "data": {
            "text/plain": [
              "array([[0.01011148],\n",
              "       [0.01388614],\n",
              "       [0.01690727],\n",
              "       ...,\n",
              "       [0.97543954],\n",
              "       [0.9674549 ],\n",
              "       [0.96072522]])"
            ]
          },
          "metadata": {
            "tags": []
          },
          "execution_count": 22
        }
      ]
    },
    {
      "cell_type": "code",
      "metadata": {
        "trusted": true,
        "_uuid": "d0d549e9a4af9ab516c3304fb44d650a815dcedc",
        "id": "YwQ-Fj-8DRss",
        "colab_type": "code",
        "colab": {}
      },
      "source": [
        "x_train = []\n",
        "y_train = []"
      ],
      "execution_count": 23,
      "outputs": []
    },
    {
      "cell_type": "code",
      "metadata": {
        "trusted": true,
        "_uuid": "4c4f8ba0c635e7da0ba1bc52abf0a42068acdc89",
        "id": "CfRI-OgtDRsy",
        "colab_type": "code",
        "colab": {}
      },
      "source": [
        "for i in range(60,1259):\n",
        "    x_train.append(training_scaled[i-60:i, 0])\n",
        "    y_train.append(training_scaled[i,0])\n",
        "x_train,y_train = np.array(x_train),np.array(y_train)"
      ],
      "execution_count": 24,
      "outputs": []
    },
    {
      "cell_type": "code",
      "metadata": {
        "trusted": true,
        "_uuid": "360eb79902c77fbba3f16ab47a5ff7593a177478",
        "id": "ch7NXd4ZDRs6",
        "colab_type": "code",
        "colab": {
          "base_uri": "https://localhost:8080/",
          "height": 36
        },
        "outputId": "4522d83b-c1b4-4ec9-b3e1-d5fc01200b38"
      },
      "source": [
        "x_train.shape"
      ],
      "execution_count": 25,
      "outputs": [
        {
          "output_type": "execute_result",
          "data": {
            "text/plain": [
              "(1199, 60)"
            ]
          },
          "metadata": {
            "tags": []
          },
          "execution_count": 25
        }
      ]
    },
    {
      "cell_type": "code",
      "metadata": {
        "trusted": true,
        "_uuid": "316c5775b5c0a984b432f138792d2c0e9a484491",
        "id": "2bDXcEmcDRtA",
        "colab_type": "code",
        "colab": {}
      },
      "source": [
        "x_train = np.reshape(x_train, (x_train.shape[0],x_train.shape[1],1))"
      ],
      "execution_count": 26,
      "outputs": []
    },
    {
      "cell_type": "code",
      "metadata": {
        "trusted": true,
        "_uuid": "28f5242c6f1961914d1f568e70228fd30c1cb7fa",
        "id": "B0GyWkk0DRtJ",
        "colab_type": "code",
        "colab": {}
      },
      "source": [
        "from keras.models import Sequential\n",
        "from keras.layers import Dense\n",
        "from keras.layers import LSTM\n",
        "from keras.layers import Dropout"
      ],
      "execution_count": 27,
      "outputs": []
    },
    {
      "cell_type": "code",
      "metadata": {
        "trusted": true,
        "_uuid": "ed24d733423254641f134c0e84f44a8ce175589f",
        "id": "3bvDB-B5DRtQ",
        "colab_type": "code",
        "colab": {}
      },
      "source": [
        "regressor = Sequential()\n",
        "regressor.add(LSTM(units = 50,return_sequences = True,input_shape = (x_train.shape[1],1)))"
      ],
      "execution_count": 28,
      "outputs": []
    },
    {
      "cell_type": "code",
      "metadata": {
        "trusted": true,
        "_uuid": "e7b3dd133e58cb2acc860a8cfcd1483ba70e6b1b",
        "id": "aqSQ4QdFDRtW",
        "colab_type": "code",
        "colab": {}
      },
      "source": [
        "regressor.add(Dropout(0.2))"
      ],
      "execution_count": 29,
      "outputs": []
    },
    {
      "cell_type": "code",
      "metadata": {
        "trusted": true,
        "_uuid": "6b746176cb04357ac1e4c3e4c91ecd70717fed47",
        "id": "GvFo9qSjDRtb",
        "colab_type": "code",
        "colab": {}
      },
      "source": [
        "regressor.add(LSTM(units = 50,return_sequences = True))\n",
        "regressor.add(Dropout(0.2))"
      ],
      "execution_count": 30,
      "outputs": []
    },
    {
      "cell_type": "code",
      "metadata": {
        "trusted": true,
        "_uuid": "73fe0b95d62b599e8aae4e2a53a10bc7165f464c",
        "id": "zmDrhzUcDRth",
        "colab_type": "code",
        "colab": {}
      },
      "source": [
        "regressor.add(LSTM(units = 50,return_sequences = True))\n",
        "regressor.add(Dropout(0.2))"
      ],
      "execution_count": 31,
      "outputs": []
    },
    {
      "cell_type": "code",
      "metadata": {
        "trusted": true,
        "_uuid": "8c81a80d2ea3cdf653675def0bbba5f9572e8770",
        "id": "7_w3vUG6DRtl",
        "colab_type": "code",
        "colab": {}
      },
      "source": [
        "regressor.add(LSTM(units = 50))\n",
        "regressor.add(Dropout(0.2))"
      ],
      "execution_count": 32,
      "outputs": []
    },
    {
      "cell_type": "code",
      "metadata": {
        "trusted": true,
        "_uuid": "2edc2684995e0033ae8a4997b61b92a66c5bceee",
        "id": "6o_JlZ__DRtq",
        "colab_type": "code",
        "colab": {}
      },
      "source": [
        "regressor.add(Dense(units = 1))"
      ],
      "execution_count": 33,
      "outputs": []
    },
    {
      "cell_type": "code",
      "metadata": {
        "trusted": true,
        "_uuid": "6681ff55d9a29b1ad0f37cdc82318fb2c8fbc0bd",
        "id": "i6NqBpXjDRtu",
        "colab_type": "code",
        "colab": {}
      },
      "source": [
        "regressor.compile(optimizer = 'adam',loss = 'mean_squared_error')"
      ],
      "execution_count": 34,
      "outputs": []
    },
    {
      "cell_type": "code",
      "metadata": {
        "trusted": true,
        "_uuid": "b0287226b32109016b659a8ba484b5eb51e0d61a",
        "id": "U3NFD0MlDRty",
        "colab_type": "code",
        "colab": {
          "base_uri": "https://localhost:8080/",
          "height": 1000
        },
        "outputId": "cbe1070c-d9af-4ae5-c046-4e21bf94d25d"
      },
      "source": [
        "regressor.fit(x_train,y_train,epochs = 30, batch_size = 32)"
      ],
      "execution_count": 35,
      "outputs": [
        {
          "output_type": "stream",
          "text": [
            "Epoch 1/30\n",
            "38/38 [==============================] - 4s 93ms/step - loss: 0.0345\n",
            "Epoch 2/30\n",
            "38/38 [==============================] - 4s 94ms/step - loss: 0.0045\n",
            "Epoch 3/30\n",
            "38/38 [==============================] - 4s 94ms/step - loss: 0.0042\n",
            "Epoch 4/30\n",
            "38/38 [==============================] - 4s 94ms/step - loss: 0.0039\n",
            "Epoch 5/30\n",
            "38/38 [==============================] - 4s 94ms/step - loss: 0.0031\n",
            "Epoch 6/30\n",
            "38/38 [==============================] - 4s 93ms/step - loss: 0.0033\n",
            "Epoch 7/30\n",
            "38/38 [==============================] - 4s 93ms/step - loss: 0.0035\n",
            "Epoch 8/30\n",
            "38/38 [==============================] - 4s 93ms/step - loss: 0.0034\n",
            "Epoch 9/30\n",
            "38/38 [==============================] - 4s 95ms/step - loss: 0.0034\n",
            "Epoch 10/30\n",
            "38/38 [==============================] - 4s 94ms/step - loss: 0.0031\n",
            "Epoch 11/30\n",
            "38/38 [==============================] - 4s 94ms/step - loss: 0.0033\n",
            "Epoch 12/30\n",
            "38/38 [==============================] - 4s 94ms/step - loss: 0.0028\n",
            "Epoch 13/30\n",
            "38/38 [==============================] - 4s 95ms/step - loss: 0.0025\n",
            "Epoch 14/30\n",
            "38/38 [==============================] - 4s 94ms/step - loss: 0.0026\n",
            "Epoch 15/30\n",
            "38/38 [==============================] - 4s 94ms/step - loss: 0.0029\n",
            "Epoch 16/30\n",
            "38/38 [==============================] - 4s 95ms/step - loss: 0.0030\n",
            "Epoch 17/30\n",
            "38/38 [==============================] - 4s 95ms/step - loss: 0.0029\n",
            "Epoch 18/30\n",
            "38/38 [==============================] - 4s 95ms/step - loss: 0.0029\n",
            "Epoch 19/30\n",
            "38/38 [==============================] - 4s 95ms/step - loss: 0.0027\n",
            "Epoch 20/30\n",
            "38/38 [==============================] - 4s 96ms/step - loss: 0.0027\n",
            "Epoch 21/30\n",
            "38/38 [==============================] - 4s 96ms/step - loss: 0.0026\n",
            "Epoch 22/30\n",
            "38/38 [==============================] - 4s 96ms/step - loss: 0.0028\n",
            "Epoch 23/30\n",
            "38/38 [==============================] - 4s 96ms/step - loss: 0.0028\n",
            "Epoch 24/30\n",
            "38/38 [==============================] - 4s 95ms/step - loss: 0.0024\n",
            "Epoch 25/30\n",
            "38/38 [==============================] - 4s 95ms/step - loss: 0.0022\n",
            "Epoch 26/30\n",
            "38/38 [==============================] - 4s 96ms/step - loss: 0.0023\n",
            "Epoch 27/30\n",
            "38/38 [==============================] - 4s 95ms/step - loss: 0.0021\n",
            "Epoch 28/30\n",
            "38/38 [==============================] - 4s 96ms/step - loss: 0.0025\n",
            "Epoch 29/30\n",
            "38/38 [==============================] - 4s 96ms/step - loss: 0.0021\n",
            "Epoch 30/30\n",
            "38/38 [==============================] - 4s 95ms/step - loss: 0.0022\n"
          ],
          "name": "stdout"
        },
        {
          "output_type": "execute_result",
          "data": {
            "text/plain": [
              "<tensorflow.python.keras.callbacks.History at 0x7f9289f0bf98>"
            ]
          },
          "metadata": {
            "tags": []
          },
          "execution_count": 35
        }
      ]
    },
    {
      "cell_type": "code",
      "metadata": {
        "trusted": true,
        "_uuid": "16e063f81273faee696d9db103673ad2b88fda50",
        "id": "8_Oq9_84DRt1",
        "colab_type": "code",
        "colab": {}
      },
      "source": [
        "dataset_test =pd.read_csv(\"datasets_50914_95133_testset.csv\")"
      ],
      "execution_count": 36,
      "outputs": []
    },
    {
      "cell_type": "code",
      "metadata": {
        "trusted": true,
        "_uuid": "6acd6a66dc0f9c013ea008c0d99734697757cae6",
        "id": "hI3oNPIfDRt8",
        "colab_type": "code",
        "colab": {}
      },
      "source": [
        "real_stock_price = dataset_test.iloc[:,1:2].values"
      ],
      "execution_count": 37,
      "outputs": []
    },
    {
      "cell_type": "code",
      "metadata": {
        "trusted": true,
        "_uuid": "b65a0a5b78f98a5ac13dee98e9738fd61426bfd0",
        "id": "kSRSwIeKDRuB",
        "colab_type": "code",
        "colab": {
          "base_uri": "https://localhost:8080/",
          "height": 241
        },
        "outputId": "f5280dbe-015c-4e2b-d251-b19160b44736"
      },
      "source": [
        "dataset_total = pd.concat((dataset_train['Open'],dataset_test['Open']),axis = 0)\n",
        "dataset_total"
      ],
      "execution_count": 38,
      "outputs": [
        {
          "output_type": "execute_result",
          "data": {
            "text/plain": [
              "0       357.385559\n",
              "1       360.122742\n",
              "2       362.313507\n",
              "3       365.348755\n",
              "4       365.393463\n",
              "          ...     \n",
              "120    1143.599976\n",
              "121    1128.000000\n",
              "122    1121.339966\n",
              "123    1102.089966\n",
              "124    1120.000000\n",
              "Name: Open, Length: 1384, dtype: float64"
            ]
          },
          "metadata": {
            "tags": []
          },
          "execution_count": 38
        }
      ]
    },
    {
      "cell_type": "code",
      "metadata": {
        "trusted": true,
        "_uuid": "31aa33ed70b08e71d0e8bfe4c1abae7901ab947d",
        "id": "X7KHVVqlDRuF",
        "colab_type": "code",
        "colab": {
          "base_uri": "https://localhost:8080/",
          "height": 709
        },
        "outputId": "f7ed3445-2165-47f7-afcc-8efa823f1588"
      },
      "source": [
        "inputs = dataset_total[len(dataset_total) - len(dataset_test)-60:].values\n",
        "inputs"
      ],
      "execution_count": 39,
      "outputs": [
        {
          "output_type": "execute_result",
          "data": {
            "text/plain": [
              "array([ 955.48999 ,  966.700012,  980.      ,  980.      ,  973.719971,\n",
              "        987.450012,  992.      ,  992.099976,  990.289978,  991.77002 ,\n",
              "        986.      ,  989.440002,  989.52002 ,  970.      ,  968.369995,\n",
              "        980.      , 1009.190002, 1014.      , 1015.219971, 1017.210022,\n",
              "       1021.76001 , 1022.109985, 1028.98999 , 1027.27002 , 1030.52002 ,\n",
              "       1033.98999 , 1026.459961, 1023.419983, 1022.590027, 1019.210022,\n",
              "       1022.52002 , 1034.01001 , 1020.26001 , 1023.309998, 1035.      ,\n",
              "       1035.869995, 1040.      , 1055.089966, 1042.680054, 1022.369995,\n",
              "       1015.799988, 1012.659973,  995.940002, 1001.5     , 1020.429993,\n",
              "       1037.48999 , 1035.5     , 1039.630005, 1046.119995, 1045.      ,\n",
              "       1054.609985, 1066.079956, 1075.199951, 1071.780029, 1064.949951,\n",
              "       1061.109985, 1058.069946, 1057.390015, 1051.599976, 1046.719971,\n",
              "       1048.339966, 1064.310059, 1088.      , 1094.      , 1102.22998 ,\n",
              "       1109.400024, 1097.099976, 1106.300049, 1102.410034, 1132.51001 ,\n",
              "       1126.219971, 1131.410034, 1131.829956, 1137.48999 , 1159.849976,\n",
              "       1177.329956, 1172.530029, 1175.079956, 1176.47998 , 1167.829956,\n",
              "       1170.569946, 1162.609985, 1122.      , 1090.599976, 1027.180054,\n",
              "       1081.540039, 1055.410034, 1017.25    , 1048.      , 1045.      ,\n",
              "       1048.949951, 1079.069946, 1088.410034, 1090.569946, 1106.469971,\n",
              "       1116.189941, 1112.640015, 1127.800049, 1141.23999 , 1123.030029,\n",
              "       1107.869995, 1053.079956, 1075.140015, 1099.219971, 1089.189941,\n",
              "       1115.319946, 1136.      , 1163.849976, 1170.      , 1145.209961,\n",
              "       1149.959961, 1154.140015, 1120.01001 , 1099.      , 1092.73999 ,\n",
              "       1081.880005, 1047.030029, 1046.      , 1063.      ,  998.      ,\n",
              "       1011.630005, 1022.820007, 1013.909973,  993.409973, 1041.329956,\n",
              "       1020.      , 1016.799988, 1026.439941, 1027.98999 , 1025.040039,\n",
              "       1040.880005, 1037.      , 1051.369995, 1077.430054, 1069.400024,\n",
              "       1082.      , 1077.859985, 1052.      , 1025.52002 , 1029.51001 ,\n",
              "       1046.      , 1030.01001 , 1013.659973, 1028.099976, 1019.      ,\n",
              "       1016.900024, 1049.22998 , 1058.540039, 1058.099976, 1086.030029,\n",
              "       1093.599976, 1100.      , 1090.      , 1077.310059, 1079.890015,\n",
              "       1061.859985, 1074.060059, 1083.560059, 1065.130005, 1079.      ,\n",
              "       1079.02002 , 1064.890015, 1063.030029, 1067.560059, 1099.349976,\n",
              "       1122.329956, 1140.98999 , 1142.170044, 1131.319946, 1118.180054,\n",
              "       1118.599976, 1131.069946, 1141.119995, 1143.849976, 1148.859985,\n",
              "       1143.650024, 1158.5     , 1175.310059, 1174.849976, 1159.140015,\n",
              "       1143.599976, 1128.      , 1121.339966, 1102.089966, 1120.      ])"
            ]
          },
          "metadata": {
            "tags": []
          },
          "execution_count": 39
        }
      ]
    },
    {
      "cell_type": "code",
      "metadata": {
        "trusted": true,
        "_uuid": "7d74568c439acc8dda77dc4365d4b413095508e1",
        "id": "KqEz2EuzDRuJ",
        "colab_type": "code",
        "colab": {}
      },
      "source": [
        "inputs = inputs.reshape(-1,1)"
      ],
      "execution_count": 40,
      "outputs": []
    },
    {
      "cell_type": "code",
      "metadata": {
        "trusted": true,
        "_uuid": "17b170e861d1353ece8aec66f700886106da4aef",
        "id": "jGwrsDwrDRuN",
        "colab_type": "code",
        "colab": {
          "base_uri": "https://localhost:8080/",
          "height": 1000
        },
        "outputId": "87ee9fc1-13d9-467a-fb08-efebbe9c87da"
      },
      "source": [
        "inputs"
      ],
      "execution_count": 41,
      "outputs": [
        {
          "output_type": "execute_result",
          "data": {
            "text/plain": [
              "array([[ 955.48999 ],\n",
              "       [ 966.700012],\n",
              "       [ 980.      ],\n",
              "       [ 980.      ],\n",
              "       [ 973.719971],\n",
              "       [ 987.450012],\n",
              "       [ 992.      ],\n",
              "       [ 992.099976],\n",
              "       [ 990.289978],\n",
              "       [ 991.77002 ],\n",
              "       [ 986.      ],\n",
              "       [ 989.440002],\n",
              "       [ 989.52002 ],\n",
              "       [ 970.      ],\n",
              "       [ 968.369995],\n",
              "       [ 980.      ],\n",
              "       [1009.190002],\n",
              "       [1014.      ],\n",
              "       [1015.219971],\n",
              "       [1017.210022],\n",
              "       [1021.76001 ],\n",
              "       [1022.109985],\n",
              "       [1028.98999 ],\n",
              "       [1027.27002 ],\n",
              "       [1030.52002 ],\n",
              "       [1033.98999 ],\n",
              "       [1026.459961],\n",
              "       [1023.419983],\n",
              "       [1022.590027],\n",
              "       [1019.210022],\n",
              "       [1022.52002 ],\n",
              "       [1034.01001 ],\n",
              "       [1020.26001 ],\n",
              "       [1023.309998],\n",
              "       [1035.      ],\n",
              "       [1035.869995],\n",
              "       [1040.      ],\n",
              "       [1055.089966],\n",
              "       [1042.680054],\n",
              "       [1022.369995],\n",
              "       [1015.799988],\n",
              "       [1012.659973],\n",
              "       [ 995.940002],\n",
              "       [1001.5     ],\n",
              "       [1020.429993],\n",
              "       [1037.48999 ],\n",
              "       [1035.5     ],\n",
              "       [1039.630005],\n",
              "       [1046.119995],\n",
              "       [1045.      ],\n",
              "       [1054.609985],\n",
              "       [1066.079956],\n",
              "       [1075.199951],\n",
              "       [1071.780029],\n",
              "       [1064.949951],\n",
              "       [1061.109985],\n",
              "       [1058.069946],\n",
              "       [1057.390015],\n",
              "       [1051.599976],\n",
              "       [1046.719971],\n",
              "       [1048.339966],\n",
              "       [1064.310059],\n",
              "       [1088.      ],\n",
              "       [1094.      ],\n",
              "       [1102.22998 ],\n",
              "       [1109.400024],\n",
              "       [1097.099976],\n",
              "       [1106.300049],\n",
              "       [1102.410034],\n",
              "       [1132.51001 ],\n",
              "       [1126.219971],\n",
              "       [1131.410034],\n",
              "       [1131.829956],\n",
              "       [1137.48999 ],\n",
              "       [1159.849976],\n",
              "       [1177.329956],\n",
              "       [1172.530029],\n",
              "       [1175.079956],\n",
              "       [1176.47998 ],\n",
              "       [1167.829956],\n",
              "       [1170.569946],\n",
              "       [1162.609985],\n",
              "       [1122.      ],\n",
              "       [1090.599976],\n",
              "       [1027.180054],\n",
              "       [1081.540039],\n",
              "       [1055.410034],\n",
              "       [1017.25    ],\n",
              "       [1048.      ],\n",
              "       [1045.      ],\n",
              "       [1048.949951],\n",
              "       [1079.069946],\n",
              "       [1088.410034],\n",
              "       [1090.569946],\n",
              "       [1106.469971],\n",
              "       [1116.189941],\n",
              "       [1112.640015],\n",
              "       [1127.800049],\n",
              "       [1141.23999 ],\n",
              "       [1123.030029],\n",
              "       [1107.869995],\n",
              "       [1053.079956],\n",
              "       [1075.140015],\n",
              "       [1099.219971],\n",
              "       [1089.189941],\n",
              "       [1115.319946],\n",
              "       [1136.      ],\n",
              "       [1163.849976],\n",
              "       [1170.      ],\n",
              "       [1145.209961],\n",
              "       [1149.959961],\n",
              "       [1154.140015],\n",
              "       [1120.01001 ],\n",
              "       [1099.      ],\n",
              "       [1092.73999 ],\n",
              "       [1081.880005],\n",
              "       [1047.030029],\n",
              "       [1046.      ],\n",
              "       [1063.      ],\n",
              "       [ 998.      ],\n",
              "       [1011.630005],\n",
              "       [1022.820007],\n",
              "       [1013.909973],\n",
              "       [ 993.409973],\n",
              "       [1041.329956],\n",
              "       [1020.      ],\n",
              "       [1016.799988],\n",
              "       [1026.439941],\n",
              "       [1027.98999 ],\n",
              "       [1025.040039],\n",
              "       [1040.880005],\n",
              "       [1037.      ],\n",
              "       [1051.369995],\n",
              "       [1077.430054],\n",
              "       [1069.400024],\n",
              "       [1082.      ],\n",
              "       [1077.859985],\n",
              "       [1052.      ],\n",
              "       [1025.52002 ],\n",
              "       [1029.51001 ],\n",
              "       [1046.      ],\n",
              "       [1030.01001 ],\n",
              "       [1013.659973],\n",
              "       [1028.099976],\n",
              "       [1019.      ],\n",
              "       [1016.900024],\n",
              "       [1049.22998 ],\n",
              "       [1058.540039],\n",
              "       [1058.099976],\n",
              "       [1086.030029],\n",
              "       [1093.599976],\n",
              "       [1100.      ],\n",
              "       [1090.      ],\n",
              "       [1077.310059],\n",
              "       [1079.890015],\n",
              "       [1061.859985],\n",
              "       [1074.060059],\n",
              "       [1083.560059],\n",
              "       [1065.130005],\n",
              "       [1079.      ],\n",
              "       [1079.02002 ],\n",
              "       [1064.890015],\n",
              "       [1063.030029],\n",
              "       [1067.560059],\n",
              "       [1099.349976],\n",
              "       [1122.329956],\n",
              "       [1140.98999 ],\n",
              "       [1142.170044],\n",
              "       [1131.319946],\n",
              "       [1118.180054],\n",
              "       [1118.599976],\n",
              "       [1131.069946],\n",
              "       [1141.119995],\n",
              "       [1143.849976],\n",
              "       [1148.859985],\n",
              "       [1143.650024],\n",
              "       [1158.5     ],\n",
              "       [1175.310059],\n",
              "       [1174.849976],\n",
              "       [1159.140015],\n",
              "       [1143.599976],\n",
              "       [1128.      ],\n",
              "       [1121.339966],\n",
              "       [1102.089966],\n",
              "       [1120.      ]])"
            ]
          },
          "metadata": {
            "tags": []
          },
          "execution_count": 41
        }
      ]
    },
    {
      "cell_type": "code",
      "metadata": {
        "trusted": true,
        "_uuid": "b4003370fb6454d0493ef80b1b50ea34061de7bc",
        "id": "qj23M1pDDRuS",
        "colab_type": "code",
        "colab": {
          "base_uri": "https://localhost:8080/",
          "height": 36
        },
        "outputId": "a0b4b607-710f-4c45-9635-8072eca9f80e"
      },
      "source": [
        "inputs = sc.transform(inputs)\n",
        "inputs.shape"
      ],
      "execution_count": 42,
      "outputs": [
        {
          "output_type": "execute_result",
          "data": {
            "text/plain": [
              "(185, 1)"
            ]
          },
          "metadata": {
            "tags": []
          },
          "execution_count": 42
        }
      ]
    },
    {
      "cell_type": "code",
      "metadata": {
        "trusted": true,
        "_uuid": "ef076f0fdbe6ec72d85e7326c3e8aa73fcbad667",
        "id": "opyc1UVyDRuW",
        "colab_type": "code",
        "colab": {}
      },
      "source": [
        "x_test = []\n",
        "for i in range(60,185):\n",
        "    x_test.append(inputs[i-60:i,0])"
      ],
      "execution_count": 43,
      "outputs": []
    },
    {
      "cell_type": "code",
      "metadata": {
        "trusted": true,
        "_uuid": "1fa15b6bb87ff2da8a730a6e1de20d5e5baf1571",
        "id": "wb9zayl3DRua",
        "colab_type": "code",
        "colab": {
          "base_uri": "https://localhost:8080/",
          "height": 36
        },
        "outputId": "cec8672f-b1b3-4781-a466-e87d30d86899"
      },
      "source": [
        "x_test = np.array(x_test)\n",
        "x_test.shape"
      ],
      "execution_count": 44,
      "outputs": [
        {
          "output_type": "execute_result",
          "data": {
            "text/plain": [
              "(125, 60)"
            ]
          },
          "metadata": {
            "tags": []
          },
          "execution_count": 44
        }
      ]
    },
    {
      "cell_type": "code",
      "metadata": {
        "trusted": true,
        "_uuid": "b244d0115671f29d46d2cb290f92e6a0fe38bc1d",
        "id": "LgoHNqLLDRuf",
        "colab_type": "code",
        "colab": {
          "base_uri": "https://localhost:8080/",
          "height": 36
        },
        "outputId": "17ddbf36-0e7e-469f-b706-78a6f3384cd1"
      },
      "source": [
        "x_test = np.reshape(x_test, (x_test.shape[0],x_test.shape[1],1))\n",
        "x_test.shape"
      ],
      "execution_count": 45,
      "outputs": [
        {
          "output_type": "execute_result",
          "data": {
            "text/plain": [
              "(125, 60, 1)"
            ]
          },
          "metadata": {
            "tags": []
          },
          "execution_count": 45
        }
      ]
    },
    {
      "cell_type": "code",
      "metadata": {
        "trusted": true,
        "_uuid": "24730042bdad3a140e033a78ae9b170304f8cefb",
        "id": "I1gLdevtDRui",
        "colab_type": "code",
        "colab": {}
      },
      "source": [
        "predicted_price = regressor.predict(x_test)"
      ],
      "execution_count": 46,
      "outputs": []
    },
    {
      "cell_type": "code",
      "metadata": {
        "trusted": true,
        "_uuid": "4b06462fa06e7399373d8a552cd159176fbeef33",
        "id": "SVaMwTTPDRum",
        "colab_type": "code",
        "colab": {
          "base_uri": "https://localhost:8080/",
          "height": 1000
        },
        "outputId": "08961f98-734a-4c35-b469-967efc4281c1"
      },
      "source": [
        "predicted_price = sc.inverse_transform(predicted_price)\n",
        "predicted_price"
      ],
      "execution_count": 47,
      "outputs": [
        {
          "output_type": "execute_result",
          "data": {
            "text/plain": [
              "array([[1078.8502],\n",
              "       [1079.974 ],\n",
              "       [1080.4985],\n",
              "       [1080.8987],\n",
              "       [1081.63  ],\n",
              "       [1083.0432],\n",
              "       [1085.3439],\n",
              "       [1088.4243],\n",
              "       [1092.1129],\n",
              "       [1096.1495],\n",
              "       [1100.5355],\n",
              "       [1105.2089],\n",
              "       [1110.0887],\n",
              "       [1115.0524],\n",
              "       [1119.9983],\n",
              "       [1125.0131],\n",
              "       [1130.3021],\n",
              "       [1135.9155],\n",
              "       [1141.786 ],\n",
              "       [1147.7648],\n",
              "       [1153.5829],\n",
              "       [1159.006 ],\n",
              "       [1163.7942],\n",
              "       [1167.4418],\n",
              "       [1169.3337],\n",
              "       [1168.6149],\n",
              "       [1165.315 ],\n",
              "       [1159.6925],\n",
              "       [1151.9054],\n",
              "       [1142.5355],\n",
              "       [1132.2848],\n",
              "       [1121.8763],\n",
              "       [1112.1942],\n",
              "       [1104.0226],\n",
              "       [1097.8596],\n",
              "       [1094.0131],\n",
              "       [1092.5771],\n",
              "       [1093.3384],\n",
              "       [1096.0107],\n",
              "       [1100.3102],\n",
              "       [1105.694 ],\n",
              "       [1111.4424],\n",
              "       [1116.4425],\n",
              "       [1120.053 ],\n",
              "       [1122.2449],\n",
              "       [1123.1659],\n",
              "       [1123.2936],\n",
              "       [1123.2876],\n",
              "       [1123.9077],\n",
              "       [1125.6979],\n",
              "       [1128.6332],\n",
              "       [1132.4572],\n",
              "       [1136.8508],\n",
              "       [1141.1844],\n",
              "       [1144.7322],\n",
              "       [1146.9536],\n",
              "       [1147.5232],\n",
              "       [1146.1067],\n",
              "       [1142.6389],\n",
              "       [1137.4847],\n",
              "       [1130.6353],\n",
              "       [1122.2992],\n",
              "       [1112.9633],\n",
              "       [1103.1294],\n",
              "       [1093.1067],\n",
              "       [1083.5833],\n",
              "       [1075.0074],\n",
              "       [1067.6077],\n",
              "       [1061.542 ],\n",
              "       [1056.8658],\n",
              "       [1053.495 ],\n",
              "       [1051.4048],\n",
              "       [1050.474 ],\n",
              "       [1050.6392],\n",
              "       [1052.0193],\n",
              "       [1054.5565],\n",
              "       [1058.1593],\n",
              "       [1062.5896],\n",
              "       [1067.2909],\n",
              "       [1071.4886],\n",
              "       [1074.6329],\n",
              "       [1076.6074],\n",
              "       [1077.3801],\n",
              "       [1076.8986],\n",
              "       [1075.3545],\n",
              "       [1072.9622],\n",
              "       [1069.9446],\n",
              "       [1066.8296],\n",
              "       [1064.1846],\n",
              "       [1062.3981],\n",
              "       [1061.8948],\n",
              "       [1062.9435],\n",
              "       [1065.6053],\n",
              "       [1069.6117],\n",
              "       [1074.4175],\n",
              "       [1079.4843],\n",
              "       [1084.2094],\n",
              "       [1088.2606],\n",
              "       [1091.5824],\n",
              "       [1094.0743],\n",
              "       [1095.8284],\n",
              "       [1096.9989],\n",
              "       [1097.6212],\n",
              "       [1097.7079],\n",
              "       [1097.3452],\n",
              "       [1096.9352],\n",
              "       [1097.0514],\n",
              "       [1098.2626],\n",
              "       [1100.866 ],\n",
              "       [1104.7494],\n",
              "       [1109.4581],\n",
              "       [1114.4751],\n",
              "       [1119.4662],\n",
              "       [1124.2952],\n",
              "       [1128.91  ],\n",
              "       [1133.3167],\n",
              "       [1137.4619],\n",
              "       [1141.4067],\n",
              "       [1145.344 ],\n",
              "       [1149.3962],\n",
              "       [1153.4425],\n",
              "       [1157.1593],\n",
              "       [1160.1323],\n",
              "       [1162.0325],\n",
              "       [1162.5632]], dtype=float32)"
            ]
          },
          "metadata": {
            "tags": []
          },
          "execution_count": 47
        }
      ]
    },
    {
      "cell_type": "code",
      "metadata": {
        "trusted": true,
        "_uuid": "e8b30d578fafb1564da4448efb1f994537f6f588",
        "id": "Vl4RJ6c7DRup",
        "colab_type": "code",
        "colab": {
          "base_uri": "https://localhost:8080/",
          "height": 295
        },
        "outputId": "1513e99a-59c1-42bd-dac4-bc244492be92"
      },
      "source": [
        "plt.plot(real_stock_price,color = 'red', label = 'Real Price')\n",
        "plt.plot(predicted_price, color = 'blue', label = 'Predicted Price')\n",
        "plt.title('Google Stock Price Prediction')\n",
        "plt.xlabel('Time')\n",
        "plt.ylabel('Google Stock Price')\n",
        "plt.legend()\n",
        "plt.show()"
      ],
      "execution_count": 48,
      "outputs": [
        {
          "output_type": "display_data",
          "data": {
            "image/png": "[encoded data removed]",
            "text/plain": [
              "<Figure size 432x288 with 1 Axes>"
            ]
          },
          "metadata": {
            "tags": [],
            "needs_background": "light"
          }
        }
      ]
    }
  ]
}