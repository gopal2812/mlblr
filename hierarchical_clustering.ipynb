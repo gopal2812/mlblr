{
  "nbformat": 4,
  "nbformat_minor": 0,
  "metadata": {
    "kernelspec": {
      "display_name": "Python 2",
      "language": "python",
      "name": "python2"
    },
    "language_info": {
      "codemirror_mode": {
        "name": "ipython",
        "version": 2
      },
      "file_extension": ".py",
      "mimetype": "text/x-python",
      "name": "python",
      "nbconvert_exporter": "python",
      "pygments_lexer": "ipython2",
      "version": "2.7.11"
    },
    "colab": {
      "name": "DM_03_04.ipynb",
      "provenance": [],
      "include_colab_link": true
    }
  },
  "cells": [
    {
      "cell_type": "markdown",
      "metadata": {
        "id": "view-in-github",
        "colab_type": "text"
      },
      "source": [
        "<a href=\"https://colab.research.google.com/github/gopal2812/mlblr/blob/master/hierarchical_clustering.ipynb\" target=\"_parent\"><img src=\"https://colab.research.google.com/assets/colab-badge.svg\" alt=\"Open In Colab\"/></a>"
      ]
    },
    {
      "cell_type": "markdown",
      "metadata": {
        "id": "XjKKUadL5sfh",
        "colab_type": "text"
      },
      "source": [
        "# IMPORT LIBRARIES"
      ]
    },
    {
      "cell_type": "code",
      "metadata": {
        "id": "TKAndhDb5sfu",
        "colab_type": "code",
        "colab": {}
      },
      "source": [
        "import pandas as pd\n",
        "import numpy as np\n",
        "from matplotlib import pyplot as plt\n",
        "from scipy.cluster.hierarchy import dendrogram, linkage\n",
        "%matplotlib inline"
      ],
      "execution_count": 0,
      "outputs": []
    },
    {
      "cell_type": "markdown",
      "metadata": {
        "id": "YMf0n7dG5sf_",
        "colab_type": "text"
      },
      "source": [
        "# LOAD DATA\n",
        "## Read CSV"
      ]
    },
    {
      "cell_type": "code",
      "metadata": {
        "id": "veJSrtVT5743",
        "colab_type": "code",
        "colab": {
          "base_uri": "https://localhost:8080/",
          "height": 124
        },
        "outputId": "3de09745-7653-4495-807d-db3f436d89cf"
      },
      "source": [
        "from google.colab import drive\n",
        "drive.mount('/content/gdrive')"
      ],
      "execution_count": 3,
      "outputs": [
        {
          "output_type": "stream",
          "text": [
            "Go to this URL in a browser: https://accounts.google.com/o/oauth2/auth?client_id=947318989803-6bn6qk8qdgf4n4g3pfee6491hc0brc4i.apps.googleusercontent.com&redirect_uri=urn%3aietf%3awg%3aoauth%3a2.0%3aoob&response_type=code&scope=email%20https%3a%2f%2fwww.googleapis.com%2fauth%2fdocs.test%20https%3a%2f%2fwww.googleapis.com%2fauth%2fdrive%20https%3a%2f%2fwww.googleapis.com%2fauth%2fdrive.photos.readonly%20https%3a%2f%2fwww.googleapis.com%2fauth%2fpeopleapi.readonly\n",
            "\n",
            "Enter your authorization code:\n",
            "··········\n",
            "Mounted at /content/gdrive\n"
          ],
          "name": "stdout"
        }
      ]
    },
    {
      "cell_type": "code",
      "metadata": {
        "id": "S0vuvf0n5sgD",
        "colab_type": "code",
        "colab": {
          "base_uri": "https://localhost:8080/",
          "height": 537
        },
        "outputId": "63106eb2-62ba-4b84-92bb-ad76e725a847"
      },
      "source": [
        "states = pd.read_csv('gdrive/My Drive/Ex_Files_DSF_DataMining/Exercise Files/Ch3/03_04/ClusterData.csv')\n",
        "list(states.columns.values)"
      ],
      "execution_count": 6,
      "outputs": [
        {
          "output_type": "execute_result",
          "data": {
            "text/plain": [
              "['State',\n",
              " 'state_code',\n",
              " 'data science',\n",
              " 'cluster analysis',\n",
              " 'college',\n",
              " 'startup',\n",
              " 'entrepreneur',\n",
              " 'ceo',\n",
              " 'mortgage',\n",
              " 'nba',\n",
              " 'nfl',\n",
              " 'mlb',\n",
              " 'fifa',\n",
              " 'modern dance',\n",
              " 'prius',\n",
              " 'escalade',\n",
              " 'subaru',\n",
              " 'jello',\n",
              " 'bbq',\n",
              " 'royal family',\n",
              " 'obfuscation',\n",
              " 'unicorn',\n",
              " 'Extraversion',\n",
              " 'Agreeableness',\n",
              " 'Conscientiousness',\n",
              " 'Neuroticism',\n",
              " 'Openness',\n",
              " 'PsychRegions',\n",
              " 'region',\n",
              " 'division']"
            ]
          },
          "metadata": {
            "tags": []
          },
          "execution_count": 6
        }
      ]
    },
    {
      "cell_type": "markdown",
      "metadata": {
        "collapsed": false,
        "id": "JteQYuiY5sgQ",
        "colab_type": "text"
      },
      "source": [
        "## Save numerical data only"
      ]
    },
    {
      "cell_type": "code",
      "metadata": {
        "id": "Ni85uNfi5sgT",
        "colab_type": "code",
        "colab": {
          "base_uri": "https://localhost:8080/",
          "height": 1000
        },
        "outputId": "ae58e087-e331-4bcf-db20-befb45b12481"
      },
      "source": [
        "st = states[states.columns[2:]]\n",
        "list(st.columns.values)\n",
        "print(states.ix[:,1])"
      ],
      "execution_count": 12,
      "outputs": [
        {
          "output_type": "stream",
          "text": [
            "0     AL\n",
            "1     AZ\n",
            "2     AR\n",
            "3     CA\n",
            "4     CO\n",
            "5     CT\n",
            "6     DE\n",
            "7     FL\n",
            "8     GA\n",
            "9     ID\n",
            "10    IL\n",
            "11    IN\n",
            "12    IA\n",
            "13    KS\n",
            "14    KY\n",
            "15    LA\n",
            "16    ME\n",
            "17    MD\n",
            "18    MA\n",
            "19    MI\n",
            "20    MN\n",
            "21    MS\n",
            "22    MO\n",
            "23    MT\n",
            "24    NE\n",
            "25    NV\n",
            "26    NH\n",
            "27    NJ\n",
            "28    NM\n",
            "29    NY\n",
            "30    NC\n",
            "31    ND\n",
            "32    OH\n",
            "33    OK\n",
            "34    OR\n",
            "35    PA\n",
            "36    RI\n",
            "37    SC\n",
            "38    SD\n",
            "39    TN\n",
            "40    TX\n",
            "41    UT\n",
            "42    VT\n",
            "43    VA\n",
            "44    WA\n",
            "45    WV\n",
            "46    WI\n",
            "47    WY\n",
            "Name: state_code, dtype: object\n"
          ],
          "name": "stdout"
        },
        {
          "output_type": "stream",
          "text": [
            "/usr/local/lib/python2.7/dist-packages/ipykernel_launcher.py:3: DeprecationWarning: \n",
            ".ix is deprecated. Please use\n",
            ".loc for label based indexing or\n",
            ".iloc for positional indexing\n",
            "\n",
            "See the documentation here:\n",
            "http://pandas.pydata.org/pandas-docs/stable/indexing.html#ix-indexer-is-deprecated\n",
            "  This is separate from the ipykernel package so we can avoid doing imports until\n"
          ],
          "name": "stderr"
        }
      ]
    },
    {
      "cell_type": "code",
      "metadata": {
        "id": "68KGxrZM6pqr",
        "colab_type": "code",
        "colab": {
          "base_uri": "https://localhost:8080/",
          "height": 260
        },
        "outputId": "8dc57649-bc86-476b-8fbf-e2e719cae2c7"
      },
      "source": [
        "st.index = states.ix[:,1]\n",
        "print(st.index)"
      ],
      "execution_count": 15,
      "outputs": [
        {
          "output_type": "stream",
          "text": [
            "Index([u'AL', u'AZ', u'AR', u'CA', u'CO', u'CT', u'DE', u'FL', u'GA', u'ID',\n",
            "       u'IL', u'IN', u'IA', u'KS', u'KY', u'LA', u'ME', u'MD', u'MA', u'MI',\n",
            "       u'MN', u'MS', u'MO', u'MT', u'NE', u'NV', u'NH', u'NJ', u'NM', u'NY',\n",
            "       u'NC', u'ND', u'OH', u'OK', u'OR', u'PA', u'RI', u'SC', u'SD', u'TN',\n",
            "       u'TX', u'UT', u'VT', u'VA', u'WA', u'WV', u'WI', u'WY'],\n",
            "      dtype='object', name=u'state_code')\n"
          ],
          "name": "stdout"
        },
        {
          "output_type": "stream",
          "text": [
            "/usr/local/lib/python2.7/dist-packages/ipykernel_launcher.py:1: DeprecationWarning: \n",
            ".ix is deprecated. Please use\n",
            ".loc for label based indexing or\n",
            ".iloc for positional indexing\n",
            "\n",
            "See the documentation here:\n",
            "http://pandas.pydata.org/pandas-docs/stable/indexing.html#ix-indexer-is-deprecated\n",
            "  \"\"\"Entry point for launching an IPython kernel.\n"
          ],
          "name": "stderr"
        }
      ]
    },
    {
      "cell_type": "markdown",
      "metadata": {
        "id": "qPHU4RN95sga",
        "colab_type": "text"
      },
      "source": [
        "# CLUSTERING\n",
        "## Create Linkage Matrix"
      ]
    },
    {
      "cell_type": "code",
      "metadata": {
        "id": "vIwqRz_b5sgc",
        "colab_type": "code",
        "colab": {}
      },
      "source": [
        "Z = linkage(st, 'ward')"
      ],
      "execution_count": 0,
      "outputs": []
    },
    {
      "cell_type": "markdown",
      "metadata": {
        "id": "ZARFyfTS5sgh",
        "colab_type": "text"
      },
      "source": [
        "## Plot Dendrogram of Clusters"
      ]
    },
    {
      "cell_type": "code",
      "metadata": {
        "id": "IVX97uTN5sgi",
        "colab_type": "code",
        "colab": {
          "base_uri": "https://localhost:8080/",
          "height": 636
        },
        "outputId": "57b7741a-ad44-4622-db4d-9a5925829ccc"
      },
      "source": [
        "plt.figure(figsize = (25, 10))\n",
        "plt.title('Cluster with All Searches and Personality')\n",
        "plt.ylabel('distance')\n",
        "dendrogram(\n",
        "    Z,\n",
        "    labels = st.index,\n",
        "    leaf_rotation = 0.,\n",
        "    leaf_font_size = 18.,\n",
        ")\n",
        "plt.show()"
      ],
      "execution_count": 17,
      "outputs": [
        {
          "output_type": "display_data",
          "data": {
            "image/png": "[encoded data removed]",
            "text/plain": [
              "<Figure size 1800x720 with 1 Axes>"
            ]
          },
          "metadata": {
            "tags": []
          }
        }
      ]
    },
    {
      "cell_type": "code",
      "metadata": {
        "id": "YAebiyHY5sgn",
        "colab_type": "code",
        "colab": {}
      },
      "source": [
        ""
      ],
      "execution_count": 0,
      "outputs": []
    }
  ]
}