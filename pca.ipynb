{
  "nbformat": 4,
  "nbformat_minor": 0,
  "metadata": {
    "kernelspec": {
      "display_name": "Python 2",
      "language": "python",
      "name": "python2"
    },
    "language_info": {
      "codemirror_mode": {
        "name": "ipython",
        "version": 2
      },
      "file_extension": ".py",
      "mimetype": "text/x-python",
      "name": "python",
      "nbconvert_exporter": "python",
      "pygments_lexer": "ipython2",
      "version": "2.7.16"
    },
    "colab": {
      "name": "DM_02_04.ipynb",
      "provenance": [],
      "include_colab_link": true
    }
  },
  "cells": [
    {
      "cell_type": "markdown",
      "metadata": {
        "id": "view-in-github",
        "colab_type": "text"
      },
      "source": [
        "<a href=\"https://colab.research.google.com/github/gopal2812/mlblr/blob/master/pca.ipynb\" target=\"_parent\"><img src=\"https://colab.research.google.com/assets/colab-badge.svg\" alt=\"Open In Colab\"/></a>"
      ]
    },
    {
      "cell_type": "markdown",
      "metadata": {
        "id": "YeVhq0tq__6w",
        "colab_type": "text"
      },
      "source": [
        "# Import libraries"
      ]
    },
    {
      "cell_type": "code",
      "metadata": {
        "id": "pF6wxPK___60",
        "colab_type": "code",
        "colab": {}
      },
      "source": [
        "import pandas as pd\n",
        "import numpy as np\n",
        "from sklearn.preprocessing import scale\n",
        "from sklearn.decomposition import PCA"
      ],
      "execution_count": 0,
      "outputs": []
    },
    {
      "cell_type": "markdown",
      "metadata": {
        "id": "xBZuxaHj__65",
        "colab_type": "text"
      },
      "source": [
        "# Load data"
      ]
    },
    {
      "cell_type": "code",
      "metadata": {
        "id": "J1mZBseoAdZa",
        "colab_type": "code",
        "colab": {
          "base_uri": "https://localhost:8080/",
          "height": 124
        },
        "outputId": "f6712ef5-f416-4434-b629-a65bf57137e4"
      },
      "source": [
        "from google.colab import drive\n",
        "drive.mount('/content/gdrive')"
      ],
      "execution_count": 4,
      "outputs": [
        {
          "output_type": "stream",
          "text": [
            "Go to this URL in a browser: https://accounts.google.com/o/oauth2/auth?client_id=947318989803-6bn6qk8qdgf4n4g3pfee6491hc0brc4i.apps.googleusercontent.com&redirect_uri=urn%3aietf%3awg%3aoauth%3a2.0%3aoob&response_type=code&scope=email%20https%3a%2f%2fwww.googleapis.com%2fauth%2fdocs.test%20https%3a%2f%2fwww.googleapis.com%2fauth%2fdrive%20https%3a%2f%2fwww.googleapis.com%2fauth%2fdrive.photos.readonly%20https%3a%2f%2fwww.googleapis.com%2fauth%2fpeopleapi.readonly\n",
            "\n",
            "Enter your authorization code:\n",
            "··········\n",
            "Mounted at /content/gdrive\n"
          ],
          "name": "stdout"
        }
      ]
    },
    {
      "cell_type": "code",
      "metadata": {
        "id": "HTC0E4_iG4Ev",
        "colab_type": "code",
        "colab": {}
      },
      "source": [
        "root_path = 'gdrive/My Drive/Ex_Files_DSF_DataMining/Exercise Files/Ch2/02_04/data/b5.csv'"
      ],
      "execution_count": 0,
      "outputs": []
    },
    {
      "cell_type": "code",
      "metadata": {
        "id": "P5r2RsiW__66",
        "colab_type": "code",
        "colab": {}
      },
      "source": [
        "\n",
        "data = pd.read_csv('gdrive/My Drive/Ex_Files_DSF_DataMining/Exercise Files/Ch2/02_04/data/b5.csv')"
      ],
      "execution_count": 0,
      "outputs": []
    },
    {
      "cell_type": "markdown",
      "metadata": {
        "id": "p08XMniz__6_",
        "colab_type": "text"
      },
      "source": [
        "## Convert data to numpy array"
      ]
    },
    {
      "cell_type": "code",
      "metadata": {
        "id": "KkSzmq_V__7A",
        "colab_type": "code",
        "colab": {}
      },
      "source": [
        "X = data.values"
      ],
      "execution_count": 0,
      "outputs": []
    },
    {
      "cell_type": "markdown",
      "metadata": {
        "id": "WbFSU33p__7E",
        "colab_type": "text"
      },
      "source": [
        "## Scale the values"
      ]
    },
    {
      "cell_type": "code",
      "metadata": {
        "scrolled": true,
        "id": "gIvKcmWo__7G",
        "colab_type": "code",
        "colab": {
          "base_uri": "https://localhost:8080/",
          "height": 72
        },
        "outputId": "2302b376-e9e4-4674-b6e5-91fdc40a79f3"
      },
      "source": [
        "X = scale(X)"
      ],
      "execution_count": 10,
      "outputs": [
        {
          "output_type": "stream",
          "text": [
            "/usr/local/lib/python2.7/dist-packages/sklearn/utils/validation.py:595: DataConversionWarning: Data with input dtype int64 was converted to float64 by the scale function.\n",
            "  warnings.warn(msg, DataConversionWarning)\n"
          ],
          "name": "stderr"
        }
      ]
    },
    {
      "cell_type": "markdown",
      "metadata": {
        "id": "rbqzbvSH__7K",
        "colab_type": "text"
      },
      "source": [
        "# Conduct PCA\n",
        "## PCA with 50 components"
      ]
    },
    {
      "cell_type": "code",
      "metadata": {
        "id": "EvhYPHR___7M",
        "colab_type": "code",
        "colab": {
          "base_uri": "https://localhost:8080/",
          "height": 173
        },
        "outputId": "0237221c-3971-40f3-e083-d9389c1a4c1e"
      },
      "source": [
        "pca = PCA()\n",
        "pca.fit(X)\n",
        "print(pca.explained_variance_ratio_)"
      ],
      "execution_count": 11,
      "outputs": [
        {
          "output_type": "stream",
          "text": [
            "[0.16101911 0.09246263 0.07527279 0.07100381 0.05526279 0.0313044\n",
            " 0.02660753 0.02099101 0.01937029 0.01849593 0.01794133 0.01735232\n",
            " 0.01689316 0.01604282 0.01576013 0.01470117 0.01459846 0.01438242\n",
            " 0.01362569 0.01322527 0.0131285  0.01268631 0.01223362 0.01180048\n",
            " 0.01164071 0.01136677 0.01108761 0.0106515  0.01045028 0.0102118\n",
            " 0.01003675 0.00983507 0.00974897 0.00963948 0.0089566  0.00894\n",
            " 0.00868373 0.00840808 0.00831106 0.00808253 0.00793945 0.00760062\n",
            " 0.00748126 0.00727417 0.00694749 0.00689884 0.00650197 0.00647554\n",
            " 0.0062404  0.00442735]\n"
          ],
          "name": "stdout"
        }
      ]
    },
    {
      "cell_type": "markdown",
      "metadata": {
        "id": "YT7FBn4-__7R",
        "colab_type": "text"
      },
      "source": [
        "## PCA with 5 components"
      ]
    },
    {
      "cell_type": "code",
      "metadata": {
        "id": "Vle86BqW__7T",
        "colab_type": "code",
        "colab": {
          "base_uri": "https://localhost:8080/",
          "height": 35
        },
        "outputId": "4b74e23a-975a-47d8-9d5e-a93f4ed77639"
      },
      "source": [
        "pca5 = PCA(n_components=5)\n",
        "pca5.fit(X)\n",
        "print(pca5.explained_variance_ratio_)"
      ],
      "execution_count": 12,
      "outputs": [
        {
          "output_type": "stream",
          "text": [
            "[0.16101911 0.09246262 0.07527272 0.07100378 0.05526273]\n"
          ],
          "name": "stdout"
        }
      ]
    },
    {
      "cell_type": "markdown",
      "metadata": {
        "id": "InuhzdXD__7X",
        "colab_type": "text"
      },
      "source": [
        "## Contributions of variables to components"
      ]
    },
    {
      "cell_type": "code",
      "metadata": {
        "id": "fdVUyKaK__7Y",
        "colab_type": "code",
        "colab": {
          "base_uri": "https://localhost:8080/",
          "height": 797
        },
        "outputId": "6242f07a-7a86-448d-ba5a-7d20ee3d6bf7"
      },
      "source": [
        "print(pca5.components_)"
      ],
      "execution_count": 13,
      "outputs": [
        {
          "output_type": "stream",
          "text": [
            "[[-0.18390876  0.17969773 -0.25065004  0.20613677 -0.23167021  0.19768248\n",
            "  -0.22070071  0.13297068 -0.16463066  0.20183451  0.15465975 -0.12978534\n",
            "   0.12271778 -0.10236924  0.14227525  0.16681128  0.16277563  0.17394344\n",
            "   0.17756631  0.19476482  0.09255956 -0.17766535  0.09908012 -0.11467365\n",
            "   0.13341667 -0.05636218  0.18786173 -0.13286057 -0.11972978 -0.187838\n",
            "  -0.11091568  0.05024124 -0.07324535  0.15190006 -0.10873798  0.09267657\n",
            "  -0.0445543   0.13905416 -0.09130713 -0.09522104 -0.06943318  0.09889604\n",
            "  -0.03539159  0.07185829 -0.13054053  0.0869827  -0.11181874 -0.01241642\n",
            "   0.00436977 -0.11687475]\n",
            " [-0.12859527  0.16740501 -0.07309951  0.09547219 -0.14846751  0.1280706\n",
            "  -0.13658096  0.1083606  -0.11569432  0.0757887  -0.2272668   0.14364813\n",
            "  -0.21598477  0.11923821 -0.18824046 -0.25221517 -0.24456159 -0.24844539\n",
            "  -0.19627809 -0.18518344  0.08482554 -0.17631372 -0.05191657 -0.19235762\n",
            "   0.17360235 -0.17868663  0.1703172  -0.14029    -0.20734471 -0.09451087\n",
            "   0.12410636 -0.16246233  0.04191857 -0.20156348  0.11324315 -0.16957523\n",
            "   0.07221508 -0.11062731  0.07160659  0.05409084 -0.01404275 -0.0288273\n",
            "  -0.10893771  0.02694686 -0.02199346  0.06266632  0.03785657 -0.04565466\n",
            "  -0.08991811 -0.06996891]\n",
            " [ 0.15479576 -0.14201557  0.06433441 -0.16685     0.08707137 -0.10325099\n",
            "   0.1255531  -0.19072006  0.17677987 -0.15796997 -0.12672145  0.10486199\n",
            "  -0.18011054  0.05549089 -0.03572132 -0.08470014 -0.00688088 -0.00979547\n",
            "  -0.02367362 -0.06606548  0.14080635 -0.07866858  0.20514466 -0.2496799\n",
            "   0.17259246 -0.22637549  0.11295634 -0.18874417 -0.22316218 -0.07483977\n",
            "  -0.18955466  0.18291342 -0.18243634  0.14802958 -0.20996307  0.18971945\n",
            "  -0.22805085  0.18099786 -0.24091843 -0.17523812  0.03020258 -0.03905144\n",
            "   0.02440012 -0.01212589  0.03022015 -0.0334132  -0.01392737  0.06316222\n",
            "  -0.12635347  0.04916955]\n",
            " [ 0.06434584 -0.07060768  0.11386335 -0.08785424  0.06370282  0.03445785\n",
            "   0.08317091 -0.04988051  0.01030674 -0.0770203  -0.00725582  0.01090999\n",
            "  -0.03040274  0.06493247  0.03469836  0.0050198  -0.04205431 -0.03814833\n",
            "  -0.04646762 -0.08903907 -0.00541199  0.05273513 -0.08485264  0.0693257\n",
            "  -0.07288452  0.09188088 -0.08042709  0.05098639  0.04024331  0.0325087\n",
            "  -0.08181494 -0.03830567 -0.1666273  -0.01436769  0.03778699 -0.01483978\n",
            "  -0.05517138  0.0059553   0.00378414 -0.14307285 -0.32942132  0.29341677\n",
            "  -0.28984434  0.25277142 -0.29781113  0.25761335 -0.26769254 -0.32532272\n",
            "  -0.20945066 -0.33023594]\n",
            " [ 0.15033532 -0.12991738  0.0670001  -0.13595634  0.13072703 -0.07230578\n",
            "   0.12689976 -0.1418222   0.15535177 -0.11115756  0.14179755 -0.14661533\n",
            "   0.10426239  0.00066873  0.12119366  0.1534681   0.1617477   0.16599412\n",
            "   0.22659386  0.05044528  0.17821968 -0.10964129  0.16641807 -0.20729185\n",
            "   0.19388864 -0.14170581  0.15458157 -0.1409912  -0.14271201 -0.02312754\n",
            "   0.21243222 -0.19848913  0.11502855 -0.11666493  0.23628757 -0.19481177\n",
            "   0.22239364 -0.09031451  0.24843152  0.16690983 -0.0192318   0.11527206\n",
            "  -0.05582166  0.15293978  0.06821136  0.07047435  0.02624448  0.00120052\n",
            "  -0.06716219  0.00877969]]\n"
          ],
          "name": "stdout"
        }
      ]
    },
    {
      "cell_type": "code",
      "metadata": {
        "id": "m5vF0T-F__7d",
        "colab_type": "code",
        "colab": {}
      },
      "source": [
        ""
      ],
      "execution_count": 0,
      "outputs": []
    }
  ]
}