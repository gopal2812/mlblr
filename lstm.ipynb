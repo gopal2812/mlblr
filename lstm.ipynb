{
  "nbformat": 4,
  "nbformat_minor": 0,
  "metadata": {
    "colab": {
      "name": "Untitled23.ipynb",
      "version": "0.3.2",
      "provenance": [],
      "collapsed_sections": [],
      "include_colab_link": true
    },
    "kernelspec": {
      "name": "python3",
      "display_name": "Python 3"
    },
    "accelerator": "TPU"
  },
  "cells": [
    {
      "cell_type": "markdown",
      "metadata": {
        "id": "view-in-github",
        "colab_type": "text"
      },
      "source": [
        "<a href=\"https://colab.research.google.com/github/gopal2812/mlblr/blob/master/lstm.ipynb\" target=\"_parent\"><img src=\"https://colab.research.google.com/assets/colab-badge.svg\" alt=\"Open In Colab\"/></a>"
      ]
    },
    {
      "cell_type": "code",
      "metadata": {
        "id": "gb8t2x9PXqaf",
        "colab_type": "code",
        "colab": {}
      },
      "source": [
        "import datetime\n",
        "import os\n",
        "import pandas as pd\n",
        "import numpy as np\n",
        "#import pylab as plt\n",
        "#from pylab import rcParams\n",
        "import math\n",
        "#import matplotlib as plt\n",
        "import pylab as plt\n",
        "from keras.models import Sequential\n",
        "from keras.layers import Dense\n",
        "from keras.layers import LSTM\n",
        "from sklearn.preprocessing import MinMaxScaler\n",
        "from sklearn.metrics import mean_squared_error\n",
        "from sklearn.metrics import mean_absolute_error\n",
        "from numpy import concatenate\n",
        "from pylab import rcParams\n"
      ],
      "execution_count": 0,
      "outputs": []
    },
    {
      "cell_type": "code",
      "metadata": {
        "id": "DnFcb23_XyLa",
        "colab_type": "code",
        "colab": {}
      },
      "source": [
        "from google.colab import files\n",
        "uploaded = files.upload()"
      ],
      "execution_count": 0,
      "outputs": []
    },
    {
      "cell_type": "code",
      "metadata": {
        "id": "r3TP9atRY_Xz",
        "colab_type": "code",
        "colab": {}
      },
      "source": [
        "#data = pd.read_csv('data.csv', usecols=['ts', 'rtd'])\n",
        "data2 = pd.read_csv('client.csv', usecols=['Date', 'AP_Num'])\n",
        "#testData = pd.read_csv('test_data.csv', usecols=['ts', 'rtd']) \n",
        "testData2 = pd.read_csv('client.csv', usecols=['Date', 'AP_Num']) \n",
        "print(data2.head(10))"
      ],
      "execution_count": 0,
      "outputs": []
    },
    {
      "cell_type": "code",
      "metadata": {
        "id": "jjL0yJTiY_Uf",
        "colab_type": "code",
        "colab": {}
      },
      "source": [
        "ap_num = data2.AP_Num.values\n",
        "#data2 = data2.assign(date = pd.to_datetime(data2['Date'], unit='s'))\n",
        "\n",
        "def split_sequence(sequence, n_steps_in, n_steps_out):\n",
        "    X, y = list(), list()\n",
        "    for i in range(len(sequence)):\n",
        "        i = i * 5\n",
        "        #s find the end of this pattern\n",
        "        end_ix = i + n_steps_in\n",
        "        out_end_ix = end_ix + n_steps_out\n",
        "        # check if we are beyond the sequence\n",
        "        if out_end_ix > len(sequence):\n",
        "            break\n",
        "        # gather input and output parts of the pattern\n",
        "        seq_x, seq_y = sequence[i:end_ix], sequence[end_ix:out_end_ix]\n",
        "        X.append(seq_x)\n",
        "        y.append(seq_y)\n",
        "    return np.array(X), np.array(y)\n",
        "  \n",
        "look_back=2\n",
        "look_forward=2\n",
        "n_features=1\n",
        "\n",
        "trainX, trainY = split_sequence(ap_num, look_back, look_forward)\n",
        "\n",
        "\n",
        "\n",
        "trainX = trainX.reshape((trainX.shape[0], trainX.shape[1], n_features))\n",
        "model = Sequential()\n",
        "model.add(LSTM(100, activation='relu', return_sequences=True, input_shape=(look_back, n_features)))\n",
        "model.add(LSTM(100, activation='relu'))\n",
        "model.add(Dense(look_forward))\n",
        "model.compile(optimizer='adam', loss='mse')\n",
        "model.fit(trainX, trainY, epochs=50, verbose=2)\n",
        "\n",
        "test_ap = testData2.AP_Num.values\n",
        "test_ap_scaled = test_ap\n",
        "\n",
        "testX, testY = split_sequence(test_ap_scaled, look_back, look_forward)\n",
        "testX = testX.reshape((testX.shape[0], testX.shape[1], n_features))\n",
        "\n",
        "  "
      ],
      "execution_count": 0,
      "outputs": []
    },
    {
      "cell_type": "code",
      "metadata": {
        "id": "7rXAuWdXlSE_",
        "colab_type": "code",
        "colab": {}
      },
      "source": [
        "pred_train = model.predict(trainX)\n",
        "#pred_train = scaler.inverse_transform(pred_train)\n",
        "pred_train = pred_train.flatten()\n",
        "\n",
        "#trainY = scaler.inverse_transform(trainY) \n",
        "trainY = trainY.flatten()\n",
        "\n",
        "pred_test = model.predict(testX)\n",
        "#pred_test = scaler.inverse_transform(pred_test)\n",
        "pred_test = pred_test.flatten()\n",
        "\n",
        "#testY = scaler.inverse_transform(testY)\n",
        "testY = testY.flatten()\n",
        "\n",
        "test_rmse = math.sqrt(mean_squared_error(testY, pred_test))\n",
        "test_mae = mean_absolute_error(testY, pred_test)\n",
        "  \n",
        "print('test_rmse: %.2f' %test_rmse)\n",
        "print('test_mae: %.2f' %test_mae)\n"
      ],
      "execution_count": 0,
      "outputs": []
    },
    {
      "cell_type": "code",
      "metadata": {
        "id": "wgcoC0KZoQDH",
        "colab_type": "code",
        "colab": {}
      },
      "source": [
        "x = [datetime.datetime.fromtimestamp(1555961400) + datetime.timedelta(seconds=i) for i in range(86400)]\n",
        "x1 = [i.time() for i in x]\n",
        "x2=list()\n",
        "for i in range(1,86400):\n",
        "    if i%10==0:\n",
        "        x2.append(x1[i])\n",
        "    \n",
        "\n",
        "t = 100\n",
        "t1 = 300\n",
        "\n",
        "t = 2500\n",
        "t1 = 3500\n",
        "\n",
        "plt.ylim(0, 20), #plt.xlim(0, 2*t), \n",
        "plt.plot(x[t:t1], trainY[t:t1], '-b', label='train'),\n",
        "plt.plot(x[t:t1], pred_train[t:t1], '-r', label = 'pred_train')\n",
        "plt.legend(loc='upper right')\n",
        "plt.show()\n"
      ],
      "execution_count": 0,
      "outputs": []
    },
    {
      "cell_type": "code",
      "metadata": {
        "id": "xT_c2ODUoXnq",
        "colab_type": "code",
        "colab": {}
      },
      "source": [
        "t = 1\n",
        "t1 = 8600\n",
        "\n",
        "plt.ylim(0, 15), #plt.xlim(0, 2*t), \n",
        "plt.plot(x2[t:t1], testY[t:t1], '-b', label='test'),\n",
        "plt.plot(x2[t:t1], pred_test[t:t1], '-r', label = 'pred_test')\n",
        "plt.legend(loc='upper right')\n",
        "plt.xlabel('time')\n",
        "plt.ylabel('RTD (seconds)')\n",
        "plt.show()\n",
        "\n"
      ],
      "execution_count": 0,
      "outputs": []
    },
    {
      "cell_type": "code",
      "metadata": {
        "id": "o7MuMWeoYeOW",
        "colab_type": "code",
        "colab": {}
      },
      "source": [
        "!ls"
      ],
      "execution_count": 0,
      "outputs": []
    }
  ]
}