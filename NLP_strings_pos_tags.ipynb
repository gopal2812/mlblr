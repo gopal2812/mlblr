{
  "nbformat": 4,
  "nbformat_minor": 0,
  "metadata": {
    "kernelspec": {
      "display_name": "Python 3",
      "language": "python",
      "name": "python3"
    },
    "language_info": {
      "codemirror_mode": {
        "name": "ipython",
        "version": 3
      },
      "file_extension": ".py",
      "mimetype": "text/x-python",
      "name": "python",
      "nbconvert_exporter": "python",
      "pygments_lexer": "ipython3",
      "version": "3.7.1"
    },
    "colab": {
      "name": "utf-8''NLP_C2_W2_lecture_notebook_strings_tags.ipynb",
      "provenance": [],
      "include_colab_link": true
    }
  },
  "cells": [
    {
      "cell_type": "markdown",
      "metadata": {
        "id": "view-in-github",
        "colab_type": "text"
      },
      "source": [
        "<a href=\"https://colab.research.google.com/github/gopal2812/mlblr/blob/master/NLP_strings_pos_tags.ipynb\" target=\"_parent\"><img src=\"https://colab.research.google.com/assets/colab-badge.svg\" alt=\"Open In Colab\"/></a>"
      ]
    },
    {
      "cell_type": "markdown",
      "metadata": {
        "id": "i0lMFHbJ9gzL"
      },
      "source": [
        "# Parts-of-Speech Tagging - First Steps: Working with text files, Creating a Vocabulary and Handling Unknown Words"
      ]
    },
    {
      "cell_type": "markdown",
      "metadata": {
        "id": "pnX0-CFR9gzM"
      },
      "source": [
        "In this lecture notebook you will create a vocabulary from a tagged dataset and learn how to deal with words that are not present in this vocabulary when working with other text sources. Aside from this you will also learn how to:\n",
        " \n",
        "- read text files\n",
        "- work with defaultdict\n",
        "- work with string data\n",
        " "
      ]
    },
    {
      "cell_type": "code",
      "metadata": {
        "id": "VqQftHUE9gzN"
      },
      "source": [
        "import string\n",
        "from collections import defaultdict"
      ],
      "execution_count": null,
      "outputs": []
    },
    {
      "cell_type": "markdown",
      "metadata": {
        "id": "so8RhmUD9gzR"
      },
      "source": [
        "### Read Text Data"
      ]
    },
    {
      "cell_type": "markdown",
      "metadata": {
        "id": "pGRTTj9G9gzR"
      },
      "source": [
        "A tagged dataset taken from the Wall Street Journal is provided in the file `WSJ_02-21.pos`. \n",
        "\n",
        "To read this file you can use Python's context manager by using the `with` keyword and specifying the name of the file you wish to read. To actually save the contents of the file into memory you will need to use the `readlines()` method and store its return value in a variable. \n",
        "\n",
        "Python's context managers are great because you don't need to explicitly close the connection to the file, this is done under the hood:"
      ]
    },
    {
      "cell_type": "code",
      "metadata": {
        "id": "uokbqb-U9gzS"
      },
      "source": [
        "# Read lines from 'WSJ_02-21.pos' file and save them into the 'lines' variable\n",
        "with open(\"WSJ_02-21.pos\", 'r') as f:\n",
        "    lines = f.readlines()"
      ],
      "execution_count": null,
      "outputs": []
    },
    {
      "cell_type": "markdown",
      "metadata": {
        "id": "uBBIZg1C9gzV"
      },
      "source": [
        "To check the contents of the dataset you can print the first 5 lines:"
      ]
    },
    {
      "cell_type": "code",
      "metadata": {
        "id": "qE6Ebb1a9gzW",
        "outputId": "3e15c926-5ebd-41f2-caa1-6d02a1e48e70"
      },
      "source": [
        "# Print columns for reference\n",
        "print(\"\\t\\tWord\", \"\\tTag\\n\")\n",
        "\n",
        "# Print first five lines of the dataset\n",
        "for i in range(5):\n",
        "    print(f'line number {i+1}: {lines[i]}')"
      ],
      "execution_count": null,
      "outputs": [
        {
          "output_type": "stream",
          "text": [
            "\t\tWord \tTag\n",
            "\n",
            "line number 1: In\tIN\n",
            "\n",
            "line number 2: an\tDT\n",
            "\n",
            "line number 3: Oct.\tNNP\n",
            "\n",
            "line number 4: 19\tCD\n",
            "\n",
            "line number 5: review\tNN\n",
            "\n"
          ],
          "name": "stdout"
        }
      ]
    },
    {
      "cell_type": "markdown",
      "metadata": {
        "id": "V_HISnAC9gza"
      },
      "source": [
        "Each line within the dataset has a word followed by its corresponding tag. However since the printing was done using a formatted string it can be inferred that the **word** and the **tag** are separated by a tab (or some spaces) and there is a newline at the end of each line (notice that there is a space between each line). \n",
        "\n",
        "If you want to understand the meaning of these tags you can take a look [here](https://www.ling.upenn.edu/courses/Fall_2003/ling001/penn_treebank_pos.html).\n",
        "\n",
        "To better understand how the information is structured in the dataset it is recommended to print an unformatted version of it:"
      ]
    },
    {
      "cell_type": "code",
      "metadata": {
        "id": "tkIR5AFl9gzb",
        "outputId": "0bf6e67f-7084-4e25-d128-d952f89090fd"
      },
      "source": [
        "# Print first line (unformatted)\n",
        "lines[0]"
      ],
      "execution_count": null,
      "outputs": [
        {
          "output_type": "execute_result",
          "data": {
            "text/plain": [
              "'In\\tIN\\n'"
            ]
          },
          "metadata": {
            "tags": []
          },
          "execution_count": 6
        }
      ]
    },
    {
      "cell_type": "markdown",
      "metadata": {
        "id": "Lcm02_Gh9gze"
      },
      "source": [
        "Indeed there is a tab between the word and the tag and a newline at the end of each line.\n",
        "\n",
        "### Creating a vocabulary\n",
        "\n",
        "Now that you understand how the dataset is structured, you will create a vocabulary out of it. A vocabulary is made up of every word that appeared at least 2 times in the dataset. \n",
        "For this, follow these steps:\n",
        "- Get only the words from the dataset\n",
        "- Use a defaultdict to count the number of times each word appears\n",
        "- Filter the dict to only include words that appeared at least 2 times\n",
        "- Create a list out of the filtered dict\n",
        "- Sort the list\n",
        "\n",
        "For step 1 you can use the fact that every word and tag are separated by a tab and that words always come first. Using list comprehension the words list can be created like this:"
      ]
    },
    {
      "cell_type": "code",
      "metadata": {
        "id": "UIbg93WP9gze"
      },
      "source": [
        "# Get the words from each line in the dataset\n",
        "words = [line.split('\\t')[0] for line in lines]"
      ],
      "execution_count": null,
      "outputs": []
    },
    {
      "cell_type": "markdown",
      "metadata": {
        "id": "DFiwdnsT9gzh"
      },
      "source": [
        "Step 2 can be done easily by leveraging `defaultdict`. In case you aren't familiar with defaultdicts they are a special kind of dictionaries that **return the \"zero\" value of a type if you try to access a key that does not exist**. Since you want the frequencies of words, you should define the defaultdict with a type of `int`. \n",
        "\n",
        "Now you don't need to worry about the case when the word is not present within the dictionary because getting the value for that key will simply return a zero. Isn't that cool?"
      ]
    },
    {
      "cell_type": "code",
      "metadata": {
        "id": "r1Alte5B9gzi"
      },
      "source": [
        "# Define defaultdict of type 'int'\n",
        "freq = defaultdict(int)\n",
        "\n",
        "# Count frequency of ocurrence for each word in the dataset\n",
        "for word in words:\n",
        "    freq[word] += 1"
      ],
      "execution_count": null,
      "outputs": []
    },
    {
      "cell_type": "markdown",
      "metadata": {
        "id": "a8oGN7hP9gzl"
      },
      "source": [
        "Filtering the `freq` dictionary can be done using list comprehensions again (aren't they handy?). You should filter out words that appeared only once and also words that are just a newline character:"
      ]
    },
    {
      "cell_type": "code",
      "metadata": {
        "id": "KHgBjXbX9gzm"
      },
      "source": [
        "# Create the vocabulary by filtering the 'freq' dictionary\n",
        "vocab = [k for k, v in freq.items() if (v > 1 and k != '\\n')]"
      ],
      "execution_count": null,
      "outputs": []
    },
    {
      "cell_type": "markdown",
      "metadata": {
        "id": "w2KePtOK9gzo"
      },
      "source": [
        "Finally, the `sort` method will take care of the final step. Notice that it changes the list directly so you don't need to reassign the `vocab` variable:"
      ]
    },
    {
      "cell_type": "code",
      "metadata": {
        "id": "gk69oV0o9gzp",
        "outputId": "bf9eab5e-1eec-4655-b902-2d9de5f26dc4"
      },
      "source": [
        "# Sort the vocabulary\n",
        "vocab.sort()\n",
        "\n",
        "# Print some random values of the vocabulary\n",
        "for i in range(4000, 4005):\n",
        "    print(vocab[i])"
      ],
      "execution_count": null,
      "outputs": [
        {
          "output_type": "stream",
          "text": [
            "Early\n",
            "Earnings\n",
            "Earth\n",
            "Earthquake\n",
            "East\n"
          ],
          "name": "stdout"
        }
      ]
    },
    {
      "cell_type": "markdown",
      "metadata": {
        "id": "aEqIUg449gzr"
      },
      "source": [
        "Now you have successfully created a vocabulary from the dataset. **Great job!** The vocabulary is quite extensive so it is not printed out but you can still do so by creating a cell and running something like `print(vocab)`. \n",
        "\n",
        "At this point you will usually write the vocabulary into a file for future use, but that is out of the scope of this notebook. If you are curious it is very similar to how you read the file at the beginning of this notebook.\n"
      ]
    },
    {
      "cell_type": "markdown",
      "metadata": {
        "id": "qcvGiSyB9gzs"
      },
      "source": [
        "## Processing new text sources"
      ]
    },
    {
      "cell_type": "markdown",
      "metadata": {
        "id": "f-gAiulk9gzs"
      },
      "source": [
        "### Dealing with unknown words"
      ]
    },
    {
      "cell_type": "markdown",
      "metadata": {
        "id": "ROFev3hu9gzt"
      },
      "source": [
        "Now that you have a vocabulary, you will use it when processing new text sources. **A new text will have words that do not appear in the current vocabulary**. To tackle this, you can simply classify each new word as an unknown one, but you can do better by creating a function that tries to classify the type of each unknown word and assign it a corresponding `unknown token`. \n",
        "\n",
        "This function will do the following checks and return an appropriate token:\n",
        "\n",
        "   - Check if the unknown word contains any character that is a digit \n",
        "       - return `--unk_digit--`\n",
        "   - Check if the unknown word contains any punctuation character \n",
        "       - return `--unk_punct--`\n",
        "   - Check if the unknown word contains any upper-case character \n",
        "       - return `--unk_upper--`\n",
        "   - Check if the unknown word ends with a suffix that could indicate it is a noun, verb, adjective or adverb \n",
        "        - return `--unk_noun--`, `--unk_verb--`, `--unk_adj--`, `--unk_adv--` respectively\n",
        "\n",
        "If a word fails to fall under any condition then its token will be a plain `--unk--`. The conditions will be evaluated in the same order as listed here. So if a word contains a punctuation character but does not contain digits, it will fall under the second condition. To achieve this behaviour some if/elif statements can be used along with early returns. \n",
        "\n",
        "This function is implemented next. Notice that the `any()` function is being heavily used. It returns `True` if at least one of the cases it evaluates is `True`."
      ]
    },
    {
      "cell_type": "code",
      "metadata": {
        "id": "Dtg4hK1b9gzt"
      },
      "source": [
        "def assign_unk(word):\n",
        "    \"\"\"\n",
        "    Assign tokens to unknown words\n",
        "    \"\"\"\n",
        "    \n",
        "    # Punctuation characters\n",
        "    # Try printing them out in a new cell!\n",
        "    punct = set(string.punctuation)\n",
        "    \n",
        "    # Suffixes\n",
        "    noun_suffix = [\"action\", \"age\", \"ance\", \"cy\", \"dom\", \"ee\", \"ence\", \"er\", \"hood\", \"ion\", \"ism\", \"ist\", \"ity\", \"ling\", \"ment\", \"ness\", \"or\", \"ry\", \"scape\", \"ship\", \"ty\"]\n",
        "    verb_suffix = [\"ate\", \"ify\", \"ise\", \"ize\"]\n",
        "    adj_suffix = [\"able\", \"ese\", \"ful\", \"i\", \"ian\", \"ible\", \"ic\", \"ish\", \"ive\", \"less\", \"ly\", \"ous\"]\n",
        "    adv_suffix = [\"ward\", \"wards\", \"wise\"]\n",
        "\n",
        "    # Loop the characters in the word, check if any is a digit\n",
        "    if any(char.isdigit() for char in word):\n",
        "        return \"--unk_digit--\"\n",
        "\n",
        "    # Loop the characters in the word, check if any is a punctuation character\n",
        "    elif any(char in punct for char in word):\n",
        "        return \"--unk_punct--\"\n",
        "\n",
        "    # Loop the characters in the word, check if any is an upper case character\n",
        "    elif any(char.isupper() for char in word):\n",
        "        return \"--unk_upper--\"\n",
        "\n",
        "    # Check if word ends with any noun suffix\n",
        "    elif any(word.endswith(suffix) for suffix in noun_suffix):\n",
        "        return \"--unk_noun--\"\n",
        "\n",
        "    # Check if word ends with any verb suffix\n",
        "    elif any(word.endswith(suffix) for suffix in verb_suffix):\n",
        "        return \"--unk_verb--\"\n",
        "\n",
        "    # Check if word ends with any adjective suffix\n",
        "    elif any(word.endswith(suffix) for suffix in adj_suffix):\n",
        "        return \"--unk_adj--\"\n",
        "\n",
        "    # Check if word ends with any adverb suffix\n",
        "    elif any(word.endswith(suffix) for suffix in adv_suffix):\n",
        "        return \"--unk_adv--\"\n",
        "    \n",
        "    # If none of the previous criteria is met, return plain unknown\n",
        "    return \"--unk--\"\n"
      ],
      "execution_count": null,
      "outputs": []
    },
    {
      "cell_type": "markdown",
      "metadata": {
        "id": "JKEF8ewb9gzx"
      },
      "source": [
        "A POS tagger will always encounter words that are not within the vocabulary that is being used. By augmenting the dataset to include these `unknown word tokens` you are helping the tagger to have a better idea of the appropriate tag for these words. "
      ]
    },
    {
      "cell_type": "markdown",
      "metadata": {
        "id": "vZGDSxZ19gzy"
      },
      "source": [
        "### Getting the correct tag for a word"
      ]
    },
    {
      "cell_type": "markdown",
      "metadata": {
        "id": "p41DSnQ59gzy"
      },
      "source": [
        "All that is left is to implement a function that will get the correct tag for a particular word taking special considerations for unknown words. Since the dataset provides each word and tag within the same line and a word being known depends on the vocabulary used, these two elements should be arguments to this function.\n",
        "\n",
        "This function should check if a line is empty and if so, it should return a placeholder word and tag, `--n--` and `--s--` respectively. \n",
        "\n",
        "If not, it should process the line to return the correct word and tag pair, considering if a word is unknown in which scenario the function `assign_unk()` should be used.\n",
        "\n",
        "The function is implemented next. Notice That the `split()` method can be used without specifying the delimiter, in which case it will default to any whitespace."
      ]
    },
    {
      "cell_type": "code",
      "metadata": {
        "id": "31sMQReh9gzz"
      },
      "source": [
        "def get_word_tag(line, vocab):\n",
        "    # If line is empty return placeholders for word and tag\n",
        "    if not line.split():\n",
        "        word = \"--n--\"\n",
        "        tag = \"--s--\"\n",
        "    else:\n",
        "        # Split line to separate word and tag\n",
        "        word, tag = line.split()\n",
        "        # Check if word is not in vocabulary\n",
        "        if word not in vocab: \n",
        "            # Handle unknown word\n",
        "            word = assign_unk(word)\n",
        "    return word, tag"
      ],
      "execution_count": null,
      "outputs": []
    },
    {
      "cell_type": "markdown",
      "metadata": {
        "id": "f3S25VWg9gz1"
      },
      "source": [
        "Now you can try this function with some examples to test that it is working as intended:"
      ]
    },
    {
      "cell_type": "code",
      "metadata": {
        "id": "YzkCE6bk9gz2",
        "outputId": "a8c560aa-c654-41cf-f637-f933936f656b"
      },
      "source": [
        "get_word_tag('\\n', vocab)"
      ],
      "execution_count": null,
      "outputs": [
        {
          "output_type": "execute_result",
          "data": {
            "text/plain": [
              "('--n--', '--s--')"
            ]
          },
          "metadata": {
            "tags": []
          },
          "execution_count": 15
        }
      ]
    },
    {
      "cell_type": "markdown",
      "metadata": {
        "id": "SiCw21nY9gz5"
      },
      "source": [
        "Since this line only includes a newline character it returns a placeholder word and tag."
      ]
    },
    {
      "cell_type": "code",
      "metadata": {
        "id": "9IWtoaeO9gz5",
        "outputId": "f8036bd5-8de6-4fdd-dc54-05648161a01f"
      },
      "source": [
        "get_word_tag('In\\tIN\\n', vocab)"
      ],
      "execution_count": null,
      "outputs": [
        {
          "output_type": "execute_result",
          "data": {
            "text/plain": [
              "('In', 'IN')"
            ]
          },
          "metadata": {
            "tags": []
          },
          "execution_count": 16
        }
      ]
    },
    {
      "cell_type": "markdown",
      "metadata": {
        "id": "AxxQp3jO9gz8"
      },
      "source": [
        "This one is a valid line and the function does a fair job at returning the correct (word, tag) pair."
      ]
    },
    {
      "cell_type": "code",
      "metadata": {
        "id": "82oYYQGZ9gz8",
        "outputId": "3a77fa3e-50e2-427f-bd6b-f80e5a9c4826"
      },
      "source": [
        "get_word_tag('tardigrade\\tNN\\n', vocab)"
      ],
      "execution_count": null,
      "outputs": [
        {
          "output_type": "execute_result",
          "data": {
            "text/plain": [
              "('--unk--', 'NN')"
            ]
          },
          "metadata": {
            "tags": []
          },
          "execution_count": 17
        }
      ]
    },
    {
      "cell_type": "markdown",
      "metadata": {
        "id": "ua5Ghjqw9gz_"
      },
      "source": [
        "This line includes a noun that is not present in the vocabulary. \n",
        "\n",
        "The `assign_unk` function fails to detect that it is a noun so it returns an `unknown token`."
      ]
    },
    {
      "cell_type": "code",
      "metadata": {
        "id": "pPhR5kJ-9gz_",
        "outputId": "776f5f2d-0eff-4d15-c236-aa7ccece7a1f"
      },
      "source": [
        "get_word_tag('scrutinize\\tVB\\n', vocab)"
      ],
      "execution_count": null,
      "outputs": [
        {
          "output_type": "execute_result",
          "data": {
            "text/plain": [
              "('--unk_verb--', 'VB')"
            ]
          },
          "metadata": {
            "tags": []
          },
          "execution_count": 18
        }
      ]
    },
    {
      "cell_type": "markdown",
      "metadata": {
        "id": "upmABwRX9g0C"
      },
      "source": [
        "This line includes a verb that is not present in the vocabulary. \n",
        "\n",
        "In this case the `assign_unk` is able to detect that it is a verb so it returns an `unknown verb token`."
      ]
    },
    {
      "cell_type": "markdown",
      "metadata": {
        "id": "3XIh7VWp9g0D"
      },
      "source": [
        "**Congratulations on finishing this lecture notebook!** Now you should be more familiar with working with text data and have a better understanding of how a basic POS tagger works.\n",
        "\n",
        "**Keep it up!**"
      ]
    },
    {
      "cell_type": "code",
      "metadata": {
        "id": "u2H5klnq9g0D"
      },
      "source": [
        ""
      ],
      "execution_count": null,
      "outputs": []
    }
  ]
}