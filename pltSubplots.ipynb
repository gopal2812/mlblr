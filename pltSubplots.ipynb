{
  "nbformat": 4,
  "nbformat_minor": 0,
  "metadata": {
    "anaconda-cloud": {},
    "kernelspec": {
      "display_name": "Python 3",
      "language": "python",
      "name": "python3"
    },
    "language_info": {
      "codemirror_mode": {
        "name": "ipython",
        "version": 3
      },
      "file_extension": ".py",
      "mimetype": "text/x-python",
      "name": "python",
      "nbconvert_exporter": "python",
      "pygments_lexer": "ipython3",
      "version": "3.6.8"
    },
    "colab": {
      "name": "Subplots.ipynb",
      "provenance": [],
      "include_colab_link": true
    }
  },
  "cells": [
    {
      "cell_type": "markdown",
      "metadata": {
        "id": "view-in-github",
        "colab_type": "text"
      },
      "source": [
        "<a href=\"https://colab.research.google.com/github/gopal2812/mlblr/blob/master/pltSubplots.ipynb\" target=\"_parent\"><img src=\"https://colab.research.google.com/assets/colab-badge.svg\" alt=\"Open In Colab\"/></a>"
      ]
    },
    {
      "cell_type": "code",
      "metadata": {
        "id": "4n_5tSeUID76",
        "colab_type": "code",
        "colab": {}
      },
      "source": [
        "# The ``inline`` flag will use the appropriate backend to make figures appear inline in the notebook.  \n",
        "%matplotlib inline\n",
        "\n",
        "import pandas as pd\n",
        "import numpy as np\n",
        "\n",
        "# `plt` is an alias for the `matplotlib.pyplot` module\n",
        "import matplotlib.pyplot as plt\n",
        "\n",
        "# import seaborn library (wrapper of matplotlib)\n",
        "import seaborn as sns\n",
        "\n",
        "# Using the scikit-learn library to load a dataset\n",
        "from sklearn.datasets import load_digits"
      ],
      "execution_count": 0,
      "outputs": []
    },
    {
      "cell_type": "markdown",
      "metadata": {
        "id": "yhdDLqwgID8E",
        "colab_type": "text"
      },
      "source": [
        "### Create Data (not shown in video)"
      ]
    },
    {
      "cell_type": "markdown",
      "metadata": {
        "id": "cH_aBFdCID8H",
        "colab_type": "text"
      },
      "source": [
        "We are going to load the digits dataset from scikit-learn, but there isn't time to teach the loading the library and such. "
      ]
    },
    {
      "cell_type": "code",
      "metadata": {
        "id": "M5uFctgnID8K",
        "colab_type": "code",
        "colab": {}
      },
      "source": [
        "# this is a special method for scikit-learn to load data\n",
        "digits = load_digits()"
      ],
      "execution_count": 0,
      "outputs": []
    },
    {
      "cell_type": "code",
      "metadata": {
        "id": "BAhmigdcID8S",
        "colab_type": "code",
        "colab": {
          "base_uri": "https://localhost:8080/",
          "height": 34
        },
        "outputId": "b71cbea6-97b9-49bb-8c88-7e07be378a11"
      },
      "source": [
        "type(digits)"
      ],
      "execution_count": 4,
      "outputs": [
        {
          "output_type": "execute_result",
          "data": {
            "text/plain": [
              "sklearn.utils.Bunch"
            ]
          },
          "metadata": {
            "tags": []
          },
          "execution_count": 4
        }
      ]
    },
    {
      "cell_type": "code",
      "metadata": {
        "id": "MEtkOWSJID8b",
        "colab_type": "code",
        "colab": {}
      },
      "source": [
        "# Each datapoint is a 8x8 image of a digit.\n",
        "df = pd.DataFrame(list(digits.data))"
      ],
      "execution_count": 0,
      "outputs": []
    },
    {
      "cell_type": "code",
      "metadata": {
        "id": "tqfUeLueID8h",
        "colab_type": "code",
        "colab": {}
      },
      "source": [
        "label_df = pd.DataFrame(list(digits.target), columns = ['label'])"
      ],
      "execution_count": 0,
      "outputs": []
    },
    {
      "cell_type": "code",
      "metadata": {
        "id": "JLMs6g_3ID8p",
        "colab_type": "code",
        "colab": {}
      },
      "source": [
        "df = pd.concat([df, label_df], axis = 1)"
      ],
      "execution_count": 0,
      "outputs": []
    },
    {
      "cell_type": "code",
      "metadata": {
        "id": "wnzG5gk4ID8v",
        "colab_type": "code",
        "colab": {}
      },
      "source": [
        "df.to_csv('data/digitsDataset.csv', index = False)"
      ],
      "execution_count": 0,
      "outputs": []
    },
    {
      "cell_type": "markdown",
      "metadata": {
        "id": "uavwibb2J-l4",
        "colab_type": "text"
      },
      "source": [
        " to create subplots using Matplotlib. It is often useful to compare different subsets of your data side by side. To demonstrate this, we're going to visualize images. The first thing we have to do is we have to import our libraries. We're going to have our figures appear inline in the notebook, so we're specifying inline, we're going to import pandas, numpy, and matplotlib. The next thing we have to do is we have to load our dataset, and our dataset is the digits dataset from scikit-learn that I have arranged into a csv file for convenience. The dataset consists of pixel intensity values for 1797 images that are eight by eight pixels. This means that the dataset has 64 total values per image, and each image is labeled with a number from zero to nine. We're going to load our dataset into panda's dataframe by using the read_cv method. With any data set, it always good to check the first couple rows to make sure everything loaded properly. Columns zero to 63 are pixel intensity values for an eight by eight image, the label column is what the image is supposed to be. Each row in the dataset represents one image. Before we can create a subplot, it's a good idea to know how to visualize one image. To get all the column names for the pixel intensity values, we're to utilize the df.columns attribute, and what this slice does, it says we want every column except for the last column which happens to be our labels. The next thing we're going to do is we're going to do df.loc, we're going to specifY that we want the first image in our dataset, and we want all of its pixel intensity values. I should note that this is not yet the correct form for viewing the images. As you can see, we don't yet have an eight by eight array, a lesson you can take from this is that it's important to keep in mind that just because a dataset is stored in a certain way doesn't mean it was meant to be viewed that way. To fix this problem, we're going to utilize the reshape method to reshape it into an eight by eight array, as it is not easy to understand pixel intensity values by looking at an array. Let's visualize the image, to do this, we're going to utilize the imshow method, and we're going to specify that we want a gray color map. As you see here, this image looks like a zero, the reason why it looks a little blurry is because it's only a eight by eight image. We're now going to create a five by five subplot. The way to create a subplot is by utilizing the .subplot command, specifying how many rows you want, how many columns you want, the one here is an index, so out of our five plots, this is saying that this is the first one. The next thing we have to do is we have to create our image values. This bit of code are the image values for our first image, as you can see here. What this code is doing is we're specifying that we want the first image, we want its label, and we are assigning it the variable image_label, and then from here, we're visualizing our image, and as before, we're reshaping our array to be eight by eight. Next, we're going to insert a title on our plot so we know what the image is supposed to be of. From here, the next bit of code says that this is going to be the second image in our subplot, we also want the image at index one, we want the label for the image at index one, and similarly, we're going to do the same thing for the third image, the fourth image, and the fifth image, and as you see here, we have five plots side by side. As you've probably noticed in the code, we seem to have a lot of duplication of effort, let's eliminate that with a for loop. In this code, what range is doing is, in the first iteration, zero is assigned temporarily the variable index, we're doing one plus our index, which happens to be one, so we're saying that this is the first subplot. What this next code is doing is it's saying that we want all the pixel intensity values for the row with the index label of zero. In the next iteration of the loop, we're taking one and we're temporarily assigning it to the variable index, we're doing one plus one, which is two, which is saying that this is the second subplot, and what this next bit of code is doing is it's saying that we want all the pixel intensity values for the index label of one. A similar process happens to the rest of the for loop. As you see here, we now have our images side by side with a lot less code. In this video, we've learned not only how to visualize images, but also how to visualize images side by side by using subplots. It's important to note that are cases where you can a lot less code by utilizing for loops."
      ]
    },
    {
      "cell_type": "code",
      "metadata": {
        "id": "j4xvH6ASID80",
        "colab_type": "code",
        "colab": {}
      },
      "source": [
        "df.shape"
      ],
      "execution_count": 0,
      "outputs": []
    },
    {
      "cell_type": "markdown",
      "metadata": {
        "id": "67GJhX5lID87",
        "colab_type": "text"
      },
      "source": [
        "## Subplots"
      ]
    },
    {
      "cell_type": "markdown",
      "metadata": {
        "id": "zK3_2FNaID89",
        "colab_type": "text"
      },
      "source": [
        "It is often useful to compare different subsets of your data side by side. To demonstrate this, we are going to visualize images side by side."
      ]
    },
    {
      "cell_type": "code",
      "metadata": {
        "id": "X972WNL4ID8-",
        "colab_type": "code",
        "colab": {}
      },
      "source": [
        "# The ``inline`` flag will use the appropriate backend to make figures appear inline in the notebook.  \n",
        "%matplotlib inline\n",
        "\n",
        "import pandas as pd\n",
        "import numpy as np\n",
        "\n",
        "# `plt` is an alias for the `matplotlib.pyplot` module\n",
        "import matplotlib.pyplot as plt"
      ],
      "execution_count": 0,
      "outputs": []
    },
    {
      "cell_type": "markdown",
      "metadata": {
        "id": "YumvMcRyID9G",
        "colab_type": "text"
      },
      "source": [
        "### Load Data\n",
        "\n",
        "The dataset is the digits dataset (from scikit-learn) that I arranged into a csv file for convenience. The data consists of pixel intensity values for 1797 images that are 8 by 8 pixels. This means that the dataset has 64 total values per image. Each image is labeled with a number from 0-9."
      ]
    },
    {
      "cell_type": "code",
      "metadata": {
        "id": "vqAxxivBID9I",
        "colab_type": "code",
        "colab": {}
      },
      "source": [
        "# Load digits dataset\n",
        "filename = 'data/digitsDataset.csv'\n",
        "df = pd.read_csv(filename)"
      ],
      "execution_count": 0,
      "outputs": []
    },
    {
      "cell_type": "code",
      "metadata": {
        "id": "5IaUXS17ID9N",
        "colab_type": "code",
        "colab": {}
      },
      "source": [
        "# Columns 0 to 63 are the pixel intensity values for an 8 by 8 image. \n",
        "# label column is what the image is supposed to be. \n",
        "df.head()"
      ],
      "execution_count": 0,
      "outputs": []
    },
    {
      "cell_type": "markdown",
      "metadata": {
        "id": "cBNPPXfbID9T",
        "colab_type": "text"
      },
      "source": [
        "### Show image"
      ]
    },
    {
      "cell_type": "code",
      "metadata": {
        "id": "46gKOL0rID9U",
        "colab_type": "code",
        "colab": {}
      },
      "source": [
        "pixel_colnames = df.columns[:-1]"
      ],
      "execution_count": 0,
      "outputs": []
    },
    {
      "cell_type": "code",
      "metadata": {
        "id": "omXxF5gSID9b",
        "colab_type": "code",
        "colab": {}
      },
      "source": [
        "pixel_colnames"
      ],
      "execution_count": 0,
      "outputs": []
    },
    {
      "cell_type": "code",
      "metadata": {
        "id": "FO3bX272ID9i",
        "colab_type": "code",
        "colab": {}
      },
      "source": [
        "# Get all columns except the label column for the first image\n",
        "image_values = df.loc[0, pixel_colnames].values"
      ],
      "execution_count": 0,
      "outputs": []
    },
    {
      "cell_type": "code",
      "metadata": {
        "id": "jgjvMzJvID9n",
        "colab_type": "code",
        "colab": {}
      },
      "source": [
        "# This is not the correct format for viewing images\n",
        "image_values.shape"
      ],
      "execution_count": 0,
      "outputs": []
    },
    {
      "cell_type": "markdown",
      "metadata": {
        "id": "O_gHlDV7ID9t",
        "colab_type": "text"
      },
      "source": [
        "The images are 8 pixels by 8 pixels. It is important to keep in mind that just because a dataset is stored in a certain way, doesnt mean it was meant to be viewed that way. "
      ]
    },
    {
      "cell_type": "code",
      "metadata": {
        "id": "ca_r54CtID9v",
        "colab_type": "code",
        "colab": {}
      },
      "source": [
        "image_values.reshape(8,8)"
      ],
      "execution_count": 0,
      "outputs": []
    },
    {
      "cell_type": "markdown",
      "metadata": {
        "id": "dK1qrbQ4ID90",
        "colab_type": "text"
      },
      "source": [
        "As it is not easy to understand pixel intensity values by looking at an array, lets visualize the image. "
      ]
    },
    {
      "cell_type": "code",
      "metadata": {
        "id": "T-c1Fg7_ID92",
        "colab_type": "code",
        "colab": {}
      },
      "source": [
        "plt.imshow(image_values.reshape(8,8), cmap ='gray')"
      ],
      "execution_count": 0,
      "outputs": []
    },
    {
      "cell_type": "markdown",
      "metadata": {
        "id": "gG6YWDDeID99",
        "colab_type": "text"
      },
      "source": [
        "#### Not the correct way to format your data"
      ]
    },
    {
      "cell_type": "code",
      "metadata": {
        "id": "_eIkdgBwID9_",
        "colab_type": "code",
        "colab": {}
      },
      "source": [
        "# this is not the format the image should be in. \n",
        "plt.imshow(image_values.reshape(64, 1), cmap = 'gray')"
      ],
      "execution_count": 0,
      "outputs": []
    },
    {
      "cell_type": "markdown",
      "metadata": {
        "id": "Ec1apN0iID-K",
        "colab_type": "text"
      },
      "source": [
        "### Subplot Creation\n",
        "We are going to create a 5 by 1 plot. "
      ]
    },
    {
      "cell_type": "code",
      "metadata": {
        "id": "Ur5aImQVID-N",
        "colab_type": "code",
        "colab": {}
      },
      "source": [
        "# There is a large amount of replicated code\n",
        "\n",
        "plt.figure(figsize=(10,2))\n",
        "\n",
        "## The first image\n",
        "plt.subplot(1, 5, 1)\n",
        "image_values = df.loc[0, pixel_colnames].values\n",
        "image_label = df.loc[0, 'label']\n",
        "plt.imshow(image_values.reshape(8,8), cmap ='gray')\n",
        "plt.title('Label: ' + str(image_label))\n",
        "\n",
        "# The second image\n",
        "plt.subplot(1, 5, 2)\n",
        "image_values = df.loc[1, pixel_colnames].values\n",
        "image_label = df.loc[1, 'label']\n",
        "plt.imshow(image_values.reshape(8,8), cmap ='gray')\n",
        "plt.title('Label: ' + str(image_label))\n",
        "\n",
        "# The third image\n",
        "plt.subplot(1, 5, 3)\n",
        "image_values = df.loc[2, pixel_colnames].values\n",
        "image_label = df.loc[2, 'label']\n",
        "plt.imshow(image_values.reshape(8,8), cmap ='gray')\n",
        "plt.title('Label: ' + str(image_label))\n",
        "\n",
        "# The fourth image\n",
        "plt.subplot(1, 5, 4)\n",
        "image_values = df.loc[3, pixel_colnames].values\n",
        "image_label = df.loc[3, 'label']\n",
        "plt.imshow(image_values.reshape(8,8), cmap ='gray')\n",
        "plt.title('Label: ' + str(image_label))\n",
        "\n",
        "# The fifth image\n",
        "plt.subplot(1, 5, 5)\n",
        "image_values = df.loc[4, pixel_colnames].values\n",
        "image_label = df.loc[4, 'label']\n",
        "plt.imshow(image_values.reshape(8,8), cmap ='gray')\n",
        "plt.title('Label: ' + str(image_label))"
      ],
      "execution_count": 0,
      "outputs": []
    },
    {
      "cell_type": "markdown",
      "metadata": {
        "id": "bfi51-IgID-T",
        "colab_type": "text"
      },
      "source": [
        "#### Using a for loop"
      ]
    },
    {
      "cell_type": "code",
      "metadata": {
        "id": "uWS9KyceID-V",
        "colab_type": "code",
        "colab": {}
      },
      "source": [
        "# range(0,5) produces a sequence of integers from 0\n",
        "# up to but not including 5\n",
        "list(range(0,5))"
      ],
      "execution_count": 0,
      "outputs": []
    },
    {
      "cell_type": "code",
      "metadata": {
        "id": "7IE0xHbJID-c",
        "colab_type": "code",
        "colab": {}
      },
      "source": [
        "# This is a lot less code\n",
        "\n",
        "plt.figure(figsize=(10,2))\n",
        "for index in range(0, 5):\n",
        "\n",
        "    plt.subplot(1, 5, 1 + index )\n",
        "    image_values = df.loc[index, pixel_colnames].values\n",
        "    image_label = df.loc[index, 'label']\n",
        "    plt.imshow(image_values.reshape(8,8), cmap ='gray')\n",
        "    plt.title('Label: ' + str(image_label))"
      ],
      "execution_count": 0,
      "outputs": []
    },
    {
      "cell_type": "code",
      "metadata": {
        "id": "MvZ68XAAID-i",
        "colab_type": "code",
        "colab": {}
      },
      "source": [
        ""
      ],
      "execution_count": 0,
      "outputs": []
    }
  ]
}