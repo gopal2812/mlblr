{
  "nbformat": 4,
  "nbformat_minor": 0,
  "metadata": {
    "kernelspec": {
      "display_name": "Python 2",
      "language": "python",
      "name": "python2"
    },
    "language_info": {
      "codemirror_mode": {
        "name": "ipython",
        "version": 2
      },
      "file_extension": ".py",
      "mimetype": "text/x-python",
      "name": "python",
      "nbconvert_exporter": "python",
      "pygments_lexer": "ipython2",
      "version": "2.7.11"
    },
    "colab": {
      "name": "DM_08_04.ipynb",
      "provenance": [],
      "include_colab_link": true
    }
  },
  "cells": [
    {
      "cell_type": "markdown",
      "metadata": {
        "id": "view-in-github",
        "colab_type": "text"
      },
      "source": [
        "<a href=\"https://colab.research.google.com/github/gopal2812/mlblr/blob/master/HMM_2stateexample.ipynb\" target=\"_parent\"><img src=\"https://colab.research.google.com/assets/colab-badge.svg\" alt=\"Open In Colab\"/></a>"
      ]
    },
    {
      "cell_type": "markdown",
      "metadata": {
        "id": "vnA5sHs2pVTT",
        "colab_type": "text"
      },
      "source": [
        "# DM_08_04\n",
        "## Import packages\n",
        "We'll create a hidden Markov model to examine the state-shifting in the dataset."
      ]
    },
    {
      "cell_type": "code",
      "metadata": {
        "id": "T-JvXNJDpVTY",
        "colab_type": "code",
        "colab": {
          "base_uri": "https://localhost:8080/",
          "height": 263
        },
        "outputId": "3a33f9ef-097f-486a-8bba-15127d483d30"
      },
      "source": [
        "%matplotlib inline\n",
        "\n",
        "import pylab\n",
        "import numpy as np\n",
        "import pandas as pd\n",
        "!pip install hmmlearn\n",
        "from hmmlearn.hmm import GaussianHMM"
      ],
      "execution_count": 2,
      "outputs": [
        {
          "output_type": "stream",
          "text": [
            "Collecting hmmlearn\n",
            "\u001b[?25l  Downloading https://files.pythonhosted.org/packages/d7/c5/91b43156b193d180ed94069269bcf88d3c7c6e54514a8482050fa9995e10/hmmlearn-0.2.2.tar.gz (146kB)\n",
            "\r\u001b[K     |██▎                             | 10kB 16.2MB/s eta 0:00:01\r\u001b[K     |████▌                           | 20kB 3.3MB/s eta 0:00:01\r\u001b[K     |██████▊                         | 30kB 4.7MB/s eta 0:00:01\r\u001b[K     |█████████                       | 40kB 3.0MB/s eta 0:00:01\r\u001b[K     |███████████▏                    | 51kB 3.7MB/s eta 0:00:01\r\u001b[K     |█████████████▍                  | 61kB 4.4MB/s eta 0:00:01\r\u001b[K     |███████████████▊                | 71kB 5.1MB/s eta 0:00:01\r\u001b[K     |██████████████████              | 81kB 5.7MB/s eta 0:00:01\r\u001b[K     |████████████████████▏           | 92kB 6.3MB/s eta 0:00:01\r\u001b[K     |██████████████████████▍         | 102kB 4.9MB/s eta 0:00:01\r\u001b[K     |████████████████████████▋       | 112kB 4.9MB/s eta 0:00:01\r\u001b[K     |██████████████████████████▉     | 122kB 4.9MB/s eta 0:00:01\r\u001b[K     |█████████████████████████████   | 133kB 4.9MB/s eta 0:00:01\r\u001b[K     |███████████████████████████████▍| 143kB 4.9MB/s eta 0:00:01\r\u001b[K     |████████████████████████████████| 153kB 4.9MB/s \n",
            "\u001b[?25hRequirement already satisfied: numpy>=1.10 in /usr/local/lib/python2.7/dist-packages (from hmmlearn) (1.16.4)\n",
            "Requirement already satisfied: scikit-learn>=0.16 in /usr/local/lib/python2.7/dist-packages (from hmmlearn) (0.20.3)\n",
            "Requirement already satisfied: scipy>=0.13.3 in /usr/local/lib/python2.7/dist-packages (from scikit-learn>=0.16->hmmlearn) (1.2.2)\n",
            "Building wheels for collected packages: hmmlearn\n",
            "  Building wheel for hmmlearn (setup.py) ... \u001b[?25l\u001b[?25hdone\n",
            "  Created wheel for hmmlearn: filename=hmmlearn-0.2.2-cp27-cp27mu-linux_x86_64.whl size=301195 sha256=8aab0f56273147d91966badd2578656a3f39d12c0d003097562da9aa1ede94f2\n",
            "  Stored in directory: /root/.cache/pip/wheels/2c/b6/0e/63a865a30e21e01d04f417d8995fbfb793d6bd464707efc546\n",
            "Successfully built hmmlearn\n",
            "Installing collected packages: hmmlearn\n",
            "Successfully installed hmmlearn-0.2.2\n"
          ],
          "name": "stdout"
        }
      ]
    },
    {
      "cell_type": "markdown",
      "metadata": {
        "id": "oTkOtRtPpVTh",
        "colab_type": "text"
      },
      "source": [
        "## Import data\n",
        "Read CSV file into \"df.\""
      ]
    },
    {
      "cell_type": "code",
      "metadata": {
        "id": "LIS2902CqPnk",
        "colab_type": "code",
        "colab": {
          "base_uri": "https://localhost:8080/",
          "height": 124
        },
        "outputId": "9d0bf5e7-c04a-4805-c884-39dd42cbed7b"
      },
      "source": [
        "from google.colab import drive\n",
        "drive.mount('/content/gdrive')"
      ],
      "execution_count": 3,
      "outputs": [
        {
          "output_type": "stream",
          "text": [
            "Go to this URL in a browser: https://accounts.google.com/o/oauth2/auth?client_id=947318989803-6bn6qk8qdgf4n4g3pfee6491hc0brc4i.apps.googleusercontent.com&redirect_uri=urn%3aietf%3awg%3aoauth%3a2.0%3aoob&response_type=code&scope=email%20https%3a%2f%2fwww.googleapis.com%2fauth%2fdocs.test%20https%3a%2f%2fwww.googleapis.com%2fauth%2fdrive%20https%3a%2f%2fwww.googleapis.com%2fauth%2fdrive.photos.readonly%20https%3a%2f%2fwww.googleapis.com%2fauth%2fpeopleapi.readonly\n",
            "\n",
            "Enter your authorization code:\n",
            "··········\n",
            "Mounted at /content/gdrive\n"
          ],
          "name": "stdout"
        }
      ]
    },
    {
      "cell_type": "code",
      "metadata": {
        "id": "HrIEO4SwpVTj",
        "colab_type": "code",
        "colab": {
          "base_uri": "https://localhost:8080/",
          "height": 202
        },
        "outputId": "565f41c4-0238-4b09-b284-7ce3518aa5d2"
      },
      "source": [
        "\n",
        "df = pd.read_csv(\"gdrive/My Drive/Ex_Files_DSF_DataMining/Exercise Files/Ch8/08_04/speed.csv\", sep = \",\")\n",
        "df.head(5)"
      ],
      "execution_count": 4,
      "outputs": [
        {
          "output_type": "execute_result",
          "data": {
            "text/html": [
              "<div>\n",
              "<style scoped>\n",
              "    .dataframe tbody tr th:only-of-type {\n",
              "        vertical-align: middle;\n",
              "    }\n",
              "\n",
              "    .dataframe tbody tr th {\n",
              "        vertical-align: top;\n",
              "    }\n",
              "\n",
              "    .dataframe thead th {\n",
              "        text-align: right;\n",
              "    }\n",
              "</style>\n",
              "<table border=\"1\" class=\"dataframe\">\n",
              "  <thead>\n",
              "    <tr style=\"text-align: right;\">\n",
              "      <th></th>\n",
              "      <th>row</th>\n",
              "      <th>rt</th>\n",
              "      <th>corr</th>\n",
              "      <th>Pacc</th>\n",
              "      <th>prev</th>\n",
              "    </tr>\n",
              "  </thead>\n",
              "  <tbody>\n",
              "    <tr>\n",
              "      <th>0</th>\n",
              "      <td>1</td>\n",
              "      <td>6.456770</td>\n",
              "      <td>cor</td>\n",
              "      <td>0.0</td>\n",
              "      <td>inc</td>\n",
              "    </tr>\n",
              "    <tr>\n",
              "      <th>1</th>\n",
              "      <td>2</td>\n",
              "      <td>5.602119</td>\n",
              "      <td>cor</td>\n",
              "      <td>0.0</td>\n",
              "      <td>cor</td>\n",
              "    </tr>\n",
              "    <tr>\n",
              "      <th>2</th>\n",
              "      <td>3</td>\n",
              "      <td>6.253829</td>\n",
              "      <td>inc</td>\n",
              "      <td>0.0</td>\n",
              "      <td>cor</td>\n",
              "    </tr>\n",
              "    <tr>\n",
              "      <th>3</th>\n",
              "      <td>4</td>\n",
              "      <td>5.451038</td>\n",
              "      <td>inc</td>\n",
              "      <td>0.0</td>\n",
              "      <td>inc</td>\n",
              "    </tr>\n",
              "    <tr>\n",
              "      <th>4</th>\n",
              "      <td>5</td>\n",
              "      <td>5.872118</td>\n",
              "      <td>inc</td>\n",
              "      <td>0.0</td>\n",
              "      <td>inc</td>\n",
              "    </tr>\n",
              "  </tbody>\n",
              "</table>\n",
              "</div>"
            ],
            "text/plain": [
              "   row        rt corr  Pacc prev\n",
              "0    1  6.456770  cor   0.0  inc\n",
              "1    2  5.602119  cor   0.0  cor\n",
              "2    3  6.253829  inc   0.0  cor\n",
              "3    4  5.451038  inc   0.0  inc\n",
              "4    5  5.872118  inc   0.0  inc"
            ]
          },
          "metadata": {
            "tags": []
          },
          "execution_count": 4
        }
      ]
    },
    {
      "cell_type": "markdown",
      "metadata": {
        "id": "3NjW2wzWpVTs",
        "colab_type": "text"
      },
      "source": [
        "Drop the row number and \"corr\" so we can focus on the influence of \"prev\" and \"Pacc\" on \"rt.\" Also define \"prev\" as a factor.\n",
        "\n",
        ">>> cat = pd.Categorical(['a', 'a', 'c'], categories=['a', 'b', 'c'])\n",
        ">>> labels, uniques = pd.factorize(cat)\n",
        ">>> labels\n",
        "array([0, 0, 1])\n",
        ">>> uniques\n",
        "[a, c]\n",
        "Categories (3, object): [a, b, c]"
      ]
    },
    {
      "cell_type": "code",
      "metadata": {
        "id": "MDX1q51ApVTv",
        "colab_type": "code",
        "colab": {}
      },
      "source": [
        "x = df.drop([\"row\", \"corr\"], axis = 1)\n",
        "x[\"prev\"] = pd.factorize(x[\"prev\"])[0]"
      ],
      "execution_count": 0,
      "outputs": []
    },
    {
      "cell_type": "markdown",
      "metadata": {
        "id": "oBcUxbS0pVTz",
        "colab_type": "text"
      },
      "source": [
        "## Create model\n",
        "Make an HMM with 2 states. (The choice of 2 is based on theory.)"
      ]
    },
    {
      "cell_type": "code",
      "metadata": {
        "id": "FYYLSyjQpVT1",
        "colab_type": "code",
        "colab": {
          "base_uri": "https://localhost:8080/",
          "height": 139
        },
        "outputId": "fac04a07-a04a-49f7-e818-eb1be6165669"
      },
      "source": [
        "model = GaussianHMM(n_components=2, n_iter=10000, random_state=1).fit(x)\n",
        "model.monitor_"
      ],
      "execution_count": 6,
      "outputs": [
        {
          "output_type": "execute_result",
          "data": {
            "text/plain": [
              "ConvergenceMonitor(\n",
              "    history=[-116.44940310318694, -116.44670518278312],\n",
              "    iter=8,\n",
              "    n_iter=10000,\n",
              "    tol=0.01,\n",
              "    verbose=False,\n",
              ")"
            ]
          },
          "metadata": {
            "tags": []
          },
          "execution_count": 6
        }
      ]
    },
    {
      "cell_type": "markdown",
      "metadata": {
        "id": "KofzIouVpVT5",
        "colab_type": "text"
      },
      "source": [
        "Predict the hidden state for each record and get count of predicted states."
      ]
    },
    {
      "cell_type": "code",
      "metadata": {
        "id": "hn75yK2wpVT6",
        "colab_type": "code",
        "colab": {
          "base_uri": "https://localhost:8080/",
          "height": 69
        },
        "outputId": "111ece36-a01e-4cc0-fa57-91297b905719"
      },
      "source": [
        "states = model.predict(x)\n",
        "pd.Series(states).value_counts()"
      ],
      "execution_count": 7,
      "outputs": [
        {
          "output_type": "execute_result",
          "data": {
            "text/plain": [
              "0    243\n",
              "1    196\n",
              "dtype: int64"
            ]
          },
          "metadata": {
            "tags": []
          },
          "execution_count": 7
        }
      ]
    },
    {
      "cell_type": "markdown",
      "metadata": {
        "id": "Q48t40rTpVUA",
        "colab_type": "text"
      },
      "source": [
        "Get the mean reaction time (rt) for each of the two states."
      ]
    },
    {
      "cell_type": "code",
      "metadata": {
        "id": "esAEsupCpVUB",
        "colab_type": "code",
        "colab": {
          "base_uri": "https://localhost:8080/",
          "height": 35
        },
        "outputId": "8c83e33e-6a34-4c97-be89-7434cca36b21"
      },
      "source": [
        "model.means_[:, 0]"
      ],
      "execution_count": 8,
      "outputs": [
        {
          "output_type": "execute_result",
          "data": {
            "text/plain": [
              "array([6.40098754, 5.56434105])"
            ]
          },
          "metadata": {
            "tags": []
          },
          "execution_count": 8
        }
      ]
    },
    {
      "cell_type": "markdown",
      "metadata": {
        "id": "3FjOE2__pVUF",
        "colab_type": "text"
      },
      "source": [
        "## Visualize results\n",
        "Make a graph to show the change of states."
      ]
    },
    {
      "cell_type": "code",
      "metadata": {
        "id": "UHiyxK9epVUG",
        "colab_type": "code",
        "colab": {
          "base_uri": "https://localhost:8080/",
          "height": 157
        },
        "outputId": "1e7bb50d-394a-4e75-ea7d-cee71573d1c7"
      },
      "source": [
        "fig = pylab.figure(figsize=(20, 1))\n",
        "ax = fig.add_subplot(111)\n",
        "ax.grid(True)\n",
        "ax.set_xlabel(\"Record number\")\n",
        "ax.set_ylabel(\"State\")\n",
        "ax.plot(states)"
      ],
      "execution_count": 9,
      "outputs": [
        {
          "output_type": "execute_result",
          "data": {
            "text/plain": [
              "[<matplotlib.lines.Line2D at 0x7f1304ef9b50>]"
            ]
          },
          "metadata": {
            "tags": []
          },
          "execution_count": 9
        },
        {
          "output_type": "display_data",
          "data": {
            "image/png": "[encoded data removed]",
            "text/plain": [
              "<Figure size 1440x72 with 1 Axes>"
            ]
          },
          "metadata": {
            "tags": []
          }
        }
      ]
    },
    {
      "cell_type": "code",
      "metadata": {
        "id": "9FoLrGjgpVUK",
        "colab_type": "code",
        "colab": {}
      },
      "source": [
        ""
      ],
      "execution_count": 0,
      "outputs": []
    }
  ]
}