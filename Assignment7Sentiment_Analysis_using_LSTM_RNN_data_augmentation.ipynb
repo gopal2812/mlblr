{
  "nbformat": 4,
  "nbformat_minor": 0,
  "metadata": {
    "colab": {
      "name": "Sentiment_Analysis_using_LSTM_RNN.ipynb",
      "provenance": [],
      "collapsed_sections": [],
      "include_colab_link": true
    },
    "kernelspec": {
      "name": "python3",
      "display_name": "Python 3"
    },
    "accelerator": "GPU"
  },
  "cells": [
    {
      "cell_type": "markdown",
      "metadata": {
        "id": "view-in-github",
        "colab_type": "text"
      },
      "source": [
        "<a href=\"https://colab.research.google.com/github/gopal2812/mlblr/blob/master/Assignment7Sentiment_Analysis_using_LSTM_RNN_data_augmentation.ipynb\" target=\"_parent\"><img src=\"https://colab.research.google.com/assets/colab-badge.svg\" alt=\"Open In Colab\"/></a>"
      ]
    },
    {
      "cell_type": "markdown",
      "metadata": {
        "id": "GYiRsFGD6iUC"
      },
      "source": [
        "# 0 TorchText"
      ]
    },
    {
      "cell_type": "markdown",
      "metadata": {
        "id": "tp5IzBGsPGHs"
      },
      "source": [
        "## Dataset Preview\n",
        "\n",
        "Your first step to deep learning in NLP. We will be mostly using PyTorch. Just like torchvision, PyTorch provides an official library, torchtext, for handling text-processing pipelines. \n",
        "\n",
        "We will be using standford sentiment Treebank dataset."
      ]
    },
    {
      "cell_type": "code",
      "metadata": {
        "colab": {
          "base_uri": "https://localhost:8080/"
        },
        "id": "lIZ5b8Gz6KJ_",
        "outputId": "62e37731-2f48-480d-c08e-e88f4ff7e6a9"
      },
      "source": [
        "from google.colab import drive\r\n",
        "drive.mount('/content/gdrive/')\r\n",
        "\r\n"
      ],
      "execution_count": 1,
      "outputs": [
        {
          "output_type": "stream",
          "text": [
            "Mounted at /content/gdrive/\n"
          ],
          "name": "stdout"
        }
      ]
    },
    {
      "cell_type": "code",
      "metadata": {
        "colab": {
          "base_uri": "https://localhost:8080/"
        },
        "id": "e3gHS9sz7mb-",
        "outputId": "d29c680f-5f93-40b2-cc70-8c7ea2686097"
      },
      "source": [
        "!ls /content/gdrive/MyDrive/end/stanfordSentimentTreebank.zip\r\n",
        "!cp '/content/gdrive/MyDrive/end/stanfordSentimentTreebank.zip' stanfordSentimentTreebank.zip\r\n",
        "!unzip -q -o stanfordSentimentTreebank.zip "
      ],
      "execution_count": 2,
      "outputs": [
        {
          "output_type": "stream",
          "text": [
            "/content/gdrive/MyDrive/end/stanfordSentimentTreebank.zip\n"
          ],
          "name": "stdout"
        }
      ]
    },
    {
      "cell_type": "code",
      "metadata": {
        "colab": {
          "base_uri": "https://localhost:8080/"
        },
        "id": "ImEfBDFR9pMo",
        "outputId": "0415904b-a6e1-494a-80cc-385da3a6fac0"
      },
      "source": [
        "#!rm -rf stanfordSentimentTreebank\r\n",
        "!ls -l stanfordSentimentTreebank/"
      ],
      "execution_count": 3,
      "outputs": [
        {
          "output_type": "stream",
          "text": [
            "total 19920\n",
            "-rwxr-xr-x 1 root root  1290263 Oct  9  2013 datasetSentences.txt\n",
            "-rwxr-xr-x 1 root root    83764 Oct  9  2013 datasetSplit.txt\n",
            "-rwxr-xr-x 1 root root 12010637 Oct  9  2013 dictionary.txt\n",
            "-rwxr-xr-x 1 root root  1195613 Feb  2  2013 original_rt_snippets.txt\n",
            "-rwxr-xr-x 1 root root     2357 Oct  9  2013 README.txt\n",
            "-rwxr-xr-x 1 root root  3263577 Oct  9  2013 sentiment_labels.txt\n",
            "-rwxr-xr-x 1 root root  1226029 Feb  2  2013 SOStr.txt\n",
            "-rwxr-xr-x 1 root root  1308918 Feb  2  2013 STree.txt\n"
          ],
          "name": "stdout"
        }
      ]
    },
    {
      "cell_type": "code",
      "metadata": {
        "colab": {
          "base_uri": "https://localhost:8080/",
          "height": 204
        },
        "id": "_PZIPCpVEyjj",
        "outputId": "587bdcf6-bc7d-4b84-cc96-d53970a8ff9e"
      },
      "source": [
        "import pandas as pd\r\n",
        "df = pd.read_csv('stanfordSentimentTreebank/datasetSentences.txt',sep='\\t')\r\n",
        "df.tail()\r\n"
      ],
      "execution_count": 4,
      "outputs": [
        {
          "output_type": "execute_result",
          "data": {
            "text/html": [
              "<div>\n",
              "<style scoped>\n",
              "    .dataframe tbody tr th:only-of-type {\n",
              "        vertical-align: middle;\n",
              "    }\n",
              "\n",
              "    .dataframe tbody tr th {\n",
              "        vertical-align: top;\n",
              "    }\n",
              "\n",
              "    .dataframe thead th {\n",
              "        text-align: right;\n",
              "    }\n",
              "</style>\n",
              "<table border=\"1\" class=\"dataframe\">\n",
              "  <thead>\n",
              "    <tr style=\"text-align: right;\">\n",
              "      <th></th>\n",
              "      <th>sentence_index</th>\n",
              "      <th>sentence</th>\n",
              "    </tr>\n",
              "  </thead>\n",
              "  <tbody>\n",
              "    <tr>\n",
              "      <th>11850</th>\n",
              "      <td>11851</td>\n",
              "      <td>A real snooze .</td>\n",
              "    </tr>\n",
              "    <tr>\n",
              "      <th>11851</th>\n",
              "      <td>11852</td>\n",
              "      <td>No surprises .</td>\n",
              "    </tr>\n",
              "    <tr>\n",
              "      <th>11852</th>\n",
              "      <td>11853</td>\n",
              "      <td>We 've seen the hippie-turned-yuppie plot befo...</td>\n",
              "    </tr>\n",
              "    <tr>\n",
              "      <th>11853</th>\n",
              "      <td>11854</td>\n",
              "      <td>Her fans walked out muttering words like `` ho...</td>\n",
              "    </tr>\n",
              "    <tr>\n",
              "      <th>11854</th>\n",
              "      <td>11855</td>\n",
              "      <td>In this case zero .</td>\n",
              "    </tr>\n",
              "  </tbody>\n",
              "</table>\n",
              "</div>"
            ],
            "text/plain": [
              "       sentence_index                                           sentence\n",
              "11850           11851                                    A real snooze .\n",
              "11851           11852                                     No surprises .\n",
              "11852           11853  We 've seen the hippie-turned-yuppie plot befo...\n",
              "11853           11854  Her fans walked out muttering words like `` ho...\n",
              "11854           11855                                In this case zero ."
            ]
          },
          "metadata": {
            "tags": []
          },
          "execution_count": 4
        }
      ]
    },
    {
      "cell_type": "code",
      "metadata": {
        "colab": {
          "base_uri": "https://localhost:8080/",
          "height": 204
        },
        "id": "HexrEBYVM6fv",
        "outputId": "fbb9b80a-e8ac-450a-c820-2a3aa61c7d55"
      },
      "source": [
        "df = pd.read_csv('stanfordSentimentTreebank/datasetSplit.txt',sep='\\t')\r\n",
        "df.tail()\r\n"
      ],
      "execution_count": 5,
      "outputs": [
        {
          "output_type": "execute_result",
          "data": {
            "text/html": [
              "<div>\n",
              "<style scoped>\n",
              "    .dataframe tbody tr th:only-of-type {\n",
              "        vertical-align: middle;\n",
              "    }\n",
              "\n",
              "    .dataframe tbody tr th {\n",
              "        vertical-align: top;\n",
              "    }\n",
              "\n",
              "    .dataframe thead th {\n",
              "        text-align: right;\n",
              "    }\n",
              "</style>\n",
              "<table border=\"1\" class=\"dataframe\">\n",
              "  <thead>\n",
              "    <tr style=\"text-align: right;\">\n",
              "      <th></th>\n",
              "      <th>sentence_index,splitset_label</th>\n",
              "    </tr>\n",
              "  </thead>\n",
              "  <tbody>\n",
              "    <tr>\n",
              "      <th>11850</th>\n",
              "      <td>11851,1</td>\n",
              "    </tr>\n",
              "    <tr>\n",
              "      <th>11851</th>\n",
              "      <td>11852,1</td>\n",
              "    </tr>\n",
              "    <tr>\n",
              "      <th>11852</th>\n",
              "      <td>11853,1</td>\n",
              "    </tr>\n",
              "    <tr>\n",
              "      <th>11853</th>\n",
              "      <td>11854,1</td>\n",
              "    </tr>\n",
              "    <tr>\n",
              "      <th>11854</th>\n",
              "      <td>11855,1</td>\n",
              "    </tr>\n",
              "  </tbody>\n",
              "</table>\n",
              "</div>"
            ],
            "text/plain": [
              "      sentence_index,splitset_label\n",
              "11850                       11851,1\n",
              "11851                       11852,1\n",
              "11852                       11853,1\n",
              "11853                       11854,1\n",
              "11854                       11855,1"
            ]
          },
          "metadata": {
            "tags": []
          },
          "execution_count": 5
        }
      ]
    },
    {
      "cell_type": "code",
      "metadata": {
        "colab": {
          "base_uri": "https://localhost:8080/",
          "height": 204
        },
        "id": "84HQbq7uNMab",
        "outputId": "39bc9f56-98d8-4f33-ba8f-7f67a6bfbc48"
      },
      "source": [
        "df = pd.read_csv('stanfordSentimentTreebank/SOStr.txt',sep='\\t')\r\n",
        "df.tail()\r\n"
      ],
      "execution_count": 6,
      "outputs": [
        {
          "output_type": "execute_result",
          "data": {
            "text/html": [
              "<div>\n",
              "<style scoped>\n",
              "    .dataframe tbody tr th:only-of-type {\n",
              "        vertical-align: middle;\n",
              "    }\n",
              "\n",
              "    .dataframe tbody tr th {\n",
              "        vertical-align: top;\n",
              "    }\n",
              "\n",
              "    .dataframe thead th {\n",
              "        text-align: right;\n",
              "    }\n",
              "</style>\n",
              "<table border=\"1\" class=\"dataframe\">\n",
              "  <thead>\n",
              "    <tr style=\"text-align: right;\">\n",
              "      <th></th>\n",
              "      <th>The|Rock|is|destined|to|be|the|21st|Century|'s|new|``|Conan|''|and|that|he|'s|going|to|make|a|splash|even|greater|than|Arnold|Schwarzenegger|,|Jean-Claud|Van|Damme|or|Steven|Segal|.</th>\n",
              "    </tr>\n",
              "  </thead>\n",
              "  <tbody>\n",
              "    <tr>\n",
              "      <th>11849</th>\n",
              "      <td>A|real|snooze|.</td>\n",
              "    </tr>\n",
              "    <tr>\n",
              "      <th>11850</th>\n",
              "      <td>No|surprises|.</td>\n",
              "    </tr>\n",
              "    <tr>\n",
              "      <th>11851</th>\n",
              "      <td>We|'ve|seen|the|hippie-turned-yuppie|plot|befo...</td>\n",
              "    </tr>\n",
              "    <tr>\n",
              "      <th>11852</th>\n",
              "      <td>Her|fans|walked|out|muttering|words|like|``|ho...</td>\n",
              "    </tr>\n",
              "    <tr>\n",
              "      <th>11853</th>\n",
              "      <td>In|this|case|zero|.</td>\n",
              "    </tr>\n",
              "  </tbody>\n",
              "</table>\n",
              "</div>"
            ],
            "text/plain": [
              "      The|Rock|is|destined|to|be|the|21st|Century|'s|new|``|Conan|''|and|that|he|'s|going|to|make|a|splash|even|greater|than|Arnold|Schwarzenegger|,|Jean-Claud|Van|Damme|or|Steven|Segal|.\n",
              "11849                                    A|real|snooze|.                                                                                                                                   \n",
              "11850                                     No|surprises|.                                                                                                                                   \n",
              "11851  We|'ve|seen|the|hippie-turned-yuppie|plot|befo...                                                                                                                                   \n",
              "11852  Her|fans|walked|out|muttering|words|like|``|ho...                                                                                                                                   \n",
              "11853                                In|this|case|zero|.                                                                                                                                   "
            ]
          },
          "metadata": {
            "tags": []
          },
          "execution_count": 6
        }
      ]
    },
    {
      "cell_type": "code",
      "metadata": {
        "colab": {
          "base_uri": "https://localhost:8080/",
          "height": 204
        },
        "id": "7DiO6b_uOBY9",
        "outputId": "e684dd41-4778-4283-b225-7e5beb70de49"
      },
      "source": [
        "df = pd.read_csv('stanfordSentimentTreebank/sentiment_labels.txt',sep='\\t')\r\n",
        "df.tail()"
      ],
      "execution_count": 7,
      "outputs": [
        {
          "output_type": "execute_result",
          "data": {
            "text/html": [
              "<div>\n",
              "<style scoped>\n",
              "    .dataframe tbody tr th:only-of-type {\n",
              "        vertical-align: middle;\n",
              "    }\n",
              "\n",
              "    .dataframe tbody tr th {\n",
              "        vertical-align: top;\n",
              "    }\n",
              "\n",
              "    .dataframe thead th {\n",
              "        text-align: right;\n",
              "    }\n",
              "</style>\n",
              "<table border=\"1\" class=\"dataframe\">\n",
              "  <thead>\n",
              "    <tr style=\"text-align: right;\">\n",
              "      <th></th>\n",
              "      <th>phrase ids|sentiment values</th>\n",
              "    </tr>\n",
              "  </thead>\n",
              "  <tbody>\n",
              "    <tr>\n",
              "      <th>239227</th>\n",
              "      <td>239227|0.36111</td>\n",
              "    </tr>\n",
              "    <tr>\n",
              "      <th>239228</th>\n",
              "      <td>239228|0.38889</td>\n",
              "    </tr>\n",
              "    <tr>\n",
              "      <th>239229</th>\n",
              "      <td>239229|0.33333</td>\n",
              "    </tr>\n",
              "    <tr>\n",
              "      <th>239230</th>\n",
              "      <td>239230|0.88889</td>\n",
              "    </tr>\n",
              "    <tr>\n",
              "      <th>239231</th>\n",
              "      <td>239231|0.5</td>\n",
              "    </tr>\n",
              "  </tbody>\n",
              "</table>\n",
              "</div>"
            ],
            "text/plain": [
              "       phrase ids|sentiment values\n",
              "239227              239227|0.36111\n",
              "239228              239228|0.38889\n",
              "239229              239229|0.33333\n",
              "239230              239230|0.88889\n",
              "239231                  239231|0.5"
            ]
          },
          "metadata": {
            "tags": []
          },
          "execution_count": 7
        }
      ]
    },
    {
      "cell_type": "code",
      "metadata": {
        "colab": {
          "base_uri": "https://localhost:8080/",
          "height": 204
        },
        "id": "NZ4yCv_qOCeo",
        "outputId": "b5ffc1c5-0b58-45ba-bb10-a6750595fa2b"
      },
      "source": [
        "df = pd.read_csv('stanfordSentimentTreebank/dictionary.txt',sep='\\t')\r\n",
        "df.tail()"
      ],
      "execution_count": 8,
      "outputs": [
        {
          "output_type": "execute_result",
          "data": {
            "text/html": [
              "<div>\n",
              "<style scoped>\n",
              "    .dataframe tbody tr th:only-of-type {\n",
              "        vertical-align: middle;\n",
              "    }\n",
              "\n",
              "    .dataframe tbody tr th {\n",
              "        vertical-align: top;\n",
              "    }\n",
              "\n",
              "    .dataframe thead th {\n",
              "        text-align: right;\n",
              "    }\n",
              "</style>\n",
              "<table border=\"1\" class=\"dataframe\">\n",
              "  <thead>\n",
              "    <tr style=\"text-align: right;\">\n",
              "      <th></th>\n",
              "      <th>!|0</th>\n",
              "    </tr>\n",
              "  </thead>\n",
              "  <tbody>\n",
              "    <tr>\n",
              "      <th>239226</th>\n",
              "      <td>zoning ordinances to protect your community fr...</td>\n",
              "    </tr>\n",
              "    <tr>\n",
              "      <th>239227</th>\n",
              "      <td>zzzzzzzzz|179256</td>\n",
              "    </tr>\n",
              "    <tr>\n",
              "      <th>239228</th>\n",
              "      <td>élan|220442</td>\n",
              "    </tr>\n",
              "    <tr>\n",
              "      <th>239229</th>\n",
              "      <td>É|220443</td>\n",
              "    </tr>\n",
              "    <tr>\n",
              "      <th>239230</th>\n",
              "      <td>É um passatempo descompromissado|220444</td>\n",
              "    </tr>\n",
              "  </tbody>\n",
              "</table>\n",
              "</div>"
            ],
            "text/plain": [
              "                                                      !|0\n",
              "239226  zoning ordinances to protect your community fr...\n",
              "239227                                   zzzzzzzzz|179256\n",
              "239228                                        élan|220442\n",
              "239229                                           É|220443\n",
              "239230            É um passatempo descompromissado|220444"
            ]
          },
          "metadata": {
            "tags": []
          },
          "execution_count": 8
        }
      ]
    },
    {
      "cell_type": "markdown",
      "metadata": {
        "id": "NKuMn8fHtdYn"
      },
      "source": [
        "## Prepare the labels into 25 category"
      ]
    },
    {
      "cell_type": "code",
      "metadata": {
        "id": "PDR7Tg_v9FBa"
      },
      "source": [
        "import sys\r\n",
        "import pandas as pd\r\n",
        "\r\n",
        "dir_corpus = ''\r\n",
        "\r\n",
        "def read_text():\r\n",
        "  ifname = dir_corpus + 'stanfordSentimentTreebank/SOStr.txt'\r\n",
        "  lines = open(ifname, 'r').read().split('\\n')\r\n",
        "\r\n",
        "  texts = []\r\n",
        "  for line in lines:\r\n",
        "    params = line.split('|')\r\n",
        "    if len(params) > 1:\r\n",
        "      text = ' '.join(params)\r\n",
        "      texts.append(text)\r\n",
        "\r\n",
        "  return texts\r\n",
        "\r\n",
        "def read_splitlabel():\r\n",
        "  ifname = dir_corpus + 'stanfordSentimentTreebank/datasetSplit.txt'\r\n",
        "  lines = open(ifname, 'r').read().split('\\n')\r\n",
        "\r\n",
        "  splitlabels = []\r\n",
        "  for line in lines[1:]:\r\n",
        "    params = line.split(',')\r\n",
        "    if len(params) == 2:\r\n",
        "      splitlabels.append(int(params[1]))\r\n",
        "\t\r\n",
        "  return splitlabels\r\n",
        "\r\n",
        "def read_sentiscore():\r\n",
        "  ifname = dir_corpus + 'stanfordSentimentTreebank/sentiment_labels.txt'\r\n",
        "  lines = open(ifname, 'r').read().split('\\n')\r\n",
        "\r\n",
        "  sentiscores = []\r\n",
        "  for line in lines[1:]:\r\n",
        "    params = line.split('|')\r\n",
        "    if len(params) == 2:\r\n",
        "      sentiscores.append(float(params[1]))\r\n",
        "\r\n",
        "  return sentiscores\r\n",
        "\r\n",
        "def read_phraseid():\r\n",
        "  ifname = dir_corpus + 'stanfordSentimentTreebank/dictionary.txt'\r\n",
        "  lines = open(ifname, 'r').read().split('\\n')\r\n",
        "\r\n",
        "  phraseid = {}\r\n",
        "  for line in lines:\r\n",
        "    params = line.split('|')\r\n",
        "    if len(params) == 2:\r\n",
        "      phraseid[params[0]] = int(params[1])\r\n",
        "\r\n",
        "  return phraseid"
      ],
      "execution_count": 9,
      "outputs": []
    },
    {
      "cell_type": "markdown",
      "metadata": {
        "id": "echiZeQpjCDy"
      },
      "source": [
        "**Data Augmentation routine **"
      ]
    },
    {
      "cell_type": "code",
      "metadata": {
        "colab": {
          "base_uri": "https://localhost:8080/"
        },
        "id": "PLn2LXlygox-",
        "outputId": "07e429f0-85dc-48c9-870e-ee50a794eed4"
      },
      "source": [
        "!!pip install google_trans_new\r\n"
      ],
      "execution_count": 10,
      "outputs": [
        {
          "output_type": "execute_result",
          "data": {
            "text/plain": [
              "['Collecting google_trans_new',\n",
              " '  Downloading https://files.pythonhosted.org/packages/f9/7b/9f136106dc5824dc98185c97991d3cd9b53e70a197154dd49f7b899128f6/google_trans_new-1.1.9-py3-none-any.whl',\n",
              " 'Installing collected packages: google-trans-new',\n",
              " 'Successfully installed google-trans-new-1.1.9']"
            ]
          },
          "metadata": {
            "tags": []
          },
          "execution_count": 10
        }
      ]
    },
    {
      "cell_type": "code",
      "metadata": {
        "id": "P6A6TIXAf8VR"
      },
      "source": [
        "import google_trans_new\r\n",
        "from google_trans_new import google_translator\r\n",
        "\r\n",
        "def backTranslation(sentence):\r\n",
        "  translator = google_translator()\r\n",
        "  available_langs = list(google_trans_new.LANGUAGES.keys()) \r\n",
        "  trans_lang = random.choice(available_langs) \r\n",
        "  translations = translator.translate(sentence, lang_tgt=trans_lang) \r\n",
        "  translations_en_random = translator.translate(translations, lang_src=trans_lang, lang_tgt='en') \r\n",
        "  return translations_en_random"
      ],
      "execution_count": 11,
      "outputs": []
    },
    {
      "cell_type": "code",
      "metadata": {
        "id": "U59R4ezkXhpf"
      },
      "source": [
        "def random_swap(sentence, n=5): \r\n",
        "    #print(sentence)\r\n",
        "    sentence = sentence.split()\r\n",
        "    length = range(len(sentence))\r\n",
        "    for _ in range(n):\r\n",
        "        idx1, idx2 = random.sample(length, 2)\r\n",
        "        sentence[idx1], sentence[idx2] = sentence[idx2], sentence[idx1] \r\n",
        "    sentence = ' '.join(sentence)\r\n",
        "    return sentence\r\n",
        "\r\n",
        "def random_deletion(words, p=0.5): \r\n",
        "    words = words.split()\r\n",
        "    if len(words) == 1: # return if single word\r\n",
        "        return words\r\n",
        "    remaining = list(filter(lambda x: random.uniform(0,1) > p,words)) \r\n",
        "    if len(remaining) == 0: # if not left, sample a random word\r\n",
        "        return ' '.join(random.choice(words))\r\n",
        "    else:\r\n",
        "        return ' '.join(remaining)\r\n",
        "\r\n",
        "\r\n",
        "\r\n",
        "def augment_data(x_label):\r\n",
        "  x, label = x_label\r\n",
        "  x_temp = x\r\n",
        "  label_temp = label\r\n",
        "  counter = 0\r\n",
        "  for i in range(len(x)):\r\n",
        "    if counter/500 == 0:\r\n",
        "      print(counter)\r\n",
        "    counter = counter +1\r\n",
        "    #print(x[i])\r\n",
        "    try:\r\n",
        "      t = random_swap(x[i])\r\n",
        "      x_temp.append(t)\r\n",
        "      label_temp.append(label[i])\r\n",
        "      td = random_deletion(x[i])\r\n",
        "      x_temp.append(td)\r\n",
        "      label_temp.append(label[i])\r\n",
        "      #tb = backTranslation(x[i])\r\n",
        "      #x_temp.append(tb)\r\n",
        "      #label_temp.append(label[i])\r\n",
        "    except:\r\n",
        "      continue\r\n",
        "\r\n",
        "  return(x_temp,label_temp)\r\n",
        "\r\n",
        "#augment_data(([\"hi i am good very happy\",\"i am\"], [2,3]))\r\n",
        "    \r\n"
      ],
      "execution_count": 21,
      "outputs": []
    },
    {
      "cell_type": "markdown",
      "metadata": {
        "id": "dr-7e-CXjYu2"
      },
      "source": [
        "Data Lbel routine creation"
      ]
    },
    {
      "cell_type": "code",
      "metadata": {
        "id": "i-Qa3UUGXQvd"
      },
      "source": [
        "def labelize(x_label):\r\n",
        "  x, label = x_label\r\n",
        "  y = []\r\n",
        "  for l in label:\r\n",
        "    if l <= 0.04:\r\n",
        "      y.append(1)\r\n",
        "    elif l <= 0.08:\r\n",
        "      y.append(2)\r\n",
        "    elif l <= 0.12:\r\n",
        "      y.append(3)\r\n",
        "    elif l <= 0.16:\r\n",
        "      y.append(4)\r\n",
        "    elif l <= 0.20:\r\n",
        "      y.append(5)\r\n",
        "    elif l <= 0.24:\r\n",
        "      y.append(6)\r\n",
        "    elif l <= 0.28:\r\n",
        "      y.append(7)\r\n",
        "    elif l <= 0.32:\r\n",
        "      y.append(8)\r\n",
        "    elif l <= 0.36:\r\n",
        "      y.append(9)\r\n",
        "    elif l <= 0.40:\r\n",
        "      y.append(10)\r\n",
        "    elif l <= 0.44:\r\n",
        "      y.append(11)\r\n",
        "    elif l <= 0.48:\r\n",
        "      y.append(12)\r\n",
        "    elif l <= 0.52:\r\n",
        "      y.append(13)\r\n",
        "    elif l <= 0.56:\r\n",
        "      y.append(14)\r\n",
        "    elif l <= 0.60:\r\n",
        "      y.append(15)\r\n",
        "    elif l <= 0.64:\r\n",
        "      y.append(16)\r\n",
        "    elif l <= 0.68:\r\n",
        "      y.append(17)\r\n",
        "    elif l <= 0.72:\r\n",
        "      y.append(18)\r\n",
        "    elif l <= 0.76:\r\n",
        "      y.append(19)\r\n",
        "    elif l <= 0.80:\r\n",
        "      y.append(20)\r\n",
        "    elif l <= 0.84:\r\n",
        "      y.append(21)\r\n",
        "    elif l <= 0.88:\r\n",
        "      y.append(22)\r\n",
        "    elif l <= 0.92:\r\n",
        "      y.append(23)\r\n",
        "    elif l <= 0.96:\r\n",
        "      y.append(24)\r\n",
        "    else:\r\n",
        "      y.append(25)\r\n",
        "\r\n",
        "  print(len(y))\r\n",
        "  return (x, y)"
      ],
      "execution_count": 22,
      "outputs": []
    },
    {
      "cell_type": "code",
      "metadata": {
        "id": "pd8bedcfXJDD"
      },
      "source": [
        "def prepare_label():\r\n",
        "  texts = read_text()\r\n",
        "  splitlabels = read_splitlabel()\r\n",
        "  sentiscores = read_sentiscore()\r\n",
        "  phraseid = read_phraseid()\r\n",
        "\r\n",
        "  train_text = []\r\n",
        "  train_label = []\r\n",
        "\t\r\n",
        "  valid_text = []\r\n",
        "  valid_label = []\r\n",
        "\r\n",
        "  test_text = []\r\n",
        "  test_label = []\r\n",
        "\r\n",
        "  n_sample = len(texts)\r\n",
        "  if n_sample == len(splitlabels) and len(sentiscores) == len(phraseid):\r\n",
        "    print('%d samples'%(n_sample))\r\n",
        "  else:\r\n",
        "    print('reading fail')\r\n",
        "\t#for i, didx in enumerate(splitlabels):\r\n",
        "\t#\tprint(didx)\r\n",
        "  for i, didx in enumerate(splitlabels):\r\n",
        "    if didx == 1:\r\n",
        "      list_text = train_text\r\n",
        "      list_label = train_label\r\n",
        "    elif didx == 3:\r\n",
        "      #print(\"3\")\r\n",
        "      list_text = valid_text\r\n",
        "      list_label = valid_label\r\n",
        "    elif didx == 2:\r\n",
        "      list_text = test_text\r\n",
        "      list_label = test_label\r\n",
        "    list_text.append(texts[i])\r\n",
        "    list_label.append(sentiscores[phraseid[texts[i]]])\r\n",
        "  print(len(train_text), len(train_label))\r\n",
        "  return (augment_data(labelize((train_text, train_label))), labelize((valid_text, valid_label)), labelize((test_text, test_label)))"
      ],
      "execution_count": 23,
      "outputs": []
    },
    {
      "cell_type": "code",
      "metadata": {
        "colab": {
          "base_uri": "https://localhost:8080/"
        },
        "id": "9lhxScgi_CfU",
        "outputId": "34795110-7138-489b-ff6a-db3dd42e1f05"
      },
      "source": [
        "import random\r\n",
        "(train, train_label), (valid, valid_label), (test, test_label) = prepare_label()\r\n",
        "set(train_label)"
      ],
      "execution_count": 24,
      "outputs": [
        {
          "output_type": "stream",
          "text": [
            "11855 samples\n",
            "8544 8544\n",
            "8544\n",
            "0\n",
            "1101\n",
            "2210\n"
          ],
          "name": "stdout"
        },
        {
          "output_type": "execute_result",
          "data": {
            "text/plain": [
              "{1,\n",
              " 2,\n",
              " 3,\n",
              " 4,\n",
              " 5,\n",
              " 6,\n",
              " 7,\n",
              " 8,\n",
              " 9,\n",
              " 10,\n",
              " 11,\n",
              " 12,\n",
              " 13,\n",
              " 14,\n",
              " 15,\n",
              " 16,\n",
              " 17,\n",
              " 18,\n",
              " 19,\n",
              " 20,\n",
              " 21,\n",
              " 22,\n",
              " 23,\n",
              " 24,\n",
              " 25}"
            ]
          },
          "metadata": {
            "tags": []
          },
          "execution_count": 24
        }
      ]
    },
    {
      "cell_type": "code",
      "metadata": {
        "colab": {
          "base_uri": "https://localhost:8080/"
        },
        "id": "HpFek-iwH0bW",
        "outputId": "24f088a8-8c52-4d6c-a10a-bbcee36208ec"
      },
      "source": [
        "(len(train), len(valid), len(test))\r\n",
        "len(train_label)"
      ],
      "execution_count": 26,
      "outputs": [
        {
          "output_type": "execute_result",
          "data": {
            "text/plain": [
              "25632"
            ]
          },
          "metadata": {
            "tags": []
          },
          "execution_count": 26
        }
      ]
    },
    {
      "cell_type": "markdown",
      "metadata": {
        "id": "XJ6o_79ISSVb"
      },
      "source": [
        "## Defining Fields"
      ]
    },
    {
      "cell_type": "markdown",
      "metadata": {
        "id": "e63g08ijOrf7"
      },
      "source": [
        "Now we shall be defining LABEL as a LabelField, which is a subclass of Field that sets sequen tial to False (as it’s our numerical category class). SENTENCE is a standard Field object, where we have decided to use the spaCy tokenizer and convert all the text to lower‐ case."
      ]
    },
    {
      "cell_type": "code",
      "metadata": {
        "id": "qk8IP4SK1Lrp",
        "colab": {
          "base_uri": "https://localhost:8080/"
        },
        "outputId": "9afe0737-ae3f-4da4-eee8-c8cacb11d0e6"
      },
      "source": [
        "# Import Library\n",
        "import random\n",
        "import torch, torchtext\n",
        "from torchtext import data \n",
        "\n",
        "# Manual Seed\n",
        "SEED = 43\n",
        "torch.manual_seed(SEED)"
      ],
      "execution_count": 27,
      "outputs": [
        {
          "output_type": "execute_result",
          "data": {
            "text/plain": [
              "<torch._C.Generator at 0x7fe560c005e8>"
            ]
          },
          "metadata": {
            "tags": []
          },
          "execution_count": 27
        }
      ]
    },
    {
      "cell_type": "code",
      "metadata": {
        "id": "u6bKQax2Mf_U",
        "colab": {
          "base_uri": "https://localhost:8080/"
        },
        "outputId": "c10e4aee-2131-44bb-c181-2e1e6d4fe62a"
      },
      "source": [
        "Sentence = data.Field(sequential = True, tokenize = 'spacy', batch_first =True, include_lengths=True)\n",
        "Label = data.LabelField(tokenize ='spacy', is_target=True, batch_first =True, sequential =False)\n",
        "\n",
        "print(Sentence)"
      ],
      "execution_count": 28,
      "outputs": [
        {
          "output_type": "stream",
          "text": [
            "<torchtext.data.field.Field object at 0x7fe55e62a9b0>\n"
          ],
          "name": "stdout"
        }
      ]
    },
    {
      "cell_type": "markdown",
      "metadata": {
        "id": "mX-lYIe_O7Vy"
      },
      "source": [
        "Having defined those fields, we now need to produce a list that maps them onto the list of rows that are in the CSV:"
      ]
    },
    {
      "cell_type": "code",
      "metadata": {
        "id": "VawdWq36O6td"
      },
      "source": [
        "fields = [('sentence', Sentence),('labels',Label)]"
      ],
      "execution_count": 29,
      "outputs": []
    },
    {
      "cell_type": "markdown",
      "metadata": {
        "id": "ZbtZ-Ph2P1xL"
      },
      "source": [
        "Armed with our declared fields, lets convert from pandas to list to torchtext. We could also use TabularDataset to apply that definition to the CSV directly but showing an alternative approach too."
      ]
    },
    {
      "cell_type": "code",
      "metadata": {
        "id": "L3OLcJ5B7rHz"
      },
      "source": [
        "example_train = [data.Example.fromlist([train[i], train_label[i]], fields) for i in range(len(train))]\r\n",
        "example_valid = [data.Example.fromlist([valid[i], valid_label[i]], fields) for i in range(len(valid))] "
      ],
      "execution_count": 30,
      "outputs": []
    },
    {
      "cell_type": "code",
      "metadata": {
        "id": "nT-flpH-P1cd"
      },
      "source": [
        "# Creating dataset\n",
        "#twitterDataset = data.TabularDataset(path=\"tweets.csv\", format=\"CSV\", fields=fields, skip_header=True)\n",
        "\n",
        "trainDataset = data.Dataset(example_train, fields)\n",
        "validDataset = data.Dataset(example_valid, fields)"
      ],
      "execution_count": 31,
      "outputs": []
    },
    {
      "cell_type": "markdown",
      "metadata": {
        "id": "g6ZnyCPaR08F"
      },
      "source": [
        "Finally, we can split into training, testing, and validation sets by using the split() method:"
      ]
    },
    {
      "cell_type": "code",
      "metadata": {
        "id": "ykvsCGQMR6UD",
        "colab": {
          "base_uri": "https://localhost:8080/"
        },
        "outputId": "8b6c95db-d642-423e-f0e9-6191b14c807e"
      },
      "source": [
        "(len(trainDataset), len(validDataset))"
      ],
      "execution_count": 32,
      "outputs": [
        {
          "output_type": "execute_result",
          "data": {
            "text/plain": [
              "(25632, 1101)"
            ]
          },
          "metadata": {
            "tags": []
          },
          "execution_count": 32
        }
      ]
    },
    {
      "cell_type": "markdown",
      "metadata": {
        "id": "kix8P2IKSBaV"
      },
      "source": [
        "An example from the dataset:"
      ]
    },
    {
      "cell_type": "code",
      "metadata": {
        "id": "dUpEOQruR9JL",
        "colab": {
          "base_uri": "https://localhost:8080/"
        },
        "outputId": "e3d509ee-036f-4a44-a0c0-f7b0e849b5c2"
      },
      "source": [
        "vars(trainDataset.examples[10])"
      ],
      "execution_count": 33,
      "outputs": [
        {
          "output_type": "execute_result",
          "data": {
            "text/plain": [
              "{'labels': 23,\n",
              " 'sentence': ['Good',\n",
              "  'fun',\n",
              "  ',',\n",
              "  'good',\n",
              "  'action',\n",
              "  ',',\n",
              "  'good',\n",
              "  'acting',\n",
              "  ',',\n",
              "  'good',\n",
              "  'dialogue',\n",
              "  ',',\n",
              "  'good',\n",
              "  'pace',\n",
              "  ',',\n",
              "  'good',\n",
              "  'cinematography',\n",
              "  '.']}"
            ]
          },
          "metadata": {
            "tags": []
          },
          "execution_count": 33
        }
      ]
    },
    {
      "cell_type": "markdown",
      "metadata": {
        "id": "AKdllP3FST4N"
      },
      "source": [
        "## Building Vocabulary"
      ]
    },
    {
      "cell_type": "markdown",
      "metadata": {
        "id": "SuvWQ-SpSmSz"
      },
      "source": [
        "At this point we would have built a one-hot encoding of each word that is present in the dataset—a rather tedious process. Thankfully, torchtext will do this for us, and will also allow a max_size parameter to be passed in to limit the vocabu‐ lary to the most common words. This is normally done to prevent the construction of a huge, memory-hungry model. We don’t want our GPUs too overwhelmed, after all. \n",
        "\n",
        "Let’s limit the vocabulary to a maximum of 5000 words in our training set:\n"
      ]
    },
    {
      "cell_type": "code",
      "metadata": {
        "id": "mx955u93SGeY",
        "colab": {
          "base_uri": "https://localhost:8080/"
        },
        "outputId": "e79cb620-4aea-4414-9a72-c1bc70085c4a"
      },
      "source": [
        "#Tweet.build_vocab(train)\n",
        "#Label.build_vocab(train)\n",
        "MAX_VOCAB_SIZE = 25_000\n",
        "\n",
        "Sentence.build_vocab(trainDataset, \n",
        "                     max_size = MAX_VOCAB_SIZE, \n",
        "                     vectors = \"glove.6B.100d\", \n",
        "                     unk_init = torch.Tensor.normal_)\n",
        "\n",
        "Label.build_vocab(trainDataset)"
      ],
      "execution_count": 34,
      "outputs": [
        {
          "output_type": "stream",
          "text": [
            ".vector_cache/glove.6B.zip: 862MB [06:28, 2.22MB/s]                           \n",
            " 99%|█████████▉| 397396/400000 [00:15<00:00, 26436.15it/s]"
          ],
          "name": "stderr"
        }
      ]
    },
    {
      "cell_type": "markdown",
      "metadata": {
        "id": "xvyEeEjXTGhX"
      },
      "source": [
        "By default, torchtext will add two more special tokens, <unk> for unknown words and <pad>, a padding token that will be used to pad all our text to roughly the same size to help with efficient batching on the GPU."
      ]
    },
    {
      "cell_type": "code",
      "metadata": {
        "id": "rA3tIESdcJdN",
        "colab": {
          "base_uri": "https://localhost:8080/"
        },
        "outputId": "6f41adc7-ede6-48b1-c282-8679380ae124"
      },
      "source": [
        "print('Size of input vocab : ', len(Sentence.vocab))\n",
        "print('Size of label vocab : ', len(Label.vocab))\n",
        "print('Top 10 words appreared repeatedly :', list(Sentence.vocab.freqs.most_common(10)))\n",
        "print('Labels : ', Label.vocab.stoi)"
      ],
      "execution_count": 35,
      "outputs": [
        {
          "output_type": "stream",
          "text": [
            "Size of input vocab :  17213\n",
            "Size of label vocab :  25\n",
            "Top 10 words appreared repeatedly : [('.', 20129), (',', 17833), ('the', 15237), ('and', 11194), ('of', 11108), ('a', 11067), ('to', 7547), ('-', 6865), (\"'s\", 6354), ('is', 6326)]\n",
            "Labels :  defaultdict(<function _default_unk_index at 0x7fe561fdd510>, {19: 0, 20: 1, 7: 2, 21: 3, 6: 4, 8: 5, 18: 6, 13: 7, 5: 8, 16: 9, 10: 10, 12: 11, 22: 12, 9: 13, 17: 14, 11: 15, 14: 16, 15: 17, 23: 18, 4: 19, 3: 20, 2: 21, 24: 22, 1: 23, 25: 24})\n"
          ],
          "name": "stdout"
        }
      ]
    },
    {
      "cell_type": "markdown",
      "metadata": {
        "id": "rwjD2-ebTeUX"
      },
      "source": [
        "**Lots of stopwords!!**"
      ]
    },
    {
      "cell_type": "markdown",
      "metadata": {
        "id": "sLWW221gTpNs"
      },
      "source": [
        "Now we need to create a data loader to feed into our training loop. Torchtext provides the BucketIterator method that will produce what it calls a Batch, which is almost, but not quite, like the data loader we used on images."
      ]
    },
    {
      "cell_type": "markdown",
      "metadata": {
        "id": "EQqMhMoDUDmn"
      },
      "source": [
        "But at first declare the device we are using."
      ]
    },
    {
      "cell_type": "code",
      "metadata": {
        "id": "Zfo2QhGJUK4l"
      },
      "source": [
        "device = torch.device(\"cuda\" if torch.cuda.is_available() else \"cpu\")"
      ],
      "execution_count": 36,
      "outputs": []
    },
    {
      "cell_type": "code",
      "metadata": {
        "id": "zK2ORoqdTNsM"
      },
      "source": [
        "train_iterator, valid_iterator = data.BucketIterator.splits((trainDataset, validDataset), batch_size = 256, \n",
        "                                                            sort_key = lambda x: len(x.sentence),\n",
        "                                                            sort_within_batch=True, device = device)"
      ],
      "execution_count": 37,
      "outputs": []
    },
    {
      "cell_type": "markdown",
      "metadata": {
        "id": "Gg7gTFQO4fby"
      },
      "source": [
        "Save the vocabulary for later use"
      ]
    },
    {
      "cell_type": "code",
      "metadata": {
        "id": "niE9Cc6-2bD_"
      },
      "source": [
        "import os, pickle\n",
        "with open('tokenizer.pkl', 'wb') as tokens: \n",
        "    pickle.dump(Sentence.vocab.stoi, tokens)"
      ],
      "execution_count": 38,
      "outputs": []
    },
    {
      "cell_type": "markdown",
      "metadata": {
        "id": "1AbsQwqkVyAy"
      },
      "source": [
        "## Defining Our Model"
      ]
    },
    {
      "cell_type": "markdown",
      "metadata": {
        "id": "E4PED4HJWH4t"
      },
      "source": [
        "We use the Embedding and LSTM modules in PyTorch to build a simple model for classifying tweets.\n",
        "\n",
        "In this model we create three layers. \n",
        "1. First, the words in our tweets are pushed into an Embedding layer, which we have established as a 300-dimensional vector embedding. \n",
        "2. That’s then fed into a 2 stacked-LSTMs with 100 hidden features (again, we’re compressing down from the 300-dimensional input like we did with images). We are using 2 LSTMs for using the dropout.\n",
        "3. Finally, the output of the LSTM (the final hidden state after processing the incoming tweet) is pushed through a standard fully connected layer with three outputs to correspond to our three possible classes (negative, positive, or neutral)."
      ]
    },
    {
      "cell_type": "code",
      "metadata": {
        "id": "43pVRccMT0bT"
      },
      "source": [
        "import torch.nn as nn\n",
        "import torch.nn.functional as F\n",
        "\n",
        "class classifier(nn.Module):\n",
        "    \n",
        "    # Define all the layers used in model\n",
        "    def __init__(self, vocab_size, embedding_dim, hidden_dim, output_dim, n_layers, dropout, bidirectional, pad_idx):\n",
        "        \n",
        "        super().__init__()          \n",
        "        \n",
        "        # Embedding layer\n",
        "        self.embedding = nn.Embedding(vocab_size, embedding_dim, padding_idx = pad_idx)\n",
        "        \n",
        "        # LSTM layer\n",
        "        self.encoder = nn.LSTM(embedding_dim, \n",
        "                           hidden_dim, \n",
        "                           num_layers=n_layers, \n",
        "                           dropout=dropout,\n",
        "                           bidirectional = bidirectional,\n",
        "                           batch_first=True)\n",
        "        # try using nn.GRU or nn.RNN here and compare their performances\n",
        "        # try bidirectional and compare their performances\n",
        "        self.dropout = nn.Dropout(dropout)\n",
        "        # Dense layer\n",
        "        self.fc = nn.Linear(hidden_dim, output_dim)\n",
        "        \n",
        "    def forward(self, text, text_lengths):\n",
        "        \n",
        "        # text = [batch size, sent_length]\n",
        "        embedded = self.embedding(text)\n",
        "        # embedded = [batch size, sent_len, emb dim]\n",
        "      \n",
        "        # packed sequence\n",
        "        packed_embedded = nn.utils.rnn.pack_padded_sequence(embedded, text_lengths.cpu(), batch_first=True)\n",
        "        \n",
        "        packed_output, (hidden, cell) = self.encoder(packed_embedded)\n",
        "        #hidden = [batch size, num layers * num directions,hid dim]\n",
        "        #cell = [batch size, num layers * num directions,hid dim]\n",
        "    \n",
        "        # Hidden = [batch size, hid dim * num directions]\n",
        "        dense_outputs = self.dropout(self.fc(hidden))\n",
        "        #dense_outputs = self.fc(hidden)\n",
        "        \n",
        "        # Final activation function softmax\n",
        "        output = F.softmax(dense_outputs[0], dim=1)\n",
        "            \n",
        "        return output"
      ],
      "execution_count": 65,
      "outputs": []
    },
    {
      "cell_type": "code",
      "metadata": {
        "id": "rwBoGE_X_Fl8"
      },
      "source": [
        "# Define hyperparameters\n",
        "size_of_vocab = len(Sentence.vocab)\n",
        "embedding_dim = 100\n",
        "num_hidden_nodes = 256\n",
        "num_output_nodes = 25\n",
        "num_layers = 3\n",
        "\n",
        "dropout = 0.5\n",
        "bidirectional = True\n",
        "PAD_IDX = Sentence.vocab.stoi[Sentence.pad_token]\n",
        "\n",
        "# Instantiate the model\n",
        "model = classifier(size_of_vocab, embedding_dim, num_hidden_nodes, num_output_nodes, num_layers, dropout, bidirectional, PAD_IDX)"
      ],
      "execution_count": 66,
      "outputs": []
    },
    {
      "cell_type": "code",
      "metadata": {
        "id": "O-pOMqzJ3eTv",
        "colab": {
          "base_uri": "https://localhost:8080/"
        },
        "outputId": "aa729099-cae2-44de-9503-70fbdad6ab4f"
      },
      "source": [
        "print(model)\n",
        "\n",
        "#No. of trianable parameters\n",
        "def count_parameters(model):\n",
        "    return sum(p.numel() for p in model.parameters() if p.requires_grad)\n",
        "    \n",
        "print(f'The model has {count_parameters(model):,} trainable parameters')"
      ],
      "execution_count": 67,
      "outputs": [
        {
          "output_type": "stream",
          "text": [
            "classifier(\n",
            "  (embedding): Embedding(17213, 100, padding_idx=1)\n",
            "  (encoder): LSTM(100, 256, num_layers=3, batch_first=True, dropout=0.5, bidirectional=True)\n",
            "  (dropout): Dropout(p=0.5, inplace=False)\n",
            "  (fc): Linear(in_features=256, out_features=25, bias=True)\n",
            ")\n",
            "The model has 5,614,829 trainable parameters\n"
          ],
          "name": "stdout"
        }
      ]
    },
    {
      "cell_type": "markdown",
      "metadata": {
        "id": "eXajorf5Xz7t"
      },
      "source": [
        "## Model Training and Evaluation"
      ]
    },
    {
      "cell_type": "markdown",
      "metadata": {
        "id": "PrE9RpMtZ1Vs"
      },
      "source": [
        "First define the optimizer and loss functions"
      ]
    },
    {
      "cell_type": "code",
      "metadata": {
        "id": "-u86JWdlXvu5"
      },
      "source": [
        "import torch.optim as optim\n",
        "\n",
        "# define optimizer and loss\n",
        "optimizer = optim.Adam(model.parameters(), lr=2e-4)\n",
        "criterion = nn.CrossEntropyLoss()\n",
        "\n",
        "# define metric\n",
        "def binary_accuracy(preds, y):\n",
        "    #round predictions to the closest integer\n",
        "    _, predictions = torch.max(preds, 1)\n",
        "    \n",
        "    correct = (predictions == y).float() \n",
        "    acc = correct.sum() / len(correct)\n",
        "    return acc"
      ],
      "execution_count": 68,
      "outputs": []
    },
    {
      "cell_type": "code",
      "metadata": {
        "colab": {
          "base_uri": "https://localhost:8080/"
        },
        "id": "Z6phd4xoUeM-",
        "outputId": "793623bb-8ecf-4ad3-b575-13f1b22bbc6c"
      },
      "source": [
        "pretrained_embeddings = Sentence.vocab.vectors\r\n",
        "print(pretrained_embeddings.shape)"
      ],
      "execution_count": 69,
      "outputs": [
        {
          "output_type": "stream",
          "text": [
            "torch.Size([17213, 100])\n"
          ],
          "name": "stdout"
        }
      ]
    },
    {
      "cell_type": "code",
      "metadata": {
        "colab": {
          "base_uri": "https://localhost:8080/"
        },
        "id": "xwnVC8shUlqV",
        "outputId": "50ed8968-806c-401e-e5d7-da7d4c9a0531"
      },
      "source": [
        "model.embedding.weight.data.copy_(pretrained_embeddings)"
      ],
      "execution_count": 70,
      "outputs": [
        {
          "output_type": "execute_result",
          "data": {
            "text/plain": [
              "tensor([[-0.0166, -0.4668,  2.0909,  ..., -1.4692,  0.4476, -0.7223],\n",
              "        [-0.0791, -0.2089, -0.3442,  ...,  0.4657,  0.6297, -1.7395],\n",
              "        [-0.3398,  0.2094,  0.4635,  ..., -0.2339,  0.4730, -0.0288],\n",
              "        ...,\n",
              "        [-0.2031,  0.5047, -0.2522,  ..., -0.3462, -0.1863, -0.3161],\n",
              "        [-0.7630,  0.7469, -0.1344,  ..., -0.4507, -0.0519, -0.1589],\n",
              "        [-0.6918,  0.4727,  0.4129,  ..., -0.2911,  0.0815, -1.4222]])"
            ]
          },
          "metadata": {
            "tags": []
          },
          "execution_count": 70
        }
      ]
    },
    {
      "cell_type": "code",
      "metadata": {
        "colab": {
          "base_uri": "https://localhost:8080/"
        },
        "id": "bgwrhf3VU1Dr",
        "outputId": "f2e066d9-365a-4af3-a568-f664fb9dd9b1"
      },
      "source": [
        "UNK_IDX = Sentence.vocab.stoi[Sentence.unk_token]\r\n",
        "model.embedding.weight.data[UNK_IDX] = torch.zeros(embedding_dim)\r\n",
        "model.embedding.weight.data[PAD_IDX] = torch.zeros(embedding_dim)\r\n",
        "print(model.embedding.weight.data)"
      ],
      "execution_count": 71,
      "outputs": [
        {
          "output_type": "stream",
          "text": [
            "tensor([[ 0.0000,  0.0000,  0.0000,  ...,  0.0000,  0.0000,  0.0000],\n",
            "        [ 0.0000,  0.0000,  0.0000,  ...,  0.0000,  0.0000,  0.0000],\n",
            "        [-0.3398,  0.2094,  0.4635,  ..., -0.2339,  0.4730, -0.0288],\n",
            "        ...,\n",
            "        [-0.2031,  0.5047, -0.2522,  ..., -0.3462, -0.1863, -0.3161],\n",
            "        [-0.7630,  0.7469, -0.1344,  ..., -0.4507, -0.0519, -0.1589],\n",
            "        [-0.6918,  0.4727,  0.4129,  ..., -0.2911,  0.0815, -1.4222]])\n"
          ],
          "name": "stdout"
        }
      ]
    },
    {
      "cell_type": "code",
      "metadata": {
        "id": "brPLMOxAUarP"
      },
      "source": [
        "# push to cuda if available\r\n",
        "model = model.to(device)\r\n",
        "criterion = criterion.to(device)"
      ],
      "execution_count": 72,
      "outputs": []
    },
    {
      "cell_type": "markdown",
      "metadata": {
        "id": "3VCJtNb3Zt8w"
      },
      "source": [
        "The main thing to be aware of in this new training loop is that we have to reference `batch.tweets` and `batch.labels` to get the particular fields we’re interested in; they don’t fall out quite as nicely from the enumerator as they do in torchvision."
      ]
    },
    {
      "cell_type": "markdown",
      "metadata": {
        "id": "2WjEPLKsAiS_"
      },
      "source": [
        "**Training Loop**"
      ]
    },
    {
      "cell_type": "code",
      "metadata": {
        "id": "HDWNnGK3Y5oJ"
      },
      "source": [
        "def train(model, iterator, optimizer, criterion):\n",
        "    \n",
        "    # initialize every epoch \n",
        "    epoch_loss = 0\n",
        "    epoch_acc = 0\n",
        "    \n",
        "    # set the model in training phase\n",
        "    model.train()  \n",
        "    \n",
        "    for batch in iterator:\n",
        "        \n",
        "        # resets the gradients after every batch\n",
        "        optimizer.zero_grad()   \n",
        "        \n",
        "        # retrieve text and no. of words\n",
        "        text, text_lengths = batch.sentence   \n",
        "        \n",
        "        # convert to 1D tensor\n",
        "        predictions = model(text, text_lengths).squeeze()  \n",
        "        \n",
        "        # compute the loss\n",
        "        loss = criterion(predictions, batch.labels)        \n",
        "        \n",
        "        # compute the binary accuracy\n",
        "        acc = binary_accuracy(predictions, batch.labels)   \n",
        "        \n",
        "        # backpropage the loss and compute the gradients\n",
        "        loss.backward()       \n",
        "        \n",
        "        # update the weights\n",
        "        optimizer.step()      \n",
        "        \n",
        "        # loss and accuracy\n",
        "        epoch_loss += loss.item()  \n",
        "        epoch_acc += acc.item()    \n",
        "        \n",
        "    return epoch_loss / len(iterator), epoch_acc / len(iterator)"
      ],
      "execution_count": 73,
      "outputs": []
    },
    {
      "cell_type": "markdown",
      "metadata": {
        "id": "CZcHhkkvAsCt"
      },
      "source": [
        "**Evaluation Loop**"
      ]
    },
    {
      "cell_type": "code",
      "metadata": {
        "id": "zHEe-zSVAriL"
      },
      "source": [
        "def evaluate(model, iterator, criterion):\n",
        "    \n",
        "    # initialize every epoch\n",
        "    epoch_loss = 0\n",
        "    epoch_acc = 0\n",
        "\n",
        "    # deactivating dropout layers\n",
        "    model.eval()\n",
        "    \n",
        "    # deactivates autograd\n",
        "    with torch.no_grad():\n",
        "    \n",
        "        for batch in iterator:\n",
        "        \n",
        "            # retrieve text and no. of words\n",
        "            text, text_lengths = batch.sentence\n",
        "            \n",
        "            # convert to 1d tensor\n",
        "            predictions = model(text, text_lengths).squeeze()\n",
        "            \n",
        "            # compute loss and accuracy\n",
        "            loss = criterion(predictions, batch.labels)\n",
        "            acc = binary_accuracy(predictions, batch.labels)\n",
        "            \n",
        "            # keep track of loss and accuracy\n",
        "            epoch_loss += loss.item()\n",
        "            epoch_acc += acc.item()\n",
        "        \n",
        "    return epoch_loss / len(iterator), epoch_acc / len(iterator)"
      ],
      "execution_count": 74,
      "outputs": []
    },
    {
      "cell_type": "markdown",
      "metadata": {
        "id": "L6LJFW7HaJoV"
      },
      "source": [
        "**Let's Train and Evaluate**"
      ]
    },
    {
      "cell_type": "code",
      "metadata": {
        "id": "tq330XlnaEU9",
        "colab": {
          "base_uri": "https://localhost:8080/"
        },
        "outputId": "f3449384-5b0b-440f-ecad-31eeb2127d88"
      },
      "source": [
        "N_EPOCHS = 50\n",
        "best_valid_loss = float('inf')\n",
        "\n",
        "#freeze embeddings\n",
        "model.embedding.weight.requires_grad = unfrozen = False\n",
        "\n",
        "for epoch in range(N_EPOCHS):\n",
        "     \n",
        "    # train the model\n",
        "    train_loss, train_acc = train(model, train_iterator, optimizer, criterion)\n",
        "    \n",
        "    # evaluate the model\n",
        "    valid_loss, valid_acc = evaluate(model, valid_iterator, criterion)\n",
        "    \n",
        "    # save the best model\n",
        "    if valid_loss < best_valid_loss:\n",
        "        best_valid_loss = valid_loss\n",
        "        torch.save(model.state_dict(), 'saved_weights.pt')\n",
        "    \n",
        "    print(f'\\tTrain Loss: {train_loss:.3f} | Train Acc: {train_acc*100:.2f}%')\n",
        "    print(f'\\t Val. Loss: {valid_loss:.3f} |  Val. Acc: {valid_acc*100:.2f}% \\n')"
      ],
      "execution_count": 75,
      "outputs": [
        {
          "output_type": "stream",
          "text": [
            "\tTrain Loss: 3.209 | Train Acc: 6.45%\n",
            "\t Val. Loss: 3.202 |  Val. Acc: 5.86% \n",
            "\n",
            "\tTrain Loss: 3.204 | Train Acc: 6.75%\n",
            "\t Val. Loss: 3.201 |  Val. Acc: 6.01% \n",
            "\n",
            "\tTrain Loss: 3.201 | Train Acc: 7.47%\n",
            "\t Val. Loss: 3.198 |  Val. Acc: 7.11% \n",
            "\n",
            "\tTrain Loss: 3.196 | Train Acc: 8.13%\n",
            "\t Val. Loss: 3.194 |  Val. Acc: 7.42% \n",
            "\n",
            "\tTrain Loss: 3.195 | Train Acc: 8.19%\n",
            "\t Val. Loss: 3.191 |  Val. Acc: 8.20% \n",
            "\n",
            "\tTrain Loss: 3.194 | Train Acc: 8.23%\n",
            "\t Val. Loss: 3.187 |  Val. Acc: 8.48% \n",
            "\n",
            "\tTrain Loss: 3.192 | Train Acc: 8.38%\n",
            "\t Val. Loss: 3.187 |  Val. Acc: 8.77% \n",
            "\n",
            "\tTrain Loss: 3.191 | Train Acc: 8.78%\n",
            "\t Val. Loss: 3.192 |  Val. Acc: 8.25% \n",
            "\n",
            "\tTrain Loss: 3.187 | Train Acc: 9.07%\n",
            "\t Val. Loss: 3.183 |  Val. Acc: 10.83% \n",
            "\n",
            "\tTrain Loss: 3.186 | Train Acc: 9.20%\n",
            "\t Val. Loss: 3.189 |  Val. Acc: 8.36% \n",
            "\n",
            "\tTrain Loss: 3.185 | Train Acc: 9.33%\n",
            "\t Val. Loss: 3.183 |  Val. Acc: 10.83% \n",
            "\n",
            "\tTrain Loss: 3.186 | Train Acc: 9.07%\n",
            "\t Val. Loss: 3.183 |  Val. Acc: 8.70% \n",
            "\n",
            "\tTrain Loss: 3.186 | Train Acc: 9.27%\n",
            "\t Val. Loss: 3.185 |  Val. Acc: 10.10% \n",
            "\n",
            "\tTrain Loss: 3.184 | Train Acc: 9.56%\n",
            "\t Val. Loss: 3.181 |  Val. Acc: 10.02% \n",
            "\n",
            "\tTrain Loss: 3.179 | Train Acc: 10.16%\n",
            "\t Val. Loss: 3.181 |  Val. Acc: 9.63% \n",
            "\n",
            "\tTrain Loss: 3.179 | Train Acc: 9.97%\n",
            "\t Val. Loss: 3.179 |  Val. Acc: 9.53% \n",
            "\n",
            "\tTrain Loss: 3.179 | Train Acc: 10.08%\n",
            "\t Val. Loss: 3.178 |  Val. Acc: 10.38% \n",
            "\n",
            "\tTrain Loss: 3.177 | Train Acc: 10.39%\n",
            "\t Val. Loss: 3.177 |  Val. Acc: 10.18% \n",
            "\n",
            "\tTrain Loss: 3.179 | Train Acc: 10.02%\n",
            "\t Val. Loss: 3.182 |  Val. Acc: 9.32% \n",
            "\n",
            "\tTrain Loss: 3.176 | Train Acc: 10.43%\n",
            "\t Val. Loss: 3.178 |  Val. Acc: 10.15% \n",
            "\n",
            "\tTrain Loss: 3.172 | Train Acc: 10.81%\n",
            "\t Val. Loss: 3.181 |  Val. Acc: 9.53% \n",
            "\n",
            "\tTrain Loss: 3.174 | Train Acc: 10.61%\n",
            "\t Val. Loss: 3.178 |  Val. Acc: 9.42% \n",
            "\n",
            "\tTrain Loss: 3.171 | Train Acc: 10.87%\n",
            "\t Val. Loss: 3.180 |  Val. Acc: 8.98% \n",
            "\n",
            "\tTrain Loss: 3.172 | Train Acc: 11.00%\n",
            "\t Val. Loss: 3.183 |  Val. Acc: 8.54% \n",
            "\n",
            "\tTrain Loss: 3.170 | Train Acc: 11.12%\n",
            "\t Val. Loss: 3.177 |  Val. Acc: 10.20% \n",
            "\n",
            "\tTrain Loss: 3.168 | Train Acc: 11.35%\n",
            "\t Val. Loss: 3.181 |  Val. Acc: 10.07% \n",
            "\n",
            "\tTrain Loss: 3.170 | Train Acc: 11.08%\n",
            "\t Val. Loss: 3.177 |  Val. Acc: 9.79% \n",
            "\n",
            "\tTrain Loss: 3.167 | Train Acc: 11.42%\n",
            "\t Val. Loss: 3.182 |  Val. Acc: 9.47% \n",
            "\n",
            "\tTrain Loss: 3.164 | Train Acc: 11.78%\n",
            "\t Val. Loss: 3.179 |  Val. Acc: 9.66% \n",
            "\n",
            "\tTrain Loss: 3.163 | Train Acc: 11.90%\n",
            "\t Val. Loss: 3.181 |  Val. Acc: 8.83% \n",
            "\n",
            "\tTrain Loss: 3.161 | Train Acc: 12.01%\n",
            "\t Val. Loss: 3.177 |  Val. Acc: 9.58% \n",
            "\n",
            "\tTrain Loss: 3.159 | Train Acc: 12.48%\n",
            "\t Val. Loss: 3.180 |  Val. Acc: 8.25% \n",
            "\n",
            "\tTrain Loss: 3.159 | Train Acc: 12.40%\n",
            "\t Val. Loss: 3.180 |  Val. Acc: 8.85% \n",
            "\n",
            "\tTrain Loss: 3.157 | Train Acc: 12.43%\n",
            "\t Val. Loss: 3.185 |  Val. Acc: 8.20% \n",
            "\n",
            "\tTrain Loss: 3.154 | Train Acc: 13.04%\n",
            "\t Val. Loss: 3.181 |  Val. Acc: 8.75% \n",
            "\n",
            "\tTrain Loss: 3.155 | Train Acc: 12.86%\n",
            "\t Val. Loss: 3.180 |  Val. Acc: 8.51% \n",
            "\n",
            "\tTrain Loss: 3.151 | Train Acc: 13.11%\n",
            "\t Val. Loss: 3.179 |  Val. Acc: 9.53% \n",
            "\n",
            "\tTrain Loss: 3.150 | Train Acc: 13.29%\n",
            "\t Val. Loss: 3.179 |  Val. Acc: 9.42% \n",
            "\n",
            "\tTrain Loss: 3.146 | Train Acc: 13.75%\n",
            "\t Val. Loss: 3.178 |  Val. Acc: 9.76% \n",
            "\n",
            "\tTrain Loss: 3.150 | Train Acc: 13.46%\n",
            "\t Val. Loss: 3.184 |  Val. Acc: 8.54% \n",
            "\n",
            "\tTrain Loss: 3.145 | Train Acc: 14.00%\n",
            "\t Val. Loss: 3.182 |  Val. Acc: 9.21% \n",
            "\n",
            "\tTrain Loss: 3.144 | Train Acc: 13.90%\n",
            "\t Val. Loss: 3.178 |  Val. Acc: 10.15% \n",
            "\n",
            "\tTrain Loss: 3.140 | Train Acc: 14.41%\n",
            "\t Val. Loss: 3.176 |  Val. Acc: 10.83% \n",
            "\n",
            "\tTrain Loss: 3.142 | Train Acc: 14.07%\n",
            "\t Val. Loss: 3.180 |  Val. Acc: 9.55% \n",
            "\n",
            "\tTrain Loss: 3.136 | Train Acc: 14.69%\n",
            "\t Val. Loss: 3.182 |  Val. Acc: 8.64% \n",
            "\n",
            "\tTrain Loss: 3.135 | Train Acc: 14.99%\n",
            "\t Val. Loss: 3.178 |  Val. Acc: 9.19% \n",
            "\n",
            "\tTrain Loss: 3.138 | Train Acc: 14.63%\n",
            "\t Val. Loss: 3.179 |  Val. Acc: 9.16% \n",
            "\n",
            "\tTrain Loss: 3.134 | Train Acc: 15.04%\n",
            "\t Val. Loss: 3.178 |  Val. Acc: 10.93% \n",
            "\n",
            "\tTrain Loss: 3.133 | Train Acc: 14.98%\n",
            "\t Val. Loss: 3.170 |  Val. Acc: 11.29% \n",
            "\n",
            "\tTrain Loss: 3.129 | Train Acc: 15.42%\n",
            "\t Val. Loss: 3.181 |  Val. Acc: 9.29% \n",
            "\n"
          ],
          "name": "stdout"
        }
      ]
    },
    {
      "cell_type": "markdown",
      "metadata": {
        "id": "LZgzB0ZkHVTI"
      },
      "source": [
        "## Model Testing"
      ]
    },
    {
      "cell_type": "code",
      "metadata": {
        "id": "aZZfnWo0abRx"
      },
      "source": [
        "#load weights and tokenizer\n",
        "\n",
        "path='./saved_weights.pt'\n",
        "model.load_state_dict(torch.load(path));\n",
        "model.eval();\n",
        "tokenizer_file = open('./tokenizer.pkl', 'rb')\n",
        "tokenizer = pickle.load(tokenizer_file)\n",
        "\n",
        "#inference \n",
        "\n",
        "import spacy\n",
        "nlp = spacy.load('en')\n",
        "\n",
        "def classify_tweet(tweet):\n",
        "    \n",
        "    categories = {1: \"1\", 2:\"2\", 3:\"3\", 4: \"4\",\n",
        "                  5: \"5\", 6: \"6\" , 7:\"7\", 8:\"8\",\n",
        "                  9:\"9\", 10:\"10\", 11:\"11\", 12:\"12\",\n",
        "                  13:\"13\", 14:\"14\", 15:\"15\", 16:\"16\",\n",
        "                  17:\"17\", 18: \"18\", 19:\"19\", 20:\"20\",\n",
        "                  21:\"21\", 22:\"22\", 23:\"23\", 24:\"24\", 25:\"25\"}\n",
        "    \n",
        "    # tokenize the tweet \n",
        "    tokenized = [tok.text for tok in nlp.tokenizer(tweet)] \n",
        "    # convert to integer sequence using predefined tokenizer dictionary\n",
        "    indexed = [tokenizer[t] for t in tokenized]        \n",
        "    # compute no. of words        \n",
        "    length = [len(indexed)]\n",
        "    # convert to tensor                                    \n",
        "    tensor = torch.LongTensor(indexed).to(device)   \n",
        "    # reshape in form of batch, no. of words           \n",
        "    tensor = tensor.unsqueeze(1).T  \n",
        "    # convert to tensor                          \n",
        "    length_tensor = torch.LongTensor(length)\n",
        "    # Get the model prediction                  \n",
        "    prediction = model(tensor, length_tensor)\n",
        "\n",
        "    _, pred = torch.max(prediction, 1) \n",
        "    \n",
        "    return categories[pred.item()]"
      ],
      "execution_count": 50,
      "outputs": []
    },
    {
      "cell_type": "code",
      "metadata": {
        "id": "yTkHLEipIlM9"
      },
      "source": [
        "classify_tweet(\"A valid explanation for why Trump won't let women on the golf course.\")"
      ],
      "execution_count": null,
      "outputs": []
    },
    {
      "cell_type": "markdown",
      "metadata": {
        "id": "WVjCuKK_LVEF"
      },
      "source": [
        "## Discussion on Data Augmentation Techniques \n",
        "\n",
        "You might wonder exactly how you can augment text data. After all, you can’t really flip it horizontally as you can an image! :D \n",
        "\n",
        "In contrast to data augmentation in images, augmentation techniques on data is very specific to final product you are building. As its general usage on any type of textual data doesn't provides a significant performance boost, that's why unlike torchvision, torchtext doesn’t offer a augmentation pipeline. Due to powerful models as transformers, augmentation tecnhiques are not so preferred now-a-days. But its better to know about some techniques with text that will provide your model with a little more information for training. \n",
        "\n",
        "### Synonym Replacement\n",
        "\n",
        "First, you could replace words in the sentence with synonyms, like so:\n",
        "\n",
        "    The dog slept on the mat\n",
        "\n",
        "could become\n",
        "\n",
        "    The dog slept on the rug\n",
        "\n",
        "Aside from the dog's insistence that a rug is much softer than a mat, the meaning of the sentence hasn’t changed. But mat and rug will be mapped to different indices in the vocabulary, so the model will learn that the two sentences map to the same label, and hopefully that there’s a connection between those two words, as everything else in the sentences is the same."
      ]
    },
    {
      "cell_type": "markdown",
      "metadata": {
        "id": "T_uEfWJpL6Nq"
      },
      "source": [
        "### Random Insertion\n",
        "A random insertion technique looks at a sentence and then randomly inserts synonyms of existing non-stopwords into the sentence n times. Assuming you have a way of getting a synonym of a word and a way of eliminating stopwords (common words such as and, it, the, etc.), shown, but not implemented, in this function via get_synonyms() and get_stopwords(), an implementation of this would be as follows:\n"
      ]
    },
    {
      "cell_type": "code",
      "metadata": {
        "id": "7Alm5D7WIvAC"
      },
      "source": [
        "def random_insertion(sentence, n): \n",
        "    words = remove_stopwords(sentence) \n",
        "    for _ in range(n):\n",
        "        new_synonym = get_synonyms(random.choice(words))\n",
        "        sentence.insert(randrange(len(sentence)+1), new_synonym) \n",
        "    return sentence"
      ],
      "execution_count": 51,
      "outputs": []
    },
    {
      "cell_type": "markdown",
      "metadata": {
        "id": "gqLWzwJ3Mm8h"
      },
      "source": [
        "## Random Deletion\n",
        "As the name suggests, random deletion deletes words from a sentence. Given a probability parameter p, it will go through the sentence and decide whether to delete a word or not based on that random probability. Consider of it as pixel dropouts while treating images."
      ]
    },
    {
      "cell_type": "code",
      "metadata": {
        "id": "-7Dz7JJfMqyC"
      },
      "source": [
        "def random_deletion(words, p=0.5): \n",
        "    if len(words) == 1: # return if single word\n",
        "        return words\n",
        "    remaining = list(filter(lambda x: random.uniform(0,1) > p,words)) \n",
        "    if len(remaining) == 0: # if not left, sample a random word\n",
        "        return [random.choice(words)] \n",
        "    else:\n",
        "        return remaining"
      ],
      "execution_count": 52,
      "outputs": []
    },
    {
      "cell_type": "markdown",
      "metadata": {
        "id": "zOIbi5WzO5OU"
      },
      "source": [
        "### Random Swap\n",
        "The random swap augmentation takes a sentence and then swaps words within it n times, with each iteration working on the previously swapped sentence. Here we sample two random numbers based on the length of the sentence, and then just keep swapping until we hit n."
      ]
    },
    {
      "cell_type": "code",
      "metadata": {
        "id": "LnkbG15HO3Yj"
      },
      "source": [
        "def random_swap(sentence, n=5): \n",
        "    length = range(len(sentence)) \n",
        "    for _ in range(n):\n",
        "        idx1, idx2 = random.sample(length, 2)\n",
        "        sentence[idx1], sentence[idx2] = sentence[idx2], sentence[idx1] \n",
        "    return sentence"
      ],
      "execution_count": 53,
      "outputs": []
    },
    {
      "cell_type": "markdown",
      "metadata": {
        "id": "599NpwfMR5Vm"
      },
      "source": [
        "For more on this please go through this [paper](https://arxiv.org/pdf/1901.11196.pdf)."
      ]
    },
    {
      "cell_type": "markdown",
      "metadata": {
        "id": "a5aeKuNCRGip"
      },
      "source": [
        "### Back Translation\n",
        "\n",
        "Another popular approach for augmenting text datasets is back translation. This involves translating a sentence from our target language into one or more other languages and then translating all of them back to the original language. We can use the Python library googletrans for this purpose. "
      ]
    },
    {
      "cell_type": "code",
      "metadata": {
        "id": "pHhNBbYrRXNy"
      },
      "source": [
        "!!pip install googletrans==3.1.0a0\n"
      ],
      "execution_count": null,
      "outputs": []
    },
    {
      "cell_type": "code",
      "metadata": {
        "id": "MuLdqv7A3yDO"
      },
      "source": [
        "import random\r\n",
        "import googletrans\r\n",
        "from googletrans import Translator\r\n",
        "#import googletrans.Translator\r\n",
        "\r\n",
        "translator = Translator()\r\n",
        "sentence = ['The dog slept on the rug']\r\n",
        "\r\n",
        "available_langs = list(googletrans.LANGUAGES.keys()) \r\n",
        "trans_lang = random.choice(available_langs) \r\n",
        "print(f\"Translating to {googletrans.LANGUAGES[trans_lang]}\")\r\n",
        "\r\n",
        "translations = translator.translate(sentence, dest=trans_lang) \r\n",
        "t_text = [t.text for t in translations]\r\n",
        "print(t_text)\r\n",
        "\r\n",
        "translations_en_random = translator.translate(t_text, src=trans_lang, dest='en') \r\n",
        "en_text = [t.text for t in translations_en_random]\r\n",
        "print(en_text)"
      ],
      "execution_count": null,
      "outputs": []
    }
  ]
}