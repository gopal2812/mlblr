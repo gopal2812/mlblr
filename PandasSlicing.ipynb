{
  "nbformat": 4,
  "nbformat_minor": 0,
  "metadata": {
    "anaconda-cloud": {},
    "kernelspec": {
      "display_name": "Python 3",
      "language": "python",
      "name": "python3"
    },
    "language_info": {
      "codemirror_mode": {
        "name": "ipython",
        "version": 3
      },
      "file_extension": ".py",
      "mimetype": "text/x-python",
      "name": "python",
      "nbconvert_exporter": "python",
      "pygments_lexer": "ipython3",
      "version": "3.6.8"
    },
    "colab": {
      "name": "Slicing.ipynb",
      "provenance": [],
      "include_colab_link": true
    }
  },
  "cells": [
    {
      "cell_type": "markdown",
      "metadata": {
        "id": "view-in-github",
        "colab_type": "text"
      },
      "source": [
        "<a href=\"https://colab.research.google.com/github/gopal2812/mlblr/blob/master/PandasSlicing.ipynb\" target=\"_parent\"><img src=\"https://colab.research.google.com/assets/colab-badge.svg\" alt=\"Open In Colab\"/></a>"
      ]
    },
    {
      "cell_type": "code",
      "metadata": {
        "id": "ir1wG8Bb3ZpH",
        "colab_type": "code",
        "colab": {}
      },
      "source": [
        "# Import libraries\n",
        "import pandas as pd\n",
        "import numpy as np"
      ],
      "execution_count": 0,
      "outputs": []
    },
    {
      "cell_type": "markdown",
      "metadata": {
        "id": "x16fEgcU3bNn",
        "colab_type": "text"
      },
      "source": [
        "\n",
        "- [Instructor] When working with large data sets, oftentimes you're only interested in a smaller subset of your data, and that's why slicing is so important. And in this video, I'll teach you how to select columns in Pandas, because oftentimes you're only interested in a smaller subset of columns in your data, and I'll also show you how to use slicing operations in Pandas. I'm working with a car loans data set where I have the data frame DF and I'm looking at the first five rows. Let's say you're only interested in looking at a few columns of your data set. So let's go over how to use brackets to select just a few columns. What the codier does is we're using double square brackets to only output one column of our data set. And as you see, I've only pulled out the car type column. Now we can also select multiple columns using double brackets, and let me show you how that's done. So right here, you notice that we have a list within these brackets. So I'm looking at the car type column and I'm looking at the principal paid column. So I run this and now I have the car type column and the principal paid column. And notice that when I use the in build type function, that this is still a Pandas data frame. One thing a lot of beginners often have difficulties with when working with Pandas, is if they just have single brackets, they'll end up with something that looks like this. This is called a panda series. And what this is is a one-dimensional array which can be labeled. In this case, our labels are zero or one, or two, or three, and our four. These are called indexes. And notice when I use the in-build type function, I have a panda series. Keep in mind that when you use panda series, you cannot select multiple columns. This will result in a key error, as you can see here. And this is a really common error that a lot of beginners run into and this usually results from people wanting to select multiple columns. And the simple solution to this is simply to use a pandas data frame. In other words, use double brackets. So I have my data frame. I'm selecting my car type column and I'm selecting my principal paid column. One reason why you might use a panda series as opposed to a data frame is that with a panda series, you can select rows using slicing where you have the series, the start index of what you want to select, the end index of what you want to select. And keep in mind the end index is not inclusive. And this behavior is very similar to Python lists. So I have a panda series here where I'm looking at the car type column and this is the entire car type column. Say I'm only interested in, let's say, index zero up until, but not including, index 10. In other words, from here to here. I can use a slicing operation. So over here, I have my car type column, and this is a panda series, and here's my slice. And I'm just selecting from index zero up until, but not including, index 10. So from zero to nine. Keep in mind you can also select columns using dot notation, however, this is not the recommended syntax as you'll see in this cell over here. This can result in an error as there's a space in this column name. Keep in mind that this also fails if your column name is the same as the pandas data frame's attributes or methods. So a safer syntax is just to use single brackets. And lastly, I want to show you the preferred syntax for selecting columns. And this is by using the .loc attribute, and this allows you to select columns, index, as well as slice your data. So over here, I'm selecting all the rows of my pandas data frame. I'm pacifically saying I just want the car type column, and I want the first five rows. Similarly, if you just want a panda series, you just take out the square brackets around your column name. So that's it. If, in the future, you're presented with a big data set and you want to look at a subset of it, consider slicing."
      ]
    },
    {
      "cell_type": "markdown",
      "metadata": {
        "id": "cMfkvKBj3ZpW",
        "colab_type": "text"
      },
      "source": [
        "### Load Excel File"
      ]
    },
    {
      "cell_type": "code",
      "metadata": {
        "id": "WGIcAMoC3ZpZ",
        "colab_type": "code",
        "colab": {}
      },
      "source": [
        "filename = 'data/car_financing.xlsx'\n",
        "df = pd.read_excel(filename)"
      ],
      "execution_count": 0,
      "outputs": []
    },
    {
      "cell_type": "markdown",
      "metadata": {
        "id": "KY2hhbqR3Zpj",
        "colab_type": "text"
      },
      "source": [
        "## Slicing\n",
        "1. How to select columns in pandas \n",
        "2. How to use slicing operations in pandas"
      ]
    },
    {
      "cell_type": "code",
      "metadata": {
        "id": "No1ArQ213Zpm",
        "colab_type": "code",
        "colab": {}
      },
      "source": [
        "df.head()"
      ],
      "execution_count": 0,
      "outputs": []
    },
    {
      "cell_type": "markdown",
      "metadata": {
        "id": "bsZJkFFy3Zpt",
        "colab_type": "text"
      },
      "source": [
        "### Select columns using brackets\n",
        "With square brackets, you can select one or more columns."
      ]
    },
    {
      "cell_type": "code",
      "metadata": {
        "id": "1ndNfVSU3Zpv",
        "colab_type": "code",
        "colab": {}
      },
      "source": [
        "# Select one column using double brackets\n",
        "df[['car_type']].head()"
      ],
      "execution_count": 0,
      "outputs": []
    },
    {
      "cell_type": "code",
      "metadata": {
        "id": "kQ4hlWSZ3Zp2",
        "colab_type": "code",
        "colab": {}
      },
      "source": [
        "# Select multiple columns using double brackets\n",
        "df[['car_type', 'Principal Paid']].head()"
      ],
      "execution_count": 0,
      "outputs": []
    },
    {
      "cell_type": "code",
      "metadata": {
        "id": "XBDz-JL63Zp-",
        "colab_type": "code",
        "colab": {}
      },
      "source": [
        "# This is a Pandas DataFrame\n",
        "type(df[['car_type']].head())"
      ],
      "execution_count": 0,
      "outputs": []
    },
    {
      "cell_type": "code",
      "metadata": {
        "id": "G2BJ10sL3ZqI",
        "colab_type": "code",
        "colab": {}
      },
      "source": [
        "# Select one column using single brackets\n",
        "# This produces a pandas series which is a one-dimensional array which can be labeled\n",
        "df['car_type'].head()"
      ],
      "execution_count": 0,
      "outputs": []
    },
    {
      "cell_type": "code",
      "metadata": {
        "id": "VlaadZkS3ZqQ",
        "colab_type": "code",
        "colab": {}
      },
      "source": [
        "# This is a pandas series\n",
        "type(df['car_type'].head())"
      ],
      "execution_count": 0,
      "outputs": []
    },
    {
      "cell_type": "code",
      "metadata": {
        "id": "tTCRqlC33ZqZ",
        "colab_type": "code",
        "colab": {}
      },
      "source": [
        "# Keep in mind that you can't select multiple colums using single brackets\n",
        "# This will result in a KeyError\n",
        "df['car_type', 'Principal Paid']"
      ],
      "execution_count": 0,
      "outputs": []
    },
    {
      "cell_type": "code",
      "metadata": {
        "id": "2ShWl3G53Zqg",
        "colab_type": "code",
        "colab": {}
      },
      "source": [
        "df[['car_type', 'Principal Paid']]"
      ],
      "execution_count": 0,
      "outputs": []
    },
    {
      "cell_type": "markdown",
      "metadata": {
        "id": "GJ0sTijq3Zqp",
        "colab_type": "text"
      },
      "source": [
        "### Pandas Slicing"
      ]
    },
    {
      "cell_type": "markdown",
      "metadata": {
        "id": "kdhAIsnI3Zqr",
        "colab_type": "text"
      },
      "source": [
        "With a pandas series, we can select rows using slicing like this: series[start_index:end_index]\n",
        "\n",
        "The end_index is not inclusive. This behavior is very similar to Python lists."
      ]
    },
    {
      "cell_type": "code",
      "metadata": {
        "id": "LcL8xc5F3Zqs",
        "colab_type": "code",
        "colab": {}
      },
      "source": [
        "df['car_type']"
      ],
      "execution_count": 0,
      "outputs": []
    },
    {
      "cell_type": "code",
      "metadata": {
        "id": "wsfPNC183Zq1",
        "colab_type": "code",
        "colab": {}
      },
      "source": [
        "df['car_type'][0:10]"
      ],
      "execution_count": 0,
      "outputs": []
    },
    {
      "cell_type": "code",
      "metadata": {
        "id": "U7dzlamM3Zq8",
        "colab_type": "code",
        "colab": {}
      },
      "source": [
        "# Select column using dot notation. \n",
        "# This is not recommended.\n",
        "df.car_type.head()"
      ],
      "execution_count": 0,
      "outputs": []
    },
    {
      "cell_type": "code",
      "metadata": {
        "id": "2nu9xGSt3ZrE",
        "colab_type": "code",
        "colab": {}
      },
      "source": [
        "\"\"\"\n",
        "This won't work as there is a space in the column name. \n",
        "Dot notation also fails if your column has the same name \n",
        "of a DataFrame's attributes or methods.\n",
        "\"\"\"\n",
        "df.Principal Paid"
      ],
      "execution_count": 0,
      "outputs": []
    },
    {
      "cell_type": "code",
      "metadata": {
        "id": "_tDu4rj03ZrL",
        "colab_type": "code",
        "colab": {}
      },
      "source": [
        "df['Principal Paid']"
      ],
      "execution_count": 0,
      "outputs": []
    },
    {
      "cell_type": "markdown",
      "metadata": {
        "id": "m_PyAonj3ZrT",
        "colab_type": "text"
      },
      "source": [
        "### Selecting Columns using loc\n",
        "The pandas attribute .loc allow you to select columns, index, and slice your data. "
      ]
    },
    {
      "cell_type": "code",
      "metadata": {
        "id": "1mzXCj9Y3ZrY",
        "colab_type": "code",
        "colab": {}
      },
      "source": [
        "# pandas dataframe\n",
        "df.loc[:, ['car_type']].head()"
      ],
      "execution_count": 0,
      "outputs": []
    },
    {
      "cell_type": "code",
      "metadata": {
        "id": "diuOVfFm3Zrg",
        "colab_type": "code",
        "colab": {}
      },
      "source": [
        "# pandas series\n",
        "df.loc[:, 'car_type'].head()"
      ],
      "execution_count": 0,
      "outputs": []
    }
  ]
}