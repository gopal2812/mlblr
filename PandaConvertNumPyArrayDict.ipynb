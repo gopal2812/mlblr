{
  "nbformat": 4,
  "nbformat_minor": 0,
  "metadata": {
    "anaconda-cloud": {},
    "kernelspec": {
      "display_name": "Python 3",
      "language": "python",
      "name": "python3"
    },
    "language_info": {
      "codemirror_mode": {
        "name": "ipython",
        "version": 3
      },
      "file_extension": ".py",
      "mimetype": "text/x-python",
      "name": "python",
      "nbconvert_exporter": "python",
      "pygments_lexer": "ipython3",
      "version": "3.6.8"
    },
    "colab": {
      "name": "ConvertNumPyArrayDict.ipynb",
      "provenance": [],
      "include_colab_link": true
    }
  },
  "cells": [
    {
      "cell_type": "markdown",
      "metadata": {
        "id": "view-in-github",
        "colab_type": "text"
      },
      "source": [
        "<a href=\"https://colab.research.google.com/github/gopal2812/mlblr/blob/master/PandaConvertNumPyArrayDict.ipynb\" target=\"_parent\"><img src=\"https://colab.research.google.com/assets/colab-badge.svg\" alt=\"Open In Colab\"/></a>"
      ]
    },
    {
      "cell_type": "code",
      "metadata": {
        "id": "-NwI_ewm5No8",
        "colab_type": "code",
        "colab": {}
      },
      "source": [
        "# Import libraries\n",
        "import pandas as pd\n",
        "import numpy as np"
      ],
      "execution_count": 0,
      "outputs": []
    },
    {
      "cell_type": "code",
      "metadata": {
        "id": "5cwZKRHe5NpH",
        "colab_type": "code",
        "colab": {}
      },
      "source": [
        "# Load Excel File\n",
        "filename = 'data/car_financing.xlsx'\n",
        "df = pd.read_excel(filename)"
      ],
      "execution_count": 0,
      "outputs": []
    },
    {
      "cell_type": "code",
      "metadata": {
        "id": "70Frj5Bk5NpN",
        "colab_type": "code",
        "colab": {}
      },
      "source": [
        "## Filtering \n",
        "car_filter = df['car_type']=='Toyota Sienna'\n",
        "interest_filter = df['interest_rate']==0.0702\n",
        "df = df.loc[car_filter & interest_filter, :]"
      ],
      "execution_count": 0,
      "outputs": []
    },
    {
      "cell_type": "code",
      "metadata": {
        "id": "ByTQDygp5NpT",
        "colab_type": "code",
        "colab": {}
      },
      "source": [
        "# Approach 1 dictionary substitution using rename method\n",
        "df = df.rename(columns={'Starting Balance': 'starting_balance',\n",
        "                        'Interest Paid': 'interest_paid', \n",
        "                        'Principal Paid': 'principal_paid',\n",
        "                        'New Balance': 'new_balance'})"
      ],
      "execution_count": 0,
      "outputs": []
    },
    {
      "cell_type": "code",
      "metadata": {
        "id": "dacSZp4E5Npa",
        "colab_type": "code",
        "colab": {}
      },
      "source": [
        "# Approach 2 list replacement\n",
        "# Only changing Month -> month, but we need to list the rest of the columns\n",
        "df.columns = ['month',\n",
        "              'starting_balance',\n",
        "              'Repayment',\n",
        "              'interest_paid',\n",
        "              'principal_paid',\n",
        "              'new_balance',\n",
        "              'term',\n",
        "              'interest_rate',\n",
        "              'car_type']"
      ],
      "execution_count": 0,
      "outputs": []
    },
    {
      "cell_type": "code",
      "metadata": {
        "id": "wjHWedS95Npg",
        "colab_type": "code",
        "colab": {}
      },
      "source": [
        "# Approach 1\n",
        "# This approach allows you to drop multiple columns at a time \n",
        "df = df.drop(columns=['term'])"
      ],
      "execution_count": 0,
      "outputs": []
    },
    {
      "cell_type": "code",
      "metadata": {
        "id": "vZrNUEL_5Npn",
        "colab_type": "code",
        "colab": {}
      },
      "source": [
        "# Approach 2 use the del command\n",
        "del df['Repayment']"
      ],
      "execution_count": 0,
      "outputs": []
    },
    {
      "cell_type": "code",
      "metadata": {
        "id": "6JbKNX715Npt",
        "colab_type": "code",
        "colab": {}
      },
      "source": [
        "df.shape"
      ],
      "execution_count": 0,
      "outputs": []
    },
    {
      "cell_type": "code",
      "metadata": {
        "id": "s25GPG5M5Npz",
        "colab_type": "code",
        "colab": {}
      },
      "source": [
        "# missing values can be excluded in calculations by default. \n",
        "# excludes missing values in the calculation \n",
        "interest_missing = df['interest_paid'].isna()"
      ],
      "execution_count": 0,
      "outputs": []
    },
    {
      "cell_type": "code",
      "metadata": {
        "id": "j3BEpQG05Np5",
        "colab_type": "code",
        "colab": {}
      },
      "source": [
        "# Fill in with the actual value\n",
        "df.loc[interest_missing,'interest_paid'] = 93.24"
      ],
      "execution_count": 0,
      "outputs": []
    },
    {
      "cell_type": "markdown",
      "metadata": {
        "id": "9wa0Y43r5Np_",
        "colab_type": "text"
      },
      "source": [
        "## Convert Pandas DataFrames to NumPy arrays or Dictionaries"
      ]
    },
    {
      "cell_type": "code",
      "metadata": {
        "id": "mKtRSYIw5NqB",
        "colab_type": "code",
        "colab": {}
      },
      "source": [
        "df.head()"
      ],
      "execution_count": 0,
      "outputs": []
    },
    {
      "cell_type": "markdown",
      "metadata": {
        "id": "bEgPKtai5NqI",
        "colab_type": "text"
      },
      "source": [
        "### Convert Pandas DataFrames to NumPy Arrays"
      ]
    },
    {
      "cell_type": "code",
      "metadata": {
        "id": "pOvGHwt-5NqJ",
        "colab_type": "code",
        "colab": {}
      },
      "source": [
        "# Approach 1\n",
        "df.to_numpy()"
      ],
      "execution_count": 0,
      "outputs": []
    },
    {
      "cell_type": "code",
      "metadata": {
        "id": "1yFgd0lT5NqP",
        "colab_type": "code",
        "colab": {}
      },
      "source": [
        "# Approach 2\n",
        "df.values"
      ],
      "execution_count": 0,
      "outputs": []
    },
    {
      "cell_type": "markdown",
      "metadata": {
        "id": "G6aY6hAO5NqU",
        "colab_type": "text"
      },
      "source": [
        "### Convert Pandas DataFrames to Dictionaries"
      ]
    },
    {
      "cell_type": "code",
      "metadata": {
        "id": "Ip2P7T6j5NqX",
        "colab_type": "code",
        "colab": {}
      },
      "source": [
        "df.to_dict()"
      ],
      "execution_count": 0,
      "outputs": []
    }
  ]
}