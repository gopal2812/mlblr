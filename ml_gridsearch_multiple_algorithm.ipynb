{
  "nbformat": 4,
  "nbformat_minor": 0,
  "metadata": {
    "colab": {
      "name": "Untitled41.ipynb",
      "provenance": [],
      "collapsed_sections": [],
      "include_colab_link": true
    },
    "kernelspec": {
      "name": "python3",
      "display_name": "Python 3"
    },
    "accelerator": "GPU"
  },
  "cells": [
    {
      "cell_type": "markdown",
      "metadata": {
        "id": "view-in-github",
        "colab_type": "text"
      },
      "source": [
        "<a href=\"https://colab.research.google.com/github/gopal2812/mlblr/blob/master/ml_gridsearch_multiple_algorithm.ipynb\" target=\"_parent\"><img src=\"https://colab.research.google.com/assets/colab-badge.svg\" alt=\"Open In Colab\"/></a>"
      ]
    },
    {
      "cell_type": "code",
      "metadata": {
        "id": "gNz8CVZpYDJ_",
        "colab_type": "code",
        "colab": {}
      },
      "source": [
        "from pandas import read_csv\n",
        "from pandas import to_numeric\n",
        "from pandas.plotting import scatter_matrix\n",
        "from matplotlib import pyplot\n",
        "from sklearn.model_selection import train_test_split\n",
        "from sklearn.model_selection import KFold\n",
        "from sklearn.model_selection import cross_val_score\n",
        "from sklearn.metrics import classification_report\n",
        "from sklearn.metrics import confusion_matrix\n",
        "from sklearn.metrics import accuracy_score\n",
        "from sklearn.linear_model import LogisticRegression\n",
        "from sklearn.tree import DecisionTreeClassifier\n",
        "from sklearn.neighbors import KNeighborsClassifier\n",
        "from sklearn.discriminant_analysis import LinearDiscriminantAnalysis\n",
        "from sklearn.naive_bayes import GaussianNB\n",
        "from sklearn.svm import SVC\n",
        "from sklearn.feature_selection import SelectKBest\n",
        "from sklearn.feature_selection import chi2\n",
        "import numpy as np\n",
        "from sklearn.model_selection import KFold\n",
        "from sklearn.model_selection import cross_val_score\n",
        "from sklearn.linear_model import LogisticRegression\n",
        "from sklearn.metrics import classification_report"
      ],
      "execution_count": 0,
      "outputs": []
    },
    {
      "cell_type": "code",
      "metadata": {
        "id": "R8uD52zrYV84",
        "colab_type": "code",
        "outputId": "e373e35b-0589-4065-8920-07ff5796a5d5",
        "colab": {
          "resources": {
            "http://localhost:8080/nbextensions/google.colab/files.js": {
              "data": "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",
              "ok": true,
              "headers": [
                [
                  "content-type",
                  "application/javascript"
                ]
              ],
              "status": 200,
              "status_text": ""
            }
          },
          "base_uri": "https://localhost:8080/",
          "height": 73
        }
      },
      "source": [
        "from google.colab import files\n",
        "uploaded = files.upload()"
      ],
      "execution_count": 0,
      "outputs": [
        {
          "output_type": "display_data",
          "data": {
            "text/html": [
              "\n",
              "     <input type=\"file\" id=\"files-36907146-56eb-4f35-9478-fa03293b80c7\" name=\"files[]\" multiple disabled />\n",
              "     <output id=\"result-36907146-56eb-4f35-9478-fa03293b80c7\">\n",
              "      Upload widget is only available when the cell has been executed in the\n",
              "      current browser session. Please rerun this cell to enable.\n",
              "      </output>\n",
              "      <script src=\"/nbextensions/google.colab/files.js\"></script> "
            ],
            "text/plain": [
              "<IPython.core.display.HTML object>"
            ]
          },
          "metadata": {
            "tags": []
          }
        },
        {
          "output_type": "stream",
          "text": [
            "Saving Airport.csv to Airport.csv\n"
          ],
          "name": "stdout"
        }
      ]
    },
    {
      "cell_type": "code",
      "metadata": {
        "id": "qCP1XMXyY_cL",
        "colab_type": "code",
        "outputId": "ef794e5b-141e-45c2-f27e-da35eb445ee9",
        "colab": {
          "base_uri": "https://localhost:8080/",
          "height": 770
        }
      },
      "source": [
        "filename=\"Airport.csv\"\n",
        "dataset = read_csv(filename).set_index('DATE')\n",
        "print(dataset.shape)\n",
        "print(dataset.head(20))\n",
        "print(dataset.info())\n",
        "print(dataset.describe())"
      ],
      "execution_count": 0,
      "outputs": [
        {
          "output_type": "stream",
          "text": [
            "/usr/local/lib/python3.6/dist-packages/IPython/core/interactiveshell.py:2718: DtypeWarning: Columns (19,25,26,27,28,41,42,43,49,51,52,63,71,88,96,97,98,99,100,101,102,103,104,105,106,107) have mixed types. Specify dtype option on import or set low_memory=False.\n",
            "  interactivity=interactivity, compiler=compiler, result=result)\n"
          ],
          "name": "stderr"
        },
        {
          "output_type": "stream",
          "text": [
            "(110547, 123)\n",
            "                         STATION REPORT_TYPE  ...  TStorms  WindEquipmentChangeDate\n",
            "DATE                                          ...                                  \n",
            "2010-01-01T00:56:00  72494023234       FM-15  ...      NaN                      NaN\n",
            "2010-01-01T01:56:00  72494023234       FM-15  ...      NaN                      NaN\n",
            "2010-01-01T02:56:00  72494023234       FM-15  ...      NaN                      NaN\n",
            "2010-01-01T03:56:00  72494023234       SY-MT  ...      NaN                      NaN\n",
            "2010-01-01T04:56:00  72494023234       FM-15  ...      NaN                      NaN\n",
            "2010-01-01T05:56:00  72494023234       FM-15  ...      NaN                      NaN\n",
            "2010-01-01T06:56:00  72494023234       FM-15  ...      NaN                      NaN\n",
            "2010-01-01T07:56:00  72494023234       FM-15  ...      NaN                      NaN\n",
            "2010-01-01T08:56:00  72494023234       FM-15  ...      NaN                      NaN\n",
            "2010-01-01T09:56:00  72494023234       SY-MT  ...      NaN                      NaN\n",
            "2010-01-01T10:56:00  72494023234       FM-15  ...      NaN                      NaN\n",
            "2010-01-01T11:56:00  72494023234       FM-15  ...      NaN                      NaN\n",
            "2010-01-01T12:56:00  72494023234       FM-15  ...      NaN                      NaN\n",
            "2010-01-01T13:56:00  72494023234       FM-15  ...      NaN                      NaN\n",
            "2010-01-01T14:56:00  72494023234       FM-15  ...      NaN                      NaN\n",
            "2010-01-01T15:56:00  72494023234       SY-MT  ...      NaN                      NaN\n",
            "2010-01-01T16:22:00  72494023234       FM-16  ...      NaN                      NaN\n",
            "2010-01-01T16:56:00  72494023234       FM-15  ...      NaN                      NaN\n",
            "2010-01-01T17:56:00  72494023234       FM-15  ...      NaN                      NaN\n",
            "2010-01-01T18:56:00  72494023234       FM-15  ...      NaN                      NaN\n",
            "\n",
            "[20 rows x 123 columns]\n",
            "<class 'pandas.core.frame.DataFrame'>\n",
            "Index: 110547 entries, 2010-01-01T00:56:00 to 2019-08-28T23:59:00\n",
            "Columns: 123 entries, STATION to WindEquipmentChangeDate\n",
            "dtypes: float64(84), int64(3), object(36)\n",
            "memory usage: 104.6+ MB\n",
            "None\n",
            "            STATION         SOURCE  ...  TStorms  WindEquipmentChangeDate\n",
            "count  1.105470e+05  110547.000000  ...      0.0                      0.0\n",
            "mean   7.249402e+10       6.605634  ...      NaN                      NaN\n",
            "std    0.000000e+00       0.946668  ...      NaN                      NaN\n",
            "min    7.249402e+10       4.000000  ...      NaN                      NaN\n",
            "25%    7.249402e+10       7.000000  ...      NaN                      NaN\n",
            "50%    7.249402e+10       7.000000  ...      NaN                      NaN\n",
            "75%    7.249402e+10       7.000000  ...      NaN                      NaN\n",
            "max    7.249402e+10       7.000000  ...      NaN                      NaN\n",
            "\n",
            "[8 rows x 87 columns]\n"
          ],
          "name": "stdout"
        }
      ]
    },
    {
      "cell_type": "code",
      "metadata": {
        "id": "Ysm-NvIxy1m1",
        "colab_type": "code",
        "colab": {}
      },
      "source": [
        "dataset_nan=dataset.dropna(axis=1, how='all')\n",
        "dataset_nan.shape\n",
        "#Remove For non-Boolean data\n",
        "#Total number of NaN entries in a column must be less than 80% of total entries:\n",
        "dataset_nan = dataset_nan.drop(['SOURCE', 'REPORT_TYPE.1', 'SOURCE.1', 'REPORT_TYPE', 'STATION', 'REM','HourlyPresentWeatherType', 'HourlySkyConditions'], axis=1)\n",
        "df_without_nan = dataset_nan.loc[:, dataset_nan.isnull().sum() < 0.95*dataset_nan.shape[0]]"
      ],
      "execution_count": 0,
      "outputs": []
    },
    {
      "cell_type": "code",
      "metadata": {
        "id": "p2ZBdMVX3b3Z",
        "colab_type": "code",
        "outputId": "1d62bbae-e2be-4ed8-bcfe-9131b07f9f54",
        "colab": {
          "base_uri": "https://localhost:8080/",
          "height": 33
        }
      },
      "source": [
        "#remove the unnecessary column\n",
        "df_without_nan.shape\n",
        "#drop all values containing NaN\n",
        "#df_without_nan=df_without_nan.dropna(how='any')"
      ],
      "execution_count": 0,
      "outputs": [
        {
          "output_type": "execute_result",
          "data": {
            "text/plain": [
              "(110547, 14)"
            ]
          },
          "metadata": {
            "tags": []
          },
          "execution_count": 5
        }
      ]
    },
    {
      "cell_type": "code",
      "metadata": {
        "id": "RdHLe0qP6sUm",
        "colab_type": "code",
        "outputId": "e3a0245a-0036-41a4-a933-fe6e0920cc5a",
        "colab": {
          "base_uri": "https://localhost:8080/",
          "height": 167
        }
      },
      "source": [
        "df_without_nan['HourlyPrecipitation'].unique()"
      ],
      "execution_count": 0,
      "outputs": [
        {
          "output_type": "execute_result",
          "data": {
            "text/plain": [
              "array(['0.00', 'T', nan, '0.09', '0.08', '0.07', '0.03', '0.01', '0.02',\n",
              "       '0.12', '0.05', '0.29', '0.16', '0.17', '0.21', '0.46', '0.31',\n",
              "       '0.15', '0.10', '0.17s', '0.05s', '0.06', '0.18', '0.38', '0.45',\n",
              "       '0.11', '0.04', '0.03s', '0.13', '0.28', '0.14', '0.20', '0.04s',\n",
              "       '0.33', '0.35', '0.22', '0.14s', '0.24', '0.09s', '0.19', '0.25',\n",
              "       '0.26', '0.32', '0.23', '0.08s', '0.30', '0.37', '0.02s', '0.10s',\n",
              "       '0.12s', '0.07s', '0.13s', '0.27', '0.06s', '0.40', '0.21s',\n",
              "       '0.01s', '0.71s', '0.34', '0.36', '0.44', '0.49', '0.39', '0.41',\n",
              "       '0.47s', '0.47'], dtype=object)"
            ]
          },
          "metadata": {
            "tags": []
          },
          "execution_count": 6
        }
      ]
    },
    {
      "cell_type": "code",
      "metadata": {
        "id": "LjjkZHG59saZ",
        "colab_type": "code",
        "outputId": "f70c68a1-8419-402b-a70c-a30c00a01ff4",
        "colab": {
          "base_uri": "https://localhost:8080/",
          "height": 133
        }
      },
      "source": [
        "df_without_nan.loc[df_without_nan['HourlyPrecipitation'] == \"0.00\", 'HourlyPrecipitation'] = 0\n",
        "df_without_nan.loc[df_without_nan['HourlyPrecipitation'] == 'T', 'HourlyPrecipitation'] = 0\n",
        "df_without_nan.loc[df_without_nan['HourlyPrecipitation'] != 0, 'HourlyPrecipitation'] = 1\n",
        "df_without_nan['HourlyPrecipitation'].unique()"
      ],
      "execution_count": 0,
      "outputs": [
        {
          "output_type": "stream",
          "text": [
            "/usr/local/lib/python3.6/dist-packages/pandas/core/indexing.py:543: SettingWithCopyWarning: \n",
            "A value is trying to be set on a copy of a slice from a DataFrame.\n",
            "Try using .loc[row_indexer,col_indexer] = value instead\n",
            "\n",
            "See the caveats in the documentation: http://pandas.pydata.org/pandas-docs/stable/indexing.html#indexing-view-versus-copy\n",
            "  self.obj[item] = s\n"
          ],
          "name": "stderr"
        },
        {
          "output_type": "execute_result",
          "data": {
            "text/plain": [
              "array([0, 1])"
            ]
          },
          "metadata": {
            "tags": []
          },
          "execution_count": 7
        }
      ]
    },
    {
      "cell_type": "code",
      "metadata": {
        "id": "6lCt6egSFdGA",
        "colab_type": "code",
        "outputId": "4be286fb-952b-4123-b783-1e619509d7fd",
        "colab": {
          "base_uri": "https://localhost:8080/",
          "height": 87
        }
      },
      "source": [
        "#how to change the column tolist\n",
        "cols = df_without_nan.columns.tolist()\n",
        "print(cols)\n",
        "cols= cols[0:3] + cols[4:14] + cols[3:4]\n",
        "print(cols)\n",
        "\n",
        "df_without_nan = df_without_nan[cols]\n",
        "df_without_nan.shape"
      ],
      "execution_count": 0,
      "outputs": [
        {
          "output_type": "stream",
          "text": [
            "['HourlyAltimeterSetting', 'HourlyDewPointTemperature', 'HourlyDryBulbTemperature', 'HourlyPrecipitation', 'HourlyPressureChange', 'HourlyPressureTendency', 'HourlyRelativeHumidity', 'HourlySeaLevelPressure', 'HourlyStationPressure', 'HourlyVisibility', 'HourlyWetBulbTemperature', 'HourlyWindDirection', 'HourlyWindGustSpeed', 'HourlyWindSpeed']\n",
            "['HourlyAltimeterSetting', 'HourlyDewPointTemperature', 'HourlyDryBulbTemperature', 'HourlyPressureChange', 'HourlyPressureTendency', 'HourlyRelativeHumidity', 'HourlySeaLevelPressure', 'HourlyStationPressure', 'HourlyVisibility', 'HourlyWetBulbTemperature', 'HourlyWindDirection', 'HourlyWindGustSpeed', 'HourlyWindSpeed', 'HourlyPrecipitation']\n"
          ],
          "name": "stdout"
        },
        {
          "output_type": "execute_result",
          "data": {
            "text/plain": [
              "(110547, 14)"
            ]
          },
          "metadata": {
            "tags": []
          },
          "execution_count": 8
        }
      ]
    },
    {
      "cell_type": "code",
      "metadata": {
        "id": "1CkcHfY4UNT9",
        "colab_type": "code",
        "colab": {}
      },
      "source": [
        "df_without_nan['HourlyAltimeterSetting']=df_without_nan['HourlyAltimeterSetting'].apply(lambda S:str(S).strip('s'))\n",
        "df_without_nan.loc[df_without_nan['HourlyAltimeterSetting'] == \"NaN\", 'HourlyAltimeterSetting'] = 30\n",
        "df_without_nan.loc[df_without_nan['HourlyAltimeterSetting'] == \"nan\", 'HourlyAltimeterSetting'] = 30\n",
        "df_without_nan['HourlyAltimeterSetting'].unique\n",
        "df_without_nan['HourlyAltimeterSetting']=df_without_nan['HourlyAltimeterSetting'].apply(to_numeric)"
      ],
      "execution_count": 0,
      "outputs": []
    },
    {
      "cell_type": "code",
      "metadata": {
        "id": "OGBtQ7LUx0XZ",
        "colab_type": "code",
        "colab": {}
      },
      "source": [
        "df_without_nan['HourlyDewPointTemperature']=df_without_nan['HourlyDewPointTemperature'].apply(lambda S:str(S).strip('s'))\n",
        "df_without_nan.loc[df_without_nan['HourlyDewPointTemperature'] == \"nan\", 'HourlyDewPointTemperature'] = \"NaN\"\n",
        "df_without_nan['HourlyDewPointTemperature'].fillna(method='ffill', inplace=True)\n",
        "df_without_nan.loc[df_without_nan['HourlyDewPointTemperature'] == \"NaN\", 'HourlyDewPointTemperature'] = df_without_nan['HourlyDewPointTemperature'].mode().iloc[0]\n",
        "df_without_nan['HourlyDewPointTemperature'].unique()\n",
        "df_without_nan['HourlyDewPointTemperature']=df_without_nan['HourlyDewPointTemperature'].apply(to_numeric)\n"
      ],
      "execution_count": 0,
      "outputs": []
    },
    {
      "cell_type": "code",
      "metadata": {
        "id": "NfguXPwy65mX",
        "colab_type": "code",
        "outputId": "4fb8cb89-cb39-48e6-d124-cb847216633c",
        "colab": {
          "base_uri": "https://localhost:8080/",
          "height": 167
        }
      },
      "source": [
        "\n",
        "df_without_nan['HourlyDryBulbTemperature']=df_without_nan['HourlyDryBulbTemperature'].apply(lambda S:str(S).strip('s'))\n",
        "df_without_nan.loc[df_without_nan['HourlyDryBulbTemperature'] == \"nan\", 'HourlyDryBulbTemperature'] = np.nan\n",
        "df_without_nan['HourlyDryBulbTemperature']=df_without_nan['HourlyDryBulbTemperature'].convert_objects(convert_numeric=True)\n",
        "#apply(to_numeric, errors='ignore')\n",
        "df_without_nan['HourlyDewPointTemperature']=df_without_nan['HourlyDewPointTemperature'].apply(to_numeric)\n",
        "df_without_nan['HourlyDryBulbTemperature'].fillna(method='ffill', inplace=True)\n",
        "df_without_nan['HourlyDryBulbTemperature'].unique()"
      ],
      "execution_count": 0,
      "outputs": [
        {
          "output_type": "stream",
          "text": [
            "/usr/local/lib/python3.6/dist-packages/ipykernel_launcher.py:4: FutureWarning: convert_objects is deprecated.  To re-infer data dtypes for object columns, use Series.infer_objects()\n",
            "For all other conversions use the data-type specific converters pd.to_datetime, pd.to_timedelta and pd.to_numeric.\n",
            "  after removing the cwd from sys.path.\n"
          ],
          "name": "stderr"
        },
        {
          "output_type": "execute_result",
          "data": {
            "text/plain": [
              "array([ 52.,  51.,  53.,  54.,  55.,  57.,  56.,  50.,  49.,  48.,  47.,\n",
              "        46.,  45.,  43.,  58.,  62.,  61.,  59.,  60.,  44.,  63.,  64.,\n",
              "        42.,  40.,  67.,  65.,  66.,  70.,  69.,  72.,  71.,  73.,  74.,\n",
              "        75.,  77.,  68.,  76.,  79.,  78.,  81.,  83.,  85.,  86.,  82.,\n",
              "        90.,  88.,  87.,  80.,  98.,  94.,  92.,  91.,  84.,  89.,  93.,\n",
              "        39.,  38.,  41.,  37.,  36.,  35.,  96.,  97., 101.,  95.])"
            ]
          },
          "metadata": {
            "tags": []
          },
          "execution_count": 12
        }
      ]
    },
    {
      "cell_type": "code",
      "metadata": {
        "id": "vN5sNfSQDkad",
        "colab_type": "code",
        "outputId": "7f65fa18-42d0-49bb-f493-a118120e2873",
        "colab": {
          "base_uri": "https://localhost:8080/",
          "height": 367
        }
      },
      "source": [
        "df_without_nan['HourlySeaLevelPressure'].unique()\n",
        "df_without_nan.loc[df_without_nan['HourlySeaLevelPressure'] == \"nan\", 'HourlySeaLevelPressure'] = np.nan\n",
        "df_without_nan['HourlySeaLevelPressure']=df_without_nan['HourlySeaLevelPressure'].apply(lambda S:str(S).strip('s'))\n",
        "df_without_nan['HourlySeaLevelPressure']=df_without_nan['HourlySeaLevelPressure'].convert_objects(convert_numeric=True)\n",
        "#df_without_nan['HourlySeaLevelPressure']=df_without_nan['HourlySeaLevelPressure'].apply(to_numeric)\n",
        "df_without_nan['HourlySeaLevelPressure'].fillna(method='ffill', inplace=True)\n",
        "df_without_nan['HourlySeaLevelPressure'].unique()"
      ],
      "execution_count": 0,
      "outputs": [
        {
          "output_type": "stream",
          "text": [
            "/usr/local/lib/python3.6/dist-packages/ipykernel_launcher.py:4: FutureWarning: convert_objects is deprecated.  To re-infer data dtypes for object columns, use Series.infer_objects()\n",
            "For all other conversions use the data-type specific converters pd.to_datetime, pd.to_timedelta and pd.to_numeric.\n",
            "  after removing the cwd from sys.path.\n"
          ],
          "name": "stderr"
        },
        {
          "output_type": "execute_result",
          "data": {
            "text/plain": [
              "array([30.32, 30.31, 30.33, 30.29, 30.27, 30.28, 30.26, 30.25, 30.23,\n",
              "       30.22, 30.21, 30.2 , 30.18, 30.17, 30.16, 30.15, 30.12, 30.1 ,\n",
              "       30.11, 30.13, 30.14, 30.19, 30.07, 30.09, 30.08, 30.06, 30.05,\n",
              "       30.04, 30.03, 30.01, 30.02, 29.98, 30.  , 29.99, 29.96, 29.95,\n",
              "       29.91, 29.9 , 29.87, 30.24, 30.3 , 30.34, 30.35, 29.97, 29.94,\n",
              "       29.93, 29.89, 29.88, 29.92, 29.86, 29.85, 29.8 , 29.81, 29.82,\n",
              "       29.79, 29.76, 29.75, 29.73, 29.69, 29.67, 29.64, 29.59, 29.54,\n",
              "       29.52, 29.45, 29.39, 29.38, 29.34, 29.35, 29.36, 29.41, 29.43,\n",
              "       29.48, 29.49, 29.55, 29.56, 29.5 , 29.46, 29.37, 29.44, 29.4 ,\n",
              "       29.47, 29.31, 29.27, 29.23, 29.18, 29.11, 29.15, 29.2 , 29.19,\n",
              "       29.17, 29.21, 29.22, 29.24, 29.26, 29.28, 29.25, 29.09, 29.06,\n",
              "       29.03, 29.  , 28.95, 28.91, 28.89, 28.88, 28.9 , 28.94, 28.97,\n",
              "       29.01, 29.04, 29.07, 29.1 , 29.13, 29.14, 29.32, 29.42, 29.53,\n",
              "       29.57, 29.61, 29.63, 29.66, 29.71, 29.84, 29.83, 29.78, 29.77,\n",
              "       29.7 , 29.68, 29.72, 29.74, 29.65, 29.6 , 29.62, 30.37, 30.36,\n",
              "       30.38, 30.4 , 30.41, 30.42, 30.43, 30.44, 30.45, 30.46, 30.47,\n",
              "       30.39, 29.51, 29.58, 30.49, 30.5 , 30.48, 30.51, 30.52, 30.54,\n",
              "       30.55, 30.53, 30.56, 30.57, 30.58, 29.33, 29.16, 29.29])"
            ]
          },
          "metadata": {
            "tags": []
          },
          "execution_count": 13
        }
      ]
    },
    {
      "cell_type": "code",
      "metadata": {
        "id": "q-ogzcEAE_bf",
        "colab_type": "code",
        "outputId": "e1a318ec-0b4e-41ee-b957-efed36f67372",
        "colab": {
          "base_uri": "https://localhost:8080/",
          "height": 67
        }
      },
      "source": [
        "df_without_nan['HourlyWindDirection'].unique()\n",
        "df_without_nan['HourlyWindDirection']=df_without_nan['HourlyWindDirection'].convert_objects(convert_numeric=True)\n",
        "#df_without_nan.loc[df_without_nan['HourlyWindDirection'] == \"nan\", 'HourlyWindDirection'] = np.nan\n",
        "#df_without_nan.loc[df_without_nan['HourlyWindDirection'] == \"VRB\", 'HourlyWindDirection'] = np.nan\n"
      ],
      "execution_count": 0,
      "outputs": [
        {
          "output_type": "stream",
          "text": [
            "/usr/local/lib/python3.6/dist-packages/ipykernel_launcher.py:2: FutureWarning: convert_objects is deprecated.  To re-infer data dtypes for object columns, use Series.infer_objects()\n",
            "For all other conversions use the data-type specific converters pd.to_datetime, pd.to_timedelta and pd.to_numeric.\n",
            "  \n"
          ],
          "name": "stderr"
        }
      ]
    },
    {
      "cell_type": "code",
      "metadata": {
        "id": "RL72edZ3H6j1",
        "colab_type": "code",
        "outputId": "36c9b145-2240-4b35-b26a-cdc3036a66cb",
        "colab": {
          "base_uri": "https://localhost:8080/",
          "height": 83
        }
      },
      "source": [
        "df_without_nan['HourlyWindDirection'].unique()\n",
        "df_without_nan['HourlyWindDirection'].fillna(method='ffill', inplace=True)\n",
        "df_without_nan['HourlyWindDirection'].unique()\n"
      ],
      "execution_count": 0,
      "outputs": [
        {
          "output_type": "execute_result",
          "data": {
            "text/plain": [
              "array([160., 290.,   0., 340., 170., 150., 100.,  20.,  90.,  70.,  10.,\n",
              "       300., 260., 110.,  80., 360., 350.,  30., 120., 130., 140.,  60.,\n",
              "        40., 180., 210., 330.,  50., 240., 190., 230., 250., 280., 270.,\n",
              "       200., 320., 220., 310., 155.,  19.])"
            ]
          },
          "metadata": {
            "tags": []
          },
          "execution_count": 15
        }
      ]
    },
    {
      "cell_type": "code",
      "metadata": {
        "id": "A_ZDjTgxJBJx",
        "colab_type": "code",
        "outputId": "cea2f973-de3d-4a10-9c75-ae8913c0f2b2",
        "colab": {
          "base_uri": "https://localhost:8080/",
          "height": 67
        }
      },
      "source": [
        "df_without_nan['HourlyStationPressure'].unique()\n",
        "df_without_nan['HourlyStationPressure']=df_without_nan['HourlyStationPressure'].apply(lambda S:str(S).strip('s'))\n",
        "df_without_nan['HourlyStationPressure']=df_without_nan['HourlyStationPressure'].convert_objects(convert_numeric=True)\n",
        "df_without_nan['HourlyStationPressure'].fillna(method='ffill', inplace=True)\n",
        "#df_without_nan['HourlyStationPressure']=df_without_nan['HourlyStationPressure'].apply(to_numeric)\n",
        "#df_without_nan['HourlyVisibility']=df_without_nan['HourlyVisibility'].convert_objects(convert_numeric=True)\n",
        "#df_without_nan['HourlySeaLevelPressure'].fillna(method='ffill', inplace=True)"
      ],
      "execution_count": 0,
      "outputs": [
        {
          "output_type": "stream",
          "text": [
            "/usr/local/lib/python3.6/dist-packages/ipykernel_launcher.py:3: FutureWarning: convert_objects is deprecated.  To re-infer data dtypes for object columns, use Series.infer_objects()\n",
            "For all other conversions use the data-type specific converters pd.to_datetime, pd.to_timedelta and pd.to_numeric.\n",
            "  This is separate from the ipykernel package so we can avoid doing imports until\n"
          ],
          "name": "stderr"
        }
      ]
    },
    {
      "cell_type": "code",
      "metadata": {
        "id": "6jV1Swz9Jzjs",
        "colab_type": "code",
        "outputId": "8f123958-60e2-4bde-c255-6760ab2954ed",
        "colab": {
          "base_uri": "https://localhost:8080/",
          "height": 133
        }
      },
      "source": [
        "\n",
        "df_without_nan['HourlyVisibility']=df_without_nan['HourlyVisibility'].apply(lambda S:str(S).strip('V'))\n",
        "df_without_nan['HourlyVisibility']=df_without_nan['HourlyVisibility'].convert_objects(convert_numeric=True)\n",
        "df_without_nan['HourlyVisibility'].fillna(method='ffill', inplace=True)\n",
        "df_without_nan['HourlyVisibility'].unique()\n"
      ],
      "execution_count": 0,
      "outputs": [
        {
          "output_type": "stream",
          "text": [
            "/usr/local/lib/python3.6/dist-packages/ipykernel_launcher.py:3: FutureWarning: convert_objects is deprecated.  To re-infer data dtypes for object columns, use Series.infer_objects()\n",
            "For all other conversions use the data-type specific converters pd.to_datetime, pd.to_timedelta and pd.to_numeric.\n",
            "  This is separate from the ipykernel package so we can avoid doing imports until\n"
          ],
          "name": "stderr"
        },
        {
          "output_type": "execute_result",
          "data": {
            "text/plain": [
              "array([10.  ,  9.  ,  8.  ,  7.  ,  6.  ,  5.  ,  3.  ,  2.  ,  4.  ,\n",
              "        2.5 ,  1.  ,  0.5 ,  0.25,  9.94,  8.7 ,  1.25,  0.75,  1.75,\n",
              "        1.5 ,  0.12,  2.98,  6.84,  7.46,  0.  ,  0.99,  4.97,  3.73,\n",
              "       46.6 ,  5.59,  1.99,  1.49,  1.74,  2.49,  1.24])"
            ]
          },
          "metadata": {
            "tags": []
          },
          "execution_count": 17
        }
      ]
    },
    {
      "cell_type": "code",
      "metadata": {
        "id": "Yu0ubgfKKrtu",
        "colab_type": "code",
        "outputId": "b9dac6f8-03f8-418a-d82c-f3b05d9aa80c",
        "colab": {
          "base_uri": "https://localhost:8080/",
          "height": 333
        }
      },
      "source": [
        "df_without_nan['HourlyAltimeterSetting'].unique()"
      ],
      "execution_count": 0,
      "outputs": [
        {
          "output_type": "execute_result",
          "data": {
            "text/plain": [
              "array([30.32, 30.31, 30.33, 30.34, 30.29, 30.27, 30.28, 30.26, 30.3 ,\n",
              "       30.  , 30.25, 30.23, 30.22, 30.21, 30.2 , 30.19, 30.18, 30.17,\n",
              "       30.16, 30.15, 30.12, 30.11, 30.1 , 30.13, 30.14, 30.09, 30.07,\n",
              "       30.08, 30.06, 30.05, 30.04, 30.03, 30.02, 30.01, 29.98, 29.99,\n",
              "       29.97, 29.96, 29.92, 29.91, 29.87, 30.24, 30.35, 30.36, 29.95,\n",
              "       29.94, 29.93, 29.89, 29.9 , 29.88, 29.86, 29.85, 29.8 , 29.81,\n",
              "       29.82, 29.79, 29.76, 29.75, 29.74, 29.69, 29.68, 29.67, 29.64,\n",
              "       29.59, 29.54, 29.52, 29.45, 29.39, 29.38, 29.37, 29.34, 29.31,\n",
              "       29.29, 29.32, 29.35, 29.41, 29.43, 29.48, 29.5 , 29.55, 29.56,\n",
              "       29.51, 29.46, 29.4 , 29.44, 29.42, 29.49, 29.47, 29.27, 29.24,\n",
              "       29.18, 29.11, 29.14, 29.13, 29.15, 29.2 , 29.19, 29.17, 29.22,\n",
              "       29.26, 29.28, 29.09, 29.06, 29.03, 29.01, 29.  , 28.95, 28.92,\n",
              "       28.91, 28.9 , 28.89, 28.88, 28.93, 28.94, 28.97, 29.04, 29.07,\n",
              "       29.08, 29.1 , 29.53, 29.58, 29.61, 29.66, 29.71, 29.73, 29.84,\n",
              "       29.83, 29.78, 29.77, 29.7 , 29.72, 29.65, 29.63, 29.6 , 29.62,\n",
              "       30.37, 30.39, 30.4 , 30.41, 30.42, 30.43, 30.44, 30.45, 30.46,\n",
              "       30.48, 30.47, 30.38, 29.57, 30.49, 30.5 , 30.51, 30.52, 30.54,\n",
              "       30.55, 30.53, 30.56, 30.58, 29.36, 30.57, 30.59, 29.33, 29.16,\n",
              "       29.21])"
            ]
          },
          "metadata": {
            "tags": []
          },
          "execution_count": 18
        }
      ]
    },
    {
      "cell_type": "code",
      "metadata": {
        "id": "jgyJG9JZqn-G",
        "colab_type": "code",
        "outputId": "dfc54691-8cb7-42ce-c8f8-e7bc9fbca98c",
        "colab": {
          "base_uri": "https://localhost:8080/",
          "height": 33
        }
      },
      "source": [
        "df_without_nan.shape"
      ],
      "execution_count": 0,
      "outputs": [
        {
          "output_type": "execute_result",
          "data": {
            "text/plain": [
              "(110547, 14)"
            ]
          },
          "metadata": {
            "tags": []
          },
          "execution_count": 19
        }
      ]
    },
    {
      "cell_type": "code",
      "metadata": {
        "id": "nF7CxOQsHxtC",
        "colab_type": "code",
        "outputId": "2ba30758-ca3b-4758-eb44-2879a6a347e8",
        "colab": {
          "base_uri": "https://localhost:8080/",
          "height": 1000
        }
      },
      "source": [
        "df_without_nan['HourlyWetBulbTemperature'].fillna(method='ffill', inplace=True)\n",
        "df_without_nan['HourlyWindGustSpeed'].fillna(method='ffill', inplace=True)\n",
        "df_without_nan['HourlyWindSpeed'].fillna(method='ffill', inplace=True)\n",
        "df_without_nan['HourlyPressureChange'].fillna(method='ffill', inplace=True)\n",
        "df_without_nan['HourlyPressureTendency'].fillna(method='ffill', inplace=True)\n",
        "df_without_nan['HourlyRelativeHumidity'].fillna(method='ffill', inplace=True)\n",
        "\n",
        "df_without_nan['HourlyWetBulbTemperature'].fillna(method='bfill', inplace=True)\n",
        "df_without_nan['HourlyWindGustSpeed'].fillna(method='bfill', inplace=True)\n",
        "df_without_nan['HourlyWindSpeed'].fillna(method='bfill', inplace=True)\n",
        "df_without_nan['HourlyPressureChange'].fillna(method='bfill', inplace=True)\n",
        "df_without_nan['HourlyPressureTendency'].fillna(method='bfill', inplace=True)\n",
        "df_without_nan['HourlyRelativeHumidity'].fillna(method='bfill', inplace=True)\n",
        "\n",
        "cols = df_without_nan.columns.tolist()\n",
        "for i in cols:\n",
        "  print(i)\n",
        "  print(df_without_nan[i].unique())\n",
        "  \n",
        "array = df_without_nan.values\n",
        "print(array)"
      ],
      "execution_count": 0,
      "outputs": [
        {
          "output_type": "stream",
          "text": [
            "HourlyAltimeterSetting\n",
            "[30.32 30.31 30.33 30.34 30.29 30.27 30.28 30.26 30.3  30.   30.25 30.23\n",
            " 30.22 30.21 30.2  30.19 30.18 30.17 30.16 30.15 30.12 30.11 30.1  30.13\n",
            " 30.14 30.09 30.07 30.08 30.06 30.05 30.04 30.03 30.02 30.01 29.98 29.99\n",
            " 29.97 29.96 29.92 29.91 29.87 30.24 30.35 30.36 29.95 29.94 29.93 29.89\n",
            " 29.9  29.88 29.86 29.85 29.8  29.81 29.82 29.79 29.76 29.75 29.74 29.69\n",
            " 29.68 29.67 29.64 29.59 29.54 29.52 29.45 29.39 29.38 29.37 29.34 29.31\n",
            " 29.29 29.32 29.35 29.41 29.43 29.48 29.5  29.55 29.56 29.51 29.46 29.4\n",
            " 29.44 29.42 29.49 29.47 29.27 29.24 29.18 29.11 29.14 29.13 29.15 29.2\n",
            " 29.19 29.17 29.22 29.26 29.28 29.09 29.06 29.03 29.01 29.   28.95 28.92\n",
            " 28.91 28.9  28.89 28.88 28.93 28.94 28.97 29.04 29.07 29.08 29.1  29.53\n",
            " 29.58 29.61 29.66 29.71 29.73 29.84 29.83 29.78 29.77 29.7  29.72 29.65\n",
            " 29.63 29.6  29.62 30.37 30.39 30.4  30.41 30.42 30.43 30.44 30.45 30.46\n",
            " 30.48 30.47 30.38 29.57 30.49 30.5  30.51 30.52 30.54 30.55 30.53 30.56\n",
            " 30.58 29.36 30.57 30.59 29.33 29.16 29.21]\n",
            "HourlyDewPointTemperature\n",
            "[48. 47. 49. 50. 52. 53. 54. 55. 56. 51. 46. 45. 44. 43. 42. 39. 41. 40.\n",
            " 36. 32. 38. 33. 35. 37. 34. 30. 31. 29. 57. 59. 58. 28. 25. 60. 61. 62.\n",
            " 63. 26. 27. 24. 23. 22. 19. 20. 16. 21. 64. 18. 17. 13. 65. 66. 67. 70.\n",
            " 75. 68.  6. 15. 14. 12.]\n",
            "HourlyDryBulbTemperature\n",
            "[ 52.  51.  53.  54.  55.  57.  56.  50.  49.  48.  47.  46.  45.  43.\n",
            "  58.  62.  61.  59.  60.  44.  63.  64.  42.  40.  67.  65.  66.  70.\n",
            "  69.  72.  71.  73.  74.  75.  77.  68.  76.  79.  78.  81.  83.  85.\n",
            "  86.  82.  90.  88.  87.  80.  98.  94.  92.  91.  84.  89.  93.  39.\n",
            "  38.  41.  37.  36.  35.  96.  97. 101.  95.]\n",
            "HourlyPressureChange\n",
            "[ 0.04  0.01 -0.01 -0.   -0.03  0.06  0.02 -0.02 -0.04  0.03  0.07 -0.05\n",
            "  0.05 -0.08 -0.09 -0.1  -0.07  0.1   0.14  0.12 -0.06  0.08 -0.11  0.09\n",
            "  0.11  0.13 -0.12  0.15 -0.14 -0.13  0.18  0.26  0.19 -0.15]\n",
            "HourlyPressureTendency\n",
            "[8. 6. 1. 3. 5. 0. 2. 7. 4. 9.]\n",
            "HourlyRelativeHumidity\n",
            "[ 86.  92.  89.  87.  83.  88.  90.  93.  97.  94.  96. 100.  82.  80.\n",
            "  77.  72.  75.  84.  81.  78.  73.  76.  74.  69.  60.  63.  62.  79.\n",
            "  70.  85.  67.  64.  65.  66.  56.  99.  71.  61.  55.  57.  68.  59.\n",
            "  49.  42.  35.  38.  58.  91.  53.  50.  46.  45.  47.  51.  44.  54.\n",
            "  41.  32.  52.  39.  40.  31.  43.  48.  29.  30.  36.  21.  20.  26.\n",
            "  24.  37.  34.  22.  27.  25.  23.  33.  28.  17.  19.  18.  14.  11.\n",
            "  12.  16.  95.  15.  13.  10.  98.]\n",
            "HourlySeaLevelPressure\n",
            "[30.32 30.31 30.33 30.29 30.27 30.28 30.26 30.25 30.23 30.22 30.21 30.2\n",
            " 30.18 30.17 30.16 30.15 30.12 30.1  30.11 30.13 30.14 30.19 30.07 30.09\n",
            " 30.08 30.06 30.05 30.04 30.03 30.01 30.02 29.98 30.   29.99 29.96 29.95\n",
            " 29.91 29.9  29.87 30.24 30.3  30.34 30.35 29.97 29.94 29.93 29.89 29.88\n",
            " 29.92 29.86 29.85 29.8  29.81 29.82 29.79 29.76 29.75 29.73 29.69 29.67\n",
            " 29.64 29.59 29.54 29.52 29.45 29.39 29.38 29.34 29.35 29.36 29.41 29.43\n",
            " 29.48 29.49 29.55 29.56 29.5  29.46 29.37 29.44 29.4  29.47 29.31 29.27\n",
            " 29.23 29.18 29.11 29.15 29.2  29.19 29.17 29.21 29.22 29.24 29.26 29.28\n",
            " 29.25 29.09 29.06 29.03 29.   28.95 28.91 28.89 28.88 28.9  28.94 28.97\n",
            " 29.01 29.04 29.07 29.1  29.13 29.14 29.32 29.42 29.53 29.57 29.61 29.63\n",
            " 29.66 29.71 29.84 29.83 29.78 29.77 29.7  29.68 29.72 29.74 29.65 29.6\n",
            " 29.62 30.37 30.36 30.38 30.4  30.41 30.42 30.43 30.44 30.45 30.46 30.47\n",
            " 30.39 29.51 29.58 30.49 30.5  30.48 30.51 30.52 30.54 30.55 30.53 30.56\n",
            " 30.57 30.58 29.33 29.16 29.29]\n",
            "HourlyStationPressure\n",
            "[30.3  30.29 30.31 30.32 30.27 30.25 30.26 30.24 30.28 30.19 30.23 30.21\n",
            " 30.2  30.18 30.17 30.16 30.15 30.08 30.14 30.13 30.1  30.09 30.11 30.12\n",
            " 30.06 30.07 30.05 30.04 30.03 30.02 30.01 30.   29.93 29.99 29.96 29.97\n",
            " 29.98 29.95 29.94 29.9  29.83 29.89 29.85 30.22 30.33 30.34 29.87 29.92\n",
            " 29.91 29.8  29.88 29.86 29.84 29.78 29.79 29.72 29.77 29.74 29.73 29.67\n",
            " 29.66 29.65 29.62 29.57 29.5  29.52 29.43 29.37 29.36 29.35 29.32 29.29\n",
            " 29.27 29.3  29.33 29.39 29.41 29.46 29.48 29.53 29.54 29.47 29.49 29.44\n",
            " 29.38 29.42 29.4  29.45 29.25 29.22 29.16 29.09 29.12 29.11 29.13 29.18\n",
            " 29.17 29.15 29.2  29.24 29.26 29.07 29.04 29.01 28.99 28.98 28.93 28.9\n",
            " 28.89 28.88 28.87 28.86 28.91 28.92 28.95 29.02 29.05 29.06 29.08 29.51\n",
            " 29.56 29.59 29.64 29.69 29.71 29.82 29.81 29.76 29.75 29.68 29.7  29.63\n",
            " 29.61 29.58 29.6  30.35 30.37 30.38 30.39 30.4  30.41 30.42 30.43 30.44\n",
            " 30.46 30.45 30.36 29.55 30.47 30.48 30.49 30.5  30.52 30.53 30.51 30.54\n",
            " 30.56 29.34 30.55 30.57 29.31 29.1  29.14 29.19]\n",
            "HourlyVisibility\n",
            "[10.    9.    8.    7.    6.    5.    3.    2.    4.    2.5   1.    0.5\n",
            "  0.25  9.94  8.7   1.25  0.75  1.75  1.5   0.12  2.98  6.84  7.46  0.\n",
            "  0.99  4.97  3.73 46.6   5.59  1.99  1.49  1.74  2.49  1.24]\n",
            "HourlyWetBulbTemperature\n",
            "[50. 49. 51. 52. 53. 54. 55. 56. 48. 47. 46. 45. 44. 43. 59. 58. 57. 42.\n",
            " 41. 40. 37. 39. 60. 61. 62. 63. 64. 65. 66. 67. 68. 69. 38. 36. 35. 34.\n",
            " 33. 32. 31. 30. 71. 70. 74. 78. 72. 73.]\n",
            "HourlyWindDirection\n",
            "[160. 290.   0. 340. 170. 150. 100.  20.  90.  70.  10. 300. 260. 110.\n",
            "  80. 360. 350.  30. 120. 130. 140.  60.  40. 180. 210. 330.  50. 240.\n",
            " 190. 230. 250. 280. 270. 200. 320. 220. 310. 155.  19.]\n",
            "HourlyWindGustSpeed\n",
            "[14. 21. 18. 28. 23. 26. 24. 20. 19. 29. 36. 33. 25. 22. 59. 40. 30. 38.\n",
            " 37. 31. 34. 32. 47. 51. 41. 39. 16. 17. 43. 45. 46. 44. 54. 48. 53. 49.\n",
            " 60. 52. 56. 55. 61. 62.]\n",
            "HourlyWindSpeed\n",
            "[ 5.  6.  0.  3.  8.  9.  7. 11. 10. 13. 18. 23. 15. 14. 16. 22. 26. 25.\n",
            " 17. 20. 21. 44. 34. 24. 36. 28. 38. 29. 30. 19. 33. 32. 31. 39. 43. 37.\n",
            " 40. 41. 27.]\n",
            "HourlyPrecipitation\n",
            "[0 1]\n",
            "[[30.32 48.   52.   ... 14.    5.    0.  ]\n",
            " [30.31 47.   51.   ... 14.    6.    0.  ]\n",
            " [30.32 49.   51.   ... 14.    0.    0.  ]\n",
            " ...\n",
            " [29.99 58.   67.   ... 24.   10.    0.  ]\n",
            " [29.99 58.   68.   ... 24.    8.    0.  ]\n",
            " [30.   50.   68.   ... 24.    8.    1.  ]]\n"
          ],
          "name": "stdout"
        }
      ]
    },
    {
      "cell_type": "code",
      "metadata": {
        "id": "Ozq_WYRrSkI_",
        "colab_type": "code",
        "outputId": "3b1c7f67-0ebb-4579-883a-3d8a23555294",
        "colab": {
          "base_uri": "https://localhost:8080/",
          "height": 150
        }
      },
      "source": [
        "array = df_without_nan.values\n",
        "print(array)\n",
        "print(array[:,13])"
      ],
      "execution_count": 0,
      "outputs": [
        {
          "output_type": "stream",
          "text": [
            "[[30.32 48.   52.   ... 14.    5.    0.  ]\n",
            " [30.31 47.   51.   ... 14.    6.    0.  ]\n",
            " [30.32 49.   51.   ... 14.    0.    0.  ]\n",
            " ...\n",
            " [29.99 58.   67.   ... 24.   10.    0.  ]\n",
            " [29.99 58.   68.   ... 24.    8.    0.  ]\n",
            " [30.   50.   68.   ... 24.    8.    1.  ]]\n",
            "[0. 0. 0. ... 0. 0. 1.]\n"
          ],
          "name": "stdout"
        }
      ]
    },
    {
      "cell_type": "code",
      "metadata": {
        "id": "1gzNIFCTIsZS",
        "colab_type": "code",
        "outputId": "b616819a-e57a-46b6-a54e-acd84cffed4f",
        "colab": {
          "base_uri": "https://localhost:8080/",
          "height": 350
        }
      },
      "source": [
        "\n",
        "X = array[:,0:13]\n",
        "Y = array[:,13]\n",
        "\n",
        "num_folds = 10\n",
        "seed = 7\n",
        "kfold = KFold(n_splits=num_folds, random_state=seed)\n",
        "scoring = 'neg_log_loss'\n",
        "model = LogisticRegression()\n",
        "results = cross_val_score(model, X, Y, cv=kfold, scoring=scoring)\n"
      ],
      "execution_count": 0,
      "outputs": [
        {
          "output_type": "stream",
          "text": [
            "/usr/local/lib/python3.6/dist-packages/sklearn/linear_model/logistic.py:432: FutureWarning: Default solver will be changed to 'lbfgs' in 0.22. Specify a solver to silence this warning.\n",
            "  FutureWarning)\n",
            "/usr/local/lib/python3.6/dist-packages/sklearn/linear_model/logistic.py:432: FutureWarning: Default solver will be changed to 'lbfgs' in 0.22. Specify a solver to silence this warning.\n",
            "  FutureWarning)\n",
            "/usr/local/lib/python3.6/dist-packages/sklearn/linear_model/logistic.py:432: FutureWarning: Default solver will be changed to 'lbfgs' in 0.22. Specify a solver to silence this warning.\n",
            "  FutureWarning)\n",
            "/usr/local/lib/python3.6/dist-packages/sklearn/linear_model/logistic.py:432: FutureWarning: Default solver will be changed to 'lbfgs' in 0.22. Specify a solver to silence this warning.\n",
            "  FutureWarning)\n",
            "/usr/local/lib/python3.6/dist-packages/sklearn/linear_model/logistic.py:432: FutureWarning: Default solver will be changed to 'lbfgs' in 0.22. Specify a solver to silence this warning.\n",
            "  FutureWarning)\n",
            "/usr/local/lib/python3.6/dist-packages/sklearn/linear_model/logistic.py:432: FutureWarning: Default solver will be changed to 'lbfgs' in 0.22. Specify a solver to silence this warning.\n",
            "  FutureWarning)\n",
            "/usr/local/lib/python3.6/dist-packages/sklearn/linear_model/logistic.py:432: FutureWarning: Default solver will be changed to 'lbfgs' in 0.22. Specify a solver to silence this warning.\n",
            "  FutureWarning)\n",
            "/usr/local/lib/python3.6/dist-packages/sklearn/linear_model/logistic.py:432: FutureWarning: Default solver will be changed to 'lbfgs' in 0.22. Specify a solver to silence this warning.\n",
            "  FutureWarning)\n",
            "/usr/local/lib/python3.6/dist-packages/sklearn/linear_model/logistic.py:432: FutureWarning: Default solver will be changed to 'lbfgs' in 0.22. Specify a solver to silence this warning.\n",
            "  FutureWarning)\n",
            "/usr/local/lib/python3.6/dist-packages/sklearn/linear_model/logistic.py:432: FutureWarning: Default solver will be changed to 'lbfgs' in 0.22. Specify a solver to silence this warning.\n",
            "  FutureWarning)\n"
          ],
          "name": "stderr"
        }
      ]
    },
    {
      "cell_type": "code",
      "metadata": {
        "id": "SS65etwDTEhG",
        "colab_type": "code",
        "outputId": "28d88124-5304-40bf-ce27-89d62dc7a258",
        "colab": {
          "base_uri": "https://localhost:8080/",
          "height": 217
        }
      },
      "source": [
        "print(\"Accuracy:\",results.mean()*100.0, results.std()*100.0)\n",
        "test_size = 0.33\n",
        "seed = 7\n",
        "X_train, X_test, Y_train, Y_test = train_test_split(X, Y, test_size=test_size,\n",
        "random_state=seed)\n",
        "model = LogisticRegression()\n",
        "model.fit(X_train, Y_train)\n",
        "predicted = model.predict(X_test)\n",
        "report = classification_report(Y_test, predicted)\n",
        "print(report)\n"
      ],
      "execution_count": 0,
      "outputs": [
        {
          "output_type": "stream",
          "text": [
            "Accuracy: -38.38522291272292 1.9043581887743029\n"
          ],
          "name": "stdout"
        },
        {
          "output_type": "stream",
          "text": [
            "/usr/local/lib/python3.6/dist-packages/sklearn/linear_model/logistic.py:432: FutureWarning: Default solver will be changed to 'lbfgs' in 0.22. Specify a solver to silence this warning.\n",
            "  FutureWarning)\n"
          ],
          "name": "stderr"
        },
        {
          "output_type": "stream",
          "text": [
            "              precision    recall  f1-score   support\n",
            "\n",
            "         0.0       0.86      0.98      0.91     26944\n",
            "         1.0       0.91      0.54      0.68      9537\n",
            "\n",
            "    accuracy                           0.86     36481\n",
            "   macro avg       0.88      0.76      0.79     36481\n",
            "weighted avg       0.87      0.86      0.85     36481\n",
            "\n"
          ],
          "name": "stdout"
        }
      ]
    },
    {
      "cell_type": "code",
      "metadata": {
        "id": "P5Geyu7tmiJI",
        "colab_type": "code",
        "outputId": "eb70103c-12c6-4664-e087-0a1d9e424237",
        "colab": {
          "base_uri": "https://localhost:8080/",
          "height": 33
        }
      },
      "source": [
        "#LDA\n",
        "num_folds = 10\n",
        "kfold = KFold(n_splits=10, random_state=7)\n",
        "model = LinearDiscriminantAnalysis()\n",
        "results = cross_val_score(model, X, Y, cv=kfold)\n",
        "print(results.mean())"
      ],
      "execution_count": 0,
      "outputs": [
        {
          "output_type": "stream",
          "text": [
            "0.863234701535499\n"
          ],
          "name": "stdout"
        }
      ]
    },
    {
      "cell_type": "code",
      "metadata": {
        "id": "b3EJR2Otnd2e",
        "colab_type": "code",
        "outputId": "56dd8807-1464-4326-c5f0-bc309800344b",
        "colab": {
          "base_uri": "https://localhost:8080/",
          "height": 33
        }
      },
      "source": [
        "#K nearest neighbours\n",
        "num_folds = 10\n",
        "kfold = KFold(n_splits=10, random_state=7)\n",
        "model = KNeighborsClassifier()\n",
        "results = cross_val_score(model, X, Y, cv=kfold)\n",
        "print(results.mean())"
      ],
      "execution_count": 0,
      "outputs": [
        {
          "output_type": "stream",
          "text": [
            "0.7502776853761033\n"
          ],
          "name": "stdout"
        }
      ]
    },
    {
      "cell_type": "code",
      "metadata": {
        "id": "rz3TclkWnxXA",
        "colab_type": "code",
        "outputId": "17a64423-e968-4746-df37-c09d922398cb",
        "colab": {
          "base_uri": "https://localhost:8080/",
          "height": 33
        }
      },
      "source": [
        "#Guassian\n",
        "kfold = KFold(n_splits=10, random_state=7)\n",
        "model = GaussianNB()\n",
        "results = cross_val_score(model, X, Y, cv=kfold)\n",
        "print(results.mean())"
      ],
      "execution_count": 0,
      "outputs": [
        {
          "output_type": "stream",
          "text": [
            "0.7561937160260183\n"
          ],
          "name": "stdout"
        }
      ]
    },
    {
      "cell_type": "code",
      "metadata": {
        "id": "kRcRd8VkoAvX",
        "colab_type": "code",
        "outputId": "0a812166-e920-4982-c59d-914a2c346742",
        "colab": {
          "base_uri": "https://localhost:8080/",
          "height": 33
        }
      },
      "source": [
        "#CART\n",
        "kfold = KFold(n_splits=10, random_state=7)\n",
        "model = DecisionTreeClassifier()\n",
        "results = cross_val_score(model, X, Y, cv=kfold)\n",
        "print(results.mean())"
      ],
      "execution_count": 0,
      "outputs": [
        {
          "output_type": "stream",
          "text": [
            "0.8855052443098913\n"
          ],
          "name": "stdout"
        }
      ]
    },
    {
      "cell_type": "code",
      "metadata": {
        "id": "bOfJEr7XoS5C",
        "colab_type": "code",
        "outputId": "9ec935b5-79e8-499b-bb73-417295a27f91",
        "colab": {
          "base_uri": "https://localhost:8080/",
          "height": 70
        }
      },
      "source": [
        "#SVM\n",
        "kfold = KFold(n_splits=10, random_state=7)\n",
        "model = SVC()\n",
        "results = cross_val_score(model, X, Y, cv=kfold)\n",
        "print(results.mean())"
      ],
      "execution_count": 0,
      "outputs": [
        {
          "output_type": "stream",
          "text": [
            "/usr/local/lib/python3.6/dist-packages/sklearn/svm/base.py:193: FutureWarning: The default value of gamma will change from 'auto' to 'scale' in version 0.22 to account better for unscaled features. Set gamma explicitly to 'auto' or 'scale' to avoid this warning.\n",
            "  \"avoid this warning.\", FutureWarning)\n"
          ],
          "name": "stderr"
        }
      ]
    },
    {
      "cell_type": "code",
      "metadata": {
        "id": "WiGJzg8HpCZG",
        "colab_type": "code",
        "outputId": "5644957f-ee26-478e-b87b-14b32a024e99",
        "colab": {
          "base_uri": "https://localhost:8080/",
          "height": 403
        }
      },
      "source": [
        "# prepare models\n",
        "models = []\n",
        "models.append(('LR', LogisticRegression()))\n",
        "models.append(('LDA', LinearDiscriminantAnalysis()))\n",
        "models.append(('KNN', KNeighborsClassifier()))\n",
        "models.append(('CART', DecisionTreeClassifier()))\n",
        "models.append(('NB', GaussianNB()))\n",
        "models.append(('SVM', SVC()))\n",
        "# evaluate each model in turn\n",
        "results = []\n",
        "names = []\n",
        "scoring = 'accuracy'\n",
        "for name, model in models:\n",
        "  kfold = KFold(n_splits=10, random_state=7)\n",
        "  cv_results = cross_val_score(model, X, Y, cv=kfold, scoring=scoring)\n",
        "  results.append(cv_results)\n",
        "  names.append(name)\n",
        "msg = \"%s: %f (%f)\" % (name, cv_results.mean(), cv_results.std())\n",
        "print(msg)\n",
        "# boxplot algorithm comparison\n",
        "fig = pyplot.figure()\n",
        "fig.suptitle('Algorithm Comparison')\n",
        "ax = fig.add_subplot(111)\n",
        "pyplot.boxplot(results)\n",
        "ax.set_xticklabels(names)\n",
        "pyplot.show()\n",
        "\n"
      ],
      "execution_count": 0,
      "outputs": [
        {
          "output_type": "stream",
          "text": [
            "/usr/local/lib/python3.6/dist-packages/sklearn/linear_model/logistic.py:432: FutureWarning: Default solver will be changed to 'lbfgs' in 0.22. Specify a solver to silence this warning.\n",
            "  FutureWarning)\n",
            "/usr/local/lib/python3.6/dist-packages/sklearn/linear_model/logistic.py:432: FutureWarning: Default solver will be changed to 'lbfgs' in 0.22. Specify a solver to silence this warning.\n",
            "  FutureWarning)\n",
            "/usr/local/lib/python3.6/dist-packages/sklearn/linear_model/logistic.py:432: FutureWarning: Default solver will be changed to 'lbfgs' in 0.22. Specify a solver to silence this warning.\n",
            "  FutureWarning)\n",
            "/usr/local/lib/python3.6/dist-packages/sklearn/linear_model/logistic.py:432: FutureWarning: Default solver will be changed to 'lbfgs' in 0.22. Specify a solver to silence this warning.\n",
            "  FutureWarning)\n",
            "/usr/local/lib/python3.6/dist-packages/sklearn/linear_model/logistic.py:432: FutureWarning: Default solver will be changed to 'lbfgs' in 0.22. Specify a solver to silence this warning.\n",
            "  FutureWarning)\n",
            "/usr/local/lib/python3.6/dist-packages/sklearn/linear_model/logistic.py:432: FutureWarning: Default solver will be changed to 'lbfgs' in 0.22. Specify a solver to silence this warning.\n",
            "  FutureWarning)\n",
            "/usr/local/lib/python3.6/dist-packages/sklearn/linear_model/logistic.py:432: FutureWarning: Default solver will be changed to 'lbfgs' in 0.22. Specify a solver to silence this warning.\n",
            "  FutureWarning)\n",
            "/usr/local/lib/python3.6/dist-packages/sklearn/linear_model/logistic.py:432: FutureWarning: Default solver will be changed to 'lbfgs' in 0.22. Specify a solver to silence this warning.\n",
            "  FutureWarning)\n",
            "/usr/local/lib/python3.6/dist-packages/sklearn/linear_model/logistic.py:432: FutureWarning: Default solver will be changed to 'lbfgs' in 0.22. Specify a solver to silence this warning.\n",
            "  FutureWarning)\n",
            "/usr/local/lib/python3.6/dist-packages/sklearn/linear_model/logistic.py:432: FutureWarning: Default solver will be changed to 'lbfgs' in 0.22. Specify a solver to silence this warning.\n",
            "  FutureWarning)\n",
            "/usr/local/lib/python3.6/dist-packages/sklearn/svm/base.py:193: FutureWarning: The default value of gamma will change from 'auto' to 'scale' in version 0.22 to account better for unscaled features. Set gamma explicitly to 'auto' or 'scale' to avoid this warning.\n",
            "  \"avoid this warning.\", FutureWarning)\n"
          ],
          "name": "stderr"
        }
      ]
    },
    {
      "cell_type": "code",
      "metadata": {
        "id": "xHdr-atlvBnh",
        "colab_type": "code",
        "outputId": "061d29e9-9f72-4708-a1f3-121d9dc77bd5",
        "colab": {
          "base_uri": "https://localhost:8080/",
          "height": 33
        }
      },
      "source": [
        "from sklearn.ensemble import ExtraTreesClassifier,BaggingClassifier,RandomForestClassifier\n",
        "#Bagging\n",
        "cart = DecisionTreeClassifier()\n",
        "num_trees = 100\n",
        "model = BaggingClassifier(base_estimator=cart, n_estimators=num_trees, random_state=seed)\n",
        "results = cross_val_score(model, X, Y, cv=kfold)\n",
        "print(results.mean())\n",
        "\n",
        "\n"
      ],
      "execution_count": 0,
      "outputs": [
        {
          "output_type": "stream",
          "text": [
            "0.9250538154172145\n"
          ],
          "name": "stdout"
        }
      ]
    },
    {
      "cell_type": "code",
      "metadata": {
        "id": "NXCTlGwhvkBt",
        "colab_type": "code",
        "outputId": "f1c939f0-39d0-45a2-a204-84fd1ee8a915",
        "colab": {
          "base_uri": "https://localhost:8080/",
          "height": 33
        }
      },
      "source": [
        "\n",
        "from sklearn.ensemble import ExtraTreesClassifier,BaggingClassifier,RandomForestClassifier\n",
        "#RandomForest\n",
        "num_trees = 100\n",
        "max_features = 3\n",
        "kfold = KFold(n_splits=10, random_state=7)\n",
        "model = RandomForestClassifier(n_estimators=num_trees, max_features=max_features)\n",
        "results = cross_val_score(model, X, Y, cv=kfold)\n",
        "print(results.mean())"
      ],
      "execution_count": 0,
      "outputs": [
        {
          "output_type": "stream",
          "text": [
            "0.9228286475250768\n"
          ],
          "name": "stdout"
        }
      ]
    },
    {
      "cell_type": "code",
      "metadata": {
        "id": "jLge7qRXvvlt",
        "colab_type": "code",
        "colab": {}
      },
      "source": [
        "#Extra Tree\n",
        "num_trees = 100\n",
        "max_features = 7\n",
        "kfold = KFold(n_splits=10, random_state=7)\n",
        "model = ExtraTreesClassifier(n_estimators=num_trees, max_features=max_features)\n",
        "results = cross_val_score(model, X, Y, cv=kfold)\n",
        "print(results.mean())"
      ],
      "execution_count": 0,
      "outputs": []
    },
    {
      "cell_type": "code",
      "metadata": {
        "id": "Yuhqt_qswU0S",
        "colab_type": "code",
        "outputId": "5789d06e-287e-48a2-8d5c-58b282a38f99",
        "colab": {
          "base_uri": "https://localhost:8080/",
          "height": 33
        }
      },
      "source": [
        "from sklearn.ensemble import GradientBoostingClassifier,AdaBoostClassifier\n",
        "\n",
        "#adaboost\n",
        "num_trees = 30\n",
        "seed=7\n",
        "kfold = KFold(n_splits=10, random_state=seed)\n",
        "model = AdaBoostClassifier(n_estimators=num_trees, random_state=seed)\n",
        "results = cross_val_score(model, X, Y, cv=kfold)\n",
        "print(results.mean())"
      ],
      "execution_count": 0,
      "outputs": [
        {
          "output_type": "stream",
          "text": [
            "0.8795623965800224\n"
          ],
          "name": "stdout"
        }
      ]
    },
    {
      "cell_type": "code",
      "metadata": {
        "id": "gNAbG69cy4S9",
        "colab_type": "code",
        "outputId": "0d55bcfb-c750-464e-d84a-a284e8bd119a",
        "colab": {
          "base_uri": "https://localhost:8080/",
          "height": 367
        }
      },
      "source": [
        "from sklearn.ensemble import VotingClassifier\n",
        "estimators = []\n",
        "model1 = LogisticRegression()\n",
        "estimators.append(('logistic', model1))\n",
        "model2 = DecisionTreeClassifier()\n",
        "estimators.append(('cart', model2))\n",
        "#model3 = SVC()\n",
        "#estimators.append(('svm', model3))\n",
        "# create the ensemble model\n",
        "ensemble = VotingClassifier(estimators)\n",
        "results = cross_val_score(ensemble, X, Y, cv=kfold)\n",
        "print(results.mean())"
      ],
      "execution_count": 0,
      "outputs": [
        {
          "output_type": "stream",
          "text": [
            "/usr/local/lib/python3.6/dist-packages/sklearn/linear_model/logistic.py:432: FutureWarning: Default solver will be changed to 'lbfgs' in 0.22. Specify a solver to silence this warning.\n",
            "  FutureWarning)\n",
            "/usr/local/lib/python3.6/dist-packages/sklearn/linear_model/logistic.py:432: FutureWarning: Default solver will be changed to 'lbfgs' in 0.22. Specify a solver to silence this warning.\n",
            "  FutureWarning)\n",
            "/usr/local/lib/python3.6/dist-packages/sklearn/linear_model/logistic.py:432: FutureWarning: Default solver will be changed to 'lbfgs' in 0.22. Specify a solver to silence this warning.\n",
            "  FutureWarning)\n",
            "/usr/local/lib/python3.6/dist-packages/sklearn/linear_model/logistic.py:432: FutureWarning: Default solver will be changed to 'lbfgs' in 0.22. Specify a solver to silence this warning.\n",
            "  FutureWarning)\n",
            "/usr/local/lib/python3.6/dist-packages/sklearn/linear_model/logistic.py:432: FutureWarning: Default solver will be changed to 'lbfgs' in 0.22. Specify a solver to silence this warning.\n",
            "  FutureWarning)\n",
            "/usr/local/lib/python3.6/dist-packages/sklearn/linear_model/logistic.py:432: FutureWarning: Default solver will be changed to 'lbfgs' in 0.22. Specify a solver to silence this warning.\n",
            "  FutureWarning)\n",
            "/usr/local/lib/python3.6/dist-packages/sklearn/linear_model/logistic.py:432: FutureWarning: Default solver will be changed to 'lbfgs' in 0.22. Specify a solver to silence this warning.\n",
            "  FutureWarning)\n",
            "/usr/local/lib/python3.6/dist-packages/sklearn/linear_model/logistic.py:432: FutureWarning: Default solver will be changed to 'lbfgs' in 0.22. Specify a solver to silence this warning.\n",
            "  FutureWarning)\n",
            "/usr/local/lib/python3.6/dist-packages/sklearn/linear_model/logistic.py:432: FutureWarning: Default solver will be changed to 'lbfgs' in 0.22. Specify a solver to silence this warning.\n",
            "  FutureWarning)\n",
            "/usr/local/lib/python3.6/dist-packages/sklearn/linear_model/logistic.py:432: FutureWarning: Default solver will be changed to 'lbfgs' in 0.22. Specify a solver to silence this warning.\n",
            "  FutureWarning)\n"
          ],
          "name": "stderr"
        },
        {
          "output_type": "stream",
          "text": [
            "0.8575898269070457\n"
          ],
          "name": "stdout"
        }
      ]
    },
    {
      "cell_type": "code",
      "metadata": {
        "id": "v1JCZpzH3T8_",
        "colab_type": "code",
        "outputId": "30876bf3-0e03-457f-e5c4-2ad59741c88a",
        "colab": {
          "base_uri": "https://localhost:8080/",
          "height": 433
        }
      },
      "source": [
        "from sklearn.pipeline import Pipeline\n",
        "from sklearn.preprocessing import StandardScaler\n",
        "#standradize\n",
        "# Standardize the dataset\n",
        "test_size = 0.33\n",
        "seed = 7\n",
        "X_train, X_test, Y_train, Y_test = train_test_split(X, Y, test_size=test_size,\n",
        "random_state=seed)\n",
        "scoring = 'accuracy'\n",
        "pipelines = []\n",
        "pipelines.append(('ScaledLR', Pipeline([('Scaler', StandardScaler()),('LR',\n",
        "LogisticRegression())])))\n",
        "pipelines.append(('ScaledLDA', Pipeline([('Scaler', StandardScaler()),('LDA',\n",
        "LinearDiscriminantAnalysis())])))\n",
        "pipelines.append(('ScaledKNN', Pipeline([('Scaler', StandardScaler()),('KNN',\n",
        "KNeighborsClassifier())])))\n",
        "pipelines.append(('ScaledCART', Pipeline([('Scaler', StandardScaler()),('CART',\n",
        "DecisionTreeClassifier())])))\n",
        "pipelines.append(('ScaledNB', Pipeline([('Scaler', StandardScaler()),('NB',\n",
        "GaussianNB())])))\n",
        "#pipelines.append(('ScaledSVM', Pipeline([('Scaler', StandardScaler()),('SVM', SVC())])))\n",
        "results = []\n",
        "names = []\n",
        "for name, model in pipelines:\n",
        "  kfold = KFold(n_splits=num_folds, random_state=seed)\n",
        "  cv_results = cross_val_score(model, X_train, Y_train, cv=kfold, scoring=scoring)\n",
        "  results.append(cv_results)\n",
        "  names.append(name)\n",
        "  msg = \"%s: %f (%f)\" % (name, cv_results.mean(), cv_results.std())\n",
        "  print(msg)"
      ],
      "execution_count": 0,
      "outputs": [
        {
          "output_type": "stream",
          "text": [
            "/usr/local/lib/python3.6/dist-packages/sklearn/linear_model/logistic.py:432: FutureWarning: Default solver will be changed to 'lbfgs' in 0.22. Specify a solver to silence this warning.\n",
            "  FutureWarning)\n",
            "/usr/local/lib/python3.6/dist-packages/sklearn/linear_model/logistic.py:432: FutureWarning: Default solver will be changed to 'lbfgs' in 0.22. Specify a solver to silence this warning.\n",
            "  FutureWarning)\n",
            "/usr/local/lib/python3.6/dist-packages/sklearn/linear_model/logistic.py:432: FutureWarning: Default solver will be changed to 'lbfgs' in 0.22. Specify a solver to silence this warning.\n",
            "  FutureWarning)\n",
            "/usr/local/lib/python3.6/dist-packages/sklearn/linear_model/logistic.py:432: FutureWarning: Default solver will be changed to 'lbfgs' in 0.22. Specify a solver to silence this warning.\n",
            "  FutureWarning)\n",
            "/usr/local/lib/python3.6/dist-packages/sklearn/linear_model/logistic.py:432: FutureWarning: Default solver will be changed to 'lbfgs' in 0.22. Specify a solver to silence this warning.\n",
            "  FutureWarning)\n",
            "/usr/local/lib/python3.6/dist-packages/sklearn/linear_model/logistic.py:432: FutureWarning: Default solver will be changed to 'lbfgs' in 0.22. Specify a solver to silence this warning.\n",
            "  FutureWarning)\n",
            "/usr/local/lib/python3.6/dist-packages/sklearn/linear_model/logistic.py:432: FutureWarning: Default solver will be changed to 'lbfgs' in 0.22. Specify a solver to silence this warning.\n",
            "  FutureWarning)\n",
            "/usr/local/lib/python3.6/dist-packages/sklearn/linear_model/logistic.py:432: FutureWarning: Default solver will be changed to 'lbfgs' in 0.22. Specify a solver to silence this warning.\n",
            "  FutureWarning)\n",
            "/usr/local/lib/python3.6/dist-packages/sklearn/linear_model/logistic.py:432: FutureWarning: Default solver will be changed to 'lbfgs' in 0.22. Specify a solver to silence this warning.\n",
            "  FutureWarning)\n",
            "/usr/local/lib/python3.6/dist-packages/sklearn/linear_model/logistic.py:432: FutureWarning: Default solver will be changed to 'lbfgs' in 0.22. Specify a solver to silence this warning.\n",
            "  FutureWarning)\n"
          ],
          "name": "stderr"
        },
        {
          "output_type": "stream",
          "text": [
            "ScaledLR: 0.865161 (0.003081)\n",
            "ScaledLDA: 0.861110 (0.003517)\n",
            "ScaledKNN: 0.823711 (0.003544)\n",
            "ScaledCART: 0.887708 (0.003297)\n",
            "ScaledNB: 0.755475 (0.003169)\n"
          ],
          "name": "stdout"
        }
      ]
    },
    {
      "cell_type": "code",
      "metadata": {
        "id": "JsOyQgGO48xz",
        "colab_type": "code",
        "outputId": "ed2b3d02-ab31-45fe-cdf9-d1bf9536945a",
        "colab": {
          "base_uri": "https://localhost:8080/",
          "height": 293
        }
      },
      "source": [
        "fig = pyplot.figure()\n",
        "fig.suptitle('Algorithm Comparison')\n",
        "ax = fig.add_subplot(111)\n",
        "pyplot.boxplot(results)\n",
        "ax.set_xticklabels(names)\n",
        "pyplot.show()"
      ],
      "execution_count": 0,
      "outputs": [
        {
          "output_type": "display_data",
          "data": {
            "image/png": "[encoded data removed]",
            "text/plain": [
              "<Figure size 432x288 with 1 Axes>"
            ]
          },
          "metadata": {
            "tags": []
          }
        }
      ]
    }
  ]
}