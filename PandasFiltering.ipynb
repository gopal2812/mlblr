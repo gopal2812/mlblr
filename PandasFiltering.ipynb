{
  "nbformat": 4,
  "nbformat_minor": 0,
  "metadata": {
    "anaconda-cloud": {},
    "kernelspec": {
      "display_name": "Python 3",
      "language": "python",
      "name": "python3"
    },
    "language_info": {
      "codemirror_mode": {
        "name": "ipython",
        "version": 3
      },
      "file_extension": ".py",
      "mimetype": "text/x-python",
      "name": "python",
      "nbconvert_exporter": "python",
      "pygments_lexer": "ipython3",
      "version": "3.6.8"
    },
    "colab": {
      "name": "Filtering.ipynb",
      "provenance": [],
      "include_colab_link": true
    }
  },
  "cells": [
    {
      "cell_type": "markdown",
      "metadata": {
        "id": "view-in-github",
        "colab_type": "text"
      },
      "source": [
        "<a href=\"https://colab.research.google.com/github/gopal2812/mlblr/blob/master/PandasFiltering.ipynb\" target=\"_parent\"><img src=\"https://colab.research.google.com/assets/colab-badge.svg\" alt=\"Open In Colab\"/></a>"
      ]
    },
    {
      "cell_type": "code",
      "metadata": {
        "id": "i8WMbI8m2pN4",
        "colab_type": "code",
        "colab": {}
      },
      "source": [
        "# Import libraries\n",
        "import pandas as pd\n",
        "import numpy as np"
      ],
      "execution_count": 0,
      "outputs": []
    },
    {
      "cell_type": "markdown",
      "metadata": {
        "id": "au-SF7JL2vJu",
        "colab_type": "text"
      },
      "source": [
        "Filtering\n",
        "- [Instructor] When working with a data set, often times you're only interested in a smaller subset to your data. For example, say I have a car loan data set, and I want to filter out the data to only have a car type of Toyota Sienna with an interest rate of 7.02 percent. So, the first thing I'm going to do is I'm going to look at the first five rows of my data set. And while it appears that the first five rows are only Toyota Siennas, that doesn't mean the rest of my data set is all of car type Toyota Sienna. The first thing I'm going to do is I'll use the value counts method on the car type column to see what other kind of cars I have in my data set. I have my data frame, I have square brackets, I have the column I'm interested in. I'm going to close those brackets, and then I have the value counts method. When I press shift enter, you'll see that I have 120 Toyota Siennas. Say for example I was interested in Toyota Corollas instead, I would have to fix the data entry errors, because I have 111 Toyota Carollas, instead of Corollas. This is a really important thing to take note of, as often times you'll have misspellings in your data set, you'll have errors, you'll have things you don't quite understand, but that's all part of the data exploration process. And what I'll do now is I'll create a car filter. And the way this works is I have a data frame, I have square brackets, I have the column that I'm interested in. I close those single brackets. I have two equal signs, because this is equality. And I have the type of car I'm interested in, in this case Toyota Sienna. And what this produces is a pandas series of true and false values. There's a couple different ways to utilize this panda filter of true and false values to get a data frame of just Toyota Siennas. One way is to have your data frame, square brackets, your car filter, which is your pandas series, you close those brackets, and then I'm just going to look at the first five rows. The second way is to use the loc attribute, and the way this works is that I have a data frame, I have dot loc, I have single brackets, I have my pandas series of true and false values, and this colon just means that I want to look at all the columns. And then I'll press shift press enter. And these two approaches are equivalent in the result they produce, but often times the second approach is more legible. As you can see, I have identical outputs for the two different approaches. One thing to keep in mind is that if I try to use the value counts method again on the pandas series for the car type column, it'll seem like nothing changed. And the reason why it looks like nothing changed is because we didn't assign the filtered data frame back to the original data frame, and the way to fix this is by assigning the filtered data frame back to the original data frame. And now, if you look at the value counts, it looks like we have a filtered data frame. Now that we've taken care of the car type filter, we also have to make a interest rate filter. And if I look at the pandas series for the interest rate column, and the value counts for it, you'll see that we have 60 rows with a 7.02 percent interest rate, and 60 rows with a 3.59 percent interest rate. And what I want to do in this section is filter the data frame to only have the 7.02 percent interest rate. The code here is a filter that produces a panda series of true and false values where the rows that are true are the ones with the 7.02 percent interest rate, the false ones will be the rows with the 3.59 percent interest rate. So I have the data frame, I have single brackets, I have a string of the column that I'm interested in. I close those brackets. I have two equal signs, and then the 7.02 percent interest rate. And this produces a panda series of true and false values. What I'm going to do next is I'm going to assign that panda series of true and false values to the variable interest filter. To utilize my interest filter I'm going to use the loc attribute followed by single brackets. I'll have my pandas series of true and false values and then I'm going to select all the columns, and I'm going to take this filtered data frame and assign it back to the original data frame. I'm going to do shift plus enter to create the filtered data frame. To check that my interest filter worked as intended, I'm going to look at the pandas series of the interest rate column. I'll use the value counts method, and I'm going to press shift plus enter and you'll see that I have 60 rows with the 7.02 percent interest rate. In the previous sections we created a car filter and an interest filter and used the loc command to filter the data by first applying the car filter and then the interest filter. A more concise way to do this is shown below. I have my data frame, I have the loc attribute, I have single brackets. I have my car filter. And then I use the and bitwise logic operator along with my interest filter, and then I say I want all the columns. And this would have worked just as well as applying each of the filters individually. As you can see, by using filtering, you can get the data that you're just interested in looking at."
      ]
    },
    {
      "cell_type": "code",
      "metadata": {
        "id": "uIOh40302pOI",
        "colab_type": "code",
        "colab": {}
      },
      "source": [
        "# Load Excel File\n",
        "filename = 'data/car_financing.xlsx'\n",
        "df = pd.read_excel(filename)"
      ],
      "execution_count": 0,
      "outputs": []
    },
    {
      "cell_type": "markdown",
      "metadata": {
        "id": "BBUPDtBp2pOS",
        "colab_type": "text"
      },
      "source": [
        "### Filtering Data\n",
        "Filter out the data to only have data `car_type` of 'Toyota Sienna' and `interest_rate` of 0.0702."
      ]
    },
    {
      "cell_type": "code",
      "metadata": {
        "id": "oNIvQOZf2pOU",
        "colab_type": "code",
        "colab": {}
      },
      "source": [
        "df.head()"
      ],
      "execution_count": 0,
      "outputs": []
    },
    {
      "cell_type": "markdown",
      "metadata": {
        "id": "JVv1_zJx2pOb",
        "colab_type": "text"
      },
      "source": [
        "### car_type filter\n",
        "Comparison Operator | Meaning\n",
        "--- | --- \n",
        "< | less than\n",
        "<= | less than or equal to\n",
        "> | greater than\n",
        ">= | greater than or equal to\n",
        "== | equal\n",
        "!= | not equal"
      ]
    },
    {
      "cell_type": "code",
      "metadata": {
        "id": "oyPGlR5p2pOd",
        "colab_type": "code",
        "colab": {}
      },
      "source": [
        "# Let's first start by looking at the car_type column. \n",
        "df['car_type'].value_counts()"
      ],
      "execution_count": 0,
      "outputs": []
    },
    {
      "cell_type": "code",
      "metadata": {
        "id": "8Jm3UgJM2pOk",
        "colab_type": "code",
        "colab": {}
      },
      "source": [
        "# Notice that the filter produces a pandas series of True and False values\n",
        "car_filter = df['car_type']=='Toyota Sienna'"
      ],
      "execution_count": 0,
      "outputs": []
    },
    {
      "cell_type": "code",
      "metadata": {
        "id": "kuzj1DRq2pOs",
        "colab_type": "code",
        "colab": {}
      },
      "source": [
        "car_filter.head()"
      ],
      "execution_count": 0,
      "outputs": []
    },
    {
      "cell_type": "code",
      "metadata": {
        "id": "Yw8geKuK2pOy",
        "colab_type": "code",
        "colab": {}
      },
      "source": [
        "# Approach 1 using square brackets\n",
        "# Filter dataframe to get a DataFrame of only 'Toyota Sienna'\n",
        "df[car_filter].head()"
      ],
      "execution_count": 0,
      "outputs": []
    },
    {
      "cell_type": "code",
      "metadata": {
        "id": "l8wKVR_R2pO4",
        "colab_type": "code",
        "colab": {}
      },
      "source": [
        "# Approach 2 using loc\n",
        "# Filter dataframe to get a DataFrame of only 'Toyota Sienna'\n",
        "df.loc[car_filter, :]"
      ],
      "execution_count": 0,
      "outputs": []
    },
    {
      "cell_type": "code",
      "metadata": {
        "id": "lIKpgMl02pO9",
        "colab_type": "code",
        "colab": {}
      },
      "source": [
        "# Notice that it looks like nothing changed\n",
        "# This is because we didn't update the dataframe after applying the filter\n",
        "df['car_type'].value_counts()"
      ],
      "execution_count": 0,
      "outputs": []
    },
    {
      "cell_type": "code",
      "metadata": {
        "id": "kyj5bGF32pPD",
        "colab_type": "code",
        "colab": {}
      },
      "source": [
        "# Filter dataframe to get a DataFrame of only 'Toyota Sienna'\n",
        "df = df.loc[car_filter, :]"
      ],
      "execution_count": 0,
      "outputs": []
    },
    {
      "cell_type": "code",
      "metadata": {
        "id": "U7eNX5OX2pPI",
        "colab_type": "code",
        "colab": {}
      },
      "source": [
        "df['car_type'].value_counts()"
      ],
      "execution_count": 0,
      "outputs": []
    },
    {
      "cell_type": "markdown",
      "metadata": {
        "id": "Ai6HTkWz2pPP",
        "colab_type": "text"
      },
      "source": [
        "### interest_rate Filter\n",
        "Comparison Operator | Meaning\n",
        "--- | --- \n",
        "< | less than\n",
        "<= | less than or equal to\n",
        "> | greater than\n",
        ">= | greater than or equal to\n",
        "== | equal\n",
        "!= | not equal"
      ]
    },
    {
      "cell_type": "code",
      "metadata": {
        "id": "x9tEO_WP2pPR",
        "colab_type": "code",
        "colab": {}
      },
      "source": [
        "df['interest_rate'].value_counts()"
      ],
      "execution_count": 0,
      "outputs": []
    },
    {
      "cell_type": "code",
      "metadata": {
        "id": "6xQc6ura2pPW",
        "colab_type": "code",
        "colab": {}
      },
      "source": [
        "# Notice that the filter produces a pandas series of True and False values\n",
        "df['interest_rate']==0.0702"
      ],
      "execution_count": 0,
      "outputs": []
    },
    {
      "cell_type": "code",
      "metadata": {
        "id": "Smc2Nw9Q2pPd",
        "colab_type": "code",
        "colab": {}
      },
      "source": [
        "interest_filter = df['interest_rate']==0.0702"
      ],
      "execution_count": 0,
      "outputs": []
    },
    {
      "cell_type": "code",
      "metadata": {
        "id": "kAGWMdCD2pPk",
        "colab_type": "code",
        "colab": {}
      },
      "source": [
        "df = df.loc[interest_filter, :]"
      ],
      "execution_count": 0,
      "outputs": []
    },
    {
      "cell_type": "code",
      "metadata": {
        "id": "WDFJW24m2pPq",
        "colab_type": "code",
        "colab": {}
      },
      "source": [
        "df['interest_rate'].value_counts(dropna = False)"
      ],
      "execution_count": 0,
      "outputs": []
    },
    {
      "cell_type": "markdown",
      "metadata": {
        "id": "u1FkM90U2pPv",
        "colab_type": "text"
      },
      "source": [
        "### Combining Filters\n",
        "In the previous sections, we created `car_filter` and `interest_filter` and used the `loc` command to filter the data by first applying the `car_filter` and then the `interest_filter`. An more concise way to do it is shown below. \n",
        "\n",
        "Bitwise Logic Operator | Meaning\n",
        "--- | --- \n",
        "& | and\n",
        "\\| | or\n",
        "^ | exclusive or\n",
        "~ | not"
      ]
    },
    {
      "cell_type": "code",
      "metadata": {
        "id": "VbzHTwnC2pPx",
        "colab_type": "code",
        "colab": {}
      },
      "source": [
        "df.loc[car_filter & interest_filter, :]"
      ],
      "execution_count": 0,
      "outputs": []
    }
  ]
}