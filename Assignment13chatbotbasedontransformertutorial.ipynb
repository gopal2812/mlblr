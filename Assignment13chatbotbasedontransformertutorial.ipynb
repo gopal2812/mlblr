{
  "nbformat": 4,
  "nbformat_minor": 0,
  "metadata": {
    "kernelspec": {
      "display_name": "Python 3",
      "language": "python",
      "name": "python3"
    },
    "language_info": {
      "codemirror_mode": {
        "name": "ipython",
        "version": 3
      },
      "file_extension": ".py",
      "mimetype": "text/x-python",
      "name": "python",
      "nbconvert_exporter": "python",
      "pygments_lexer": "ipython3",
      "version": "3.6.8"
    },
    "colab": {
      "name": "chatbot_tutorial.ipynb",
      "provenance": [],
      "collapsed_sections": [],
      "include_colab_link": true
    },
    "accelerator": "GPU"
  },
  "cells": [
    {
      "cell_type": "markdown",
      "metadata": {
        "id": "view-in-github",
        "colab_type": "text"
      },
      "source": [
        "<a href=\"https://colab.research.google.com/github/gopal2812/mlblr/blob/master/Assignment13chatbotbasedontransformertutorial.ipynb\" target=\"_parent\"><img src=\"https://colab.research.google.com/assets/colab-badge.svg\" alt=\"Open In Colab\"/></a>"
      ]
    },
    {
      "cell_type": "code",
      "metadata": {
        "id": "IpUpRuPyDGBJ"
      },
      "source": [
        "%matplotlib inline"
      ],
      "execution_count": 1,
      "outputs": []
    },
    {
      "cell_type": "markdown",
      "metadata": {
        "id": "9t9cwoD6DGBU"
      },
      "source": [
        "\n",
        "Chatbot Tutorial\n",
        "================\n",
        "\n"
      ]
    },
    {
      "cell_type": "markdown",
      "metadata": {
        "id": "DkerFazQDGBW"
      },
      "source": [
        "In this tutorial, we explore a fun and interesting use-case of recurrent\n",
        "sequence-to-sequence models. We will train a simple chatbot using movie\n",
        "scripts from the `Cornell Movie-Dialogs\n",
        "Corpus <https://www.cs.cornell.edu/~cristian/Cornell_Movie-Dialogs_Corpus.html>`__.\n",
        "\n",
        "Conversational models are a hot topic in artificial intelligence\n",
        "research. Chatbots can be found in a variety of settings, including\n",
        "customer service applications and online helpdesks. These bots are often\n",
        "powered by retrieval-based models, which output predefined responses to\n",
        "questions of certain forms. In a highly restricted domain like a\n",
        "company’s IT helpdesk, these models may be sufficient, however, they are\n",
        "not robust enough for more general use-cases. Teaching a machine to\n",
        "carry out a meaningful conversation with a human in multiple domains is\n",
        "a research question that is far from solved. Recently, the deep learning\n",
        "boom has allowed for powerful generative models like Google’s `Neural\n",
        "Conversational Model <https://arxiv.org/abs/1506.05869>`__, which marks\n",
        "a large step towards multi-domain generative conversational models. In\n",
        "this tutorial, we will implement this kind of model in PyTorch.\n",
        "\n",
        ".. figure:: /_static/img/chatbot/bot.png\n",
        "   :align: center\n",
        "   :alt: bot\n",
        "\n",
        ".. code:: python\n",
        "\n",
        "  > hello?\n",
        "  Bot: hello .\n",
        "  > where am I?\n",
        "  Bot: you re in a hospital .\n",
        "  > who are you?\n",
        "  Bot: i m a lawyer .\n",
        "  > how are you doing?\n",
        "  Bot: i m fine .\n",
        "  > are you my friend?\n",
        "  Bot: no .\n",
        "  > you're under arrest\n",
        "  Bot: i m trying to help you !\n",
        "  > i'm just kidding\n",
        "  Bot: i m sorry .\n",
        "  > where are you from?\n",
        "  Bot: san francisco .\n",
        "  > it's time for me to leave\n",
        "  Bot: i know .\n",
        "  > goodbye\n",
        "  Bot: goodbye .\n",
        "\n",
        "**Tutorial Highlights**\n",
        "\n",
        "-  Handle loading and preprocessing of `Cornell Movie-Dialogs\n",
        "   Corpus <https://www.cs.cornell.edu/~cristian/Cornell_Movie-Dialogs_Corpus.html>`__\n",
        "   dataset\n",
        "-  Implement a sequence-to-sequence model with `Luong attention\n",
        "   mechanism(s) <https://arxiv.org/abs/1508.04025>`__\n",
        "-  Jointly train encoder and decoder models using mini-batches\n",
        "-  Implement greedy-search decoding module\n",
        "-  Interact with trained chatbot\n",
        "\n",
        "**Acknowledgements**\n",
        "\n",
        "This tutorial borrows code from the following sources:\n",
        "\n",
        "1) Yuan-Kuei Wu’s pytorch-chatbot implementation:\n",
        "   https://github.com/ywk991112/pytorch-chatbot\n",
        "\n",
        "2) Sean Robertson’s practical-pytorch seq2seq-translation example:\n",
        "   https://github.com/spro/practical-pytorch/tree/master/seq2seq-translation\n",
        "\n",
        "3) FloydHub’s Cornell Movie Corpus preprocessing code:\n",
        "   https://github.com/floydhub/textutil-preprocess-cornell-movie-corpus\n",
        "\n",
        "\n"
      ]
    },
    {
      "cell_type": "markdown",
      "metadata": {
        "id": "poAk4AxlDGBY"
      },
      "source": [
        "Preparations\n",
        "------------\n",
        "\n",
        "To start, Download the data ZIP file\n",
        "`here <https://www.cs.cornell.edu/~cristian/Cornell_Movie-Dialogs_Corpus.html>`__\n",
        "and put in a ``data/`` directory under the current directory.\n",
        "\n",
        "After that, let’s import some necessities.\n",
        "\n",
        "\n"
      ]
    },
    {
      "cell_type": "code",
      "metadata": {
        "id": "rU1KtTuGDGBZ"
      },
      "source": [
        "from __future__ import absolute_import\n",
        "from __future__ import division\n",
        "from __future__ import print_function\n",
        "from __future__ import unicode_literals\n",
        "\n",
        "import torch\n",
        "from torch.jit import script, trace\n",
        "import torch.nn as nn\n",
        "from torch import optim\n",
        "import torch.nn.functional as F\n",
        "import csv\n",
        "import random\n",
        "import re\n",
        "import os\n",
        "import unicodedata\n",
        "import codecs\n",
        "from io import open\n",
        "import itertools\n",
        "import math\n",
        "\n",
        "\n",
        "USE_CUDA = torch.cuda.is_available()\n",
        "device = torch.device(\"cuda\" if USE_CUDA else \"cpu\")"
      ],
      "execution_count": 2,
      "outputs": []
    },
    {
      "cell_type": "markdown",
      "metadata": {
        "id": "seQuhdO_DGBa"
      },
      "source": [
        "Load & Preprocess Data\n",
        "----------------------\n",
        "\n",
        "The next step is to reformat our data file and load the data into\n",
        "structures that we can work with.\n",
        "\n",
        "The `Cornell Movie-Dialogs\n",
        "Corpus <https://www.cs.cornell.edu/~cristian/Cornell_Movie-Dialogs_Corpus.html>`__\n",
        "is a rich dataset of movie character dialog:\n",
        "\n",
        "-  220,579 conversational exchanges between 10,292 pairs of movie\n",
        "   characters\n",
        "-  9,035 characters from 617 movies\n",
        "-  304,713 total utterances\n",
        "\n",
        "This dataset is large and diverse, and there is a great variation of\n",
        "language formality, time periods, sentiment, etc. Our hope is that this\n",
        "diversity makes our model robust to many forms of inputs and queries.\n",
        "\n",
        "First, we’ll take a look at some lines of our datafile to see the\n",
        "original format.\n",
        "\n",
        "\n"
      ]
    },
    {
      "cell_type": "code",
      "metadata": {
        "colab": {
          "base_uri": "https://localhost:8080/"
        },
        "id": "uRhM6bhAcJfr",
        "outputId": "adb4da78-d94c-487b-c6b4-d2cfef0d88d8"
      },
      "source": [
        "\r\n",
        "from google.colab import drive\r\n",
        "drive.mount('/content/gdrive')"
      ],
      "execution_count": 3,
      "outputs": [
        {
          "output_type": "stream",
          "text": [
            "Mounted at /content/gdrive\n"
          ],
          "name": "stdout"
        }
      ]
    },
    {
      "cell_type": "code",
      "metadata": {
        "colab": {
          "base_uri": "https://localhost:8080/"
        },
        "id": "Qp3HseSVcL6r",
        "outputId": "2040f152-5cc0-4351-9d23-50e1493a7785"
      },
      "source": [
        "!unzip gdrive/MyDrive/cornell_movie_dialogs_corpus.zip\r\n",
        "!ls"
      ],
      "execution_count": 4,
      "outputs": [
        {
          "output_type": "stream",
          "text": [
            "Archive:  gdrive/MyDrive/cornell_movie_dialogs_corpus.zip\n",
            "   creating: cornell movie-dialogs corpus/\n",
            "  inflating: cornell movie-dialogs corpus/.DS_Store  \n",
            "   creating: __MACOSX/\n",
            "   creating: __MACOSX/cornell movie-dialogs corpus/\n",
            "  inflating: __MACOSX/cornell movie-dialogs corpus/._.DS_Store  \n",
            "  inflating: cornell movie-dialogs corpus/chameleons.pdf  \n",
            "  inflating: __MACOSX/cornell movie-dialogs corpus/._chameleons.pdf  \n",
            "  inflating: cornell movie-dialogs corpus/movie_characters_metadata.txt  \n",
            "  inflating: cornell movie-dialogs corpus/movie_conversations.txt  \n",
            "  inflating: cornell movie-dialogs corpus/movie_lines.txt  \n",
            "  inflating: cornell movie-dialogs corpus/movie_titles_metadata.txt  \n",
            "  inflating: cornell movie-dialogs corpus/raw_script_urls.txt  \n",
            "  inflating: cornell movie-dialogs corpus/README.txt  \n",
            "  inflating: __MACOSX/cornell movie-dialogs corpus/._README.txt  \n",
            "'cornell movie-dialogs corpus'\t gdrive   __MACOSX   sample_data\n"
          ],
          "name": "stdout"
        }
      ]
    },
    {
      "cell_type": "code",
      "metadata": {
        "id": "_GLqEc2ODGBb",
        "colab": {
          "base_uri": "https://localhost:8080/"
        },
        "outputId": "607ca984-c562-453e-a870-153d83452730"
      },
      "source": [
        "corpus_name = \"cornell movie-dialogs corpus\"\n",
        "corpus = os.path.join(\"\", corpus_name)\n",
        "\n",
        "def printLines(file, n=10):\n",
        "    with open(file, 'rb') as datafile:\n",
        "        lines = datafile.readlines()\n",
        "    for line in lines[:n]:\n",
        "        print(line)\n",
        "\n",
        "printLines(os.path.join(corpus, \"movie_lines.txt\"))"
      ],
      "execution_count": 5,
      "outputs": [
        {
          "output_type": "stream",
          "text": [
            "b'L1045 +++$+++ u0 +++$+++ m0 +++$+++ BIANCA +++$+++ They do not!\\n'\n",
            "b'L1044 +++$+++ u2 +++$+++ m0 +++$+++ CAMERON +++$+++ They do to!\\n'\n",
            "b'L985 +++$+++ u0 +++$+++ m0 +++$+++ BIANCA +++$+++ I hope so.\\n'\n",
            "b'L984 +++$+++ u2 +++$+++ m0 +++$+++ CAMERON +++$+++ She okay?\\n'\n",
            "b\"L925 +++$+++ u0 +++$+++ m0 +++$+++ BIANCA +++$+++ Let's go.\\n\"\n",
            "b'L924 +++$+++ u2 +++$+++ m0 +++$+++ CAMERON +++$+++ Wow\\n'\n",
            "b\"L872 +++$+++ u0 +++$+++ m0 +++$+++ BIANCA +++$+++ Okay -- you're gonna need to learn how to lie.\\n\"\n",
            "b'L871 +++$+++ u2 +++$+++ m0 +++$+++ CAMERON +++$+++ No\\n'\n",
            "b'L870 +++$+++ u0 +++$+++ m0 +++$+++ BIANCA +++$+++ I\\'m kidding.  You know how sometimes you just become this \"persona\"?  And you don\\'t know how to quit?\\n'\n",
            "b'L869 +++$+++ u0 +++$+++ m0 +++$+++ BIANCA +++$+++ Like my fear of wearing pastels?\\n'\n"
          ],
          "name": "stdout"
        }
      ]
    },
    {
      "cell_type": "markdown",
      "metadata": {
        "id": "xAYaiTV9DGBb"
      },
      "source": [
        "Create formatted data file\n",
        "~~~~~~~~~~~~~~~~~~~~~~~~~~\n",
        "\n",
        "For convenience, we'll create a nicely formatted data file in which each line\n",
        "contains a tab-separated *query sentence* and a *response sentence* pair.\n",
        "\n",
        "The following functions facilitate the parsing of the raw\n",
        "*movie_lines.txt* data file.\n",
        "\n",
        "-  ``loadLines`` splits each line of the file into a dictionary of\n",
        "   fields (lineID, characterID, movieID, character, text)\n",
        "-  ``loadConversations`` groups fields of lines from ``loadLines`` into\n",
        "   conversations based on *movie_conversations.txt*\n",
        "-  ``extractSentencePairs`` extracts pairs of sentences from\n",
        "   conversations\n",
        "\n",
        "\n"
      ]
    },
    {
      "cell_type": "code",
      "metadata": {
        "id": "3Y7TmEElDGBc"
      },
      "source": [
        "# Splits each line of the file into a dictionary of fields\n",
        "def loadLines(fileName, fields):\n",
        "    lines = {}\n",
        "    with open(fileName, 'r', encoding='iso-8859-1') as f:\n",
        "        for line in f:\n",
        "            values = line.split(\" +++$+++ \")\n",
        "            # Extract fields\n",
        "            lineObj = {}\n",
        "            for i, field in enumerate(fields):\n",
        "                lineObj[field] = values[i]\n",
        "            lines[lineObj['lineID']] = lineObj\n",
        "    return lines\n",
        "\n",
        "\n",
        "# Groups fields of lines from `loadLines` into conversations based on *movie_conversations.txt*\n",
        "def loadConversations(fileName, lines, fields):\n",
        "    conversations = []\n",
        "    with open(fileName, 'r', encoding='iso-8859-1') as f:\n",
        "        for line in f:\n",
        "            values = line.split(\" +++$+++ \")\n",
        "            # Extract fields\n",
        "            convObj = {}\n",
        "            for i, field in enumerate(fields):\n",
        "                convObj[field] = values[i]\n",
        "            # Convert string to list (convObj[\"utteranceIDs\"] == \"['L598485', 'L598486', ...]\")\n",
        "            utterance_id_pattern = re.compile('L[0-9]+')\n",
        "            lineIds = utterance_id_pattern.findall(convObj[\"utteranceIDs\"])\n",
        "            # Reassemble lines\n",
        "            convObj[\"lines\"] = []\n",
        "            for lineId in lineIds:\n",
        "                convObj[\"lines\"].append(lines[lineId])\n",
        "            conversations.append(convObj)\n",
        "    return conversations\n",
        "\n",
        "\n",
        "# Extracts pairs of sentences from conversations\n",
        "def extractSentencePairs(conversations):\n",
        "    qa_pairs = []\n",
        "    for conversation in conversations:\n",
        "        # Iterate over all the lines of the conversation\n",
        "        for i in range(len(conversation[\"lines\"]) - 1):  # We ignore the last line (no answer for it)\n",
        "            inputLine = conversation[\"lines\"][i][\"text\"].strip()\n",
        "            targetLine = conversation[\"lines\"][i+1][\"text\"].strip()\n",
        "            # Filter wrong samples (if one of the lists is empty)\n",
        "            if inputLine and targetLine:\n",
        "                qa_pairs.append([inputLine, targetLine])\n",
        "    return qa_pairs"
      ],
      "execution_count": 6,
      "outputs": []
    },
    {
      "cell_type": "markdown",
      "metadata": {
        "id": "_8gNS3ytDGBe"
      },
      "source": [
        "Now we’ll call these functions and create the file. We’ll call it\n",
        "*formatted_movie_lines.txt*.\n",
        "\n",
        "\n"
      ]
    },
    {
      "cell_type": "code",
      "metadata": {
        "id": "wVhEGuepDGBf",
        "colab": {
          "base_uri": "https://localhost:8080/"
        },
        "outputId": "23d448ac-9668-45b1-c2e7-3b25a5981249"
      },
      "source": [
        "# Define path to new file\n",
        "datafile = os.path.join(corpus, \"formatted_movie_lines.txt\")\n",
        "\n",
        "delimiter = '\\t'\n",
        "# Unescape the delimiter\n",
        "delimiter = str(codecs.decode(delimiter, \"unicode_escape\"))\n",
        "\n",
        "# Initialize lines dict, conversations list, and field ids\n",
        "lines = {}\n",
        "conversations = []\n",
        "MOVIE_LINES_FIELDS = [\"lineID\", \"characterID\", \"movieID\", \"character\", \"text\"]\n",
        "MOVIE_CONVERSATIONS_FIELDS = [\"character1ID\", \"character2ID\", \"movieID\", \"utteranceIDs\"]\n",
        "\n",
        "# Load lines and process conversations\n",
        "print(\"\\nProcessing corpus...\")\n",
        "lines = loadLines(os.path.join(corpus, \"movie_lines.txt\"), MOVIE_LINES_FIELDS)\n",
        "print(\"\\nLoading conversations...\")\n",
        "conversations = loadConversations(os.path.join(corpus, \"movie_conversations.txt\"),\n",
        "                                  lines, MOVIE_CONVERSATIONS_FIELDS)\n",
        "\n",
        "# Write new csv file\n",
        "print(\"\\nWriting newly formatted file...\")\n",
        "with open(datafile, 'w', encoding='utf-8') as outputfile:\n",
        "    writer = csv.writer(outputfile, delimiter=delimiter, lineterminator='\\n')\n",
        "    for pair in extractSentencePairs(conversations):\n",
        "        writer.writerow(pair)\n",
        "\n",
        "# Print a sample of lines\n",
        "print(\"\\nSample lines from file:\")\n",
        "printLines(datafile)"
      ],
      "execution_count": 7,
      "outputs": [
        {
          "output_type": "stream",
          "text": [
            "\n",
            "Processing corpus...\n",
            "\n",
            "Loading conversations...\n",
            "\n",
            "Writing newly formatted file...\n",
            "\n",
            "Sample lines from file:\n",
            "b\"Can we make this quick?  Roxanne Korrine and Andrew Barrett are having an incredibly horrendous public break- up on the quad.  Again.\\tWell, I thought we'd start with pronunciation, if that's okay with you.\\n\"\n",
            "b\"Well, I thought we'd start with pronunciation, if that's okay with you.\\tNot the hacking and gagging and spitting part.  Please.\\n\"\n",
            "b\"Not the hacking and gagging and spitting part.  Please.\\tOkay... then how 'bout we try out some French cuisine.  Saturday?  Night?\\n\"\n",
            "b\"You're asking me out.  That's so cute. What's your name again?\\tForget it.\\n\"\n",
            "b\"No, no, it's my fault -- we didn't have a proper introduction ---\\tCameron.\\n\"\n",
            "b\"Cameron.\\tThe thing is, Cameron -- I'm at the mercy of a particularly hideous breed of loser.  My sister.  I can't date until she does.\\n\"\n",
            "b\"The thing is, Cameron -- I'm at the mercy of a particularly hideous breed of loser.  My sister.  I can't date until she does.\\tSeems like she could get a date easy enough...\\n\"\n",
            "b'Why?\\tUnsolved mystery.  She used to be really popular when she started high school, then it was just like she got sick of it or something.\\n'\n",
            "b\"Unsolved mystery.  She used to be really popular when she started high school, then it was just like she got sick of it or something.\\tThat's a shame.\\n\"\n",
            "b'Gosh, if only we could find Kat a boyfriend...\\tLet me see what I can do.\\n'\n"
          ],
          "name": "stdout"
        }
      ]
    },
    {
      "cell_type": "markdown",
      "metadata": {
        "id": "aYk0_q0KDGBh"
      },
      "source": [
        "Load and trim data\n",
        "~~~~~~~~~~~~~~~~~~\n",
        "\n",
        "Our next order of business is to create a vocabulary and load\n",
        "query/response sentence pairs into memory.\n",
        "\n",
        "Note that we are dealing with sequences of **words**, which do not have\n",
        "an implicit mapping to a discrete numerical space. Thus, we must create\n",
        "one by mapping each unique word that we encounter in our dataset to an\n",
        "index value.\n",
        "\n",
        "For this we define a ``Voc`` class, which keeps a mapping from words to\n",
        "indexes, a reverse mapping of indexes to words, a count of each word and\n",
        "a total word count. The class provides methods for adding a word to the\n",
        "vocabulary (``addWord``), adding all words in a sentence\n",
        "(``addSentence``) and trimming infrequently seen words (``trim``). More\n",
        "on trimming later.\n",
        "\n",
        "\n"
      ]
    },
    {
      "cell_type": "code",
      "metadata": {
        "id": "C1V4pGwaDGBi"
      },
      "source": [
        "# Default word tokens\n",
        "PAD_token = 0  # Used for padding short sentences\n",
        "SOS_token = 1  # Start-of-sentence token\n",
        "EOS_token = 2  # End-of-sentence token\n",
        "\n",
        "class Voc:\n",
        "    def __init__(self, name):\n",
        "        self.name = name\n",
        "        self.trimmed = False\n",
        "        self.word2index = {}\n",
        "        self.word2count = {}\n",
        "        self.index2word = {PAD_token: \"PAD\", SOS_token: \"SOS\", EOS_token: \"EOS\"}\n",
        "        self.num_words = 3  # Count SOS, EOS, PAD\n",
        "\n",
        "    def addSentence(self, sentence):\n",
        "        for word in sentence.split(' '):\n",
        "            self.addWord(word)\n",
        "\n",
        "    def addWord(self, word):\n",
        "        if word not in self.word2index:\n",
        "            self.word2index[word] = self.num_words\n",
        "            self.word2count[word] = 1\n",
        "            self.index2word[self.num_words] = word\n",
        "            self.num_words += 1\n",
        "        else:\n",
        "            self.word2count[word] += 1\n",
        "\n",
        "    # Remove words below a certain count threshold\n",
        "    def trim(self, min_count):\n",
        "        if self.trimmed:\n",
        "            return\n",
        "        self.trimmed = True\n",
        "\n",
        "        keep_words = []\n",
        "\n",
        "        for k, v in self.word2count.items():\n",
        "            if v >= min_count:\n",
        "                keep_words.append(k)\n",
        "\n",
        "        print('keep_words {} / {} = {:.4f}'.format(\n",
        "            len(keep_words), len(self.word2index), len(keep_words) / len(self.word2index)\n",
        "        ))\n",
        "\n",
        "        # Reinitialize dictionaries\n",
        "        self.word2index = {}\n",
        "        self.word2count = {}\n",
        "        self.index2word = {PAD_token: \"PAD\", SOS_token: \"SOS\", EOS_token: \"EOS\"}\n",
        "        self.num_words = 3 # Count default tokens\n",
        "\n",
        "        for word in keep_words:\n",
        "            self.addWord(word)"
      ],
      "execution_count": 8,
      "outputs": []
    },
    {
      "cell_type": "markdown",
      "metadata": {
        "id": "azqam8lHDGBk"
      },
      "source": [
        "Now we can assemble our vocabulary and query/response sentence pairs.\n",
        "Before we are ready to use this data, we must perform some\n",
        "preprocessing.\n",
        "\n",
        "First, we must convert the Unicode strings to ASCII using\n",
        "``unicodeToAscii``. Next, we should convert all letters to lowercase and\n",
        "trim all non-letter characters except for basic punctuation\n",
        "(``normalizeString``). Finally, to aid in training convergence, we will\n",
        "filter out sentences with length greater than the ``MAX_LENGTH``\n",
        "threshold (``filterPairs``).\n",
        "\n",
        "\n"
      ]
    },
    {
      "cell_type": "code",
      "metadata": {
        "id": "dCy45Ak4DGBl",
        "colab": {
          "base_uri": "https://localhost:8080/"
        },
        "outputId": "42328c59-bf61-437c-8eec-aebf6f4792d4"
      },
      "source": [
        "MAX_LENGTH = 10  # Maximum sentence length to consider\n",
        "\n",
        "# Turn a Unicode string to plain ASCII, thanks to\n",
        "# https://stackoverflow.com/a/518232/2809427\n",
        "def unicodeToAscii(s):\n",
        "    return ''.join(\n",
        "        c for c in unicodedata.normalize('NFD', s)\n",
        "        if unicodedata.category(c) != 'Mn'\n",
        "    )\n",
        "\n",
        "# Lowercase, trim, and remove non-letter characters\n",
        "def normalizeString(s):\n",
        "    s = unicodeToAscii(s.lower().strip())\n",
        "    s = re.sub(r\"([.!?])\", r\" \\1\", s)\n",
        "    s = re.sub(r\"[^a-zA-Z.!?]+\", r\" \", s)\n",
        "    s = re.sub(r\"\\s+\", r\" \", s).strip()\n",
        "    return s\n",
        "\n",
        "# Read query/response pairs and return a voc object\n",
        "def readVocs(datafile, corpus_name):\n",
        "    print(\"Reading lines...\")\n",
        "    # Read the file and split into lines\n",
        "    lines = open(datafile, encoding='utf-8').\\\n",
        "        read().strip().split('\\n')\n",
        "    # Split every line into pairs and normalize\n",
        "    pairs = [[normalizeString(s) for s in l.split('\\t')] for l in lines]\n",
        "    voc = Voc(corpus_name)\n",
        "    return voc, pairs\n",
        "\n",
        "# Returns True iff both sentences in a pair 'p' are under the MAX_LENGTH threshold\n",
        "def filterPair(p):\n",
        "    # Input sequences need to preserve the last word for EOS token\n",
        "    return len(p[0].split(' ')) < MAX_LENGTH and len(p[1].split(' ')) < MAX_LENGTH\n",
        "\n",
        "# Filter pairs using filterPair condition\n",
        "def filterPairs(pairs):\n",
        "    return [pair for pair in pairs if filterPair(pair)]\n",
        "\n",
        "# Using the functions defined above, return a populated voc object and pairs list\n",
        "def loadPrepareData(corpus, corpus_name, datafile, save_dir):\n",
        "    print(\"Start preparing training data ...\")\n",
        "    voc, pairs = readVocs(datafile, corpus_name)\n",
        "    print(\"Read {!s} sentence pairs\".format(len(pairs)))\n",
        "    pairs = filterPairs(pairs)\n",
        "    print(\"Trimmed to {!s} sentence pairs\".format(len(pairs)))\n",
        "    print(\"Counting words...\")\n",
        "    for pair in pairs:\n",
        "        voc.addSentence(pair[0])\n",
        "        voc.addSentence(pair[1])\n",
        "    print(\"Counted words:\", voc.num_words)\n",
        "    return voc, pairs\n",
        "\n",
        "\n",
        "# Load/Assemble voc and pairs\n",
        "save_dir = os.path.join(\"data\", \"save\")\n",
        "voc, pairs = loadPrepareData(corpus, corpus_name, datafile, save_dir)\n",
        "# Print some pairs to validate\n",
        "print(\"\\npairs:\")\n",
        "for pair in pairs[:10]:\n",
        "    print(pair)"
      ],
      "execution_count": 9,
      "outputs": [
        {
          "output_type": "stream",
          "text": [
            "Start preparing training data ...\n",
            "Reading lines...\n",
            "Read 221282 sentence pairs\n",
            "Trimmed to 64271 sentence pairs\n",
            "Counting words...\n",
            "Counted words: 18008\n",
            "\n",
            "pairs:\n",
            "['there .', 'where ?']\n",
            "['you have my word . as a gentleman', 'you re sweet .']\n",
            "['hi .', 'looks like things worked out tonight huh ?']\n",
            "['you know chastity ?', 'i believe we share an art instructor']\n",
            "['have fun tonight ?', 'tons']\n",
            "['well no . . .', 'then that s all you had to say .']\n",
            "['then that s all you had to say .', 'but']\n",
            "['but', 'you always been this selfish ?']\n",
            "['do you listen to this crap ?', 'what crap ?']\n",
            "['what good stuff ?', 'the real you .']\n"
          ],
          "name": "stdout"
        }
      ]
    },
    {
      "cell_type": "markdown",
      "metadata": {
        "id": "PHsyaHP8DGBl"
      },
      "source": [
        "Another tactic that is beneficial to achieving faster convergence during\n",
        "training is trimming rarely used words out of our vocabulary. Decreasing\n",
        "the feature space will also soften the difficulty of the function that\n",
        "the model must learn to approximate. We will do this as a two-step\n",
        "process:\n",
        "\n",
        "1) Trim words used under ``MIN_COUNT`` threshold using the ``voc.trim``\n",
        "   function.\n",
        "\n",
        "2) Filter out pairs with trimmed words.\n",
        "\n",
        "\n"
      ]
    },
    {
      "cell_type": "code",
      "metadata": {
        "id": "EFm-WUFFDGBm",
        "colab": {
          "base_uri": "https://localhost:8080/"
        },
        "outputId": "6505b44f-c275-4694-9d52-b868d310998a"
      },
      "source": [
        "MIN_COUNT = 3    # Minimum word count threshold for trimming\n",
        "\n",
        "def trimRareWords(voc, pairs, MIN_COUNT):\n",
        "    # Trim words used under the MIN_COUNT from the voc\n",
        "    voc.trim(MIN_COUNT)\n",
        "    # Filter out pairs with trimmed words\n",
        "    keep_pairs = []\n",
        "    for pair in pairs:\n",
        "        input_sentence = pair[0]\n",
        "        output_sentence = pair[1]\n",
        "        keep_input = True\n",
        "        keep_output = True\n",
        "        # Check input sentence\n",
        "        for word in input_sentence.split(' '):\n",
        "            if word not in voc.word2index:\n",
        "                keep_input = False\n",
        "                break\n",
        "        # Check output sentence\n",
        "        for word in output_sentence.split(' '):\n",
        "            if word not in voc.word2index:\n",
        "                keep_output = False\n",
        "                break\n",
        "\n",
        "        # Only keep pairs that do not contain trimmed word(s) in their input or output sentence\n",
        "        if keep_input and keep_output:\n",
        "            keep_pairs.append(pair)\n",
        "\n",
        "    print(\"Trimmed from {} pairs to {}, {:.4f} of total\".format(len(pairs), len(keep_pairs), len(keep_pairs) / len(pairs)))\n",
        "    return keep_pairs\n",
        "\n",
        "\n",
        "# Trim voc and pairs\n",
        "pairs = trimRareWords(voc, pairs, MIN_COUNT)"
      ],
      "execution_count": 10,
      "outputs": [
        {
          "output_type": "stream",
          "text": [
            "keep_words 7823 / 18005 = 0.4345\n",
            "Trimmed from 64271 pairs to 53165, 0.8272 of total\n"
          ],
          "name": "stdout"
        }
      ]
    },
    {
      "cell_type": "code",
      "metadata": {
        "id": "U3lLihSgFbkX",
        "colab": {
          "base_uri": "https://localhost:8080/"
        },
        "outputId": "7c20dda0-3fd4-41d4-e7bb-ad10725a266a"
      },
      "source": [
        "print(pairs[:5])"
      ],
      "execution_count": 11,
      "outputs": [
        {
          "output_type": "stream",
          "text": [
            "[['there .', 'where ?'], ['you have my word . as a gentleman', 'you re sweet .'], ['hi .', 'looks like things worked out tonight huh ?'], ['have fun tonight ?', 'tons'], ['well no . . .', 'then that s all you had to say .']]\n"
          ],
          "name": "stdout"
        }
      ]
    },
    {
      "cell_type": "markdown",
      "metadata": {
        "id": "q9VGcy7SDGBm"
      },
      "source": [
        "Prepare Data for Models\n",
        "-----------------------\n",
        "\n",
        "Although we have put a great deal of effort into preparing and massaging our\n",
        "data into a nice vocabulary object and list of sentence pairs, our models\n",
        "will ultimately expect numerical torch tensors as inputs. One way to\n",
        "prepare the processed data for the models can be found in the `seq2seq\n",
        "translation\n",
        "tutorial <https://pytorch.org/tutorials/intermediate/seq2seq_translation_tutorial.html>`__.\n",
        "In that tutorial, we use a batch size of 1, meaning that all we have to\n",
        "do is convert the words in our sentence pairs to their corresponding\n",
        "indexes from the vocabulary and feed this to the models.\n",
        "\n",
        "However, if you’re interested in speeding up training and/or would like\n",
        "to leverage GPU parallelization capabilities, you will need to train\n",
        "with mini-batches.\n",
        "\n",
        "Using mini-batches also means that we must be mindful of the variation\n",
        "of sentence length in our batches. To accomodate sentences of different\n",
        "sizes in the same batch, we will make our batched input tensor of shape\n",
        "*(max_length, batch_size)*, where sentences shorter than the\n",
        "*max_length* are zero padded after an *EOS_token*.\n",
        "\n",
        "If we simply convert our English sentences to tensors by converting\n",
        "words to their indexes(\\ ``indexesFromSentence``) and zero-pad, our\n",
        "tensor would have shape *(batch_size, max_length)* and indexing the\n",
        "first dimension would return a full sequence across all time-steps.\n",
        "However, we need to be able to index our batch along time, and across\n",
        "all sequences in the batch. Therefore, we transpose our input batch\n",
        "shape to *(max_length, batch_size)*, so that indexing across the first\n",
        "dimension returns a time step across all sentences in the batch. We\n",
        "handle this transpose implicitly in the ``zeroPadding`` function.\n",
        "\n",
        ".. figure:: /_static/img/chatbot/seq2seq_batches.png\n",
        "   :align: center\n",
        "   :alt: batches\n",
        "\n",
        "The ``inputVar`` function handles the process of converting sentences to\n",
        "tensor, ultimately creating a correctly shaped zero-padded tensor. It\n",
        "also returns a tensor of ``lengths`` for each of the sequences in the\n",
        "batch which will be passed to our decoder later.\n",
        "\n",
        "The ``outputVar`` function performs a similar function to ``inputVar``,\n",
        "but instead of returning a ``lengths`` tensor, it returns a binary mask\n",
        "tensor and a maximum target sentence length. The binary mask tensor has\n",
        "the same shape as the output target tensor, but every element that is a\n",
        "*PAD_token* is 0 and all others are 1.\n",
        "\n",
        "``batch2TrainData`` simply takes a bunch of pairs and returns the input\n",
        "and target tensors using the aforementioned functions.\n",
        "\n",
        "\n"
      ]
    },
    {
      "cell_type": "code",
      "metadata": {
        "id": "7-8zI__ADGBn",
        "colab": {
          "base_uri": "https://localhost:8080/"
        },
        "outputId": "52678468-cf53-44d7-90d9-f870cd7ddc4a"
      },
      "source": [
        "def indexesFromSentence(voc, sentence):\n",
        "    return [voc.word2index[word] for word in sentence.split(' ')] + [EOS_token]\n",
        "\n",
        "\n",
        "def zeroPadding(l, fillvalue=PAD_token):\n",
        "    return list(itertools.zip_longest(*l, fillvalue=fillvalue))\n",
        "\n",
        "def binaryMatrix(l, value=PAD_token):\n",
        "    m = []\n",
        "    for i, seq in enumerate(l):\n",
        "        m.append([])\n",
        "        for token in seq:\n",
        "            if token == PAD_token:\n",
        "                m[i].append(0)\n",
        "            else:\n",
        "                m[i].append(1)\n",
        "    return m\n",
        "\n",
        "# Returns padded input sequence tensor and lengths\n",
        "def inputVar(l, voc):\n",
        "    indexes_batch = [indexesFromSentence(voc, sentence) for sentence in l]\n",
        "    lengths = torch.tensor([len(indexes) for indexes in indexes_batch])\n",
        "    padList = zeroPadding(indexes_batch)\n",
        "    padVar = torch.LongTensor(padList)\n",
        "    return padVar, lengths\n",
        "\n",
        "# Returns padded target sequence tensor, padding mask, and max target length\n",
        "def outputVar(l, voc):\n",
        "    indexes_batch = [indexesFromSentence(voc, sentence) for sentence in l]\n",
        "    max_target_len = max([len(indexes) for indexes in indexes_batch])\n",
        "    padList = zeroPadding(indexes_batch)\n",
        "    mask = binaryMatrix(padList)\n",
        "    mask = torch.BoolTensor(mask)\n",
        "    padVar = torch.LongTensor(padList)\n",
        "    return padVar, mask, max_target_len\n",
        "\n",
        "# Returns all items for a given batch of pairs\n",
        "def batch2TrainData(voc, pair_batch):\n",
        "    pair_batch.sort(key=lambda x: len(x[0].split(\" \")), reverse=True)\n",
        "    input_batch, output_batch = [], []\n",
        "    for pair in pair_batch:\n",
        "        input_batch.append(pair[0])\n",
        "        output_batch.append(pair[1])\n",
        "    inp, lengths = inputVar(input_batch, voc)\n",
        "    output, mask, max_target_len = outputVar(output_batch, voc)\n",
        "    return inp, lengths, output, mask, max_target_len, input_batch, output_batch\n",
        "\n",
        "\n",
        "# Example for validation\n",
        "small_batch_size = 5\n",
        "batches = batch2TrainData(voc, [random.choice(pairs) for _ in range(small_batch_size)])\n",
        "input_variable, lengths, target_variable, mask, max_target_len, source, target = batches\n",
        "\n",
        "print(\"input_variable:\", input_variable)\n",
        "print(\"lengths:\", lengths)\n",
        "print(\"target_variable:\", target_variable)\n",
        "print(\"mask:\", mask)\n",
        "print(\"max_target_len:\", max_target_len)\n",
        "print(source)\n",
        "print(target)"
      ],
      "execution_count": 12,
      "outputs": [
        {
          "output_type": "stream",
          "text": [
            "input_variable: tensor([[ 167,   64,  141,   53,   61],\n",
            "        [   4,    4,   83, 2079,   37],\n",
            "        [  76,  147,    7,   92,  190],\n",
            "        [  37,   92,  132,  460, 1141],\n",
            "        [ 112,    7,  614,    4,    4],\n",
            "        [  18,    6,    4,    2,    2],\n",
            "        [  25,    2,    2,    0,    0],\n",
            "        [ 911,    0,    0,    0,    0],\n",
            "        [   4,    0,    0,    0,    0],\n",
            "        [   2,    0,    0,    0,    0]])\n",
            "lengths: tensor([10,  7,  7,  6,  6])\n",
            "target_variable: tensor([[  50,  274,   62,  158,   92],\n",
            "        [ 148,    4,    4,  709,    7],\n",
            "        [   7,    7,    2,   40,   12],\n",
            "        [ 260,    6,    0,   83,   51],\n",
            "        [   6,    2,    0,   66,  466],\n",
            "        [   2,    0,    0,    2, 1563],\n",
            "        [   0,    0,    0,    0,    6],\n",
            "        [   0,    0,    0,    0,    2]])\n",
            "mask: tensor([[ True,  True,  True,  True,  True],\n",
            "        [ True,  True,  True,  True,  True],\n",
            "        [ True,  True,  True,  True,  True],\n",
            "        [ True,  True, False,  True,  True],\n",
            "        [ True,  True, False,  True,  True],\n",
            "        [ True, False, False,  True,  True],\n",
            "        [False, False, False, False,  True],\n",
            "        [False, False, False, False,  True]])\n",
            "max_target_len: 8\n",
            "['yeah . it s just like i figured .', 'so . how are you ?', 'tell me you ll call .', 'the leads are coming .', 'she s pretty special .']\n",
            "['what d you mean ?', 'fine . you ?', 'okay .', 'get em to me !', 'are you a good cop john ?']\n"
          ],
          "name": "stdout"
        }
      ]
    },
    {
      "cell_type": "markdown",
      "metadata": {
        "id": "WijAQ_l5Qag0"
      },
      "source": [
        "![image.png](data:image/png;base64,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)"
      ]
    },
    {
      "cell_type": "code",
      "metadata": {
        "id": "1TmOW9lPNfCw"
      },
      "source": [
        "#Transformer Model\r\n",
        "import torch\r\n",
        "import torch.nn as nn\r\n",
        "import torch.optim as optim\r\n",
        "\r\n",
        "import torchtext\r\n",
        "from torchtext.datasets import Multi30k\r\n",
        "from torchtext.data import Example, Field, BucketIterator, Dataset\r\n",
        "\r\n",
        "import matplotlib.pyplot as plt\r\n",
        "import matplotlib.ticker as ticker\r\n",
        "\r\n",
        "import spacy\r\n",
        "import numpy as np\r\n",
        "\r\n",
        "import random\r\n",
        "import math\r\n",
        "import time"
      ],
      "execution_count": 13,
      "outputs": []
    },
    {
      "cell_type": "code",
      "metadata": {
        "id": "Qr2B3-SMPLNa"
      },
      "source": [
        "\r\n",
        "SEED = 1234\r\n",
        "\r\n",
        "random.seed(SEED)\r\n",
        "np.random.seed(SEED)\r\n",
        "torch.manual_seed(SEED)\r\n",
        "torch.cuda.manual_seed(SEED)\r\n",
        "torch.backends.cudnn.deterministic = True"
      ],
      "execution_count": 14,
      "outputs": []
    },
    {
      "cell_type": "code",
      "metadata": {
        "colab": {
          "base_uri": "https://localhost:8080/"
        },
        "id": "c-bc5Sf6PSsW",
        "outputId": "57768aba-2009-4632-8d2e-75ff045cedc9"
      },
      "source": [
        "!python -m spacy download en\r\n",
        "!python -m spacy download de"
      ],
      "execution_count": 15,
      "outputs": [
        {
          "output_type": "stream",
          "text": [
            "Requirement already satisfied: en_core_web_sm==2.2.5 from https://github.com/explosion/spacy-models/releases/download/en_core_web_sm-2.2.5/en_core_web_sm-2.2.5.tar.gz#egg=en_core_web_sm==2.2.5 in /usr/local/lib/python3.7/dist-packages (2.2.5)\n",
            "Requirement already satisfied: spacy>=2.2.2 in /usr/local/lib/python3.7/dist-packages (from en_core_web_sm==2.2.5) (2.2.4)\n",
            "Requirement already satisfied: preshed<3.1.0,>=3.0.2 in /usr/local/lib/python3.7/dist-packages (from spacy>=2.2.2->en_core_web_sm==2.2.5) (3.0.5)\n",
            "Requirement already satisfied: plac<1.2.0,>=0.9.6 in /usr/local/lib/python3.7/dist-packages (from spacy>=2.2.2->en_core_web_sm==2.2.5) (1.1.3)\n",
            "Requirement already satisfied: numpy>=1.15.0 in /usr/local/lib/python3.7/dist-packages (from spacy>=2.2.2->en_core_web_sm==2.2.5) (1.19.5)\n",
            "Requirement already satisfied: thinc==7.4.0 in /usr/local/lib/python3.7/dist-packages (from spacy>=2.2.2->en_core_web_sm==2.2.5) (7.4.0)\n",
            "Requirement already satisfied: tqdm<5.0.0,>=4.38.0 in /usr/local/lib/python3.7/dist-packages (from spacy>=2.2.2->en_core_web_sm==2.2.5) (4.41.1)\n",
            "Requirement already satisfied: wasabi<1.1.0,>=0.4.0 in /usr/local/lib/python3.7/dist-packages (from spacy>=2.2.2->en_core_web_sm==2.2.5) (0.8.2)\n",
            "Requirement already satisfied: requests<3.0.0,>=2.13.0 in /usr/local/lib/python3.7/dist-packages (from spacy>=2.2.2->en_core_web_sm==2.2.5) (2.23.0)\n",
            "Requirement already satisfied: blis<0.5.0,>=0.4.0 in /usr/local/lib/python3.7/dist-packages (from spacy>=2.2.2->en_core_web_sm==2.2.5) (0.4.1)\n",
            "Requirement already satisfied: murmurhash<1.1.0,>=0.28.0 in /usr/local/lib/python3.7/dist-packages (from spacy>=2.2.2->en_core_web_sm==2.2.5) (1.0.5)\n",
            "Requirement already satisfied: setuptools in /usr/local/lib/python3.7/dist-packages (from spacy>=2.2.2->en_core_web_sm==2.2.5) (53.0.0)\n",
            "Requirement already satisfied: srsly<1.1.0,>=1.0.2 in /usr/local/lib/python3.7/dist-packages (from spacy>=2.2.2->en_core_web_sm==2.2.5) (1.0.5)\n",
            "Requirement already satisfied: catalogue<1.1.0,>=0.0.7 in /usr/local/lib/python3.7/dist-packages (from spacy>=2.2.2->en_core_web_sm==2.2.5) (1.0.0)\n",
            "Requirement already satisfied: cymem<2.1.0,>=2.0.2 in /usr/local/lib/python3.7/dist-packages (from spacy>=2.2.2->en_core_web_sm==2.2.5) (2.0.5)\n",
            "Requirement already satisfied: chardet<4,>=3.0.2 in /usr/local/lib/python3.7/dist-packages (from requests<3.0.0,>=2.13.0->spacy>=2.2.2->en_core_web_sm==2.2.5) (3.0.4)\n",
            "Requirement already satisfied: idna<3,>=2.5 in /usr/local/lib/python3.7/dist-packages (from requests<3.0.0,>=2.13.0->spacy>=2.2.2->en_core_web_sm==2.2.5) (2.10)\n",
            "Requirement already satisfied: certifi>=2017.4.17 in /usr/local/lib/python3.7/dist-packages (from requests<3.0.0,>=2.13.0->spacy>=2.2.2->en_core_web_sm==2.2.5) (2020.12.5)\n",
            "Requirement already satisfied: urllib3!=1.25.0,!=1.25.1,<1.26,>=1.21.1 in /usr/local/lib/python3.7/dist-packages (from requests<3.0.0,>=2.13.0->spacy>=2.2.2->en_core_web_sm==2.2.5) (1.24.3)\n",
            "Requirement already satisfied: importlib-metadata>=0.20; python_version < \"3.8\" in /usr/local/lib/python3.7/dist-packages (from catalogue<1.1.0,>=0.0.7->spacy>=2.2.2->en_core_web_sm==2.2.5) (3.4.0)\n",
            "Requirement already satisfied: typing-extensions>=3.6.4; python_version < \"3.8\" in /usr/local/lib/python3.7/dist-packages (from importlib-metadata>=0.20; python_version < \"3.8\"->catalogue<1.1.0,>=0.0.7->spacy>=2.2.2->en_core_web_sm==2.2.5) (3.7.4.3)\n",
            "Requirement already satisfied: zipp>=0.5 in /usr/local/lib/python3.7/dist-packages (from importlib-metadata>=0.20; python_version < \"3.8\"->catalogue<1.1.0,>=0.0.7->spacy>=2.2.2->en_core_web_sm==2.2.5) (3.4.0)\n",
            "\u001b[38;5;2m✔ Download and installation successful\u001b[0m\n",
            "You can now load the model via spacy.load('en_core_web_sm')\n",
            "\u001b[38;5;2m✔ Linking successful\u001b[0m\n",
            "/usr/local/lib/python3.7/dist-packages/en_core_web_sm -->\n",
            "/usr/local/lib/python3.7/dist-packages/spacy/data/en\n",
            "You can now load the model via spacy.load('en')\n",
            "Collecting de_core_news_sm==2.2.5\n",
            "\u001b[?25l  Downloading https://github.com/explosion/spacy-models/releases/download/de_core_news_sm-2.2.5/de_core_news_sm-2.2.5.tar.gz (14.9MB)\n",
            "\u001b[K     |████████████████████████████████| 14.9MB 14.6MB/s \n",
            "\u001b[?25hRequirement already satisfied: spacy>=2.2.2 in /usr/local/lib/python3.7/dist-packages (from de_core_news_sm==2.2.5) (2.2.4)\n",
            "Requirement already satisfied: numpy>=1.15.0 in /usr/local/lib/python3.7/dist-packages (from spacy>=2.2.2->de_core_news_sm==2.2.5) (1.19.5)\n",
            "Requirement already satisfied: tqdm<5.0.0,>=4.38.0 in /usr/local/lib/python3.7/dist-packages (from spacy>=2.2.2->de_core_news_sm==2.2.5) (4.41.1)\n",
            "Requirement already satisfied: wasabi<1.1.0,>=0.4.0 in /usr/local/lib/python3.7/dist-packages (from spacy>=2.2.2->de_core_news_sm==2.2.5) (0.8.2)\n",
            "Requirement already satisfied: preshed<3.1.0,>=3.0.2 in /usr/local/lib/python3.7/dist-packages (from spacy>=2.2.2->de_core_news_sm==2.2.5) (3.0.5)\n",
            "Requirement already satisfied: plac<1.2.0,>=0.9.6 in /usr/local/lib/python3.7/dist-packages (from spacy>=2.2.2->de_core_news_sm==2.2.5) (1.1.3)\n",
            "Requirement already satisfied: cymem<2.1.0,>=2.0.2 in /usr/local/lib/python3.7/dist-packages (from spacy>=2.2.2->de_core_news_sm==2.2.5) (2.0.5)\n",
            "Requirement already satisfied: catalogue<1.1.0,>=0.0.7 in /usr/local/lib/python3.7/dist-packages (from spacy>=2.2.2->de_core_news_sm==2.2.5) (1.0.0)\n",
            "Requirement already satisfied: blis<0.5.0,>=0.4.0 in /usr/local/lib/python3.7/dist-packages (from spacy>=2.2.2->de_core_news_sm==2.2.5) (0.4.1)\n",
            "Requirement already satisfied: setuptools in /usr/local/lib/python3.7/dist-packages (from spacy>=2.2.2->de_core_news_sm==2.2.5) (53.0.0)\n",
            "Requirement already satisfied: requests<3.0.0,>=2.13.0 in /usr/local/lib/python3.7/dist-packages (from spacy>=2.2.2->de_core_news_sm==2.2.5) (2.23.0)\n",
            "Requirement already satisfied: murmurhash<1.1.0,>=0.28.0 in /usr/local/lib/python3.7/dist-packages (from spacy>=2.2.2->de_core_news_sm==2.2.5) (1.0.5)\n",
            "Requirement already satisfied: srsly<1.1.0,>=1.0.2 in /usr/local/lib/python3.7/dist-packages (from spacy>=2.2.2->de_core_news_sm==2.2.5) (1.0.5)\n",
            "Requirement already satisfied: thinc==7.4.0 in /usr/local/lib/python3.7/dist-packages (from spacy>=2.2.2->de_core_news_sm==2.2.5) (7.4.0)\n",
            "Requirement already satisfied: importlib-metadata>=0.20; python_version < \"3.8\" in /usr/local/lib/python3.7/dist-packages (from catalogue<1.1.0,>=0.0.7->spacy>=2.2.2->de_core_news_sm==2.2.5) (3.4.0)\n",
            "Requirement already satisfied: idna<3,>=2.5 in /usr/local/lib/python3.7/dist-packages (from requests<3.0.0,>=2.13.0->spacy>=2.2.2->de_core_news_sm==2.2.5) (2.10)\n",
            "Requirement already satisfied: chardet<4,>=3.0.2 in /usr/local/lib/python3.7/dist-packages (from requests<3.0.0,>=2.13.0->spacy>=2.2.2->de_core_news_sm==2.2.5) (3.0.4)\n",
            "Requirement already satisfied: certifi>=2017.4.17 in /usr/local/lib/python3.7/dist-packages (from requests<3.0.0,>=2.13.0->spacy>=2.2.2->de_core_news_sm==2.2.5) (2020.12.5)\n",
            "Requirement already satisfied: urllib3!=1.25.0,!=1.25.1,<1.26,>=1.21.1 in /usr/local/lib/python3.7/dist-packages (from requests<3.0.0,>=2.13.0->spacy>=2.2.2->de_core_news_sm==2.2.5) (1.24.3)\n",
            "Requirement already satisfied: zipp>=0.5 in /usr/local/lib/python3.7/dist-packages (from importlib-metadata>=0.20; python_version < \"3.8\"->catalogue<1.1.0,>=0.0.7->spacy>=2.2.2->de_core_news_sm==2.2.5) (3.4.0)\n",
            "Requirement already satisfied: typing-extensions>=3.6.4; python_version < \"3.8\" in /usr/local/lib/python3.7/dist-packages (from importlib-metadata>=0.20; python_version < \"3.8\"->catalogue<1.1.0,>=0.0.7->spacy>=2.2.2->de_core_news_sm==2.2.5) (3.7.4.3)\n",
            "Building wheels for collected packages: de-core-news-sm\n",
            "  Building wheel for de-core-news-sm (setup.py) ... \u001b[?25l\u001b[?25hdone\n",
            "  Created wheel for de-core-news-sm: filename=de_core_news_sm-2.2.5-cp37-none-any.whl size=14907057 sha256=e193dd71184143b246d5c2eeb37d36b1e6c2c94af1e377f87be06edae1737e35\n",
            "  Stored in directory: /tmp/pip-ephem-wheel-cache-ue8wctuh/wheels/ba/3f/ed/d4aa8e45e7191b7f32db4bfad565e7da1edbf05c916ca7a1ca\n",
            "Successfully built de-core-news-sm\n",
            "Installing collected packages: de-core-news-sm\n",
            "Successfully installed de-core-news-sm-2.2.5\n",
            "\u001b[38;5;2m✔ Download and installation successful\u001b[0m\n",
            "You can now load the model via spacy.load('de_core_news_sm')\n",
            "\u001b[38;5;2m✔ Linking successful\u001b[0m\n",
            "/usr/local/lib/python3.7/dist-packages/de_core_news_sm -->\n",
            "/usr/local/lib/python3.7/dist-packages/spacy/data/de\n",
            "You can now load the model via spacy.load('de')\n"
          ],
          "name": "stdout"
        }
      ]
    },
    {
      "cell_type": "code",
      "metadata": {
        "id": "pKCPu1dIPUBM"
      },
      "source": [
        "spacy_en = spacy.load('en')"
      ],
      "execution_count": 16,
      "outputs": []
    },
    {
      "cell_type": "code",
      "metadata": {
        "id": "dJobikf2PbKh"
      },
      "source": [
        "def tokenize_en(text):\r\n",
        "  \"\"\"\r\n",
        "  Tokenizes English text from a string into a list of strings\r\n",
        "  \"\"\"\r\n",
        "  return [tok.text for tok in spacy_en.tokenizer(text)]"
      ],
      "execution_count": 17,
      "outputs": []
    },
    {
      "cell_type": "code",
      "metadata": {
        "id": "j0x2RRjmPoj-"
      },
      "source": [
        "SRC = Field(tokenize = tokenize_en, \r\n",
        "            init_token = '<sos>', \r\n",
        "            eos_token = '<eos>', \r\n",
        "            lower = True, \r\n",
        "            batch_first = True)\r\n",
        "\r\n",
        "TRG = Field(tokenize = tokenize_en, \r\n",
        "            init_token = '<sos>', \r\n",
        "            eos_token = '<eos>', \r\n",
        "            lower = True, \r\n",
        "            batch_first = True)"
      ],
      "execution_count": 18,
      "outputs": []
    },
    {
      "cell_type": "code",
      "metadata": {
        "colab": {
          "base_uri": "https://localhost:8080/",
          "height": 69
        },
        "id": "UI2xfmQXTwCy",
        "outputId": "59c1d047-2bc6-4a27-bf53-04b79c8b0f53"
      },
      "source": [
        "'''\r\n",
        "class Dataset(Dataset):\r\n",
        "\r\n",
        "    def __init__(self):\r\n",
        "\r\n",
        "        self.pairs = pairs\r\n",
        "        self.dataset_size = len(self.pairs)\r\n",
        "\r\n",
        "    def __getitem__(self, i):\r\n",
        "        \r\n",
        "        question = torch.LongTensor(self.pairs[i][0])\r\n",
        "        reply = torch.LongTensor(self.pairs[i][1])\r\n",
        "            \r\n",
        "        return question, reply\r\n",
        "\r\n",
        "    def __len__(self):\r\n",
        "        return self.dataset_size\r\n",
        "    \r\n",
        "    train_loader = torch.utils.data.DataLoader(Dataset(),\r\n",
        "                                           batch_size = 100, \r\n",
        "                                           shuffle=True, \r\n",
        "                                           pin_memory=True)\r\n",
        "    question, reply = next(iter(train_loader))\r\n",
        "'''"
      ],
      "execution_count": 19,
      "outputs": [
        {
          "output_type": "execute_result",
          "data": {
            "application/vnd.google.colaboratory.intrinsic+json": {
              "type": "string"
            },
            "text/plain": [
              "'\\nclass Dataset(Dataset):\\n\\n    def __init__(self):\\n\\n        self.pairs = pairs\\n        self.dataset_size = len(self.pairs)\\n\\n    def __getitem__(self, i):\\n        \\n        question = torch.LongTensor(self.pairs[i][0])\\n        reply = torch.LongTensor(self.pairs[i][1])\\n            \\n        return question, reply\\n\\n    def __len__(self):\\n        return self.dataset_size\\n    \\n    train_loader = torch.utils.data.DataLoader(Dataset(),\\n                                           batch_size = 100, \\n                                           shuffle=True, \\n                                           pin_memory=True)\\n    question, reply = next(iter(train_loader))\\n'"
            ]
          },
          "metadata": {
            "tags": []
          },
          "execution_count": 19
        }
      ]
    },
    {
      "cell_type": "code",
      "metadata": {
        "colab": {
          "base_uri": "https://localhost:8080/"
        },
        "id": "-GaKug4roePM",
        "outputId": "de80a63a-c457-4e4a-deab-6a12b36ae1a0"
      },
      "source": [
        "pairs.sort(key=lambda x: len(x[0].split(\" \")), reverse=True)\r\n",
        "fields = [('source', SRC), ('target', TRG)]\r\n",
        "chat_len = len(pairs)\r\n",
        "chat_pair = pairs[:chat_len]\r\n",
        "chat_examples = [Example.fromlist([chat_pair[i][0], chat_pair[i][1]], fields) for i in range(chat_len)]\r\n",
        "chat_dataset = Dataset(chat_examples,fields)\r\n",
        "train_data, test_data, valid_data = chat_dataset.split(split_ratio=[0.80, 0.10, 0.10], stratified=False)\r\n",
        "print(len(train_data), len(valid_data), len(test_data))"
      ],
      "execution_count": 20,
      "outputs": [
        {
          "output_type": "stream",
          "text": [
            "42532 5316 5317\n"
          ],
          "name": "stdout"
        }
      ]
    },
    {
      "cell_type": "code",
      "metadata": {
        "colab": {
          "base_uri": "https://localhost:8080/",
          "height": 86
        },
        "id": "ICI3xNO3z7sN",
        "outputId": "c28cea56-0cce-4b07-cc24-d46b5fdd10e2"
      },
      "source": [
        "'''\r\n",
        "#sort the pairs based on  questions\r\n",
        "pairs.sort(key=lambda x: len(x[0].split(\" \")), reverse=True)\r\n",
        "fields = [('source', SRC), ('target', TRG)]\r\n",
        "print(len(pairs))\r\n",
        "train_len = int(0.90*len(pairs))\r\n",
        "valid_len = int(0.99*len(pairs))\r\n",
        "test_len = int(len(pairs))\r\n",
        "\r\n",
        "train_len, valid_len, test_len\r\n",
        "train_pair, valid_pair, test_pair = pairs[:train_len], pairs[train_len:valid_len], pairs[valid_len:test_len]\r\n",
        "train_example = [Example.fromlist([train_pair[i][0], train_pair[i][1]], fields) for i in range(train_len)]\r\n",
        "train_data = Dataset(train_example, fields)\r\n",
        "valid_example = [Example.fromlist([pairs[i][0], pairs[i][1]], fields) for i in range(train_len, valid_len)]\r\n",
        "valid_data = Dataset(valid_example, fields)\r\n",
        "test_example = [Example.fromlist([pairs[i][0], pairs[i][1]], fields) for i in range(valid_len, test_len)]\r\n",
        "test_data = Dataset(test_example, fields)\r\n",
        "#vars(list(train_data)[1])\r\n",
        "'''"
      ],
      "execution_count": 21,
      "outputs": [
        {
          "output_type": "execute_result",
          "data": {
            "application/vnd.google.colaboratory.intrinsic+json": {
              "type": "string"
            },
            "text/plain": [
              "'\\n#sort the pairs based on  questions\\npairs.sort(key=lambda x: len(x[0].split(\" \")), reverse=True)\\nfields = [(\\'source\\', SRC), (\\'target\\', TRG)]\\nprint(len(pairs))\\ntrain_len = int(0.90*len(pairs))\\nvalid_len = int(0.99*len(pairs))\\ntest_len = int(len(pairs))\\n\\ntrain_len, valid_len, test_len\\ntrain_pair, valid_pair, test_pair = pairs[:train_len], pairs[train_len:valid_len], pairs[valid_len:test_len]\\ntrain_example = [Example.fromlist([train_pair[i][0], train_pair[i][1]], fields) for i in range(train_len)]\\ntrain_data = Dataset(train_example, fields)\\nvalid_example = [Example.fromlist([pairs[i][0], pairs[i][1]], fields) for i in range(train_len, valid_len)]\\nvalid_data = Dataset(valid_example, fields)\\ntest_example = [Example.fromlist([pairs[i][0], pairs[i][1]], fields) for i in range(valid_len, test_len)]\\ntest_data = Dataset(test_example, fields)\\n#vars(list(train_data)[1])\\n'"
            ]
          },
          "metadata": {
            "tags": []
          },
          "execution_count": 21
        }
      ]
    },
    {
      "cell_type": "code",
      "metadata": {
        "id": "pyHr9YSeTDtG"
      },
      "source": [
        "SRC.build_vocab(train_data, min_freq = 2)\r\n",
        "TRG.build_vocab(train_data, min_freq = 2)\r\n"
      ],
      "execution_count": 22,
      "outputs": []
    },
    {
      "cell_type": "markdown",
      "metadata": {
        "id": "Xknq0xrlGB9A"
      },
      "source": [
        "![image.png](data:image/png;base64,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)"
      ]
    },
    {
      "cell_type": "code",
      "metadata": {
        "id": "V5191fIZTF2v"
      },
      "source": [
        "BATCH_SIZE = 128\r\n",
        "\r\n",
        "train_iterator, valid_iterator, test_iterator = BucketIterator.splits(\r\n",
        "    (train_data, valid_data, test_data), \r\n",
        "     batch_size = BATCH_SIZE,\r\n",
        "     device = device, sort=False)"
      ],
      "execution_count": 23,
      "outputs": []
    },
    {
      "cell_type": "code",
      "metadata": {
        "id": "Wu9FnW7TWhk-"
      },
      "source": [
        "class Encoder(nn.Module):\r\n",
        "    def __init__(self, \r\n",
        "                 input_dim, \r\n",
        "                 hid_dim, \r\n",
        "                 n_layers, \r\n",
        "                 n_heads, \r\n",
        "                 pf_dim,\r\n",
        "                 dropout, \r\n",
        "                 device,\r\n",
        "                 max_length = 100):\r\n",
        "        super().__init__()\r\n",
        "\r\n",
        "        self.device = device\r\n",
        "        \r\n",
        "        self.tok_embedding = nn.Embedding(input_dim, hid_dim)\r\n",
        "        self.pos_embedding = nn.Embedding(max_length, hid_dim)\r\n",
        "        \r\n",
        "        self.layers = nn.ModuleList([EncoderLayer(hid_dim, \r\n",
        "                                                  n_heads, \r\n",
        "                                                  pf_dim,\r\n",
        "                                                  dropout, \r\n",
        "                                                  device) \r\n",
        "                                     for _ in range(n_layers)])\r\n",
        "        \r\n",
        "        self.dropout = nn.Dropout(dropout)\r\n",
        "        \r\n",
        "        self.scale = torch.sqrt(torch.FloatTensor([hid_dim])).to(device)\r\n",
        "\r\n",
        "    def forward(self, src, src_mask):\r\n",
        "        \r\n",
        "        #src = [batch size, src len]\r\n",
        "        #src_mask = [batch size, 1, 1, src len]\r\n",
        "        \r\n",
        "        batch_size = src.shape[0]\r\n",
        "        src_len = src.shape[1]\r\n",
        "        \r\n",
        "        pos = torch.arange(0, src_len).unsqueeze(0).repeat(batch_size, 1).to(self.device)\r\n",
        "        \r\n",
        "        #pos = [batch size, src len]\r\n",
        "        \r\n",
        "        src = self.dropout((self.tok_embedding(src) * self.scale) + self.pos_embedding(pos))\r\n",
        "        \r\n",
        "        #src = [batch size, src len, hid dim]\r\n",
        "        \r\n",
        "        for layer in self.layers:\r\n",
        "            src = layer(src, src_mask)\r\n",
        "            \r\n",
        "        #src = [batch size, src len, hid dim]\r\n",
        "            \r\n",
        "        return src"
      ],
      "execution_count": 24,
      "outputs": []
    },
    {
      "cell_type": "code",
      "metadata": {
        "id": "ZmDpKZnyXD9p"
      },
      "source": [
        "class EncoderLayer(nn.Module):\r\n",
        "    def __init__(self, \r\n",
        "                 hid_dim, \r\n",
        "                 n_heads, \r\n",
        "                 pf_dim,  \r\n",
        "                 dropout, \r\n",
        "                 device):\r\n",
        "        super().__init__()\r\n",
        "        \r\n",
        "        self.self_attn_layer_norm = nn.LayerNorm(hid_dim)\r\n",
        "        self.ff_layer_norm = nn.LayerNorm(hid_dim)\r\n",
        "        self.self_attention = MultiHeadAttentionLayer(hid_dim, n_heads, dropout, device)\r\n",
        "        self.positionwise_feedforward = PositionwiseFeedforwardLayer(hid_dim, \r\n",
        "                                                                     pf_dim, \r\n",
        "                                                                     dropout)\r\n",
        "        self.dropout = nn.Dropout(dropout)\r\n",
        "        \r\n",
        "    def forward(self, src, src_mask):\r\n",
        "        \r\n",
        "        #src = [batch size, src len, hid dim]\r\n",
        "        #src_mask = [batch size, 1, 1, src len] \r\n",
        "                \r\n",
        "        #self attention\r\n",
        "        _src, _ = self.self_attention(src, src, src, src_mask)\r\n",
        "        \r\n",
        "        #dropout, residual connection and layer norm\r\n",
        "        src = self.self_attn_layer_norm(src + self.dropout(_src))\r\n",
        "        \r\n",
        "        #src = [batch size, src len, hid dim]\r\n",
        "        \r\n",
        "        #positionwise feedforward\r\n",
        "        _src = self.positionwise_feedforward(src)\r\n",
        "        \r\n",
        "        #dropout, residual and layer norm\r\n",
        "        src = self.ff_layer_norm(src + self.dropout(_src))\r\n",
        "        \r\n",
        "        #src = [batch size, src len, hid dim]\r\n",
        "        \r\n",
        "        return src"
      ],
      "execution_count": 25,
      "outputs": []
    },
    {
      "cell_type": "code",
      "metadata": {
        "id": "Zb85VS7tXe0x"
      },
      "source": [
        "class MultiHeadAttentionLayer(nn.Module):\r\n",
        "    def __init__(self, hid_dim, n_heads, dropout, device):\r\n",
        "        super().__init__()\r\n",
        "        \r\n",
        "        assert hid_dim % n_heads == 0\r\n",
        "        \r\n",
        "        self.hid_dim = hid_dim\r\n",
        "        self.n_heads = n_heads\r\n",
        "        self.head_dim = hid_dim // n_heads\r\n",
        "        \r\n",
        "        self.fc_q = nn.Linear(hid_dim, hid_dim)\r\n",
        "        self.fc_k = nn.Linear(hid_dim, hid_dim)\r\n",
        "        self.fc_v = nn.Linear(hid_dim, hid_dim)\r\n",
        "        \r\n",
        "        self.fc_o = nn.Linear(hid_dim, hid_dim)\r\n",
        "        \r\n",
        "        self.dropout = nn.Dropout(dropout)\r\n",
        "        \r\n",
        "        self.scale = torch.sqrt(torch.FloatTensor([self.head_dim])).to(device)\r\n",
        "    def forward(self, query, key, value, mask = None):\r\n",
        "        \r\n",
        "        batch_size = query.shape[0]\r\n",
        "        \r\n",
        "        #query = [batch size, query len, hid dim]\r\n",
        "        #key = [batch size, key len, hid dim]\r\n",
        "        #value = [batch size, value len, hid dim]\r\n",
        "                \r\n",
        "        Q = self.fc_q(query)\r\n",
        "        K = self.fc_k(key)\r\n",
        "        V = self.fc_v(value)\r\n",
        "        \r\n",
        "        #Q = [batch size, query len, hid dim]\r\n",
        "        #K = [batch size, key len, hid dim]\r\n",
        "        #V = [batch size, value len, hid dim]\r\n",
        "                \r\n",
        "        Q = Q.view(batch_size, -1, self.n_heads, self.head_dim).permute(0, 2, 1, 3)\r\n",
        "        K = K.view(batch_size, -1, self.n_heads, self.head_dim).permute(0, 2, 1, 3)\r\n",
        "        V = V.view(batch_size, -1, self.n_heads, self.head_dim).permute(0, 2, 1, 3)\r\n",
        "        \r\n",
        "        #Q = [batch size, n heads, query len, head dim]\r\n",
        "        #K = [batch size, n heads, key len, head dim]\r\n",
        "        #V = [batch size, n heads, value len, head dim]\r\n",
        "                \r\n",
        "        energy = torch.matmul(Q, K.permute(0, 1, 3, 2)) / self.scale\r\n",
        "        \r\n",
        "        #energy = [batch size, n heads, query len, key len]\r\n",
        "        \r\n",
        "        if mask is not None:\r\n",
        "            energy = energy.masked_fill(mask == 0, -1e10)\r\n",
        "        \r\n",
        "        attention = torch.softmax(energy, dim = -1)\r\n",
        "                \r\n",
        "        #attention = [batch size, n heads, query len, key len]\r\n",
        "                \r\n",
        "        x = torch.matmul(self.dropout(attention), V)\r\n",
        "        \r\n",
        "        #x = [batch size, n heads, query len, head dim]\r\n",
        "        \r\n",
        "        x = x.permute(0, 2, 1, 3).contiguous()\r\n",
        "\r\n",
        "        #x = [batch size, query len, n heads, head dim]\r\n",
        "        \r\n",
        "        x = x.view(batch_size, -1, self.hid_dim)\r\n",
        "        \r\n",
        "        #x = [batch size, query len, hid dim]\r\n",
        "        \r\n",
        "        x = self.fc_o(x)\r\n",
        "        \r\n",
        "        #x = [batch size, query len, hid dim]\r\n",
        "        \r\n",
        "        return x, attention"
      ],
      "execution_count": 26,
      "outputs": []
    },
    {
      "cell_type": "code",
      "metadata": {
        "id": "Lch1MydiX0aY"
      },
      "source": [
        "class PositionwiseFeedforwardLayer(nn.Module):\r\n",
        "    def __init__(self, hid_dim, pf_dim, dropout):\r\n",
        "        super().__init__()\r\n",
        "        \r\n",
        "        self.fc_1 = nn.Linear(hid_dim, pf_dim)\r\n",
        "        self.fc_2 = nn.Linear(pf_dim, hid_dim)\r\n",
        "        \r\n",
        "        self.dropout = nn.Dropout(dropout)\r\n",
        "        \r\n",
        "    def forward(self, x):\r\n",
        "        \r\n",
        "        #x = [batch size, seq len, hid dim]\r\n",
        "        \r\n",
        "        x = self.dropout(torch.relu(self.fc_1(x)))\r\n",
        "        \r\n",
        "        #x = [batch size, seq len, pf dim]\r\n",
        "        \r\n",
        "        x = self.fc_2(x)\r\n",
        "        \r\n",
        "        #x = [batch size, seq len, hid dim]\r\n",
        "        \r\n",
        "        return x"
      ],
      "execution_count": 27,
      "outputs": []
    },
    {
      "cell_type": "code",
      "metadata": {
        "id": "noGB5A25X5us"
      },
      "source": [
        "class Decoder(nn.Module):\r\n",
        "    def __init__(self, \r\n",
        "                 output_dim, \r\n",
        "                 hid_dim, \r\n",
        "                 n_layers, \r\n",
        "                 n_heads, \r\n",
        "                 pf_dim, \r\n",
        "                 dropout, \r\n",
        "                 device,\r\n",
        "                 max_length = 100):\r\n",
        "        super().__init__()\r\n",
        "        \r\n",
        "        self.device = device\r\n",
        "        \r\n",
        "        self.tok_embedding = nn.Embedding(output_dim, hid_dim)\r\n",
        "        self.pos_embedding = nn.Embedding(max_length, hid_dim)\r\n",
        "        \r\n",
        "        self.layers = nn.ModuleList([DecoderLayer(hid_dim, \r\n",
        "                                                  n_heads, \r\n",
        "                                                  pf_dim, \r\n",
        "                                                  dropout, \r\n",
        "                                                  device)\r\n",
        "                                     for _ in range(n_layers)])\r\n",
        "        \r\n",
        "        self.fc_out = nn.Linear(hid_dim, output_dim)\r\n",
        "        \r\n",
        "        self.dropout = nn.Dropout(dropout)\r\n",
        "        \r\n",
        "        self.scale = torch.sqrt(torch.FloatTensor([hid_dim])).to(device)\r\n",
        "    \r\n",
        "    def forward(self, trg, enc_src, trg_mask, src_mask):\r\n",
        "        \r\n",
        "        #trg = [batch size, trg len]\r\n",
        "        #enc_src = [batch size, src len, hid dim]\r\n",
        "        #trg_mask = [batch size, 1, trg len, trg len]\r\n",
        "        #src_mask = [batch size, 1, 1, src len]\r\n",
        "        batch_size = trg.shape[0]\r\n",
        "        trg_len = trg.shape[1]\r\n",
        "        \r\n",
        "        pos = torch.arange(0, trg_len).unsqueeze(0).repeat(batch_size, 1).to(self.device)\r\n",
        "                            \r\n",
        "        #pos = [batch size, trg len]\r\n",
        "            \r\n",
        "        trg = self.dropout((self.tok_embedding(trg) * self.scale) + self.pos_embedding(pos))\r\n",
        "                \r\n",
        "        #trg = [batch size, trg len, hid dim]\r\n",
        "        \r\n",
        "        for layer in self.layers:\r\n",
        "            trg, attention = layer(trg, enc_src, trg_mask, src_mask)\r\n",
        "        \r\n",
        "        #trg = [batch size, trg len, hid dim]\r\n",
        "        #attention = [batch size, n heads, trg len, src len]\r\n",
        "        \r\n",
        "        output = self.fc_out(trg)\r\n",
        "        output = F.softmax(output, dim=1)\r\n",
        "        \r\n",
        "        #output = [batch size, trg len, output dim]\r\n",
        "            \r\n",
        "        return output, attention"
      ],
      "execution_count": 28,
      "outputs": []
    },
    {
      "cell_type": "code",
      "metadata": {
        "id": "H_MUET6XYnpW"
      },
      "source": [
        "class DecoderLayer(nn.Module):\r\n",
        "    def __init__(self, \r\n",
        "                 hid_dim, \r\n",
        "                 n_heads, \r\n",
        "                 pf_dim, \r\n",
        "                 dropout, \r\n",
        "                 device):\r\n",
        "        super().__init__()\r\n",
        "        \r\n",
        "        self.self_attn_layer_norm = nn.LayerNorm(hid_dim)\r\n",
        "        self.enc_attn_layer_norm = nn.LayerNorm(hid_dim)\r\n",
        "        self.ff_layer_norm = nn.LayerNorm(hid_dim)\r\n",
        "        self.self_attention = MultiHeadAttentionLayer(hid_dim, n_heads, dropout, device)\r\n",
        "        self.encoder_attention = MultiHeadAttentionLayer(hid_dim, n_heads, dropout, device)\r\n",
        "        self.positionwise_feedforward = PositionwiseFeedforwardLayer(hid_dim, \r\n",
        "                                                                     pf_dim, \r\n",
        "                                                                     dropout)\r\n",
        "        self.dropout = nn.Dropout(dropout)\r\n",
        "\r\n",
        "        \r\n",
        "    def forward(self, trg, enc_src, trg_mask, src_mask):\r\n",
        "        \r\n",
        "        #trg = [batch size, trg len, hid dim]\r\n",
        "        #enc_src = [batch size, src len, hid dim]\r\n",
        "        #trg_mask = [batch size, 1, trg len, trg len]\r\n",
        "        #src_mask = [batch size, 1, 1, src len]\r\n",
        "        \r\n",
        "        #self attention\r\n",
        "        _trg, _ = self.self_attention(trg, trg, trg, trg_mask)\r\n",
        "        \r\n",
        "        #dropout, residual connection and layer norm\r\n",
        "        trg = self.self_attn_layer_norm(trg + self.dropout(_trg))\r\n",
        "            \r\n",
        "        #trg = [batch size, trg len, hid dim]\r\n",
        "            \r\n",
        "        #encoder attention\r\n",
        "        _trg, attention = self.encoder_attention(trg, enc_src, enc_src, src_mask)\r\n",
        "        # query, key, value\r\n",
        "        \r\n",
        "        #dropout, residual connection and layer norm\r\n",
        "        trg = self.enc_attn_layer_norm(trg + self.dropout(_trg))\r\n",
        "                    \r\n",
        "        #trg = [batch size, trg len, hid dim]\r\n",
        "        \r\n",
        "        #positionwise feedforward\r\n",
        "        _trg = self.positionwise_feedforward(trg)\r\n",
        "        \r\n",
        "        #dropout, residual and layer norm\r\n",
        "        trg = self.ff_layer_norm(trg + self.dropout(_trg))\r\n",
        "        \r\n",
        "        #trg = [batch size, trg len, hid dim]\r\n",
        "        #attention = [batch size, n heads, trg len, src len]\r\n",
        "        \r\n",
        "        return trg, attention"
      ],
      "execution_count": 29,
      "outputs": []
    },
    {
      "cell_type": "code",
      "metadata": {
        "id": "Ymjfa76tY90x"
      },
      "source": [
        "class Seq2Seq(nn.Module):\r\n",
        "    def __init__(self, \r\n",
        "                 encoder, \r\n",
        "                 decoder, \r\n",
        "                 src_pad_idx, \r\n",
        "                 trg_pad_idx, \r\n",
        "                 device):\r\n",
        "        super().__init__()\r\n",
        "        \r\n",
        "        self.encoder = encoder\r\n",
        "        self.decoder = decoder\r\n",
        "        self.src_pad_idx = src_pad_idx\r\n",
        "        self.trg_pad_idx = trg_pad_idx\r\n",
        "        self.device = device\r\n",
        "        \r\n",
        "    def make_src_mask(self, src):\r\n",
        "        \r\n",
        "        #src = [batch size, src len]\r\n",
        "        \r\n",
        "        src_mask = (src != self.src_pad_idx).unsqueeze(1).unsqueeze(2)\r\n",
        "\r\n",
        "        #src_mask = [batch size, 1, 1, src len]\r\n",
        "\r\n",
        "        return src_mask\r\n",
        "    def make_trg_mask(self, trg):\r\n",
        "        \r\n",
        "        #trg = [batch size, trg len]\r\n",
        "        \r\n",
        "\r\n",
        "        trg_pad_mask = (trg != self.trg_pad_idx).unsqueeze(1).unsqueeze(2)\r\n",
        "        \r\n",
        "        trg_pad_mask_squeezed = (trg != self.trg_pad_idx).view(-1)\r\n",
        "        \r\n",
        "        #trg_pad_mask = [batch size, 1, 1, trg len]\r\n",
        "        \r\n",
        "        trg_len = trg.shape[1]\r\n",
        "        \r\n",
        "        trg_sub_mask = torch.tril(torch.ones((trg_len, trg_len), device = self.device)).bool()\r\n",
        "        \r\n",
        "        #trg_sub_mask = [trg len, trg len]\r\n",
        "            \r\n",
        "        trg_mask = trg_pad_mask & trg_sub_mask\r\n",
        "        \r\n",
        "        #trg_mask = [batch size, 1, trg len, trg len]\r\n",
        "        \r\n",
        "        return trg_mask, trg_pad_mask_squeezed\r\n",
        "\r\n",
        "    def forward(self, src, trg):\r\n",
        "        \r\n",
        "        #src = [batch size, src len]\r\n",
        "        #trg = [batch size, trg len]\r\n",
        "                \r\n",
        "        src_mask = self.make_src_mask(src)\r\n",
        "        trg_mask, trg_pad_mask_squeezed = self.make_trg_mask(trg)\r\n",
        "        \r\n",
        "        #src_mask = [batch size, 1, 1, src len]\r\n",
        "        #trg_mask = [batch size, 1, trg len, trg len]\r\n",
        "        \r\n",
        "        enc_src = self.encoder(src, src_mask)\r\n",
        "        \r\n",
        "        #enc_src = [batch size, src len, hid dim]\r\n",
        "                \r\n",
        "        output, attention = self.decoder(trg, enc_src, trg_mask, src_mask)\r\n",
        "\r\n",
        "        #output = [batch size, trg len, output dim]\r\n",
        "        #attention = [batch size, n heads, trg len, src len]\r\n",
        "        \r\n",
        "        return output, attention, trg_pad_mask_squeezed"
      ],
      "execution_count": 30,
      "outputs": []
    },
    {
      "cell_type": "code",
      "metadata": {
        "id": "qU36aATEZerT"
      },
      "source": [
        "INPUT_DIM = len(SRC.vocab)\r\n",
        "OUTPUT_DIM = len(TRG.vocab)\r\n",
        "HID_DIM = 256\r\n",
        "ENC_LAYERS = 3\r\n",
        "DEC_LAYERS = 3\r\n",
        "ENC_HEADS = 8\r\n",
        "DEC_HEADS = 8\r\n",
        "ENC_PF_DIM = 512\r\n",
        "DEC_PF_DIM = 512\r\n",
        "ENC_DROPOUT = 0.1\r\n",
        "DEC_DROPOUT = 0.1\r\n",
        "MAX_TARGET_LEN = 100\r\n",
        "\r\n",
        "enc = Encoder(INPUT_DIM, \r\n",
        "              HID_DIM, \r\n",
        "              ENC_LAYERS, \r\n",
        "              ENC_HEADS, \r\n",
        "              ENC_PF_DIM, \r\n",
        "              ENC_DROPOUT, \r\n",
        "              device, \r\n",
        "              MAX_TARGET_LEN)\r\n",
        "\r\n",
        "dec = Decoder(OUTPUT_DIM, \r\n",
        "              HID_DIM, \r\n",
        "              DEC_LAYERS, \r\n",
        "              DEC_HEADS, \r\n",
        "              DEC_PF_DIM, \r\n",
        "              DEC_DROPOUT, \r\n",
        "              device,\r\n",
        "              MAX_TARGET_LEN)"
      ],
      "execution_count": 31,
      "outputs": []
    },
    {
      "cell_type": "code",
      "metadata": {
        "id": "Jqp1DkQuZfl3"
      },
      "source": [
        "SRC_PAD_IDX = SRC.vocab.stoi[SRC.pad_token]\r\n",
        "TRG_PAD_IDX = TRG.vocab.stoi[TRG.pad_token]\r\n",
        "\r\n",
        "model = Seq2Seq(enc, dec, SRC_PAD_IDX, TRG_PAD_IDX, device).to(device)"
      ],
      "execution_count": 32,
      "outputs": []
    },
    {
      "cell_type": "code",
      "metadata": {
        "colab": {
          "base_uri": "https://localhost:8080/"
        },
        "id": "SqCo_1wBZvNO",
        "outputId": "72f87c4c-9852-4d7d-e8e1-cc35a44bbe68"
      },
      "source": [
        "def count_parameters(model):\r\n",
        "    return sum(p.numel() for p in model.parameters() if p.requires_grad)\r\n",
        "\r\n",
        "print(f'The model has {count_parameters(model):,} trainable parameters')"
      ],
      "execution_count": 33,
      "outputs": [
        {
          "output_type": "stream",
          "text": [
            "The model has 7,839,566 trainable parameters\n"
          ],
          "name": "stdout"
        }
      ]
    },
    {
      "cell_type": "code",
      "metadata": {
        "id": "GW12jzwcZ0Ct"
      },
      "source": [
        "def initialize_weights(m):\r\n",
        "    if hasattr(m, 'weight') and m.weight.dim() > 1:\r\n",
        "        nn.init.xavier_uniform_(m.weight.data)"
      ],
      "execution_count": 34,
      "outputs": []
    },
    {
      "cell_type": "code",
      "metadata": {
        "colab": {
          "base_uri": "https://localhost:8080/"
        },
        "id": "EF3hztKvZ3xg",
        "outputId": "0017f845-c197-4837-c3a6-b4632c76562b"
      },
      "source": [
        "model.apply(initialize_weights)"
      ],
      "execution_count": 35,
      "outputs": [
        {
          "output_type": "execute_result",
          "data": {
            "text/plain": [
              "Seq2Seq(\n",
              "  (encoder): Encoder(\n",
              "    (tok_embedding): Embedding(5076, 256)\n",
              "    (pos_embedding): Embedding(100, 256)\n",
              "    (layers): ModuleList(\n",
              "      (0): EncoderLayer(\n",
              "        (self_attn_layer_norm): LayerNorm((256,), eps=1e-05, elementwise_affine=True)\n",
              "        (ff_layer_norm): LayerNorm((256,), eps=1e-05, elementwise_affine=True)\n",
              "        (self_attention): MultiHeadAttentionLayer(\n",
              "          (fc_q): Linear(in_features=256, out_features=256, bias=True)\n",
              "          (fc_k): Linear(in_features=256, out_features=256, bias=True)\n",
              "          (fc_v): Linear(in_features=256, out_features=256, bias=True)\n",
              "          (fc_o): Linear(in_features=256, out_features=256, bias=True)\n",
              "          (dropout): Dropout(p=0.1, inplace=False)\n",
              "        )\n",
              "        (positionwise_feedforward): PositionwiseFeedforwardLayer(\n",
              "          (fc_1): Linear(in_features=256, out_features=512, bias=True)\n",
              "          (fc_2): Linear(in_features=512, out_features=256, bias=True)\n",
              "          (dropout): Dropout(p=0.1, inplace=False)\n",
              "        )\n",
              "        (dropout): Dropout(p=0.1, inplace=False)\n",
              "      )\n",
              "      (1): EncoderLayer(\n",
              "        (self_attn_layer_norm): LayerNorm((256,), eps=1e-05, elementwise_affine=True)\n",
              "        (ff_layer_norm): LayerNorm((256,), eps=1e-05, elementwise_affine=True)\n",
              "        (self_attention): MultiHeadAttentionLayer(\n",
              "          (fc_q): Linear(in_features=256, out_features=256, bias=True)\n",
              "          (fc_k): Linear(in_features=256, out_features=256, bias=True)\n",
              "          (fc_v): Linear(in_features=256, out_features=256, bias=True)\n",
              "          (fc_o): Linear(in_features=256, out_features=256, bias=True)\n",
              "          (dropout): Dropout(p=0.1, inplace=False)\n",
              "        )\n",
              "        (positionwise_feedforward): PositionwiseFeedforwardLayer(\n",
              "          (fc_1): Linear(in_features=256, out_features=512, bias=True)\n",
              "          (fc_2): Linear(in_features=512, out_features=256, bias=True)\n",
              "          (dropout): Dropout(p=0.1, inplace=False)\n",
              "        )\n",
              "        (dropout): Dropout(p=0.1, inplace=False)\n",
              "      )\n",
              "      (2): EncoderLayer(\n",
              "        (self_attn_layer_norm): LayerNorm((256,), eps=1e-05, elementwise_affine=True)\n",
              "        (ff_layer_norm): LayerNorm((256,), eps=1e-05, elementwise_affine=True)\n",
              "        (self_attention): MultiHeadAttentionLayer(\n",
              "          (fc_q): Linear(in_features=256, out_features=256, bias=True)\n",
              "          (fc_k): Linear(in_features=256, out_features=256, bias=True)\n",
              "          (fc_v): Linear(in_features=256, out_features=256, bias=True)\n",
              "          (fc_o): Linear(in_features=256, out_features=256, bias=True)\n",
              "          (dropout): Dropout(p=0.1, inplace=False)\n",
              "        )\n",
              "        (positionwise_feedforward): PositionwiseFeedforwardLayer(\n",
              "          (fc_1): Linear(in_features=256, out_features=512, bias=True)\n",
              "          (fc_2): Linear(in_features=512, out_features=256, bias=True)\n",
              "          (dropout): Dropout(p=0.1, inplace=False)\n",
              "        )\n",
              "        (dropout): Dropout(p=0.1, inplace=False)\n",
              "      )\n",
              "    )\n",
              "    (dropout): Dropout(p=0.1, inplace=False)\n",
              "  )\n",
              "  (decoder): Decoder(\n",
              "    (tok_embedding): Embedding(4942, 256)\n",
              "    (pos_embedding): Embedding(100, 256)\n",
              "    (layers): ModuleList(\n",
              "      (0): DecoderLayer(\n",
              "        (self_attn_layer_norm): LayerNorm((256,), eps=1e-05, elementwise_affine=True)\n",
              "        (enc_attn_layer_norm): LayerNorm((256,), eps=1e-05, elementwise_affine=True)\n",
              "        (ff_layer_norm): LayerNorm((256,), eps=1e-05, elementwise_affine=True)\n",
              "        (self_attention): MultiHeadAttentionLayer(\n",
              "          (fc_q): Linear(in_features=256, out_features=256, bias=True)\n",
              "          (fc_k): Linear(in_features=256, out_features=256, bias=True)\n",
              "          (fc_v): Linear(in_features=256, out_features=256, bias=True)\n",
              "          (fc_o): Linear(in_features=256, out_features=256, bias=True)\n",
              "          (dropout): Dropout(p=0.1, inplace=False)\n",
              "        )\n",
              "        (encoder_attention): MultiHeadAttentionLayer(\n",
              "          (fc_q): Linear(in_features=256, out_features=256, bias=True)\n",
              "          (fc_k): Linear(in_features=256, out_features=256, bias=True)\n",
              "          (fc_v): Linear(in_features=256, out_features=256, bias=True)\n",
              "          (fc_o): Linear(in_features=256, out_features=256, bias=True)\n",
              "          (dropout): Dropout(p=0.1, inplace=False)\n",
              "        )\n",
              "        (positionwise_feedforward): PositionwiseFeedforwardLayer(\n",
              "          (fc_1): Linear(in_features=256, out_features=512, bias=True)\n",
              "          (fc_2): Linear(in_features=512, out_features=256, bias=True)\n",
              "          (dropout): Dropout(p=0.1, inplace=False)\n",
              "        )\n",
              "        (dropout): Dropout(p=0.1, inplace=False)\n",
              "      )\n",
              "      (1): DecoderLayer(\n",
              "        (self_attn_layer_norm): LayerNorm((256,), eps=1e-05, elementwise_affine=True)\n",
              "        (enc_attn_layer_norm): LayerNorm((256,), eps=1e-05, elementwise_affine=True)\n",
              "        (ff_layer_norm): LayerNorm((256,), eps=1e-05, elementwise_affine=True)\n",
              "        (self_attention): MultiHeadAttentionLayer(\n",
              "          (fc_q): Linear(in_features=256, out_features=256, bias=True)\n",
              "          (fc_k): Linear(in_features=256, out_features=256, bias=True)\n",
              "          (fc_v): Linear(in_features=256, out_features=256, bias=True)\n",
              "          (fc_o): Linear(in_features=256, out_features=256, bias=True)\n",
              "          (dropout): Dropout(p=0.1, inplace=False)\n",
              "        )\n",
              "        (encoder_attention): MultiHeadAttentionLayer(\n",
              "          (fc_q): Linear(in_features=256, out_features=256, bias=True)\n",
              "          (fc_k): Linear(in_features=256, out_features=256, bias=True)\n",
              "          (fc_v): Linear(in_features=256, out_features=256, bias=True)\n",
              "          (fc_o): Linear(in_features=256, out_features=256, bias=True)\n",
              "          (dropout): Dropout(p=0.1, inplace=False)\n",
              "        )\n",
              "        (positionwise_feedforward): PositionwiseFeedforwardLayer(\n",
              "          (fc_1): Linear(in_features=256, out_features=512, bias=True)\n",
              "          (fc_2): Linear(in_features=512, out_features=256, bias=True)\n",
              "          (dropout): Dropout(p=0.1, inplace=False)\n",
              "        )\n",
              "        (dropout): Dropout(p=0.1, inplace=False)\n",
              "      )\n",
              "      (2): DecoderLayer(\n",
              "        (self_attn_layer_norm): LayerNorm((256,), eps=1e-05, elementwise_affine=True)\n",
              "        (enc_attn_layer_norm): LayerNorm((256,), eps=1e-05, elementwise_affine=True)\n",
              "        (ff_layer_norm): LayerNorm((256,), eps=1e-05, elementwise_affine=True)\n",
              "        (self_attention): MultiHeadAttentionLayer(\n",
              "          (fc_q): Linear(in_features=256, out_features=256, bias=True)\n",
              "          (fc_k): Linear(in_features=256, out_features=256, bias=True)\n",
              "          (fc_v): Linear(in_features=256, out_features=256, bias=True)\n",
              "          (fc_o): Linear(in_features=256, out_features=256, bias=True)\n",
              "          (dropout): Dropout(p=0.1, inplace=False)\n",
              "        )\n",
              "        (encoder_attention): MultiHeadAttentionLayer(\n",
              "          (fc_q): Linear(in_features=256, out_features=256, bias=True)\n",
              "          (fc_k): Linear(in_features=256, out_features=256, bias=True)\n",
              "          (fc_v): Linear(in_features=256, out_features=256, bias=True)\n",
              "          (fc_o): Linear(in_features=256, out_features=256, bias=True)\n",
              "          (dropout): Dropout(p=0.1, inplace=False)\n",
              "        )\n",
              "        (positionwise_feedforward): PositionwiseFeedforwardLayer(\n",
              "          (fc_1): Linear(in_features=256, out_features=512, bias=True)\n",
              "          (fc_2): Linear(in_features=512, out_features=256, bias=True)\n",
              "          (dropout): Dropout(p=0.1, inplace=False)\n",
              "        )\n",
              "        (dropout): Dropout(p=0.1, inplace=False)\n",
              "      )\n",
              "    )\n",
              "    (fc_out): Linear(in_features=256, out_features=4942, bias=True)\n",
              "    (dropout): Dropout(p=0.1, inplace=False)\n",
              "  )\n",
              ")"
            ]
          },
          "metadata": {
            "tags": []
          },
          "execution_count": 35
        }
      ]
    },
    {
      "cell_type": "code",
      "metadata": {
        "id": "Zhgv_xDBZ8dX"
      },
      "source": [
        "LEARNING_RATE = 0.0005\r\n",
        "\r\n",
        "optimizer = torch.optim.Adam(model.parameters(), lr = LEARNING_RATE)"
      ],
      "execution_count": 36,
      "outputs": []
    },
    {
      "cell_type": "code",
      "metadata": {
        "id": "iW3ZCVIRaEcg"
      },
      "source": [
        "#criterion = nn.CrossEntropyLoss(ignore_index = TRG_PAD_IDX)\r\n",
        "def criterion(inp, target, mask):\r\n",
        "    nTotal = mask.sum()\r\n",
        "    crossEntropy = -torch.log(torch.gather(inp, 1, target.view(-1, 1)).squeeze(1))\r\n",
        "    loss = crossEntropy.masked_select(mask).mean()\r\n",
        "    loss = loss.to(device)\r\n",
        "    return loss, nTotal.item()"
      ],
      "execution_count": 37,
      "outputs": []
    },
    {
      "cell_type": "code",
      "metadata": {
        "id": "kWvC_ANlaFjA"
      },
      "source": [
        "def train(model, iterator, optimizer, clip, criterion):\r\n",
        "    \r\n",
        "    model.train()\r\n",
        "    \r\n",
        "    epoch_loss = 0\r\n",
        "    print_losses = []\r\n",
        "    n_totals = 0\r\n",
        "    for i, batch in enumerate(iterator):\r\n",
        "        src = batch.source\r\n",
        "        trg = batch.target\r\n",
        "        \r\n",
        "        optimizer.zero_grad()\r\n",
        "        \r\n",
        "        output, _, mask = model(src, trg[:,:-1])\r\n",
        "\r\n",
        "        #output = [batch size, trg len - 1, output dim]\r\n",
        "        #trg = [batch size, trg len]\r\n",
        "            \r\n",
        "        output_dim = output.shape[-1]\r\n",
        "            \r\n",
        "        output = output.contiguous().view(-1, output_dim)\r\n",
        "        trg = trg[:,1:].contiguous().view(-1)\r\n",
        "\r\n",
        "        #output = [batch size * trg len - 1, output dim]\r\n",
        "        #trg = [batch size * trg len - 1]\r\n",
        "        \r\n",
        "        loss, nTotal = criterion(output, trg, mask)\r\n",
        "        print_losses.append(loss.item() * nTotal)\r\n",
        "        n_totals += nTotal\r\n",
        "        \r\n",
        "        loss.backward()\r\n",
        "        \r\n",
        "        torch.nn.utils.clip_grad_norm_(model.parameters(), clip)\r\n",
        "        \r\n",
        "        optimizer.step()\r\n",
        "        \r\n",
        "        epoch_loss += loss.item()\r\n",
        "      \r\n",
        "    return epoch_loss / len(iterator), sum(print_losses)/n_totals"
      ],
      "execution_count": 38,
      "outputs": []
    },
    {
      "cell_type": "code",
      "metadata": {
        "id": "VecaMRYMav10"
      },
      "source": [
        "def evaluate(model, iterator, criterion):\r\n",
        "    \r\n",
        "    model.eval()\r\n",
        "    \r\n",
        "    epoch_loss = 0\r\n",
        "    print_losses = []\r\n",
        "    n_totals = 0\r\n",
        "    with torch.no_grad():\r\n",
        "    \r\n",
        "        for i, batch in enumerate(iterator):\r\n",
        "            # if i > 1:\r\n",
        "            #   break;\r\n",
        "\r\n",
        "            src = batch.source\r\n",
        "            trg = batch.target\r\n",
        "\r\n",
        "            output, _, mask = model(src, trg[:,:-1])\r\n",
        "            \r\n",
        "            #output = [batch size, trg len - 1, output dim]\r\n",
        "            #trg = [batch size, trg len]\r\n",
        "            \r\n",
        "            output_dim = output.shape[-1]\r\n",
        "            \r\n",
        "            output = output.contiguous().view(-1, output_dim)\r\n",
        "            trg = trg[:,1:].contiguous().view(-1)\r\n",
        "            \r\n",
        "            #output = [batch size * trg len - 1, output dim]\r\n",
        "            #trg = [batch size * trg len - 1]\r\n",
        "            # loss, _ = criterion(output, trg, mask)\r\n",
        "            loss, nTotal = criterion(output, trg, mask)\r\n",
        "        \r\n",
        "            print_losses.append(loss.item() * nTotal)\r\n",
        "            n_totals += nTotal\r\n",
        "            epoch_loss += loss.item()\r\n",
        "        \r\n",
        "    return epoch_loss / len(iterator), sum(print_losses)/n_totals"
      ],
      "execution_count": 39,
      "outputs": []
    },
    {
      "cell_type": "code",
      "metadata": {
        "id": "XvYaxfF8azDU"
      },
      "source": [
        "def epoch_time(start_time, end_time):\r\n",
        "    elapsed_time = end_time - start_time\r\n",
        "    elapsed_mins = int(elapsed_time / 60)\r\n",
        "    elapsed_secs = int(elapsed_time - (elapsed_mins * 60))\r\n",
        "    return elapsed_mins, elapsed_secs"
      ],
      "execution_count": 40,
      "outputs": []
    },
    {
      "cell_type": "code",
      "metadata": {
        "colab": {
          "base_uri": "https://localhost:8080/"
        },
        "id": "iDOkmxNxa234",
        "outputId": "5c1316c0-b13c-494c-fe7e-46ddaf7d8ca9"
      },
      "source": [
        "N_EPOCHS = 10\r\n",
        "CLIP = 1\r\n",
        "\r\n",
        "best_valid_loss = float('inf')\r\n",
        "avg_loss = 0\r\n",
        "\r\n",
        "for epoch in range(N_EPOCHS):\r\n",
        "    \r\n",
        "    start_time = time.time()\r\n",
        "    \r\n",
        "    train_loss, avg_loss = train(model, train_iterator, optimizer, CLIP, criterion)\r\n",
        "    valid_loss, val_avg_loss = evaluate(model, valid_iterator, criterion)\r\n",
        "    \r\n",
        "    end_time = time.time()\r\n",
        "    \r\n",
        "    epoch_mins, epoch_secs = epoch_time(start_time, end_time)\r\n",
        "    \r\n",
        "    if valid_loss < best_valid_loss:\r\n",
        "        best_valid_loss = valid_loss\r\n",
        "        torch.save(model.state_dict(), 'tut6-model.pt')\r\n",
        "    \r\n",
        "    print(f'Epoch: {epoch+1:02} | Time: {epoch_mins}m {epoch_secs}s')\r\n",
        "    print(f'\\tTrain Loss: {train_loss:.3f} Average loss: {avg_loss:.4f}')\r\n",
        "    print(f'\\t Val. Loss: {valid_loss:.3f} val Average loss: {val_avg_loss:.4f}')"
      ],
      "execution_count": 41,
      "outputs": [
        {
          "output_type": "stream",
          "text": [
            "Epoch: 01 | Time: 0m 16s\n",
            "\tTrain Loss: 0.763 Average loss: 0.7644\n",
            "\t Val. Loss: 0.444 val Average loss: 0.4453\n",
            "Epoch: 02 | Time: 0m 15s\n",
            "\tTrain Loss: 0.398 Average loss: 0.3985\n",
            "\t Val. Loss: 0.341 val Average loss: 0.3420\n",
            "Epoch: 03 | Time: 0m 16s\n",
            "\tTrain Loss: 0.294 Average loss: 0.2943\n",
            "\t Val. Loss: 0.304 val Average loss: 0.3052\n",
            "Epoch: 04 | Time: 0m 15s\n",
            "\tTrain Loss: 0.239 Average loss: 0.2390\n",
            "\t Val. Loss: 0.289 val Average loss: 0.2897\n",
            "Epoch: 05 | Time: 0m 15s\n",
            "\tTrain Loss: 0.204 Average loss: 0.2045\n",
            "\t Val. Loss: 0.283 val Average loss: 0.2844\n",
            "Epoch: 06 | Time: 0m 15s\n",
            "\tTrain Loss: 0.181 Average loss: 0.1816\n",
            "\t Val. Loss: 0.274 val Average loss: 0.2747\n",
            "Epoch: 07 | Time: 0m 15s\n",
            "\tTrain Loss: 0.166 Average loss: 0.1661\n",
            "\t Val. Loss: 0.271 val Average loss: 0.2720\n",
            "Epoch: 08 | Time: 0m 15s\n",
            "\tTrain Loss: 0.154 Average loss: 0.1542\n",
            "\t Val. Loss: 0.270 val Average loss: 0.2706\n",
            "Epoch: 09 | Time: 0m 15s\n",
            "\tTrain Loss: 0.146 Average loss: 0.1465\n",
            "\t Val. Loss: 0.278 val Average loss: 0.2789\n",
            "Epoch: 10 | Time: 0m 15s\n",
            "\tTrain Loss: 0.139 Average loss: 0.1397\n",
            "\t Val. Loss: 0.279 val Average loss: 0.2796\n"
          ],
          "name": "stdout"
        }
      ]
    }
  ]
}