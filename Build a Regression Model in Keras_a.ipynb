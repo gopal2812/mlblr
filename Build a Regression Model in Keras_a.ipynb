{
  "nbformat": 4,
  "nbformat_minor": 0,
  "metadata": {
    "colab": {
      "name": "Untitled48.ipynb",
      "provenance": [],
      "private_outputs": true,
      "authorship_tag": "ABX9TyPzjd6AIwBptVQfu87t08tW",
      "include_colab_link": true
    },
    "kernelspec": {
      "name": "python3",
      "display_name": "Python 3"
    }
  },
  "cells": [
    {
      "cell_type": "markdown",
      "metadata": {
        "id": "view-in-github",
        "colab_type": "text"
      },
      "source": [
        "<a href=\"https://colab.research.google.com/github/gopal2812/mlblr/blob/master/Build%20a%20Regression%20Model%20in%20Keras_a.ipynb\" target=\"_parent\"><img src=\"https://colab.research.google.com/assets/colab-badge.svg\" alt=\"Open In Colab\"/></a>"
      ]
    },
    {
      "cell_type": "markdown",
      "metadata": {
        "button": false,
        "deletable": true,
        "new_sheet": false,
        "run_control": {
          "read_only": false
        },
        "id": "eJmNqWtokEG_",
        "colab_type": "text"
      },
      "source": [
        "Let's start by importing the <em>pandas</em> and the Numpy libraries."
      ]
    },
    {
      "cell_type": "code",
      "metadata": {
        "id": "1bfmnqzmkc0y",
        "colab_type": "code",
        "colab": {}
      },
      "source": [
        "import pandas as pd\n",
        "import numpy as np\n",
        "from sklearn.model_selection import train_test_split"
      ],
      "execution_count": null,
      "outputs": []
    },
    {
      "cell_type": "markdown",
      "metadata": {
        "id": "RZYR43vjkoyv",
        "colab_type": "text"
      },
      "source": [
        "Let's download the data and read it into a pandas dataframe."
      ]
    },
    {
      "cell_type": "code",
      "metadata": {
        "id": "dgtQySaDknXn",
        "colab_type": "code",
        "colab": {}
      },
      "source": [
        "concrete_data = pd.read_csv('https://cocl.us/concrete_data')\n",
        "concrete_data.head()"
      ],
      "execution_count": null,
      "outputs": []
    },
    {
      "cell_type": "code",
      "metadata": {
        "id": "nmYV9FAmk5gk",
        "colab_type": "code",
        "colab": {}
      },
      "source": [
        "concrete_data.describe"
      ],
      "execution_count": null,
      "outputs": []
    },
    {
      "cell_type": "code",
      "metadata": {
        "button": false,
        "deletable": true,
        "new_sheet": false,
        "run_control": {
          "read_only": false
        },
        "colab_type": "code",
        "id": "iwcfQyh2lA1c",
        "colab": {}
      },
      "source": [
        "concrete_data.shape"
      ],
      "execution_count": null,
      "outputs": []
    },
    {
      "cell_type": "code",
      "metadata": {
        "id": "Iq14WbUilJq3",
        "colab_type": "code",
        "colab": {}
      },
      "source": [
        "concrete_data.isnull().sum()"
      ],
      "execution_count": null,
      "outputs": []
    },
    {
      "cell_type": "code",
      "metadata": {
        "id": "QrqXT-ERpvYt",
        "colab_type": "code",
        "colab": {}
      },
      "source": [
        "import keras\n",
        "from keras.models import Sequential\n",
        "from keras.layers import Dense\n",
        "from sklearn.metrics import mean_squared_error\n",
        "\n",
        "# define regression model\n",
        "def regression_model(n_cols):\n",
        "    # create model\n",
        "    model = Sequential()\n",
        "    model.add(Dense(10, activation='relu', input_shape=(n_cols,)))\n",
        "    model.add(Dense(1))\n",
        "    \n",
        "    # compile model\n",
        "    model.compile(optimizer='adam', loss='mean_squared_error')\n",
        "    return model"
      ],
      "execution_count": null,
      "outputs": []
    },
    {
      "cell_type": "markdown",
      "metadata": {
        "id": "lKNX1GPRocMZ",
        "colab_type": "text"
      },
      "source": [
        "The target variable in this problem is the concrete sample strength. Therefore, our predictors will be all the other columns.\n",
        "\n"
      ]
    },
    {
      "cell_type": "code",
      "metadata": {
        "id": "YKkjINSOnc_0",
        "colab_type": "code",
        "colab": {}
      },
      "source": [
        "concrete_data_columns = concrete_data.columns\n",
        "predictors = concrete_data[concrete_data_columns[concrete_data_columns != 'Strength']] # all columns except Strength\n",
        "target = concrete_data['Strength'] # Strength column"
      ],
      "execution_count": null,
      "outputs": []
    },
    {
      "cell_type": "markdown",
      "metadata": {
        "id": "4dNmxpcbo5e4",
        "colab_type": "text"
      },
      "source": [
        "#1. Randomly split the data into a training and test sets by holding 30% of the data for testing. You can use the train_test_splithelper function from Scikit-learn."
      ]
    },
    {
      "cell_type": "code",
      "metadata": {
        "id": "8Rw3boirpLFB",
        "colab_type": "code",
        "colab": {}
      },
      "source": [
        "X_train, X_test, y_train, y_test = train_test_split(predictors, target, test_size=0.3)\n",
        "print(X_train.shape, y_train.shape)\n",
        "print(X_test.shape, y_test.shape)\n"
      ],
      "execution_count": null,
      "outputs": []
    },
    {
      "cell_type": "markdown",
      "metadata": {
        "id": "t9a91_zjxwNJ",
        "colab_type": "text"
      },
      "source": [
        "#2. Train the model on the training data using 50 epochs."
      ]
    },
    {
      "cell_type": "code",
      "metadata": {
        "button": false,
        "deletable": true,
        "new_sheet": false,
        "run_control": {
          "read_only": false
        },
        "id": "uP7vt7dbkEIO",
        "colab_type": "code",
        "colab": {}
      },
      "source": [
        "# build the model\n",
        "col= X_train.shape[1]\n",
        "model = regression_model(col)\n",
        "model.fit(X_train, y_train, epochs=50)"
      ],
      "execution_count": null,
      "outputs": []
    },
    {
      "cell_type": "markdown",
      "metadata": {
        "id": "xbUTuR2fx1_v",
        "colab_type": "text"
      },
      "source": [
        "# 3. Evaluate the model on the test data and compute the mean squared error between the predicted concrete strength and the actual concrete strength. You can use the mean_squared_error function from Scikit-learn."
      ]
    },
    {
      "cell_type": "code",
      "metadata": {
        "id": "qAf5ce2cr_ws",
        "colab_type": "code",
        "colab": {}
      },
      "source": [
        "pred_test = model.predict(X_test)\n",
        "print(np.sqrt(mean_squared_error(y_test,pred_test)))"
      ],
      "execution_count": null,
      "outputs": []
    },
    {
      "cell_type": "markdown",
      "metadata": {
        "id": "tJc4aKCAyhk_",
        "colab_type": "text"
      },
      "source": [
        "#4. Repeat steps 1 - 3, 50 times, i.e., create a list of 50 mean squared errors."
      ]
    },
    {
      "cell_type": "code",
      "metadata": {
        "id": "_2wK54yVtdX7",
        "colab_type": "code",
        "colab": {}
      },
      "source": [
        "result = [0 for i in range(50)]\n",
        "for i in range(0,50):\n",
        "  X_train, X_test, y_train, y_test = train_test_split(predictors, target, test_size=0.3)\n",
        "  col= X_train.shape[1]\n",
        "  model = regression_model(col)\n",
        "  model.fit(X_train, y_train, epochs=50)\n",
        "  pred_test = model.predict(X_test)\n",
        "  result[i] = np.sqrt(mean_squared_error(y_test,pred_test))\n",
        "  print(np.sqrt(mean_squared_error(y_test,pred_test)))\n",
        "\n"
      ],
      "execution_count": null,
      "outputs": []
    },
    {
      "cell_type": "markdown",
      "metadata": {
        "id": "UjDhoykn2xOf",
        "colab_type": "text"
      },
      "source": [
        "# 5. Report the mean and the standard deviation of the mean squared errors."
      ]
    },
    {
      "cell_type": "code",
      "metadata": {
        "id": "DetIAPe3xfOa",
        "colab_type": "code",
        "colab": {}
      },
      "source": [
        "import statistics\n",
        "print(\"mean {} standard deviation {}\".format(statistics.mean(result), statistics.stdev(result)))"
      ],
      "execution_count": null,
      "outputs": []
    }
  ]
}