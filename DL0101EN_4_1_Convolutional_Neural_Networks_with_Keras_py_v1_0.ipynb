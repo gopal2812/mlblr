{
  "nbformat": 4,
  "nbformat_minor": 0,
  "metadata": {
    "kernelspec": {
      "display_name": "Python",
      "language": "python",
      "name": "conda-env-python-py"
    },
    "language_info": {
      "codemirror_mode": {
        "name": "ipython",
        "version": 3
      },
      "file_extension": ".py",
      "mimetype": "text/x-python",
      "name": "python",
      "nbconvert_exporter": "python",
      "pygments_lexer": "ipython3",
      "version": "3.6.7"
    },
    "colab": {
      "name": "DL0101EN-4-1-Convolutional-Neural-Networks-with-Keras-py-v1.0.ipynb",
      "provenance": [],
      "include_colab_link": true
    },
    "accelerator": "GPU"
  },
  "cells": [
    {
      "cell_type": "markdown",
      "metadata": {
        "id": "view-in-github",
        "colab_type": "text"
      },
      "source": [
        "<a href=\"https://colab.research.google.com/github/gopal2812/mlblr/blob/master/DL0101EN_4_1_Convolutional_Neural_Networks_with_Keras_py_v1_0.ipynb\" target=\"_parent\"><img src=\"https://colab.research.google.com/assets/colab-badge.svg\" alt=\"Open In Colab\"/></a>"
      ]
    },
    {
      "cell_type": "markdown",
      "metadata": {
        "id": "0j4TxaBiTiLy",
        "colab_type": "text"
      },
      "source": [
        "<a href=\"https://cognitiveclass.ai\"><img src = \"https://s3-api.us-geo.objectstorage.softlayer.net/cf-courses-data/CognitiveClass/Logos/organization_logo/organization_logo.png\" width = 400> </a>\n",
        "\n",
        "<h1 align=center><font size = 5>Convolutional Neural Networks with Keras</font></h1>"
      ]
    },
    {
      "cell_type": "markdown",
      "metadata": {
        "id": "Epk8FFcRTiL1",
        "colab_type": "text"
      },
      "source": [
        "In this lab, we will learn how to use the Keras library to build convolutional neural networks. We will also use the popular MNIST dataset and we will compare our results to using a conventional neural network.\n"
      ]
    },
    {
      "cell_type": "markdown",
      "metadata": {
        "id": "WbxfLz7BTiL2",
        "colab_type": "text"
      },
      "source": [
        "## Table of Contents\n",
        "\n",
        "<div class=\"alert alert-block alert-info\" style=\"margin-top: 20px\">\n",
        "\n",
        "<font size = 3>\n",
        "      \n",
        "1. <a href=\"#item41\">Import Keras and Packages</a>   \n",
        "2. <a href=\"#item42\">Convolutional Neural Network with One Convolutional and Pooling Layers</a>  \n",
        "3. <a href=\"#item43\">Convolutional Neural Network with Two Convolutional and Pooling Layers</a>  \n",
        "\n",
        "</font>\n",
        "</div>"
      ]
    },
    {
      "cell_type": "markdown",
      "metadata": {
        "id": "cmQeZ6JKTiL3",
        "colab_type": "text"
      },
      "source": [
        "<a id='item41'></a>"
      ]
    },
    {
      "cell_type": "markdown",
      "metadata": {
        "id": "HLC5E8TBTiL5",
        "colab_type": "text"
      },
      "source": [
        "## Import Keras and Packages"
      ]
    },
    {
      "cell_type": "markdown",
      "metadata": {
        "id": "wKuCkZXxTiL6",
        "colab_type": "text"
      },
      "source": [
        "Let's start by importing the keras libraries and the packages that we would need to build a neural network."
      ]
    },
    {
      "cell_type": "code",
      "metadata": {
        "id": "4Afz7VayTiL7",
        "colab_type": "code",
        "colab": {}
      },
      "source": [
        "import keras\n",
        "from keras.models import Sequential\n",
        "from keras.layers import Dense\n",
        "from keras.utils import to_categorical"
      ],
      "execution_count": 3,
      "outputs": []
    },
    {
      "cell_type": "markdown",
      "metadata": {
        "id": "vuGFfFAQTiMC",
        "colab_type": "text"
      },
      "source": [
        "When working with convolutional neural networks in particular, we will need additional packages."
      ]
    },
    {
      "cell_type": "code",
      "metadata": {
        "id": "3ZyJff6rTiMF",
        "colab_type": "code",
        "colab": {}
      },
      "source": [
        "from keras.layers.convolutional import Conv2D # to add convolutional layers\n",
        "from keras.layers.convolutional import MaxPooling2D # to add pooling layers\n",
        "from keras.layers import Flatten # to flatten data for fully connected layers"
      ],
      "execution_count": 5,
      "outputs": []
    },
    {
      "cell_type": "markdown",
      "metadata": {
        "id": "90FO-HQlTiMK",
        "colab_type": "text"
      },
      "source": [
        "<a id='item42'></a>"
      ]
    },
    {
      "cell_type": "markdown",
      "metadata": {
        "id": "P6NUag5wTiML",
        "colab_type": "text"
      },
      "source": [
        "## Convolutional Layer with One set of convolutional and pooling layers"
      ]
    },
    {
      "cell_type": "code",
      "metadata": {
        "id": "Rixc6QboTiMM",
        "colab_type": "code",
        "colab": {
          "base_uri": "https://localhost:8080/",
          "height": 52
        },
        "outputId": "d4135ff1-1dec-45af-b6c8-162b70f24602"
      },
      "source": [
        "# import data\n",
        "from keras.datasets import mnist\n",
        "\n",
        "# load data\n",
        "(X_train, y_train), (X_test, y_test) = mnist.load_data()\n",
        "\n",
        "# reshape to be [samples][pixels][width][height]\n",
        "X_train = X_train.reshape(X_train.shape[0], 28, 28, 1).astype('float32')\n",
        "X_test = X_test.reshape(X_test.shape[0], 28, 28, 1).astype('float32')"
      ],
      "execution_count": 6,
      "outputs": [
        {
          "output_type": "stream",
          "text": [
            "Downloading data from https://s3.amazonaws.com/img-datasets/mnist.npz\n",
            "11493376/11490434 [==============================] - 2s 0us/step\n"
          ],
          "name": "stdout"
        }
      ]
    },
    {
      "cell_type": "markdown",
      "metadata": {
        "id": "OOad66PGTiMT",
        "colab_type": "text"
      },
      "source": [
        "Let's normalize the pixel values to be between 0 and 1"
      ]
    },
    {
      "cell_type": "code",
      "metadata": {
        "id": "wg-Y0tPxTiMV",
        "colab_type": "code",
        "colab": {}
      },
      "source": [
        "X_train = X_train / 255 # normalize training data\n",
        "X_test = X_test / 255 # normalize test data"
      ],
      "execution_count": 4,
      "outputs": []
    },
    {
      "cell_type": "markdown",
      "metadata": {
        "id": "BJQ8uThgTiMc",
        "colab_type": "text"
      },
      "source": [
        "Next, let's convert the target variable into binary categories"
      ]
    },
    {
      "cell_type": "code",
      "metadata": {
        "id": "EFD4fYrXTiMd",
        "colab_type": "code",
        "colab": {}
      },
      "source": [
        "y_train = to_categorical(y_train)\n",
        "y_test = to_categorical(y_test)\n",
        "\n",
        "num_classes = y_test.shape[1] # number of categories"
      ],
      "execution_count": 7,
      "outputs": []
    },
    {
      "cell_type": "markdown",
      "metadata": {
        "id": "5K-sbgbyTiMk",
        "colab_type": "text"
      },
      "source": [
        "Next, let's define a function that creates our model. Let's start with one set of convolutional and pooling layers."
      ]
    },
    {
      "cell_type": "code",
      "metadata": {
        "id": "D_RFbOcxTiMl",
        "colab_type": "code",
        "colab": {}
      },
      "source": [
        "def convolutional_model():\n",
        "    \n",
        "    # create model\n",
        "    model = Sequential()\n",
        "    model.add(Conv2D(16, (5, 5), strides=(1, 1), activation='relu', input_shape=(28, 28, 1)))\n",
        "    model.add(MaxPooling2D(pool_size=(2, 2), strides=(2, 2)))\n",
        "    \n",
        "    model.add(Flatten())\n",
        "    model.add(Dense(100, activation='relu'))\n",
        "    model.add(Dense(num_classes, activation='softmax'))\n",
        "    \n",
        "    # compile model\n",
        "    model.compile(optimizer='adam', loss='categorical_crossentropy',  metrics=['accuracy'])\n",
        "    return model"
      ],
      "execution_count": 8,
      "outputs": []
    },
    {
      "cell_type": "markdown",
      "metadata": {
        "id": "5b0j4WfcTiMr",
        "colab_type": "text"
      },
      "source": [
        "Finally, let's call the function to create the model, and then let's train it and evaluate it."
      ]
    },
    {
      "cell_type": "code",
      "metadata": {
        "id": "JMPney6fTiMs",
        "colab_type": "code",
        "colab": {
          "base_uri": "https://localhost:8080/",
          "height": 416
        },
        "outputId": "e35c086f-ee90-461a-8a86-22b78d1c8dbf"
      },
      "source": [
        "# build the model\n",
        "model = convolutional_model()\n",
        "\n",
        "# fit the model\n",
        "model.fit(X_train, y_train, validation_data=(X_test, y_test), epochs=10, batch_size=200, verbose=2)\n",
        "\n",
        "# evaluate the model\n",
        "scores = model.evaluate(X_test, y_test, verbose=0)\n",
        "print(\"Accuracy: {} \\n Error: {}\".format(scores[1], 100-scores[1]*100))"
      ],
      "execution_count": 9,
      "outputs": [
        {
          "output_type": "stream",
          "text": [
            "Train on 60000 samples, validate on 10000 samples\n",
            "Epoch 1/10\n",
            " - 7s - loss: 2.3546 - accuracy: 0.8704 - val_loss: 0.2395 - val_accuracy: 0.9413\n",
            "Epoch 2/10\n",
            " - 1s - loss: 0.1702 - accuracy: 0.9571 - val_loss: 0.1426 - val_accuracy: 0.9618\n",
            "Epoch 3/10\n",
            " - 1s - loss: 0.0965 - accuracy: 0.9729 - val_loss: 0.1388 - val_accuracy: 0.9642\n",
            "Epoch 4/10\n",
            " - 1s - loss: 0.0640 - accuracy: 0.9807 - val_loss: 0.1054 - val_accuracy: 0.9727\n",
            "Epoch 5/10\n",
            " - 1s - loss: 0.0455 - accuracy: 0.9859 - val_loss: 0.1020 - val_accuracy: 0.9749\n",
            "Epoch 6/10\n",
            " - 1s - loss: 0.0359 - accuracy: 0.9882 - val_loss: 0.1079 - val_accuracy: 0.9776\n",
            "Epoch 7/10\n",
            " - 1s - loss: 0.0267 - accuracy: 0.9914 - val_loss: 0.1019 - val_accuracy: 0.9771\n",
            "Epoch 8/10\n",
            " - 1s - loss: 0.0234 - accuracy: 0.9926 - val_loss: 0.1013 - val_accuracy: 0.9772\n",
            "Epoch 9/10\n",
            " - 1s - loss: 0.0201 - accuracy: 0.9927 - val_loss: 0.1013 - val_accuracy: 0.9770\n",
            "Epoch 10/10\n",
            " - 1s - loss: 0.0158 - accuracy: 0.9948 - val_loss: 0.1112 - val_accuracy: 0.9777\n",
            "Accuracy: 0.9776999950408936 \n",
            " Error: 2.2300004959106445\n"
          ],
          "name": "stdout"
        }
      ]
    },
    {
      "cell_type": "markdown",
      "metadata": {
        "id": "5TMb2tLtTiMy",
        "colab_type": "text"
      },
      "source": [
        "------------------------------------------"
      ]
    },
    {
      "cell_type": "markdown",
      "metadata": {
        "id": "_JbHsl1lTiMz",
        "colab_type": "text"
      },
      "source": [
        "<a id='item43'></a>"
      ]
    },
    {
      "cell_type": "markdown",
      "metadata": {
        "id": "rdQKHtL6TiMz",
        "colab_type": "text"
      },
      "source": [
        "## Convolutional Layer with two sets of convolutional and pooling layers"
      ]
    },
    {
      "cell_type": "markdown",
      "metadata": {
        "id": "FcbOOOyVTiM0",
        "colab_type": "text"
      },
      "source": [
        "Let's redefine our convolutional model so that it has two convolutional and pooling layers instead of just one layer of each."
      ]
    },
    {
      "cell_type": "code",
      "metadata": {
        "id": "d-ZCSobvTiM1",
        "colab_type": "code",
        "colab": {}
      },
      "source": [
        "def convolutional_model():\n",
        "    \n",
        "    # create model\n",
        "    model = Sequential()\n",
        "    model.add(Conv2D(16, (5, 5), activation='relu', input_shape=(28, 28, 1)))\n",
        "    model.add(MaxPooling2D(pool_size=(2, 2), strides=(2, 2)))\n",
        "    \n",
        "    model.add(Conv2D(8, (2, 2), activation='relu'))\n",
        "    model.add(MaxPooling2D(pool_size=(2, 2), strides=(2, 2)))\n",
        "    \n",
        "    model.add(Flatten())\n",
        "    model.add(Dense(100, activation='relu'))\n",
        "    model.add(Dense(num_classes, activation='softmax'))\n",
        "    \n",
        "    # Compile model\n",
        "    model.compile(optimizer='adam', loss='categorical_crossentropy',  metrics=['accuracy'])\n",
        "    return model"
      ],
      "execution_count": 10,
      "outputs": []
    },
    {
      "cell_type": "markdown",
      "metadata": {
        "id": "LwsK52n7TiM8",
        "colab_type": "text"
      },
      "source": [
        "Now, let's call the function to create our new convolutional neural network, and then let's train it and evaluate it."
      ]
    },
    {
      "cell_type": "code",
      "metadata": {
        "id": "xCJ9k9QWTiM_",
        "colab_type": "code",
        "colab": {
          "base_uri": "https://localhost:8080/",
          "height": 416
        },
        "outputId": "4f538bf5-9a2d-4ab1-8917-0a3823827f3c"
      },
      "source": [
        "# build the model\n",
        "model = convolutional_model()\n",
        "\n",
        "# fit the model\n",
        "model.fit(X_train, y_train, validation_data=(X_test, y_test), epochs=10, batch_size=200, verbose=2)\n",
        "\n",
        "# evaluate the model\n",
        "scores = model.evaluate(X_test, y_test, verbose=0)\n",
        "print(\"Accuracy: {} \\n Error: {}\".format(scores[1], 100-scores[1]*100))"
      ],
      "execution_count": 11,
      "outputs": [
        {
          "output_type": "stream",
          "text": [
            "Train on 60000 samples, validate on 10000 samples\n",
            "Epoch 1/10\n",
            " - 1s - loss: 1.1560 - accuracy: 0.8231 - val_loss: 0.1984 - val_accuracy: 0.9414\n",
            "Epoch 2/10\n",
            " - 1s - loss: 0.1549 - accuracy: 0.9532 - val_loss: 0.1304 - val_accuracy: 0.9602\n",
            "Epoch 3/10\n",
            " - 1s - loss: 0.1028 - accuracy: 0.9690 - val_loss: 0.1021 - val_accuracy: 0.9683\n",
            "Epoch 4/10\n",
            " - 1s - loss: 0.0769 - accuracy: 0.9766 - val_loss: 0.0954 - val_accuracy: 0.9706\n",
            "Epoch 5/10\n",
            " - 1s - loss: 0.0623 - accuracy: 0.9807 - val_loss: 0.0842 - val_accuracy: 0.9752\n",
            "Epoch 6/10\n",
            " - 1s - loss: 0.0498 - accuracy: 0.9844 - val_loss: 0.0885 - val_accuracy: 0.9748\n",
            "Epoch 7/10\n",
            " - 1s - loss: 0.0427 - accuracy: 0.9866 - val_loss: 0.0799 - val_accuracy: 0.9782\n",
            "Epoch 8/10\n",
            " - 1s - loss: 0.0373 - accuracy: 0.9878 - val_loss: 0.0915 - val_accuracy: 0.9760\n",
            "Epoch 9/10\n",
            " - 1s - loss: 0.0329 - accuracy: 0.9895 - val_loss: 0.0743 - val_accuracy: 0.9795\n",
            "Epoch 10/10\n",
            " - 1s - loss: 0.0279 - accuracy: 0.9912 - val_loss: 0.0810 - val_accuracy: 0.9797\n",
            "Accuracy: 0.9797000288963318 \n",
            " Error: 2.0299971103668213\n"
          ],
          "name": "stdout"
        }
      ]
    },
    {
      "cell_type": "markdown",
      "metadata": {
        "id": "zBUjLuecTiNE",
        "colab_type": "text"
      },
      "source": [
        "### Thank you for completing this lab!\n",
        "\n",
        "This notebook was created by [Alex Aklson](https://www.linkedin.com/in/aklson/). I hope you found this lab interesting and educational. Feel free to contact me if you have any questions!"
      ]
    },
    {
      "cell_type": "markdown",
      "metadata": {
        "id": "lLlHw2wtTiNF",
        "colab_type": "text"
      },
      "source": [
        "This notebook is part of a course on **Coursera** called *Introduction to Deep Learning & Neural Networks with Keras*. If you accessed this notebook outside the course, you can take this course online by clicking [here](https://cocl.us/DL0101EN_Coursera_Week4_LAB1)."
      ]
    },
    {
      "cell_type": "markdown",
      "metadata": {
        "id": "ZGj7SVzKTiNH",
        "colab_type": "text"
      },
      "source": [
        "<hr>\n",
        "\n",
        "Copyright &copy; 2019 [IBM Developer Skills Network](https://cognitiveclass.ai/?utm_source=bducopyrightlink&utm_medium=dswb&utm_campaign=bdu). This notebook and its source code are released under the terms of the [MIT License](https://bigdatauniversity.com/mit-license/)."
      ]
    }
  ]
}