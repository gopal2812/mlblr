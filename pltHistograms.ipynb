{
  "nbformat": 4,
  "nbformat_minor": 0,
  "metadata": {
    "anaconda-cloud": {},
    "kernelspec": {
      "display_name": "Python 3",
      "language": "python",
      "name": "python3"
    },
    "language_info": {
      "codemirror_mode": {
        "name": "ipython",
        "version": 3
      },
      "file_extension": ".py",
      "mimetype": "text/x-python",
      "name": "python",
      "nbconvert_exporter": "python",
      "pygments_lexer": "ipython3",
      "version": "3.6.8"
    },
    "colab": {
      "name": "Histograms.ipynb",
      "provenance": [],
      "include_colab_link": true
    }
  },
  "cells": [
    {
      "cell_type": "markdown",
      "metadata": {
        "id": "view-in-github",
        "colab_type": "text"
      },
      "source": [
        "<a href=\"https://colab.research.google.com/github/gopal2812/mlblr/blob/master/pltHistograms.ipynb\" target=\"_parent\"><img src=\"https://colab.research.google.com/assets/colab-badge.svg\" alt=\"Open In Colab\"/></a>"
      ]
    },
    {
      "cell_type": "markdown",
      "metadata": {
        "id": "Ito4MFwRH12r",
        "colab_type": "text"
      },
      "source": [
        "## Histograms"
      ]
    },
    {
      "cell_type": "markdown",
      "metadata": {
        "id": "5gsypxGOH12w",
        "colab_type": "text"
      },
      "source": [
        "It is a common practice to create histograms to explore your data as it can give you a general idea of what your data looks like. A histogram is a summary of the variation in a measured variable. It shows the number of samples that occur in a category. A histogram is a type of frequency distribution.  \n",
        "\n",
        "Histograms work by binning the entire range of values into a series of intervals and then counting how many values fall into each interval. While the intervals are often of equal size, they are not required to be."
      ]
    },
    {
      "cell_type": "code",
      "metadata": {
        "id": "-frA_F2qH12y",
        "colab_type": "code",
        "colab": {}
      },
      "source": [
        "# The ``inline`` flag will use the appropriate backend to make figures appear inline in the notebook.  \n",
        "%matplotlib inline\n",
        "\n",
        "import pandas as pd\n",
        "\n",
        "# `plt` is an alias for the `matplotlib.pyplot` module\n",
        "import matplotlib.pyplot as plt"
      ],
      "execution_count": 0,
      "outputs": []
    },
    {
      "cell_type": "markdown",
      "metadata": {
        "id": "OXhHPDf1H125",
        "colab_type": "text"
      },
      "source": [
        "### Load Data\n",
        "\n",
        "The data we will use to demonstrate histograms is the House Sales in King County, USA dataset: https://www.kaggle.com/harlfoxem/housesalesprediction). "
      ]
    },
    {
      "cell_type": "code",
      "metadata": {
        "id": "4rRpJDh-H128",
        "colab_type": "code",
        "colab": {}
      },
      "source": [
        "df = pd.read_csv('data/kingCountyHouseData.csv')\n",
        "\n",
        "df.head()"
      ],
      "execution_count": 0,
      "outputs": []
    },
    {
      "cell_type": "markdown",
      "metadata": {
        "id": "dZPA0mZnH13H",
        "colab_type": "text"
      },
      "source": [
        "## Histograms using Pandas\n",
        "\n",
        "The goal of this particular visualization is to make a histogram on the `price` column. In doing this, you will see creating a data visualization can be an iterative process. "
      ]
    },
    {
      "cell_type": "code",
      "metadata": {
        "id": "_oIB6zhcH13L",
        "colab_type": "code",
        "colab": {}
      },
      "source": [
        "df['price'].head()"
      ],
      "execution_count": 0,
      "outputs": []
    },
    {
      "cell_type": "code",
      "metadata": {
        "id": "2keaPh9UH13U",
        "colab_type": "code",
        "colab": {}
      },
      "source": [
        "# Using the default settings is not a good idea\n",
        "# Keep in mind that visualizations are an interative process.\n",
        "df['price'].hist()"
      ],
      "execution_count": 0,
      "outputs": []
    },
    {
      "cell_type": "code",
      "metadata": {
        "id": "frL3b6RMH13e",
        "colab_type": "code",
        "colab": {}
      },
      "source": [
        "# One solution is to rotate your xticklabels\n",
        "df['price'].hist()\n",
        "plt.xticks(rotation = 90)"
      ],
      "execution_count": 0,
      "outputs": []
    },
    {
      "cell_type": "code",
      "metadata": {
        "id": "0qPItk90H13k",
        "colab_type": "code",
        "colab": {}
      },
      "source": [
        "# if you want a quick solution to make the xticklabels readable,\n",
        "# try changing the plot style \n",
        "plt.style.use('seaborn')"
      ],
      "execution_count": 0,
      "outputs": []
    },
    {
      "cell_type": "code",
      "metadata": {
        "id": "5iuA1NqxH13r",
        "colab_type": "code",
        "colab": {}
      },
      "source": [
        "# Change the number of bins\n",
        "# Seems better, but we still have empty space\n",
        "df['price'].hist(bins = 30)"
      ],
      "execution_count": 0,
      "outputs": []
    },
    {
      "cell_type": "code",
      "metadata": {
        "id": "D2OHzH3cH13w",
        "colab_type": "code",
        "colab": {}
      },
      "source": [
        "# visualizing a subset of the data\n",
        "price_filter = df.loc[:, 'price'] <= 3000000\n",
        "df.loc[price_filter, 'price'].hist(bins = 30)"
      ],
      "execution_count": 0,
      "outputs": []
    },
    {
      "cell_type": "code",
      "metadata": {
        "id": "9bAFiD5GH132",
        "colab_type": "code",
        "colab": {}
      },
      "source": [
        "# you can also change the edgecolor and linewidth\n",
        "price_filter = df.loc[:, 'price'] <= 3000000\n",
        "\n",
        "# you can also change the edgecolor and linewidth\n",
        "df.loc[price_filter, 'price'].hist(bins = 30,\n",
        "                                   edgecolor='black')"
      ],
      "execution_count": 0,
      "outputs": []
    }
  ]
}