{
  "nbformat": 4,
  "nbformat_minor": 0,
  "metadata": {
    "anaconda-cloud": {},
    "celltoolbar": "Raw Cell Format",
    "kernelspec": {
      "display_name": "Python 3",
      "language": "python",
      "name": "python3"
    },
    "language_info": {
      "codemirror_mode": {
        "name": "ipython",
        "version": 3
      },
      "file_extension": ".py",
      "mimetype": "text/x-python",
      "name": "python",
      "nbconvert_exporter": "python",
      "pygments_lexer": "ipython3",
      "version": "3.7.3"
    },
    "colab": {
      "name": "02_01_end.ipynb",
      "provenance": [],
      "include_colab_link": true
    }
  },
  "cells": [
    {
      "cell_type": "markdown",
      "metadata": {
        "id": "view-in-github",
        "colab_type": "text"
      },
      "source": [
        "<a href=\"https://colab.research.google.com/github/gopal2812/mlblr/blob/master/pandas01.ipynb\" target=\"_parent\"><img src=\"https://colab.research.google.com/assets/colab-badge.svg\" alt=\"Open In Colab\"/></a>"
      ]
    },
    {
      "cell_type": "markdown",
      "metadata": {
        "id": "bDn-RVxyWac8",
        "colab_type": "text"
      },
      "source": [
        "# Chapter 2 - Data Preparation Basics\n",
        "## Segment 1 - Filtering and selecting data"
      ]
    },
    {
      "cell_type": "markdown",
      "metadata": {
        "id": "wC5OZwvXyFdX",
        "colab_type": "text"
      },
      "source": [
        " Nested List\n",
        " From here we're going to use the pd.DataFrame method and we're going to insert our carLoans variable into the data parameter and our colNames variable into the columns parameter. And then we're going to press Shift + Enter to initialize our dataframe. And from here, we're going to press Shift + Enter again and we have our data in a nice, clean format. And obviously this is more readable than nested list. \n",
        " \n",
        " Numpy Arrray\n",
        "But there's also other ways to do this as well. We could have also structured data in the form of a NumPy array. And this looks very similar to a nested list. Except for a NumPy array is more efficient than a Python list. And similarly, we have the same column names as before. So now that we have the data in a format that we like we're going to press Shift + Enter and just as before, we're going to have our carLoans variable assigned to the data parameter and our colNames variable assigned to our columns parameter. We're then going to press Shift + Enter to initialize our dataframe. And, as before, we have our data in nice, clean format. Which is obviously easier to look at than a NumPy array. The third approach, is to use a Python Dictionary. \n",
        "\n",
        "Python Dictionary\n",
        "And while this may not seem like as clean of a format to structure your data. There are times when you already have your data in a Python Dictionary and it'll just be easier to use that Python Dictionary to then initialize a Pandas dataframe. So we have our carLoans data and like before, we're going to press Shift + Enter to initialize our carLoans variable and from here, we initialize our Pandas dataframe by having our carLoans variable assigned to our data parameter and our colNames variable, assigned to our columns parameter. And then, we're going to press Shift + Enter to initialize our dataframe. And like before, you can see that we have our payment table. Which is clearly an easier to look at format than our Python Dictionary. So as you can see, building tables like these, aren't all that difficult. However, there are some limitations of these approaches. That I'd like you to be aware of. For example, if you have a larger data set like the entire payment table for a particular car loan for example, like what I'm showing here.\n",
        "\n",
        "\n",
        "Loading From Excel file\n",
        "df = pd.read_excel(filename"
      ]
    },
    {
      "cell_type": "markdown",
      "metadata": {
        "id": "rN-_33-azPMN",
        "colab_type": "text"
      },
      "source": [
        ""
      ]
    },
    {
      "cell_type": "code",
      "metadata": {
        "id": "uZybMF_dWadB",
        "colab_type": "code",
        "colab": {}
      },
      "source": [
        "import numpy as np\n",
        "import pandas as pd\n",
        "\n",
        "from pandas import Series, DataFrame"
      ],
      "execution_count": 0,
      "outputs": []
    },
    {
      "cell_type": "markdown",
      "metadata": {
        "id": "HXIsJ7oNWadI",
        "colab_type": "text"
      },
      "source": [
        "### Selecting and retrieving data\n",
        "You can write an index value in two forms.\n",
        "- Label index or \n",
        "- Integer index\n",
        "\n",
        "The first thing we're going to talk about is filtering and selecting data with pandas. But before going into the lesson I just want to give you a brief recap of pandas library and some essential basics about using Python. Pandas is useful for its fast data cleansing preparation, its powerful analysis capabilities, its ease of use for data visualization, its ease of use for machine learning, and its compatibility with NumPy array and matricis. Basically because it's built on top of NumPy.\n",
        "\n",
        " Arrays and matricis are called series and DataFrames in pandas. \n",
        " \n",
        "  I want to give you a brief refresher on indexing and what an index is because that's really important for this lesson. An index is a list of integers or labels you use to uniquely identify rows and columns. In this course we're going to be indexing using square brackets or the .loc indexer.\n",
        "  \n",
        " I also want to give you a brief recap on what a DataFrame object is. \n",
        " \n",
        " A DataFrame object is pretty much a spreadsheet of rows and columns, the rows and columns individually are actually serious objects in the pandas library and DataFrames are indexable. \n",
        " \n",
        " A series object is a single row or column and it is always indexed. \n",
        " \n",
        " In the following coding demonstration you're going to be using comparison operators so I wanted to give you this table. You can review it on your own just to familiarize yourself with using comparison operators in Python. The two I wanted to point out are simply the greater than symbol and the less than symbol. Because we'll be using those in the coding demonstration that follows. Next up I'm going to show you how to use plain indexing, data slicing and arithmetic comparisons using Python and pandas, so let's start by importing our libraries. We're going to import NumPy as np and import pandas as pd. And then from pandas we want to import Series and DataFrame. What you're doing here is you're actually importing these libraries into the iPython environment so we'll just run this code and I want to point out now that you would use the Shift + Enter command to import the libraries into the iPython environment. Now let's look at selecting and retrieving data. You can write an index value in two forms, either a label index or an integer index. So let's first start by creating a series object. We will do that by calling the series constructor and passing in the np arrange function and we will say that we want eight values. \n",
        " \n",
        " \n",
        " This is going to create a series of sequential values from zero to seven and we want to index this series. So we're going to give the series constructor a series of labels for each index value. We will do that by passing a parameter that says index equal to and then we create a list and we will just name our index so the first element is going to be row one, and then we're going to create row two through row seven. So I'm just going to go through and create some elements here and then now we have created labels for our series index so we'll call this whole thing series_obj and then print it out. Okay so now we have a series object of value zero through seven and each row is labeled with the index that we created. \n",
        " \n",
        " \n",
        " Now let's practice with using the label index. When you write square brackets with the label index inside them this tells Python to select and retrieve all records with that label index. So let's practice by selecting the element with the label index of row seven. We can do that by saying series_obj we're naming our object and then we will create an index and we'll call out row seven, and then when we run that we get back the value of six which makes sense because if you look above here, row seven has the element of number six, now let's look at the integer index. When you write the square bracket with an integer index inside it then this tells Python to select and retrieve all records with the specified integer index. So let's do that now let's just go ahead and we will pull elements at index position zero and seven. \n",
        " \n",
        " \n",
        " So we will say series_obj and then we will name the positions where we want to pull the data from within the series so that will be position zero and seven, okay and then when we run this we see that we get back row one and row eight. That makes sense if you look up at the object at the top you see that in position zero we have row one and then in position seven we have row eight. Now let's create a DataFrame object. To do that we're going to generate a series of 36 random numbers and I want you to be able to generate the same random numbers as I generate here in this coding demonstration. So I will start off by setting the seed for the random number generator. To do that you just say np.random.seed and then pass in any number. In this case I'll just say 25, and now let's go on and create the DataFrame object we'll just call it DF_obj and then call the DataFrame constructor. So that's just DataFrame and then we pass in the random number generating function from NumPy. So that's np.random.rand and we'll say okay we want 36 random numbers and we actually want them to be returned in six rows, and six columns. So we'll say reshape and then we'll just pass in a six for number of rows and six for number of columns. Next what we want to do is we want to create an index for the rows so let's just drop down here and we will say index equal to and then we will create a list and then name the label indexes for each of the rows in our DataFrame object, so again we will call these row one and we'll just go through row one through row six here and then let's also create some label indexes for the columns so then we'll just drop down again and we will say columns equal to create another list with column names and we're going to have again six columns this time let's just go ahead and print this out and see what it looks like. All right so there you have it, this is your first DataFrame object. You see that it's got six rows, and six columns. Now I want to look at the .iloc indexer and what this does is basically you can go ahead and pass in a set of rows and column indexes and that tells Python to go and select and retrieve only those specific rows and columns. So in this case let's go ahead and select row two and row five as well as column five and column two. To do that the first thing you need to do is just to name your object or call your object then use the loc method to return the value at these particular label indexes. So again we're going to retrieve values from position at row two and row five so we just write that in. Row two and then we will name row five, and we also want to retrieve values from column five and column two so to do that we just need to write the label index here. So this is going to be column five and column two, and then when we run this we will have the values at these precise label indexes, so let's just check that. We see at row two and column five we have .402 and you can see that again it is listed out here. So we have essentially selected this value based on its label index in terms of row identification and column identification and you can go through and check these other values, they were pulled directly from the DataFrame that we just created. Now let's talk about data slicing. So you can use slicing to select and return a slice of several values from a data set. Slicing uses index values so you can use the same square brackets when doing data slicing. How slicing differs however, is that with slicing you pass in two index values that are separated by a colon, the index value on the left side of the colon should be the first value you want to select. On the right side of the colon you write the index value for the last value you want to retrieve. When you execute the code the indexer then simply finds the first record and the last record and returns every record in between them. So let's try that out we will do that by selecting every row between row three and row seven. So we'll just call series_obj and then create a list and we will say that we want everything between row three and row seven. And we run this and we then get back all of the values that are contained between row three and row seven which is values two through six. All right great so now let's look at comparing with scalars what we're really talking about here is comparison operators and scalar values. Just in case you don't know what a scalar value is, it's basically just a single numerical value. You can use comparison operators like greater than or less than to return true or false values for all records to indicate how each element compares to a scalar value. So let's just go back to our DataFrame object we created and we're going to return a Boolean value of true or false for all of the values and whether or not they are less than .2. So to do that we would just say DF_obj and then we say less than .2 and run this, and what we get back here is just a DataFrame of Boolean values true or false and these are returning true or false against the comparison operator here that says is less than .2. Let's just go and look at what these numbers are to make sure that we understand the result. So it's saying yeah, row one column six is true, yes it is less than .2 we'll go back up to our DataFrame and we see that oh yeah okay this value here is less than .2. Now what about next to it in row one column five? This is .411 and so it should be false, in this output here which it is okay. So it's not less than .2. So this is how you do comparison with scalars. Now let's talk about filtering with scalars. You can also use comparison operators and scalar values for indexing to return only the records that satisfy the comparison expression you write. Let's go ahead and only print out values from the series object that are greater than six. To do that we would just create a filter and in the filter we want to say series_obj greater than six and since we want to print out all of those elements that are greater than six we would just say series_obj and then we would just run this whole thing and we see okay well we have only one value, that has, that's greater than six which is seven at row eight and to confirm that you can just go back up here to our series object and see okay yeah there's only one value greater than six and it's number seven at row eight. So it's the same exact record here and so now you know how to filter with scalars let's look at setting values with scalars. Setting is where you select all records associated with a specified label index and then set those values equal to a scalar so in this case I want to select row one, row five, and row eight and select all of those values at those positions and set them equal to eight. So to do that we're going to say series_obj and then we're going to create a list and we're going to name the label indexes that we're interested in. So that would be row one, row five, and row eight. And then we're going to set this whole thing equal to eight and just print it out, and you can see here that row one row five and row eight all have values that have been set to eight, okay so now you know how to set values with scalars, filtering and selecting using pandas is one of the most fundamental things you will do in data analysis so make sure you know how to use indexing to select and retrieve records."
      ]
    },
    {
      "cell_type": "code",
      "metadata": {
        "id": "yyuRY-RRWadK",
        "colab_type": "code",
        "outputId": "57b7730f-025d-49be-d0c4-57aeef747c0e",
        "colab": {}
      },
      "source": [
        "series_obj = Series(np.arange(8), index=['row 1', 'row 2', 'row 3', 'row 4', 'row 5', 'row 6','row 7', 'row 8'])\n",
        "series_obj"
      ],
      "execution_count": 0,
      "outputs": [
        {
          "output_type": "execute_result",
          "data": {
            "text/plain": [
              "row 1    0\n",
              "row 2    1\n",
              "row 3    2\n",
              "row 4    3\n",
              "row 5    4\n",
              "row 6    5\n",
              "row 7    6\n",
              "row 8    7\n",
              "dtype: int32"
            ]
          },
          "metadata": {
            "tags": []
          },
          "execution_count": 4
        }
      ]
    },
    {
      "cell_type": "code",
      "metadata": {
        "id": "ApXRUteBWadR",
        "colab_type": "code",
        "outputId": "f9681008-1099-4b79-d875-713e46617465",
        "colab": {}
      },
      "source": [
        "series_obj['row 7']"
      ],
      "execution_count": 0,
      "outputs": [
        {
          "output_type": "execute_result",
          "data": {
            "text/plain": [
              "6"
            ]
          },
          "metadata": {
            "tags": []
          },
          "execution_count": 5
        }
      ]
    },
    {
      "cell_type": "code",
      "metadata": {
        "scrolled": true,
        "id": "kGOhZAQHWadW",
        "colab_type": "code",
        "outputId": "af6ac03b-0b2d-462d-a93e-ab56c6da6155",
        "colab": {}
      },
      "source": [
        "series_obj[[0, 7]]"
      ],
      "execution_count": 0,
      "outputs": [
        {
          "output_type": "execute_result",
          "data": {
            "text/plain": [
              "row 1    0\n",
              "row 8    7\n",
              "dtype: int32"
            ]
          },
          "metadata": {
            "tags": []
          },
          "execution_count": 6
        }
      ]
    },
    {
      "cell_type": "code",
      "metadata": {
        "id": "EMk7eH1BWadb",
        "colab_type": "code",
        "outputId": "08168bd4-f40c-498d-d86b-c359092227f9",
        "colab": {}
      },
      "source": [
        "np.random.seed(25)\n",
        "DF_obj = DataFrame(np.random.rand(36).reshape((6,6)),\n",
        "                   index=['row 1', 'row 2', 'row 3', 'row 4','row 5','row 6'],\n",
        "                   columns=['column 1','column 2','column 3','column 4','column 5','column 6'])\n",
        "DF_obj"
      ],
      "execution_count": 0,
      "outputs": [
        {
          "output_type": "execute_result",
          "data": {
            "text/html": [
              "<div>\n",
              "<style scoped>\n",
              "    .dataframe tbody tr th:only-of-type {\n",
              "        vertical-align: middle;\n",
              "    }\n",
              "\n",
              "    .dataframe tbody tr th {\n",
              "        vertical-align: top;\n",
              "    }\n",
              "\n",
              "    .dataframe thead th {\n",
              "        text-align: right;\n",
              "    }\n",
              "</style>\n",
              "<table border=\"1\" class=\"dataframe\">\n",
              "  <thead>\n",
              "    <tr style=\"text-align: right;\">\n",
              "      <th></th>\n",
              "      <th>column 1</th>\n",
              "      <th>column 2</th>\n",
              "      <th>column 3</th>\n",
              "      <th>column 4</th>\n",
              "      <th>column 5</th>\n",
              "      <th>column 6</th>\n",
              "    </tr>\n",
              "  </thead>\n",
              "  <tbody>\n",
              "    <tr>\n",
              "      <th>row 1</th>\n",
              "      <td>0.870124</td>\n",
              "      <td>0.582277</td>\n",
              "      <td>0.278839</td>\n",
              "      <td>0.185911</td>\n",
              "      <td>0.411100</td>\n",
              "      <td>0.117376</td>\n",
              "    </tr>\n",
              "    <tr>\n",
              "      <th>row 2</th>\n",
              "      <td>0.684969</td>\n",
              "      <td>0.437611</td>\n",
              "      <td>0.556229</td>\n",
              "      <td>0.367080</td>\n",
              "      <td>0.402366</td>\n",
              "      <td>0.113041</td>\n",
              "    </tr>\n",
              "    <tr>\n",
              "      <th>row 3</th>\n",
              "      <td>0.447031</td>\n",
              "      <td>0.585445</td>\n",
              "      <td>0.161985</td>\n",
              "      <td>0.520719</td>\n",
              "      <td>0.326051</td>\n",
              "      <td>0.699186</td>\n",
              "    </tr>\n",
              "    <tr>\n",
              "      <th>row 4</th>\n",
              "      <td>0.366395</td>\n",
              "      <td>0.836375</td>\n",
              "      <td>0.481343</td>\n",
              "      <td>0.516502</td>\n",
              "      <td>0.383048</td>\n",
              "      <td>0.997541</td>\n",
              "    </tr>\n",
              "    <tr>\n",
              "      <th>row 5</th>\n",
              "      <td>0.514244</td>\n",
              "      <td>0.559053</td>\n",
              "      <td>0.034450</td>\n",
              "      <td>0.719930</td>\n",
              "      <td>0.421004</td>\n",
              "      <td>0.436935</td>\n",
              "    </tr>\n",
              "    <tr>\n",
              "      <th>row 6</th>\n",
              "      <td>0.281701</td>\n",
              "      <td>0.900274</td>\n",
              "      <td>0.669612</td>\n",
              "      <td>0.456069</td>\n",
              "      <td>0.289804</td>\n",
              "      <td>0.525819</td>\n",
              "    </tr>\n",
              "  </tbody>\n",
              "</table>\n",
              "</div>"
            ],
            "text/plain": [
              "       column 1  column 2  column 3  column 4  column 5  column 6\n",
              "row 1  0.870124  0.582277  0.278839  0.185911  0.411100  0.117376\n",
              "row 2  0.684969  0.437611  0.556229  0.367080  0.402366  0.113041\n",
              "row 3  0.447031  0.585445  0.161985  0.520719  0.326051  0.699186\n",
              "row 4  0.366395  0.836375  0.481343  0.516502  0.383048  0.997541\n",
              "row 5  0.514244  0.559053  0.034450  0.719930  0.421004  0.436935\n",
              "row 6  0.281701  0.900274  0.669612  0.456069  0.289804  0.525819"
            ]
          },
          "metadata": {
            "tags": []
          },
          "execution_count": 7
        }
      ]
    },
    {
      "cell_type": "code",
      "metadata": {
        "scrolled": false,
        "id": "8ROzUfWZWadh",
        "colab_type": "code",
        "outputId": "4f4c390b-ad70-4dc5-d1b7-96c9dd6f3323",
        "colab": {}
      },
      "source": [
        "DF_obj.loc[['row 2', 'row 5'], ['column 5', 'column 2']]"
      ],
      "execution_count": 0,
      "outputs": [
        {
          "output_type": "execute_result",
          "data": {
            "text/html": [
              "<div>\n",
              "<style scoped>\n",
              "    .dataframe tbody tr th:only-of-type {\n",
              "        vertical-align: middle;\n",
              "    }\n",
              "\n",
              "    .dataframe tbody tr th {\n",
              "        vertical-align: top;\n",
              "    }\n",
              "\n",
              "    .dataframe thead th {\n",
              "        text-align: right;\n",
              "    }\n",
              "</style>\n",
              "<table border=\"1\" class=\"dataframe\">\n",
              "  <thead>\n",
              "    <tr style=\"text-align: right;\">\n",
              "      <th></th>\n",
              "      <th>column 5</th>\n",
              "      <th>column 2</th>\n",
              "    </tr>\n",
              "  </thead>\n",
              "  <tbody>\n",
              "    <tr>\n",
              "      <th>row 2</th>\n",
              "      <td>0.402366</td>\n",
              "      <td>0.437611</td>\n",
              "    </tr>\n",
              "    <tr>\n",
              "      <th>row 5</th>\n",
              "      <td>0.421004</td>\n",
              "      <td>0.559053</td>\n",
              "    </tr>\n",
              "  </tbody>\n",
              "</table>\n",
              "</div>"
            ],
            "text/plain": [
              "       column 5  column 2\n",
              "row 2  0.402366  0.437611\n",
              "row 5  0.421004  0.559053"
            ]
          },
          "metadata": {
            "tags": []
          },
          "execution_count": 8
        }
      ]
    },
    {
      "cell_type": "markdown",
      "metadata": {
        "id": "wNe2dqYFWadm",
        "colab_type": "text"
      },
      "source": [
        "### Data slicing\n",
        "You can use slicing to select and return a slice of several values from a data set. Slicing uses index values so you can use the same square brackets when doing data slicing.\n",
        "\n",
        "How slicing differs, however, is that with slicing you pass in two index values that are separated by a colon. The index value on the left side of the colon should be the first value you want to select. On the right side of the colon, you write the index value for the last value you want to retrieve. When you execute the code, the indexer then simply finds the first record and the last record and returns every record in between them. "
      ]
    },
    {
      "cell_type": "code",
      "metadata": {
        "id": "iZzGneswWado",
        "colab_type": "code",
        "outputId": "a211ca6d-7fe8-4a29-888a-0cbf7b0d359d",
        "colab": {}
      },
      "source": [
        "series_obj['row 3': 'row 7']"
      ],
      "execution_count": 0,
      "outputs": [
        {
          "output_type": "execute_result",
          "data": {
            "text/plain": [
              "row 3    2\n",
              "row 4    3\n",
              "row 5    4\n",
              "row 6    5\n",
              "row 7    6\n",
              "dtype: int32"
            ]
          },
          "metadata": {
            "tags": []
          },
          "execution_count": 9
        }
      ]
    },
    {
      "cell_type": "markdown",
      "metadata": {
        "id": "8Kx60FclWadt",
        "colab_type": "text"
      },
      "source": [
        "### Comparing with scalars\n",
        "Now we're going to talk about comparison operators and scalar values. Just in case you don't know that a scalar value is, it's basically just a single numerical value. You can use comparison operators like greater than or less than to return true/false values for all records to indicate how each element compares to a scalar value."
      ]
    },
    {
      "cell_type": "code",
      "metadata": {
        "scrolled": true,
        "id": "yb2tsgekWadv",
        "colab_type": "code",
        "outputId": "45300e7d-83cd-4775-fae2-c3ec2152dd42",
        "colab": {}
      },
      "source": [
        "DF_obj < .2"
      ],
      "execution_count": 0,
      "outputs": [
        {
          "output_type": "execute_result",
          "data": {
            "text/html": [
              "<div>\n",
              "<style scoped>\n",
              "    .dataframe tbody tr th:only-of-type {\n",
              "        vertical-align: middle;\n",
              "    }\n",
              "\n",
              "    .dataframe tbody tr th {\n",
              "        vertical-align: top;\n",
              "    }\n",
              "\n",
              "    .dataframe thead th {\n",
              "        text-align: right;\n",
              "    }\n",
              "</style>\n",
              "<table border=\"1\" class=\"dataframe\">\n",
              "  <thead>\n",
              "    <tr style=\"text-align: right;\">\n",
              "      <th></th>\n",
              "      <th>column 1</th>\n",
              "      <th>column 2</th>\n",
              "      <th>column 3</th>\n",
              "      <th>column 4</th>\n",
              "      <th>column 5</th>\n",
              "      <th>column 6</th>\n",
              "    </tr>\n",
              "  </thead>\n",
              "  <tbody>\n",
              "    <tr>\n",
              "      <th>row 1</th>\n",
              "      <td>False</td>\n",
              "      <td>False</td>\n",
              "      <td>False</td>\n",
              "      <td>True</td>\n",
              "      <td>False</td>\n",
              "      <td>True</td>\n",
              "    </tr>\n",
              "    <tr>\n",
              "      <th>row 2</th>\n",
              "      <td>False</td>\n",
              "      <td>False</td>\n",
              "      <td>False</td>\n",
              "      <td>False</td>\n",
              "      <td>False</td>\n",
              "      <td>True</td>\n",
              "    </tr>\n",
              "    <tr>\n",
              "      <th>row 3</th>\n",
              "      <td>False</td>\n",
              "      <td>False</td>\n",
              "      <td>True</td>\n",
              "      <td>False</td>\n",
              "      <td>False</td>\n",
              "      <td>False</td>\n",
              "    </tr>\n",
              "    <tr>\n",
              "      <th>row 4</th>\n",
              "      <td>False</td>\n",
              "      <td>False</td>\n",
              "      <td>False</td>\n",
              "      <td>False</td>\n",
              "      <td>False</td>\n",
              "      <td>False</td>\n",
              "    </tr>\n",
              "    <tr>\n",
              "      <th>row 5</th>\n",
              "      <td>False</td>\n",
              "      <td>False</td>\n",
              "      <td>True</td>\n",
              "      <td>False</td>\n",
              "      <td>False</td>\n",
              "      <td>False</td>\n",
              "    </tr>\n",
              "    <tr>\n",
              "      <th>row 6</th>\n",
              "      <td>False</td>\n",
              "      <td>False</td>\n",
              "      <td>False</td>\n",
              "      <td>False</td>\n",
              "      <td>False</td>\n",
              "      <td>False</td>\n",
              "    </tr>\n",
              "  </tbody>\n",
              "</table>\n",
              "</div>"
            ],
            "text/plain": [
              "       column 1  column 2  column 3  column 4  column 5  column 6\n",
              "row 1     False     False     False      True     False      True\n",
              "row 2     False     False     False     False     False      True\n",
              "row 3     False     False      True     False     False     False\n",
              "row 4     False     False     False     False     False     False\n",
              "row 5     False     False      True     False     False     False\n",
              "row 6     False     False     False     False     False     False"
            ]
          },
          "metadata": {
            "tags": []
          },
          "execution_count": 10
        }
      ]
    },
    {
      "cell_type": "markdown",
      "metadata": {
        "id": "d7Als9d4Wad0",
        "colab_type": "text"
      },
      "source": [
        "### Filtering with scalars"
      ]
    },
    {
      "cell_type": "code",
      "metadata": {
        "id": "9YHbFHwCWad2",
        "colab_type": "code",
        "outputId": "da328103-336d-4d58-f485-18b575cdc6ae",
        "colab": {}
      },
      "source": [
        "series_obj[series_obj > 6]"
      ],
      "execution_count": 0,
      "outputs": [
        {
          "output_type": "execute_result",
          "data": {
            "text/plain": [
              "row 8    7\n",
              "dtype: int32"
            ]
          },
          "metadata": {
            "tags": []
          },
          "execution_count": 11
        }
      ]
    },
    {
      "cell_type": "markdown",
      "metadata": {
        "id": "pR_ap_8XWad7",
        "colab_type": "text"
      },
      "source": [
        "### Setting values with scalars"
      ]
    },
    {
      "cell_type": "code",
      "metadata": {
        "id": "uVGpAlBfWad9",
        "colab_type": "code",
        "outputId": "ffdd67bc-7b76-47af-c357-bdf778979eaf",
        "colab": {}
      },
      "source": [
        "series_obj['row 1', 'row 5', 'row 8'] = 8\n",
        "series_obj"
      ],
      "execution_count": 0,
      "outputs": [
        {
          "output_type": "execute_result",
          "data": {
            "text/plain": [
              "row 1    8\n",
              "row 2    1\n",
              "row 3    2\n",
              "row 4    3\n",
              "row 5    8\n",
              "row 6    5\n",
              "row 7    6\n",
              "row 8    8\n",
              "dtype: int32"
            ]
          },
          "metadata": {
            "tags": []
          },
          "execution_count": 12
        }
      ]
    },
    {
      "cell_type": "markdown",
      "metadata": {
        "id": "WOVmQpODWaeC",
        "colab_type": "text"
      },
      "source": [
        "Filtering and selecting using Pandas is one of the most fundamental things you'll do in data analysis. Make sure you know how to use indexing to select and retrieve records."
      ]
    }
  ]
}