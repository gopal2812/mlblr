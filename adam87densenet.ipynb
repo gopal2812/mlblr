{
  "nbformat": 4,
  "nbformat_minor": 0,
  "metadata": {
    "colab": {
      "name": "Copy of Untitled1.ipynb",
      "version": "0.3.2",
      "provenance": [],
      "collapsed_sections": []
    },
    "kernelspec": {
      "name": "python3",
      "display_name": "Python 3"
    },
    "accelerator": "GPU"
  },
  "cells": [
    {
      "cell_type": "markdown",
      "metadata": {
        "id": "view-in-github",
        "colab_type": "text"
      },
      "source": [
        "[View in Colaboratory](https://colab.research.google.com/github/gopal2812/mlblr/blob/master/adam87densenet.ipynb)"
      ]
    },
    {
      "metadata": {
        "id": "Afy7OvON8MmW",
        "colab_type": "code",
        "colab": {
          "base_uri": "https://localhost:8080/",
          "height": 7921
        },
        "outputId": "c0549c4a-bfc3-4a07-d90c-a06a35ba3e35"
      },
      "cell_type": "code",
      "source": [
        "!pip install -q keras\n",
        "import keras\n",
        "\n",
        "from keras.datasets import cifar10\n",
        "from keras.models import Model, Sequential\n",
        "from keras.layers import Dense, Dropout, Flatten, Input, AveragePooling2D, merge, Activation\n",
        "from keras.layers import Conv2D, MaxPooling2D, BatchNormalization\n",
        "from keras.layers import Concatenate\n",
        "from keras.optimizers import Adam\n",
        "from keras import regularizers\n",
        "from keras.preprocessing.image import ImageDataGenerator\n",
        "import matplotlib.pyplot as plt\n",
        "from keras.regularizers import l2\n",
        "\n",
        "# this part will prevent tensorflow to allocate all the avaliable GPU Memory\n",
        "# backend\n",
        "import tensorflow as tf\n",
        "from keras import backend as k\n",
        "\n",
        "# Don't pre-allocate memory; allocate as-needed\n",
        "config = tf.ConfigProto()\n",
        "config.gpu_options.allow_growth = True\n",
        "\n",
        "# Create a session with the above options specified.\n",
        "k.tensorflow_backend.set_session(tf.Session(config=config))\n",
        "\n",
        "batch_size = 128\n",
        "num_classes = 10\n",
        "epochs = 50\n",
        "l = 24\n",
        "num_filter = 64\n",
        "compression = 0.5\n",
        "dropout_rate = 0.2\n",
        "\n",
        "(x_train, y_train), (x_test, y_test) = cifar10.load_data()\n",
        "img_height, img_width, channel = x_train.shape[1],x_train.shape[2],x_train.shape[3]\n",
        "\n",
        "# convert to one hot encoing \n",
        "y_train = keras.utils.to_categorical(y_train, num_classes)\n",
        "y_test = keras.utils.to_categorical(y_test, num_classes)\n",
        "\n",
        "# Dense Block\n",
        "def add_denseblock(input, num_filter = 12, dropout_rate = 0.2):\n",
        "    global compression\n",
        "    temp = input\n",
        "    for _ in range(l):\n",
        "        BatchNorm = BatchNormalization()(temp)\n",
        "        relu = Activation('relu')(BatchNorm)\n",
        "        Conv2D_3_3 = Conv2D(int(num_filter*compression), (3,3), use_bias=False ,padding='same')(relu)\n",
        "        if dropout_rate>0:\n",
        "          Conv2D_3_3 = Dropout(dropout_rate)(Conv2D_3_3)\n",
        "        concat = Concatenate(axis=-1)([temp,Conv2D_3_3])\n",
        "        \n",
        "        temp = concat\n",
        "        \n",
        "    return temp\n",
        "  \n",
        "def add_transition(input, num_filter = 12, dropout_rate = 0.2):\n",
        "    global compression\n",
        "    BatchNorm = BatchNormalization()(input)\n",
        "    relu = Activation('relu')(BatchNorm)\n",
        "    Conv2D_BottleNeck = Conv2D(int(num_filter*compression), (1,1), use_bias=False ,padding='same')(relu)\n",
        "    if dropout_rate>0:\n",
        "      Conv2D_BottleNeck = Dropout(dropout_rate)(Conv2D_BottleNeck)\n",
        "    avg = AveragePooling2D(pool_size=(2,2))(Conv2D_BottleNeck)\n",
        "    \n",
        "    return avg\n",
        "  \n",
        "def output_layer(input):\n",
        "    global compression\n",
        "    BatchNorm = BatchNormalization()(input)\n",
        "    relu = Activation('relu')(BatchNorm)\n",
        "    AvgPooling = AveragePooling2D(pool_size=(2,2))(relu)\n",
        "    flat = Flatten()(AvgPooling)\n",
        "    output = Dense(num_classes, activation='softmax')(flat)\n",
        "    \n",
        "    return output\n",
        "  \n",
        "num_filter = 64\n",
        "dropout_rate = 0.2\n",
        "l = 6\n",
        "input = Input(shape=(img_height, img_width, channel,))\n",
        "First_Conv2D = Conv2D(num_filter,(3,3),use_bias=False)(input)\n",
        "\n",
        "First_Block = add_denseblock(First_Conv2D, num_filter, dropout_rate)\n",
        "First_Transition = add_transition(First_Block, num_filter, dropout_rate)\n",
        "\n",
        "Second_Block = add_denseblock(First_Transition, num_filter, dropout_rate)\n",
        "Second_Transition = add_transition(Second_Block, num_filter, dropout_rate)\n",
        "\n",
        "Third_Block = add_denseblock(Second_Transition, num_filter, dropout_rate)\n",
        "Third_Transition = add_transition(Third_Block, num_filter, dropout_rate)\n",
        "\n",
        "Last_Block = add_denseblock(Third_Transition,  num_filter, dropout_rate)\n",
        "output = output_layer(Last_Block)\n",
        "\n",
        "model = Model(inputs=[input], outputs=[output])\n",
        "model.summary()\n",
        "\n",
        "model.compile(loss='categorical_crossentropy',\n",
        "              optimizer=Adam(),\n",
        "              metrics=['accuracy'])\n",
        "\n",
        "\n",
        "datagen = ImageDataGenerator(\n",
        "    rotation_range=15,\n",
        "    width_shift_range=0.1,\n",
        "    height_shift_range=0.1,\n",
        "    horizontal_flip=True,\n",
        "    )\n",
        "datagen.fit(x_train)\n",
        "history = model.fit_generator(datagen.flow(x_train, y_train, batch_size=batch_size),\n",
        "                               epochs=epochs,verbose=1,\n",
        "                               steps_per_epoch=x_train.shape[0] // batch_size,\n",
        "                               validation_data=(x_test, y_test),\n",
        "                               workers=4)\n",
        "plt.plot(history.history['loss'],'r',linewidth=3.0)\n",
        "plt.plot(history.history['val_loss'],'b',linewidth=3.0)\n",
        "plt.legend(['Training loss', 'Validation Loss'],fontsize=18)\n",
        "plt.xlabel('Epochs ',fontsize=16)\n",
        "plt.ylabel('Loss',fontsize=16)\n",
        "plt.title('Loss Curves',fontsize=16)\n",
        " \n",
        "# Accuracy Curves\n",
        "plt.figure(figsize=[8,6])\n",
        "plt.plot(history.history['acc'],'r',linewidth=3.0)\n",
        "plt.plot(history.history['val_acc'],'b',linewidth=3.0)\n",
        "plt.legend(['Training Accuracy', 'Validation Accuracy'],fontsize=18)\n",
        "plt.xlabel('Epochs ',fontsize=16)\n",
        "plt.ylabel('Accuracy',fontsize=16)\n",
        "plt.title('Accuracy Curves',fontsize=16)\n",
        "\n",
        "\n",
        "score = model.evaluate(x_test, y_test, verbose=1)\n",
        "print('Test loss:', score[0])\n",
        "print('Test accuracy:', score[1])"
      ],
      "execution_count": 1,
      "outputs": [
        {
          "output_type": "stream",
          "text": [
            "Using TensorFlow backend.\n"
          ],
          "name": "stderr"
        },
        {
          "output_type": "stream",
          "text": [
            "__________________________________________________________________________________________________\n",
            "Layer (type)                    Output Shape         Param #     Connected to                     \n",
            "==================================================================================================\n",
            "input_1 (InputLayer)            (None, 32, 32, 3)    0                                            \n",
            "__________________________________________________________________________________________________\n",
            "conv2d_1 (Conv2D)               (None, 30, 30, 64)   1728        input_1[0][0]                    \n",
            "__________________________________________________________________________________________________\n",
            "batch_normalization_1 (BatchNor (None, 30, 30, 64)   256         conv2d_1[0][0]                   \n",
            "__________________________________________________________________________________________________\n",
            "activation_1 (Activation)       (None, 30, 30, 64)   0           batch_normalization_1[0][0]      \n",
            "__________________________________________________________________________________________________\n",
            "conv2d_2 (Conv2D)               (None, 30, 30, 32)   18432       activation_1[0][0]               \n",
            "__________________________________________________________________________________________________\n",
            "dropout_1 (Dropout)             (None, 30, 30, 32)   0           conv2d_2[0][0]                   \n",
            "__________________________________________________________________________________________________\n",
            "concatenate_1 (Concatenate)     (None, 30, 30, 96)   0           conv2d_1[0][0]                   \n",
            "                                                                 dropout_1[0][0]                  \n",
            "__________________________________________________________________________________________________\n",
            "batch_normalization_2 (BatchNor (None, 30, 30, 96)   384         concatenate_1[0][0]              \n",
            "__________________________________________________________________________________________________\n",
            "activation_2 (Activation)       (None, 30, 30, 96)   0           batch_normalization_2[0][0]      \n",
            "__________________________________________________________________________________________________\n",
            "conv2d_3 (Conv2D)               (None, 30, 30, 32)   27648       activation_2[0][0]               \n",
            "__________________________________________________________________________________________________\n",
            "dropout_2 (Dropout)             (None, 30, 30, 32)   0           conv2d_3[0][0]                   \n",
            "__________________________________________________________________________________________________\n",
            "concatenate_2 (Concatenate)     (None, 30, 30, 128)  0           concatenate_1[0][0]              \n",
            "                                                                 dropout_2[0][0]                  \n",
            "__________________________________________________________________________________________________\n",
            "batch_normalization_3 (BatchNor (None, 30, 30, 128)  512         concatenate_2[0][0]              \n",
            "__________________________________________________________________________________________________\n",
            "activation_3 (Activation)       (None, 30, 30, 128)  0           batch_normalization_3[0][0]      \n",
            "__________________________________________________________________________________________________\n",
            "conv2d_4 (Conv2D)               (None, 30, 30, 32)   36864       activation_3[0][0]               \n",
            "__________________________________________________________________________________________________\n",
            "dropout_3 (Dropout)             (None, 30, 30, 32)   0           conv2d_4[0][0]                   \n",
            "__________________________________________________________________________________________________\n",
            "concatenate_3 (Concatenate)     (None, 30, 30, 160)  0           concatenate_2[0][0]              \n",
            "                                                                 dropout_3[0][0]                  \n",
            "__________________________________________________________________________________________________\n",
            "batch_normalization_4 (BatchNor (None, 30, 30, 160)  640         concatenate_3[0][0]              \n",
            "__________________________________________________________________________________________________\n",
            "activation_4 (Activation)       (None, 30, 30, 160)  0           batch_normalization_4[0][0]      \n",
            "__________________________________________________________________________________________________\n",
            "conv2d_5 (Conv2D)               (None, 30, 30, 32)   46080       activation_4[0][0]               \n",
            "__________________________________________________________________________________________________\n",
            "dropout_4 (Dropout)             (None, 30, 30, 32)   0           conv2d_5[0][0]                   \n",
            "__________________________________________________________________________________________________\n",
            "concatenate_4 (Concatenate)     (None, 30, 30, 192)  0           concatenate_3[0][0]              \n",
            "                                                                 dropout_4[0][0]                  \n",
            "__________________________________________________________________________________________________\n",
            "batch_normalization_5 (BatchNor (None, 30, 30, 192)  768         concatenate_4[0][0]              \n",
            "__________________________________________________________________________________________________\n",
            "activation_5 (Activation)       (None, 30, 30, 192)  0           batch_normalization_5[0][0]      \n",
            "__________________________________________________________________________________________________\n",
            "conv2d_6 (Conv2D)               (None, 30, 30, 32)   55296       activation_5[0][0]               \n",
            "__________________________________________________________________________________________________\n",
            "dropout_5 (Dropout)             (None, 30, 30, 32)   0           conv2d_6[0][0]                   \n",
            "__________________________________________________________________________________________________\n",
            "concatenate_5 (Concatenate)     (None, 30, 30, 224)  0           concatenate_4[0][0]              \n",
            "                                                                 dropout_5[0][0]                  \n",
            "__________________________________________________________________________________________________\n",
            "batch_normalization_6 (BatchNor (None, 30, 30, 224)  896         concatenate_5[0][0]              \n",
            "__________________________________________________________________________________________________\n",
            "activation_6 (Activation)       (None, 30, 30, 224)  0           batch_normalization_6[0][0]      \n",
            "__________________________________________________________________________________________________\n",
            "conv2d_7 (Conv2D)               (None, 30, 30, 32)   64512       activation_6[0][0]               \n",
            "__________________________________________________________________________________________________\n",
            "dropout_6 (Dropout)             (None, 30, 30, 32)   0           conv2d_7[0][0]                   \n",
            "__________________________________________________________________________________________________\n",
            "concatenate_6 (Concatenate)     (None, 30, 30, 256)  0           concatenate_5[0][0]              \n",
            "                                                                 dropout_6[0][0]                  \n",
            "__________________________________________________________________________________________________\n",
            "batch_normalization_7 (BatchNor (None, 30, 30, 256)  1024        concatenate_6[0][0]              \n",
            "__________________________________________________________________________________________________\n",
            "activation_7 (Activation)       (None, 30, 30, 256)  0           batch_normalization_7[0][0]      \n",
            "__________________________________________________________________________________________________\n",
            "conv2d_8 (Conv2D)               (None, 30, 30, 32)   8192        activation_7[0][0]               \n",
            "__________________________________________________________________________________________________\n",
            "dropout_7 (Dropout)             (None, 30, 30, 32)   0           conv2d_8[0][0]                   \n",
            "__________________________________________________________________________________________________\n",
            "average_pooling2d_1 (AveragePoo (None, 15, 15, 32)   0           dropout_7[0][0]                  \n",
            "__________________________________________________________________________________________________\n",
            "batch_normalization_8 (BatchNor (None, 15, 15, 32)   128         average_pooling2d_1[0][0]        \n",
            "__________________________________________________________________________________________________\n",
            "activation_8 (Activation)       (None, 15, 15, 32)   0           batch_normalization_8[0][0]      \n",
            "__________________________________________________________________________________________________\n",
            "conv2d_9 (Conv2D)               (None, 15, 15, 32)   9216        activation_8[0][0]               \n",
            "__________________________________________________________________________________________________\n",
            "dropout_8 (Dropout)             (None, 15, 15, 32)   0           conv2d_9[0][0]                   \n",
            "__________________________________________________________________________________________________\n",
            "concatenate_7 (Concatenate)     (None, 15, 15, 64)   0           average_pooling2d_1[0][0]        \n",
            "                                                                 dropout_8[0][0]                  \n",
            "__________________________________________________________________________________________________\n",
            "batch_normalization_9 (BatchNor (None, 15, 15, 64)   256         concatenate_7[0][0]              \n",
            "__________________________________________________________________________________________________\n",
            "activation_9 (Activation)       (None, 15, 15, 64)   0           batch_normalization_9[0][0]      \n",
            "__________________________________________________________________________________________________\n",
            "conv2d_10 (Conv2D)              (None, 15, 15, 32)   18432       activation_9[0][0]               \n",
            "__________________________________________________________________________________________________\n",
            "dropout_9 (Dropout)             (None, 15, 15, 32)   0           conv2d_10[0][0]                  \n",
            "__________________________________________________________________________________________________\n",
            "concatenate_8 (Concatenate)     (None, 15, 15, 96)   0           concatenate_7[0][0]              \n",
            "                                                                 dropout_9[0][0]                  \n",
            "__________________________________________________________________________________________________\n",
            "batch_normalization_10 (BatchNo (None, 15, 15, 96)   384         concatenate_8[0][0]              \n",
            "__________________________________________________________________________________________________\n",
            "activation_10 (Activation)      (None, 15, 15, 96)   0           batch_normalization_10[0][0]     \n",
            "__________________________________________________________________________________________________\n",
            "conv2d_11 (Conv2D)              (None, 15, 15, 32)   27648       activation_10[0][0]              \n",
            "__________________________________________________________________________________________________\n",
            "dropout_10 (Dropout)            (None, 15, 15, 32)   0           conv2d_11[0][0]                  \n",
            "__________________________________________________________________________________________________\n",
            "concatenate_9 (Concatenate)     (None, 15, 15, 128)  0           concatenate_8[0][0]              \n",
            "                                                                 dropout_10[0][0]                 \n",
            "__________________________________________________________________________________________________\n",
            "batch_normalization_11 (BatchNo (None, 15, 15, 128)  512         concatenate_9[0][0]              \n",
            "__________________________________________________________________________________________________\n",
            "activation_11 (Activation)      (None, 15, 15, 128)  0           batch_normalization_11[0][0]     \n",
            "__________________________________________________________________________________________________\n",
            "conv2d_12 (Conv2D)              (None, 15, 15, 32)   36864       activation_11[0][0]              \n",
            "__________________________________________________________________________________________________\n",
            "dropout_11 (Dropout)            (None, 15, 15, 32)   0           conv2d_12[0][0]                  \n",
            "__________________________________________________________________________________________________\n",
            "concatenate_10 (Concatenate)    (None, 15, 15, 160)  0           concatenate_9[0][0]              \n",
            "                                                                 dropout_11[0][0]                 \n",
            "__________________________________________________________________________________________________\n",
            "batch_normalization_12 (BatchNo (None, 15, 15, 160)  640         concatenate_10[0][0]             \n",
            "__________________________________________________________________________________________________\n",
            "activation_12 (Activation)      (None, 15, 15, 160)  0           batch_normalization_12[0][0]     \n",
            "__________________________________________________________________________________________________\n",
            "conv2d_13 (Conv2D)              (None, 15, 15, 32)   46080       activation_12[0][0]              \n",
            "__________________________________________________________________________________________________\n",
            "dropout_12 (Dropout)            (None, 15, 15, 32)   0           conv2d_13[0][0]                  \n",
            "__________________________________________________________________________________________________\n",
            "concatenate_11 (Concatenate)    (None, 15, 15, 192)  0           concatenate_10[0][0]             \n",
            "                                                                 dropout_12[0][0]                 \n",
            "__________________________________________________________________________________________________\n",
            "batch_normalization_13 (BatchNo (None, 15, 15, 192)  768         concatenate_11[0][0]             \n",
            "__________________________________________________________________________________________________\n",
            "activation_13 (Activation)      (None, 15, 15, 192)  0           batch_normalization_13[0][0]     \n",
            "__________________________________________________________________________________________________\n",
            "conv2d_14 (Conv2D)              (None, 15, 15, 32)   55296       activation_13[0][0]              \n",
            "__________________________________________________________________________________________________\n",
            "dropout_13 (Dropout)            (None, 15, 15, 32)   0           conv2d_14[0][0]                  \n",
            "__________________________________________________________________________________________________\n",
            "concatenate_12 (Concatenate)    (None, 15, 15, 224)  0           concatenate_11[0][0]             \n",
            "                                                                 dropout_13[0][0]                 \n",
            "__________________________________________________________________________________________________\n",
            "batch_normalization_14 (BatchNo (None, 15, 15, 224)  896         concatenate_12[0][0]             \n",
            "__________________________________________________________________________________________________\n",
            "activation_14 (Activation)      (None, 15, 15, 224)  0           batch_normalization_14[0][0]     \n",
            "__________________________________________________________________________________________________\n",
            "conv2d_15 (Conv2D)              (None, 15, 15, 32)   7168        activation_14[0][0]              \n",
            "__________________________________________________________________________________________________\n",
            "dropout_14 (Dropout)            (None, 15, 15, 32)   0           conv2d_15[0][0]                  \n",
            "__________________________________________________________________________________________________\n",
            "average_pooling2d_2 (AveragePoo (None, 7, 7, 32)     0           dropout_14[0][0]                 \n",
            "__________________________________________________________________________________________________\n",
            "batch_normalization_15 (BatchNo (None, 7, 7, 32)     128         average_pooling2d_2[0][0]        \n",
            "__________________________________________________________________________________________________\n",
            "activation_15 (Activation)      (None, 7, 7, 32)     0           batch_normalization_15[0][0]     \n",
            "__________________________________________________________________________________________________\n",
            "conv2d_16 (Conv2D)              (None, 7, 7, 32)     9216        activation_15[0][0]              \n",
            "__________________________________________________________________________________________________\n",
            "dropout_15 (Dropout)            (None, 7, 7, 32)     0           conv2d_16[0][0]                  \n",
            "__________________________________________________________________________________________________\n",
            "concatenate_13 (Concatenate)    (None, 7, 7, 64)     0           average_pooling2d_2[0][0]        \n",
            "                                                                 dropout_15[0][0]                 \n",
            "__________________________________________________________________________________________________\n",
            "batch_normalization_16 (BatchNo (None, 7, 7, 64)     256         concatenate_13[0][0]             \n",
            "__________________________________________________________________________________________________\n",
            "activation_16 (Activation)      (None, 7, 7, 64)     0           batch_normalization_16[0][0]     \n",
            "__________________________________________________________________________________________________\n",
            "conv2d_17 (Conv2D)              (None, 7, 7, 32)     18432       activation_16[0][0]              \n",
            "__________________________________________________________________________________________________\n",
            "dropout_16 (Dropout)            (None, 7, 7, 32)     0           conv2d_17[0][0]                  \n",
            "__________________________________________________________________________________________________\n",
            "concatenate_14 (Concatenate)    (None, 7, 7, 96)     0           concatenate_13[0][0]             \n",
            "                                                                 dropout_16[0][0]                 \n",
            "__________________________________________________________________________________________________\n",
            "batch_normalization_17 (BatchNo (None, 7, 7, 96)     384         concatenate_14[0][0]             \n",
            "__________________________________________________________________________________________________\n",
            "activation_17 (Activation)      (None, 7, 7, 96)     0           batch_normalization_17[0][0]     \n",
            "__________________________________________________________________________________________________\n",
            "conv2d_18 (Conv2D)              (None, 7, 7, 32)     27648       activation_17[0][0]              \n",
            "__________________________________________________________________________________________________\n",
            "dropout_17 (Dropout)            (None, 7, 7, 32)     0           conv2d_18[0][0]                  \n",
            "__________________________________________________________________________________________________\n",
            "concatenate_15 (Concatenate)    (None, 7, 7, 128)    0           concatenate_14[0][0]             \n",
            "                                                                 dropout_17[0][0]                 \n",
            "__________________________________________________________________________________________________\n",
            "batch_normalization_18 (BatchNo (None, 7, 7, 128)    512         concatenate_15[0][0]             \n",
            "__________________________________________________________________________________________________\n",
            "activation_18 (Activation)      (None, 7, 7, 128)    0           batch_normalization_18[0][0]     \n",
            "__________________________________________________________________________________________________\n",
            "conv2d_19 (Conv2D)              (None, 7, 7, 32)     36864       activation_18[0][0]              \n",
            "__________________________________________________________________________________________________\n",
            "dropout_18 (Dropout)            (None, 7, 7, 32)     0           conv2d_19[0][0]                  \n",
            "__________________________________________________________________________________________________\n",
            "concatenate_16 (Concatenate)    (None, 7, 7, 160)    0           concatenate_15[0][0]             \n",
            "                                                                 dropout_18[0][0]                 \n",
            "__________________________________________________________________________________________________\n",
            "batch_normalization_19 (BatchNo (None, 7, 7, 160)    640         concatenate_16[0][0]             \n",
            "__________________________________________________________________________________________________\n",
            "activation_19 (Activation)      (None, 7, 7, 160)    0           batch_normalization_19[0][0]     \n",
            "__________________________________________________________________________________________________\n",
            "conv2d_20 (Conv2D)              (None, 7, 7, 32)     46080       activation_19[0][0]              \n",
            "__________________________________________________________________________________________________\n",
            "dropout_19 (Dropout)            (None, 7, 7, 32)     0           conv2d_20[0][0]                  \n",
            "__________________________________________________________________________________________________\n",
            "concatenate_17 (Concatenate)    (None, 7, 7, 192)    0           concatenate_16[0][0]             \n",
            "                                                                 dropout_19[0][0]                 \n",
            "__________________________________________________________________________________________________\n",
            "batch_normalization_20 (BatchNo (None, 7, 7, 192)    768         concatenate_17[0][0]             \n",
            "__________________________________________________________________________________________________\n",
            "activation_20 (Activation)      (None, 7, 7, 192)    0           batch_normalization_20[0][0]     \n",
            "__________________________________________________________________________________________________\n",
            "conv2d_21 (Conv2D)              (None, 7, 7, 32)     55296       activation_20[0][0]              \n",
            "__________________________________________________________________________________________________\n",
            "dropout_20 (Dropout)            (None, 7, 7, 32)     0           conv2d_21[0][0]                  \n",
            "__________________________________________________________________________________________________\n",
            "concatenate_18 (Concatenate)    (None, 7, 7, 224)    0           concatenate_17[0][0]             \n",
            "                                                                 dropout_20[0][0]                 \n",
            "__________________________________________________________________________________________________\n",
            "batch_normalization_21 (BatchNo (None, 7, 7, 224)    896         concatenate_18[0][0]             \n",
            "__________________________________________________________________________________________________\n",
            "activation_21 (Activation)      (None, 7, 7, 224)    0           batch_normalization_21[0][0]     \n",
            "__________________________________________________________________________________________________\n",
            "conv2d_22 (Conv2D)              (None, 7, 7, 32)     7168        activation_21[0][0]              \n",
            "__________________________________________________________________________________________________\n",
            "dropout_21 (Dropout)            (None, 7, 7, 32)     0           conv2d_22[0][0]                  \n",
            "__________________________________________________________________________________________________\n",
            "average_pooling2d_3 (AveragePoo (None, 3, 3, 32)     0           dropout_21[0][0]                 \n",
            "__________________________________________________________________________________________________\n",
            "batch_normalization_22 (BatchNo (None, 3, 3, 32)     128         average_pooling2d_3[0][0]        \n",
            "__________________________________________________________________________________________________\n",
            "activation_22 (Activation)      (None, 3, 3, 32)     0           batch_normalization_22[0][0]     \n",
            "__________________________________________________________________________________________________\n",
            "conv2d_23 (Conv2D)              (None, 3, 3, 32)     9216        activation_22[0][0]              \n",
            "__________________________________________________________________________________________________\n",
            "dropout_22 (Dropout)            (None, 3, 3, 32)     0           conv2d_23[0][0]                  \n",
            "__________________________________________________________________________________________________\n",
            "concatenate_19 (Concatenate)    (None, 3, 3, 64)     0           average_pooling2d_3[0][0]        \n",
            "                                                                 dropout_22[0][0]                 \n",
            "__________________________________________________________________________________________________\n",
            "batch_normalization_23 (BatchNo (None, 3, 3, 64)     256         concatenate_19[0][0]             \n",
            "__________________________________________________________________________________________________\n",
            "activation_23 (Activation)      (None, 3, 3, 64)     0           batch_normalization_23[0][0]     \n",
            "__________________________________________________________________________________________________\n",
            "conv2d_24 (Conv2D)              (None, 3, 3, 32)     18432       activation_23[0][0]              \n",
            "__________________________________________________________________________________________________\n",
            "dropout_23 (Dropout)            (None, 3, 3, 32)     0           conv2d_24[0][0]                  \n",
            "__________________________________________________________________________________________________\n",
            "concatenate_20 (Concatenate)    (None, 3, 3, 96)     0           concatenate_19[0][0]             \n",
            "                                                                 dropout_23[0][0]                 \n",
            "__________________________________________________________________________________________________\n",
            "batch_normalization_24 (BatchNo (None, 3, 3, 96)     384         concatenate_20[0][0]             \n",
            "__________________________________________________________________________________________________\n",
            "activation_24 (Activation)      (None, 3, 3, 96)     0           batch_normalization_24[0][0]     \n",
            "__________________________________________________________________________________________________\n",
            "conv2d_25 (Conv2D)              (None, 3, 3, 32)     27648       activation_24[0][0]              \n",
            "__________________________________________________________________________________________________\n",
            "dropout_24 (Dropout)            (None, 3, 3, 32)     0           conv2d_25[0][0]                  \n",
            "__________________________________________________________________________________________________\n",
            "concatenate_21 (Concatenate)    (None, 3, 3, 128)    0           concatenate_20[0][0]             \n",
            "                                                                 dropout_24[0][0]                 \n",
            "__________________________________________________________________________________________________\n",
            "batch_normalization_25 (BatchNo (None, 3, 3, 128)    512         concatenate_21[0][0]             \n",
            "__________________________________________________________________________________________________\n",
            "activation_25 (Activation)      (None, 3, 3, 128)    0           batch_normalization_25[0][0]     \n",
            "__________________________________________________________________________________________________\n",
            "conv2d_26 (Conv2D)              (None, 3, 3, 32)     36864       activation_25[0][0]              \n",
            "__________________________________________________________________________________________________\n",
            "dropout_25 (Dropout)            (None, 3, 3, 32)     0           conv2d_26[0][0]                  \n",
            "__________________________________________________________________________________________________\n",
            "concatenate_22 (Concatenate)    (None, 3, 3, 160)    0           concatenate_21[0][0]             \n",
            "                                                                 dropout_25[0][0]                 \n",
            "__________________________________________________________________________________________________\n",
            "batch_normalization_26 (BatchNo (None, 3, 3, 160)    640         concatenate_22[0][0]             \n",
            "__________________________________________________________________________________________________\n",
            "activation_26 (Activation)      (None, 3, 3, 160)    0           batch_normalization_26[0][0]     \n",
            "__________________________________________________________________________________________________\n",
            "conv2d_27 (Conv2D)              (None, 3, 3, 32)     46080       activation_26[0][0]              \n",
            "__________________________________________________________________________________________________\n",
            "dropout_26 (Dropout)            (None, 3, 3, 32)     0           conv2d_27[0][0]                  \n",
            "__________________________________________________________________________________________________\n",
            "concatenate_23 (Concatenate)    (None, 3, 3, 192)    0           concatenate_22[0][0]             \n",
            "                                                                 dropout_26[0][0]                 \n",
            "__________________________________________________________________________________________________\n",
            "batch_normalization_27 (BatchNo (None, 3, 3, 192)    768         concatenate_23[0][0]             \n",
            "__________________________________________________________________________________________________\n",
            "activation_27 (Activation)      (None, 3, 3, 192)    0           batch_normalization_27[0][0]     \n",
            "__________________________________________________________________________________________________\n",
            "conv2d_28 (Conv2D)              (None, 3, 3, 32)     55296       activation_27[0][0]              \n",
            "__________________________________________________________________________________________________\n",
            "dropout_27 (Dropout)            (None, 3, 3, 32)     0           conv2d_28[0][0]                  \n",
            "__________________________________________________________________________________________________\n",
            "concatenate_24 (Concatenate)    (None, 3, 3, 224)    0           concatenate_23[0][0]             \n",
            "                                                                 dropout_27[0][0]                 \n",
            "__________________________________________________________________________________________________\n",
            "batch_normalization_28 (BatchNo (None, 3, 3, 224)    896         concatenate_24[0][0]             \n",
            "__________________________________________________________________________________________________\n",
            "activation_28 (Activation)      (None, 3, 3, 224)    0           batch_normalization_28[0][0]     \n",
            "__________________________________________________________________________________________________\n",
            "average_pooling2d_4 (AveragePoo (None, 1, 1, 224)    0           activation_28[0][0]              \n",
            "__________________________________________________________________________________________________\n",
            "flatten_1 (Flatten)             (None, 224)          0           average_pooling2d_4[0][0]        \n",
            "__________________________________________________________________________________________________\n",
            "dense_1 (Dense)                 (None, 10)           2250        flatten_1[0][0]                  \n",
            "==================================================================================================\n",
            "Total params: 871,178\n",
            "Trainable params: 863,562\n",
            "Non-trainable params: 7,616\n",
            "__________________________________________________________________________________________________\n",
            "Epoch 1/50\n",
            "  1/390 [..............................] - ETA: 47:59 - loss: 2.4696 - acc: 0.0703"
          ],
          "name": "stdout"
        },
        {
          "output_type": "stream",
          "text": [
            "390/390 [==============================] - 169s 435ms/step - loss: 1.5016 - acc: 0.4474 - val_loss: 1.9001 - val_acc: 0.4053\n",
            "Epoch 2/50\n",
            "315/390 [=======================>......] - ETA: 29s - loss: 1.1292 - acc: 0.5954"
          ],
          "name": "stdout"
        },
        {
          "output_type": "stream",
          "text": [
            "390/390 [==============================] - 162s 415ms/step - loss: 1.1102 - acc: 0.6017 - val_loss: 2.3297 - val_acc: 0.4348\n",
            "Epoch 3/50\n",
            "390/390 [==============================] - 162s 416ms/step - loss: 0.9299 - acc: 0.6706 - val_loss: 1.3049 - val_acc: 0.5859\n",
            "Epoch 4/50\n",
            " 25/390 [>.............................] - ETA: 2:23 - loss: 0.8591 - acc: 0.6903"
          ],
          "name": "stdout"
        },
        {
          "output_type": "stream",
          "text": [
            "390/390 [==============================] - 162s 416ms/step - loss: 0.8216 - acc: 0.7087 - val_loss: 1.3176 - val_acc: 0.5988\n",
            "Epoch 5/50\n",
            "324/390 [=======================>......] - ETA: 25s - loss: 0.7577 - acc: 0.7333"
          ],
          "name": "stdout"
        },
        {
          "output_type": "stream",
          "text": [
            "390/390 [==============================] - 163s 417ms/step - loss: 0.7555 - acc: 0.7343 - val_loss: 1.3945 - val_acc: 0.6049\n",
            "Epoch 6/50\n",
            "390/390 [==============================] - 162s 416ms/step - loss: 0.7007 - acc: 0.7571 - val_loss: 1.3612 - val_acc: 0.6255\n",
            "Epoch 7/50\n",
            " 27/390 [=>............................] - ETA: 2:22 - loss: 0.6674 - acc: 0.7700"
          ],
          "name": "stdout"
        },
        {
          "output_type": "stream",
          "text": [
            "390/390 [==============================] - 162s 416ms/step - loss: 0.6633 - acc: 0.7686 - val_loss: 0.9102 - val_acc: 0.7181\n",
            "Epoch 8/50\n",
            "325/390 [========================>.....] - ETA: 25s - loss: 0.6241 - acc: 0.7843"
          ],
          "name": "stdout"
        },
        {
          "output_type": "stream",
          "text": [
            "390/390 [==============================] - 163s 417ms/step - loss: 0.6247 - acc: 0.7843 - val_loss: 1.0337 - val_acc: 0.6969\n",
            "Epoch 9/50\n",
            "390/390 [==============================] - 163s 417ms/step - loss: 0.5948 - acc: 0.7951 - val_loss: 1.0594 - val_acc: 0.7067\n",
            "Epoch 10/50\n",
            " 27/390 [=>............................] - ETA: 2:22 - loss: 0.5947 - acc: 0.7902"
          ],
          "name": "stdout"
        },
        {
          "output_type": "stream",
          "text": [
            "390/390 [==============================] - 163s 418ms/step - loss: 0.5730 - acc: 0.8008 - val_loss: 1.0309 - val_acc: 0.6916\n",
            "Epoch 11/50\n",
            "323/390 [=======================>......] - ETA: 26s - loss: 0.5596 - acc: 0.8059"
          ],
          "name": "stdout"
        },
        {
          "output_type": "stream",
          "text": [
            "390/390 [==============================] - 165s 422ms/step - loss: 0.5554 - acc: 0.8073 - val_loss: 0.7631 - val_acc: 0.7731\n",
            "Epoch 12/50\n",
            "390/390 [==============================] - 165s 422ms/step - loss: 0.5293 - acc: 0.8158 - val_loss: 1.1547 - val_acc: 0.6710\n",
            "Epoch 13/50\n",
            " 26/390 [=>............................] - ETA: 2:23 - loss: 0.5607 - acc: 0.8053"
          ],
          "name": "stdout"
        },
        {
          "output_type": "stream",
          "text": [
            "390/390 [==============================] - 164s 420ms/step - loss: 0.5173 - acc: 0.8209 - val_loss: 0.6678 - val_acc: 0.7998\n",
            "Epoch 14/50\n",
            "323/390 [=======================>......] - ETA: 26s - loss: 0.4896 - acc: 0.8307"
          ],
          "name": "stdout"
        },
        {
          "output_type": "stream",
          "text": [
            "390/390 [==============================] - 164s 420ms/step - loss: 0.4938 - acc: 0.8292 - val_loss: 0.7967 - val_acc: 0.7637\n",
            "Epoch 15/50\n",
            "390/390 [==============================] - 164s 422ms/step - loss: 0.4818 - acc: 0.8329 - val_loss: 0.9455 - val_acc: 0.7368\n",
            "Epoch 16/50\n",
            " 26/390 [=>............................] - ETA: 2:24 - loss: 0.4623 - acc: 0.8413"
          ],
          "name": "stdout"
        },
        {
          "output_type": "stream",
          "text": [
            "390/390 [==============================] - 165s 422ms/step - loss: 0.4645 - acc: 0.8391 - val_loss: 0.5364 - val_acc: 0.8298\n",
            "Epoch 17/50\n",
            "323/390 [=======================>......] - ETA: 26s - loss: 0.4531 - acc: 0.8421"
          ],
          "name": "stdout"
        },
        {
          "output_type": "stream",
          "text": [
            "390/390 [==============================] - 164s 420ms/step - loss: 0.4559 - acc: 0.8420 - val_loss: 0.7102 - val_acc: 0.7940\n",
            "Epoch 18/50\n",
            "390/390 [==============================] - 164s 420ms/step - loss: 0.4460 - acc: 0.8454 - val_loss: 0.7315 - val_acc: 0.7906\n",
            "Epoch 19/50\n",
            " 26/390 [=>............................] - ETA: 2:25 - loss: 0.4349 - acc: 0.8516"
          ],
          "name": "stdout"
        },
        {
          "output_type": "stream",
          "text": [
            "390/390 [==============================] - 164s 421ms/step - loss: 0.4328 - acc: 0.8503 - val_loss: 1.2238 - val_acc: 0.6942\n",
            "Epoch 20/50\n",
            "323/390 [=======================>......] - ETA: 26s - loss: 0.4255 - acc: 0.8534"
          ],
          "name": "stdout"
        },
        {
          "output_type": "stream",
          "text": [
            "390/390 [==============================] - 163s 419ms/step - loss: 0.4247 - acc: 0.8529 - val_loss: 0.8377 - val_acc: 0.7760\n",
            "Epoch 21/50\n",
            "390/390 [==============================] - 163s 419ms/step - loss: 0.4144 - acc: 0.8558 - val_loss: 0.6765 - val_acc: 0.8046\n",
            "Epoch 22/50\n",
            " 26/390 [=>............................] - ETA: 2:22 - loss: 0.4045 - acc: 0.8639"
          ],
          "name": "stdout"
        },
        {
          "output_type": "stream",
          "text": [
            "390/390 [==============================] - 163s 419ms/step - loss: 0.3999 - acc: 0.8622 - val_loss: 0.6483 - val_acc: 0.8075\n",
            "Epoch 23/50\n",
            "323/390 [=======================>......] - ETA: 26s - loss: 0.3996 - acc: 0.8608"
          ],
          "name": "stdout"
        },
        {
          "output_type": "stream",
          "text": [
            "390/390 [==============================] - 163s 419ms/step - loss: 0.4010 - acc: 0.8600 - val_loss: 1.1115 - val_acc: 0.7206\n",
            "Epoch 24/50\n",
            "390/390 [==============================] - 163s 419ms/step - loss: 0.3886 - acc: 0.8653 - val_loss: 0.8085 - val_acc: 0.7760\n",
            "Epoch 25/50\n",
            " 26/390 [=>............................] - ETA: 2:23 - loss: 0.3983 - acc: 0.8591"
          ],
          "name": "stdout"
        },
        {
          "output_type": "stream",
          "text": [
            "390/390 [==============================] - 163s 419ms/step - loss: 0.3821 - acc: 0.8687 - val_loss: 0.7029 - val_acc: 0.8028\n",
            "Epoch 26/50\n",
            "323/390 [=======================>......] - ETA: 26s - loss: 0.3713 - acc: 0.8709"
          ],
          "name": "stdout"
        },
        {
          "output_type": "stream",
          "text": [
            "390/390 [==============================] - 163s 418ms/step - loss: 0.3701 - acc: 0.8711 - val_loss: 1.2120 - val_acc: 0.7274\n",
            "Epoch 27/50\n",
            "390/390 [==============================] - 163s 419ms/step - loss: 0.3658 - acc: 0.8722 - val_loss: 0.7863 - val_acc: 0.7919\n",
            "Epoch 28/50\n",
            " 26/390 [=>............................] - ETA: 2:20 - loss: 0.3756 - acc: 0.8666"
          ],
          "name": "stdout"
        },
        {
          "output_type": "stream",
          "text": [
            "390/390 [==============================] - 163s 418ms/step - loss: 0.3624 - acc: 0.8734 - val_loss: 0.5885 - val_acc: 0.8224\n",
            "Epoch 29/50\n",
            "323/390 [=======================>......] - ETA: 26s - loss: 0.3548 - acc: 0.8754"
          ],
          "name": "stdout"
        },
        {
          "output_type": "stream",
          "text": [
            "390/390 [==============================] - 163s 419ms/step - loss: 0.3565 - acc: 0.8751 - val_loss: 0.8409 - val_acc: 0.7771\n",
            "Epoch 30/50\n",
            "390/390 [==============================] - 163s 418ms/step - loss: 0.3474 - acc: 0.8781 - val_loss: 0.8761 - val_acc: 0.7859\n",
            "Epoch 31/50\n",
            " 26/390 [=>............................] - ETA: 2:20 - loss: 0.3462 - acc: 0.8789"
          ],
          "name": "stdout"
        },
        {
          "output_type": "stream",
          "text": [
            "390/390 [==============================] - 163s 419ms/step - loss: 0.3456 - acc: 0.8798 - val_loss: 0.5476 - val_acc: 0.8358\n",
            "Epoch 32/50\n",
            "323/390 [=======================>......] - ETA: 26s - loss: 0.3389 - acc: 0.8825"
          ],
          "name": "stdout"
        },
        {
          "output_type": "stream",
          "text": [
            "390/390 [==============================] - 164s 419ms/step - loss: 0.3367 - acc: 0.8835 - val_loss: 0.8112 - val_acc: 0.7931\n",
            "Epoch 33/50\n",
            "390/390 [==============================] - 163s 418ms/step - loss: 0.3294 - acc: 0.8835 - val_loss: 0.5062 - val_acc: 0.8558\n",
            "Epoch 34/50\n",
            " 26/390 [=>............................] - ETA: 2:20 - loss: 0.3271 - acc: 0.8795"
          ],
          "name": "stdout"
        },
        {
          "output_type": "stream",
          "text": [
            "390/390 [==============================] - 163s 418ms/step - loss: 0.3320 - acc: 0.8834 - val_loss: 0.7096 - val_acc: 0.8131\n",
            "Epoch 35/50\n",
            "323/390 [=======================>......] - ETA: 26s - loss: 0.3223 - acc: 0.8867"
          ],
          "name": "stdout"
        },
        {
          "output_type": "stream",
          "text": [
            "390/390 [==============================] - 163s 418ms/step - loss: 0.3231 - acc: 0.8864 - val_loss: 0.5111 - val_acc: 0.8542\n",
            "Epoch 36/50\n",
            "390/390 [==============================] - 163s 419ms/step - loss: 0.3158 - acc: 0.8902 - val_loss: 0.5433 - val_acc: 0.8444\n",
            "Epoch 37/50\n",
            " 26/390 [=>............................] - ETA: 2:22 - loss: 0.3223 - acc: 0.8801"
          ],
          "name": "stdout"
        },
        {
          "output_type": "stream",
          "text": [
            "390/390 [==============================] - 163s 419ms/step - loss: 0.3108 - acc: 0.8920 - val_loss: 0.7210 - val_acc: 0.8055\n",
            "Epoch 38/50\n",
            "323/390 [=======================>......] - ETA: 26s - loss: 0.3134 - acc: 0.8897"
          ],
          "name": "stdout"
        },
        {
          "output_type": "stream",
          "text": [
            "390/390 [==============================] - 164s 419ms/step - loss: 0.3134 - acc: 0.8898 - val_loss: 0.6169 - val_acc: 0.8365\n",
            "Epoch 39/50\n",
            "390/390 [==============================] - 163s 418ms/step - loss: 0.3061 - acc: 0.8933 - val_loss: 0.4689 - val_acc: 0.8641\n",
            "Epoch 40/50\n",
            " 26/390 [=>............................] - ETA: 2:21 - loss: 0.3261 - acc: 0.8840"
          ],
          "name": "stdout"
        },
        {
          "output_type": "stream",
          "text": [
            "390/390 [==============================] - 163s 417ms/step - loss: 0.3030 - acc: 0.8941 - val_loss: 0.6301 - val_acc: 0.8333\n",
            "Epoch 41/50\n",
            "323/390 [=======================>......] - ETA: 26s - loss: 0.2971 - acc: 0.8963"
          ],
          "name": "stdout"
        },
        {
          "output_type": "stream",
          "text": [
            "390/390 [==============================] - 163s 418ms/step - loss: 0.2973 - acc: 0.8956 - val_loss: 0.5580 - val_acc: 0.8437\n",
            "Epoch 42/50\n",
            "390/390 [==============================] - 163s 418ms/step - loss: 0.2909 - acc: 0.8978 - val_loss: 0.7485 - val_acc: 0.8113\n",
            "Epoch 43/50\n",
            " 26/390 [=>............................] - ETA: 2:23 - loss: 0.3011 - acc: 0.8987"
          ],
          "name": "stdout"
        },
        {
          "output_type": "stream",
          "text": [
            "390/390 [==============================] - 163s 419ms/step - loss: 0.2943 - acc: 0.8981 - val_loss: 0.5038 - val_acc: 0.8558\n",
            "Epoch 44/50\n",
            "323/390 [=======================>......] - ETA: 26s - loss: 0.2842 - acc: 0.9012"
          ],
          "name": "stdout"
        },
        {
          "output_type": "stream",
          "text": [
            "390/390 [==============================] - 164s 420ms/step - loss: 0.2855 - acc: 0.9006 - val_loss: 0.8467 - val_acc: 0.7971\n",
            "Epoch 45/50\n",
            "390/390 [==============================] - 163s 419ms/step - loss: 0.2845 - acc: 0.9004 - val_loss: 0.4682 - val_acc: 0.8680\n",
            "Epoch 46/50\n",
            " 26/390 [=>............................] - ETA: 2:21 - loss: 0.2799 - acc: 0.9056"
          ],
          "name": "stdout"
        },
        {
          "output_type": "stream",
          "text": [
            "390/390 [==============================] - 163s 419ms/step - loss: 0.2777 - acc: 0.9021 - val_loss: 0.5277 - val_acc: 0.8546\n",
            "Epoch 47/50\n",
            "323/390 [=======================>......] - ETA: 26s - loss: 0.2813 - acc: 0.9006"
          ],
          "name": "stdout"
        },
        {
          "output_type": "stream",
          "text": [
            "390/390 [==============================] - 163s 418ms/step - loss: 0.2800 - acc: 0.9012 - val_loss: 0.5022 - val_acc: 0.8626\n",
            "Epoch 48/50\n",
            "390/390 [==============================] - 164s 421ms/step - loss: 0.2727 - acc: 0.9030 - val_loss: 0.4975 - val_acc: 0.8592\n",
            "Epoch 49/50\n",
            " 26/390 [=>............................] - ETA: 2:24 - loss: 0.2671 - acc: 0.9090"
          ],
          "name": "stdout"
        },
        {
          "output_type": "stream",
          "text": [
            "390/390 [==============================] - 164s 421ms/step - loss: 0.2632 - acc: 0.9082 - val_loss: 0.4715 - val_acc: 0.8681\n",
            "Epoch 50/50\n",
            "323/390 [=======================>......] - ETA: 26s - loss: 0.2638 - acc: 0.9071"
          ],
          "name": "stdout"
        },
        {
          "output_type": "stream",
          "text": [
            "390/390 [==============================] - 164s 419ms/step - loss: 0.2634 - acc: 0.9073 - val_loss: 0.4517 - val_acc: 0.8734\n",
            "10000/10000 [==============================] - 15s 1ms/step\n",
            "Test loss: 0.4517136385023594\n",
            "Test accuracy: 0.8734\n"
          ],
          "name": "stdout"
        },
        {
          "output_type": "display_data",
          "data": {
            "image/png": "[encoded data removed]",
            "text/plain": [
              "<matplotlib.figure.Figure at 0x7f1179eb5358>"
            ]
          },
          "metadata": {
            "tags": []
          }
        },
        {
          "output_type": "display_data",
          "data": {
            "image/png": "[encoded data removed]",
            "text/plain": [
              "<matplotlib.figure.Figure at 0x7f112803fe10>"
            ]
          },
          "metadata": {
            "tags": []
          }
        }
      ]
    }
  ]
}