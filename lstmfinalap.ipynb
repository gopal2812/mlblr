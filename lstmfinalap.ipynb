{
  "nbformat": 4,
  "nbformat_minor": 0,
  "metadata": {
    "colab": {
      "name": "Copy of Untitled23.ipynb",
      "version": "0.3.2",
      "provenance": [],
      "collapsed_sections": [],
      "include_colab_link": true
    },
    "kernelspec": {
      "name": "python3",
      "display_name": "Python 3"
    },
    "accelerator": "GPU"
  },
  "cells": [
    {
      "cell_type": "markdown",
      "metadata": {
        "id": "view-in-github",
        "colab_type": "text"
      },
      "source": [
        "<a href=\"https://colab.research.google.com/github/gopal2812/mlblr/blob/master/lstmfinalap.ipynb\" target=\"_parent\"><img src=\"https://colab.research.google.com/assets/colab-badge.svg\" alt=\"Open In Colab\"/></a>"
      ]
    },
    {
      "cell_type": "code",
      "metadata": {
        "id": "gb8t2x9PXqaf",
        "colab_type": "code",
        "outputId": "ffa2ff3d-40a4-4f9c-f289-1b4362020d80",
        "colab": {
          "base_uri": "https://localhost:8080/",
          "height": 33
        }
      },
      "source": [
        "import datetime\n",
        "import os\n",
        "import pandas as pd\n",
        "import numpy as np\n",
        "#import pylab as plt\n",
        "#from pylab import rcParams\n",
        "import math\n",
        "#import matplotlib as plt\n",
        "import pylab as plt\n",
        "from keras.models import Sequential\n",
        "from keras.layers import Dense\n",
        "from keras.layers import LSTM\n",
        "from sklearn.preprocessing import MinMaxScaler\n",
        "from sklearn.metrics import mean_squared_error\n",
        "from sklearn.metrics import mean_absolute_error\n",
        "from numpy import concatenate\n",
        "from pylab import rcParams\n",
        "from keras.utils.np_utils import to_categorical\n",
        "from sklearn.model_selection import train_test_split\n",
        "from keras.layers import TimeDistributed\n",
        "from numpy import argmax\n"
      ],
      "execution_count": 1,
      "outputs": [
        {
          "output_type": "stream",
          "text": [
            "Using TensorFlow backend.\n"
          ],
          "name": "stderr"
        }
      ]
    },
    {
      "cell_type": "code",
      "metadata": {
        "id": "DnFcb23_XyLa",
        "colab_type": "code",
        "outputId": "dcdcba6e-09f2-45c4-c238-460a46cdd650",
        "colab": {
          "resources": {
            "http://localhost:8080/nbextensions/google.colab/files.js": {
              "data": "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",
              "ok": true,
              "headers": [
                [
                  "content-type",
                  "application/javascript"
                ]
              ],
              "status": 200,
              "status_text": ""
            }
          },
          "base_uri": "https://localhost:8080/",
          "height": 73
        }
      },
      "source": [
        "from google.colab import files\n",
        "uploaded = files.upload()"
      ],
      "execution_count": 2,
      "outputs": [
        {
          "output_type": "display_data",
          "data": {
            "text/html": [
              "\n",
              "     <input type=\"file\" id=\"files-dd5ac457-5484-4e99-8bb4-022cdde78d55\" name=\"files[]\" multiple disabled />\n",
              "     <output id=\"result-dd5ac457-5484-4e99-8bb4-022cdde78d55\">\n",
              "      Upload widget is only available when the cell has been executed in the\n",
              "      current browser session. Please rerun this cell to enable.\n",
              "      </output>\n",
              "      <script src=\"/nbextensions/google.colab/files.js\"></script> "
            ],
            "text/plain": [
              "<IPython.core.display.HTML object>"
            ]
          },
          "metadata": {
            "tags": []
          }
        },
        {
          "output_type": "stream",
          "text": [
            "Saving client1.csv to client1.csv\n"
          ],
          "name": "stdout"
        }
      ]
    },
    {
      "cell_type": "code",
      "metadata": {
        "id": "r3TP9atRY_Xz",
        "colab_type": "code",
        "outputId": "8094e6f4-1b17-47fe-eb7f-7c1b5b2211f7",
        "colab": {
          "base_uri": "https://localhost:8080/",
          "height": 200
        }
      },
      "source": [
        "#data = pd.read_csv('data.csv', usecols=['ts', 'rtd'])\n",
        "data2 = pd.read_csv('client1.csv', usecols=['Date', 'AP_Num'])\n",
        "#testData = pd.read_csv('test_data.csv', usecols=['ts', 'rtd']) \n",
        "testData2 = pd.read_csv('client1.csv', usecols=['Date', 'AP_Num']) \n",
        "print(data2.head(10))"
      ],
      "execution_count": 4,
      "outputs": [
        {
          "output_type": "stream",
          "text": [
            "             Date  AP_Num\n",
            "0  3/3/2519 14:55       1\n",
            "1  3/3/2519 14:51       1\n",
            "2  3/3/2519 14:52       4\n",
            "3  3/3/2519 14:53       4\n",
            "4  3/3/2519 14:54       4\n",
            "5  3/3/2519 14:55       7\n",
            "6  3/3/2519 14:56       7\n",
            "7  3/3/2519 14:57      15\n",
            "8  3/3/2519 14:58      13\n",
            "9  3/3/2519 14:59       1\n"
          ],
          "name": "stdout"
        }
      ]
    },
    {
      "cell_type": "code",
      "metadata": {
        "id": "O0Quv2-5uukZ",
        "colab_type": "code",
        "outputId": "c6d45755-5f7e-4080-d37b-14c263cdcb76",
        "colab": {
          "base_uri": "https://localhost:8080/",
          "height": 183
        }
      },
      "source": [
        "#ap_num = data2.AP_Num.values\n",
        "ap_num = to_categorical(data2.AP_Num.values, num_classes=16)\n",
        "\n",
        "#data2 = data2.assign(date = pd.to_datetime(data2['Date'], unit='s'))\n",
        "\n",
        "def split_sequence(sequence, n_steps_in, n_steps_out):\n",
        "    X, y = list(), list()\n",
        "    for i in range(len(sequence)):\n",
        "        i = i * 5\n",
        "        #s find the end of this pattern\n",
        "        end_ix = i + n_steps_in\n",
        "        out_end_ix = end_ix + n_steps_out\n",
        "        # check if we are beyond the sequence\n",
        "        if out_end_ix > len(sequence):\n",
        "            break\n",
        "        # gather input and output parts of the pattern\n",
        "        seq_x, seq_y = sequence[i:end_ix], sequence[end_ix:out_end_ix]\n",
        "        X.append(seq_x)\n",
        "        y.append(seq_y)\n",
        "    return np.array(X), np.array(y)\n",
        "  \n",
        "look_back=5\n",
        "look_forward=5\n",
        "n_features=16\n",
        "\n",
        "trainX, trainY = split_sequence(ap_num, look_back, look_forward)\n",
        "print(trainX[0])\n",
        "print(trainY[0])"
      ],
      "execution_count": 6,
      "outputs": [
        {
          "output_type": "stream",
          "text": [
            "[[0. 1. 0. 0. 0. 0. 0. 0. 0. 0. 0. 0. 0. 0. 0. 0.]\n",
            " [0. 1. 0. 0. 0. 0. 0. 0. 0. 0. 0. 0. 0. 0. 0. 0.]\n",
            " [0. 0. 0. 0. 1. 0. 0. 0. 0. 0. 0. 0. 0. 0. 0. 0.]\n",
            " [0. 0. 0. 0. 1. 0. 0. 0. 0. 0. 0. 0. 0. 0. 0. 0.]\n",
            " [0. 0. 0. 0. 1. 0. 0. 0. 0. 0. 0. 0. 0. 0. 0. 0.]]\n",
            "[[0. 0. 0. 0. 0. 0. 0. 1. 0. 0. 0. 0. 0. 0. 0. 0.]\n",
            " [0. 0. 0. 0. 0. 0. 0. 1. 0. 0. 0. 0. 0. 0. 0. 0.]\n",
            " [0. 0. 0. 0. 0. 0. 0. 0. 0. 0. 0. 0. 0. 0. 0. 1.]\n",
            " [0. 0. 0. 0. 0. 0. 0. 0. 0. 0. 0. 0. 0. 1. 0. 0.]\n",
            " [0. 1. 0. 0. 0. 0. 0. 0. 0. 0. 0. 0. 0. 0. 0. 0.]]\n"
          ],
          "name": "stdout"
        }
      ]
    },
    {
      "cell_type": "code",
      "metadata": {
        "id": "jjL0yJTiY_Uf",
        "colab_type": "code",
        "outputId": "b65abe1e-c06d-4699-8fa4-7f6b2fc84c45",
        "colab": {
          "base_uri": "https://localhost:8080/",
          "height": 1000
        }
      },
      "source": [
        "#trainX = trainX.reshape((trainX.shape[0], trainX.shape[1], n_features))\n",
        "model = Sequential()\n",
        "model.add(LSTM(100, activation='relu', return_sequences=True, input_shape=(look_back, n_features)))\n",
        "#model.add(LSTM(100, activation='relu'))\n",
        "model.add(TimeDistributed(Dense(n_features, activation='softmax')))\n",
        "model.compile(loss='categorical_crossentropy', optimizer='adam', metrics=['acc'])\n",
        "\n",
        "model.fit(trainX, trainY, epochs=100, verbose=2)\n",
        "model.summary()\n",
        "\n",
        "\n",
        "  "
      ],
      "execution_count": 7,
      "outputs": [
        {
          "output_type": "stream",
          "text": [
            "WARNING: Logging before flag parsing goes to stderr.\n",
            "W0906 04:07:58.297648 140406351865728 deprecation_wrapper.py:119] From /usr/local/lib/python3.6/dist-packages/keras/backend/tensorflow_backend.py:66: The name tf.get_default_graph is deprecated. Please use tf.compat.v1.get_default_graph instead.\n",
            "\n",
            "W0906 04:07:58.336004 140406351865728 deprecation_wrapper.py:119] From /usr/local/lib/python3.6/dist-packages/keras/backend/tensorflow_backend.py:541: The name tf.placeholder is deprecated. Please use tf.compat.v1.placeholder instead.\n",
            "\n",
            "W0906 04:07:58.343029 140406351865728 deprecation_wrapper.py:119] From /usr/local/lib/python3.6/dist-packages/keras/backend/tensorflow_backend.py:4432: The name tf.random_uniform is deprecated. Please use tf.random.uniform instead.\n",
            "\n",
            "W0906 04:07:58.647308 140406351865728 deprecation_wrapper.py:119] From /usr/local/lib/python3.6/dist-packages/keras/optimizers.py:793: The name tf.train.Optimizer is deprecated. Please use tf.compat.v1.train.Optimizer instead.\n",
            "\n",
            "W0906 04:07:58.673647 140406351865728 deprecation_wrapper.py:119] From /usr/local/lib/python3.6/dist-packages/keras/backend/tensorflow_backend.py:3576: The name tf.log is deprecated. Please use tf.math.log instead.\n",
            "\n",
            "W0906 04:07:58.825003 140406351865728 deprecation.py:323] From /usr/local/lib/python3.6/dist-packages/tensorflow/python/ops/math_grad.py:1250: add_dispatch_support.<locals>.wrapper (from tensorflow.python.ops.array_ops) is deprecated and will be removed in a future version.\n",
            "Instructions for updating:\n",
            "Use tf.where in 2.0, which has the same broadcast rule as np.where\n",
            "W0906 04:07:59.470019 140406351865728 deprecation_wrapper.py:119] From /usr/local/lib/python3.6/dist-packages/keras/backend/tensorflow_backend.py:1033: The name tf.assign_add is deprecated. Please use tf.compat.v1.assign_add instead.\n",
            "\n"
          ],
          "name": "stderr"
        },
        {
          "output_type": "stream",
          "text": [
            "Epoch 1/100\n",
            " - 6s - loss: 2.3510 - acc: 0.4631\n",
            "Epoch 2/100\n",
            " - 1s - loss: 1.5856 - acc: 0.5958\n",
            "Epoch 3/100\n",
            " - 1s - loss: 1.2897 - acc: 0.6530\n",
            "Epoch 4/100\n",
            " - 1s - loss: 1.1374 - acc: 0.6696\n",
            "Epoch 5/100\n",
            " - 1s - loss: 1.0383 - acc: 0.6894\n",
            "Epoch 6/100\n",
            " - 1s - loss: 0.9578 - acc: 0.7087\n",
            "Epoch 7/100\n",
            " - 1s - loss: 0.9017 - acc: 0.7267\n",
            "Epoch 8/100\n",
            " - 1s - loss: 0.8591 - acc: 0.7420\n",
            "Epoch 9/100\n",
            " - 1s - loss: 0.8167 - acc: 0.7501\n",
            "Epoch 10/100\n",
            " - 1s - loss: 0.7908 - acc: 0.7485\n",
            "Epoch 11/100\n",
            " - 1s - loss: 0.7711 - acc: 0.7541\n",
            "Epoch 12/100\n",
            " - 1s - loss: 0.7572 - acc: 0.7543\n",
            "Epoch 13/100\n",
            " - 1s - loss: 0.7465 - acc: 0.7557\n",
            "Epoch 14/100\n",
            " - 1s - loss: 0.7256 - acc: 0.7585\n",
            "Epoch 15/100\n",
            " - 1s - loss: 0.7233 - acc: 0.7575\n",
            "Epoch 16/100\n",
            " - 1s - loss: 0.7123 - acc: 0.7590\n",
            "Epoch 17/100\n",
            " - 1s - loss: 0.7036 - acc: 0.7604\n",
            "Epoch 18/100\n",
            " - 1s - loss: 0.7007 - acc: 0.7611\n",
            "Epoch 19/100\n",
            " - 1s - loss: 0.6964 - acc: 0.7624\n",
            "Epoch 20/100\n",
            " - 1s - loss: 0.6898 - acc: 0.7625\n",
            "Epoch 21/100\n",
            " - 1s - loss: 0.6886 - acc: 0.7635\n",
            "Epoch 22/100\n",
            " - 1s - loss: 0.6825 - acc: 0.7621\n",
            "Epoch 23/100\n",
            " - 1s - loss: 0.6781 - acc: 0.7611\n",
            "Epoch 24/100\n",
            " - 1s - loss: 0.6739 - acc: 0.7621\n",
            "Epoch 25/100\n",
            " - 1s - loss: 0.6738 - acc: 0.7617\n",
            "Epoch 26/100\n",
            " - 1s - loss: 0.6684 - acc: 0.7653\n",
            "Epoch 27/100\n",
            " - 1s - loss: 0.6678 - acc: 0.7630\n",
            "Epoch 28/100\n",
            " - 1s - loss: 0.6651 - acc: 0.7648\n",
            "Epoch 29/100\n",
            " - 1s - loss: 0.6638 - acc: 0.7625\n",
            "Epoch 30/100\n",
            " - 1s - loss: 0.6627 - acc: 0.7637\n",
            "Epoch 31/100\n",
            " - 1s - loss: 0.6586 - acc: 0.7670\n",
            "Epoch 32/100\n",
            " - 1s - loss: 0.6588 - acc: 0.7675\n",
            "Epoch 33/100\n",
            " - 1s - loss: 0.6572 - acc: 0.7656\n",
            "Epoch 34/100\n",
            " - 1s - loss: 0.6524 - acc: 0.7675\n",
            "Epoch 35/100\n",
            " - 1s - loss: 0.6560 - acc: 0.7675\n",
            "Epoch 36/100\n",
            " - 1s - loss: 0.6509 - acc: 0.7687\n",
            "Epoch 37/100\n",
            " - 1s - loss: 0.6537 - acc: 0.7674\n",
            "Epoch 38/100\n",
            " - 1s - loss: 0.6524 - acc: 0.7651\n",
            "Epoch 39/100\n",
            " - 1s - loss: 0.6521 - acc: 0.7682\n",
            "Epoch 40/100\n",
            " - 1s - loss: 0.6471 - acc: 0.7678\n",
            "Epoch 41/100\n",
            " - 1s - loss: 0.6529 - acc: 0.7657\n",
            "Epoch 42/100\n",
            " - 1s - loss: 0.6482 - acc: 0.7673\n",
            "Epoch 43/100\n",
            " - 1s - loss: 0.6458 - acc: 0.7685\n",
            "Epoch 44/100\n",
            " - 1s - loss: 0.6492 - acc: 0.7658\n",
            "Epoch 45/100\n",
            " - 1s - loss: 0.6453 - acc: 0.7670\n",
            "Epoch 46/100\n",
            " - 1s - loss: 0.6459 - acc: 0.7668\n",
            "Epoch 47/100\n",
            " - 1s - loss: 0.6452 - acc: 0.7681\n",
            "Epoch 48/100\n",
            " - 1s - loss: 0.6430 - acc: 0.7697\n",
            "Epoch 49/100\n",
            " - 1s - loss: 0.6426 - acc: 0.7682\n",
            "Epoch 50/100\n",
            " - 1s - loss: 0.6424 - acc: 0.7681\n",
            "Epoch 51/100\n",
            " - 1s - loss: 0.6412 - acc: 0.7699\n",
            "Epoch 52/100\n",
            " - 1s - loss: 0.6414 - acc: 0.7686\n",
            "Epoch 53/100\n",
            " - 1s - loss: 0.6413 - acc: 0.7691\n",
            "Epoch 54/100\n",
            " - 1s - loss: 0.6397 - acc: 0.7680\n",
            "Epoch 55/100\n",
            " - 1s - loss: 0.6394 - acc: 0.7708\n",
            "Epoch 56/100\n",
            " - 1s - loss: 0.6390 - acc: 0.7683\n",
            "Epoch 57/100\n",
            " - 1s - loss: 0.6382 - acc: 0.7710\n",
            "Epoch 58/100\n",
            " - 1s - loss: 0.6396 - acc: 0.7701\n",
            "Epoch 59/100\n",
            " - 1s - loss: 0.6395 - acc: 0.7691\n",
            "Epoch 60/100\n",
            " - 1s - loss: 0.6395 - acc: 0.7692\n",
            "Epoch 61/100\n",
            " - 1s - loss: 0.6364 - acc: 0.7704\n",
            "Epoch 62/100\n",
            " - 1s - loss: 0.6371 - acc: 0.7700\n",
            "Epoch 63/100\n",
            " - 1s - loss: 0.6372 - acc: 0.7702\n",
            "Epoch 64/100\n",
            " - 1s - loss: 0.6365 - acc: 0.7687\n",
            "Epoch 65/100\n",
            " - 1s - loss: 0.6371 - acc: 0.7695\n",
            "Epoch 66/100\n",
            " - 1s - loss: 0.6369 - acc: 0.7682\n",
            "Epoch 67/100\n",
            " - 1s - loss: 0.6364 - acc: 0.7695\n",
            "Epoch 68/100\n",
            " - 1s - loss: 0.6349 - acc: 0.7707\n",
            "Epoch 69/100\n",
            " - 1s - loss: 0.6363 - acc: 0.7696\n",
            "Epoch 70/100\n",
            " - 1s - loss: 0.6365 - acc: 0.7683\n",
            "Epoch 71/100\n",
            " - 1s - loss: 0.6340 - acc: 0.7708\n",
            "Epoch 72/100\n",
            " - 1s - loss: 0.6327 - acc: 0.7718\n",
            "Epoch 73/100\n",
            " - 1s - loss: 0.6360 - acc: 0.7705\n",
            "Epoch 74/100\n",
            " - 1s - loss: 0.6342 - acc: 0.7716\n",
            "Epoch 75/100\n",
            " - 1s - loss: 0.6330 - acc: 0.7716\n",
            "Epoch 76/100\n",
            " - 1s - loss: 0.6323 - acc: 0.7713\n",
            "Epoch 77/100\n",
            " - 1s - loss: 0.6356 - acc: 0.7710\n",
            "Epoch 78/100\n",
            " - 1s - loss: 0.6321 - acc: 0.7716\n",
            "Epoch 79/100\n",
            " - 1s - loss: 0.6348 - acc: 0.7702\n",
            "Epoch 80/100\n",
            " - 1s - loss: 0.6346 - acc: 0.7699\n",
            "Epoch 81/100\n",
            " - 1s - loss: 0.6329 - acc: 0.7723\n",
            "Epoch 82/100\n",
            " - 1s - loss: 0.6334 - acc: 0.7714\n",
            "Epoch 83/100\n",
            " - 1s - loss: 0.6331 - acc: 0.7717\n",
            "Epoch 84/100\n",
            " - 1s - loss: 0.6311 - acc: 0.7716\n",
            "Epoch 85/100\n",
            " - 1s - loss: 0.6316 - acc: 0.7707\n",
            "Epoch 86/100\n",
            " - 1s - loss: 0.6303 - acc: 0.7723\n",
            "Epoch 87/100\n",
            " - 1s - loss: 0.6320 - acc: 0.7723\n",
            "Epoch 88/100\n",
            " - 1s - loss: 0.6306 - acc: 0.7723\n",
            "Epoch 89/100\n",
            " - 1s - loss: 0.6311 - acc: 0.7724\n",
            "Epoch 90/100\n",
            " - 1s - loss: 0.6325 - acc: 0.7713\n",
            "Epoch 91/100\n",
            " - 1s - loss: 0.6306 - acc: 0.7724\n",
            "Epoch 92/100\n",
            " - 1s - loss: 0.6295 - acc: 0.7722\n",
            "Epoch 93/100\n",
            " - 1s - loss: 0.6302 - acc: 0.7721\n",
            "Epoch 94/100\n",
            " - 1s - loss: 0.6298 - acc: 0.7712\n",
            "Epoch 95/100\n",
            " - 1s - loss: 0.6313 - acc: 0.7725\n",
            "Epoch 96/100\n",
            " - 1s - loss: 0.6296 - acc: 0.7727\n",
            "Epoch 97/100\n",
            " - 1s - loss: 0.6294 - acc: 0.7711\n",
            "Epoch 98/100\n",
            " - 1s - loss: 0.6296 - acc: 0.7732\n",
            "Epoch 99/100\n",
            " - 1s - loss: 0.6282 - acc: 0.7714\n",
            "Epoch 100/100\n",
            " - 1s - loss: 0.6312 - acc: 0.7719\n",
            "Model: \"sequential_1\"\n",
            "_________________________________________________________________\n",
            "Layer (type)                 Output Shape              Param #   \n",
            "=================================================================\n",
            "lstm_1 (LSTM)                (None, 5, 100)            46800     \n",
            "_________________________________________________________________\n",
            "time_distributed_1 (TimeDist (None, 5, 16)             1616      \n",
            "=================================================================\n",
            "Total params: 48,416\n",
            "Trainable params: 48,416\n",
            "Non-trainable params: 0\n",
            "_________________________________________________________________\n"
          ],
          "name": "stdout"
        }
      ]
    },
    {
      "cell_type": "code",
      "metadata": {
        "id": "JJp7TtcCne14",
        "colab_type": "code",
        "outputId": "59b19636-b270-45f1-b665-717e4015cb42",
        "colab": {
          "base_uri": "https://localhost:8080/",
          "height": 1000
        }
      },
      "source": [
        "print(trainX[0])\n",
        "print(trainY[0])\n",
        "print(ap_num[0])\n",
        "def one_hot_decode(encoded_seq):\n",
        "  w=len(encoded_seq)\n",
        "  list = np.zeros((w,look_forward))\n",
        "  #[[0 for x in range(look_forward)] for y in range(w)] \n",
        "  for i in range(w):\n",
        "    for j in range(look_forward):\n",
        "      #print(pred_train[:2])\n",
        "      list[i][j]= int(argmax(encoded_seq[i][j]))\n",
        "  return list\n",
        "\n",
        "#tmp_pred_train = model.predict(trainX[0])\n",
        "#print(tmp_pred_train)\n",
        "\n",
        "pred_train = model.predict(trainX)\n",
        "pred_train = one_hot_decode(pred_train)\n",
        "\n",
        "pred_train = pred_train.flatten()\n",
        "\n",
        "trainY = one_hot_decode(trainY) \n",
        "trainY = trainY.flatten()\n",
        "\n",
        "\n",
        "print(pred_train[:1000])\n",
        "print(trainY[:1000])\n"
      ],
      "execution_count": 8,
      "outputs": [
        {
          "output_type": "stream",
          "text": [
            "[[0. 1. 0. 0. 0. 0. 0. 0. 0. 0. 0. 0. 0. 0. 0. 0.]\n",
            " [0. 1. 0. 0. 0. 0. 0. 0. 0. 0. 0. 0. 0. 0. 0. 0.]\n",
            " [0. 0. 0. 0. 1. 0. 0. 0. 0. 0. 0. 0. 0. 0. 0. 0.]\n",
            " [0. 0. 0. 0. 1. 0. 0. 0. 0. 0. 0. 0. 0. 0. 0. 0.]\n",
            " [0. 0. 0. 0. 1. 0. 0. 0. 0. 0. 0. 0. 0. 0. 0. 0.]]\n",
            "[[0. 0. 0. 0. 0. 0. 0. 1. 0. 0. 0. 0. 0. 0. 0. 0.]\n",
            " [0. 0. 0. 0. 0. 0. 0. 1. 0. 0. 0. 0. 0. 0. 0. 0.]\n",
            " [0. 0. 0. 0. 0. 0. 0. 0. 0. 0. 0. 0. 0. 0. 0. 1.]\n",
            " [0. 0. 0. 0. 0. 0. 0. 0. 0. 0. 0. 0. 0. 1. 0. 0.]\n",
            " [0. 1. 0. 0. 0. 0. 0. 0. 0. 0. 0. 0. 0. 0. 0. 0.]]\n",
            "[0. 1. 0. 0. 0. 0. 0. 0. 0. 0. 0. 0. 0. 0. 0. 0.]\n",
            "[ 7.  7. 15. 13.  1.  4.  4.  4.  4.  7.  7. 15. 13.  1.  1.  4.  4.  4.\n",
            "  7.  7.  1. 13.  1.  1.  4.  4.  4.  7.  7. 15.  1. 13.  1.  4.  4. 13.\n",
            " 13. 13. 13. 13. 13. 13. 13. 13. 13. 13. 13. 13. 13. 13. 13. 13. 13. 13.\n",
            " 13. 13. 13. 13. 13. 13. 13. 13. 13. 13. 13.  4.  4.  4.  1.  1.  1. 13.\n",
            "  1.  4.  4.  7.  7. 15. 13.  1.  4.  4.  4.  4.  7.  7. 15. 13.  1.  1.\n",
            "  4.  4.  4.  7.  7.  1. 13.  1.  1.  4.  4.  4.  7.  7. 15.  1. 13.  1.\n",
            "  4.  4. 13. 13. 13. 13. 13. 13. 13. 13. 13. 13. 13. 13. 13. 13. 13. 13.\n",
            " 13. 13. 13. 13. 13. 13. 13. 13. 13. 13. 13. 13. 13. 13.  4.  4.  4.  1.\n",
            "  1.  1. 13.  1.  4.  4.  7.  7. 15. 13.  1.  4.  4.  4.  4.  7.  7. 15.\n",
            " 13.  1.  1.  4.  4.  4.  7.  7.  1. 13.  1.  1.  4.  4.  4.  7.  7. 15.\n",
            "  1. 13.  1.  4.  4. 13. 13. 13. 13. 13. 13. 13. 13. 13. 13. 13. 13. 13.\n",
            " 13. 13. 13. 13. 13. 13. 13. 13. 13. 13. 13. 13. 13. 13. 13. 13. 13.  4.\n",
            "  4.  4.  1.  1.  1. 13.  1.  4.  4.  7.  7. 15. 13.  1.  4.  4.  4.  4.\n",
            "  7.  7. 15. 13.  1.  1.  4.  4.  4.  7.  7.  1. 13.  1.  1.  4.  4.  4.\n",
            "  7.  7. 15.  1. 13.  1.  4.  4. 13. 13. 13. 13. 13. 13. 13. 13. 13. 13.\n",
            " 13. 13. 13. 13. 13. 13. 13. 13. 13. 13. 13. 13. 13. 13. 13. 13. 13. 13.\n",
            " 13. 13.  4.  4.  4.  1.  1.  1. 13.  1.  4.  4.  4.  4.  5.  5.  4.  4.\n",
            "  4.  4.  3.  3.  1. 13.  1. 13. 13. 13. 13. 13.  4.  4.  4.  4.  1.  1.\n",
            "  1.  1.  4.  4.  7.  7.  1. 13.  1.  1.  4.  4.  4.  7.  7. 15.  1. 13.\n",
            "  1.  4.  4. 13.  7.  7. 15. 13.  1.  1.  4.  4.  4.  7.  7. 15. 13.  1.\n",
            "  4.  4.  4.  4. 13. 13. 13. 13. 13. 13. 13. 13. 13. 13. 13. 13. 13. 13.\n",
            " 13. 13. 13. 13. 13. 13. 13. 13. 13. 13. 13. 13. 13. 13. 13.  4.  4.  4.\n",
            "  4.  1.  1.  1.  1.  4.  4.  7.  7.  1. 13.  1.  1.  4.  4.  4.  7.  7.\n",
            " 15.  1. 13.  1.  4.  4. 13.  7.  7. 15. 13.  1.  1.  4.  4.  4.  7.  7.\n",
            " 15. 13.  1.  4.  4.  4.  4. 13. 13. 13. 13. 13. 13. 13. 13. 13. 13. 13.\n",
            " 13. 13. 13. 13. 13. 13. 13. 13. 13. 13. 13. 13. 13. 13. 13. 13. 13. 13.\n",
            "  4.  4.  4.  4.  1.  1.  1.  1.  4.  4.  7.  7.  1. 13.  1.  1.  4.  4.\n",
            "  4.  7.  7. 15.  1. 13.  1.  4.  4. 13.  7.  7. 15. 13.  1.  1.  4.  4.\n",
            "  4.  7.  7. 15. 13.  1.  4.  4.  4.  4. 13. 13. 13. 13. 13. 13. 13. 13.\n",
            " 13. 13. 13. 13. 13. 13. 13. 13. 13. 13. 13. 13. 13. 13. 13. 13. 13. 13.\n",
            " 13. 13. 13.  4.  4.  4.  4.  1.  1.  1.  1.  4.  4. 15. 15.  4.  4.  5.\n",
            "  5.  4.  5.  5.  5.  7.  4.  1.  4.  4.  1.  1.  1. 13.  1.  4.  4.  7.\n",
            "  7. 15. 13.  1.  4.  4.  4.  4.  7.  7. 15. 13.  1.  1.  4.  4.  4.  7.\n",
            "  7.  1. 13.  1.  1.  4.  4.  4.  7.  7. 15.  1. 13.  1.  4.  4. 13. 13.\n",
            " 13. 13. 13. 13. 13. 13. 13. 13. 13. 13. 13. 13. 13. 13. 13. 13. 13. 13.\n",
            " 13. 13. 13. 13. 13. 13. 13. 13. 13. 13.  4.  4.  4.  1.  1.  1. 13.  1.\n",
            "  4.  4.  7.  7. 15. 13.  1.  4.  4.  4.  4.  7.  7. 15. 13.  1.  1.  4.\n",
            "  4.  4.  7.  7.  1. 13.  1.  1.  4.  4.  4.  7.  7. 15.  1. 13.  1.  4.\n",
            "  4. 13. 13. 13. 13. 13. 13. 13. 13. 13. 13. 13. 13. 13. 13. 13. 13. 13.\n",
            " 13. 13. 13. 13. 13. 13. 13. 13. 13. 13. 13. 13. 13.  4.  4.  4.  1.  1.\n",
            "  1. 13.  1.  4.  4.  4.  4.  5.  5.  4.  4.  4.  4.  3.  3.  1. 13.  1.\n",
            " 13. 13. 13. 13. 13. 13. 13. 13. 13. 13. 13. 13. 13. 13. 13. 13. 13. 13.\n",
            " 13. 13. 13. 13. 13. 13. 13. 13. 13. 13. 13. 13. 13. 13.  4.  4.  4.  1.\n",
            "  1.  1. 13.  1.  4.  4.  7.  7. 15. 13.  1.  4.  4.  4.  4.  7.  7. 15.\n",
            " 13.  1.  1.  4.  4.  4.  7.  7.  1. 13.  1.  1.  4.  4.  4.  7.  7. 15.\n",
            "  1. 13.  1.  4.  4. 13. 13. 13. 13. 13. 13. 13. 13. 13. 13. 13. 13. 13.\n",
            " 13. 13. 13. 13. 13. 13. 13. 13. 13. 13. 13. 13. 13. 13. 13. 13. 13.  4.\n",
            "  4.  4.  1.  1.  1. 13.  1.  4.  4.  7. 15. 13.  1.  1.  4.  4.  4.  7.\n",
            "  7.  1. 13.  1.  1.  4.  4.  4.  7.  7. 15.  1. 13.  1.  4.  4. 13.  7.\n",
            "  7. 15. 13.  1.  1.  4.  4.  4. 13. 13. 13. 13. 13. 13. 13. 13. 13. 13.\n",
            " 13. 13. 13. 13. 13. 13. 13. 13. 13. 13. 13. 13. 13. 13. 13. 13. 13. 13.\n",
            " 13.  4.  4.  4.  1.  1. 15.  1. 13.  4.  4.  7.  7. 15. 13.  1.  1.  4.\n",
            "  4.  4.  7.  7.  1. 13.  1.  1.  4.  4.  4.  7.  7. 15.  1. 13.  1.  4.\n",
            "  4. 13.  7.  7. 15. 13.  1.  1.  4.  4.  4. 13. 13. 13. 13. 13. 13. 13.\n",
            " 13. 13. 13. 13. 13. 13. 13. 13. 13. 13. 13. 13. 13. 13. 13. 13. 13. 13.\n",
            " 13. 13. 13. 13.  4.  4.  4.  1.  1. 15.]\n",
            "[ 7.  7. 15. 13.  1.  1.  4.  4.  4.  7.  7. 15. 13.  1.  1.  4.  4.  4.\n",
            "  7.  7. 15. 13.  1.  1.  4.  4.  4.  7.  7. 15. 13. 13. 13. 13. 13. 13.\n",
            " 13. 13. 13. 13. 13. 13. 13. 13. 13. 13. 13. 13. 13. 13. 13. 13. 13. 13.\n",
            " 13. 13. 13. 13. 13. 13. 15. 15.  7.  7.  4.  4.  4.  4.  1.  1.  1.  1.\n",
            "  4.  4.  4.  7.  7. 15. 13.  1.  1.  4.  4.  4.  7.  7. 15. 13.  1.  1.\n",
            "  4.  4.  4.  7.  7. 15. 13.  1.  1.  4.  4.  4.  7.  7. 15. 13. 13. 13.\n",
            " 13. 13. 13. 13. 13. 13. 13. 13. 13. 13. 13. 13. 13. 13. 13. 13. 13. 13.\n",
            " 13. 13. 13. 13. 13. 13. 13. 13. 13. 15. 15.  7.  7.  4.  4.  4.  4.  1.\n",
            "  1.  1.  1.  4.  4.  4.  7.  7. 15. 13.  1.  1.  4.  4.  4.  7.  7. 15.\n",
            " 13.  1.  1.  4.  4.  4.  7.  7. 15. 13.  1.  1.  4.  4.  4.  7.  7. 15.\n",
            " 13. 13. 13. 13. 13. 13. 13. 13. 13. 13. 13. 13. 13. 13. 13. 13. 13. 13.\n",
            " 13. 13. 13. 13. 13. 13. 13. 13. 13. 13. 13. 13. 15. 15.  7.  7.  4.  4.\n",
            "  4.  4.  1.  1.  1.  1.  4.  4.  4.  7.  7. 15. 13.  1.  1.  4.  4.  4.\n",
            "  7.  7. 15. 13.  1.  1.  4.  4.  4.  7.  7. 15. 13.  1.  1.  4.  4.  4.\n",
            "  7.  7. 15. 13. 13. 13. 13. 13. 13. 13. 13. 13. 13. 13. 13. 13. 13. 13.\n",
            " 13. 13. 13. 13. 13. 13. 13. 13. 13. 13. 13. 13. 13. 13. 13. 15. 15.  7.\n",
            "  7.  4.  4.  4.  4.  1.  1. 15. 15. 15. 15. 15. 15. 15.  5.  5.  5.  4.\n",
            "  4.  4.  3.  3. 13. 13. 13. 15. 15.  7.  7.  4.  4.  4.  4.  1.  1.  1.\n",
            "  1.  4.  4.  4.  7.  7. 15. 13.  1.  1.  4.  4.  4.  7.  7. 15. 13.  1.\n",
            "  1.  4.  4.  4.  7.  7. 15. 13.  1.  1.  4.  4.  4.  7.  7. 15. 13. 13.\n",
            " 13. 13. 13. 13. 13. 13. 13. 13. 13. 13. 13. 13. 13. 13. 13. 13. 13. 13.\n",
            " 13. 13. 13. 13. 13. 13. 13. 13. 13. 13. 15. 15.  7.  7.  4.  4.  4.  4.\n",
            "  1.  1.  1.  1.  4.  4.  4.  7.  7. 15. 13.  1.  1.  4.  4.  4.  7.  7.\n",
            " 15. 13.  1.  1.  4.  4.  4.  7.  7. 15. 13.  1.  1.  4.  4.  4.  7.  7.\n",
            " 15. 13. 13. 13. 13. 13. 13. 13. 13. 13. 13. 13. 13. 13. 13. 13. 13. 13.\n",
            " 13. 13. 13. 13. 13. 13. 13. 13. 13. 13. 13. 13. 13. 15. 15.  7.  7.  4.\n",
            "  4.  4.  4.  1.  1.  1.  1.  4.  4.  4.  7.  7. 15. 13.  1.  1.  4.  4.\n",
            "  4.  7.  7. 15. 13.  1.  1.  4.  4.  4.  7.  7. 15. 13.  1.  1.  4.  4.\n",
            "  4.  7.  7. 15. 13. 13. 13. 13. 13. 13. 13. 13. 13. 13. 13. 13. 13. 13.\n",
            " 13. 13. 13. 13. 13. 13. 13. 13. 13. 13. 13. 13. 13. 13. 13. 13. 15. 15.\n",
            "  7.  7.  4.  4.  4.  4.  1.  1. 15. 15. 15. 15. 15. 15. 15.  5.  5.  5.\n",
            "  4.  4.  4.  3.  3.  7.  4.  4.  4.  4.  1.  1.  1.  1.  4.  4.  4.  7.\n",
            "  7. 15. 13.  1.  1.  4.  4.  4.  7.  7. 15. 13.  1.  1.  4.  4.  4.  7.\n",
            "  7. 15. 13.  1.  1.  4.  4.  4.  7.  7. 15. 13. 13. 13. 13. 13. 13. 13.\n",
            " 13. 13. 13. 13. 13. 13. 13. 13. 13. 13. 13. 13. 13. 13. 13. 13. 13. 13.\n",
            " 13. 13. 13. 13. 13. 15. 15.  7.  7.  4.  4.  4.  4.  1.  1.  1.  1.  4.\n",
            "  4.  4.  7.  7. 15. 13.  1.  1.  4.  4.  4.  7.  7. 15. 13.  1.  1.  4.\n",
            "  4.  4.  7.  7. 15. 13.  1.  1.  4.  4.  4.  7.  7. 15. 13. 13. 13. 13.\n",
            " 13. 13. 13. 13. 13. 13. 13. 13. 13. 13. 13. 13. 13. 13. 13. 13. 13. 13.\n",
            " 13. 13. 13. 13. 13. 13. 13. 13. 15. 15.  7.  7.  4.  4.  4.  4.  1.  1.\n",
            " 15. 15. 15. 15. 15. 15. 15.  5.  5.  5.  4.  4.  4.  3.  3. 13. 13. 13.\n",
            " 13. 13. 13. 13. 13. 13. 13. 13. 13. 13. 13. 13. 13. 13. 13. 13. 13. 13.\n",
            " 13. 13. 13. 13. 13. 13. 13. 13. 13. 15. 15.  7.  7.  4.  4.  4.  4.  1.\n",
            "  1.  1.  1.  4.  4.  4.  7.  7. 15. 13.  1.  1.  4.  4.  4.  7.  7. 15.\n",
            " 13.  1.  1.  4.  4.  4.  7.  7. 15. 13.  1.  1.  4.  4.  4.  7.  7. 15.\n",
            " 13. 13. 13. 13. 13. 13. 13. 13. 13. 13. 13. 13. 13. 13. 13. 13. 13. 13.\n",
            " 13. 13. 13. 13. 13. 13. 13. 13. 13. 13. 13. 13. 15. 15.  7.  7.  4.  4.\n",
            "  4.  4.  1.  1.  1.  4.  4.  4.  7.  7. 15. 13.  1.  1.  4.  4.  4.  7.\n",
            "  7. 15. 13.  1.  1.  4.  4.  4.  7.  7. 15. 13.  1.  1.  4.  4.  4.  7.\n",
            "  7. 15. 13. 13. 13. 13. 13. 13. 13. 13. 13. 13. 13. 13. 13. 13. 13. 13.\n",
            " 13. 13. 13. 13. 13. 13. 13. 13. 13. 13. 13. 13. 13. 13. 15. 15.  7.  7.\n",
            "  4.  4.  4.  4.  1.  1.  1.  1.  4.  4.  4.  7.  7. 15. 13.  1.  1.  4.\n",
            "  4.  4.  7.  7. 15. 13.  1.  1.  4.  4.  4.  7.  7. 15. 13.  1.  1.  4.\n",
            "  4.  4.  7.  7. 15. 13. 13. 13. 13. 13. 13. 13. 13. 13. 13. 13. 13. 13.\n",
            " 13. 13. 13. 13. 13. 13. 13. 13. 13. 13. 13. 13. 13. 13. 13. 13. 13. 15.\n",
            " 15.  7.  7.  4.  4.  4.  4.  1.  1.  1.]\n"
          ],
          "name": "stdout"
        }
      ]
    },
    {
      "cell_type": "code",
      "metadata": {
        "id": "7rXAuWdXlSE_",
        "colab_type": "code",
        "outputId": "2bf72227-c80b-4b70-f44b-0e218e85ddb7",
        "colab": {
          "base_uri": "https://localhost:8080/",
          "height": 52
        }
      },
      "source": [
        "\n",
        "\n",
        "test_ap = to_categorical(testData2.AP_Num.values, num_classes=16)\n",
        "test_ap_scaled = test_ap\n",
        "\n",
        "testX, testY = split_sequence(test_ap_scaled, look_back, look_forward)\n",
        "#testX = testX.reshape((testX.shape[0], testX.shape[1], n_features))\n",
        "\n",
        "\n",
        "pred_test = model.predict(testX)\n",
        "pred_test = one_hot_decode(pred_test)\n",
        "pred_test = pred_test.flatten()\n",
        "\n",
        "testY = one_hot_decode(testY)\n",
        "testY = testY.flatten()\n",
        "\n",
        "test_rmse = math.sqrt(mean_squared_error(testY, pred_test))\n",
        "test_mae = mean_absolute_error(testY, pred_test)\n",
        "  \n",
        "print('test_rmse: %.2f' %test_rmse)\n",
        "print('test_mae: %.2f' %test_mae)\n",
        "\n",
        "\n",
        "\n",
        "\n",
        "\n",
        "#print(one_hot_decode(pred_test[:10]))"
      ],
      "execution_count": 0,
      "outputs": [
        {
          "output_type": "stream",
          "text": [
            "test_rmse: 4.13\n",
            "test_mae: 1.73\n"
          ],
          "name": "stdout"
        }
      ]
    },
    {
      "cell_type": "code",
      "metadata": {
        "id": "0Pw1PelqncWf",
        "colab_type": "code",
        "colab": {}
      },
      "source": [
        ""
      ],
      "execution_count": 0,
      "outputs": []
    },
    {
      "cell_type": "code",
      "metadata": {
        "id": "wgcoC0KZoQDH",
        "colab_type": "code",
        "outputId": "66eaaa12-3a4e-4ec3-cea3-795c76f0d74c",
        "colab": {
          "base_uri": "https://localhost:8080/",
          "height": 316
        }
      },
      "source": [
        "x = [datetime.datetime.fromtimestamp(1555961400) + datetime.timedelta(seconds=i) for i in range(86400)]\n",
        "x1 = [i.time() for i in x]\n",
        "x2=list()\n",
        "for i in range(1,86400):\n",
        "    if i%10==0:\n",
        "        x2.append(x1[i])\n",
        "    \n",
        "\n",
        "#t = 100\n",
        "#t1 = 300\n",
        "\n",
        "t = 100\n",
        "t1 = 200\n",
        "\n",
        "plt.xlabel('time')\n",
        "plt.ylabel('AP Id')\n",
        "\n",
        "plt.ylim(0, 16), #plt.xlim(0, 2*t), \n",
        "plt.plot(x[t:t1], trainY[t:t1], '-b', label='Original'),\n",
        "plt.plot(x[t:t1], pred_train[t:t1], '-r', label = 'Prediction')\n",
        "print(trainY[10:20])\n",
        "print(pred_train[10:20])\n",
        "plt.legend(loc='upper right')\n",
        "plt.show()\n"
      ],
      "execution_count": 13,
      "outputs": [
        {
          "output_type": "stream",
          "text": [
            "[ 7. 15. 13.  1.  1.  4.  4.  4.  7.  7.]\n",
            "[ 7. 15. 13.  1.  1.  4.  4.  4.  7.  7.]\n"
          ],
          "name": "stdout"
        },
        {
          "output_type": "display_data",
          "data": {
            "image/png": "[encoded data removed]",
            "text/plain": [
              "<Figure size 432x288 with 1 Axes>"
            ]
          },
          "metadata": {
            "tags": []
          }
        }
      ]
    },
    {
      "cell_type": "code",
      "metadata": {
        "id": "xT_c2ODUoXnq",
        "colab_type": "code",
        "outputId": "288e9f1b-37ca-46b2-cec7-9fbb51863988",
        "colab": {
          "base_uri": "https://localhost:8080/",
          "height": 283
        }
      },
      "source": [
        "t = 1\n",
        "t1 = 4000\n",
        "\n",
        "plt.ylim(0, 15), #plt.xlim(0, 2*t), \n",
        "plt.plot(x2[t:t1], testY[t:t1], '-b', label='test'),\n",
        "plt.plot(x2[t:t1], pred_test[t:t1], '-r', label = 'pred_test')\n",
        "plt.legend(loc='upper right')\n",
        "plt.xlabel('time')\n",
        "plt.ylabel('RTD (seconds)')\n",
        "plt.show()\n",
        "\n"
      ],
      "execution_count": 0,
      "outputs": [
        {
          "output_type": "display_data",
          "data": {
            "image/png": "[encoded data removed]",
            "text/plain": [
              "<Figure size 432x288 with 1 Axes>"
            ]
          },
          "metadata": {
            "tags": []
          }
        }
      ]
    },
    {
      "cell_type": "code",
      "metadata": {
        "id": "2bTrZ1PrqmSf",
        "colab_type": "code",
        "cellView": "both",
        "outputId": "a3ea244c-2717-436c-d347-4c9b19e93fe3",
        "colab": {
          "base_uri": "https://localhost:8080/",
          "height": 283
        }
      },
      "source": [
        "#@title\n",
        "t = 3000\n",
        "t1 = 3760\n",
        "t2 = 3790\n",
        "plt.ylim(0, 15), #plt.xlim(0, 2*t), \n",
        "plt.plot(x2[t:t1], testY[t:t1], '-b', label='test'),\n",
        "plt.plot(x2[t:t2], pred_test[t:t2], '-r', label = 'pred_test')\n",
        "plt.legend(loc='upper right')\n",
        "plt.xlabel('time')\n",
        "plt.ylabel('RTD (seconds)')\n",
        "plt.show()\n"
      ],
      "execution_count": 0,
      "outputs": [
        {
          "output_type": "display_data",
          "data": {
            "image/png": "[encoded data removed]",
            "text/plain": [
              "<Figure size 432x288 with 1 Axes>"
            ]
          },
          "metadata": {
            "tags": []
          }
        }
      ]
    },
    {
      "cell_type": "code",
      "metadata": {
        "id": "o7MuMWeoYeOW",
        "colab_type": "code",
        "colab": {}
      },
      "source": [
        "!ls"
      ],
      "execution_count": 0,
      "outputs": []
    }
  ]
}