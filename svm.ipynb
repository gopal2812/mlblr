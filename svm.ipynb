{
  "nbformat": 4,
  "nbformat_minor": 0,
  "metadata": {
    "colab": {
      "name": "Untitled38.ipynb",
      "version": "0.3.2",
      "provenance": [],
      "private_outputs": true,
      "collapsed_sections": [],
      "include_colab_link": true
    },
    "kernelspec": {
      "name": "python3",
      "display_name": "Python 3"
    }
  },
  "cells": [
    {
      "cell_type": "markdown",
      "metadata": {
        "id": "view-in-github",
        "colab_type": "text"
      },
      "source": [
        "<a href=\"https://colab.research.google.com/github/gopal2812/mlblr/blob/master/svm.ipynb\" target=\"_parent\"><img src=\"https://colab.research.google.com/assets/colab-badge.svg\" alt=\"Open In Colab\"/></a>"
      ]
    },
    {
      "cell_type": "code",
      "metadata": {
        "id": "eK9cUsaZHNFN",
        "colab_type": "code",
        "colab": {}
      },
      "source": [
        "from sklearn import datasets\n",
        "import matplotlib.pyplot as plt\n",
        "import pandas as pd\n",
        "import numpy as np\n",
        "import seaborn as sns\n",
        "from sklearn.model_selection import train_test_split\n",
        "\n",
        "from sklearn.svm import SVC"
      ],
      "execution_count": 0,
      "outputs": []
    },
    {
      "cell_type": "markdown",
      "metadata": {
        "id": "XIlAWy-WLPbq",
        "colab_type": "text"
      },
      "source": [
        "Notebook to explain Support Vector Machines to beginners\n",
        "\n",
        "Some good links (+ references) to further read up on SVMs: https://www.analyticsvidhya.com/blog/2017/09/understaing-support-vector-machine-example-code/\n",
        "\n",
        "https://blog.statsbot.co/support-vector-machines-tutorial-c1618e635e93\n",
        "\n",
        "https://towardsdatascience.com/understanding-support-vector-machine-part-2-kernel-trick-mercers-theorem-e1e6848c6c4d\n",
        "\n",
        "https://medium.com/data-py-blog/kernel-svm-in-python-a8fae37908b9\n",
        "\n",
        "TO understand different types of kernel functions: https://stackoverflow.com/questions/33778297/support-vector-machine-kernel-types"
      ]
    },
    {
      "cell_type": "code",
      "metadata": {
        "id": "LhEUq_fgHXBf",
        "colab_type": "code",
        "colab": {}
      },
      "source": [
        "iris_df = datasets.load_iris()"
      ],
      "execution_count": 0,
      "outputs": []
    },
    {
      "cell_type": "code",
      "metadata": {
        "id": "L0GCfhIyHsbq",
        "colab_type": "code",
        "colab": {}
      },
      "source": [
        "iris = pd.DataFrame(data= np.c_[iris_df['data'], iris_df['target']],\n",
        "                     columns= iris_df['feature_names'] + ['species'])\n",
        "\n",
        "iris['species'] = pd.Categorical.from_codes(iris_df.target, iris_df.target_names)"
      ],
      "execution_count": 0,
      "outputs": []
    },
    {
      "cell_type": "code",
      "metadata": {
        "id": "FBdBoKySIqS2",
        "colab_type": "code",
        "colab": {}
      },
      "source": [
        "iris.head()"
      ],
      "execution_count": 0,
      "outputs": []
    },
    {
      "cell_type": "code",
      "metadata": {
        "id": "Vw-tLO-II0bP",
        "colab_type": "code",
        "colab": {}
      },
      "source": [
        "sns.pairplot(data=iris, hue='species', palette='Set1')"
      ],
      "execution_count": 0,
      "outputs": []
    },
    {
      "cell_type": "code",
      "metadata": {
        "id": "zy3qbrCKJBru",
        "colab_type": "code",
        "colab": {}
      },
      "source": [
        "\n",
        "# Separating the dependent & independent variables\n",
        "x=iris.iloc[:,:-1]\n",
        "y=iris.iloc[:,4]\n",
        "x_train,x_test, y_train, y_test=train_test_split(x,y,test_size=0.30)"
      ],
      "execution_count": 0,
      "outputs": []
    },
    {
      "cell_type": "code",
      "metadata": {
        "id": "twlrBe-VJHjN",
        "colab_type": "code",
        "colab": {}
      },
      "source": [
        "model=SVC()"
      ],
      "execution_count": 0,
      "outputs": []
    },
    {
      "cell_type": "code",
      "metadata": {
        "id": "Shr_lXmAJKUG",
        "colab_type": "code",
        "colab": {}
      },
      "source": [
        "model.fit(x_train, y_train)"
      ],
      "execution_count": 0,
      "outputs": []
    },
    {
      "cell_type": "code",
      "metadata": {
        "id": "fYNOAOXbJXjT",
        "colab_type": "code",
        "colab": {}
      },
      "source": [
        "pred=model.predict(x_test)"
      ],
      "execution_count": 0,
      "outputs": []
    },
    {
      "cell_type": "code",
      "metadata": {
        "id": "eTV2xI65HydN",
        "colab_type": "code",
        "colab": {}
      },
      "source": [
        "from sklearn.metrics import classification_report, confusion_matrix"
      ],
      "execution_count": 0,
      "outputs": []
    },
    {
      "cell_type": "code",
      "metadata": {
        "id": "ALNNJWMkJmbJ",
        "colab_type": "code",
        "colab": {}
      },
      "source": [
        "print(confusion_matrix(y_test,pred))"
      ],
      "execution_count": 0,
      "outputs": []
    },
    {
      "cell_type": "code",
      "metadata": {
        "id": "c4liT3lzJrzb",
        "colab_type": "code",
        "colab": {}
      },
      "source": [
        "print(classification_report(y_test, pred))"
      ],
      "execution_count": 0,
      "outputs": []
    }
  ]
}