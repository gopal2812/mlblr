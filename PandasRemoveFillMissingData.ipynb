{
  "nbformat": 4,
  "nbformat_minor": 0,
  "metadata": {
    "anaconda-cloud": {},
    "kernelspec": {
      "display_name": "Python 3",
      "language": "python",
      "name": "python3"
    },
    "language_info": {
      "codemirror_mode": {
        "name": "ipython",
        "version": 3
      },
      "file_extension": ".py",
      "mimetype": "text/x-python",
      "name": "python",
      "nbconvert_exporter": "python",
      "pygments_lexer": "ipython3",
      "version": "3.6.8"
    },
    "colab": {
      "name": "RemoveFillMissingData.ipynb",
      "provenance": [],
      "include_colab_link": true
    }
  },
  "cells": [
    {
      "cell_type": "markdown",
      "metadata": {
        "id": "view-in-github",
        "colab_type": "text"
      },
      "source": [
        "<a href=\"https://colab.research.google.com/github/gopal2812/mlblr/blob/master/PandasRemoveFillMissingData.ipynb\" target=\"_parent\"><img src=\"https://colab.research.google.com/assets/colab-badge.svg\" alt=\"Open In Colab\"/></a>"
      ]
    },
    {
      "cell_type": "code",
      "metadata": {
        "id": "imt4Fc421DuT",
        "colab_type": "code",
        "colab": {}
      },
      "source": [
        "# Import libraries\n",
        "import pandas as pd\n",
        "import numpy as np"
      ],
      "execution_count": 0,
      "outputs": []
    },
    {
      "cell_type": "markdown",
      "metadata": {
        "id": "_cp7r1n61RjQ",
        "colab_type": "text"
      },
      "source": [
        "resume auto scrolling\n",
        "Removing or filling in missing data\n",
        "- [Instructor] Once you've identified missing data, it's really important to either remove that data or fill in the missing data with a reasonable value. This is a really important subject. As before you can graph data, you need to make sure you aren't trying to graph some missing values as that can cause an error or cause a misinterpretation of the data. We're working with the car loan dataset. And the first thing we're going to do is when you utilize the info method. And what the info method does is it shows us how many missing values we have in each of our columns. As you see, we have 60 non-null values for every column except for the interest_paid column. This means that we have one null value. There are a couple of different ways to deal with missing data. The first way is simply to remove the missing values. And in pandas you can remove the missing values by using the dropna method. And what the quote here does is I have a pandas DataFrame from index 30 up until, but not including index 40 and I'm dropping the rows where have any NaN values. And as you see here, I don't have a row in index 35, because either NaN value here. The other way to deal with missing values is simply to fill them in. And there are a variety of ways to fill in missing values. The first thing we going to do is where to look at where the missing data is located by using a pandas series and then slicing it to look at indexes 30 up until, but not including index 40. As you see here, I've a NaN at index 35. The first thing we're going to try is we're going to try to fill in the NaN with a zero by using the fillna method. The reason why filling in a NaN with a zero is often not a good idea as originally the NaN could have been something else as zero could help you misinterpret the data it's just one option. The other method we could use is to fill in with the back fill. And the way this works is perhaps better to show you where an index 35 before, I had it zero or a NaN now, I have an 89.77. This is because the index after it was an 89.77. This is very commonly done with time series data when you have a missing value. Another way is to forward fill in your value and this is also done with time series data. The difference between back fill and forward fill is back fill takes the value after the missing value and inserts it at the value that's missing. And what forward fill does is it takes the value before the missing value and inserts it where the missing value is. The reason why you use one versus the other is really dependent on your domain knowledge in your application. This is also a current area of research is called data imputation. Another way to fill in missing values is through linear interpolation. And what this does is it uses a linear model to fill in the missing value. And as you see here, this 93 is between 96 and the 89. What the quote here is doing is I'm finding the total interest paid over the course for loan by using the sum method. And I should known the sum method does an account for NaNs. And as you see here, this is the total amount of money paid toward interest or the course of a loan. It's important to keep in mind that the sum method by default ignores NaNs. So after we fill in a NaN value with a real value this might changed. What the quote here is doing is this is producing a Boolean ray of true and false values where I have a true value where I have a NaN and a false value where I don't and I'm assigning it to the variable interest_missing. From there, I'm utilizing the loc operator and filling in that missing NaN value with the value 93.24. Now, when I sum all the entire column, I'll get a different number. This is perhaps more accurate and I should known the value of removing or filling in your data is that oftentimes you get more accurate calculations. In this case, the reason why I filled in the value with 93.24 is because I knew the actual value should have been. This is due to my domain knowledge of loans. For every application you're working with is often best to try to get the most accurate value to fill in for a missing values. And as you can see here, we don't have NaN values in the DataFrame anymore. Once you've identified your missing values, removing them or filling them in often gives you more accurate calculations and makes the results more interpretable."
      ]
    },
    {
      "cell_type": "code",
      "metadata": {
        "id": "cab7I0uV1Due",
        "colab_type": "code",
        "colab": {}
      },
      "source": [
        "# Load Excel File\n",
        "filename = 'data/car_financing.xlsx'\n",
        "df = pd.read_excel(filename)"
      ],
      "execution_count": 0,
      "outputs": []
    },
    {
      "cell_type": "code",
      "metadata": {
        "id": "NCbpe-vh1Duk",
        "colab_type": "code",
        "colab": {}
      },
      "source": [
        "## Filtering \n",
        "car_filter = df['car_type']=='Toyota Sienna'\n",
        "interest_filter = df['interest_rate']==0.0702\n",
        "df = df.loc[car_filter & interest_filter, :]"
      ],
      "execution_count": 0,
      "outputs": []
    },
    {
      "cell_type": "code",
      "metadata": {
        "id": "nj1sHUHf1Dur",
        "colab_type": "code",
        "colab": {}
      },
      "source": [
        "# Approach 1 dictionary substitution using rename method\n",
        "df = df.rename(columns={'Starting Balance': 'starting_balance',\n",
        "                        'Interest Paid': 'interest_paid', \n",
        "                        'Principal Paid': 'principal_paid',\n",
        "                        'New Balance': 'new_balance'})"
      ],
      "execution_count": 0,
      "outputs": []
    },
    {
      "cell_type": "code",
      "metadata": {
        "id": "7yYmnu6g1Dux",
        "colab_type": "code",
        "colab": {}
      },
      "source": [
        "# Approach 2 list replacement\n",
        "# Only changing Month -> month, but we need to list the rest of the columns\n",
        "df.columns = ['month',\n",
        "              'starting_balance',\n",
        "              'Repayment',\n",
        "              'interest_paid',\n",
        "              'principal_paid',\n",
        "              'new_balance',\n",
        "              'term',\n",
        "              'interest_rate',\n",
        "              'car_type']"
      ],
      "execution_count": 0,
      "outputs": []
    },
    {
      "cell_type": "code",
      "metadata": {
        "id": "FaAP2KCo1Du2",
        "colab_type": "code",
        "colab": {}
      },
      "source": [
        "# Approach 1\n",
        "# This approach allows you to drop multiple columns at a time \n",
        "df = df.drop(columns=['term'])"
      ],
      "execution_count": 0,
      "outputs": []
    },
    {
      "cell_type": "code",
      "metadata": {
        "id": "U29NPrgF1Du9",
        "colab_type": "code",
        "colab": {}
      },
      "source": [
        "# Approach 2 use the del command\n",
        "del df['Repayment']"
      ],
      "execution_count": 0,
      "outputs": []
    },
    {
      "cell_type": "code",
      "metadata": {
        "id": "pOAtHyRw1DvE",
        "colab_type": "code",
        "colab": {}
      },
      "source": [
        "df.shape"
      ],
      "execution_count": 0,
      "outputs": []
    },
    {
      "cell_type": "markdown",
      "metadata": {
        "id": "oz67M_m11DvK",
        "colab_type": "text"
      },
      "source": [
        "## Removing or Filling in Missing Data\n",
        "This is an important subject as before you can graph data, you should make sure you aren't trying to graph some missing values as that can cause an error or misinterpretation of the data. "
      ]
    },
    {
      "cell_type": "code",
      "metadata": {
        "id": "c_x3E9Uk1DvM",
        "colab_type": "code",
        "colab": {}
      },
      "source": [
        "df.info()"
      ],
      "execution_count": 0,
      "outputs": []
    },
    {
      "cell_type": "markdown",
      "metadata": {
        "id": "lbVuGm4z1DvR",
        "colab_type": "text"
      },
      "source": [
        "### Remove Missing Values\n",
        "You can remove missing values by using the `dropna` method. "
      ]
    },
    {
      "cell_type": "code",
      "metadata": {
        "scrolled": true,
        "id": "baSUW22c1DvT",
        "colab_type": "code",
        "colab": {}
      },
      "source": [
        "# You can drop entire rows if they contain 'any' nans in them or 'all'\n",
        "# this may not be the best strategy for our dataset\n",
        "df[30:40].dropna(how = 'any')"
      ],
      "execution_count": 0,
      "outputs": []
    },
    {
      "cell_type": "markdown",
      "metadata": {
        "id": "Gue1JAZq1DvZ",
        "colab_type": "text"
      },
      "source": [
        "### Filling in Missing Values\n",
        "There are a [variety of ways to fill in missing values](https://pandas.pydata.org/pandas-docs/stable/user_guide/missing_data.html). "
      ]
    },
    {
      "cell_type": "code",
      "metadata": {
        "id": "MnolN-Ph1Dvc",
        "colab_type": "code",
        "colab": {}
      },
      "source": [
        "# Looking at where missing data is located\n",
        "df['interest_paid'][30:40]"
      ],
      "execution_count": 0,
      "outputs": []
    },
    {
      "cell_type": "code",
      "metadata": {
        "id": "6GvWnSKy1Dvi",
        "colab_type": "code",
        "colab": {}
      },
      "source": [
        "# Filling in the nan with a zero is probably a bad idea. \n",
        "df['interest_paid'][30:40].fillna(0)"
      ],
      "execution_count": 0,
      "outputs": []
    },
    {
      "cell_type": "code",
      "metadata": {
        "id": "TVobFKes1Dvq",
        "colab_type": "code",
        "colab": {}
      },
      "source": [
        "# back fill in value\n",
        "df['interest_paid'][30:40].fillna(method='bfill')"
      ],
      "execution_count": 0,
      "outputs": []
    },
    {
      "cell_type": "code",
      "metadata": {
        "id": "4ImD6zpo1Dvx",
        "colab_type": "code",
        "colab": {}
      },
      "source": [
        "# forward fill in value\n",
        "df['interest_paid'][30:40].fillna(method='ffill')"
      ],
      "execution_count": 0,
      "outputs": []
    },
    {
      "cell_type": "code",
      "metadata": {
        "id": "k1GaJELL1Dv7",
        "colab_type": "code",
        "colab": {}
      },
      "source": [
        "# linear interpolation (filling in of values)\n",
        "df['interest_paid'][30:40].interpolate(method = 'linear')"
      ],
      "execution_count": 0,
      "outputs": []
    },
    {
      "cell_type": "code",
      "metadata": {
        "id": "1jdEpya41DwB",
        "colab_type": "code",
        "colab": {}
      },
      "source": [
        "# Interest paid before filling in the nan with a value\n",
        "df['interest_paid'].sum()"
      ],
      "execution_count": 0,
      "outputs": []
    },
    {
      "cell_type": "code",
      "metadata": {
        "id": "PBAP6pvn1DwI",
        "colab_type": "code",
        "colab": {}
      },
      "source": [
        "# Fill in with the actual value\n",
        "interest_missing = df['interest_paid'].isna()\n",
        "df.loc[interest_missing,'interest_paid'] = 93.24"
      ],
      "execution_count": 0,
      "outputs": []
    },
    {
      "cell_type": "code",
      "metadata": {
        "id": "y85kmjWZ1DwO",
        "colab_type": "code",
        "colab": {}
      },
      "source": [
        "# Interest paid after filling in the nan with a value\n",
        "df['interest_paid'].sum()"
      ],
      "execution_count": 0,
      "outputs": []
    },
    {
      "cell_type": "code",
      "metadata": {
        "id": "NGgtoxuE1DwV",
        "colab_type": "code",
        "colab": {}
      },
      "source": [
        "# Notice we dont have NaN values in the DataFrame anymore\n",
        "df.info()"
      ],
      "execution_count": 0,
      "outputs": []
    },
    {
      "cell_type": "code",
      "metadata": {
        "id": "Up1zkr371Dwb",
        "colab_type": "code",
        "colab": {}
      },
      "source": [
        ""
      ],
      "execution_count": 0,
      "outputs": []
    }
  ]
}