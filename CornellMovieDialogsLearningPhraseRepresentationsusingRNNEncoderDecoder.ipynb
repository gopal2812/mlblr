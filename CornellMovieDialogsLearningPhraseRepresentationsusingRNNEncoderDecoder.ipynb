{
  "nbformat": 4,
  "nbformat_minor": 0,
  "metadata": {
    "colab": {
      "name": "CornellMovieDialogsLearningPhraseRepresentationsusingRNNEncoderDecoder.ipynb",
      "provenance": [],
      "include_colab_link": true
    },
    "kernelspec": {
      "name": "python3",
      "display_name": "Python 3"
    },
    "accelerator": "GPU"
  },
  "cells": [
    {
      "cell_type": "markdown",
      "metadata": {
        "id": "view-in-github",
        "colab_type": "text"
      },
      "source": [
        "<a href=\"https://colab.research.google.com/github/gopal2812/mlblr/blob/master/CornellMovieDialogsLearningPhraseRepresentationsusingRNNEncoderDecoder.ipynb\" target=\"_parent\"><img src=\"https://colab.research.google.com/assets/colab-badge.svg\" alt=\"Open In Colab\"/></a>"
      ]
    },
    {
      "cell_type": "code",
      "metadata": {
        "id": "OqjMV90IXS-t"
      },
      "source": [
        "import pandas as pd\r\n",
        "import numpy as np\r\n",
        "import re\r\n",
        "import time"
      ],
      "execution_count": 2,
      "outputs": []
    },
    {
      "cell_type": "code",
      "metadata": {
        "id": "poKeN6E7-7Hc"
      },
      "source": [
        "import torch\r\n",
        "import torch.nn as nn\r\n",
        "import torch.optim as optim\r\n",
        "import torch.nn.functional as F\r\n",
        "\r\n",
        "from torchtext.data import Field, BucketIterator, TabularDataset\r\n",
        "\r\n",
        "import spacy\r\n",
        "import numpy as np\r\n",
        "\r\n",
        "import random\r\n",
        "import math\r\n",
        "import time"
      ],
      "execution_count": 3,
      "outputs": []
    },
    {
      "cell_type": "code",
      "metadata": {
        "id": "Y6bAY6nF_f-O"
      },
      "source": [
        "from sklearn.model_selection import train_test_split"
      ],
      "execution_count": 4,
      "outputs": []
    },
    {
      "cell_type": "code",
      "metadata": {
        "id": "KH1wIJGg_H1U"
      },
      "source": [
        "SEED = 1234\r\n",
        "\r\n",
        "random.seed(SEED)\r\n",
        "np.random.seed(SEED)\r\n",
        "torch.manual_seed(SEED)\r\n",
        "torch.cuda.manual_seed(SEED)\r\n",
        "torch.backends.cudnn.deterministic = True"
      ],
      "execution_count": 5,
      "outputs": []
    },
    {
      "cell_type": "code",
      "metadata": {
        "colab": {
          "base_uri": "https://localhost:8080/"
        },
        "id": "CBGzxYvtYEsg",
        "outputId": "8643ddec-73b1-4922-f03e-fe1846ee1af2"
      },
      "source": [
        "from google.colab import drive\r\n",
        "drive.mount('/content/drive')"
      ],
      "execution_count": 6,
      "outputs": [
        {
          "output_type": "stream",
          "text": [
            "Mounted at /content/drive\n"
          ],
          "name": "stdout"
        }
      ]
    },
    {
      "cell_type": "code",
      "metadata": {
        "colab": {
          "base_uri": "https://localhost:8080/"
        },
        "id": "MDPgx4M2phOO",
        "outputId": "c9e29233-2bfe-4ac4-bfc0-db3d7fb80b66"
      },
      "source": [
        "!wget http://www.cs.cornell.edu/~cristian/data/cornell_movie_dialogs_corpus.zip"
      ],
      "execution_count": 8,
      "outputs": [
        {
          "output_type": "stream",
          "text": [
            "--2021-01-06 17:02:23--  http://www.cs.cornell.edu/~cristian/data/cornell_movie_dialogs_corpus.zip\n",
            "Resolving www.cs.cornell.edu (www.cs.cornell.edu)... 132.236.207.36\n",
            "Connecting to www.cs.cornell.edu (www.cs.cornell.edu)|132.236.207.36|:80... connected.\n",
            "HTTP request sent, awaiting response... 200 OK\n",
            "Length: 9916637 (9.5M) [application/zip]\n",
            "Saving to: ‘cornell_movie_dialogs_corpus.zip’\n",
            "\n",
            "cornell_movie_dialo 100%[===================>]   9.46M  13.3MB/s    in 0.7s    \n",
            "\n",
            "2021-01-06 17:02:24 (13.3 MB/s) - ‘cornell_movie_dialogs_corpus.zip’ saved [9916637/9916637]\n",
            "\n"
          ],
          "name": "stdout"
        }
      ]
    },
    {
      "cell_type": "code",
      "metadata": {
        "colab": {
          "base_uri": "https://localhost:8080/"
        },
        "id": "UnsJdJGLpmmD",
        "outputId": "90eb73bb-4cb6-4769-c443-bfbaecf756b0"
      },
      "source": [
        "!ls"
      ],
      "execution_count": 9,
      "outputs": [
        {
          "output_type": "stream",
          "text": [
            "cornell_movie_dialogs_corpus.zip  drive  sample_data\n"
          ],
          "name": "stdout"
        }
      ]
    },
    {
      "cell_type": "code",
      "metadata": {
        "colab": {
          "base_uri": "https://localhost:8080/"
        },
        "id": "pZv_l9KIpp4j",
        "outputId": "60f95188-c145-4f6b-a38b-c9817f92da4b"
      },
      "source": [
        "!ls -l\r\n",
        "!rm -rf co\r\n",
        "!unzip cornell_movie_dialogs_corpus.zip -d co\r\n",
        "!cp co/cornell*/movie_lines.txt .\r\n",
        "!cp co/cornell\\ movie-dialogs\\ corpus/movie_conversations.txt ."
      ],
      "execution_count": 46,
      "outputs": [
        {
          "output_type": "stream",
          "text": [
            "total 50140\n",
            "drwxr-xr-x 4 root root     4096 Jan  6 17:22 co\n",
            "-rw-r--r-- 1 root root  9916637 Dec 28  2014 cornell_movie_dialogs_corpus.zip\n",
            "drwx------ 5 root root     4096 Jan  6 16:58 drive\n",
            "drwxrwxr-x 3 root root     4096 May 10  2011 __MACOSX\n",
            "-rw-r--r-- 1 root root  6760930 Jan  6 17:25 movie_conversations.txt\n",
            "-rw-r--r-- 1 root root 34641919 Jan  6 17:25 movie_lines.txt\n",
            "drwxr-xr-x 1 root root     4096 Dec 21 17:29 sample_data\n",
            "Archive:  cornell_movie_dialogs_corpus.zip\n",
            "   creating: co/cornell movie-dialogs corpus/\n",
            "  inflating: co/cornell movie-dialogs corpus/.DS_Store  \n",
            "   creating: co/__MACOSX/\n",
            "   creating: co/__MACOSX/cornell movie-dialogs corpus/\n",
            "  inflating: co/__MACOSX/cornell movie-dialogs corpus/._.DS_Store  \n",
            "  inflating: co/cornell movie-dialogs corpus/chameleons.pdf  \n",
            "  inflating: co/__MACOSX/cornell movie-dialogs corpus/._chameleons.pdf  \n",
            "  inflating: co/cornell movie-dialogs corpus/movie_characters_metadata.txt  \n",
            "  inflating: co/cornell movie-dialogs corpus/movie_conversations.txt  \n",
            "  inflating: co/cornell movie-dialogs corpus/movie_lines.txt  \n",
            "  inflating: co/cornell movie-dialogs corpus/movie_titles_metadata.txt  \n",
            "  inflating: co/cornell movie-dialogs corpus/raw_script_urls.txt  \n",
            "  inflating: co/cornell movie-dialogs corpus/README.txt  \n",
            "  inflating: co/__MACOSX/cornell movie-dialogs corpus/._README.txt  \n"
          ],
          "name": "stdout"
        }
      ]
    },
    {
      "cell_type": "code",
      "metadata": {
        "id": "md2rfmdUavuz",
        "colab": {
          "base_uri": "https://localhost:8080/"
        },
        "outputId": "63f13af5-04cb-40a1-a428-c1a55e021384"
      },
      "source": [
        "#!cp cornell\\ movie-dialogs\\ corpus/movie_lines.txt .\r\n",
        "!ls -l \r\n",
        "\r\n",
        "# Load the data\r\n",
        "lines = open('movie_lines.txt', encoding='utf-8', errors='ignore').read().split('\\n')\r\n",
        "conver_lines = open('movie_conversations.txt', encoding='utf-8', errors='ignore').read().split('\\n')"
      ],
      "execution_count": 48,
      "outputs": [
        {
          "output_type": "stream",
          "text": [
            "total 50140\n",
            "drwxr-xr-x 4 root root     4096 Jan  6 17:26 co\n",
            "-rw-r--r-- 1 root root  9916637 Dec 28  2014 cornell_movie_dialogs_corpus.zip\n",
            "drwx------ 5 root root     4096 Jan  6 16:58 drive\n",
            "drwxrwxr-x 3 root root     4096 May 10  2011 __MACOSX\n",
            "-rw-r--r-- 1 root root  6760930 Jan  6 17:26 movie_conversations.txt\n",
            "-rw-r--r-- 1 root root 34641919 Jan  6 17:26 movie_lines.txt\n",
            "drwxr-xr-x 1 root root     4096 Dec 21 17:29 sample_data\n"
          ],
          "name": "stdout"
        }
      ]
    },
    {
      "cell_type": "code",
      "metadata": {
        "colab": {
          "base_uri": "https://localhost:8080/"
        },
        "id": "ZfBn4jfya5PM",
        "outputId": "c59dad6f-4f8f-419f-e036-a3b2de7d4f66"
      },
      "source": [
        "# The sentences that we will be using to train our model.\r\n",
        "lines[:10]"
      ],
      "execution_count": 49,
      "outputs": [
        {
          "output_type": "execute_result",
          "data": {
            "text/plain": [
              "['L1045 +++$+++ u0 +++$+++ m0 +++$+++ BIANCA +++$+++ They do not!',\n",
              " 'L1044 +++$+++ u2 +++$+++ m0 +++$+++ CAMERON +++$+++ They do to!',\n",
              " 'L985 +++$+++ u0 +++$+++ m0 +++$+++ BIANCA +++$+++ I hope so.',\n",
              " 'L984 +++$+++ u2 +++$+++ m0 +++$+++ CAMERON +++$+++ She okay?',\n",
              " \"L925 +++$+++ u0 +++$+++ m0 +++$+++ BIANCA +++$+++ Let's go.\",\n",
              " 'L924 +++$+++ u2 +++$+++ m0 +++$+++ CAMERON +++$+++ Wow',\n",
              " \"L872 +++$+++ u0 +++$+++ m0 +++$+++ BIANCA +++$+++ Okay -- you're gonna need to learn how to lie.\",\n",
              " 'L871 +++$+++ u2 +++$+++ m0 +++$+++ CAMERON +++$+++ No',\n",
              " 'L870 +++$+++ u0 +++$+++ m0 +++$+++ BIANCA +++$+++ I\\'m kidding.  You know how sometimes you just become this \"persona\"?  And you don\\'t know how to quit?',\n",
              " 'L869 +++$+++ u0 +++$+++ m0 +++$+++ BIANCA +++$+++ Like my fear of wearing pastels?']"
            ]
          },
          "metadata": {
            "tags": []
          },
          "execution_count": 49
        }
      ]
    },
    {
      "cell_type": "code",
      "metadata": {
        "colab": {
          "base_uri": "https://localhost:8080/"
        },
        "id": "plpPguABa87P",
        "outputId": "893da789-c501-4137-f0ce-a797ebbfc470"
      },
      "source": [
        "# The sentences' ids, which will be processed to become our input and target data.\r\n",
        "conver_lines[:10]"
      ],
      "execution_count": 50,
      "outputs": [
        {
          "output_type": "execute_result",
          "data": {
            "text/plain": [
              "[\"u0 +++$+++ u2 +++$+++ m0 +++$+++ ['L194', 'L195', 'L196', 'L197']\",\n",
              " \"u0 +++$+++ u2 +++$+++ m0 +++$+++ ['L198', 'L199']\",\n",
              " \"u0 +++$+++ u2 +++$+++ m0 +++$+++ ['L200', 'L201', 'L202', 'L203']\",\n",
              " \"u0 +++$+++ u2 +++$+++ m0 +++$+++ ['L204', 'L205', 'L206']\",\n",
              " \"u0 +++$+++ u2 +++$+++ m0 +++$+++ ['L207', 'L208']\",\n",
              " \"u0 +++$+++ u2 +++$+++ m0 +++$+++ ['L271', 'L272', 'L273', 'L274', 'L275']\",\n",
              " \"u0 +++$+++ u2 +++$+++ m0 +++$+++ ['L276', 'L277']\",\n",
              " \"u0 +++$+++ u2 +++$+++ m0 +++$+++ ['L280', 'L281']\",\n",
              " \"u0 +++$+++ u2 +++$+++ m0 +++$+++ ['L363', 'L364']\",\n",
              " \"u0 +++$+++ u2 +++$+++ m0 +++$+++ ['L365', 'L366']\"]"
            ]
          },
          "metadata": {
            "tags": []
          },
          "execution_count": 50
        }
      ]
    },
    {
      "cell_type": "code",
      "metadata": {
        "id": "XABSVbOGblVv"
      },
      "source": [
        "# Create a dictionary to map each line's id with its text\r\n",
        "id2line = {}\r\n",
        "for line in lines:\r\n",
        "    _line = line.split(' +++$+++ ')\r\n",
        "    if len(_line) == 5:\r\n",
        "        id2line[_line[0]] = _line[4]"
      ],
      "execution_count": 52,
      "outputs": []
    },
    {
      "cell_type": "code",
      "metadata": {
        "id": "0fr-RPXgbrLq"
      },
      "source": [
        "# Create a list of all of the conversations' lines' ids.\r\n",
        "convs = [ ]\r\n",
        "for line in conver_lines[:-1]:\r\n",
        "    _line = line.split(' +++$+++ ')[-1][1:-1].replace(\"'\",\"\").replace(\" \",\"\")\r\n",
        "    convs.append(_line.split(','))"
      ],
      "execution_count": 53,
      "outputs": []
    },
    {
      "cell_type": "code",
      "metadata": {
        "colab": {
          "base_uri": "https://localhost:8080/"
        },
        "id": "D7nXxkbGcDQL",
        "outputId": "6e19b0fd-f382-4195-f774-02392e0caf73"
      },
      "source": [
        "convs[:10]"
      ],
      "execution_count": 54,
      "outputs": [
        {
          "output_type": "execute_result",
          "data": {
            "text/plain": [
              "[['L194', 'L195', 'L196', 'L197'],\n",
              " ['L198', 'L199'],\n",
              " ['L200', 'L201', 'L202', 'L203'],\n",
              " ['L204', 'L205', 'L206'],\n",
              " ['L207', 'L208'],\n",
              " ['L271', 'L272', 'L273', 'L274', 'L275'],\n",
              " ['L276', 'L277'],\n",
              " ['L280', 'L281'],\n",
              " ['L363', 'L364'],\n",
              " ['L365', 'L366']]"
            ]
          },
          "metadata": {
            "tags": []
          },
          "execution_count": 54
        }
      ]
    },
    {
      "cell_type": "code",
      "metadata": {
        "id": "M204b3e4cHM4"
      },
      "source": [
        "# Sort the sentences into questions (inputs) and answers (targets)\r\n",
        "questions = []\r\n",
        "answers = []\r\n",
        "\r\n",
        "for conv in convs:\r\n",
        "    for i in range(len(conv)-1):\r\n",
        "        questions.append(id2line[conv[i]])\r\n",
        "        answers.append(id2line[conv[i+1]])"
      ],
      "execution_count": 55,
      "outputs": []
    },
    {
      "cell_type": "code",
      "metadata": {
        "colab": {
          "base_uri": "https://localhost:8080/"
        },
        "id": "uz2g1bZUcUIr",
        "outputId": "590a2dfe-b65e-49ef-fc84-eecdda6623f3"
      },
      "source": [
        "# Check if we have loaded the data correctly\r\n",
        "limit = 0\r\n",
        "for i in range(limit, limit+5):\r\n",
        "    print(questions[i])\r\n",
        "    print(answers[i])\r\n",
        "    print()"
      ],
      "execution_count": 56,
      "outputs": [
        {
          "output_type": "stream",
          "text": [
            "Can we make this quick?  Roxanne Korrine and Andrew Barrett are having an incredibly horrendous public break- up on the quad.  Again.\n",
            "Well, I thought we'd start with pronunciation, if that's okay with you.\n",
            "\n",
            "Well, I thought we'd start with pronunciation, if that's okay with you.\n",
            "Not the hacking and gagging and spitting part.  Please.\n",
            "\n",
            "Not the hacking and gagging and spitting part.  Please.\n",
            "Okay... then how 'bout we try out some French cuisine.  Saturday?  Night?\n",
            "\n",
            "You're asking me out.  That's so cute. What's your name again?\n",
            "Forget it.\n",
            "\n",
            "No, no, it's my fault -- we didn't have a proper introduction ---\n",
            "Cameron.\n",
            "\n"
          ],
          "name": "stdout"
        }
      ]
    },
    {
      "cell_type": "code",
      "metadata": {
        "colab": {
          "base_uri": "https://localhost:8080/"
        },
        "id": "494gR__ccunZ",
        "outputId": "61fe6d89-dc1d-44c7-e9b8-d2b2f462d34b"
      },
      "source": [
        "# Compare lengths of questions and answers\r\n",
        "print(len(questions))\r\n",
        "print(len(answers))"
      ],
      "execution_count": 57,
      "outputs": [
        {
          "output_type": "stream",
          "text": [
            "221616\n",
            "221616\n"
          ],
          "name": "stdout"
        }
      ]
    },
    {
      "cell_type": "code",
      "metadata": {
        "id": "QOcMdmfvc0xN"
      },
      "source": [
        "def clean_text(text):\r\n",
        "    '''Clean text by removing unnecessary characters and altering the format of words.'''\r\n",
        "\r\n",
        "    text = text.lower()\r\n",
        "    \r\n",
        "    text = re.sub(r\"i'm\", \"i am\", text)\r\n",
        "    text = re.sub(r\"he's\", \"he is\", text)\r\n",
        "    text = re.sub(r\"she's\", \"she is\", text)\r\n",
        "    text = re.sub(r\"it's\", \"it is\", text)\r\n",
        "    text = re.sub(r\"that's\", \"that is\", text)\r\n",
        "    text = re.sub(r\"what's\", \"that is\", text)\r\n",
        "    text = re.sub(r\"where's\", \"where is\", text)\r\n",
        "    text = re.sub(r\"how's\", \"how is\", text)\r\n",
        "    text = re.sub(r\"\\'ll\", \" will\", text)\r\n",
        "    text = re.sub(r\"\\'ve\", \" have\", text)\r\n",
        "    text = re.sub(r\"\\'re\", \" are\", text)\r\n",
        "    text = re.sub(r\"\\'d\", \" would\", text)\r\n",
        "    text = re.sub(r\"\\'re\", \" are\", text)\r\n",
        "    text = re.sub(r\"won't\", \"will not\", text)\r\n",
        "    text = re.sub(r\"can't\", \"cannot\", text)\r\n",
        "    text = re.sub(r\"n't\", \" not\", text)\r\n",
        "    text = re.sub(r\"n'\", \"ng\", text)\r\n",
        "    text = re.sub(r\"'bout\", \"about\", text)\r\n",
        "    text = re.sub(r\"'til\", \"until\", text)\r\n",
        "    text = re.sub(r\"[-()\\\"#/@;:<>{}`+=~|.!?,]\", \"\", text)\r\n",
        "    \r\n",
        "    return text"
      ],
      "execution_count": 58,
      "outputs": []
    },
    {
      "cell_type": "code",
      "metadata": {
        "id": "XcMVKROtc6d0"
      },
      "source": [
        "# Clean the data\r\n",
        "clean_questions = []\r\n",
        "for question in questions:\r\n",
        "    clean_questions.append(clean_text(question))\r\n",
        "    \r\n",
        "clean_answers = []    \r\n",
        "for answer in answers:\r\n",
        "    clean_answers.append(clean_text(answer))"
      ],
      "execution_count": 59,
      "outputs": []
    },
    {
      "cell_type": "code",
      "metadata": {
        "colab": {
          "base_uri": "https://localhost:8080/"
        },
        "id": "vGo0tvbmdEAY",
        "outputId": "3cc2422d-9423-44b4-9620-2d1ff9fe3761"
      },
      "source": [
        "# Take a look at some of the data to ensure that it has been cleaned well.\r\n",
        "limit = 0\r\n",
        "for i in range(limit, limit+5):\r\n",
        "    print(clean_questions[i])\r\n",
        "    print(clean_answers[i])\r\n",
        "    print()"
      ],
      "execution_count": 60,
      "outputs": [
        {
          "output_type": "stream",
          "text": [
            "can we make this quick  roxanne korrine and andrew barrett are having an incredibly horrendous public break up on the quad  again\n",
            "well i thought we would start with pronunciation if that is okay with you\n",
            "\n",
            "well i thought we would start with pronunciation if that is okay with you\n",
            "not the hacking and gagging and spitting part  please\n",
            "\n",
            "not the hacking and gagging and spitting part  please\n",
            "okay then how about we try out some french cuisine  saturday  night\n",
            "\n",
            "you are asking me out  that is so cute that is your name again\n",
            "forget it\n",
            "\n",
            "no no it is my fault  we did not have a proper introduction \n",
            "cameron\n",
            "\n"
          ],
          "name": "stdout"
        }
      ]
    },
    {
      "cell_type": "code",
      "metadata": {
        "id": "ONxxgpyGdMsS"
      },
      "source": [
        "# Find the length of sentences\r\n",
        "lengths = []\r\n",
        "for question in clean_questions:\r\n",
        "    lengths.append(len(question.split()))\r\n",
        "for answer in clean_answers:\r\n",
        "    lengths.append(len(answer.split()))\r\n",
        "\r\n",
        "# Create a dataframe so that the values can be inspected\r\n",
        "lengths = pd.DataFrame(lengths, columns=['counts'])"
      ],
      "execution_count": null,
      "outputs": []
    },
    {
      "cell_type": "code",
      "metadata": {
        "id": "VhLsMVnjdWN3"
      },
      "source": [
        "lengths.describe()"
      ],
      "execution_count": null,
      "outputs": []
    },
    {
      "cell_type": "code",
      "metadata": {
        "id": "KPYN8YrVdg_-"
      },
      "source": [
        "print(np.percentile(lengths, 80))\r\n",
        "print(np.percentile(lengths, 85))\r\n",
        "print(np.percentile(lengths, 90))\r\n",
        "print(np.percentile(lengths, 95))\r\n",
        "print(np.percentile(lengths, 99))"
      ],
      "execution_count": null,
      "outputs": []
    },
    {
      "cell_type": "code",
      "metadata": {
        "id": "9Gsu4mUadjIm"
      },
      "source": [
        "# Remove questions and answers that are shorter than 2 words and longer than 20 words.\r\n",
        "min_line_length = 2\r\n",
        "max_line_length = 20\r\n",
        "\r\n",
        "# Filter out the questions that are too short/long\r\n",
        "short_questions_temp = []\r\n",
        "short_answers_temp = []\r\n",
        "\r\n",
        "i = 0\r\n",
        "for question in clean_questions:\r\n",
        "    if len(question.split()) >= min_line_length and len(question.split()) <= max_line_length:\r\n",
        "        short_questions_temp.append(question)\r\n",
        "        short_answers_temp.append(clean_answers[i])\r\n",
        "    i += 1\r\n",
        "\r\n",
        "# Filter out the answers that are too short/long\r\n",
        "short_questions = []\r\n",
        "short_answers = []\r\n",
        "\r\n",
        "i = 0\r\n",
        "for answer in short_answers_temp:\r\n",
        "    if len(answer.split()) >= min_line_length and len(answer.split()) <= max_line_length:\r\n",
        "        short_answers.append(answer)\r\n",
        "        short_questions.append(short_questions_temp[i])\r\n",
        "    i += 1"
      ],
      "execution_count": 61,
      "outputs": []
    },
    {
      "cell_type": "code",
      "metadata": {
        "colab": {
          "base_uri": "https://localhost:8080/"
        },
        "id": "GQcxw0r6dtML",
        "outputId": "da4995bb-8162-486a-caf7-966ad6bec3d9"
      },
      "source": [
        "# Compare the number of lines we will use with the total number of lines.\r\n",
        "print(\"# of questions:\", len(short_questions))\r\n",
        "print(\"# of answers:\", len(short_answers))\r\n",
        "print(\"% of data used: {}%\".format(round(len(short_questions)/len(questions),4)*100))"
      ],
      "execution_count": 62,
      "outputs": [
        {
          "output_type": "stream",
          "text": [
            "# of questions: 138335\n",
            "# of answers: 138335\n",
            "% of data used: 62.419999999999995%\n"
          ],
          "name": "stdout"
        }
      ]
    },
    {
      "cell_type": "code",
      "metadata": {
        "colab": {
          "base_uri": "https://localhost:8080/"
        },
        "id": "s9tfTEpEd0tN",
        "outputId": "7e510d6d-c7a9-4669-b524-7cecb12aca5a"
      },
      "source": [
        "short_questions[:10], short_answers[:10]"
      ],
      "execution_count": 63,
      "outputs": [
        {
          "output_type": "execute_result",
          "data": {
            "text/plain": [
              "(['well i thought we would start with pronunciation if that is okay with you',\n",
              "  'not the hacking and gagging and spitting part  please',\n",
              "  'you are asking me out  that is so cute that is your name again',\n",
              "  'gosh if only we could find kat a boyfriend',\n",
              "  \"c'esc ma tete this is my head\",\n",
              "  'that is because it is such a nice one',\n",
              "  'how is our little find the wench a date plan progressing',\n",
              "  'you have my word  as a gentleman',\n",
              "  'how do you get your hair to look like that',\n",
              "  'sure have'],\n",
              " ['not the hacking and gagging and spitting part  please',\n",
              "  'okay then how about we try out some french cuisine  saturday  night',\n",
              "  'forget it',\n",
              "  'let me see what i can do',\n",
              "  'right  see  you are ready for the quiz',\n",
              "  'forget french',\n",
              "  \"well there's someone i think might be \",\n",
              "  'you are sweet',\n",
              "  \"eber's deep conditioner every two days and i never ever use a blowdryer without the diffuser attachment\",\n",
              "  'i really really really wanna go but i cannot  not unless my sister goes'])"
            ]
          },
          "metadata": {
            "tags": []
          },
          "execution_count": 63
        }
      ]
    },
    {
      "cell_type": "code",
      "metadata": {
        "id": "jrEB792a_kdb"
      },
      "source": [
        "trainX, validX, trainY, validY = train_test_split(\r\n",
        "...     short_questions, short_answers, test_size=0.33, random_state=42) "
      ],
      "execution_count": 64,
      "outputs": []
    },
    {
      "cell_type": "code",
      "metadata": {
        "id": "-73865WrAFh_"
      },
      "source": [
        "Train = [[trainX[i], trainY[i]] for i in range(len(trainX))]\r\n",
        "train_df = pd.DataFrame(Train, columns = ['QC','Answers'])\r\n",
        "train_df.to_csv('Train.csv', index =  False)\r\n",
        "\r\n",
        "Valid = [[validX[i], validY[i]] for i in range(len(validX))]\r\n",
        "val_df = pd.DataFrame(Valid, columns = ['QC','Answers'])\r\n",
        "val_df.to_csv('Validation.csv', index = False)"
      ],
      "execution_count": 65,
      "outputs": []
    },
    {
      "cell_type": "code",
      "metadata": {
        "id": "glfNAnaoBPYW"
      },
      "source": [
        "spacy_en = spacy.load('en')\r\n",
        "def tokenize_en(text):\r\n",
        "    \"\"\"\r\n",
        "    Tokenizes English text from a string into a list of strings\r\n",
        "    \"\"\"\r\n",
        "    return [tok.text for tok in spacy_en.tokenizer(text)]"
      ],
      "execution_count": 66,
      "outputs": []
    },
    {
      "cell_type": "code",
      "metadata": {
        "id": "m58meFSQBV7y"
      },
      "source": [
        "SRC = Field(tokenize=tokenize_en, \r\n",
        "            init_token='<sos>', \r\n",
        "            eos_token='<eos>', \r\n",
        "            lower=True)\r\n",
        "\r\n",
        "TRG = Field(tokenize = tokenize_en, \r\n",
        "            init_token='<sos>', \r\n",
        "            eos_token='<eos>', \r\n",
        "            lower=True)"
      ],
      "execution_count": 67,
      "outputs": []
    },
    {
      "cell_type": "code",
      "metadata": {
        "id": "ST0D2J2XBcCS"
      },
      "source": [
        "train_data, val_data = TabularDataset.splits(path='.',\r\n",
        "                                             train = 'Train.csv',\r\n",
        "                                             validation = 'Validation.csv',\r\n",
        "                                             skip_header = True,\r\n",
        "                                             format = 'csv',\r\n",
        "                                             fields =[('src',SRC), ('trg', TRG)])"
      ],
      "execution_count": 68,
      "outputs": []
    },
    {
      "cell_type": "code",
      "metadata": {
        "colab": {
          "base_uri": "https://localhost:8080/"
        },
        "id": "8bbU0_goBeLF",
        "outputId": "2dcd8636-e825-4b15-b69d-92d187c130f5"
      },
      "source": [
        "vars(val_data.examples[0])"
      ],
      "execution_count": 69,
      "outputs": [
        {
          "output_type": "execute_result",
          "data": {
            "text/plain": [
              "{'src': ['and', 'that', 'is', 'that', 'supposed', 'to', 'mean'],\n",
              " 'trg': ['she', 'looks', 'just', 'like', 'you']}"
            ]
          },
          "metadata": {
            "tags": []
          },
          "execution_count": 69
        }
      ]
    },
    {
      "cell_type": "code",
      "metadata": {
        "id": "zzPchJ6JBlz0"
      },
      "source": [
        "SRC.build_vocab(train_data, min_freq = 10)\r\n",
        "TRG.build_vocab(train_data, min_freq = 10)"
      ],
      "execution_count": 70,
      "outputs": []
    },
    {
      "cell_type": "code",
      "metadata": {
        "colab": {
          "base_uri": "https://localhost:8080/"
        },
        "id": "ZVDMwhmoBtcr",
        "outputId": "a6c2ce1c-0db3-42e4-e272-7b843275c902"
      },
      "source": [
        "device = torch.device('cuda' if torch.cuda.is_available() else 'cpu')\r\n",
        "device"
      ],
      "execution_count": 71,
      "outputs": [
        {
          "output_type": "execute_result",
          "data": {
            "text/plain": [
              "device(type='cuda')"
            ]
          },
          "metadata": {
            "tags": []
          },
          "execution_count": 71
        }
      ]
    },
    {
      "cell_type": "code",
      "metadata": {
        "id": "SyQvr99xBxPu"
      },
      "source": [
        "BATCH_SIZE = 256\r\n",
        "\r\n",
        "train_iterator, val_iterator = BucketIterator.splits(\r\n",
        "    (train_data, val_data), \r\n",
        "    batch_size = BATCH_SIZE, \r\n",
        "    sort = False,\r\n",
        "    device = device)"
      ],
      "execution_count": 72,
      "outputs": []
    },
    {
      "cell_type": "code",
      "metadata": {
        "id": "eDcw2xPtDJ32"
      },
      "source": [
        "class Encoder(nn.Module):\r\n",
        "    def __init__(self, input_dim, emb_dim, hid_dim, dropout):\r\n",
        "        super().__init__()\r\n",
        "\r\n",
        "        self.hid_dim = hid_dim\r\n",
        "        \r\n",
        "        self.embedding = nn.Embedding(input_dim, emb_dim) #no dropout as only one layer!\r\n",
        "        \r\n",
        "        self.rnn = nn.GRU(emb_dim, hid_dim)\r\n",
        "        \r\n",
        "        self.dropout = nn.Dropout(dropout)\r\n",
        "        \r\n",
        "    def forward(self, src):\r\n",
        "        \r\n",
        "        #src = [src len, batch size]\r\n",
        "        \r\n",
        "        embedded = self.dropout(self.embedding(src))\r\n",
        "        \r\n",
        "        #embedded = [src len, batch size, emb dim]\r\n",
        "        \r\n",
        "        outputs, hidden = self.rnn(embedded) #no cell state!\r\n",
        "        \r\n",
        "        #outputs = [src len, batch size, hid dim * n directions]\r\n",
        "        #hidden = [n layers * n directions, batch size, hid dim]\r\n",
        "        \r\n",
        "        #outputs are always from the top hidden layer\r\n",
        "        \r\n",
        "        return hidden"
      ],
      "execution_count": 73,
      "outputs": []
    },
    {
      "cell_type": "code",
      "metadata": {
        "id": "D-FsRlgaDLFb"
      },
      "source": [
        "class Decoder(nn.Module):\r\n",
        "    def __init__(self, output_dim, emb_dim, hid_dim, dropout):\r\n",
        "        super().__init__()\r\n",
        "\r\n",
        "        self.hid_dim = hid_dim\r\n",
        "        self.output_dim = output_dim\r\n",
        "        \r\n",
        "        self.embedding = nn.Embedding(output_dim, emb_dim)\r\n",
        "        \r\n",
        "        self.rnn = nn.GRU(emb_dim + hid_dim, hid_dim)\r\n",
        "        \r\n",
        "        self.fc_out = nn.Linear(emb_dim + hid_dim * 2, output_dim)\r\n",
        "        \r\n",
        "        self.dropout = nn.Dropout(dropout)\r\n",
        "        \r\n",
        "    def forward(self, input, hidden, context):\r\n",
        "        \r\n",
        "        #input = [batch size]\r\n",
        "        #hidden = [n layers * n directions, batch size, hid dim]\r\n",
        "        #context = [n layers * n directions, batch size, hid dim]\r\n",
        "        \r\n",
        "        #n layers and n directions in the decoder will both always be 1, therefore:\r\n",
        "        #hidden = [1, batch size, hid dim]\r\n",
        "        #context = [1, batch size, hid dim]\r\n",
        "        \r\n",
        "        input = input.unsqueeze(0)\r\n",
        "        \r\n",
        "        #input = [1, batch size]\r\n",
        "        \r\n",
        "        embedded = self.dropout(self.embedding(input))\r\n",
        "        \r\n",
        "        #embedded = [1, batch size, emb dim]\r\n",
        "                \r\n",
        "        emb_con = torch.cat((embedded, context), dim = 2)\r\n",
        "            \r\n",
        "        #emb_con = [1, batch size, emb dim + hid dim]\r\n",
        "            \r\n",
        "        output, hidden = self.rnn(emb_con, hidden)\r\n",
        "        \r\n",
        "        #output = [seq len, batch size, hid dim * n directions]\r\n",
        "        #hidden = [n layers * n directions, batch size, hid dim]\r\n",
        "        \r\n",
        "        #seq len, n layers and n directions will always be 1 in the decoder, therefore:\r\n",
        "        #output = [1, batch size, hid dim]\r\n",
        "        #hidden = [1, batch size, hid dim]\r\n",
        "        \r\n",
        "        output = torch.cat((embedded.squeeze(0), hidden.squeeze(0), context.squeeze(0)), \r\n",
        "                           dim = 1)\r\n",
        "        \r\n",
        "        #output = [batch size, emb dim + hid dim * 2]\r\n",
        "        \r\n",
        "        prediction = self.fc_out(output)\r\n",
        "        \r\n",
        "        #prediction = [batch size, output dim]\r\n",
        "        \r\n",
        "        return prediction, hidden"
      ],
      "execution_count": 74,
      "outputs": []
    },
    {
      "cell_type": "code",
      "metadata": {
        "id": "s9YWafzODPpJ"
      },
      "source": [
        "class Seq2Seq(nn.Module):\r\n",
        "    def __init__(self, encoder, decoder, device):\r\n",
        "        super().__init__()\r\n",
        "        \r\n",
        "        self.encoder = encoder\r\n",
        "        self.decoder = decoder\r\n",
        "        self.device = device\r\n",
        "        \r\n",
        "        assert encoder.hid_dim == decoder.hid_dim, \\\r\n",
        "            \"Hidden dimensions of encoder and decoder must be equal!\"\r\n",
        "        \r\n",
        "    def forward(self, src, trg, teacher_forcing_ratio = 0.5):\r\n",
        "        \r\n",
        "        #src = [src len, batch size]\r\n",
        "        #trg = [trg len, batch size]\r\n",
        "        #teacher_forcing_ratio is probability to use teacher forcing\r\n",
        "        #e.g. if teacher_forcing_ratio is 0.75 we use ground-truth inputs 75% of the time\r\n",
        "        \r\n",
        "        batch_size = trg.shape[1]\r\n",
        "        trg_len = trg.shape[0]\r\n",
        "        trg_vocab_size = self.decoder.output_dim\r\n",
        "        \r\n",
        "        #tensor to store decoder outputs\r\n",
        "        outputs = torch.zeros(trg_len, batch_size, trg_vocab_size).to(self.device)\r\n",
        "        \r\n",
        "        #last hidden state of the encoder is the context\r\n",
        "        context = self.encoder(src)\r\n",
        "        \r\n",
        "        #context also used as the initial hidden state of the decoder\r\n",
        "        hidden = context\r\n",
        "        \r\n",
        "        #first input to the decoder is the <sos> tokens\r\n",
        "        input = trg[0,:]\r\n",
        "        \r\n",
        "        for t in range(1, trg_len):\r\n",
        "            \r\n",
        "            #insert input token embedding, previous hidden state and the context state\r\n",
        "            #receive output tensor (predictions) and new hidden state\r\n",
        "            output, hidden = self.decoder(input, hidden, context)\r\n",
        "            \r\n",
        "            #place predictions in a tensor holding predictions for each token\r\n",
        "            outputs[t] = output\r\n",
        "            \r\n",
        "            #decide if we are going to use teacher forcing or not\r\n",
        "            teacher_force = random.random() < teacher_forcing_ratio\r\n",
        "            \r\n",
        "            #get the highest predicted token from our predictions\r\n",
        "            top1 = output.argmax(1) \r\n",
        "            \r\n",
        "            #if teacher forcing, use actual next token as next input\r\n",
        "            #if not, use predicted token\r\n",
        "            input = trg[t] if teacher_force else top1\r\n",
        "\r\n",
        "        return outputs"
      ],
      "execution_count": 75,
      "outputs": []
    },
    {
      "cell_type": "code",
      "metadata": {
        "id": "iQg9q8ECDWd-"
      },
      "source": [
        "INPUT_DIM = len(SRC.vocab)\r\n",
        "OUTPUT_DIM = len(TRG.vocab)\r\n",
        "ENC_EMB_DIM = 256\r\n",
        "DEC_EMB_DIM = 256\r\n",
        "HID_DIM = 512\r\n",
        "ENC_DROPOUT = 0.5\r\n",
        "DEC_DROPOUT = 0.5\r\n",
        "\r\n",
        "enc = Encoder(INPUT_DIM, ENC_EMB_DIM, HID_DIM, ENC_DROPOUT)\r\n",
        "dec = Decoder(OUTPUT_DIM, DEC_EMB_DIM, HID_DIM, DEC_DROPOUT)\r\n",
        "\r\n",
        "device = torch.device('cuda' if torch.cuda.is_available() else 'cpu')\r\n",
        "\r\n",
        "model = Seq2Seq(enc, dec, device).to(device)"
      ],
      "execution_count": 76,
      "outputs": []
    },
    {
      "cell_type": "code",
      "metadata": {
        "colab": {
          "base_uri": "https://localhost:8080/"
        },
        "id": "d6ZfcKKjDZ4e",
        "outputId": "5306f91b-e221-46a1-ecd5-0f1efe8616be"
      },
      "source": [
        "def init_weights(m):\r\n",
        "    for name, param in m.named_parameters():\r\n",
        "        nn.init.normal_(param.data, mean=0, std=0.01)\r\n",
        "        \r\n",
        "model.apply(init_weights)"
      ],
      "execution_count": 77,
      "outputs": [
        {
          "output_type": "execute_result",
          "data": {
            "text/plain": [
              "Seq2Seq(\n",
              "  (encoder): Encoder(\n",
              "    (embedding): Embedding(3651, 256)\n",
              "    (rnn): GRU(256, 512)\n",
              "    (dropout): Dropout(p=0.5, inplace=False)\n",
              "  )\n",
              "  (decoder): Decoder(\n",
              "    (embedding): Embedding(3618, 256)\n",
              "    (rnn): GRU(768, 512)\n",
              "    (fc_out): Linear(in_features=1280, out_features=3618, bias=True)\n",
              "    (dropout): Dropout(p=0.5, inplace=False)\n",
              "  )\n",
              ")"
            ]
          },
          "metadata": {
            "tags": []
          },
          "execution_count": 77
        }
      ]
    },
    {
      "cell_type": "code",
      "metadata": {
        "colab": {
          "base_uri": "https://localhost:8080/"
        },
        "id": "XQSp1_rZDgPV",
        "outputId": "3a266069-8aa3-45d4-a583-c45c0f5b6eef"
      },
      "source": [
        "def count_parameters(model):\r\n",
        "    return sum(p.numel() for p in model.parameters() if p.requires_grad)\r\n",
        "\r\n",
        "print(f'The model has {count_parameters(model):,} trainable parameters')"
      ],
      "execution_count": 78,
      "outputs": [
        {
          "output_type": "stream",
          "text": [
            "The model has 9,647,394 trainable parameters\n"
          ],
          "name": "stdout"
        }
      ]
    },
    {
      "cell_type": "code",
      "metadata": {
        "id": "C5rZgo6BDh-Y"
      },
      "source": [
        "optimizer = optim.Adam(model.parameters())"
      ],
      "execution_count": 79,
      "outputs": []
    },
    {
      "cell_type": "code",
      "metadata": {
        "id": "aHYVtOrYDnEn"
      },
      "source": [
        "TRG_PAD_IDX = TRG.vocab.stoi[TRG.pad_token]\r\n",
        "\r\n",
        "criterion = nn.CrossEntropyLoss(ignore_index = TRG_PAD_IDX)"
      ],
      "execution_count": 80,
      "outputs": []
    },
    {
      "cell_type": "code",
      "metadata": {
        "id": "CC3eq4rEDp0X"
      },
      "source": [
        "def train(model, iterator, optimizer, criterion, clip):\r\n",
        "    \r\n",
        "    model.train()\r\n",
        "    \r\n",
        "    epoch_loss = 0\r\n",
        "    \r\n",
        "    for i, batch in enumerate(iterator):\r\n",
        "        \r\n",
        "        src = batch.src\r\n",
        "        trg = batch.trg\r\n",
        "        \r\n",
        "        optimizer.zero_grad()\r\n",
        "        \r\n",
        "        output = model(src, trg)\r\n",
        "        \r\n",
        "        #trg = [trg len, batch size]\r\n",
        "        #output = [trg len, batch size, output dim]\r\n",
        "        \r\n",
        "        output_dim = output.shape[-1]\r\n",
        "        \r\n",
        "        output = output[1:].view(-1, output_dim)\r\n",
        "        trg = trg[1:].view(-1)\r\n",
        "        \r\n",
        "        #trg = [(trg len - 1) * batch size]\r\n",
        "        #output = [(trg len - 1) * batch size, output dim]\r\n",
        "        \r\n",
        "        loss = criterion(output, trg)\r\n",
        "        \r\n",
        "        loss.backward()\r\n",
        "        \r\n",
        "        torch.nn.utils.clip_grad_norm_(model.parameters(), clip)\r\n",
        "        \r\n",
        "        optimizer.step()\r\n",
        "        \r\n",
        "        epoch_loss += loss.item()\r\n",
        "        \r\n",
        "    return epoch_loss / len(iterator)"
      ],
      "execution_count": 81,
      "outputs": []
    },
    {
      "cell_type": "code",
      "metadata": {
        "id": "MbGqyvFaDt73"
      },
      "source": [
        "def evaluate(model, iterator, criterion):\r\n",
        "    \r\n",
        "    model.eval()\r\n",
        "    \r\n",
        "    epoch_loss = 0\r\n",
        "    \r\n",
        "    with torch.no_grad():\r\n",
        "    \r\n",
        "        for i, batch in enumerate(iterator):\r\n",
        "\r\n",
        "            src = batch.src\r\n",
        "            trg = batch.trg\r\n",
        "\r\n",
        "            output = model(src, trg, 0) #turn off teacher forcing\r\n",
        "\r\n",
        "            #trg = [trg len, batch size]\r\n",
        "            #output = [trg len, batch size, output dim]\r\n",
        "\r\n",
        "            output_dim = output.shape[-1]\r\n",
        "            \r\n",
        "            output = output[1:].view(-1, output_dim)\r\n",
        "            trg = trg[1:].view(-1)\r\n",
        "\r\n",
        "            #trg = [(trg len - 1) * batch size]\r\n",
        "            #output = [(trg len - 1) * batch size, output dim]\r\n",
        "\r\n",
        "            loss = criterion(output, trg)\r\n",
        "\r\n",
        "            epoch_loss += loss.item()\r\n",
        "        \r\n",
        "    return epoch_loss / len(iterator)"
      ],
      "execution_count": 82,
      "outputs": []
    },
    {
      "cell_type": "code",
      "metadata": {
        "id": "gKhAR2m-D0EQ"
      },
      "source": [
        "def epoch_time(start_time, end_time):\r\n",
        "    elapsed_time = end_time - start_time\r\n",
        "    elapsed_mins = int(elapsed_time / 60)\r\n",
        "    elapsed_secs = int(elapsed_time - (elapsed_mins * 60))\r\n",
        "    return elapsed_mins, elapsed_secs"
      ],
      "execution_count": 83,
      "outputs": []
    },
    {
      "cell_type": "code",
      "metadata": {
        "colab": {
          "base_uri": "https://localhost:8080/"
        },
        "id": "oLDtUvF_D1si",
        "outputId": "ca167363-c18a-4241-d9dd-096487dc843f"
      },
      "source": [
        "N_EPOCHS = 10\r\n",
        "CLIP = 1\r\n",
        "\r\n",
        "best_valid_loss = float('inf')\r\n",
        "\r\n",
        "for epoch in range(N_EPOCHS):\r\n",
        "    \r\n",
        "    start_time = time.time()\r\n",
        "    \r\n",
        "    train_loss = train(model, train_iterator, optimizer, criterion, CLIP)\r\n",
        "    valid_loss = evaluate(model, val_iterator, criterion)\r\n",
        "    \r\n",
        "    end_time = time.time()\r\n",
        "    \r\n",
        "    epoch_mins, epoch_secs = epoch_time(start_time, end_time)\r\n",
        "    \r\n",
        "    if valid_loss < best_valid_loss:\r\n",
        "        best_valid_loss = valid_loss\r\n",
        "        torch.save(model.state_dict(), 'tut2-model.pt')\r\n",
        "    \r\n",
        "    print(f'Epoch: {epoch+1:02} | Time: {epoch_mins}m {epoch_secs}s')\r\n",
        "    print(f'\\tTrain Loss: {train_loss:.3f} | Train PPL: {math.exp(train_loss):7.3f}')\r\n",
        "    print(f'\\t Val. Loss: {valid_loss:.3f} |  Val. PPL: {math.exp(valid_loss):7.3f}')"
      ],
      "execution_count": 84,
      "outputs": [
        {
          "output_type": "stream",
          "text": [
            "Epoch: 01 | Time: 1m 6s\n",
            "\tTrain Loss: 5.137 | Train PPL: 170.125\n",
            "\t Val. Loss: 5.229 |  Val. PPL: 186.648\n",
            "Epoch: 02 | Time: 1m 8s\n",
            "\tTrain Loss: 4.848 | Train PPL: 127.428\n",
            "\t Val. Loss: 5.231 |  Val. PPL: 187.067\n",
            "Epoch: 03 | Time: 1m 8s\n",
            "\tTrain Loss: 4.757 | Train PPL: 116.424\n",
            "\t Val. Loss: 5.190 |  Val. PPL: 179.533\n",
            "Epoch: 04 | Time: 1m 8s\n",
            "\tTrain Loss: 4.707 | Train PPL: 110.751\n",
            "\t Val. Loss: 5.229 |  Val. PPL: 186.676\n",
            "Epoch: 05 | Time: 1m 8s\n",
            "\tTrain Loss: 4.650 | Train PPL: 104.585\n",
            "\t Val. Loss: 5.251 |  Val. PPL: 190.817\n",
            "Epoch: 06 | Time: 1m 7s\n",
            "\tTrain Loss: 4.617 | Train PPL: 101.152\n",
            "\t Val. Loss: 5.178 |  Val. PPL: 177.318\n",
            "Epoch: 07 | Time: 1m 8s\n",
            "\tTrain Loss: 4.571 | Train PPL:  96.613\n",
            "\t Val. Loss: 5.200 |  Val. PPL: 181.331\n",
            "Epoch: 08 | Time: 1m 8s\n",
            "\tTrain Loss: 4.542 | Train PPL:  93.874\n",
            "\t Val. Loss: 5.222 |  Val. PPL: 185.326\n",
            "Epoch: 09 | Time: 1m 8s\n",
            "\tTrain Loss: 4.512 | Train PPL:  91.065\n",
            "\t Val. Loss: 5.213 |  Val. PPL: 183.556\n",
            "Epoch: 10 | Time: 1m 8s\n",
            "\tTrain Loss: 4.475 | Train PPL:  87.834\n",
            "\t Val. Loss: 5.212 |  Val. PPL: 183.526\n"
          ],
          "name": "stdout"
        }
      ]
    }
  ]
}