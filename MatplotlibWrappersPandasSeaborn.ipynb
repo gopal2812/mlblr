{
  "nbformat": 4,
  "nbformat_minor": 0,
  "metadata": {
    "anaconda-cloud": {},
    "kernelspec": {
      "display_name": "Python 3",
      "language": "python",
      "name": "python3"
    },
    "language_info": {
      "codemirror_mode": {
        "name": "ipython",
        "version": 3
      },
      "file_extension": ".py",
      "mimetype": "text/x-python",
      "name": "python",
      "nbconvert_exporter": "python",
      "pygments_lexer": "ipython3",
      "version": "3.6.8"
    },
    "colab": {
      "name": "MatplotlibWrappersPandasSeaborn.ipynb",
      "provenance": [],
      "include_colab_link": true
    }
  },
  "cells": [
    {
      "cell_type": "markdown",
      "metadata": {
        "id": "view-in-github",
        "colab_type": "text"
      },
      "source": [
        "<a href=\"https://colab.research.google.com/github/gopal2812/mlblr/blob/master/MatplotlibWrappersPandasSeaborn.ipynb\" target=\"_parent\"><img src=\"https://colab.research.google.com/assets/colab-badge.svg\" alt=\"Open In Colab\"/></a>"
      ]
    },
    {
      "cell_type": "code",
      "metadata": {
        "id": "fImiG2AYF71X",
        "colab_type": "code",
        "colab": {}
      },
      "source": [
        "# The ``inline`` flag will use the appropriate backend to make figures appear inline in the notebook.  \n",
        "%matplotlib inline\n",
        "\n",
        "import pandas as pd\n",
        "import numpy as np\n",
        "\n",
        "# `plt` is an alias for the `matplotlib.pyplot` module\n",
        "import matplotlib.pyplot as plt\n",
        "\n",
        "# import seaborn library (wrapper of matplotlib)\n",
        "import seaborn as sns"
      ],
      "execution_count": 0,
      "outputs": []
    },
    {
      "cell_type": "markdown",
      "metadata": {
        "id": "uzxgQh-BF71k",
        "colab_type": "text"
      },
      "source": [
        "## Matplotlib Wrappers (Pandas and Seaborn)\n",
        "\n",
        "Matplotlib is a very popular visualization library, but it definitely has flaws.\n",
        "\n",
        "1. Matplotlib defaults are not ideal (no grid lines, white background etc).\n",
        "2. The library is relatively low level. Doing anything complicated takes quite a bit of code. \n",
        "3. Lack of integration with pandas data structures (though this is being improved).\n",
        "\n",
        "In this video, we are going to make a more complicated visualization called a boxplot to show how helpful it is to work with the matplotlib wrappers pandas and seaborn."
      ]
    },
    {
      "cell_type": "markdown",
      "metadata": {
        "id": "IQpUFsf0F71m",
        "colab_type": "text"
      },
      "source": [
        "### What is a boxplot\n",
        "![](images/boxplot.png)\n",
        "A boxplot is a standardized way of displaying the distribution of data based on a five number summary (“minimum”, first quartile (Q1), median, third quartile (Q3), and “maximum”). It can tell you about your outliers and what their values are. It can also tell you if your data is symmetrical, how tightly your data is grouped, and if and how your data is skewed. If you want to learn more about how boxplots, you can learn more [here](https://towardsdatascience.com/understanding-boxplots-5e2df7bcbd51). "
      ]
    },
    {
      "cell_type": "markdown",
      "metadata": {
        "id": "zyPt92PUF71o",
        "colab_type": "text"
      },
      "source": [
        "### Load Data\n",
        "\n",
        "The data used to demonstrate boxplots is the Breast Cancer Wisconsin (Diagnostic) Data Set: https://archive.ics.uci.edu/ml/datasets/Breast+Cancer+Wisconsin+(Diagnostic). The goal of the visualization is to show how the distributions for the column `area_mean` differs for benign versus malignant `diagnosis`. "
      ]
    },
    {
      "cell_type": "code",
      "metadata": {
        "id": "BPdsz2i5F71q",
        "colab_type": "code",
        "colab": {
          "base_uri": "https://localhost:8080/",
          "height": 141
        },
        "outputId": "38c50a65-fb61-45cb-a466-7f67544d42d0"
      },
      "source": [
        "# Load wisconsin breast cancer dataset\n",
        "# either benign or malignant\n",
        "\n",
        "from google.colab import drive\n",
        "drive.mount('/content/gdrive')\n",
        "!ls \n",
        "root_path = 'gdrive/My Drive/your_project_folder/'  #change dir to your project folder\n",
        "cancer_df = pd.read_csv('gdrive/My Drive/datavisual/4 Matplotlib/data/wisconsinBreastCancer.csv')\n",
        "#cancer_df = pd.read_csv('data/')"
      ],
      "execution_count": 2,
      "outputs": [
        {
          "output_type": "stream",
          "text": [
            "Go to this URL in a browser: https://accounts.google.com/o/oauth2/auth?client_id=947318989803-6bn6qk8qdgf4n4g3pfee6491hc0brc4i.apps.googleusercontent.com&redirect_uri=urn%3aietf%3awg%3aoauth%3a2.0%3aoob&response_type=code&scope=email%20https%3a%2f%2fwww.googleapis.com%2fauth%2fdocs.test%20https%3a%2f%2fwww.googleapis.com%2fauth%2fdrive%20https%3a%2f%2fwww.googleapis.com%2fauth%2fdrive.photos.readonly%20https%3a%2f%2fwww.googleapis.com%2fauth%2fpeopleapi.readonly\n",
            "\n",
            "Enter your authorization code:\n",
            "··········\n",
            "Mounted at /content/gdrive\n",
            "gdrive\tsample_data\n"
          ],
          "name": "stdout"
        }
      ]
    },
    {
      "cell_type": "code",
      "metadata": {
        "id": "cHgVHSRmF71x",
        "colab_type": "code",
        "colab": {
          "base_uri": "https://localhost:8080/",
          "height": 239
        },
        "outputId": "47500b82-eccf-4005-9f94-66309cfe6b38"
      },
      "source": [
        "cancer_df.head()"
      ],
      "execution_count": 3,
      "outputs": [
        {
          "output_type": "execute_result",
          "data": {
            "text/html": [
              "<div>\n",
              "<style scoped>\n",
              "    .dataframe tbody tr th:only-of-type {\n",
              "        vertical-align: middle;\n",
              "    }\n",
              "\n",
              "    .dataframe tbody tr th {\n",
              "        vertical-align: top;\n",
              "    }\n",
              "\n",
              "    .dataframe thead th {\n",
              "        text-align: right;\n",
              "    }\n",
              "</style>\n",
              "<table border=\"1\" class=\"dataframe\">\n",
              "  <thead>\n",
              "    <tr style=\"text-align: right;\">\n",
              "      <th></th>\n",
              "      <th>id</th>\n",
              "      <th>diagnosis</th>\n",
              "      <th>radius_mean</th>\n",
              "      <th>texture_mean</th>\n",
              "      <th>perimeter_mean</th>\n",
              "      <th>area_mean</th>\n",
              "      <th>smoothness_mean</th>\n",
              "      <th>compactness_mean</th>\n",
              "      <th>concavity_mean</th>\n",
              "      <th>concave points_mean</th>\n",
              "      <th>symmetry_mean</th>\n",
              "      <th>fractal_dimension_mean</th>\n",
              "      <th>radius_se</th>\n",
              "      <th>texture_se</th>\n",
              "      <th>perimeter_se</th>\n",
              "      <th>area_se</th>\n",
              "      <th>smoothness_se</th>\n",
              "      <th>compactness_se</th>\n",
              "      <th>concavity_se</th>\n",
              "      <th>concave points_se</th>\n",
              "      <th>symmetry_se</th>\n",
              "      <th>fractal_dimension_se</th>\n",
              "      <th>radius_worst</th>\n",
              "      <th>texture_worst</th>\n",
              "      <th>perimeter_worst</th>\n",
              "      <th>area_worst</th>\n",
              "      <th>smoothness_worst</th>\n",
              "      <th>compactness_worst</th>\n",
              "      <th>concavity_worst</th>\n",
              "      <th>concave points_worst</th>\n",
              "      <th>symmetry_worst</th>\n",
              "      <th>fractal_dimension_worst</th>\n",
              "      <th>Unnamed: 32</th>\n",
              "    </tr>\n",
              "  </thead>\n",
              "  <tbody>\n",
              "    <tr>\n",
              "      <th>0</th>\n",
              "      <td>842302</td>\n",
              "      <td>M</td>\n",
              "      <td>17.99</td>\n",
              "      <td>10.38</td>\n",
              "      <td>122.80</td>\n",
              "      <td>1001.0</td>\n",
              "      <td>0.11840</td>\n",
              "      <td>0.27760</td>\n",
              "      <td>0.3001</td>\n",
              "      <td>0.14710</td>\n",
              "      <td>0.2419</td>\n",
              "      <td>0.07871</td>\n",
              "      <td>1.0950</td>\n",
              "      <td>0.9053</td>\n",
              "      <td>8.589</td>\n",
              "      <td>153.40</td>\n",
              "      <td>0.006399</td>\n",
              "      <td>0.04904</td>\n",
              "      <td>0.05373</td>\n",
              "      <td>0.01587</td>\n",
              "      <td>0.03003</td>\n",
              "      <td>0.006193</td>\n",
              "      <td>25.38</td>\n",
              "      <td>17.33</td>\n",
              "      <td>184.60</td>\n",
              "      <td>2019.0</td>\n",
              "      <td>0.1622</td>\n",
              "      <td>0.6656</td>\n",
              "      <td>0.7119</td>\n",
              "      <td>0.2654</td>\n",
              "      <td>0.4601</td>\n",
              "      <td>0.11890</td>\n",
              "      <td>NaN</td>\n",
              "    </tr>\n",
              "    <tr>\n",
              "      <th>1</th>\n",
              "      <td>842517</td>\n",
              "      <td>M</td>\n",
              "      <td>20.57</td>\n",
              "      <td>17.77</td>\n",
              "      <td>132.90</td>\n",
              "      <td>1326.0</td>\n",
              "      <td>0.08474</td>\n",
              "      <td>0.07864</td>\n",
              "      <td>0.0869</td>\n",
              "      <td>0.07017</td>\n",
              "      <td>0.1812</td>\n",
              "      <td>0.05667</td>\n",
              "      <td>0.5435</td>\n",
              "      <td>0.7339</td>\n",
              "      <td>3.398</td>\n",
              "      <td>74.08</td>\n",
              "      <td>0.005225</td>\n",
              "      <td>0.01308</td>\n",
              "      <td>0.01860</td>\n",
              "      <td>0.01340</td>\n",
              "      <td>0.01389</td>\n",
              "      <td>0.003532</td>\n",
              "      <td>24.99</td>\n",
              "      <td>23.41</td>\n",
              "      <td>158.80</td>\n",
              "      <td>1956.0</td>\n",
              "      <td>0.1238</td>\n",
              "      <td>0.1866</td>\n",
              "      <td>0.2416</td>\n",
              "      <td>0.1860</td>\n",
              "      <td>0.2750</td>\n",
              "      <td>0.08902</td>\n",
              "      <td>NaN</td>\n",
              "    </tr>\n",
              "    <tr>\n",
              "      <th>2</th>\n",
              "      <td>84300903</td>\n",
              "      <td>M</td>\n",
              "      <td>19.69</td>\n",
              "      <td>21.25</td>\n",
              "      <td>130.00</td>\n",
              "      <td>1203.0</td>\n",
              "      <td>0.10960</td>\n",
              "      <td>0.15990</td>\n",
              "      <td>0.1974</td>\n",
              "      <td>0.12790</td>\n",
              "      <td>0.2069</td>\n",
              "      <td>0.05999</td>\n",
              "      <td>0.7456</td>\n",
              "      <td>0.7869</td>\n",
              "      <td>4.585</td>\n",
              "      <td>94.03</td>\n",
              "      <td>0.006150</td>\n",
              "      <td>0.04006</td>\n",
              "      <td>0.03832</td>\n",
              "      <td>0.02058</td>\n",
              "      <td>0.02250</td>\n",
              "      <td>0.004571</td>\n",
              "      <td>23.57</td>\n",
              "      <td>25.53</td>\n",
              "      <td>152.50</td>\n",
              "      <td>1709.0</td>\n",
              "      <td>0.1444</td>\n",
              "      <td>0.4245</td>\n",
              "      <td>0.4504</td>\n",
              "      <td>0.2430</td>\n",
              "      <td>0.3613</td>\n",
              "      <td>0.08758</td>\n",
              "      <td>NaN</td>\n",
              "    </tr>\n",
              "    <tr>\n",
              "      <th>3</th>\n",
              "      <td>84348301</td>\n",
              "      <td>M</td>\n",
              "      <td>11.42</td>\n",
              "      <td>20.38</td>\n",
              "      <td>77.58</td>\n",
              "      <td>386.1</td>\n",
              "      <td>0.14250</td>\n",
              "      <td>0.28390</td>\n",
              "      <td>0.2414</td>\n",
              "      <td>0.10520</td>\n",
              "      <td>0.2597</td>\n",
              "      <td>0.09744</td>\n",
              "      <td>0.4956</td>\n",
              "      <td>1.1560</td>\n",
              "      <td>3.445</td>\n",
              "      <td>27.23</td>\n",
              "      <td>0.009110</td>\n",
              "      <td>0.07458</td>\n",
              "      <td>0.05661</td>\n",
              "      <td>0.01867</td>\n",
              "      <td>0.05963</td>\n",
              "      <td>0.009208</td>\n",
              "      <td>14.91</td>\n",
              "      <td>26.50</td>\n",
              "      <td>98.87</td>\n",
              "      <td>567.7</td>\n",
              "      <td>0.2098</td>\n",
              "      <td>0.8663</td>\n",
              "      <td>0.6869</td>\n",
              "      <td>0.2575</td>\n",
              "      <td>0.6638</td>\n",
              "      <td>0.17300</td>\n",
              "      <td>NaN</td>\n",
              "    </tr>\n",
              "    <tr>\n",
              "      <th>4</th>\n",
              "      <td>84358402</td>\n",
              "      <td>M</td>\n",
              "      <td>20.29</td>\n",
              "      <td>14.34</td>\n",
              "      <td>135.10</td>\n",
              "      <td>1297.0</td>\n",
              "      <td>0.10030</td>\n",
              "      <td>0.13280</td>\n",
              "      <td>0.1980</td>\n",
              "      <td>0.10430</td>\n",
              "      <td>0.1809</td>\n",
              "      <td>0.05883</td>\n",
              "      <td>0.7572</td>\n",
              "      <td>0.7813</td>\n",
              "      <td>5.438</td>\n",
              "      <td>94.44</td>\n",
              "      <td>0.011490</td>\n",
              "      <td>0.02461</td>\n",
              "      <td>0.05688</td>\n",
              "      <td>0.01885</td>\n",
              "      <td>0.01756</td>\n",
              "      <td>0.005115</td>\n",
              "      <td>22.54</td>\n",
              "      <td>16.67</td>\n",
              "      <td>152.20</td>\n",
              "      <td>1575.0</td>\n",
              "      <td>0.1374</td>\n",
              "      <td>0.2050</td>\n",
              "      <td>0.4000</td>\n",
              "      <td>0.1625</td>\n",
              "      <td>0.2364</td>\n",
              "      <td>0.07678</td>\n",
              "      <td>NaN</td>\n",
              "    </tr>\n",
              "  </tbody>\n",
              "</table>\n",
              "</div>"
            ],
            "text/plain": [
              "         id diagnosis  ...  fractal_dimension_worst  Unnamed: 32\n",
              "0    842302         M  ...                  0.11890          NaN\n",
              "1    842517         M  ...                  0.08902          NaN\n",
              "2  84300903         M  ...                  0.08758          NaN\n",
              "3  84348301         M  ...                  0.17300          NaN\n",
              "4  84358402         M  ...                  0.07678          NaN\n",
              "\n",
              "[5 rows x 33 columns]"
            ]
          },
          "metadata": {
            "tags": []
          },
          "execution_count": 3
        }
      ]
    },
    {
      "cell_type": "code",
      "metadata": {
        "id": "AH1Dli3UF713",
        "colab_type": "code",
        "colab": {
          "base_uri": "https://localhost:8080/",
          "height": 69
        },
        "outputId": "c5cd5d9c-5512-4ed6-c087-d2a6618a5f81"
      },
      "source": [
        "# Looking at the Distribution of the Dataset in terms of Diagnosis\n",
        "cancer_df['diagnosis'].value_counts(dropna = False)"
      ],
      "execution_count": 4,
      "outputs": [
        {
          "output_type": "execute_result",
          "data": {
            "text/plain": [
              "B    357\n",
              "M    212\n",
              "Name: diagnosis, dtype: int64"
            ]
          },
          "metadata": {
            "tags": []
          },
          "execution_count": 4
        }
      ]
    },
    {
      "cell_type": "markdown",
      "metadata": {
        "id": "HhoDSjDDF718",
        "colab_type": "text"
      },
      "source": [
        "### Plotting using Matplotlib"
      ]
    },
    {
      "cell_type": "code",
      "metadata": {
        "id": "xtsgQwzLF71_",
        "colab_type": "code",
        "colab": {
          "base_uri": "https://localhost:8080/",
          "height": 265
        },
        "outputId": "bda2727b-b71b-410f-c06e-b80da64588e0"
      },
      "source": [
        "malignant = cancer_df.loc[cancer_df['diagnosis']=='M','area_mean'].values\n",
        "benign = cancer_df.loc[cancer_df['diagnosis']=='B','area_mean'].values\n",
        "\n",
        "plt.boxplot([malignant,benign], labels=['M', 'B']);"
      ],
      "execution_count": 5,
      "outputs": [
        {
          "output_type": "display_data",
          "data": {
            "image/png": "[encoded data removed]",
            "text/plain": [
              "<Figure size 432x288 with 1 Axes>"
            ]
          },
          "metadata": {
            "tags": []
          }
        }
      ]
    },
    {
      "cell_type": "markdown",
      "metadata": {
        "id": "TyhWdWUjF72I",
        "colab_type": "text"
      },
      "source": [
        "### Plotting using Pandas\n",
        "Pandas can be used as a wrapper around Matplotlib. One reason why you might want to plot using Pandas is that it requires less code. \n",
        "\n",
        "We are going to create a boxplot to show how much less syntax you need to create the plot with pandas vs pure matplotlib. "
      ]
    },
    {
      "cell_type": "code",
      "metadata": {
        "id": "XtcCczM8F72L",
        "colab_type": "code",
        "colab": {
          "base_uri": "https://localhost:8080/",
          "height": 301
        },
        "outputId": "d13d1168-0d9a-461b-9b28-54373567512d"
      },
      "source": [
        "# Getting rid of area_mean \n",
        "cancer_df.boxplot(column = 'area_mean', by = 'diagnosis');"
      ],
      "execution_count": 6,
      "outputs": [
        {
          "output_type": "display_data",
          "data": {
            "image/png": "[encoded data removed]",
            "text/plain": [
              "<Figure size 432x288 with 1 Axes>"
            ]
          },
          "metadata": {
            "tags": []
          }
        }
      ]
    },
    {
      "cell_type": "markdown",
      "metadata": {
        "id": "5UCwQuNNF72V",
        "colab_type": "text"
      },
      "source": [
        "Sometimes you will find it useful to use Matplotlib syntax to adjust the final plot output. The code below removes the suptitle and title using pure matplotlib syntax. "
      ]
    },
    {
      "cell_type": "code",
      "metadata": {
        "id": "DIv1Hoo5F72X",
        "colab_type": "code",
        "colab": {
          "base_uri": "https://localhost:8080/",
          "height": 278
        },
        "outputId": "d8c14d25-1fb6-4025-90dc-27aac0b4d0b3"
      },
      "source": [
        "# Same plot but without the area_mean subtitle and title\n",
        "cancer_df.boxplot(column = 'area_mean', by = 'diagnosis');\n",
        "plt.title('');\n",
        "plt.suptitle('');"
      ],
      "execution_count": 7,
      "outputs": [
        {
          "output_type": "display_data",
          "data": {
            "image/png": "[encoded data removed]",
            "text/plain": [
              "<Figure size 432x288 with 1 Axes>"
            ]
          },
          "metadata": {
            "tags": []
          }
        }
      ]
    },
    {
      "cell_type": "markdown",
      "metadata": {
        "id": "-vDAj93JF72d",
        "colab_type": "text"
      },
      "source": [
        "### Plotting using Seaborn\n",
        "Seaborn can be seen as a wrapper on top of Matplotlib. [Seaborn's website](https://seaborn.pydata.org/introduction.html) lists a bunch of advantages of using Seaborn including\n",
        "\n",
        "* Close integration with pandas data structures\n",
        "* Dataset oriented API for examining relationships between multiple variables. \n",
        "* Specialized support for using categorical variables to show observations or aggregate statistics. \n",
        "* Concise control over matplotlib figure styling with several built-in themes. \n",
        "* Tools for choosing color palettes that faithfully reveal patterns in your data. "
      ]
    },
    {
      "cell_type": "code",
      "metadata": {
        "id": "G8ziTHl7F72e",
        "colab_type": "code",
        "colab": {}
      },
      "source": [
        "import seaborn as sns\n",
        "\n",
        "sns.boxplot(x='diagnosis', y='area_mean', data=cancer_df)"
      ],
      "execution_count": 0,
      "outputs": []
    },
    {
      "cell_type": "markdown",
      "metadata": {
        "id": "GAA0CqGYHLdb",
        "colab_type": "text"
      },
      "source": [
        "Matplotlib is a very popular data visualization library, but it definitely has its flaws. So in this video, we'll learn about two matplotlib wrappers, pandas and seaborn. Matplotlib defaults are not ideal. There's no gridlines, there's a white background, et cetera. The library is also relatively low level, so doing anything complicated takes quite a bit of code. And third, the lack of integration with pandas data structures is inconvenient, though this is being approved. In this video, we're going to make a more complicated visualization called a boxplot to show how helpful it is to work with the matplotlib wrappers, pandas and seaborn. But first, we have to know what a boxplot is and a boxplot is a standardized way of displaying the distribution of data based on a five-number summary, the \"minimum,\" the first quartile, the median, the third quartile, and the maximum. A boxplot can tell you what're your outliners and what their values are. It can also tell if your data's symmetrical, how tightly your data is grouped, and if and how your data is skewed. If you want to learn more about boxplots, you can learn more here. The data we're going to use to demonstrates boxplots is the Breast Cancer Wisconsin Diagnostic dataset. The goal of the visualization is to show how the distributions for the column, area_mean, differs for benign versus malignant diagnosis. So the first thing you have to do is you have to load our data into a pandas data frame. So here's a relative path and inside the data folder, there's a WisconsinBreastCancer.csv file and we're putting this into a pandas data frame, cancer_df. As we're looking at the first five rows of the dataset, notice how we want to find how the column, area_mean, differs for diagnosis of malignant versus benign. If we're looking at the distribution of the dataset in terms of diagnosis, notice that we have a significant amount of benign and malignant cancer diagnoses. Before we can make a boxplot using matplotlib, we have to isolate our malignant diagnosis and our benign diagnosis. And what the code over here is doing is I have a filter for malignant and I have a filter for benign, and so this and this, they're just pandas series for area_mean for benign diagnosis and malignant. And what the values attribute does is it just turns this pandas series into a numpy array. And then from here, you do plt.boxplot. You have one of your numpy arrays, you have your other, and then you have a label for each of your numpy arrays. As you see here, we don't have the prettiest boxplot. But it's pretty clear there's a significant difference between malignant and benign in terms of area_mean. You can also create a boxplot using pandas. And one reason why you might want to use pandas is that it requires less code. For the code over here, all you have to do is have the name of your data frame, in this case, cancer_df, use the boxplot method, specify you want to look at the area_mean column, and you want to separate it out by diagnosis. As you see in this image, it was less code to create the boxplot. It looks like there's something weird going on over here. And one important point to mention is that sometimes even if you're using pandas as a wrap around matplotlib, oftentimes, you can also incorporate matplotlib syntax to adjust the final plot. And the code below removes the titles using pure matplotlib syntax. You can also make boxplots using the seaborn library and seaborn can be seen a wrapper on top of matplotlib. And seaborn's website lists a bunch of advantages of using seaborn, including close integration with pandas data structures, a dataset-oriented API for examining relationships between multiple variables, specialized support for using categorical variables to show observations or aggregate statistics, concise control over matplotlib figure styling with several built-in themes, and tools for choosing color palettes that faithfully reveal patterns in your data. The first thing you have to do if you want to use seaborn is import seaborn. I'm importing seaborn as sns. And over here, I'm using the boxplot method where I'm passing in the cancer data frame into the panda data and I'm looking at the diagnosis column versus the area_mean column, and I'll press Shift + Enter. And then what you see here is that unlike the plots from before, this is more colorful, but perhaps more importantly, the malignant and the benign boxplots are closer together, so it's easier to make a comparison between the two of them. In this video, I showed you how to use two matplotlib wrappers, pandas, which is normally used for data manipulation, can also be used for data visualization, and seaborn, which makes plotting in matplotlib a lot easier.\n"
      ]
    }
  ]
}