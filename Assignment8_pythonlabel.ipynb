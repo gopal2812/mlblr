{
  "nbformat": 4,
  "nbformat_minor": 0,
  "metadata": {
    "colab": {
      "name": "Untitled61.ipynb",
      "provenance": [],
      "collapsed_sections": [],
      "authorship_tag": "ABX9TyNRJhEYwxp4atZANUCE5IGU",
      "include_colab_link": true
    },
    "kernelspec": {
      "name": "python3",
      "display_name": "Python 3"
    }
  },
  "cells": [
    {
      "cell_type": "markdown",
      "metadata": {
        "id": "view-in-github",
        "colab_type": "text"
      },
      "source": [
        "<a href=\"https://colab.research.google.com/github/gopal2812/mlblr/blob/master/Assignment8_pythonlabel.ipynb\" target=\"_parent\"><img src=\"https://colab.research.google.com/assets/colab-badge.svg\" alt=\"Open In Colab\"/></a>"
      ]
    },
    {
      "cell_type": "code",
      "metadata": {
        "id": "F9u1ZbXkRr2h"
      },
      "source": [
        "#Write a python function to Check if a Number is Positive, Negative or 0\r\n",
        "def pos(num):\r\n",
        "  if num > 0:\r\n",
        "    print(\"Positive number\")\r\n",
        "  elif num == 0:\r\n",
        "    print(\"Zero\")\r\n",
        "  else:\r\n",
        "    print(\"Negative number\")"
      ],
      "execution_count": 1,
      "outputs": []
    },
    {
      "cell_type": "code",
      "metadata": {
        "colab": {
          "base_uri": "https://localhost:8080/"
        },
        "id": "gJr_9dXGpJ05",
        "outputId": "eef3b51d-cf51-4a54-d499-20395e62d9a5"
      },
      "source": [
        "#Write a function to print seconds in a day\n",
        "seconds_in_a_day = 24 * 60 * 60\n",
        "print(seconds_in_a_day)"
      ],
      "execution_count": 2,
      "outputs": [
        {
          "output_type": "stream",
          "text": [
            "86400\n"
          ],
          "name": "stdout"
        }
      ]
    },
    {
      "cell_type": "code",
      "metadata": {
        "id": "8OUj1pxrVf6d"
      },
      "source": [
        "# Write a Python function to check if year is a leap year or not\r\n",
        "def leap_year(year):\r\n",
        "  if (year % 4) == 0:\r\n",
        "    if (year % 100) == 0:\r\n",
        "        if (year % 400) == 0:\r\n",
        "            print(\"{0} is a leap year\".format(year))\r\n",
        "        else:\r\n",
        "            print(\"{0} is not a leap year\".format(year))\r\n",
        "    else:\r\n",
        "        print(\"{0} is a leap year\".format(year))\r\n",
        "  else:\r\n",
        "    print(\"{0} is not a leap year\".format(year))"
      ],
      "execution_count": 3,
      "outputs": []
    },
    {
      "cell_type": "code",
      "metadata": {
        "colab": {
          "base_uri": "https://localhost:8080/"
        },
        "id": "5aHgE9s9WAGG",
        "outputId": "cd70cdfb-8f3d-460f-b5b5-94ed25c8b3fc"
      },
      "source": [
        "# Write a python function to display all the prime numbers within 900 and 1000\r\n",
        "\r\n",
        "lower = 900\r\n",
        "upper = 1000\r\n",
        "print(\"Prime numbers between\", lower, \"and\", upper, \"are:\")\r\n",
        "for num in range(lower, upper + 1):\r\n",
        "   if num > 1:\r\n",
        "       for i in range(2, num):\r\n",
        "           if (num % i) == 0:\r\n",
        "               break\r\n",
        "       else:\r\n",
        "           print(num)"
      ],
      "execution_count": 4,
      "outputs": [
        {
          "output_type": "stream",
          "text": [
            "Prime numbers between 900 and 1000 are:\n",
            "907\n",
            "911\n",
            "919\n",
            "929\n",
            "937\n",
            "941\n",
            "947\n",
            "953\n",
            "967\n",
            "971\n",
            "977\n",
            "983\n",
            "991\n",
            "997\n"
          ],
          "name": "stdout"
        }
      ]
    },
    {
      "cell_type": "code",
      "metadata": {
        "id": "yJCHJBWOWcYQ"
      },
      "source": [
        "# Write a python function to display the nth Fibonacci sequence\r\n",
        "\r\n",
        "def recur_fibo(n):\r\n",
        "   if n <= 1:\r\n",
        "       return n\r\n",
        "   else:\r\n",
        "       return(recur_fibo(n-1) + recur_fibo(n-2))"
      ],
      "execution_count": 5,
      "outputs": []
    },
    {
      "cell_type": "code",
      "metadata": {
        "id": "OyBc7PDrW1OB"
      },
      "source": [
        "# Write a python function to find the L.C.M. of two input number\r\n",
        "def compute_lcm(x, y):\r\n",
        "   if x > y:\r\n",
        "       greater = x\r\n",
        "   else:\r\n",
        "       greater = y\r\n",
        "\r\n",
        "   while(True):\r\n",
        "       if((greater % x == 0) and (greater % y == 0)):\r\n",
        "           lcm = greater\r\n",
        "           break\r\n",
        "       greater += 1\r\n",
        "\r\n",
        "   return lcm"
      ],
      "execution_count": 6,
      "outputs": []
    },
    {
      "cell_type": "code",
      "metadata": {
        "id": "Qfvu6CrfWYKx"
      },
      "source": [
        "# Write a python function to find the GCD of two input number\r\n",
        "\r\n",
        "def compute_gcd(x, y):\r\n",
        "   while(y):\r\n",
        "       x, y = y, x % y\r\n",
        "   return x\r\n"
      ],
      "execution_count": 7,
      "outputs": []
    },
    {
      "cell_type": "code",
      "metadata": {
        "id": "GfdTWbwyXYbl"
      },
      "source": [
        "# Write a python function to find the factors of a number\r\n",
        "def print_factors(x):\r\n",
        "   print(\"The factors of\",x,\"are:\")\r\n",
        "   for i in range(1, x + 1):\r\n",
        "       if x % i == 0:\r\n",
        "           print(i)"
      ],
      "execution_count": 8,
      "outputs": []
    },
    {
      "cell_type": "code",
      "metadata": {
        "id": "kcG2-hfvXmlT"
      },
      "source": [
        "# Write a python function to find the ASCII value of the given character\r\n",
        "def ascii(c):\r\n",
        "    print(\"The ASCII value of '\" + c + \"' is\", ord(c))"
      ],
      "execution_count": 9,
      "outputs": []
    },
    {
      "cell_type": "code",
      "metadata": {
        "id": "e1TG9dnpYx4g"
      },
      "source": [
        "#Write a python function to convert decimal to binary\r\n",
        "def dec2bin(dec):\r\n",
        "    print(bin(dec), \"in binary.\")"
      ],
      "execution_count": 10,
      "outputs": []
    },
    {
      "cell_type": "code",
      "metadata": {
        "id": "Ma0K8-o1ZTBV"
      },
      "source": [
        "#Write a python function to convert decimal to octal\r\n",
        "def dec2oct(dec):\r\n",
        "    print(oct(dec), \"in octal.\")"
      ],
      "execution_count": 11,
      "outputs": []
    },
    {
      "cell_type": "code",
      "metadata": {
        "id": "vqblX9KpZjkX"
      },
      "source": [
        "#Write a python function to convert decimal to hexadecimal\r\n",
        "def dec2hex(dec):\r\n",
        "    print(hex(dec), \"in hexadecimal.\")"
      ],
      "execution_count": 12,
      "outputs": []
    },
    {
      "cell_type": "code",
      "metadata": {
        "id": "gj0kQjO7ZwYS"
      },
      "source": [
        "# Write a python function to print Multiplication table of a number num in Python\r\n",
        "def multi_table(num):\r\n",
        "  for i in range(1, 11):\r\n",
        "   print(num, 'x', i, '=', num*i)"
      ],
      "execution_count": 13,
      "outputs": []
    },
    {
      "cell_type": "code",
      "metadata": {
        "id": "dAne_GDUbUMs"
      },
      "source": [
        "#Write a python function of Find Resolution of JPEG Image\r\n",
        "def jpeg_res(filename):\r\n",
        "  with open(filename,'rb') as img_file:\r\n",
        "    img_file.seek(163)\r\n",
        "    a = img_file.read(2)\r\n",
        "    height = (a[0] << 8) + a[1] \r\n",
        "    a = img_file.read(2) \r\n",
        "    width = (a[0] << 8) + a[1]\r\n",
        "  print(\"The resolution of the image is\",width,\"x\",height)"
      ],
      "execution_count": 14,
      "outputs": []
    },
    {
      "cell_type": "code",
      "metadata": {
        "id": "gmjbAeNQdA2N"
      },
      "source": [
        "#Write a python function Givenan array of integers nums and an integer target, return indices of the two numbers such that they add up to target.\r\n",
        "def twoSum(self, nums, target):\r\n",
        "  h = {}\r\n",
        "  for i, num in enumerate(nums):\r\n",
        "    n = target - num\r\n",
        "    if n not in h:\r\n",
        "      h[num] = i\r\n",
        "    else:\r\n",
        "      return [h[n], i]"
      ],
      "execution_count": 15,
      "outputs": []
    },
    {
      "cell_type": "code",
      "metadata": {
        "id": "g-IpAAzyeqNf"
      },
      "source": [
        "# Progeam to remove punctuations from strings\r\n",
        "def rm_punct(my_str):\r\n",
        "  punctuations = '''!()-[]{};:'\"\\,<>./?@#$%^&*_~'''\r\n",
        "  no_punct = \"\"\r\n",
        "  for char in my_str:\r\n",
        "    if char not in punctuations:\r\n",
        "      no_punct = no_punct + char\r\n",
        "  print(no_punct)"
      ],
      "execution_count": 16,
      "outputs": []
    },
    {
      "cell_type": "code",
      "metadata": {
        "id": "Q7B1p14bf06-"
      },
      "source": [
        "# Write a python function to check if a string is palindrome or not\r\n",
        "def palindrom(my_str):\r\n",
        "  my_str = my_str.casefold()\r\n",
        "  # reverse the string\r\n",
        "  rev_str = reversed(my_str)\r\n",
        "  # check if the string is equal to its reverse\r\n",
        "  if list(my_str) == list(rev_str):\r\n",
        "    print(\"The string is a palindrome.\")\r\n",
        "  else:\r\n",
        "    print(\"The string is not a palindrome.\")"
      ],
      "execution_count": 17,
      "outputs": []
    },
    {
      "cell_type": "code",
      "metadata": {
        "id": "TW2bwfKogenk"
      },
      "source": [
        "# Write a python function to convert kilometers to miles\r\n",
        "def kilo_miles(kilometers):\r\n",
        "  conv_fac = 0.621371\r\n",
        "  # calculate miles\r\n",
        "  miles = kilometers * conv_fac"
      ],
      "execution_count": 18,
      "outputs": []
    },
    {
      "cell_type": "code",
      "metadata": {
        "id": "jDnHigqpheG4"
      },
      "source": [
        "#Write a python function to get absolute value of a number\r\n",
        "def abs(num):\r\n",
        "  return abs(num)"
      ],
      "execution_count": 19,
      "outputs": []
    },
    {
      "cell_type": "code",
      "metadata": {
        "id": "L9Yc_Lp2h11w"
      },
      "source": [
        "# Write a python function to solve the quadratic equation ax**2 + bx + c = 0\r\n",
        "def soln( a, b, c):\r\n",
        "  d = (b**2) - (4*a*c)\r\n",
        "  sol1 = (-b-cmath.sqrt(d))/(2*a)\r\n",
        "  sol2 = (-b+cmath.sqrt(d))/(2*a)\r\n",
        "  return (sol1, sol2)"
      ],
      "execution_count": 20,
      "outputs": []
    },
    {
      "cell_type": "code",
      "metadata": {
        "id": "0ISPB3u7im82"
      },
      "source": [
        "# Write a python function to check if the number is an Armstrong number or not\r\n",
        "def armstong_num(num):\r\n",
        "  sum = 0\r\n",
        "  temp = num\r\n",
        "  while temp > 0:\r\n",
        "   digit = temp % 10\r\n",
        "   sum += digit ** 3\r\n",
        "   temp //= 10\r\n",
        "\r\n",
        "  if num == sum:\r\n",
        "    print(num,\"is an Armstrong number\")\r\n",
        "  else:\r\n",
        "    print(num,\"is not an Armstrong number\")"
      ],
      "execution_count": 21,
      "outputs": []
    },
    {
      "cell_type": "code",
      "metadata": {
        "id": "1YgZvkINjZ_E"
      },
      "source": [
        "# Write a python function to check Armstrong numbers in a certain interval\r\n",
        "\r\n",
        "def check(lower, upper):\r\n",
        "  for num in range(lower, upper + 1):\r\n",
        "   order = len(str(num))\r\n",
        "   sum = 0\r\n",
        "   temp = num\r\n",
        "   while temp > 0:\r\n",
        "       digit = temp % 10\r\n",
        "       sum += digit ** order\r\n",
        "       temp //= 10\r\n",
        "\r\n",
        "   if num == sum:\r\n",
        "       print(num)"
      ],
      "execution_count": 22,
      "outputs": []
    },
    {
      "cell_type": "code",
      "metadata": {
        "id": "2vZIo8hBj1z9"
      },
      "source": [
        "# Write a python function to check if a given number is perfect or not \r\n",
        "def isPerfect( n ): \r\n",
        "    sum = 1\r\n",
        "    i = 2\r\n",
        "    while i * i <= n: \r\n",
        "        if n % i == 0: \r\n",
        "            sum = sum + i + n/i \r\n",
        "        i += 1     \r\n",
        "    return (True if sum == n and n!=1 else False)"
      ],
      "execution_count": 23,
      "outputs": []
    },
    {
      "cell_type": "code",
      "metadata": {
        "id": "bY3miHxykPxO"
      },
      "source": [
        "# Write a python function to convert string into a datetime object\r\n",
        "from datetime import datetime\r\n",
        "def convert(date_string):\r\n",
        "  datetime_object = datetime.strptime(date_string, '%b %d %Y %I:%M%p')\r\n",
        "  print(datetime_object)"
      ],
      "execution_count": 24,
      "outputs": []
    },
    {
      "cell_type": "code",
      "metadata": {
        "id": "h_-LYNCGlKQt"
      },
      "source": [
        "#Write a python function Givenan array of integers, find if the array contains any duplicates.\r\n",
        "def containsDuplicate(self, nums):\r\n",
        "  return True if len(set(nums)) < len(nums) else False"
      ],
      "execution_count": 25,
      "outputs": []
    },
    {
      "cell_type": "code",
      "metadata": {
        "id": "LqvoW17Ll3Q4"
      },
      "source": [
        " #Write a python function to Find Minimum in Rotated Sorted Array\r\n",
        " def findMin(nums):\r\n",
        "     if len(nums) == 1:\r\n",
        "         return nums[0]\r\n",
        "     left = 0\r\n",
        "     right = len(nums) - 1\r\n",
        "     if nums[right] > nums[0]:\r\n",
        "         return nums[0]\r\n",
        "     while right >= left:\r\n",
        "         mid = left + (right - left) / 2\r\n",
        "         if nums[mid] > nums[mid + 1]:\r\n",
        "             return nums[mid + 1]\r\n",
        "         if nums[mid - 1] > nums[mid]:\r\n",
        "             return nums[mid]\r\n",
        "         if nums[mid] > nums[0]:\r\n",
        "             left = mid + 1\r\n",
        "         else:\r\n",
        "             right = mid - 1"
      ],
      "execution_count": 26,
      "outputs": []
    },
    {
      "cell_type": "code",
      "metadata": {
        "colab": {
          "base_uri": "https://localhost:8080/"
        },
        "id": "mbgVVgODrHWp",
        "outputId": "8e18c9fd-cb5d-4181-f934-2d518f68ec11"
      },
      "source": [
        "# Print current time in Python\r\n",
        "import datetime\r\n",
        "print(datetime.datetime.now())"
      ],
      "execution_count": 27,
      "outputs": [
        {
          "output_type": "stream",
          "text": [
            "2020-12-17 23:54:31.717647\n"
          ],
          "name": "stdout"
        }
      ]
    },
    {
      "cell_type": "code",
      "metadata": {
        "colab": {
          "base_uri": "https://localhost:8080/"
        },
        "id": "JoLYX55lsPVu",
        "outputId": "09a7ecdb-9726-414b-8958-fbc0308c6b04"
      },
      "source": [
        "#Print current time in milliseconds\r\n",
        "import time\r\n",
        "milliseconds = int(round(time.time() * 1000))\r\n",
        "print(milliseconds)"
      ],
      "execution_count": 28,
      "outputs": [
        {
          "output_type": "stream",
          "text": [
            "1608249271725\n"
          ],
          "name": "stdout"
        }
      ]
    },
    {
      "cell_type": "code",
      "metadata": {
        "id": "YjoMyrCNsexT"
      },
      "source": [
        "#Write a python function to Calculate number of days between two given dates\r\n",
        "from datetime import datetime\r\n",
        "def delta(date_1, date_2):\r\n",
        "  delta = None\r\n",
        "  if date_1 > date_2:\r\n",
        "    print(\"date_1 is greater\")\r\n",
        "    delta = date_1 - date_2\r\n",
        "  else:\r\n",
        "    print(\"date_2 is greater\")\r\n",
        "    delta = date_2 - date_1\r\n",
        "  print(\"Difference is\", delta.days, \"days\")"
      ],
      "execution_count": 29,
      "outputs": []
    },
    {
      "cell_type": "code",
      "metadata": {
        "id": "9z-8L7IotGSB"
      },
      "source": [
        "#Determines whether or not the following two sets have any elements in common. If yes display the common elements\r\n",
        "def common(set1, set2):\r\n",
        "  if set1.isdisjoint(set2):\r\n",
        "    print(\"Two sets have no items in common\")\r\n",
        "  else:\r\n",
        "    print(\"Two sets have items in common\")\r\n",
        "    print(set1.intersection(set2))"
      ],
      "execution_count": 30,
      "outputs": []
    },
    {
      "cell_type": "code",
      "metadata": {
        "id": "KNqstOCDt0PY"
      },
      "source": [
        "#Reverse the given tuple\r\n",
        "def rev(atuple):\r\n",
        "  aTuple = aTuple[::-1]\r\n",
        "  print(aTuple)"
      ],
      "execution_count": 31,
      "outputs": []
    },
    {
      "cell_type": "code",
      "metadata": {
        "id": "VHxxR4luuwBv"
      },
      "source": [
        "#Write a python function Givena two list. Create a third list by picking an odd-index element from the first list and even index elements from second.\r\n",
        "def thridlist (listOne, listTwo):\r\n",
        "  listThree = list()\r\n",
        "  oddElements = listOne[1::2]\r\n",
        "  EvenElement = listTwo[0::2]\r\n",
        "  listThree.extend(oddElements)\r\n",
        "  listThree.extend(EvenElement)\r\n",
        "  print(listThree)"
      ],
      "execution_count": 32,
      "outputs": []
    },
    {
      "cell_type": "code",
      "metadata": {
        "id": "EesS9J5xv0wy"
      },
      "source": [
        "#Write a python function Givenan input list removes the element at index 4 and add it to the 2nd position and also, at the end of the list\r\n",
        "def input(sampleList):\r\n",
        "  element = sampleList.pop(4)\r\n",
        "  sampleList.insert(2, element)\r\n",
        "  sampleList.append(element)"
      ],
      "execution_count": 33,
      "outputs": []
    },
    {
      "cell_type": "code",
      "metadata": {
        "id": "n37qrD3QwWUn"
      },
      "source": [
        "#Write a python function Givena two list of equal size create a set such that it shows the element from both lists in the pair\r\n",
        "def pair(firstList, secondList):\r\n",
        "  result = zip(firstList, secondList)\r\n",
        "  resultSet = set(result)\r\n",
        "  print(resultSet)"
      ],
      "execution_count": 34,
      "outputs": []
    },
    {
      "cell_type": "code",
      "metadata": {
        "id": "Z2JA4z5Xw5ul"
      },
      "source": [
        "#Write a python function Giventwo sets, Checks if One Set is Subset or superset of Another Set. if the subset is found delete all elements from that set\r\n",
        "def clear(firstSet, secondSet):\r\n",
        "  if(firstSet.issubset(secondSet)):\r\n",
        "    firstSet.clear()\r\n",
        "  \r\n",
        "  if(secondSet.issubset(firstSet)):\r\n",
        "    secondSet.clear()\r\n",
        "\r\n",
        "  print(\"First Set \", firstSet)\r\n",
        "  print(\"Second Set \", secondSet)"
      ],
      "execution_count": 35,
      "outputs": []
    },
    {
      "cell_type": "code",
      "metadata": {
        "id": "pWWr6wD9xXTa"
      },
      "source": [
        "#Write a python function Givena dictionary get all values from the dictionary and add it in a list but don’t add duplicates\r\n",
        "def op(speed):\r\n",
        "  speedList = list()\r\n",
        "  for item in speed.values():\r\n",
        "    if item not in speedList:\r\n",
        "      speedList.append(item)\r\n",
        "  print(\"unique list\", speedList)"
      ],
      "execution_count": 36,
      "outputs": []
    },
    {
      "cell_type": "code",
      "metadata": {
        "id": "vGG9utbPxwVJ"
      },
      "source": [
        "#Remove duplicate from a list and create a tuple and find the minimum and maximum number\r\n",
        "def remove_duplicates(sampleList):\r\n",
        "  sampleList = list(set(sampleList))\r\n",
        "  tuple = tuple(sampleList)\r\n",
        "  print(\"Minimum number is: \", min(tuple))\r\n",
        "  print(\"Maximum number is: \", max(tuple))"
      ],
      "execution_count": 37,
      "outputs": []
    },
    {
      "cell_type": "code",
      "metadata": {
        "id": "7UBjk0i3yPVC"
      },
      "source": [
        "#  Write a python function Givena Python list. Turn every item of a list into its cube\r\n",
        "def alist(lis):\r\n",
        "  opList =  [x* x * x for x in lis]\r\n",
        "  print(opList)"
      ],
      "execution_count": 38,
      "outputs": []
    },
    {
      "cell_type": "code",
      "metadata": {
        "colab": {
          "base_uri": "https://localhost:8080/"
        },
        "id": "j6sa6CYKzJXt",
        "outputId": "e30b7b39-9857-4067-af00-40b5b412c3b1"
      },
      "source": [
        "# Remove all string start with \"HMM\" given the list of strings\r\n",
        "\r\n",
        "def test(i):\r\n",
        "  if i.startswith(\"HMM\"):\r\n",
        "    return False\r\n",
        "  return True\r\n",
        "list1 = [\"Mike\", \"HMM\", \"Emma\", \"Kelly\", \"HMM\", \"Brad\"]\r\n",
        "resList = [i for i in (filter(test, list1))]\r\n",
        "print(resList)"
      ],
      "execution_count": 39,
      "outputs": [
        {
          "output_type": "stream",
          "text": [
            "['Mike', 'Emma', 'Kelly', 'Brad']\n"
          ],
          "name": "stdout"
        }
      ]
    },
    {
      "cell_type": "code",
      "metadata": {
        "colab": {
          "base_uri": "https://localhost:8080/"
        },
        "id": "RwN0il-y0YrW",
        "outputId": "ad7e56af-f7f9-4e25-b403-5cd326eac7f9"
      },
      "source": [
        "#  Generate 10 random integers between 1000 and 9999 which is divisible by 7\r\n",
        "import random\r\n",
        "\r\n",
        "print(\"Generating 3 random integer number between 1000 and 9999 divisible by 7\")\r\n",
        "for num in range(3):\r\n",
        "    print(random.randrange(1000, 9999, 7), end=', ')"
      ],
      "execution_count": 40,
      "outputs": [
        {
          "output_type": "stream",
          "text": [
            "Generating 3 random integer number between 1000 and 9999 divisible by 7\n",
            "8168, 8973, 3905, "
          ],
          "name": "stdout"
        }
      ]
    },
    {
      "cell_type": "code",
      "metadata": {
        "colab": {
          "base_uri": "https://localhost:8080/"
        },
        "id": "GupdkzTe0sgd",
        "outputId": "0da6be0e-8048-448c-969a-18f35ae75c08"
      },
      "source": [
        "# Generate  random String of length 15\r\n",
        "import random\r\n",
        "import string\r\n",
        "\r\n",
        "def randomString(stringLength):\r\n",
        "    \"\"\"Generate a random string of 15 charcters\"\"\"\r\n",
        "    letters = string.ascii_letters\r\n",
        "    return ''.join(random.choice(letters) for i in range(stringLength))\r\n",
        "\r\n",
        "print (\"Random String is \", randomString(15) )"
      ],
      "execution_count": 41,
      "outputs": [
        {
          "output_type": "stream",
          "text": [
            "Random String is  ZEvJPAmBUYlxJYq\n"
          ],
          "name": "stdout"
        }
      ]
    },
    {
      "cell_type": "code",
      "metadata": {
        "colab": {
          "base_uri": "https://localhost:8080/"
        },
        "id": "J1RvxNUM032e",
        "outputId": "5587425d-46a3-47d3-cce2-309f6407e4d7"
      },
      "source": [
        "# Arrange string characters such that Uppercase letters should come first\r\n",
        "\r\n",
        "str1 = \"pythonMT\"\r\n",
        "lower = []\r\n",
        "upper = []\r\n",
        "for char in str1:\r\n",
        "    if char.islower():\r\n",
        "        lower.append(char)\r\n",
        "    else:\r\n",
        "        upper.append(char)\r\n",
        "sorted_string = ''.join(upper + lower)\r\n",
        "print(sorted_string)"
      ],
      "execution_count": 42,
      "outputs": [
        {
          "output_type": "stream",
          "text": [
            "MTpython\n"
          ],
          "name": "stdout"
        }
      ]
    },
    {
      "cell_type": "code",
      "metadata": {
        "colab": {
          "base_uri": "https://localhost:8080/"
        },
        "id": "H7BREhMz1UwD",
        "outputId": "9d6f7cbb-4892-48ef-a750-2e57f24113f0"
      },
      "source": [
        "#Write a python function to print permutation of a string\r\n",
        "def permute_string(str):\r\n",
        "    if len(str) == 0:\r\n",
        "        return ['']\r\n",
        "    prev_list = permute_string(str[1:len(str)])\r\n",
        "    next_list = []\r\n",
        "    for i in range(0,len(prev_list)):\r\n",
        "        for j in range(0,len(str)):\r\n",
        "            new_str = prev_list[i][0:j]+str[0]+prev_list[i][j:len(str)-1]\r\n",
        "            if new_str not in next_list:\r\n",
        "                next_list.append(new_str)\r\n",
        "    return next_list\r\n",
        "\r\n",
        "print(permute_string('ABCD'));"
      ],
      "execution_count": 43,
      "outputs": [
        {
          "output_type": "stream",
          "text": [
            "['ABCD', 'BACD', 'BCAD', 'BCDA', 'ACBD', 'CABD', 'CBAD', 'CBDA', 'ACDB', 'CADB', 'CDAB', 'CDBA', 'ABDC', 'BADC', 'BDAC', 'BDCA', 'ADBC', 'DABC', 'DBAC', 'DBCA', 'ADCB', 'DACB', 'DCAB', 'DCBA']\n"
          ],
          "name": "stdout"
        }
      ]
    },
    {
      "cell_type": "code",
      "metadata": {
        "id": "ipqmRKx81-B-"
      },
      "source": [
        "#Write a Python function to print the first n Lucky Numbers.\r\n",
        "def lucky(n):\r\n",
        "  List=range(-1,n*n+9,2)\r\n",
        "  i=2\r\n",
        "  while List[i:]:List=sorted(set(List)-set(List[List[i]::List[i]]));i+=1\r\n",
        "  print(List[1:n+1])"
      ],
      "execution_count": 44,
      "outputs": []
    },
    {
      "cell_type": "code",
      "metadata": {
        "id": "w3VjJeMS2fL0"
      },
      "source": [
        "#Write a python function to print negative odd Numbers in given range \r\n",
        "  \r\n",
        "def negativeoddnumber(start, end): \r\n",
        "  for num in range(start, end + 1):     \r\n",
        "    if ((num < 0) and ((num % 2) != 0)): \r\n",
        "        print(num, end = \" \")"
      ],
      "execution_count": 45,
      "outputs": []
    },
    {
      "cell_type": "code",
      "metadata": {
        "id": "UCl3hNu835CY"
      },
      "source": [
        "#Write a python function to count positive and negative numbers in a list\r\n",
        "def num(list1):\r\n",
        "  pos_count, neg_count = 0, 0\r\n",
        "  \r\n",
        "  for num in list1:  \r\n",
        "    if num >= 0: \r\n",
        "      pos_count += 1\r\n",
        "    else: \r\n",
        "      neg_count += 1\r\n",
        "  return pos_count, neg_count"
      ],
      "execution_count": 46,
      "outputs": []
    },
    {
      "cell_type": "code",
      "metadata": {
        "id": "KvNlZO-V4dxM"
      },
      "source": [
        "# Write a python function Givenan input string str1, count occurrences of character 'A' within a string\r\n",
        "def charA(str1):\r\n",
        "  countDict = dict()\r\n",
        "  for char in str1:\r\n",
        "    count = str1.count('A')\r\n",
        "    countDict['A']=count\r\n",
        "  print(countDict)\r\n"
      ],
      "execution_count": 47,
      "outputs": []
    },
    {
      "cell_type": "code",
      "metadata": {
        "id": "OopGf9pz51kS"
      },
      "source": [
        "# Write a python function Givenan input string str1, count occurrences of character 'B' within a string\r\n",
        "def charA(str1):\r\n",
        "  countDict = dict()\r\n",
        "  for char in str1:\r\n",
        "    count = str1.count('B')\r\n",
        "    countDict['B']=count\r\n",
        "  print(countDict)"
      ],
      "execution_count": 48,
      "outputs": []
    },
    {
      "cell_type": "code",
      "metadata": {
        "id": "Ul4NcbQY6BS5"
      },
      "source": [
        "# Write a python function Givenan input string str1, count occurrences of character 'C' within a string\r\n",
        "def charA(str1):\r\n",
        "  countDict = dict()\r\n",
        "  for char in str1:\r\n",
        "    count = str1.count('C')\r\n",
        "    countDict['C']=count\r\n",
        "  print(countDict)"
      ],
      "execution_count": 49,
      "outputs": []
    },
    {
      "cell_type": "code",
      "metadata": {
        "id": "N7Czr26l6FuH"
      },
      "source": [
        "# Write a python function Givenan input string str1, count occurrences of character 'D' within a string\r\n",
        "def charA(str1):\r\n",
        "  countDict = dict()\r\n",
        "  for char in str1:\r\n",
        "    count = str1.count('D')\r\n",
        "    countDict['D']=count\r\n",
        "  print(countDict)"
      ],
      "execution_count": 50,
      "outputs": []
    },
    {
      "cell_type": "code",
      "metadata": {
        "id": "ipDQEx8g6KD4"
      },
      "source": [
        "# Write a python function Givenan input string str1, count occurrences of character 'E' within a string\r\n",
        "def charA(str1):\r\n",
        "  countDict = dict()\r\n",
        "  for char in str1:\r\n",
        "    count = str1.count('E')\r\n",
        "    countDict['E']=count\r\n",
        "  print(countDict)"
      ],
      "execution_count": 51,
      "outputs": []
    },
    {
      "cell_type": "code",
      "metadata": {
        "id": "RYwgjIeH6Ok0"
      },
      "source": [
        "# Write a python function Givenan input string str1, count occurrences of character 'F' within a string\r\n",
        "def charA(str1):\r\n",
        "  countDict = dict()\r\n",
        "  for char in str1:\r\n",
        "    count = str1.count('F')\r\n",
        "    countDict['F']=count\r\n",
        "  print(countDict)"
      ],
      "execution_count": 52,
      "outputs": []
    },
    {
      "cell_type": "code",
      "metadata": {
        "id": "aIbfsM4z6T1K"
      },
      "source": [
        "# Write a python function Givenan input string str1, count occurrences of character 'G' within a string\r\n",
        "def charA(str1):\r\n",
        "  countDict = dict()\r\n",
        "  for char in str1:\r\n",
        "    count = str1.count('G')\r\n",
        "    countDict['G']=count\r\n",
        "  print(countDict)"
      ],
      "execution_count": 53,
      "outputs": []
    },
    {
      "cell_type": "code",
      "metadata": {
        "id": "h3sIxDj66Xbl"
      },
      "source": [
        "# Write a python function Givenan input string str1, count occurrences of character 'H' within a string\r\n",
        "def charA(str1):\r\n",
        "  countDict = dict()\r\n",
        "  for char in str1:\r\n",
        "    count = str1.count('H')\r\n",
        "    countDict['H']=count\r\n",
        "  print(countDict)"
      ],
      "execution_count": 54,
      "outputs": []
    },
    {
      "cell_type": "code",
      "metadata": {
        "colab": {
          "base_uri": "https://localhost:8080/"
        },
        "id": "8eIQtFBU6dqe",
        "outputId": "09406434-b885-4f8b-8fe0-cda88ab3b88e"
      },
      "source": [
        "# write a python program to add six numbers \r\n",
        "num1 = 1.5\r\n",
        "num2 = 6.3\r\n",
        "num3 = 5\r\n",
        "num4 = 7\r\n",
        "num5 = 9\r\n",
        "num6 = 9\r\n",
        "sum = num1 + num2 + num3 + num4 + num5 + num6\r\n",
        "print(f'Sum: {sum}')"
      ],
      "execution_count": 55,
      "outputs": [
        {
          "output_type": "stream",
          "text": [
            "Sum: 37.8\n"
          ],
          "name": "stdout"
        }
      ]
    },
    {
      "cell_type": "code",
      "metadata": {
        "colab": {
          "base_uri": "https://localhost:8080/"
        },
        "id": "x36j3qtS9QiR",
        "outputId": "50c1c1c1-45f7-4039-96ca-32bc9ba1b43c"
      },
      "source": [
        "# Removal all the characters other than integers from string\r\n",
        "\r\n",
        "str1 = 'I am 25 years and 10 months old'\r\n",
        "res = \"\".join([item for item in str1 if item.isdigit()])\r\n",
        "print(res)"
      ],
      "execution_count": 56,
      "outputs": [
        {
          "output_type": "stream",
          "text": [
            "2510\n"
          ],
          "name": "stdout"
        }
      ]
    },
    {
      "cell_type": "code",
      "metadata": {
        "colab": {
          "base_uri": "https://localhost:8080/"
        },
        "id": "zjPPl8_w9yF8",
        "outputId": "6745fe99-ee0a-458e-c986-abf33012b09f"
      },
      "source": [
        "# Calculate memory is being used by an set in Python\r\n",
        "import sys\r\n",
        "set1 = {'Scott', 'Eric', 'Kelly', 'Emma', 'Smith'}\r\n",
        "print(\"size of set = \",sys.getsizeof(set1))"
      ],
      "execution_count": 57,
      "outputs": [
        {
          "output_type": "stream",
          "text": [
            "size of set =  736\n"
          ],
          "name": "stdout"
        }
      ]
    },
    {
      "cell_type": "code",
      "metadata": {
        "colab": {
          "base_uri": "https://localhost:8080/"
        },
        "id": "LN7CE3H1-B-r",
        "outputId": "b6c69782-efda-4c02-9183-056be1ff93f1"
      },
      "source": [
        "## Calculate memory is being used by an dictionary in Python\r\n",
        "import sys\r\n",
        "dict1 = {'Scott': 12, 'Eric':13, 'Kelly':16, 'Emma':45, 'Smith':67}\r\n",
        "print(\"size of set = \",sys.getsizeof(dict1))"
      ],
      "execution_count": 58,
      "outputs": [
        {
          "output_type": "stream",
          "text": [
            "size of set =  240\n"
          ],
          "name": "stdout"
        }
      ]
    },
    {
      "cell_type": "code",
      "metadata": {
        "colab": {
          "base_uri": "https://localhost:8080/"
        },
        "id": "dv7NzJH6-TpK",
        "outputId": "8ba48aa6-9018-437a-c50f-aeb7eff9f386"
      },
      "source": [
        "## Calculate memory is being used by an tuple in Python\r\n",
        "import sys\r\n",
        "tuple1 = ('a','b')\r\n",
        "print(\"size of set = \",sys.getsizeof(tuple1))"
      ],
      "execution_count": 59,
      "outputs": [
        {
          "output_type": "stream",
          "text": [
            "size of set =  64\n"
          ],
          "name": "stdout"
        }
      ]
    },
    {
      "cell_type": "code",
      "metadata": {
        "colab": {
          "base_uri": "https://localhost:8080/"
        },
        "id": "RY3UXQ5b-sCs",
        "outputId": "f7aed115-65d2-4180-c2cb-8df5676737d9"
      },
      "source": [
        "# write a program to calculate exponents of an input\r\n",
        "input = 9\r\n",
        "exponent = 2\r\n",
        "final = pow(input, exponent)\r\n",
        "print(f'Exponent Value is:{final}')"
      ],
      "execution_count": 60,
      "outputs": [
        {
          "output_type": "stream",
          "text": [
            "Exponent Value is:81\n"
          ],
          "name": "stdout"
        }
      ]
    },
    {
      "cell_type": "code",
      "metadata": {
        "colab": {
          "base_uri": "https://localhost:8080/"
        },
        "id": "OXAmPL9W-6wQ",
        "outputId": "b667f607-e991-46d7-f5cf-3bf9d117d615"
      },
      "source": [
        "# Write a program that returns first occurrence of Substring \r\n",
        "word = 'geeks for geeks'\r\n",
        "\r\n",
        "result = word.find('geeks') \r\n",
        "print (\"Substring 'geeks' found at index:\", result ) "
      ],
      "execution_count": 61,
      "outputs": [
        {
          "output_type": "stream",
          "text": [
            "Substring 'geeks' found at index: 0\n"
          ],
          "name": "stdout"
        }
      ]
    },
    {
      "cell_type": "code",
      "metadata": {
        "colab": {
          "base_uri": "https://localhost:8080/"
        },
        "id": "epOCaUa0_c9U",
        "outputId": "965ad061-6841-4862-9326-e271d7207134"
      },
      "source": [
        "#Write a progrm to Sort each String in String list\r\n",
        "test_list = ['gfg', 'is', 'good'] \r\n",
        "print(\"The original list : \" + str(test_list)) \r\n",
        "res = list(map(lambda ele: \"\".join(sorted(ele)), test_list)) \r\n",
        "print(\"List after string sorting : \" + str(res)) "
      ],
      "execution_count": 62,
      "outputs": [
        {
          "output_type": "stream",
          "text": [
            "The original list : ['gfg', 'is', 'good']\n",
            "List after string sorting : ['fgg', 'is', 'dgoo']\n"
          ],
          "name": "stdout"
        }
      ]
    },
    {
      "cell_type": "code",
      "metadata": {
        "colab": {
          "base_uri": "https://localhost:8080/"
        },
        "id": "E05LKcW0ABvD",
        "outputId": "e7ab9bba-686e-47e9-caac-2e8e86d79cc3"
      },
      "source": [
        "#Write a python program  to iterate over a list\r\n",
        "list1 = [1, 3, 5, 7, 9]\r\n",
        "  \r\n",
        "# Using for loop\r\n",
        "for i in list1:\r\n",
        "    print(i)"
      ],
      "execution_count": 63,
      "outputs": [
        {
          "output_type": "stream",
          "text": [
            "1\n",
            "3\n",
            "5\n",
            "7\n",
            "9\n"
          ],
          "name": "stdout"
        }
      ]
    },
    {
      "cell_type": "code",
      "metadata": {
        "id": "Nn4wRBlOAZjO"
      },
      "source": [
        "#write a program to replace one string with another string\r\n",
        "def string_replace(str,old_string,new_string):\r\n",
        "  print(old_string)\r\n",
        "  print(new_string)\r\n",
        "  print(str)\r\n",
        "  new_str = str.replace(\"summer\",\"winter\")\r\n",
        "  print(new_str)\r\n",
        "  return new_str"
      ],
      "execution_count": 64,
      "outputs": []
    },
    {
      "cell_type": "code",
      "metadata": {
        "colab": {
          "base_uri": "https://localhost:8080/"
        },
        "id": "PHl7jiQbBMGO",
        "outputId": "fcdd24ee-bba4-436f-b85c-911dfc4f6fa2"
      },
      "source": [
        "# Generate a random 2-dimensional array of float numbers\r\n",
        "\r\n",
        "import numpy\r\n",
        "random_float_array = numpy.random.rand(2, 2)\r\n",
        "print(\"2 X 2 random float array in [0.0, 1.0] \\n\", random_float_array,\"\\n\")"
      ],
      "execution_count": 65,
      "outputs": [
        {
          "output_type": "stream",
          "text": [
            "2 X 2 random float array in [0.0, 1.0] \n",
            " [[0.08454566 0.42998252]\n",
            " [0.74085045 0.47840196]] \n",
            "\n"
          ],
          "name": "stdout"
        }
      ]
    },
    {
      "cell_type": "code",
      "metadata": {
        "colab": {
          "base_uri": "https://localhost:8080/"
        },
        "id": "5QPGxC-HBftp",
        "outputId": "86366d0b-0fe4-498e-b2bd-49bdf6c61e13"
      },
      "source": [
        "# Shuffle a list randomly\r\n",
        "import random\r\n",
        "list1 = [2,5,8,9,12]\r\n",
        "random.shuffle(list1)\r\n",
        "print (\"Printing shuffled list \", list1)"
      ],
      "execution_count": 66,
      "outputs": [
        {
          "output_type": "stream",
          "text": [
            "Printing shuffled list  [12, 9, 5, 2, 8]\n"
          ],
          "name": "stdout"
        }
      ]
    },
    {
      "cell_type": "code",
      "metadata": {
        "colab": {
          "base_uri": "https://localhost:8080/"
        },
        "id": "ljcTkKOmBkSM",
        "outputId": "b5eea48f-a193-43b0-e9b5-7a07eea50114"
      },
      "source": [
        "# Shuffle a list randomly\r\n",
        "import random\r\n",
        "list1 = [2,5,8,9,12]\r\n",
        "random.shuffle(list1)\r\n",
        "print (\"Printing shuffled list \", list1)"
      ],
      "execution_count": 67,
      "outputs": [
        {
          "output_type": "stream",
          "text": [
            "Printing shuffled list  [2, 8, 5, 9, 12]\n"
          ],
          "name": "stdout"
        }
      ]
    },
    {
      "cell_type": "code",
      "metadata": {
        "colab": {
          "base_uri": "https://localhost:8080/"
        },
        "id": "07K5ytGPAgLg",
        "outputId": "708dd4c2-7636-44be-be87-a5615cf5b81d"
      },
      "source": [
        "# From given string replace each punctuation with ?\r\n",
        "from string import punctuation\r\n",
        "\r\n",
        "str1 = '/*Jon is @developer & musician!!'\r\n",
        "\r\n",
        "replace_char = '?'\r\n",
        "for char in punctuation:\r\n",
        "    str1 = str1.replace(char, replace_char)\r\n",
        "\r\n",
        "print(\"The strings after replacement : \", str1)"
      ],
      "execution_count": 68,
      "outputs": [
        {
          "output_type": "stream",
          "text": [
            "The strings after replacement :  ??Jon is ?developer ? musician??\n"
          ],
          "name": "stdout"
        }
      ]
    },
    {
      "cell_type": "code",
      "metadata": {
        "colab": {
          "base_uri": "https://localhost:8080/"
        },
        "id": "4ihB0qJIB9Qx",
        "outputId": "ccf06c1e-6eb2-42da-a5e2-3ef37462ed35"
      },
      "source": [
        "# Given a string, return the average of the digits that appear in the string, ignoring all other characters\r\n",
        "import re\r\n",
        "\r\n",
        "inputStr = \"English = 78 Science = 83 Math = 68 History = 65\"\r\n",
        "markList = [int(num) for num in re.findall(r'\\b\\d+\\b', inputStr)]\r\n",
        "totalMarks = 0\r\n",
        "for mark in markList:\r\n",
        "  totalMarks+=mark\r\n",
        "\r\n",
        "percentage = totalMarks/len(markList)  \r\n",
        "print(\"average is \", percentage)"
      ],
      "execution_count": 69,
      "outputs": [
        {
          "output_type": "stream",
          "text": [
            "average is  73.5\n"
          ],
          "name": "stdout"
        }
      ]
    },
    {
      "cell_type": "code",
      "metadata": {
        "colab": {
          "base_uri": "https://localhost:8080/"
        },
        "id": "Q8xEqSv_CL_5",
        "outputId": "9fbc0a24-4323-45ea-9528-e4487ac48072"
      },
      "source": [
        "# Write a program which will create a new string by appending s1 in the middle of s2 given two strings, s1 and s2\r\n",
        "\r\n",
        "def appendMiddle(s1, s2):\r\n",
        "  middleIndex = int(len(s2) /2)\r\n",
        "  middleThree = s2[:middleIndex:]+ s1 +s2[middleIndex:]\r\n",
        "  print(\"After appending new string in middle\", middleThree)\r\n",
        "  \r\n",
        "appendMiddle(\"Ault\", \"Kelly\")"
      ],
      "execution_count": 70,
      "outputs": [
        {
          "output_type": "stream",
          "text": [
            "After appending new string in middle KeAultlly\n"
          ],
          "name": "stdout"
        }
      ]
    },
    {
      "cell_type": "code",
      "metadata": {
        "colab": {
          "base_uri": "https://localhost:8080/"
        },
        "id": "z1NfhU86CmdC",
        "outputId": "646cf01d-0790-45e1-8c4d-2000d72ee70c"
      },
      "source": [
        "# Write a python function that generate a random date between given start and end dates and return random dates\r\n",
        "import random\r\n",
        "import time\r\n",
        "\r\n",
        "def getRandomDate(startDate, endDate ):\r\n",
        "    print(\"Printing random date between\", startDate, \" and \", endDate)\r\n",
        "    randomGenerator = random.random()\r\n",
        "    dateFormat = '%m/%d/%Y'\r\n",
        "\r\n",
        "    startTime = time.mktime(time.strptime(startDate, dateFormat))\r\n",
        "    endTime = time.mktime(time.strptime(endDate, dateFormat))\r\n",
        "\r\n",
        "    randomTime = startTime + randomGenerator * (endTime - startTime)\r\n",
        "    randomDate = time.strftime(dateFormat, time.localtime(randomTime))\r\n",
        "    return randomDate\r\n",
        "\r\n",
        "print (\"Random Date = \", getRandomDate(\"1/1/2016\", \"12/12/2018\"))"
      ],
      "execution_count": 71,
      "outputs": [
        {
          "output_type": "stream",
          "text": [
            "Printing random date between 1/1/2016  and  12/12/2018\n",
            "Random Date =  12/19/2016\n"
          ],
          "name": "stdout"
        }
      ]
    },
    {
      "cell_type": "code",
      "metadata": {
        "colab": {
          "base_uri": "https://localhost:8080/"
        },
        "id": "h7zvLCGvC6D6",
        "outputId": "f9bef483-9ff8-4a1c-ae80-9bdfc2f9f94b"
      },
      "source": [
        "# Sort JSON keys in Python and write it into a file\r\n",
        "import json\r\n",
        "sampleJson = {\"id\" : 1, \"name\" : \"value2\", \"age\" : 29}\r\n",
        "\r\n",
        "with open(\"sampleJson.json\", \"w\") as write_file:\r\n",
        "    json.dump(sampleJson, write_file, indent=4, sort_keys=True)\r\n",
        "print(\"Done writing JSON data into a file\")"
      ],
      "execution_count": 72,
      "outputs": [
        {
          "output_type": "stream",
          "text": [
            "Done writing JSON data into a file\n"
          ],
          "name": "stdout"
        }
      ]
    },
    {
      "cell_type": "code",
      "metadata": {
        "colab": {
          "base_uri": "https://localhost:8080/"
        },
        "id": "ktJZ9G-rDQ52",
        "outputId": "866e78ec-101e-47a1-837b-c146a43fff4d"
      },
      "source": [
        "# Write python code for Pretty print JSON\r\n",
        "\r\n",
        "import json\r\n",
        "person_string = '{\"name\": \"Bob\", \"languages\": \"English\", \"numbers\": [2, 1.6, null]}'\r\n",
        "person_dict = json.loads(person_string)\r\n",
        "print(json.dumps(person_dict, indent = 4, sort_keys=True))"
      ],
      "execution_count": 73,
      "outputs": [
        {
          "output_type": "stream",
          "text": [
            "{\n",
            "    \"languages\": \"English\",\n",
            "    \"name\": \"Bob\",\n",
            "    \"numbers\": [\n",
            "        2,\n",
            "        1.6,\n",
            "        null\n",
            "    ]\n",
            "}\n"
          ],
          "name": "stdout"
        }
      ]
    },
    {
      "cell_type": "code",
      "metadata": {
        "colab": {
          "base_uri": "https://localhost:8080/"
        },
        "id": "MlNoApJODWg1",
        "outputId": "571890b6-7708-45dd-d08d-d4ed40a233af"
      },
      "source": [
        "#Create a function that can accept two arguments name and age and print its value\r\n",
        "def demo(name, age):\r\n",
        "    print(name, age)\r\n",
        "\r\n",
        "demo(\"Ben\", 25)"
      ],
      "execution_count": 74,
      "outputs": [
        {
          "output_type": "stream",
          "text": [
            "Ben 25\n"
          ],
          "name": "stdout"
        }
      ]
    },
    {
      "cell_type": "code",
      "metadata": {
        "colab": {
          "base_uri": "https://localhost:8080/"
        },
        "id": "YIdHYnuKDltq",
        "outputId": "fba3b725-22b1-44af-a620-2a4fb4f95048"
      },
      "source": [
        "#Write a function func1() such that it can accept a variable length of  argument and print all arguments value\r\n",
        "\r\n",
        "def func1(*args):\r\n",
        "    for i in args:\r\n",
        "        print(i)\r\n",
        "\r\n",
        "func1(20, 40, 60)"
      ],
      "execution_count": 75,
      "outputs": [
        {
          "output_type": "stream",
          "text": [
            "20\n",
            "40\n",
            "60\n"
          ],
          "name": "stdout"
        }
      ]
    },
    {
      "cell_type": "code",
      "metadata": {
        "colab": {
          "base_uri": "https://localhost:8080/"
        },
        "id": "YsEHct9yD2YE",
        "outputId": "52f005e5-7f24-4b09-87eb-c9fa768e90ce"
      },
      "source": [
        "#Write a function calculation() such that it can accept two variables and calculate the addition and subtraction of it. And also it must return both addition and subtraction in a single return call\r\n",
        "def calculation(a, b):\r\n",
        "    return a+b, a-b\r\n",
        "\r\n",
        "res = calculation(40, 10)\r\n",
        "print(res)"
      ],
      "execution_count": 76,
      "outputs": [
        {
          "output_type": "stream",
          "text": [
            "(50, 30)\n"
          ],
          "name": "stdout"
        }
      ]
    },
    {
      "cell_type": "code",
      "metadata": {
        "colab": {
          "base_uri": "https://localhost:8080/"
        },
        "id": "Z0nil1X_EGC5",
        "outputId": "4690d748-447e-4d1f-a5fe-c7029cc33830"
      },
      "source": [
        "#Create a function showEmployee() in such a way that it should accept employee name, and it’s salary and display both, and if the salary is missing in function call it should show it as 9000\r\n",
        "def showEmployee(name, salary=9000):\r\n",
        "    print(\"Employee\", name, \"salary is:\", salary)\r\n",
        "\r\n",
        "showEmployee(\"Ben\", 9000)\r\n",
        "showEmployee(\"Ben\")"
      ],
      "execution_count": 77,
      "outputs": [
        {
          "output_type": "stream",
          "text": [
            "Employee Ben salary is: 9000\n",
            "Employee Ben salary is: 9000\n"
          ],
          "name": "stdout"
        }
      ]
    },
    {
      "cell_type": "code",
      "metadata": {
        "colab": {
          "base_uri": "https://localhost:8080/"
        },
        "id": "ZDkbWojyEecJ",
        "outputId": "fe3a0bd1-faff-4309-d5f4-ba161f235dca"
      },
      "source": [
        "#Split a given string on hyphens into several substrings and display each substring\r\n",
        "str1 = \"Emma-is-a-data-scientist\"\r\n",
        "print(\"Original String is:\", str1)\r\n",
        "substrings = str1.split(\"-\")\r\n",
        "print(\"Displaying each substring\")\r\n",
        "for sub in substrings:\r\n",
        "    print(sub)"
      ],
      "execution_count": 78,
      "outputs": [
        {
          "output_type": "stream",
          "text": [
            "Original String is: Emma-is-a-data-scientist\n",
            "Displaying each substring\n",
            "Emma\n",
            "is\n",
            "a\n",
            "data\n",
            "scientist\n"
          ],
          "name": "stdout"
        }
      ]
    },
    {
      "cell_type": "code",
      "metadata": {
        "colab": {
          "base_uri": "https://localhost:8080/"
        },
        "id": "ReR0EI7YE4sF",
        "outputId": "1c6ca09e-1903-433a-8541-bb993759b54a"
      },
      "source": [
        "#Unpack the following tuple into 4 variables\r\n",
        "aTuple = (10, 20, 30, 40)\r\n",
        "a,b,c,d = aTuple\r\n",
        "print(a) # should print 10\r\n",
        "print(b) # should print 20\r\n",
        "print(c) # should print 30\r\n",
        "print(d) # should print 40"
      ],
      "execution_count": 79,
      "outputs": [
        {
          "output_type": "stream",
          "text": [
            "10\n",
            "20\n",
            "30\n",
            "40\n"
          ],
          "name": "stdout"
        }
      ]
    },
    {
      "cell_type": "code",
      "metadata": {
        "colab": {
          "base_uri": "https://localhost:8080/"
        },
        "id": "l6xWWY_IFM5T",
        "outputId": "8d626cfb-98ef-4210-a012-78a9f7241e58"
      },
      "source": [
        "#Swap the following two tuples\r\n",
        "tuple1 = (11, 22)\r\n",
        "tuple2 = (99, 88)\r\n",
        "tuple1, tuple2 = tuple2, tuple1\r\n",
        "print(tuple2)\r\n",
        "print(tuple1)"
      ],
      "execution_count": 80,
      "outputs": [
        {
          "output_type": "stream",
          "text": [
            "(11, 22)\n",
            "(99, 88)\n"
          ],
          "name": "stdout"
        }
      ]
    },
    {
      "cell_type": "code",
      "metadata": {
        "colab": {
          "base_uri": "https://localhost:8080/"
        },
        "id": "GP99FBWTFyU8",
        "outputId": "21c11781-61b7-4fb0-cfdf-d283e630fc41"
      },
      "source": [
        "#Write a code to Sort a tuple of tuples by 2nd item\r\n",
        "tuple1 = (('a', 23),('b', 37),('c', 11), ('d',29))\r\n",
        "tuple1 = tuple(sorted(list(tuple1), key=lambda x: x[1]))\r\n",
        "print(tuple1)"
      ],
      "execution_count": 81,
      "outputs": [
        {
          "output_type": "stream",
          "text": [
            "(('c', 11), ('a', 23), ('d', 29), ('b', 37))\n"
          ],
          "name": "stdout"
        }
      ]
    },
    {
      "cell_type": "code",
      "metadata": {
        "colab": {
          "base_uri": "https://localhost:8080/"
        },
        "id": "irvodSDZG7GG",
        "outputId": "1f04e4bf-348b-48b7-8969-8ce8982d80c0"
      },
      "source": [
        "#Write a python function to Check if all items in the following tuple are the same\r\n",
        "def check(sampleTuple):\r\n",
        "    return all(i == sampleTuple[0] for i in sampleTuple)\r\n",
        "\r\n",
        "tuple1 = (45, 45, 45, 45)\r\n",
        "print(check(tuple1))"
      ],
      "execution_count": 82,
      "outputs": [
        {
          "output_type": "stream",
          "text": [
            "True\n"
          ],
          "name": "stdout"
        }
      ]
    },
    {
      "cell_type": "code",
      "metadata": {
        "colab": {
          "base_uri": "https://localhost:8080/"
        },
        "id": "EVCfxtqYHPvZ",
        "outputId": "113882fb-f1c1-4324-d869-a99b509d8666"
      },
      "source": [
        "# Write Python code for checking for uppercase characters \r\n",
        "string = 'GEEKSFORGEEKS'\r\n",
        "print(string.isupper()) \r\n",
        "  \r\n",
        "string = 'GeeksforGeeks'\r\n",
        "print(string.isupper()) "
      ],
      "execution_count": 83,
      "outputs": [
        {
          "output_type": "stream",
          "text": [
            "True\n",
            "False\n"
          ],
          "name": "stdout"
        }
      ]
    },
    {
      "cell_type": "code",
      "metadata": {
        "colab": {
          "base_uri": "https://localhost:8080/"
        },
        "id": "Tfis6LTiHgSx",
        "outputId": "f1618f80-7a8f-4bc3-a7fd-2f34850f4c90"
      },
      "source": [
        "#  Write Python code for checking for lowercase characters \r\n",
        "string = 'geeksforgeeks'\r\n",
        "print(string.islower()) \r\n",
        "  \r\n",
        "string = 'GeeksforGeeks'\r\n",
        "print(string.islower()) "
      ],
      "execution_count": 84,
      "outputs": [
        {
          "output_type": "stream",
          "text": [
            "True\n",
            "False\n"
          ],
          "name": "stdout"
        }
      ]
    },
    {
      "cell_type": "code",
      "metadata": {
        "colab": {
          "base_uri": "https://localhost:8080/"
        },
        "id": "w15H-NtEHuYF",
        "outputId": "807f2e9b-bcfb-47e1-cc65-2ee6e6a2aafd"
      },
      "source": [
        "# Python code for implementation of lower() \r\n",
        "  \r\n",
        "# Checking for lowercase characters \r\n",
        "string = 'GEEKSFORGEEKS'\r\n",
        "print(string.lower()) \r\n",
        "  \r\n",
        "string = 'GeeksforGeeks'\r\n",
        "print(string.lower()) "
      ],
      "execution_count": 85,
      "outputs": [
        {
          "output_type": "stream",
          "text": [
            "geeksforgeeks\n",
            "geeksforgeeks\n"
          ],
          "name": "stdout"
        }
      ]
    },
    {
      "cell_type": "code",
      "metadata": {
        "colab": {
          "base_uri": "https://localhost:8080/"
        },
        "id": "AF-Nl-rBIVHU",
        "outputId": "f776e1b3-5214-4449-d977-72c004b2a618"
      },
      "source": [
        "#Write the python code for printing timestamp \r\n",
        "import time \r\n",
        "  \r\n",
        "# ts stores the time in seconds \r\n",
        "ts = time.time() \r\n",
        "  \r\n",
        "# print the current timestamp \r\n",
        "print(ts) "
      ],
      "execution_count": 86,
      "outputs": [
        {
          "output_type": "stream",
          "text": [
            "1608249361.0206063\n"
          ],
          "name": "stdout"
        }
      ]
    },
    {
      "cell_type": "code",
      "metadata": {
        "colab": {
          "base_uri": "https://localhost:8080/"
        },
        "id": "NHM5jvVWIca-",
        "outputId": "f65205e1-9cd9-4097-c782-c35c7068954d"
      },
      "source": [
        "#Write a program to print the time in utc\r\n",
        "\r\n",
        "from datetime import timezone \r\n",
        "import datetime \r\n",
        "\r\n",
        "dt = datetime.datetime.now() \r\n",
        "  \r\n",
        "utc_time = dt.replace(tzinfo = timezone.utc) \r\n",
        "utc_timestamp = utc_time.timestamp() \r\n",
        "  \r\n",
        "print(utc_timestamp)"
      ],
      "execution_count": 88,
      "outputs": [
        {
          "output_type": "stream",
          "text": [
            "1608249459.509581\n"
          ],
          "name": "stdout"
        }
      ]
    },
    {
      "cell_type": "code",
      "metadata": {
        "id": "2At0qwotI05x"
      },
      "source": [
        ""
      ],
      "execution_count": null,
      "outputs": []
    }
  ]
}