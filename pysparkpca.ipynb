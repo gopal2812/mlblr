{
  "nbformat": 4,
  "nbformat_minor": 0,
  "metadata": {
    "colab": {
      "name": "Untitled46.ipynb",
      "provenance": [],
      "private_outputs": true,
      "authorship_tag": "ABX9TyN0gfy1j9qTRMGMEXMZq3oE",
      "include_colab_link": true
    },
    "kernelspec": {
      "name": "python3",
      "display_name": "Python 3"
    }
  },
  "cells": [
    {
      "cell_type": "markdown",
      "metadata": {
        "id": "view-in-github",
        "colab_type": "text"
      },
      "source": [
        "<a href=\"https://colab.research.google.com/github/gopal2812/mlblr/blob/master/pysparkpca.ipynb\" target=\"_parent\"><img src=\"https://colab.research.google.com/assets/colab-badge.svg\" alt=\"Open In Colab\"/></a>"
      ]
    },
    {
      "cell_type": "code",
      "metadata": {
        "id": "DS9pAwoU9RRb",
        "colab_type": "code",
        "colab": {}
      },
      "source": [
        "!apt-get install openjdk-8-jdk-headless -qq > /dev/null\n",
        "!wget  https://www-us.apache.org/dist/spark/spark-2.4.5/spark-2.4.5-bin-hadoop2.7.tgz\n",
        "!tar -xvf spark-2.4.5-bin-hadoop2.7.tgz\n",
        "!pip install -q findspark"
      ],
      "execution_count": null,
      "outputs": []
    },
    {
      "cell_type": "code",
      "metadata": {
        "id": "NvL9KWmb97xX",
        "colab_type": "code",
        "colab": {}
      },
      "source": [
        "import os\n",
        "os.environ[\"JAVA_HOME\"] = \"/usr/lib/jvm/java-8-openjdk-amd64\"\n",
        "os.environ[\"SPARK_HOME\"] = \"/content/spark-2.4.5-bin-hadoop2.7\"\n",
        "import findspark\n",
        "findspark.init()\n",
        "from pyspark.sql import SparkSession\n",
        "\n",
        "try:\n",
        "    from pyspark import SparkContext, SparkConf\n",
        "    from pyspark.sql import SparkSession\n",
        "except ImportError as e:\n",
        "    printmd('<<<<<!!!!! Please restart your kernel after installing Apache Spark !!!!!>>>>>')\n",
        "\n",
        "sc = SparkContext.getOrCreate(SparkConf().setMaster(\"local[*]\"))\n",
        "\n",
        "spark = SparkSession \\\n",
        "    .builder \\\n",
        "    .getOrCreate()\n",
        "\n"
      ],
      "execution_count": null,
      "outputs": []
    },
    {
      "cell_type": "markdown",
      "metadata": {
        "id": "6HhG_4Hs-o5x",
        "colab_type": "text"
      },
      "source": [
        "Welcome to the last exercise of this course. This is also the most advanced one because it somehow glues everything together you've learned.\n",
        "\n",
        "These are the steps you will do:\n",
        "\n",
        "load a data frame from cloudant/ApacheCouchDB\n",
        "perform feature transformation by calculating minimal and maximal values of different properties on time windows (we'll explain what a time windows is later in here)\n",
        "reduce these now twelve dimensions to three using the PCA (Principal Component Analysis) algorithm of SparkML (Spark Machine Learning) => We'll actually make use of SparkML a lot more in the next course\n",
        "plot the dimensionality reduced data set"
      ]
    },
    {
      "cell_type": "code",
      "metadata": {
        "id": "Yh-Yok7G-qdl",
        "colab_type": "code",
        "colab": {}
      },
      "source": [
        "!wget https://github.com/IBM/coursera/blob/master/coursera_ds/washing.parquet?raw=true\n",
        "!mv washing.parquet?raw=true washing.parquet\n",
        "\n",
        "df = spark.read.parquet('washing.parquet')\n",
        "df.createOrReplaceTempView('washing')\n",
        "df.show()"
      ],
      "execution_count": null,
      "outputs": []
    },
    {
      "cell_type": "markdown",
      "metadata": {
        "id": "LFIZWP8s_GC9",
        "colab_type": "text"
      },
      "source": [
        "This is the feature transformation part of this exercise. Since our table is mixing schemas from different sensor data sources we are creating new features. In other word we use existing columns to calculate new ones. We only use min and max for now, but using more advanced aggregations as we've learned in week three may improve the results. We are calculating those aggregations over a sliding window \"w\". This window is defined in the SQL statement and basically reads the table by a one by one stride in direction of increasing timestamp. Whenever a row leaves the window a new one is included. Therefore this window is called sliding window (in contrast to tubling, time or count windows). More on this can be found here: https://flink.apache.org/news/2015/12/04/Introducing-windows.html"
      ]
    },
    {
      "cell_type": "code",
      "metadata": {
        "id": "ONhW4tyz_PGU",
        "colab_type": "code",
        "colab": {}
      },
      "source": [
        "result = spark.sql(\"\"\"\n",
        "select * from (\n",
        "  SELECT \n",
        "  min(temperature) over w as min_temperature,\n",
        "  max(temperature) over w as max_temperature,\n",
        "  min(voltage) over w as min_voltage,\n",
        "  max(voltage) over w as max_voltage,\n",
        "  min(flowrate) over w as min_flowrate,\n",
        "  max(flowrate) over w as max_flowrate,\n",
        "  min(frequency) over w as min_frequency,\n",
        "  max(frequency) over w as max_frequency,\n",
        "  min(hardness) over w as min_hardness,\n",
        "  max(hardness) over w as max_hardness,\n",
        "  min(speed) over w as min_speed,\n",
        "  max(speed) over w as max_speed\n",
        "  from Washing\n",
        "  WINDOW w AS (ORDER BY ts ROWS BETWEEN CURRENT ROW AND 10 FOLLOWING)\n",
        ")\n",
        "WHERE min_temperature is not null \n",
        "AND max_temperature is not null\n",
        "AND min_voltage is not null\n",
        "AND max_voltage is not null\n",
        "AND min_flowrate is not null\n",
        "AND max_flowrate is not null\n",
        "AND min_frequency is not null\n",
        "AND max_frequency is not null\n",
        "AND min_hardness is not null\n",
        "AND min_speed is not null\n",
        "AND max_speed is not null\n",
        "\"\"\")"
      ],
      "execution_count": null,
      "outputs": []
    },
    {
      "cell_type": "markdown",
      "metadata": {
        "id": "mz8rXOs4CNlC",
        "colab_type": "text"
      },
      "source": [
        "Since this table contains null values also our window might contain them. In case for a certain feature all values in that window are null we obtain also null. As we can see here (in my dataset) this is the case for 9 rows."
      ]
    },
    {
      "cell_type": "code",
      "metadata": {
        "id": "LOBJSFKW-3qf",
        "colab_type": "code",
        "colab": {}
      },
      "source": [
        "df.count()-result.count()\n",
        "result.show(15)"
      ],
      "execution_count": null,
      "outputs": []
    },
    {
      "cell_type": "markdown",
      "metadata": {
        "id": "B-8EKqqxCXwB",
        "colab_type": "text"
      },
      "source": [
        "Now we import some classes from SparkML. PCA for the actual algorithm. Vectors for the data structure expected by PCA and VectorAssembler to transform data into these vector structures."
      ]
    },
    {
      "cell_type": "code",
      "metadata": {
        "id": "saqB-H3SCcXT",
        "colab_type": "code",
        "colab": {}
      },
      "source": [
        "from pyspark.ml.feature import PCA\n",
        "from pyspark.ml.linalg import Vectors\n",
        "from pyspark.ml.feature import VectorAssembler"
      ],
      "execution_count": null,
      "outputs": []
    },
    {
      "cell_type": "markdown",
      "metadata": {
        "id": "VOwWYqqACpRt",
        "colab_type": "text"
      },
      "source": [
        "Let's define a vector transformation helper class which takes all our input features (result.columns) and created one additional column called \"features\" which contains all our input features as one single column wrapped in \"DenseVector\" objects"
      ]
    },
    {
      "cell_type": "code",
      "metadata": {
        "id": "C64_k9kgCiD9",
        "colab_type": "code",
        "colab": {}
      },
      "source": [
        "assembler = VectorAssembler(inputCols=result.columns, outputCol=\"features\")"
      ],
      "execution_count": null,
      "outputs": []
    },
    {
      "cell_type": "markdown",
      "metadata": {
        "id": "B-HCNji3EKQS",
        "colab_type": "text"
      },
      "source": [
        "Now we actually transform the data, note that this is highly optimized code and runs really fast in contrast if we had implemented it."
      ]
    },
    {
      "cell_type": "code",
      "metadata": {
        "id": "RRnxp-3u-grH",
        "colab_type": "code",
        "colab": {}
      },
      "source": [
        "features = assembler.transform(result)"
      ],
      "execution_count": null,
      "outputs": []
    },
    {
      "cell_type": "code",
      "metadata": {
        "id": "lkl_9qakUVJN",
        "colab_type": "code",
        "colab": {}
      },
      "source": [
        "#Let's have a look at how this new additional column \"features\" looks like:\n",
        "features.rdd.map(lambda r : r.features).take(10)"
      ],
      "execution_count": null,
      "outputs": []
    },
    {
      "cell_type": "code",
      "metadata": {
        "id": "yxGzQz0sU1fF",
        "colab_type": "code",
        "colab": {}
      },
      "source": [
        "pca = PCA(k=3, inputCol=\"features\", outputCol=\"pcaFeatures\")\n",
        "model = pca.fit(features)"
      ],
      "execution_count": null,
      "outputs": []
    },
    {
      "cell_type": "code",
      "metadata": {
        "id": "2iaACo1UVC_a",
        "colab_type": "code",
        "colab": {}
      },
      "source": [
        "result_pca = model.transform(features).select('pcaFeatures')\n",
        "result_pca.show(truncate=False)"
      ],
      "execution_count": null,
      "outputs": []
    },
    {
      "cell_type": "code",
      "metadata": {
        "id": "teWVi08SVXrs",
        "colab_type": "code",
        "colab": {}
      },
      "source": [
        "result_pca.count()"
      ],
      "execution_count": null,
      "outputs": []
    },
    {
      "cell_type": "code",
      "metadata": {
        "id": "U9iyZCyKVlmO",
        "colab_type": "code",
        "colab": {}
      },
      "source": [
        "rdd= result_pca.rdd.sample(False,0.8)\n",
        "x = rdd.map(lambda a : a.pcaFeatures).map(lambda a: a[0]).collect()\n",
        "y = rdd.map(lambda a: a.pcaFeatures).map(lambda a: a[1]).collect()\n",
        "z = rdd.map(lambda a: a.pcaFeatures).map(lambda a: a[2]).collect()"
      ],
      "execution_count": null,
      "outputs": []
    },
    {
      "cell_type": "code",
      "metadata": {
        "id": "wGldz72TXvOY",
        "colab_type": "code",
        "colab": {}
      },
      "source": [
        "%matplotlib inline\n",
        "import matplotlib.pyplot as plt\n",
        "from mpl_toolkits.mplot3d import Axes3D\n",
        "\n",
        "\n",
        "fig = plt.figure()\n",
        "ax = fig.add_subplot(111, projection='3d')\n",
        "\n",
        "\n",
        "\n",
        "\n",
        "ax.scatter(x,y,z, c='r', marker='o')\n",
        "\n",
        "ax.set_xlabel('dimension1')\n",
        "ax.set_ylabel('dimension2')\n",
        "ax.set_zlabel('dimension3')\n",
        "\n",
        "plt.show()"
      ],
      "execution_count": null,
      "outputs": []
    },
    {
      "cell_type": "markdown",
      "metadata": {
        "id": "8v6Gj51DX7w0",
        "colab_type": "text"
      },
      "source": [
        "We can see two clusters in the data set. We can also see a third cluster which either can be outliers or a real cluster. In the next course we will actually learn how to compute clusters automatically. For now we know that the data indicates that there are two semi-stable states of the machine and sometime we see some anomalies since those data points don't fit into one of the two clusters."
      ]
    }
  ]
}