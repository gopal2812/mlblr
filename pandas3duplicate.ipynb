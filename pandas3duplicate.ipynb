{
  "nbformat": 4,
  "nbformat_minor": 0,
  "metadata": {
    "anaconda-cloud": {},
    "kernelspec": {
      "display_name": "Python 3",
      "language": "python",
      "name": "python3"
    },
    "language_info": {
      "codemirror_mode": {
        "name": "ipython",
        "version": 3
      },
      "file_extension": ".py",
      "mimetype": "text/x-python",
      "name": "python",
      "nbconvert_exporter": "python",
      "pygments_lexer": "ipython3",
      "version": "3.7.3"
    },
    "colab": {
      "name": "02_03_end.ipynb",
      "provenance": [],
      "include_colab_link": true
    }
  },
  "cells": [
    {
      "cell_type": "markdown",
      "metadata": {
        "id": "view-in-github",
        "colab_type": "text"
      },
      "source": [
        "<a href=\"https://colab.research.google.com/github/gopal2812/mlblr/blob/master/pandas3duplicate.ipynb\" target=\"_parent\"><img src=\"https://colab.research.google.com/assets/colab-badge.svg\" alt=\"Open In Colab\"/></a>"
      ]
    },
    {
      "cell_type": "markdown",
      "metadata": {
        "id": "APeWagJNY0Xr",
        "colab_type": "text"
      },
      "source": [
        "# Chapter 2 - Data Preparation Basics\n",
        "## Segment 3 - Removing duplicates\n",
        "\n",
        " [Instructor] It's really important to remove duplicates from your dataset in order to preserve the dataset's accuracy and to avoid producing incorrect and misleading statistics. For example, imagine you're analyzing retail sales data and shopaholic Sally came in three times and used three different credit cards to make purchases. Now imagine that she provided the cashier the same zip code. 32803 for each sale. Just based on the card number, Sally looks like three different customers all from the same zip code. If you fail to examine other attributes of the customer so that you could identify and remove duplicates, shopaholic Sally's transactions would skew the results of a customer demographic analysis because Sally would be counted as three people rather than one. To market to 32803 customers effectively, you need to understand their characteristics. Don't let duplicate records skew your analysis. I've already imported numpy and pandas, so let's start off by just creating a data frame object. We're going to call it DF_obj, as usual, and then we're going to call the data frame constructor and we're going to create three columns here, so I'm going to create a dictionary, and for the first column, I'm going to name it column one. So column one is going to contain the numbers one, one, two, two, three, three, and three, okay? And then we're going to create a second column here, and we're going to call that column two. We want column two to contain values a, a, b, b, and then the last three will be c, c, and c, okay? And we'll have one more column. That's going to be column three, of course, and then in column three, we're going to have the same exact letters as column two, but they're going to be capitalized, so we'll have an A, an A, B, B, and then three Cs, okay? Now we need to close the dictionary and then close the function and print this out. Okay, so one thing before printing this, I see we have a stray parentheses here, so just clean that up and then run it. Okay, cool. So here, we have a data frame object and we're going to use this just to drop duplicates. To do that, we're going to use the .duplicated method. What this method does is it searches each row in the data frame and returns a true or false value to indicate whether it's a duplicate of another row found earlier in the data frame. So let's just test this out real quick. We'll say DF_obj, and then we'll say .duplicated, and we'll run this and take a look. We can see that we have a false value that was returned in index position zero, and that makes sense 'cause there were no rows that came before it, but let's look at a row that returned a value of true. For example, row six. If we look at row four, we can see that row six is a duplicate of it. Here's row four and here's row six. Row four returned a value of false. In other words, it's not a duplicate. That's because row four was the first row to contain that exact combination of values. Any subsequent rows that have the same combination of values will be counted as duplicates and return a true value. Now that we found the duplicate records, let's look at how we can drop them. To do that, we're going to use the drop duplicates method, so we'll just say DF_obj.drop_duplicates. Then run this. So by looking at this output here, you can see that the row at index position one has been dropped, and that makes sense because it's a duplicate of the row at index position zero. Also, row three was dropped and that also makes sense because it's a duplicate of the row at index position two. All of our duplicate rows have been dropped from our data frame. I also want to show you how to drop records based on column values. In order to do that, I want to make a small change to our data frame. So what I'm going to do is I'm going to go back up and copy the code we used to create the data frame. Now I'm just going to change this letter here from a C to a D. This is just for the purpose of our demonstration. Let me go ahead and print this out. Now let's drop the rows that have duplicates in only one column series. To do that, we'll call the drop duplicates method off of the data frame and pass in the label index of the column that we want to de-duplify based on. So in this case, let's drop duplicates from column three. To do that, we're going to say DF_obj and then say drop duplicates and we are going to pass in the label index named column three and run this. And just as we predicted, it dropped the rows that had the series index values one, three, and six. Now we have no duplicates in column three. Now that I have shown you how to drop the duplicates from your data, I just want to highlight the point that it's really important to check your data for duplicates and remove them if you find them. Now it's time to move on to data concatenation and transformation."
      ]
    },
    {
      "cell_type": "code",
      "metadata": {
        "id": "V53XrIQsY0Xw",
        "colab_type": "code",
        "colab": {}
      },
      "source": [
        "import numpy as np\n",
        "import pandas as pd\n",
        "\n",
        "from pandas import Series, DataFrame"
      ],
      "execution_count": 0,
      "outputs": []
    },
    {
      "cell_type": "markdown",
      "metadata": {
        "id": "-P-CbqK6Y0X3",
        "colab_type": "text"
      },
      "source": [
        "### Removing duplicates"
      ]
    },
    {
      "cell_type": "code",
      "metadata": {
        "id": "vYWIcrvoY0X5",
        "colab_type": "code",
        "colab": {},
        "outputId": "98dfa7d2-c3c8-483f-840b-c7a3b6f6e7c4"
      },
      "source": [
        "DF_obj= DataFrame({'column 1':[1,1,2,2,3,3,3],\n",
        "                   'column 2':['a', 'a','b', 'b', 'c', 'c', 'c'],\n",
        "                   'column 3':['A', 'A', 'B', 'B', 'C', 'C', 'C']})\n",
        "DF_obj"
      ],
      "execution_count": 0,
      "outputs": [
        {
          "output_type": "execute_result",
          "data": {
            "text/html": [
              "<div>\n",
              "<style scoped>\n",
              "    .dataframe tbody tr th:only-of-type {\n",
              "        vertical-align: middle;\n",
              "    }\n",
              "\n",
              "    .dataframe tbody tr th {\n",
              "        vertical-align: top;\n",
              "    }\n",
              "\n",
              "    .dataframe thead th {\n",
              "        text-align: right;\n",
              "    }\n",
              "</style>\n",
              "<table border=\"1\" class=\"dataframe\">\n",
              "  <thead>\n",
              "    <tr style=\"text-align: right;\">\n",
              "      <th></th>\n",
              "      <th>column 1</th>\n",
              "      <th>column 2</th>\n",
              "      <th>column 3</th>\n",
              "    </tr>\n",
              "  </thead>\n",
              "  <tbody>\n",
              "    <tr>\n",
              "      <th>0</th>\n",
              "      <td>1</td>\n",
              "      <td>a</td>\n",
              "      <td>A</td>\n",
              "    </tr>\n",
              "    <tr>\n",
              "      <th>1</th>\n",
              "      <td>1</td>\n",
              "      <td>a</td>\n",
              "      <td>A</td>\n",
              "    </tr>\n",
              "    <tr>\n",
              "      <th>2</th>\n",
              "      <td>2</td>\n",
              "      <td>b</td>\n",
              "      <td>B</td>\n",
              "    </tr>\n",
              "    <tr>\n",
              "      <th>3</th>\n",
              "      <td>2</td>\n",
              "      <td>b</td>\n",
              "      <td>B</td>\n",
              "    </tr>\n",
              "    <tr>\n",
              "      <th>4</th>\n",
              "      <td>3</td>\n",
              "      <td>c</td>\n",
              "      <td>C</td>\n",
              "    </tr>\n",
              "    <tr>\n",
              "      <th>5</th>\n",
              "      <td>3</td>\n",
              "      <td>c</td>\n",
              "      <td>C</td>\n",
              "    </tr>\n",
              "    <tr>\n",
              "      <th>6</th>\n",
              "      <td>3</td>\n",
              "      <td>c</td>\n",
              "      <td>C</td>\n",
              "    </tr>\n",
              "  </tbody>\n",
              "</table>\n",
              "</div>"
            ],
            "text/plain": [
              "   column 1 column 2 column 3\n",
              "0         1        a        A\n",
              "1         1        a        A\n",
              "2         2        b        B\n",
              "3         2        b        B\n",
              "4         3        c        C\n",
              "5         3        c        C\n",
              "6         3        c        C"
            ]
          },
          "metadata": {
            "tags": []
          },
          "execution_count": 2
        }
      ]
    },
    {
      "cell_type": "code",
      "metadata": {
        "id": "GigygK6VY0YA",
        "colab_type": "code",
        "colab": {},
        "outputId": "358703c6-da8d-4f13-82ab-be7fe46b1b7a"
      },
      "source": [
        "DF_obj.duplicated()"
      ],
      "execution_count": 0,
      "outputs": [
        {
          "output_type": "execute_result",
          "data": {
            "text/plain": [
              "0    False\n",
              "1     True\n",
              "2    False\n",
              "3     True\n",
              "4    False\n",
              "5     True\n",
              "6     True\n",
              "dtype: bool"
            ]
          },
          "metadata": {
            "tags": []
          },
          "execution_count": 3
        }
      ]
    },
    {
      "cell_type": "code",
      "metadata": {
        "id": "hs188kC5Y0YF",
        "colab_type": "code",
        "colab": {},
        "outputId": "ae573e7c-34b4-446d-f293-94a092f7fdc9"
      },
      "source": [
        "DF_obj.drop_duplicates()"
      ],
      "execution_count": 0,
      "outputs": [
        {
          "output_type": "execute_result",
          "data": {
            "text/html": [
              "<div>\n",
              "<style scoped>\n",
              "    .dataframe tbody tr th:only-of-type {\n",
              "        vertical-align: middle;\n",
              "    }\n",
              "\n",
              "    .dataframe tbody tr th {\n",
              "        vertical-align: top;\n",
              "    }\n",
              "\n",
              "    .dataframe thead th {\n",
              "        text-align: right;\n",
              "    }\n",
              "</style>\n",
              "<table border=\"1\" class=\"dataframe\">\n",
              "  <thead>\n",
              "    <tr style=\"text-align: right;\">\n",
              "      <th></th>\n",
              "      <th>column 1</th>\n",
              "      <th>column 2</th>\n",
              "      <th>column 3</th>\n",
              "    </tr>\n",
              "  </thead>\n",
              "  <tbody>\n",
              "    <tr>\n",
              "      <th>0</th>\n",
              "      <td>1</td>\n",
              "      <td>a</td>\n",
              "      <td>A</td>\n",
              "    </tr>\n",
              "    <tr>\n",
              "      <th>2</th>\n",
              "      <td>2</td>\n",
              "      <td>b</td>\n",
              "      <td>B</td>\n",
              "    </tr>\n",
              "    <tr>\n",
              "      <th>4</th>\n",
              "      <td>3</td>\n",
              "      <td>c</td>\n",
              "      <td>C</td>\n",
              "    </tr>\n",
              "  </tbody>\n",
              "</table>\n",
              "</div>"
            ],
            "text/plain": [
              "   column 1 column 2 column 3\n",
              "0         1        a        A\n",
              "2         2        b        B\n",
              "4         3        c        C"
            ]
          },
          "metadata": {
            "tags": []
          },
          "execution_count": 4
        }
      ]
    },
    {
      "cell_type": "code",
      "metadata": {
        "id": "fmF6YJdPY0YL",
        "colab_type": "code",
        "colab": {},
        "outputId": "79e3e704-33b8-4612-bcb9-935db5a08a7e"
      },
      "source": [
        "DF_obj= DataFrame({'column 1':[1,1,2,2,3,3,3],\n",
        "                   'column 2':['a', 'a','b', 'b', 'c', 'c', 'c'],\n",
        "                   'column 3':['A', 'A', 'B', 'B', 'C', 'D', 'C']})\n",
        "DF_obj"
      ],
      "execution_count": 0,
      "outputs": [
        {
          "output_type": "execute_result",
          "data": {
            "text/html": [
              "<div>\n",
              "<style scoped>\n",
              "    .dataframe tbody tr th:only-of-type {\n",
              "        vertical-align: middle;\n",
              "    }\n",
              "\n",
              "    .dataframe tbody tr th {\n",
              "        vertical-align: top;\n",
              "    }\n",
              "\n",
              "    .dataframe thead th {\n",
              "        text-align: right;\n",
              "    }\n",
              "</style>\n",
              "<table border=\"1\" class=\"dataframe\">\n",
              "  <thead>\n",
              "    <tr style=\"text-align: right;\">\n",
              "      <th></th>\n",
              "      <th>column 1</th>\n",
              "      <th>column 2</th>\n",
              "      <th>column 3</th>\n",
              "    </tr>\n",
              "  </thead>\n",
              "  <tbody>\n",
              "    <tr>\n",
              "      <th>0</th>\n",
              "      <td>1</td>\n",
              "      <td>a</td>\n",
              "      <td>A</td>\n",
              "    </tr>\n",
              "    <tr>\n",
              "      <th>1</th>\n",
              "      <td>1</td>\n",
              "      <td>a</td>\n",
              "      <td>A</td>\n",
              "    </tr>\n",
              "    <tr>\n",
              "      <th>2</th>\n",
              "      <td>2</td>\n",
              "      <td>b</td>\n",
              "      <td>B</td>\n",
              "    </tr>\n",
              "    <tr>\n",
              "      <th>3</th>\n",
              "      <td>2</td>\n",
              "      <td>b</td>\n",
              "      <td>B</td>\n",
              "    </tr>\n",
              "    <tr>\n",
              "      <th>4</th>\n",
              "      <td>3</td>\n",
              "      <td>c</td>\n",
              "      <td>C</td>\n",
              "    </tr>\n",
              "    <tr>\n",
              "      <th>5</th>\n",
              "      <td>3</td>\n",
              "      <td>c</td>\n",
              "      <td>D</td>\n",
              "    </tr>\n",
              "    <tr>\n",
              "      <th>6</th>\n",
              "      <td>3</td>\n",
              "      <td>c</td>\n",
              "      <td>C</td>\n",
              "    </tr>\n",
              "  </tbody>\n",
              "</table>\n",
              "</div>"
            ],
            "text/plain": [
              "   column 1 column 2 column 3\n",
              "0         1        a        A\n",
              "1         1        a        A\n",
              "2         2        b        B\n",
              "3         2        b        B\n",
              "4         3        c        C\n",
              "5         3        c        D\n",
              "6         3        c        C"
            ]
          },
          "metadata": {
            "tags": []
          },
          "execution_count": 5
        }
      ]
    },
    {
      "cell_type": "markdown",
      "metadata": {
        "id": "JWjBDqDXY0YQ",
        "colab_type": "text"
      },
      "source": [
        "\n"
      ]
    },
    {
      "cell_type": "code",
      "metadata": {
        "id": "7Icc5ABiY0YS",
        "colab_type": "code",
        "colab": {},
        "outputId": "0b3cbf3a-34af-47f9-a718-f050225a7d4d"
      },
      "source": [
        "DF_obj.drop_duplicates(['column 3'])"
      ],
      "execution_count": 0,
      "outputs": [
        {
          "output_type": "execute_result",
          "data": {
            "text/html": [
              "<div>\n",
              "<style scoped>\n",
              "    .dataframe tbody tr th:only-of-type {\n",
              "        vertical-align: middle;\n",
              "    }\n",
              "\n",
              "    .dataframe tbody tr th {\n",
              "        vertical-align: top;\n",
              "    }\n",
              "\n",
              "    .dataframe thead th {\n",
              "        text-align: right;\n",
              "    }\n",
              "</style>\n",
              "<table border=\"1\" class=\"dataframe\">\n",
              "  <thead>\n",
              "    <tr style=\"text-align: right;\">\n",
              "      <th></th>\n",
              "      <th>column 1</th>\n",
              "      <th>column 2</th>\n",
              "      <th>column 3</th>\n",
              "    </tr>\n",
              "  </thead>\n",
              "  <tbody>\n",
              "    <tr>\n",
              "      <th>0</th>\n",
              "      <td>1</td>\n",
              "      <td>a</td>\n",
              "      <td>A</td>\n",
              "    </tr>\n",
              "    <tr>\n",
              "      <th>2</th>\n",
              "      <td>2</td>\n",
              "      <td>b</td>\n",
              "      <td>B</td>\n",
              "    </tr>\n",
              "    <tr>\n",
              "      <th>4</th>\n",
              "      <td>3</td>\n",
              "      <td>c</td>\n",
              "      <td>C</td>\n",
              "    </tr>\n",
              "    <tr>\n",
              "      <th>5</th>\n",
              "      <td>3</td>\n",
              "      <td>c</td>\n",
              "      <td>D</td>\n",
              "    </tr>\n",
              "  </tbody>\n",
              "</table>\n",
              "</div>"
            ],
            "text/plain": [
              "   column 1 column 2 column 3\n",
              "0         1        a        A\n",
              "2         2        b        B\n",
              "4         3        c        C\n",
              "5         3        c        D"
            ]
          },
          "metadata": {
            "tags": []
          },
          "execution_count": 6
        }
      ]
    }
  ]
}