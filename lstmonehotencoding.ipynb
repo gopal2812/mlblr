{
  "nbformat": 4,
  "nbformat_minor": 0,
  "metadata": {
    "colab": {
      "name": "Untitled23.ipynb",
      "version": "0.3.2",
      "provenance": [],
      "collapsed_sections": [],
      "include_colab_link": true
    },
    "kernelspec": {
      "name": "python3",
      "display_name": "Python 3"
    },
    "accelerator": "TPU"
  },
  "cells": [
    {
      "cell_type": "markdown",
      "metadata": {
        "id": "view-in-github",
        "colab_type": "text"
      },
      "source": [
        "<a href=\"https://colab.research.google.com/github/gopal2812/mlblr/blob/master/lstmonehotencoding.ipynb\" target=\"_parent\"><img src=\"https://colab.research.google.com/assets/colab-badge.svg\" alt=\"Open In Colab\"/></a>"
      ]
    },
    {
      "cell_type": "code",
      "metadata": {
        "id": "gb8t2x9PXqaf",
        "colab_type": "code",
        "colab": {}
      },
      "source": [
        "import datetime\n",
        "import os\n",
        "import pandas as pd\n",
        "import numpy as np\n",
        "#import pylab as plt\n",
        "#from pylab import rcParams\n",
        "import math\n",
        "#import matplotlib as plt\n",
        "import pylab as plt\n",
        "from keras.models import Sequential\n",
        "from keras.layers import Dense\n",
        "from keras.layers import LSTM\n",
        "from sklearn.preprocessing import MinMaxScaler\n",
        "from sklearn.metrics import mean_squared_error\n",
        "from sklearn.metrics import mean_absolute_error\n",
        "from numpy import concatenate\n",
        "from pylab import rcParams\n",
        "from keras.utils.np_utils import to_categorical\n",
        "from sklearn.model_selection import train_test_split\n",
        "from keras.layers import TimeDistributed\n"
      ],
      "execution_count": 0,
      "outputs": []
    },
    {
      "cell_type": "code",
      "metadata": {
        "id": "DnFcb23_XyLa",
        "colab_type": "code",
        "colab": {
          "resources": {
            "http://localhost:8080/nbextensions/google.colab/files.js": {
              "data": "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",
              "ok": true,
              "headers": [
                [
                  "content-type",
                  "application/javascript"
                ]
              ],
              "status": 200,
              "status_text": ""
            }
          },
          "base_uri": "https://localhost:8080/",
          "height": 75
        },
        "outputId": "d6d1cae2-079b-4170-e97e-55d15ddbaa9b"
      },
      "source": [
        "from google.colab import files\n",
        "uploaded = files.upload()"
      ],
      "execution_count": 7,
      "outputs": [
        {
          "output_type": "display_data",
          "data": {
            "text/html": [
              "\n",
              "     <input type=\"file\" id=\"files-804806e2-d261-44ef-bfca-22255017a610\" name=\"files[]\" multiple disabled />\n",
              "     <output id=\"result-804806e2-d261-44ef-bfca-22255017a610\">\n",
              "      Upload widget is only available when the cell has been executed in the\n",
              "      current browser session. Please rerun this cell to enable.\n",
              "      </output>\n",
              "      <script src=\"/nbextensions/google.colab/files.js\"></script> "
            ],
            "text/plain": [
              "<IPython.core.display.HTML object>"
            ]
          },
          "metadata": {
            "tags": []
          }
        },
        {
          "output_type": "stream",
          "text": [
            "Saving client.csv to client (1).csv\n"
          ],
          "name": "stdout"
        }
      ]
    },
    {
      "cell_type": "code",
      "metadata": {
        "id": "r3TP9atRY_Xz",
        "colab_type": "code",
        "colab": {
          "base_uri": "https://localhost:8080/",
          "height": 208
        },
        "outputId": "c77d4fc4-0252-4371-9a87-233b55a5ee61"
      },
      "source": [
        "#data = pd.read_csv('data.csv', usecols=['ts', 'rtd'])\n",
        "data2 = pd.read_csv('client.csv', usecols=['Date', 'AP_Num'])\n",
        "#testData = pd.read_csv('test_data.csv', usecols=['ts', 'rtd']) \n",
        "testData2 = pd.read_csv('client.csv', usecols=['Date', 'AP_Num']) \n",
        "print(data2.head(10))"
      ],
      "execution_count": 4,
      "outputs": [
        {
          "output_type": "stream",
          "text": [
            "           Date  AP_Num\n",
            "0  3/3/19 14:00       1\n",
            "1  3/3/19 14:01       1\n",
            "2  3/3/19 14:02       4\n",
            "3  3/3/19 14:03       4\n",
            "4  3/3/19 14:04       4\n",
            "5  3/3/19 14:05       7\n",
            "6  3/3/19 14:06       7\n",
            "7  3/3/19 14:07      10\n",
            "8  3/3/19 14:08      13\n",
            "9  3/3/19 14:09      13\n"
          ],
          "name": "stdout"
        }
      ]
    },
    {
      "cell_type": "code",
      "metadata": {
        "id": "jjL0yJTiY_Uf",
        "colab_type": "code",
        "colab": {
          "base_uri": "https://localhost:8080/",
          "height": 1000
        },
        "outputId": "212217a0-1724-490d-8a62-1ca14e3e9050"
      },
      "source": [
        "#ap_num = data2.AP_Num.values\n",
        "ap_num = to_categorical(data2.AP_Num.values, num_classes=16)\n",
        "\n",
        "#data2 = data2.assign(date = pd.to_datetime(data2['Date'], unit='s'))\n",
        "\n",
        "def split_sequence(sequence, n_steps_in, n_steps_out):\n",
        "    X, y = list(), list()\n",
        "    for i in range(len(sequence)):\n",
        "        i = i * 5\n",
        "        #s find the end of this pattern\n",
        "        end_ix = i + n_steps_in\n",
        "        out_end_ix = end_ix + n_steps_out\n",
        "        # check if we are beyond the sequence\n",
        "        if out_end_ix > len(sequence):\n",
        "            break\n",
        "        # gather input and output parts of the pattern\n",
        "        seq_x, seq_y = sequence[i:end_ix], sequence[end_ix:out_end_ix]\n",
        "        X.append(seq_x)\n",
        "        y.append(seq_y)\n",
        "    return np.array(X), np.array(y)\n",
        "  \n",
        "look_back=5\n",
        "look_forward=5\n",
        "n_features=16\n",
        "\n",
        "trainX, trainY = split_sequence(ap_num, look_back, look_forward)\n",
        "\n",
        "\n",
        "\n",
        "#trainX = trainX.reshape((trainX.shape[0], trainX.shape[1], n_features))\n",
        "model = Sequential()\n",
        "model.add(LSTM(100, activation='relu', return_sequences=True, input_shape=(look_back, n_features)))\n",
        "#model.add(LSTM(100, activation='relu'))\n",
        "model.add(TimeDistributed(Dense(n_features, activation='softmax')))\n",
        "model.compile(loss='categorical_crossentropy', optimizer='adam', metrics=['acc'])\n",
        "\n",
        "model.fit(trainX, trainY, epochs=100, verbose=2)\n",
        "model.summary()\n",
        "\n",
        "test_ap = to_categorical(testData2.AP_Num.values, num_classes=16)\n",
        "test_ap_scaled = test_ap\n",
        "\n",
        "testX, testY = split_sequence(test_ap_scaled, look_back, look_forward)\n",
        "#testX = testX.reshape((testX.shape[0], testX.shape[1], n_features))\n",
        "\n",
        "  "
      ],
      "execution_count": 25,
      "outputs": [
        {
          "output_type": "stream",
          "text": [
            "Epoch 1/100\n",
            " - 2s - loss: 2.1494 - acc: 0.8178\n",
            "Epoch 2/100\n",
            " - 1s - loss: 0.8537 - acc: 0.9476\n",
            "Epoch 3/100\n",
            " - 1s - loss: 0.6009 - acc: 0.9586\n",
            "Epoch 4/100\n",
            " - 1s - loss: 0.4797 - acc: 0.9545\n",
            "Epoch 5/100\n",
            " - 1s - loss: 0.4026 - acc: 0.9611\n",
            "Epoch 6/100\n",
            " - 1s - loss: 0.3491 - acc: 0.9635\n",
            "Epoch 7/100\n",
            " - 0s - loss: 0.3074 - acc: 0.9646\n",
            "Epoch 8/100\n",
            " - 1s - loss: 0.2755 - acc: 0.9652\n",
            "Epoch 9/100\n",
            " - 1s - loss: 0.2456 - acc: 0.9653\n",
            "Epoch 10/100\n",
            " - 1s - loss: 0.2057 - acc: 0.9645\n",
            "Epoch 11/100\n",
            " - 1s - loss: 0.1915 - acc: 0.9683\n",
            "Epoch 12/100\n",
            " - 1s - loss: 0.1832 - acc: 0.9682\n",
            "Epoch 13/100\n",
            " - 1s - loss: 0.1821 - acc: 0.9685\n",
            "Epoch 14/100\n",
            " - 1s - loss: 0.1732 - acc: 0.9693\n",
            "Epoch 15/100\n",
            " - 1s - loss: 0.1673 - acc: 0.9691\n",
            "Epoch 16/100\n",
            " - 0s - loss: 0.1625 - acc: 0.9706\n",
            "Epoch 17/100\n",
            " - 1s - loss: 0.1581 - acc: 0.9712\n",
            "Epoch 18/100\n",
            " - 1s - loss: 0.1556 - acc: 0.9710\n",
            "Epoch 19/100\n",
            " - 0s - loss: 0.1524 - acc: 0.9714\n",
            "Epoch 20/100\n",
            " - 1s - loss: 0.1506 - acc: 0.9716\n",
            "Epoch 21/100\n",
            " - 1s - loss: 0.1498 - acc: 0.9715\n",
            "Epoch 22/100\n",
            " - 1s - loss: 0.1442 - acc: 0.9718\n",
            "Epoch 23/100\n",
            " - 1s - loss: 0.1434 - acc: 0.9726\n",
            "Epoch 24/100\n",
            " - 1s - loss: 0.1410 - acc: 0.9729\n",
            "Epoch 25/100\n",
            " - 1s - loss: 0.1407 - acc: 0.9729\n",
            "Epoch 26/100\n",
            " - 1s - loss: 0.1379 - acc: 0.9737\n",
            "Epoch 27/100\n",
            " - 1s - loss: 0.1371 - acc: 0.9739\n",
            "Epoch 28/100\n",
            " - 1s - loss: 0.1356 - acc: 0.9741\n",
            "Epoch 29/100\n",
            " - 1s - loss: 0.1342 - acc: 0.9742\n",
            "Epoch 30/100\n",
            " - 1s - loss: 0.1330 - acc: 0.9738\n",
            "Epoch 31/100\n",
            " - 1s - loss: 0.1324 - acc: 0.9743\n",
            "Epoch 32/100\n",
            " - 1s - loss: 0.1312 - acc: 0.9739\n",
            "Epoch 33/100\n",
            " - 1s - loss: 0.1291 - acc: 0.9743\n",
            "Epoch 34/100\n",
            " - 0s - loss: 0.1279 - acc: 0.9747\n",
            "Epoch 35/100\n",
            " - 0s - loss: 0.1274 - acc: 0.9751\n",
            "Epoch 36/100\n",
            " - 0s - loss: 0.1278 - acc: 0.9747\n",
            "Epoch 37/100\n",
            " - 0s - loss: 0.1252 - acc: 0.9753\n",
            "Epoch 38/100\n",
            " - 0s - loss: 0.1243 - acc: 0.9755\n",
            "Epoch 39/100\n",
            " - 1s - loss: 0.1251 - acc: 0.9750\n",
            "Epoch 40/100\n",
            " - 1s - loss: 0.1235 - acc: 0.9759\n",
            "Epoch 41/100\n",
            " - 0s - loss: 0.1223 - acc: 0.9759\n",
            "Epoch 42/100\n",
            " - 1s - loss: 0.1220 - acc: 0.9765\n",
            "Epoch 43/100\n",
            " - 1s - loss: 0.1215 - acc: 0.9765\n",
            "Epoch 44/100\n",
            " - 0s - loss: 0.1202 - acc: 0.9768\n",
            "Epoch 45/100\n",
            " - 1s - loss: 0.1208 - acc: 0.9771\n",
            "Epoch 46/100\n",
            " - 1s - loss: 0.1205 - acc: 0.9772\n",
            "Epoch 47/100\n",
            " - 1s - loss: 0.1199 - acc: 0.9767\n",
            "Epoch 48/100\n",
            " - 1s - loss: 0.1178 - acc: 0.9769\n",
            "Epoch 49/100\n",
            " - 1s - loss: 0.1181 - acc: 0.9774\n",
            "Epoch 50/100\n",
            " - 0s - loss: 0.1187 - acc: 0.9780\n",
            "Epoch 51/100\n",
            " - 0s - loss: 0.1174 - acc: 0.9781\n",
            "Epoch 52/100\n",
            " - 1s - loss: 0.1164 - acc: 0.9775\n",
            "Epoch 53/100\n",
            " - 1s - loss: 0.1162 - acc: 0.9779\n",
            "Epoch 54/100\n",
            " - 1s - loss: 0.1157 - acc: 0.9779\n",
            "Epoch 55/100\n",
            " - 1s - loss: 0.1156 - acc: 0.9779\n",
            "Epoch 56/100\n",
            " - 1s - loss: 0.1148 - acc: 0.9778\n",
            "Epoch 57/100\n",
            " - 1s - loss: 0.1154 - acc: 0.9783\n",
            "Epoch 58/100\n",
            " - 0s - loss: 0.1146 - acc: 0.9778\n",
            "Epoch 59/100\n",
            " - 1s - loss: 0.1140 - acc: 0.9784\n",
            "Epoch 60/100\n",
            " - 1s - loss: 0.1142 - acc: 0.9781\n",
            "Epoch 61/100\n",
            " - 1s - loss: 0.1136 - acc: 0.9779\n",
            "Epoch 62/100\n",
            " - 1s - loss: 0.1137 - acc: 0.9780\n",
            "Epoch 63/100\n",
            " - 1s - loss: 0.1129 - acc: 0.9781\n",
            "Epoch 64/100\n",
            " - 1s - loss: 0.1129 - acc: 0.9780\n",
            "Epoch 65/100\n",
            " - 1s - loss: 0.1140 - acc: 0.9780\n",
            "Epoch 66/100\n",
            " - 1s - loss: 0.1128 - acc: 0.9784\n",
            "Epoch 67/100\n",
            " - 1s - loss: 0.1133 - acc: 0.9778\n",
            "Epoch 68/100\n",
            " - 1s - loss: 0.1116 - acc: 0.9783\n",
            "Epoch 69/100\n",
            " - 0s - loss: 0.1122 - acc: 0.9783\n",
            "Epoch 70/100\n",
            " - 0s - loss: 0.1113 - acc: 0.9784\n",
            "Epoch 71/100\n",
            " - 0s - loss: 0.1133 - acc: 0.9777\n",
            "Epoch 72/100\n",
            " - 1s - loss: 0.1113 - acc: 0.9778\n",
            "Epoch 73/100\n",
            " - 0s - loss: 0.1115 - acc: 0.9784\n",
            "Epoch 74/100\n",
            " - 0s - loss: 0.1115 - acc: 0.9781\n",
            "Epoch 75/100\n",
            " - 0s - loss: 0.1114 - acc: 0.9783\n",
            "Epoch 76/100\n",
            " - 1s - loss: 0.1104 - acc: 0.9782\n",
            "Epoch 77/100\n",
            " - 1s - loss: 0.1104 - acc: 0.9784\n",
            "Epoch 78/100\n",
            " - 1s - loss: 0.1106 - acc: 0.9783\n",
            "Epoch 79/100\n",
            " - 1s - loss: 0.1109 - acc: 0.9779\n",
            "Epoch 80/100\n",
            " - 1s - loss: 0.1097 - acc: 0.9784\n",
            "Epoch 81/100\n",
            " - 1s - loss: 0.1093 - acc: 0.9786\n",
            "Epoch 82/100\n",
            " - 1s - loss: 0.1097 - acc: 0.9782\n",
            "Epoch 83/100\n",
            " - 1s - loss: 0.1096 - acc: 0.9784\n",
            "Epoch 84/100\n",
            " - 1s - loss: 0.1087 - acc: 0.9787\n",
            "Epoch 85/100\n",
            " - 0s - loss: 0.1087 - acc: 0.9785\n",
            "Epoch 86/100\n",
            " - 1s - loss: 0.1112 - acc: 0.9782\n",
            "Epoch 87/100\n",
            " - 1s - loss: 0.1087 - acc: 0.9785\n",
            "Epoch 88/100\n",
            " - 1s - loss: 0.1088 - acc: 0.9786\n",
            "Epoch 89/100\n",
            " - 1s - loss: 0.1092 - acc: 0.9786\n",
            "Epoch 90/100\n",
            " - 0s - loss: 0.1080 - acc: 0.9788\n",
            "Epoch 91/100\n",
            " - 1s - loss: 0.1090 - acc: 0.9786\n",
            "Epoch 92/100\n",
            " - 1s - loss: 0.1088 - acc: 0.9784\n",
            "Epoch 93/100\n",
            " - 0s - loss: 0.1081 - acc: 0.9788\n",
            "Epoch 94/100\n",
            " - 0s - loss: 0.1075 - acc: 0.9789\n",
            "Epoch 95/100\n",
            " - 1s - loss: 0.1097 - acc: 0.9790\n",
            "Epoch 96/100\n",
            " - 1s - loss: 0.1101 - acc: 0.9788\n",
            "Epoch 97/100\n",
            " - 1s - loss: 0.1075 - acc: 0.9784\n",
            "Epoch 98/100\n",
            " - 1s - loss: 0.1088 - acc: 0.9784\n",
            "Epoch 99/100\n",
            " - 0s - loss: 0.1077 - acc: 0.9784\n",
            "Epoch 100/100\n",
            " - 1s - loss: 0.1070 - acc: 0.9780\n",
            "_________________________________________________________________\n",
            "Layer (type)                 Output Shape              Param #   \n",
            "=================================================================\n",
            "lstm_9 (LSTM)                (None, 5, 100)            46800     \n",
            "_________________________________________________________________\n",
            "time_distributed_6 (TimeDist (None, 5, 16)             1616      \n",
            "=================================================================\n",
            "Total params: 48,416\n",
            "Trainable params: 48,416\n",
            "Non-trainable params: 0\n",
            "_________________________________________________________________\n"
          ],
          "name": "stdout"
        }
      ]
    },
    {
      "cell_type": "code",
      "metadata": {
        "id": "7rXAuWdXlSE_",
        "colab_type": "code",
        "colab": {
          "base_uri": "https://localhost:8080/",
          "height": 52
        },
        "outputId": "8889d66f-bd65-469c-aac4-eb1bc351a9bd"
      },
      "source": [
        "pred_train = model.predict(trainX)\n",
        "#pred_train = scaler.inverse_transform(pred_train)\n",
        "pred_train = pred_train.flatten()\n",
        "\n",
        "#trainY = scaler.inverse_transform(trainY) \n",
        "trainY = trainY.flatten()\n",
        "\n",
        "pred_test = model.predict(testX)\n",
        "#pred_test = scaler.inverse_transform(pred_test)\n",
        "pred_test = pred_test.flatten()\n",
        "\n",
        "#testY = scaler.inverse_transform(testY)\n",
        "testY = testY.flatten()\n",
        "\n",
        "test_rmse = math.sqrt(mean_squared_error(testY, pred_test))\n",
        "test_mae = mean_absolute_error(testY, pred_test)\n",
        "  \n",
        "print('test_rmse: %.2f' %test_rmse)\n",
        "print('test_mae: %.2f' %test_mae)\n"
      ],
      "execution_count": 26,
      "outputs": [
        {
          "output_type": "stream",
          "text": [
            "test_rmse: 0.05\n",
            "test_mae: 0.00\n"
          ],
          "name": "stdout"
        }
      ]
    },
    {
      "cell_type": "code",
      "metadata": {
        "id": "wgcoC0KZoQDH",
        "colab_type": "code",
        "colab": {
          "base_uri": "https://localhost:8080/",
          "height": 269
        },
        "outputId": "e6872274-c203-46b3-dff4-c358b8f90d5d"
      },
      "source": [
        "x = [datetime.datetime.fromtimestamp(1555961400) + datetime.timedelta(seconds=i) for i in range(86400)]\n",
        "x1 = [i.time() for i in x]\n",
        "x2=list()\n",
        "for i in range(1,86400):\n",
        "    if i%10==0:\n",
        "        x2.append(x1[i])\n",
        "    \n",
        "\n",
        "t = 100\n",
        "t1 = 300\n",
        "\n",
        "t = 2500\n",
        "t1 = 3500\n",
        "\n",
        "plt.ylim(0, 20), #plt.xlim(0, 2*t), \n",
        "plt.plot(x[t:t1], trainY[t:t1], '-b', label='train'),\n",
        "plt.plot(x[t:t1], pred_train[t:t1], '-r', label = 'pred_train')\n",
        "plt.legend(loc='upper right')\n",
        "plt.show()\n"
      ],
      "execution_count": 27,
      "outputs": [
        {
          "output_type": "display_data",
          "data": {
            "image/png": "[encoded data removed]",
            "text/plain": [
              "<Figure size 432x288 with 1 Axes>"
            ]
          },
          "metadata": {
            "tags": []
          }
        }
      ]
    },
    {
      "cell_type": "code",
      "metadata": {
        "id": "xT_c2ODUoXnq",
        "colab_type": "code",
        "colab": {
          "base_uri": "https://localhost:8080/",
          "height": 283
        },
        "outputId": "fd0bec64-309f-43a5-ed17-f9d17d1c2b52"
      },
      "source": [
        "t = 1\n",
        "t1 = 4000\n",
        "\n",
        "plt.ylim(0, 15), #plt.xlim(0, 2*t), \n",
        "plt.plot(x2[t:t1], testY[t:t1], '-b', label='test'),\n",
        "plt.plot(x2[t:t1], pred_test[t:t1], '-r', label = 'pred_test')\n",
        "plt.legend(loc='upper right')\n",
        "plt.xlabel('time')\n",
        "plt.ylabel('RTD (seconds)')\n",
        "plt.show()\n",
        "\n"
      ],
      "execution_count": 21,
      "outputs": [
        {
          "output_type": "display_data",
          "data": {
            "image/png": "[encoded data removed]",
            "text/plain": [
              "<Figure size 432x288 with 1 Axes>"
            ]
          },
          "metadata": {
            "tags": []
          }
        }
      ]
    },
    {
      "cell_type": "code",
      "metadata": {
        "id": "2bTrZ1PrqmSf",
        "colab_type": "code",
        "cellView": "both",
        "outputId": "8ee82742-ea15-4843-e0e7-d6d67385dd76",
        "colab": {
          "base_uri": "https://localhost:8080/",
          "height": 283
        }
      },
      "source": [
        "#@title\n",
        "t = 3000\n",
        "t1 = 3760\n",
        "t2 = 3790\n",
        "plt.ylim(0, 15), #plt.xlim(0, 2*t), \n",
        "plt.plot(x2[t:t1], testY[t:t1], '-b', label='test'),\n",
        "plt.plot(x2[t:t2], pred_test[t:t2], '-r', label = 'pred_test')\n",
        "plt.legend(loc='upper right')\n",
        "plt.xlabel('time')\n",
        "plt.ylabel('RTD (seconds)')\n",
        "plt.show()\n"
      ],
      "execution_count": 22,
      "outputs": [
        {
          "output_type": "display_data",
          "data": {
            "image/png": "[encoded data removed]",
            "text/plain": [
              "<Figure size 432x288 with 1 Axes>"
            ]
          },
          "metadata": {
            "tags": []
          }
        }
      ]
    },
    {
      "cell_type": "code",
      "metadata": {
        "id": "o7MuMWeoYeOW",
        "colab_type": "code",
        "colab": {}
      },
      "source": [
        "!ls"
      ],
      "execution_count": 0,
      "outputs": []
    }
  ]
}