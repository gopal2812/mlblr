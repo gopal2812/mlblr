{
  "nbformat": 4,
  "nbformat_minor": 0,
  "metadata": {
    "colab": {
      "name": "Untitled18.ipynb",
      "version": "0.3.2",
      "provenance": [],
      "collapsed_sections": [],
      "include_colab_link": true
    },
    "kernelspec": {
      "name": "python3",
      "display_name": "Python 3"
    }
  },
  "cells": [
    {
      "cell_type": "markdown",
      "metadata": {
        "id": "view-in-github",
        "colab_type": "text"
      },
      "source": [
        "<a href=\"https://colab.research.google.com/github/gopal2812/mlblr/blob/master/dynamicprogramming.ipynb\" target=\"_parent\"><img src=\"https://colab.research.google.com/assets/colab-badge.svg\" alt=\"Open In Colab\"/></a>"
      ]
    },
    {
      "metadata": {
        "id": "f7scv5dKE7Mm",
        "colab_type": "text"
      },
      "cell_type": "markdown",
      "source": [
        "**Count the number of score combinations**\n",
        "In an American football game, a play can lead to 2 points (safety), 3 points (field goal), or 7 points (touchdown, assuming the extra point). Many different combinations of 2, 3, and 7 point plays can make up a final score. For example, four combinations of plays yield a score of 12:\n",
        "\n",
        "6 safeties;\n",
        "3 safeties, 2 field goals;\n",
        "1 safety, 1 field goal, and 1 touchdown;\n",
        "4 field goals.\n",
        "Write a program that takes a final score and scores for individual plays, and returns the number of combinations of plays that result in the final score.\n",
        "\n",
        "**Solution**\n",
        "We can memoize the number of combinations that lead to certain scores, iterating through the memo to arrive at the desired final score and, as a result, the final combination count.\n",
        "\n",
        "Say we have possible play scores 2 and 3, and we’d like the number of possible plays that could lead to a score of 9. We can represent our memo as a two-dimensional array, where one axis is the score and the other represents the set of plays that can comprise the score, the first index representing, in this case, the set {2} and the second, the set {2,3}.\n",
        "\n",
        "We note that, for a given score S and a given set of plays P = {P', p}, number of combinations leading to score S N(S, P) equals (informally):\n",
        "\n",
        "N(S-p, P') + N(S-2p, P') + ... + N(0, P')\n",
        "\n",
        "We say that N(x, y) = 0 for x<0 and any y.\n",
        "\n",
        "0\t1\t2\t3\t4\t5\t6\t7\t8\t9\n",
        "{2}\t1\t0\t1\t0\t1\t0\t1\t0\t1\t0\n",
        "{2,3}\t1\t0\t1\t1\t1\t1\t2\t1\t2\t2\n",
        "A solution that uses this memoization strategy will be O(S \\times |P|), where S is the score and P is the set of play scores. Likewise for space.\n",
        "\n",
        "This solution will work only in cases where different order doesn't contribute new solution.\n",
        "Repetition are allowed."
      ]
    },
    {
      "metadata": {
        "id": "jMdacFtBG2M0",
        "colab_type": "text"
      },
      "cell_type": "markdown",
      "source": [
        ""
      ]
    },
    {
      "metadata": {
        "id": "bz1nIPBEFrj8",
        "colab_type": "code",
        "colab": {}
      },
      "cell_type": "code",
      "source": [
        "def nun_combinations_for_finaI_score(final_score, individual_play_scores):\n",
        "    num_combinations_for_score = [[1] + [0]*final_score\n",
        "                                  for i in individual_play_scores]\n",
        "\n",
        "    for i in range(len(individual_play_scores)):\n",
        "        for j in range(1, final_score + 1):\n",
        "            without_this_play = (num_combinations_for_score[i -1][j]\n",
        "                                 if i >= 1 else 0 )\n",
        "            with_this_play = (\n",
        "                              num_combinations_for_score[i][j - individual_play_scores [i]]\n",
        "                              if j >= individual_play_scores[i] else 0)\n",
        "            num_combinations_for_score[i] [j] = (without_this_play + with_this_play)\n",
        "    return num_combinations_for_score\n",
        "\n",
        "def print_sum(individual_p1ay_scores_x , i, sum, p,num_combinations_for_score):\n",
        "    if (i < 0):\n",
        "       return\n",
        "\n",
        "    if (sum == 0):\n",
        "       print('cond2', p)\n",
        "       return\n",
        "\n",
        "    if (num_combinations_for_score[i][sum]):\n",
        "        b = []\n",
        "        print(p, i)\n",
        "        for j in range(len(p)):\n",
        "           b.append(p[j])\n",
        "        print_sum(individual_p1ay_scores_x, i-1, sum, b,num_combinations_for_score)\n",
        "\n",
        "    if ((sum >= individual_p1ay_scores_x[i]) and (num_combinations_for_score[i][sum])):\n",
        "         #print('appending',individual_p1ay_scores_x[i], p)\n",
        "         p.append(individual_p1ay_scores_x[i])\n",
        "         #print(p)\n",
        "         print_sum(individual_p1ay_scores_x, i, sum-individual_p1ay_scores_x[i], p,num_combinations_for_score)\n",
        "\n",
        "final_score_x = 12\n",
        "p = []\n",
        "individual_p1ay_scores_x = [2,3,7]\n",
        "num_combinations_for_score=nun_combinations_for_finaI_score(final_score_x, individual_p1ay_scores_x)\n",
        "#print(individual_p1ay_scores_x)\n",
        "#print(len(individual_p1ay_scores_x))\n",
        "#print(p)\n",
        "#print(num_combinations_for_score)\n",
        "print_sum(individual_p1ay_scores_x, len(individual_p1ay_scores_x) -1 , final_score_x, p, num_combinations_for_score)"
      ],
      "execution_count": 0,
      "outputs": []
    },
    {
      "metadata": {
        "id": "RUBEa1jrHMWz",
        "colab_type": "text"
      },
      "cell_type": "markdown",
      "source": [
        "// Printing the combinations is similar to\n",
        "// https://www.geeksforgeeks.org/perfect-sum-problem-print-subsets-given-sum/\n",
        "// with one sbtle differece. In the problem above we don't print the repeating\n",
        "// element while in our case we do.\n",
        "// Here we have used  2D array. There is another solution with 1D array as\n",
        "// following\n",
        "// https://www.geeksforgeeks.org/count-number-ways-reach-given-score-game/"
      ]
    },
    {
      "metadata": {
        "id": "EsB072enHPHI",
        "colab_type": "text"
      },
      "cell_type": "markdown",
      "source": [
        "The above problem can also be apply for 0-1 knapsack. Code is a follows. Below code is for 0/1 without repetition."
      ]
    },
    {
      "metadata": {
        "id": "D7nSvUgQHdlj",
        "colab_type": "code",
        "colab": {}
      },
      "cell_type": "code",
      "source": [
        "# A Dynamic Programming based Python Program for 0-1 Knapsack problem \n",
        "# Returns the maximum value that can be put in a knapsack of capacity W \n",
        "def knapSack(W, wt, val, n): \n",
        "    K = [[0 for x in range(W+1)] for x in range(n+1)] \n",
        "  \n",
        "    # Build table K[][] in bottom up manner \n",
        "    for i in range(n+1): \n",
        "        for w in range(W+1): \n",
        "            if i==0 or w==0: \n",
        "                K[i][w] = 0\n",
        "            elif wt[i-1] <= w: \n",
        "                K[i][w] = max(val[i-1] + K[i-1][w-wt[i-1]],  K[i-1][w]) \n",
        "            else: \n",
        "                K[i][w] = K[i-1][w] \n",
        "  \n",
        "    return K[n][W] \n",
        "  \n",
        "# Driver program to test above function \n",
        "val = [60, 100, 120] \n",
        "wt = [10, 20, 30] \n",
        "W = 50\n",
        "n = len(val) \n",
        "print(knapSack(W, wt, val, n)) "
      ],
      "execution_count": 0,
      "outputs": []
    },
    {
      "metadata": {
        "id": "YsceCwgHJNds",
        "colab_type": "text"
      },
      "cell_type": "markdown",
      "source": [
        "This problem is for knapsack solution with recursion. The only difference is consider the dp[i]\n",
        "too. soln is as follows:\n",
        "https://www.geeksforgeeks.org/unbounded-knapsack-repetition-items-allowed/"
      ]
    },
    {
      "metadata": {
        "id": "mY0P_GqEJyQl",
        "colab_type": "code",
        "colab": {}
      },
      "cell_type": "code",
      "source": [
        "find maximum \n",
        "# achievable value with a knapsack \n",
        "# of weight W and multiple instances allowed. \n",
        "  \n",
        "# Returns the maximum value  \n",
        "# with knapsack of W capacity \n",
        "def unboundedKnapsack(W, n, val, wt): \n",
        "  \n",
        "    # dp[i] is going to store maximum  \n",
        "    # value with knapsack capacity i. \n",
        "    dp = [0 for i in range(W + 1)] \n",
        "  \n",
        "    ans = 0\n",
        "  \n",
        "    # Fill dp[] using above recursive formula \n",
        "    for i in range(W + 1): \n",
        "        for j in range(n): \n",
        "            if (wt[j] <= i): \n",
        "                dp[i] = max(dp[i], dp[i - wt[j]] + val[j]) \n",
        "  \n",
        "    return dp[W] \n",
        "  \n",
        "# Driver program \n",
        "W = 100\n",
        "val = [10, 30, 20] \n",
        "wt = [5, 10, 15] \n",
        "n = len(val) \n",
        "  \n",
        "print(unboundedKnapsack(W, n, val, wt)) "
      ],
      "execution_count": 0,
      "outputs": []
    },
    {
      "metadata": {
        "id": "yAcOBqG2H2iq",
        "colab_type": "text"
      },
      "cell_type": "markdown",
      "source": [
        "below program is for the counting the the no of ways to get to a sum to given number.\n",
        "This can be seen as generalization of fibbonoci series.\n",
        "\n",
        "This can be seen as the row wise computation.\n",
        "\n",
        "             |0| 1| 2| 3| 4|\n",
        "|1 |        | 1 | 1| 1  | 1| 1|\n",
        "\n",
        "|1,2|       | 1|1|2|3|5|\n",
        "\n",
        "|1,2,3|   | 1|1|2|4\n",
        "\n",
        "---\n",
        "\n"
      ]
    },
    {
      "metadata": {
        "id": "wzkbT93BNXQo",
        "colab_type": "code",
        "colab": {}
      },
      "cell_type": "code",
      "source": [
        "from google.colab import files\n",
        "from IPython.display import Image\n",
        "uploaded = files.upload()\n",
        "Image(\"jump.png\", width=600)"
      ],
      "execution_count": 0,
      "outputs": []
    },
    {
      "metadata": {
        "id": "K9EjHq76J0bH",
        "colab_type": "code",
        "colab": {}
      },
      "cell_type": "code",
      "source": [
        "def countWaysUtil(n,m):\n",
        "    res = [0 for x in range(n+1)] # Creates list res witth all elements 0\n",
        "    res[0],res[1] = 1,1\n",
        "\n",
        "    for i in range(2,n+1):\n",
        "        j = 1\n",
        "        while j<=m and j<=i:\n",
        "            res[i] = res[i] + res[i-j]\n",
        "            j = j + 1\n",
        "    return res\n",
        "\n",
        "def printpath(s,m,p):\n",
        "#    print(s,m,p)\n",
        "    if s<0:\n",
        "       return\n",
        "\n",
        "    if s==0:\n",
        "       print(p)\n",
        "       return\n",
        "\n",
        "    j = 1\n",
        "    while j<=m:\n",
        "       p.append(j)\n",
        "       printpath(s -j, m, p)\n",
        "       p.remove(j)\n",
        "       j+=1\n",
        "\n",
        "s,m = 3,3\n",
        "p = []\n",
        "res=countWaysUtil(s,m)\n",
        "print(res)\n",
        "printpath(s,m,p)"
      ],
      "execution_count": 0,
      "outputs": []
    },
    {
      "metadata": {
        "id": "AjLnfv_rQOgg",
        "colab_type": "text"
      },
      "cell_type": "markdown",
      "source": [
        "Our memoization strategy is as follows. We use a matrix T of the same shape as the input matrix M to track the number of ways to traverse to that point in the input. Matrix T is populated according to function T(i,j), which we define as follows:\n",
        "\n",
        "T(i,j) = T(i-1,j) + T(i, j-1)\n",
        "T(i, j) = 0 ∀ j ∈ ℜ, i < 0\n",
        "T(i, j) = 0 ∀ j < 0, i ∈ ℜ\n",
        "Our solution then becomes as follows:\n",
        "\n",
        "def num_traversals(M):\n",
        "    t = [[0 for _ in M[0]] for _ in M]\n",
        "    def T(t, i,j):\n",
        "        if i == -1 or j == -1:\n",
        "            return 0\n",
        "        if i == 0 and j == 0:\n",
        "            return 1\n",
        "        return t[i-1][j] + t[i][j-1]\n",
        "    for i in range(0, len(M)):\n",
        "        for j in range(0, len(M[i])):\n",
        "            t[i][j] = T(t, i, j)\n",
        "    return t[len(M)-1][len(M[0])-1]\n",
        "all([\n",
        "    num_traversals([[0,0,0,0,0] for _ in xrange(5)]) == 70,\n",
        "])\n",
        "This implementation is linear for both time and space with respect to the number of elements in the input matrix.\n"
      ]
    },
    {
      "metadata": {
        "id": "dDJMnqKpQc30",
        "colab_type": "code",
        "colab": {}
      },
      "cell_type": "code",
      "source": [
        "def levenshtein_distance (A, B):\n",
        "    def compute_distance_between_prefixes (A_idx , B_idx):\n",
        "        if A_idx < 0:\n",
        "        # A is enpty so add a77 of B's characters.\n",
        "            return B_idx + 1\n",
        "        elif B_idx < 0:\n",
        "        # B is enpty so delete a77 of l's characters.\n",
        "            return A_idx + 1\n",
        "\n",
        "        if distance_between_prefixes[A_idx] [B_idx] == -1:\n",
        "            if A[A_idx] == B[B_idx]:\n",
        "                distance_between_prefixes[A_idx] [B_idx] = (\n",
        "                    compute_distance_between_prefixes(A_idx - 1, B_idx - 1))\n",
        "            else:\n",
        "                substitute_last = compute_distance_between_prefixes (\n",
        "                    A_idx - 1, B_idx - 1)\n",
        "                add_last = compute_distance_between_prefixes(A_idx - 1, B_idx)\n",
        "                delete_last = compute_distance_between_prefixes (\n",
        "                    A_idx, B_idx - 1)\n",
        "                distance_between_prefixes[A_idx] [B_idx] = (\n",
        "                    1 + min(substitute_last, add_last, delete_last))\n",
        "        return distance_between_prefixes[A_idx][B_idx]\n",
        "\n",
        "\n",
        "    distance_between_prefixes = [[-1] *len(B) for _ in A]\n",
        "    return compute_distance_between_prefixes(len(A) - 1, len(B) - 1)\n",
        "\n",
        "print(levenshtein_distance(\"\",\"sew\"))"
      ],
      "execution_count": 0,
      "outputs": []
    },
    {
      "metadata": {
        "id": "XpNs7ig6QnZP",
        "colab_type": "text"
      },
      "cell_type": "markdown",
      "source": [
        "Variant of this problem 17.2\n",
        "Varianh Given a stringA, compute the minimum number of characters you need to delete from A to make the resulting string a palindrome."
      ]
    },
    {
      "metadata": {
        "id": "lWK0ibfiQ_B1",
        "colab_type": "code",
        "colab": {}
      },
      "cell_type": "code",
      "source": [
        "\n",
        "Image(\"polindrome.jpg\", width=600)"
      ],
      "execution_count": 0,
      "outputs": []
    },
    {
      "metadata": {
        "id": "uTYk9xlqS2c4",
        "colab_type": "code",
        "colab": {}
      },
      "cell_type": "code",
      "source": [
        "def lcs(X , Y): \n",
        "    # find the length of the strings \n",
        "    m = len(X) \n",
        "    n = len(Y) \n",
        "  \n",
        "    # declaring the array for storing the dp values \n",
        "    L = [[None]*(n+1) for i in xrange(m+1)] \n",
        "  \n",
        "    \"\"\"Following steps build L[m+1][n+1] in bottom up fashion \n",
        "    Note: L[i][j] contains length of LCS of X[0..i-1] \n",
        "    and Y[0..j-1]\"\"\"\n",
        "    for i in range(m+1): \n",
        "        for j in range(n+1): \n",
        "            if i == 0 or j == 0 : \n",
        "                L[i][j] = 0\n",
        "            elif X[i-1] == Y[j-1]: \n",
        "                L[i][j] = L[i-1][j-1]+1\n",
        "            else: \n",
        "                L[i][j] = max(L[i-1][j] , L[i][j-1]) \n",
        "  \n",
        "    # L[m][n] contains the length of LCS of X[0..n-1] & Y[0..m-1] \n",
        "    return L[m][n] \n",
        "#end of function lcs "
      ],
      "execution_count": 0,
      "outputs": []
    },
    {
      "metadata": {
        "id": "P33DxrqyS5lN",
        "colab_type": "code",
        "colab": {}
      },
      "cell_type": "code",
      "source": [
        "Image(\"lcs.jpg\", width=600)"
      ],
      "execution_count": 0,
      "outputs": []
    }
  ]
}