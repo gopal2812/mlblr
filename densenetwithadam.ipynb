{
  "nbformat": 4,
  "nbformat_minor": 0,
  "metadata": {
    "colab": {
      "name": "Untitled1.ipynb",
      "version": "0.3.2",
      "provenance": [],
      "collapsed_sections": []
    },
    "kernelspec": {
      "name": "python3",
      "display_name": "Python 3"
    },
    "accelerator": "GPU"
  },
  "cells": [
    {
      "cell_type": "markdown",
      "metadata": {
        "id": "view-in-github",
        "colab_type": "text"
      },
      "source": [
        "[View in Colaboratory](https://colab.research.google.com/github/gopal2812/mlblr/blob/master/densenetwithadam.ipynb)"
      ]
    },
    {
      "metadata": {
        "id": "Afy7OvON8MmW",
        "colab_type": "code",
        "colab": {
          "base_uri": "https://localhost:8080/",
          "height": 7955
        },
        "outputId": "0e6e1296-b815-4660-b3c4-d36eac0a1f89"
      },
      "cell_type": "code",
      "source": [
        "!pip install -q keras\n",
        "import keras\n",
        "\n",
        "from keras.datasets import cifar10\n",
        "from keras.models import Model, Sequential\n",
        "from keras.layers import Dense, Dropout, Flatten, Input, AveragePooling2D, merge, Activation\n",
        "from keras.layers import Conv2D, MaxPooling2D, BatchNormalization\n",
        "from keras.layers import Concatenate\n",
        "from keras.optimizers import Adam\n",
        "from keras import regularizers\n",
        "from keras.preprocessing.image import ImageDataGenerator\n",
        "import matplotlib.pyplot as plt\n",
        "from keras.regularizers import l2\n",
        "\n",
        "# this part will prevent tensorflow to allocate all the avaliable GPU Memory\n",
        "# backend\n",
        "import tensorflow as tf\n",
        "from keras import backend as k\n",
        "\n",
        "# Don't pre-allocate memory; allocate as-needed\n",
        "config = tf.ConfigProto()\n",
        "config.gpu_options.allow_growth = True\n",
        "\n",
        "# Create a session with the above options specified.\n",
        "k.tensorflow_backend.set_session(tf.Session(config=config))\n",
        "\n",
        "batch_size = 128\n",
        "num_classes = 10\n",
        "epochs = 50\n",
        "l = 24\n",
        "num_filter = 64\n",
        "compression = 0.5\n",
        "dropout_rate = 0.2\n",
        "\n",
        "(x_train, y_train), (x_test, y_test) = cifar10.load_data()\n",
        "img_height, img_width, channel = x_train.shape[1],x_train.shape[2],x_train.shape[3]\n",
        "\n",
        "# convert to one hot encoing \n",
        "y_train = keras.utils.to_categorical(y_train, num_classes)\n",
        "y_test = keras.utils.to_categorical(y_test, num_classes)\n",
        "\n",
        "# Dense Block\n",
        "def add_denseblock(input, num_filter = 12, dropout_rate = 0.2):\n",
        "    global compression\n",
        "    temp = input\n",
        "    for _ in range(l):\n",
        "        BatchNorm = BatchNormalization()(temp)\n",
        "        relu = Activation('relu')(BatchNorm)\n",
        "        Conv2D_3_3 = Conv2D(int(num_filter*compression), (3,3), use_bias=False ,padding='same')(relu)\n",
        "        if dropout_rate>0:\n",
        "          Conv2D_3_3 = Dropout(dropout_rate)(Conv2D_3_3)\n",
        "        concat = Concatenate(axis=-1)([temp,Conv2D_3_3])\n",
        "        \n",
        "        temp = concat\n",
        "        \n",
        "    return temp\n",
        "  \n",
        "def add_transition(input, num_filter = 12, dropout_rate = 0.2):\n",
        "    global compression\n",
        "    BatchNorm = BatchNormalization()(input)\n",
        "    relu = Activation('relu')(BatchNorm)\n",
        "    Conv2D_BottleNeck = Conv2D(int(num_filter*compression), (1,1), use_bias=False ,padding='same')(relu)\n",
        "    if dropout_rate>0:\n",
        "      Conv2D_BottleNeck = Dropout(dropout_rate)(Conv2D_BottleNeck)\n",
        "    avg = AveragePooling2D(pool_size=(2,2))(Conv2D_BottleNeck)\n",
        "    \n",
        "    return avg\n",
        "  \n",
        "def output_layer(input):\n",
        "    global compression\n",
        "    BatchNorm = BatchNormalization()(input)\n",
        "    relu = Activation('relu')(BatchNorm)\n",
        "    AvgPooling = AveragePooling2D(pool_size=(2,2))(relu)\n",
        "    flat = Flatten()(AvgPooling)\n",
        "    output = Dense(num_classes, activation='softmax')(flat)\n",
        "    \n",
        "    return output\n",
        "  \n",
        "num_filter = 64\n",
        "dropout_rate = 0.2\n",
        "l = 6\n",
        "input = Input(shape=(img_height, img_width, channel,))\n",
        "First_Conv2D = Conv2D(num_filter, (3,3),\n",
        "                      use_bias=False, padding='same', \n",
        "                      )(input)\n",
        "\n",
        "First_Block = add_denseblock(First_Conv2D, num_filter, dropout_rate)\n",
        "First_Transition = add_transition(First_Block, num_filter, dropout_rate)\n",
        "\n",
        "Second_Block = add_denseblock(First_Transition, num_filter, dropout_rate)\n",
        "Second_Transition = add_transition(Second_Block, num_filter, dropout_rate)\n",
        "\n",
        "Third_Block = add_denseblock(Second_Transition, num_filter, dropout_rate)\n",
        "Third_Transition = add_transition(Third_Block, num_filter, dropout_rate)\n",
        "\n",
        "Last_Block = add_denseblock(Third_Transition,  num_filter, dropout_rate)\n",
        "output = output_layer(Last_Block)\n",
        "\n",
        "model = Model(inputs=[input], outputs=[output])\n",
        "model.summary()\n",
        "\n",
        "model.compile(loss='categorical_crossentropy',\n",
        "              optimizer=Adam(),\n",
        "              metrics=['accuracy'])\n",
        "\n",
        "\n",
        "datagen = ImageDataGenerator(\n",
        "    rotation_range=15,\n",
        "    width_shift_range=0.1,\n",
        "    height_shift_range=0.1,\n",
        "    horizontal_flip=True,\n",
        "    )\n",
        "datagen.fit(x_train)\n",
        "history = model.fit_generator(datagen.flow(x_train, y_train, batch_size=batch_size),\n",
        "                               epochs=epochs,verbose=1,\n",
        "                               steps_per_epoch=x_train.shape[0] // batch_size,\n",
        "                               validation_data=(x_test, y_test),\n",
        "                               workers=4)\n",
        "plt.plot(history.history['loss'],'r',linewidth=3.0)\n",
        "plt.plot(history.history['val_loss'],'b',linewidth=3.0)\n",
        "plt.legend(['Training loss', 'Validation Loss'],fontsize=18)\n",
        "plt.xlabel('Epochs ',fontsize=16)\n",
        "plt.ylabel('Loss',fontsize=16)\n",
        "plt.title('Loss Curves',fontsize=16)\n",
        " \n",
        "# Accuracy Curves\n",
        "plt.figure(figsize=[8,6])\n",
        "plt.plot(history.history['acc'],'r',linewidth=3.0)\n",
        "plt.plot(history.history['val_acc'],'b',linewidth=3.0)\n",
        "plt.legend(['Training Accuracy', 'Validation Accuracy'],fontsize=18)\n",
        "plt.xlabel('Epochs ',fontsize=16)\n",
        "plt.ylabel('Accuracy',fontsize=16)\n",
        "plt.title('Accuracy Curves',fontsize=16)\n",
        "\n",
        "\n",
        "score = model.evaluate(x_test, y_test, verbose=1)\n",
        "print('Test loss:', score[0])\n",
        "print('Test accuracy:', score[1])"
      ],
      "execution_count": 1,
      "outputs": [
        {
          "output_type": "stream",
          "text": [
            "Using TensorFlow backend.\n"
          ],
          "name": "stderr"
        },
        {
          "output_type": "stream",
          "text": [
            "Downloading data from https://www.cs.toronto.edu/~kriz/cifar-10-python.tar.gz\n",
            "170500096/170498071 [==============================] - 25s 0us/step\n",
            "__________________________________________________________________________________________________\n",
            "Layer (type)                    Output Shape         Param #     Connected to                     \n",
            "==================================================================================================\n",
            "input_1 (InputLayer)            (None, 32, 32, 3)    0                                            \n",
            "__________________________________________________________________________________________________\n",
            "conv2d_1 (Conv2D)               (None, 32, 32, 64)   1728        input_1[0][0]                    \n",
            "__________________________________________________________________________________________________\n",
            "batch_normalization_1 (BatchNor (None, 32, 32, 64)   256         conv2d_1[0][0]                   \n",
            "__________________________________________________________________________________________________\n",
            "activation_1 (Activation)       (None, 32, 32, 64)   0           batch_normalization_1[0][0]      \n",
            "__________________________________________________________________________________________________\n",
            "conv2d_2 (Conv2D)               (None, 32, 32, 32)   18432       activation_1[0][0]               \n",
            "__________________________________________________________________________________________________\n",
            "dropout_1 (Dropout)             (None, 32, 32, 32)   0           conv2d_2[0][0]                   \n",
            "__________________________________________________________________________________________________\n",
            "concatenate_1 (Concatenate)     (None, 32, 32, 96)   0           conv2d_1[0][0]                   \n",
            "                                                                 dropout_1[0][0]                  \n",
            "__________________________________________________________________________________________________\n",
            "batch_normalization_2 (BatchNor (None, 32, 32, 96)   384         concatenate_1[0][0]              \n",
            "__________________________________________________________________________________________________\n",
            "activation_2 (Activation)       (None, 32, 32, 96)   0           batch_normalization_2[0][0]      \n",
            "__________________________________________________________________________________________________\n",
            "conv2d_3 (Conv2D)               (None, 32, 32, 32)   27648       activation_2[0][0]               \n",
            "__________________________________________________________________________________________________\n",
            "dropout_2 (Dropout)             (None, 32, 32, 32)   0           conv2d_3[0][0]                   \n",
            "__________________________________________________________________________________________________\n",
            "concatenate_2 (Concatenate)     (None, 32, 32, 128)  0           concatenate_1[0][0]              \n",
            "                                                                 dropout_2[0][0]                  \n",
            "__________________________________________________________________________________________________\n",
            "batch_normalization_3 (BatchNor (None, 32, 32, 128)  512         concatenate_2[0][0]              \n",
            "__________________________________________________________________________________________________\n",
            "activation_3 (Activation)       (None, 32, 32, 128)  0           batch_normalization_3[0][0]      \n",
            "__________________________________________________________________________________________________\n",
            "conv2d_4 (Conv2D)               (None, 32, 32, 32)   36864       activation_3[0][0]               \n",
            "__________________________________________________________________________________________________\n",
            "dropout_3 (Dropout)             (None, 32, 32, 32)   0           conv2d_4[0][0]                   \n",
            "__________________________________________________________________________________________________\n",
            "concatenate_3 (Concatenate)     (None, 32, 32, 160)  0           concatenate_2[0][0]              \n",
            "                                                                 dropout_3[0][0]                  \n",
            "__________________________________________________________________________________________________\n",
            "batch_normalization_4 (BatchNor (None, 32, 32, 160)  640         concatenate_3[0][0]              \n",
            "__________________________________________________________________________________________________\n",
            "activation_4 (Activation)       (None, 32, 32, 160)  0           batch_normalization_4[0][0]      \n",
            "__________________________________________________________________________________________________\n",
            "conv2d_5 (Conv2D)               (None, 32, 32, 32)   46080       activation_4[0][0]               \n",
            "__________________________________________________________________________________________________\n",
            "dropout_4 (Dropout)             (None, 32, 32, 32)   0           conv2d_5[0][0]                   \n",
            "__________________________________________________________________________________________________\n",
            "concatenate_4 (Concatenate)     (None, 32, 32, 192)  0           concatenate_3[0][0]              \n",
            "                                                                 dropout_4[0][0]                  \n",
            "__________________________________________________________________________________________________\n",
            "batch_normalization_5 (BatchNor (None, 32, 32, 192)  768         concatenate_4[0][0]              \n",
            "__________________________________________________________________________________________________\n",
            "activation_5 (Activation)       (None, 32, 32, 192)  0           batch_normalization_5[0][0]      \n",
            "__________________________________________________________________________________________________\n",
            "conv2d_6 (Conv2D)               (None, 32, 32, 32)   55296       activation_5[0][0]               \n",
            "__________________________________________________________________________________________________\n",
            "dropout_5 (Dropout)             (None, 32, 32, 32)   0           conv2d_6[0][0]                   \n",
            "__________________________________________________________________________________________________\n",
            "concatenate_5 (Concatenate)     (None, 32, 32, 224)  0           concatenate_4[0][0]              \n",
            "                                                                 dropout_5[0][0]                  \n",
            "__________________________________________________________________________________________________\n",
            "batch_normalization_6 (BatchNor (None, 32, 32, 224)  896         concatenate_5[0][0]              \n",
            "__________________________________________________________________________________________________\n",
            "activation_6 (Activation)       (None, 32, 32, 224)  0           batch_normalization_6[0][0]      \n",
            "__________________________________________________________________________________________________\n",
            "conv2d_7 (Conv2D)               (None, 32, 32, 32)   64512       activation_6[0][0]               \n",
            "__________________________________________________________________________________________________\n",
            "dropout_6 (Dropout)             (None, 32, 32, 32)   0           conv2d_7[0][0]                   \n",
            "__________________________________________________________________________________________________\n",
            "concatenate_6 (Concatenate)     (None, 32, 32, 256)  0           concatenate_5[0][0]              \n",
            "                                                                 dropout_6[0][0]                  \n",
            "__________________________________________________________________________________________________\n",
            "batch_normalization_7 (BatchNor (None, 32, 32, 256)  1024        concatenate_6[0][0]              \n",
            "__________________________________________________________________________________________________\n",
            "activation_7 (Activation)       (None, 32, 32, 256)  0           batch_normalization_7[0][0]      \n",
            "__________________________________________________________________________________________________\n",
            "conv2d_8 (Conv2D)               (None, 32, 32, 32)   8192        activation_7[0][0]               \n",
            "__________________________________________________________________________________________________\n",
            "dropout_7 (Dropout)             (None, 32, 32, 32)   0           conv2d_8[0][0]                   \n",
            "__________________________________________________________________________________________________\n",
            "average_pooling2d_1 (AveragePoo (None, 16, 16, 32)   0           dropout_7[0][0]                  \n",
            "__________________________________________________________________________________________________\n",
            "batch_normalization_8 (BatchNor (None, 16, 16, 32)   128         average_pooling2d_1[0][0]        \n",
            "__________________________________________________________________________________________________\n",
            "activation_8 (Activation)       (None, 16, 16, 32)   0           batch_normalization_8[0][0]      \n",
            "__________________________________________________________________________________________________\n",
            "conv2d_9 (Conv2D)               (None, 16, 16, 32)   9216        activation_8[0][0]               \n",
            "__________________________________________________________________________________________________\n",
            "dropout_8 (Dropout)             (None, 16, 16, 32)   0           conv2d_9[0][0]                   \n",
            "__________________________________________________________________________________________________\n",
            "concatenate_7 (Concatenate)     (None, 16, 16, 64)   0           average_pooling2d_1[0][0]        \n",
            "                                                                 dropout_8[0][0]                  \n",
            "__________________________________________________________________________________________________\n",
            "batch_normalization_9 (BatchNor (None, 16, 16, 64)   256         concatenate_7[0][0]              \n",
            "__________________________________________________________________________________________________\n",
            "activation_9 (Activation)       (None, 16, 16, 64)   0           batch_normalization_9[0][0]      \n",
            "__________________________________________________________________________________________________\n",
            "conv2d_10 (Conv2D)              (None, 16, 16, 32)   18432       activation_9[0][0]               \n",
            "__________________________________________________________________________________________________\n",
            "dropout_9 (Dropout)             (None, 16, 16, 32)   0           conv2d_10[0][0]                  \n",
            "__________________________________________________________________________________________________\n",
            "concatenate_8 (Concatenate)     (None, 16, 16, 96)   0           concatenate_7[0][0]              \n",
            "                                                                 dropout_9[0][0]                  \n",
            "__________________________________________________________________________________________________\n",
            "batch_normalization_10 (BatchNo (None, 16, 16, 96)   384         concatenate_8[0][0]              \n",
            "__________________________________________________________________________________________________\n",
            "activation_10 (Activation)      (None, 16, 16, 96)   0           batch_normalization_10[0][0]     \n",
            "__________________________________________________________________________________________________\n",
            "conv2d_11 (Conv2D)              (None, 16, 16, 32)   27648       activation_10[0][0]              \n",
            "__________________________________________________________________________________________________\n",
            "dropout_10 (Dropout)            (None, 16, 16, 32)   0           conv2d_11[0][0]                  \n",
            "__________________________________________________________________________________________________\n",
            "concatenate_9 (Concatenate)     (None, 16, 16, 128)  0           concatenate_8[0][0]              \n",
            "                                                                 dropout_10[0][0]                 \n",
            "__________________________________________________________________________________________________\n",
            "batch_normalization_11 (BatchNo (None, 16, 16, 128)  512         concatenate_9[0][0]              \n",
            "__________________________________________________________________________________________________\n",
            "activation_11 (Activation)      (None, 16, 16, 128)  0           batch_normalization_11[0][0]     \n",
            "__________________________________________________________________________________________________\n",
            "conv2d_12 (Conv2D)              (None, 16, 16, 32)   36864       activation_11[0][0]              \n",
            "__________________________________________________________________________________________________\n",
            "dropout_11 (Dropout)            (None, 16, 16, 32)   0           conv2d_12[0][0]                  \n",
            "__________________________________________________________________________________________________\n",
            "concatenate_10 (Concatenate)    (None, 16, 16, 160)  0           concatenate_9[0][0]              \n",
            "                                                                 dropout_11[0][0]                 \n",
            "__________________________________________________________________________________________________\n",
            "batch_normalization_12 (BatchNo (None, 16, 16, 160)  640         concatenate_10[0][0]             \n",
            "__________________________________________________________________________________________________\n",
            "activation_12 (Activation)      (None, 16, 16, 160)  0           batch_normalization_12[0][0]     \n",
            "__________________________________________________________________________________________________\n",
            "conv2d_13 (Conv2D)              (None, 16, 16, 32)   46080       activation_12[0][0]              \n",
            "__________________________________________________________________________________________________\n",
            "dropout_12 (Dropout)            (None, 16, 16, 32)   0           conv2d_13[0][0]                  \n",
            "__________________________________________________________________________________________________\n",
            "concatenate_11 (Concatenate)    (None, 16, 16, 192)  0           concatenate_10[0][0]             \n",
            "                                                                 dropout_12[0][0]                 \n",
            "__________________________________________________________________________________________________\n",
            "batch_normalization_13 (BatchNo (None, 16, 16, 192)  768         concatenate_11[0][0]             \n",
            "__________________________________________________________________________________________________\n",
            "activation_13 (Activation)      (None, 16, 16, 192)  0           batch_normalization_13[0][0]     \n",
            "__________________________________________________________________________________________________\n",
            "conv2d_14 (Conv2D)              (None, 16, 16, 32)   55296       activation_13[0][0]              \n",
            "__________________________________________________________________________________________________\n",
            "dropout_13 (Dropout)            (None, 16, 16, 32)   0           conv2d_14[0][0]                  \n",
            "__________________________________________________________________________________________________\n",
            "concatenate_12 (Concatenate)    (None, 16, 16, 224)  0           concatenate_11[0][0]             \n",
            "                                                                 dropout_13[0][0]                 \n",
            "__________________________________________________________________________________________________\n",
            "batch_normalization_14 (BatchNo (None, 16, 16, 224)  896         concatenate_12[0][0]             \n",
            "__________________________________________________________________________________________________\n",
            "activation_14 (Activation)      (None, 16, 16, 224)  0           batch_normalization_14[0][0]     \n",
            "__________________________________________________________________________________________________\n",
            "conv2d_15 (Conv2D)              (None, 16, 16, 32)   7168        activation_14[0][0]              \n",
            "__________________________________________________________________________________________________\n",
            "dropout_14 (Dropout)            (None, 16, 16, 32)   0           conv2d_15[0][0]                  \n",
            "__________________________________________________________________________________________________\n",
            "average_pooling2d_2 (AveragePoo (None, 8, 8, 32)     0           dropout_14[0][0]                 \n",
            "__________________________________________________________________________________________________\n",
            "batch_normalization_15 (BatchNo (None, 8, 8, 32)     128         average_pooling2d_2[0][0]        \n",
            "__________________________________________________________________________________________________\n",
            "activation_15 (Activation)      (None, 8, 8, 32)     0           batch_normalization_15[0][0]     \n",
            "__________________________________________________________________________________________________\n",
            "conv2d_16 (Conv2D)              (None, 8, 8, 32)     9216        activation_15[0][0]              \n",
            "__________________________________________________________________________________________________\n",
            "dropout_15 (Dropout)            (None, 8, 8, 32)     0           conv2d_16[0][0]                  \n",
            "__________________________________________________________________________________________________\n",
            "concatenate_13 (Concatenate)    (None, 8, 8, 64)     0           average_pooling2d_2[0][0]        \n",
            "                                                                 dropout_15[0][0]                 \n",
            "__________________________________________________________________________________________________\n",
            "batch_normalization_16 (BatchNo (None, 8, 8, 64)     256         concatenate_13[0][0]             \n",
            "__________________________________________________________________________________________________\n",
            "activation_16 (Activation)      (None, 8, 8, 64)     0           batch_normalization_16[0][0]     \n",
            "__________________________________________________________________________________________________\n",
            "conv2d_17 (Conv2D)              (None, 8, 8, 32)     18432       activation_16[0][0]              \n",
            "__________________________________________________________________________________________________\n",
            "dropout_16 (Dropout)            (None, 8, 8, 32)     0           conv2d_17[0][0]                  \n",
            "__________________________________________________________________________________________________\n",
            "concatenate_14 (Concatenate)    (None, 8, 8, 96)     0           concatenate_13[0][0]             \n",
            "                                                                 dropout_16[0][0]                 \n",
            "__________________________________________________________________________________________________\n",
            "batch_normalization_17 (BatchNo (None, 8, 8, 96)     384         concatenate_14[0][0]             \n",
            "__________________________________________________________________________________________________\n",
            "activation_17 (Activation)      (None, 8, 8, 96)     0           batch_normalization_17[0][0]     \n",
            "__________________________________________________________________________________________________\n",
            "conv2d_18 (Conv2D)              (None, 8, 8, 32)     27648       activation_17[0][0]              \n",
            "__________________________________________________________________________________________________\n",
            "dropout_17 (Dropout)            (None, 8, 8, 32)     0           conv2d_18[0][0]                  \n",
            "__________________________________________________________________________________________________\n",
            "concatenate_15 (Concatenate)    (None, 8, 8, 128)    0           concatenate_14[0][0]             \n",
            "                                                                 dropout_17[0][0]                 \n",
            "__________________________________________________________________________________________________\n",
            "batch_normalization_18 (BatchNo (None, 8, 8, 128)    512         concatenate_15[0][0]             \n",
            "__________________________________________________________________________________________________\n",
            "activation_18 (Activation)      (None, 8, 8, 128)    0           batch_normalization_18[0][0]     \n",
            "__________________________________________________________________________________________________\n",
            "conv2d_19 (Conv2D)              (None, 8, 8, 32)     36864       activation_18[0][0]              \n",
            "__________________________________________________________________________________________________\n",
            "dropout_18 (Dropout)            (None, 8, 8, 32)     0           conv2d_19[0][0]                  \n",
            "__________________________________________________________________________________________________\n",
            "concatenate_16 (Concatenate)    (None, 8, 8, 160)    0           concatenate_15[0][0]             \n",
            "                                                                 dropout_18[0][0]                 \n",
            "__________________________________________________________________________________________________\n",
            "batch_normalization_19 (BatchNo (None, 8, 8, 160)    640         concatenate_16[0][0]             \n",
            "__________________________________________________________________________________________________\n",
            "activation_19 (Activation)      (None, 8, 8, 160)    0           batch_normalization_19[0][0]     \n",
            "__________________________________________________________________________________________________\n",
            "conv2d_20 (Conv2D)              (None, 8, 8, 32)     46080       activation_19[0][0]              \n",
            "__________________________________________________________________________________________________\n",
            "dropout_19 (Dropout)            (None, 8, 8, 32)     0           conv2d_20[0][0]                  \n",
            "__________________________________________________________________________________________________\n",
            "concatenate_17 (Concatenate)    (None, 8, 8, 192)    0           concatenate_16[0][0]             \n",
            "                                                                 dropout_19[0][0]                 \n",
            "__________________________________________________________________________________________________\n",
            "batch_normalization_20 (BatchNo (None, 8, 8, 192)    768         concatenate_17[0][0]             \n",
            "__________________________________________________________________________________________________\n",
            "activation_20 (Activation)      (None, 8, 8, 192)    0           batch_normalization_20[0][0]     \n",
            "__________________________________________________________________________________________________\n",
            "conv2d_21 (Conv2D)              (None, 8, 8, 32)     55296       activation_20[0][0]              \n",
            "__________________________________________________________________________________________________\n",
            "dropout_20 (Dropout)            (None, 8, 8, 32)     0           conv2d_21[0][0]                  \n",
            "__________________________________________________________________________________________________\n",
            "concatenate_18 (Concatenate)    (None, 8, 8, 224)    0           concatenate_17[0][0]             \n",
            "                                                                 dropout_20[0][0]                 \n",
            "__________________________________________________________________________________________________\n",
            "batch_normalization_21 (BatchNo (None, 8, 8, 224)    896         concatenate_18[0][0]             \n",
            "__________________________________________________________________________________________________\n",
            "activation_21 (Activation)      (None, 8, 8, 224)    0           batch_normalization_21[0][0]     \n",
            "__________________________________________________________________________________________________\n",
            "conv2d_22 (Conv2D)              (None, 8, 8, 32)     7168        activation_21[0][0]              \n",
            "__________________________________________________________________________________________________\n",
            "dropout_21 (Dropout)            (None, 8, 8, 32)     0           conv2d_22[0][0]                  \n",
            "__________________________________________________________________________________________________\n",
            "average_pooling2d_3 (AveragePoo (None, 4, 4, 32)     0           dropout_21[0][0]                 \n",
            "__________________________________________________________________________________________________\n",
            "batch_normalization_22 (BatchNo (None, 4, 4, 32)     128         average_pooling2d_3[0][0]        \n",
            "__________________________________________________________________________________________________\n",
            "activation_22 (Activation)      (None, 4, 4, 32)     0           batch_normalization_22[0][0]     \n",
            "__________________________________________________________________________________________________\n",
            "conv2d_23 (Conv2D)              (None, 4, 4, 32)     9216        activation_22[0][0]              \n",
            "__________________________________________________________________________________________________\n",
            "dropout_22 (Dropout)            (None, 4, 4, 32)     0           conv2d_23[0][0]                  \n",
            "__________________________________________________________________________________________________\n",
            "concatenate_19 (Concatenate)    (None, 4, 4, 64)     0           average_pooling2d_3[0][0]        \n",
            "                                                                 dropout_22[0][0]                 \n",
            "__________________________________________________________________________________________________\n",
            "batch_normalization_23 (BatchNo (None, 4, 4, 64)     256         concatenate_19[0][0]             \n",
            "__________________________________________________________________________________________________\n",
            "activation_23 (Activation)      (None, 4, 4, 64)     0           batch_normalization_23[0][0]     \n",
            "__________________________________________________________________________________________________\n",
            "conv2d_24 (Conv2D)              (None, 4, 4, 32)     18432       activation_23[0][0]              \n",
            "__________________________________________________________________________________________________\n",
            "dropout_23 (Dropout)            (None, 4, 4, 32)     0           conv2d_24[0][0]                  \n",
            "__________________________________________________________________________________________________\n",
            "concatenate_20 (Concatenate)    (None, 4, 4, 96)     0           concatenate_19[0][0]             \n",
            "                                                                 dropout_23[0][0]                 \n",
            "__________________________________________________________________________________________________\n",
            "batch_normalization_24 (BatchNo (None, 4, 4, 96)     384         concatenate_20[0][0]             \n",
            "__________________________________________________________________________________________________\n",
            "activation_24 (Activation)      (None, 4, 4, 96)     0           batch_normalization_24[0][0]     \n",
            "__________________________________________________________________________________________________\n",
            "conv2d_25 (Conv2D)              (None, 4, 4, 32)     27648       activation_24[0][0]              \n",
            "__________________________________________________________________________________________________\n",
            "dropout_24 (Dropout)            (None, 4, 4, 32)     0           conv2d_25[0][0]                  \n",
            "__________________________________________________________________________________________________\n",
            "concatenate_21 (Concatenate)    (None, 4, 4, 128)    0           concatenate_20[0][0]             \n",
            "                                                                 dropout_24[0][0]                 \n",
            "__________________________________________________________________________________________________\n",
            "batch_normalization_25 (BatchNo (None, 4, 4, 128)    512         concatenate_21[0][0]             \n",
            "__________________________________________________________________________________________________\n",
            "activation_25 (Activation)      (None, 4, 4, 128)    0           batch_normalization_25[0][0]     \n",
            "__________________________________________________________________________________________________\n",
            "conv2d_26 (Conv2D)              (None, 4, 4, 32)     36864       activation_25[0][0]              \n",
            "__________________________________________________________________________________________________\n",
            "dropout_25 (Dropout)            (None, 4, 4, 32)     0           conv2d_26[0][0]                  \n",
            "__________________________________________________________________________________________________\n",
            "concatenate_22 (Concatenate)    (None, 4, 4, 160)    0           concatenate_21[0][0]             \n",
            "                                                                 dropout_25[0][0]                 \n",
            "__________________________________________________________________________________________________\n",
            "batch_normalization_26 (BatchNo (None, 4, 4, 160)    640         concatenate_22[0][0]             \n",
            "__________________________________________________________________________________________________\n",
            "activation_26 (Activation)      (None, 4, 4, 160)    0           batch_normalization_26[0][0]     \n",
            "__________________________________________________________________________________________________\n",
            "conv2d_27 (Conv2D)              (None, 4, 4, 32)     46080       activation_26[0][0]              \n",
            "__________________________________________________________________________________________________\n",
            "dropout_26 (Dropout)            (None, 4, 4, 32)     0           conv2d_27[0][0]                  \n",
            "__________________________________________________________________________________________________\n",
            "concatenate_23 (Concatenate)    (None, 4, 4, 192)    0           concatenate_22[0][0]             \n",
            "                                                                 dropout_26[0][0]                 \n",
            "__________________________________________________________________________________________________\n",
            "batch_normalization_27 (BatchNo (None, 4, 4, 192)    768         concatenate_23[0][0]             \n",
            "__________________________________________________________________________________________________\n",
            "activation_27 (Activation)      (None, 4, 4, 192)    0           batch_normalization_27[0][0]     \n",
            "__________________________________________________________________________________________________\n",
            "conv2d_28 (Conv2D)              (None, 4, 4, 32)     55296       activation_27[0][0]              \n",
            "__________________________________________________________________________________________________\n",
            "dropout_27 (Dropout)            (None, 4, 4, 32)     0           conv2d_28[0][0]                  \n",
            "__________________________________________________________________________________________________\n",
            "concatenate_24 (Concatenate)    (None, 4, 4, 224)    0           concatenate_23[0][0]             \n",
            "                                                                 dropout_27[0][0]                 \n",
            "__________________________________________________________________________________________________\n",
            "batch_normalization_28 (BatchNo (None, 4, 4, 224)    896         concatenate_24[0][0]             \n",
            "__________________________________________________________________________________________________\n",
            "activation_28 (Activation)      (None, 4, 4, 224)    0           batch_normalization_28[0][0]     \n",
            "__________________________________________________________________________________________________\n",
            "average_pooling2d_4 (AveragePoo (None, 2, 2, 224)    0           activation_28[0][0]              \n",
            "__________________________________________________________________________________________________\n",
            "flatten_1 (Flatten)             (None, 896)          0           average_pooling2d_4[0][0]        \n",
            "__________________________________________________________________________________________________\n",
            "dense_1 (Dense)                 (None, 10)           8970        flatten_1[0][0]                  \n",
            "==================================================================================================\n",
            "Total params: 877,898\n",
            "Trainable params: 870,282\n",
            "Non-trainable params: 7,616\n",
            "__________________________________________________________________________________________________\n"
          ],
          "name": "stdout"
        },
        {
          "output_type": "stream",
          "text": [
            "Epoch 1/50\n",
            "390/390 [==============================] - 200s 513ms/step - loss: 1.4901 - acc: 0.4543 - val_loss: 1.9807 - val_acc: 0.4328\n",
            "Epoch 2/50\n",
            "281/390 [====================>.........] - ETA: 49s - loss: 1.1168 - acc: 0.5982"
          ],
          "name": "stdout"
        },
        {
          "output_type": "stream",
          "text": [
            "390/390 [==============================] - 191s 490ms/step - loss: 1.0893 - acc: 0.6083 - val_loss: 1.3474 - val_acc: 0.5718\n",
            "Epoch 3/50\n",
            "390/390 [==============================] - 191s 489ms/step - loss: 0.9141 - acc: 0.6757 - val_loss: 1.2100 - val_acc: 0.6286\n",
            "Epoch 4/50\n",
            " 17/390 [>.............................] - ETA: 2:53 - loss: 0.8657 - acc: 0.6953"
          ],
          "name": "stdout"
        },
        {
          "output_type": "stream",
          "text": [
            "390/390 [==============================] - 190s 488ms/step - loss: 0.8107 - acc: 0.7136 - val_loss: 1.6536 - val_acc: 0.5949\n",
            "Epoch 5/50\n",
            "321/390 [=======================>......] - ETA: 31s - loss: 0.7448 - acc: 0.7375"
          ],
          "name": "stdout"
        },
        {
          "output_type": "stream",
          "text": [
            "390/390 [==============================] - 190s 488ms/step - loss: 0.7360 - acc: 0.7412 - val_loss: 2.4013 - val_acc: 0.5121\n",
            "Epoch 6/50\n",
            "390/390 [==============================] - 191s 489ms/step - loss: 0.6879 - acc: 0.7597 - val_loss: 0.9592 - val_acc: 0.7146\n",
            "Epoch 7/50\n",
            " 26/390 [=>............................] - ETA: 2:47 - loss: 0.6621 - acc: 0.7698"
          ],
          "name": "stdout"
        },
        {
          "output_type": "stream",
          "text": [
            "390/390 [==============================] - 191s 489ms/step - loss: 0.6454 - acc: 0.7762 - val_loss: 2.1536 - val_acc: 0.5098\n",
            "Epoch 8/50\n",
            "324/390 [=======================>......] - ETA: 30s - loss: 0.6075 - acc: 0.7883"
          ],
          "name": "stdout"
        },
        {
          "output_type": "stream",
          "text": [
            "390/390 [==============================] - 191s 489ms/step - loss: 0.6080 - acc: 0.7884 - val_loss: 1.3167 - val_acc: 0.6719\n",
            "Epoch 9/50\n",
            "390/390 [==============================] - 191s 489ms/step - loss: 0.5795 - acc: 0.7981 - val_loss: 0.9126 - val_acc: 0.7373\n",
            "Epoch 10/50\n",
            " 27/390 [=>............................] - ETA: 2:45 - loss: 0.5821 - acc: 0.8012"
          ],
          "name": "stdout"
        },
        {
          "output_type": "stream",
          "text": [
            "390/390 [==============================] - 190s 487ms/step - loss: 0.5499 - acc: 0.8085 - val_loss: 1.8300 - val_acc: 0.5691\n",
            "Epoch 11/50\n",
            "323/390 [=======================>......] - ETA: 30s - loss: 0.5314 - acc: 0.8155"
          ],
          "name": "stdout"
        },
        {
          "output_type": "stream",
          "text": [
            "390/390 [==============================] - 190s 488ms/step - loss: 0.5322 - acc: 0.8154 - val_loss: 0.8339 - val_acc: 0.7578\n",
            "Epoch 12/50\n",
            "390/390 [==============================] - 190s 487ms/step - loss: 0.5134 - acc: 0.8223 - val_loss: 0.6878 - val_acc: 0.7930\n",
            "Epoch 13/50\n",
            " 25/390 [>.............................] - ETA: 2:47 - loss: 0.4930 - acc: 0.8294"
          ],
          "name": "stdout"
        },
        {
          "output_type": "stream",
          "text": [
            "390/390 [==============================] - 190s 487ms/step - loss: 0.4970 - acc: 0.8284 - val_loss: 1.2295 - val_acc: 0.6968\n",
            "Epoch 14/50\n",
            "322/390 [=======================>......] - ETA: 30s - loss: 0.4769 - acc: 0.8329"
          ],
          "name": "stdout"
        },
        {
          "output_type": "stream",
          "text": [
            "390/390 [==============================] - 190s 487ms/step - loss: 0.4776 - acc: 0.8329 - val_loss: 0.6692 - val_acc: 0.7987\n",
            "Epoch 15/50\n",
            "390/390 [==============================] - 190s 487ms/step - loss: 0.4639 - acc: 0.8393 - val_loss: 0.9427 - val_acc: 0.7568\n",
            "Epoch 16/50\n",
            " 25/390 [>.............................] - ETA: 2:47 - loss: 0.4527 - acc: 0.8391"
          ],
          "name": "stdout"
        },
        {
          "output_type": "stream",
          "text": [
            "390/390 [==============================] - 190s 487ms/step - loss: 0.4526 - acc: 0.8440 - val_loss: 0.6569 - val_acc: 0.8112\n",
            "Epoch 17/50\n",
            "322/390 [=======================>......] - ETA: 30s - loss: 0.4393 - acc: 0.8480"
          ],
          "name": "stdout"
        },
        {
          "output_type": "stream",
          "text": [
            "390/390 [==============================] - 190s 487ms/step - loss: 0.4412 - acc: 0.8468 - val_loss: 0.8336 - val_acc: 0.7731\n",
            "Epoch 18/50\n",
            "390/390 [==============================] - 190s 487ms/step - loss: 0.4298 - acc: 0.8505 - val_loss: 0.7374 - val_acc: 0.7856\n",
            "Epoch 19/50\n",
            " 25/390 [>.............................] - ETA: 2:46 - loss: 0.4389 - acc: 0.8522"
          ],
          "name": "stdout"
        },
        {
          "output_type": "stream",
          "text": [
            "390/390 [==============================] - 190s 487ms/step - loss: 0.4175 - acc: 0.8563 - val_loss: 0.6380 - val_acc: 0.8107\n",
            "Epoch 20/50\n",
            "322/390 [=======================>......] - ETA: 30s - loss: 0.4092 - acc: 0.8581"
          ],
          "name": "stdout"
        },
        {
          "output_type": "stream",
          "text": [
            "390/390 [==============================] - 190s 487ms/step - loss: 0.4090 - acc: 0.8583 - val_loss: 0.4771 - val_acc: 0.8590\n",
            "Epoch 21/50\n",
            "390/390 [==============================] - 190s 487ms/step - loss: 0.3955 - acc: 0.8613 - val_loss: 0.6910 - val_acc: 0.8116\n",
            "Epoch 22/50\n",
            " 25/390 [>.............................] - ETA: 2:47 - loss: 0.3855 - acc: 0.8634"
          ],
          "name": "stdout"
        },
        {
          "output_type": "stream",
          "text": [
            "390/390 [==============================] - 190s 487ms/step - loss: 0.3917 - acc: 0.8628 - val_loss: 0.6991 - val_acc: 0.8000\n",
            "Epoch 23/50\n",
            "322/390 [=======================>......] - ETA: 30s - loss: 0.3803 - acc: 0.8670"
          ],
          "name": "stdout"
        },
        {
          "output_type": "stream",
          "text": [
            "390/390 [==============================] - 190s 488ms/step - loss: 0.3815 - acc: 0.8668 - val_loss: 0.4754 - val_acc: 0.8530\n",
            "Epoch 24/50\n",
            "390/390 [==============================] - 190s 488ms/step - loss: 0.3714 - acc: 0.8701 - val_loss: 0.5394 - val_acc: 0.8416\n",
            "Epoch 25/50\n",
            " 25/390 [>.............................] - ETA: 2:46 - loss: 0.3724 - acc: 0.8722"
          ],
          "name": "stdout"
        },
        {
          "output_type": "stream",
          "text": [
            "390/390 [==============================] - 190s 488ms/step - loss: 0.3629 - acc: 0.8744 - val_loss: 1.0523 - val_acc: 0.7254\n",
            "Epoch 26/50\n",
            "322/390 [=======================>......] - ETA: 31s - loss: 0.3578 - acc: 0.8751"
          ],
          "name": "stdout"
        },
        {
          "output_type": "stream",
          "text": [
            "390/390 [==============================] - 190s 488ms/step - loss: 0.3584 - acc: 0.8748 - val_loss: 0.9720 - val_acc: 0.7557\n",
            "Epoch 27/50\n",
            "390/390 [==============================] - 190s 487ms/step - loss: 0.3532 - acc: 0.8770 - val_loss: 0.6195 - val_acc: 0.8262\n",
            "Epoch 28/50\n",
            " 25/390 [>.............................] - ETA: 2:45 - loss: 0.3522 - acc: 0.8775"
          ],
          "name": "stdout"
        },
        {
          "output_type": "stream",
          "text": [
            "390/390 [==============================] - 190s 487ms/step - loss: 0.3403 - acc: 0.8805 - val_loss: 0.5635 - val_acc: 0.8401\n",
            "Epoch 29/50\n",
            "322/390 [=======================>......] - ETA: 30s - loss: 0.3392 - acc: 0.8803"
          ],
          "name": "stdout"
        },
        {
          "output_type": "stream",
          "text": [
            "390/390 [==============================] - 190s 488ms/step - loss: 0.3382 - acc: 0.8807 - val_loss: 0.7527 - val_acc: 0.7912\n",
            "Epoch 30/50\n",
            "390/390 [==============================] - 191s 489ms/step - loss: 0.3376 - acc: 0.8818 - val_loss: 0.6025 - val_acc: 0.8346\n",
            "Epoch 31/50\n",
            " 25/390 [>.............................] - ETA: 2:45 - loss: 0.3461 - acc: 0.8775"
          ],
          "name": "stdout"
        },
        {
          "output_type": "stream",
          "text": [
            "390/390 [==============================] - 190s 488ms/step - loss: 0.3266 - acc: 0.8861 - val_loss: 0.7057 - val_acc: 0.8036\n",
            "Epoch 32/50\n",
            "322/390 [=======================>......] - ETA: 30s - loss: 0.3188 - acc: 0.8890"
          ],
          "name": "stdout"
        },
        {
          "output_type": "stream",
          "text": [
            "390/390 [==============================] - 190s 487ms/step - loss: 0.3183 - acc: 0.8892 - val_loss: 0.9069 - val_acc: 0.7681\n",
            "Epoch 33/50\n",
            "390/390 [==============================] - 190s 488ms/step - loss: 0.3164 - acc: 0.8890 - val_loss: 0.6275 - val_acc: 0.8330\n",
            "Epoch 34/50\n",
            " 25/390 [>.............................] - ETA: 2:45 - loss: 0.3163 - acc: 0.8969"
          ],
          "name": "stdout"
        },
        {
          "output_type": "stream",
          "text": [
            "390/390 [==============================] - 191s 489ms/step - loss: 0.3136 - acc: 0.8899 - val_loss: 0.5455 - val_acc: 0.8423\n",
            "Epoch 35/50\n",
            "322/390 [=======================>......] - ETA: 30s - loss: 0.3036 - acc: 0.8932"
          ],
          "name": "stdout"
        },
        {
          "output_type": "stream",
          "text": [
            "390/390 [==============================] - 190s 487ms/step - loss: 0.3052 - acc: 0.8930 - val_loss: 0.5505 - val_acc: 0.8490\n",
            "Epoch 36/50\n",
            "390/390 [==============================] - 190s 488ms/step - loss: 0.3021 - acc: 0.8951 - val_loss: 0.5118 - val_acc: 0.8492\n",
            "Epoch 37/50\n",
            " 25/390 [>.............................] - ETA: 2:46 - loss: 0.2969 - acc: 0.9003"
          ],
          "name": "stdout"
        },
        {
          "output_type": "stream",
          "text": [
            "390/390 [==============================] - 190s 488ms/step - loss: 0.2911 - acc: 0.8973 - val_loss: 0.5380 - val_acc: 0.8475\n",
            "Epoch 38/50\n",
            "322/390 [=======================>......] - ETA: 30s - loss: 0.2939 - acc: 0.8974"
          ],
          "name": "stdout"
        },
        {
          "output_type": "stream",
          "text": [
            "390/390 [==============================] - 190s 488ms/step - loss: 0.2896 - acc: 0.8986 - val_loss: 0.5490 - val_acc: 0.8490\n",
            "Epoch 39/50\n",
            "390/390 [==============================] - 190s 488ms/step - loss: 0.2863 - acc: 0.9006 - val_loss: 0.4937 - val_acc: 0.8579\n",
            "Epoch 40/50\n",
            " 25/390 [>.............................] - ETA: 2:45 - loss: 0.3066 - acc: 0.8922"
          ],
          "name": "stdout"
        },
        {
          "output_type": "stream",
          "text": [
            "390/390 [==============================] - 190s 487ms/step - loss: 0.2866 - acc: 0.8992 - val_loss: 0.7167 - val_acc: 0.8154\n",
            "Epoch 41/50\n",
            "322/390 [=======================>......] - ETA: 30s - loss: 0.2786 - acc: 0.9025"
          ],
          "name": "stdout"
        },
        {
          "output_type": "stream",
          "text": [
            "390/390 [==============================] - 190s 487ms/step - loss: 0.2792 - acc: 0.9023 - val_loss: 0.7415 - val_acc: 0.8019\n",
            "Epoch 42/50\n",
            "390/390 [==============================] - 190s 488ms/step - loss: 0.2731 - acc: 0.9060 - val_loss: 0.4799 - val_acc: 0.8614\n",
            "Epoch 43/50\n",
            " 25/390 [>.............................] - ETA: 2:45 - loss: 0.2927 - acc: 0.8947"
          ],
          "name": "stdout"
        },
        {
          "output_type": "stream",
          "text": [
            "390/390 [==============================] - 190s 488ms/step - loss: 0.2739 - acc: 0.9037 - val_loss: 0.4326 - val_acc: 0.8798\n",
            "Epoch 44/50\n",
            "322/390 [=======================>......] - ETA: 31s - loss: 0.2593 - acc: 0.9102"
          ],
          "name": "stdout"
        },
        {
          "output_type": "stream",
          "text": [
            "390/390 [==============================] - 191s 490ms/step - loss: 0.2631 - acc: 0.9079 - val_loss: 0.4486 - val_acc: 0.8719\n",
            "Epoch 45/50\n",
            "390/390 [==============================] - 191s 490ms/step - loss: 0.2609 - acc: 0.9086 - val_loss: 0.4370 - val_acc: 0.8736\n",
            "Epoch 46/50\n",
            " 25/390 [>.............................] - ETA: 2:46 - loss: 0.2560 - acc: 0.9097"
          ],
          "name": "stdout"
        },
        {
          "output_type": "stream",
          "text": [
            "390/390 [==============================] - 191s 489ms/step - loss: 0.2606 - acc: 0.9082 - val_loss: 0.6241 - val_acc: 0.8363\n",
            "Epoch 47/50\n",
            "322/390 [=======================>......] - ETA: 31s - loss: 0.2599 - acc: 0.9070"
          ],
          "name": "stdout"
        },
        {
          "output_type": "stream",
          "text": [
            "390/390 [==============================] - 191s 490ms/step - loss: 0.2595 - acc: 0.9075 - val_loss: 0.5415 - val_acc: 0.8500\n",
            "Epoch 48/50\n",
            "390/390 [==============================] - 191s 489ms/step - loss: 0.2587 - acc: 0.9090 - val_loss: 0.4860 - val_acc: 0.8700\n",
            "Epoch 49/50\n",
            " 25/390 [>.............................] - ETA: 2:46 - loss: 0.2515 - acc: 0.9141"
          ],
          "name": "stdout"
        },
        {
          "output_type": "stream",
          "text": [
            "390/390 [==============================] - 190s 488ms/step - loss: 0.2510 - acc: 0.9136 - val_loss: 0.4582 - val_acc: 0.8710\n",
            "Epoch 50/50\n",
            "322/390 [=======================>......] - ETA: 30s - loss: 0.2472 - acc: 0.9139"
          ],
          "name": "stdout"
        },
        {
          "output_type": "stream",
          "text": [
            "390/390 [==============================] - 190s 488ms/step - loss: 0.2483 - acc: 0.9131 - val_loss: 0.4691 - val_acc: 0.8657\n",
            "10000/10000 [==============================] - 17s 2ms/step\n",
            "Test loss: 0.4691350611925125\n",
            "Test accuracy: 0.8657\n"
          ],
          "name": "stdout"
        },
        {
          "output_type": "display_data",
          "data": {
            "image/png": "[encoded data removed]",
            "text/plain": [
              "<matplotlib.figure.Figure at 0x7fd1076a4c50>"
            ]
          },
          "metadata": {
            "tags": []
          }
        },
        {
          "output_type": "display_data",
          "data": {
            "image/png": "[encoded data removed]",
            "text/plain": [
              "<matplotlib.figure.Figure at 0x7fd0b589c7b8>"
            ]
          },
          "metadata": {
            "tags": []
          }
        }
      ]
    }
  ]
}