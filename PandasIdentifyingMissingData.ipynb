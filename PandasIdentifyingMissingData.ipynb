{
  "nbformat": 4,
  "nbformat_minor": 0,
  "metadata": {
    "anaconda-cloud": {},
    "kernelspec": {
      "display_name": "Python 3",
      "language": "python",
      "name": "python3"
    },
    "language_info": {
      "codemirror_mode": {
        "name": "ipython",
        "version": 3
      },
      "file_extension": ".py",
      "mimetype": "text/x-python",
      "name": "python",
      "nbconvert_exporter": "python",
      "pygments_lexer": "ipython3",
      "version": "3.6.8"
    },
    "colab": {
      "name": "IdentifyingMissingData.ipynb",
      "provenance": [],
      "include_colab_link": true
    }
  },
  "cells": [
    {
      "cell_type": "markdown",
      "metadata": {
        "id": "view-in-github",
        "colab_type": "text"
      },
      "source": [
        "<a href=\"https://colab.research.google.com/github/gopal2812/mlblr/blob/master/PandasIdentifyingMissingData.ipynb\" target=\"_parent\"><img src=\"https://colab.research.google.com/assets/colab-badge.svg\" alt=\"Open In Colab\"/></a>"
      ]
    },
    {
      "cell_type": "code",
      "metadata": {
        "id": "Ps4hkVc819gb",
        "colab_type": "code",
        "colab": {}
      },
      "source": [
        "# Import libraries\n",
        "import pandas as pd\n",
        "import numpy as np"
      ],
      "execution_count": 0,
      "outputs": []
    },
    {
      "cell_type": "markdown",
      "metadata": {
        "id": "03frZ9g_2VIn",
        "colab_type": "text"
      },
      "source": [
        "Identifying missing data\n",
        "- [Instructor] When working with a dataset you'll often run into missing values. Values can be originally missing from a dataset or be a product of data manipulation. In Pandas, missing values are typically called NaN or None. Missing Data can: hint at data collection errors, indicate improper conversion or manipulation data, or they can actually not be considered missing at all. For some datasets, missing data can be listed as: zero, false, not applicable, entered an empty string, among many other possibilities. This is a really important subject; as before you can graph data, you need to make sure you aren't trying to grab some missing values. As that can cause an error or misinterpretation of the data. And in this notebook, we'll see where missing data can cause misinterpretation of our results. The first thing we're going to do is we're going to use the Car Loan dataset and we're going to identify how many missing values we have, by using the Pandas info method. So, I have the DataFrame here and then I have the info method. I'll press Shift + Enter and then as you see here, for every other column, except for interest_paid, I have 60 non-null values. But for the interest_paid column I have 59. This means I have one NaN value in that column. This will cause a problem. Two common methods to indicate word values are missing are ISNA and is null. They are exactly the same methods, but with different names. The reason why this is the case, is in the R language, N/A and null are two different things. The system make R programmers have an easier time working with Python. I tend to prefer ISNA as this tends to be similar in naming to other Python methods. As you see it in the code over here, I have the Panda series interest_paid. I'm using the ISNA method and what this does, this is producing Panda series of true and false values. It'll be true or have a NaN value, it'll be false or I don't. I'll then press Shift + Enter and as you see in the first five rows, I don't have any NaN values. The next thing I'm doing, is I'm assigning this true and false filter to the variable interest_missing. And the reason why I'm doing this, is I want to take that filter and eventually use it to isolate the missing data. What the code here is doing, is I want to look at the row where I have the missing values. And what you see here is I've a missing value in the interest_paid column. This will be a problem for later. It's important to keep in mind that you can also use the nod operator to negate the filter, so that everywhere that's returned doesn't have a NaN. And as you see in the Panda's DataFrame, the row with index 35 is no longer here. It's important to note, you'll often see code similar to what you see here. What we have is that same Panda's filter of true and false values. And then after, you have the iARkit function sum(), which then sums all the true/false values to produce a result. The reason why this works, is in Python. Booleans are a subtype of integers, where true are once and falses are zero. So, in the code here, I essentially have one plus zero plus zero. And the reason why I've a one here is that I have one Nan in the interest_paid column. When working with a dataset it's important to identify your missing values; as missing values can cause data misinterpretation errors, or even cause you an error when you try to graph your data."
      ]
    },
    {
      "cell_type": "code",
      "metadata": {
        "id": "flgPZYbi19gm",
        "colab_type": "code",
        "colab": {}
      },
      "source": [
        "# Load Excel File\n",
        "filename = 'data/car_financing.xlsx'\n",
        "df = pd.read_excel(filename)"
      ],
      "execution_count": 0,
      "outputs": []
    },
    {
      "cell_type": "code",
      "metadata": {
        "id": "oNYKzymO19gt",
        "colab_type": "code",
        "colab": {}
      },
      "source": [
        "## Filtering \n",
        "car_filter = df['car_type']=='Toyota Sienna'\n",
        "interest_filter = df['interest_rate']==0.0702\n",
        "df = df.loc[car_filter & interest_filter, :]"
      ],
      "execution_count": 0,
      "outputs": []
    },
    {
      "cell_type": "code",
      "metadata": {
        "id": "Y1ijrDKg19g2",
        "colab_type": "code",
        "colab": {}
      },
      "source": [
        "# Approach 1 dictionary substitution using rename method\n",
        "df = df.rename(columns={'Starting Balance': 'starting_balance',\n",
        "                        'Interest Paid': 'interest_paid', \n",
        "                        'Principal Paid': 'principal_paid',\n",
        "                        'New Balance': 'new_balance'})"
      ],
      "execution_count": 0,
      "outputs": []
    },
    {
      "cell_type": "code",
      "metadata": {
        "id": "5rt8L9j919g7",
        "colab_type": "code",
        "colab": {}
      },
      "source": [
        "# Approach 2 list replacement\n",
        "# Only changing Month -> month, but we need to list the rest of the columns\n",
        "df.columns = ['month',\n",
        "              'starting_balance',\n",
        "              'Repayment',\n",
        "              'interest_paid',\n",
        "              'principal_paid',\n",
        "              'new_balance',\n",
        "              'term',\n",
        "              'interest_rate',\n",
        "              'car_type']"
      ],
      "execution_count": 0,
      "outputs": []
    },
    {
      "cell_type": "code",
      "metadata": {
        "id": "fBy6vktp19hC",
        "colab_type": "code",
        "colab": {}
      },
      "source": [
        "# Approach 1\n",
        "# This approach allows you to drop multiple columns at a time \n",
        "df = df.drop(columns=['term'])"
      ],
      "execution_count": 0,
      "outputs": []
    },
    {
      "cell_type": "code",
      "metadata": {
        "id": "hS6-vXZU19hK",
        "colab_type": "code",
        "colab": {}
      },
      "source": [
        "# Approach 2 use the del command\n",
        "del df['Repayment']"
      ],
      "execution_count": 0,
      "outputs": []
    },
    {
      "cell_type": "code",
      "metadata": {
        "id": "DJD5MDuM19hP",
        "colab_type": "code",
        "colab": {}
      },
      "source": [
        "df.shape"
      ],
      "execution_count": 0,
      "outputs": []
    },
    {
      "cell_type": "markdown",
      "metadata": {
        "id": "HfTolNlY19hU",
        "colab_type": "text"
      },
      "source": [
        "## Identifying Missing Data\n",
        "Values will be originally missing from a dataset or be a product of data manipulation. In pandas, missing values are typically called `NaN` or `None`.\n",
        "\n",
        "Missing data can: \n",
        "* Hint at data collection errors.\n",
        "* Indicate improper conversion or manipulation.\n",
        "* Actually not be considered missing. For some datasets, missing data can be listed as \"zero\", \"false\", \"not applicable\", \"entered an empty string\", among other possibilities. \n",
        "\n",
        "This is an important subject as before you can graph data, you should make sure you aren't trying to graph some missing values as that can cause an error or misinterpretation of the data. "
      ]
    },
    {
      "cell_type": "markdown",
      "metadata": {
        "id": "PQxKybnT19hW",
        "colab_type": "text"
      },
      "source": [
        "### Finding Missing Values"
      ]
    },
    {
      "cell_type": "code",
      "metadata": {
        "id": "ekDY2SpW19hY",
        "colab_type": "code",
        "colab": {}
      },
      "source": [
        "df.info()"
      ],
      "execution_count": 0,
      "outputs": []
    },
    {
      "cell_type": "markdown",
      "metadata": {
        "id": "VG2DFl3y19hh",
        "colab_type": "text"
      },
      "source": [
        "Two common methods to indicate where values in a DataFrame are missing are `isna` and `isnull`. They are exactly the same methods, but with different names."
      ]
    },
    {
      "cell_type": "code",
      "metadata": {
        "id": "rt5v0ySU19hj",
        "colab_type": "code",
        "colab": {}
      },
      "source": [
        "# Notice we have a Pandas Series of True and False values\n",
        "df['interest_paid'].isna().head()"
      ],
      "execution_count": 0,
      "outputs": []
    },
    {
      "cell_type": "code",
      "metadata": {
        "id": "Rtiyqn3a19hq",
        "colab_type": "code",
        "colab": {}
      },
      "source": [
        "interest_missing = df['interest_paid'].isna()"
      ],
      "execution_count": 0,
      "outputs": []
    },
    {
      "cell_type": "code",
      "metadata": {
        "id": "MXBCZlmD19hy",
        "colab_type": "code",
        "colab": {}
      },
      "source": [
        "# Looks at the row that contains the NaN for interest_paid\n",
        "df.loc[interest_missing,:]"
      ],
      "execution_count": 0,
      "outputs": []
    },
    {
      "cell_type": "code",
      "metadata": {
        "scrolled": true,
        "id": "WNHPb3Xq19h6",
        "colab_type": "code",
        "colab": {}
      },
      "source": [
        "# Keep in mind that we can use the not operator (~) to negate the filter\n",
        "# every row that doesn't have a nan is returned.\n",
        "df.loc[~interest_missing,:]"
      ],
      "execution_count": 0,
      "outputs": []
    },
    {
      "cell_type": "code",
      "metadata": {
        "id": "xnf72TTn19iA",
        "colab_type": "code",
        "colab": {}
      },
      "source": [
        "# The code counts the number of missing values\n",
        "# sum() works because Booleans are a subtype of integers. \n",
        "df['interest_paid'].isna().sum()"
      ],
      "execution_count": 0,
      "outputs": []
    },
    {
      "cell_type": "code",
      "metadata": {
        "id": "SKwSbqrh19iF",
        "colab_type": "code",
        "colab": {}
      },
      "source": [
        "True + False + False "
      ],
      "execution_count": 0,
      "outputs": []
    }
  ]
}