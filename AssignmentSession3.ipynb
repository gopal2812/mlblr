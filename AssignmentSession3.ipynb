{
  "nbformat": 4,
  "nbformat_minor": 0,
  "metadata": {
    "colab": {
      "name": "Untitled54.ipynb",
      "provenance": [],
      "collapsed_sections": [],
      "authorship_tag": "ABX9TyOUKcFVc9HSxLoDFMXWKnyv",
      "include_colab_link": true
    },
    "kernelspec": {
      "name": "python3",
      "display_name": "Python 3"
    }
  },
  "cells": [
    {
      "cell_type": "markdown",
      "metadata": {
        "id": "view-in-github",
        "colab_type": "text"
      },
      "source": [
        "<a href=\"https://colab.research.google.com/github/gopal2812/mlblr/blob/master/AssignmentSession3.ipynb\" target=\"_parent\"><img src=\"https://colab.research.google.com/assets/colab-badge.svg\" alt=\"Open In Colab\"/></a>"
      ]
    },
    {
      "cell_type": "markdown",
      "metadata": {
        "id": "-aEMImq0P0Jj"
      },
      "source": [
        "1. Write a function using only list filter lambda that can tell whether a number is a Fibonacci number or not. You can use a pre-calculated list/dict to store fab numbers till 10000 PTS:100"
      ]
    },
    {
      "cell_type": "code",
      "metadata": {
        "id": "1IU3aGk8P3vW"
      },
      "source": [
        "\"\"\"\n",
        "Write a function using only list filter lambda that can tell \n",
        "whether a number is a Fibonacci number or not. \n",
        "You can use a pre-calculated list/dict to store fab numbers till 10000 PTS:100\n",
        "\"\"\"\n",
        "# A pre-calculated list to store fibonacci numbers till 10000\n",
        "fibonacci_numbers = [0, 1]\n",
        "while fibonacci_numbers[-1] + fibonacci_numbers[-2] < 10000:\n",
        "    fibonacci_numbers.append(fibonacci_numbers[-1] + fibonacci_numbers[-2])\n",
        "\n",
        "def check_fibonacci(num=int)->bool:\n",
        "    '''\n",
        "    This function checks if the number provided is a number in Fibonacci series\n",
        "    The input should be a positive integer less than 10,000. The function returns True or\n",
        "    False indicationg whether a the number provided is a number in Fibonacci series\n",
        "    '''\n",
        "    print(fibonacci_numbers)\n",
        "    num_list=[num]\n",
        "    return bool((list(filter(lambda x: True if x in fibonacci_numbers else False, num_list))))\n",
        "\n",
        "print(check_fibonacci(1000))"
      ],
      "execution_count": null,
      "outputs": []
    },
    {
      "cell_type": "markdown",
      "metadata": {
        "id": "AAX4O2PYf5fg"
      },
      "source": [
        "2.1 Using list comprehension (and zip/lambda/etc if required) write five different expressions that: PTS:100\n",
        "a) add 2 iterables a and b such that a is even and b is odd"
      ]
    },
    {
      "cell_type": "code",
      "metadata": {
        "id": "Te1xLQCLewQS",
        "outputId": "b242876f-0108-4dc7-e522-c040b803bfe3",
        "colab": {
          "base_uri": "https://localhost:8080/"
        }
      },
      "source": [
        "add_even_iter = lambda a, b : [x + y for x, y in zip(a, b) if x % 2 == 0 and y % 2 != 0]\n",
        "add_even_iter([4, 7, 10, 15, 20], [3, 6, 8, 1, 11])\n"
      ],
      "execution_count": 74,
      "outputs": [
        {
          "output_type": "execute_result",
          "data": {
            "text/plain": [
              "[7, 31]"
            ]
          },
          "metadata": {
            "tags": []
          },
          "execution_count": 74
        }
      ]
    },
    {
      "cell_type": "markdown",
      "metadata": {
        "id": "hElG-XyajDR6"
      },
      "source": [
        "2.2 strips every vowel from a string provided (tsai>>t s)"
      ]
    },
    {
      "cell_type": "code",
      "metadata": {
        "id": "BARWKQmzjIlS",
        "outputId": "2b3a4811-b3c6-4c55-975b-4826e8b241c5",
        "colab": {
          "base_uri": "https://localhost:8080/",
          "height": 35
        }
      },
      "source": [
        "def vowel_remover(in_str = str)->str:\n",
        "    '''\n",
        "    This function strips every vowel from a string provided\n",
        "    The input should be any string.\n",
        "    The function returns string without any vowels\n",
        "    '''\n",
        "    if not isinstance(in_str,str):\n",
        "        raise TypeError(\"Only strings allowed as input\")\n",
        "\n",
        "    pure_list = [x for x in in_str if x not in ('a','e','i','o','u')]\n",
        "    return \"\".join(pure_list)\n",
        "\n",
        "vowel_remover('tsai')"
      ],
      "execution_count": 75,
      "outputs": [
        {
          "output_type": "execute_result",
          "data": {
            "application/vnd.google.colaboratory.intrinsic+json": {
              "type": "string"
            },
            "text/plain": [
              "'ts'"
            ]
          },
          "metadata": {
            "tags": []
          },
          "execution_count": 75
        }
      ]
    },
    {
      "cell_type": "markdown",
      "metadata": {
        "id": "k6mrni2UjxKq"
      },
      "source": [
        "2.3 acts like a ReLU function for a 1D array"
      ]
    },
    {
      "cell_type": "code",
      "metadata": {
        "id": "j8qb0PEyjsBR",
        "outputId": "d8d73421-2892-476c-a66f-a3515925fcfc",
        "colab": {
          "base_uri": "https://localhost:8080/"
        }
      },
      "source": [
        "# List comprehension to act like a ReLU function for a 1D array\n",
        "relu_func = lambda l : [x if x > 0 else 0 for x in l]\n",
        "\n",
        "relu_func([1.43, -0.76, 0.356, -1.89])  "
      ],
      "execution_count": 76,
      "outputs": [
        {
          "output_type": "execute_result",
          "data": {
            "text/plain": [
              "[1.43, 0, 0.356, 0]"
            ]
          },
          "metadata": {
            "tags": []
          },
          "execution_count": 76
        }
      ]
    },
    {
      "cell_type": "markdown",
      "metadata": {
        "id": "ucA7aSuckL7B"
      },
      "source": [
        "2.4 acts like a sigmoid function for a 1D array"
      ]
    },
    {
      "cell_type": "code",
      "metadata": {
        "id": "KwPRGmhekFuP",
        "outputId": "0ceabdde-e9b0-4bbd-ec0a-c8be1771614b",
        "colab": {
          "base_uri": "https://localhost:8080/"
        }
      },
      "source": [
        "import numpy as np\n",
        "sigmoid = lambda x : [1/(1 + np.exp(-num)) for num in x]\n",
        "sigmoid([1, 2, -3, -4, 0])"
      ],
      "execution_count": 77,
      "outputs": [
        {
          "output_type": "execute_result",
          "data": {
            "text/plain": [
              "[0.7310585786300049,\n",
              " 0.8807970779778823,\n",
              " 0.04742587317756678,\n",
              " 0.01798620996209156,\n",
              " 0.5]"
            ]
          },
          "metadata": {
            "tags": []
          },
          "execution_count": 77
        }
      ]
    },
    {
      "cell_type": "markdown",
      "metadata": {
        "id": "cIlbdrRWlHRC"
      },
      "source": [
        "2.5 takes a small character string and shifts all characters by 5 (handle boundary conditions) tsai>>yxfn"
      ]
    },
    {
      "cell_type": "code",
      "metadata": {
        "id": "4ICYYSuolF93",
        "outputId": "cf3879e3-d60b-4b60-8ebe-5da01f3f4a2c",
        "colab": {
          "base_uri": "https://localhost:8080/",
          "height": 35
        }
      },
      "source": [
        "# List comprehension that takes a small character string and shifts all characters by 5\n",
        "alphabets = ['a', 'b', 'c', 'd', 'e', 'f', 'g', 'h', 'i', 'j', 'k', 'l', 'm', 'n', 'o', 'p', 'q', 'r', 's', 't', 'u', 'v', 'w', 'x', 'y', 'z']\n",
        "shift_characters = lambda s : \"\".join([alphabets[alphabets.index(x) + 5] if alphabets.index(x) < 21 else alphabets[alphabets.index(x) - 26 + 5] for x in s])    \n",
        "\n",
        "shift_characters('tsai')"
      ],
      "execution_count": 78,
      "outputs": [
        {
          "output_type": "execute_result",
          "data": {
            "application/vnd.google.colaboratory.intrinsic+json": {
              "type": "string"
            },
            "text/plain": [
              "'yxfn'"
            ]
          },
          "metadata": {
            "tags": []
          },
          "execution_count": 78
        }
      ]
    },
    {
      "cell_type": "markdown",
      "metadata": {
        "id": "C6wM15MwmCeq"
      },
      "source": [
        "3. A list comprehension expression that takes a ~200 word paragraph (write your own paragraph to check), and checks whether it has any of the swear words mentioned in https://github.com/RobertJGabriel/Google-profanity-words/blob/master/list.txt PTS:200"
      ]
    },
    {
      "cell_type": "code",
      "metadata": {
        "id": "bDjMsFPwmQNF",
        "outputId": "54b28fc6-d1ac-4314-88d4-19659122234c",
        "colab": {
          "base_uri": "https://localhost:8080/"
        }
      },
      "source": [
        "import requests\n",
        "url = 'https://raw.githubusercontent.com/RobertJGabriel/Google-profanity-words/master/list.txt'\n",
        "r = requests.get(url)\n",
        "swear_words = r.text.split('\\n')\n",
        "paragraph1 = \"\"\"\n",
        "Jasprit Bumrah was the pick of the bowlers for the defending champions, taking four wickets including that of Marcus Stoinis, who scored 65 while trying to resurrect DC's appalling innings.\n",
        "Earlier, De Kock, Suryakumar Yadav, Kieron Pollard and Hardik starred with the bat to take MI to 200 for 5.\n",
        "\"\"\"\n",
        "paragraph2 = \"\"\"\n",
        "Go to hell. Naw, fuck that, you don’t deserve hell. Go somewhere worse than hell. Go to the hell where they keep Hitler and Pol Pot and people who show up at house shows with a six pack of beer and no money for the door. Ultra Hell.\n",
        "\"\"\"\n",
        "\n",
        "# Paragraph 1\n",
        "print(\"Paragraph 1\")\n",
        "print(any(word in paragraph1.split() for word in swear_words))\n",
        "print(\"Paragraph 2\")\n",
        "# Paragraph 2 \n",
        "print(any(word in paragraph2.split() for word in swear_words))"
      ],
      "execution_count": 79,
      "outputs": [
        {
          "output_type": "stream",
          "text": [
            "Paragraph 1\n",
            "False\n",
            "Paragraph 2\n",
            "True\n"
          ],
          "name": "stdout"
        }
      ]
    },
    {
      "cell_type": "markdown",
      "metadata": {
        "id": "PCK-2Xs8oJgw"
      },
      "source": [
        "4.1. Using reduce functions: PTS:100\n",
        "add only even numbers in a list"
      ]
    },
    {
      "cell_type": "code",
      "metadata": {
        "id": "JayBCtgmpKFS",
        "outputId": "3db1b34b-a561-4282-9701-b0f1f3f62f9f",
        "colab": {
          "base_uri": "https://localhost:8080/"
        }
      },
      "source": [
        "import functools\n",
        "import operator\n",
        "def add_even_numbers(l: list):\n",
        "    \"\"\"\n",
        "    case 4.1:\n",
        "    using reduce function:\n",
        "    add only even numbers in a list\n",
        "    \"\"\"\n",
        "    return functools.reduce(operator.add, filter(lambda x: x % 2 == 0, l))\n",
        "\n",
        "add_even_numbers([1,2,3,4,5,6])"
      ],
      "execution_count": 80,
      "outputs": [
        {
          "output_type": "execute_result",
          "data": {
            "text/plain": [
              "12"
            ]
          },
          "metadata": {
            "tags": []
          },
          "execution_count": 80
        }
      ]
    },
    {
      "cell_type": "markdown",
      "metadata": {
        "id": "Uxgc0KPkp5Dt"
      },
      "source": [
        "4.2 find the biggest character in a string (printable ascii characters)"
      ]
    },
    {
      "cell_type": "code",
      "metadata": {
        "id": "Tr_TldokqCzV",
        "outputId": "9e98e7bf-81d5-4815-8921-38cea5e300a7",
        "colab": {
          "base_uri": "https://localhost:8080/",
          "height": 35
        }
      },
      "source": [
        "def find_biggest_character(s: str):\n",
        "    \"\"\"\n",
        "    case 4.2:\n",
        "    using reduce function:\n",
        "     find the biggest character in a string (printable ascii characters)\n",
        "    \"\"\"\n",
        "    return functools.reduce(lambda a, b: a if ord(a) > ord(b) else b, s)\n",
        "\n",
        "find_biggest_character(\"gopalgupta\")"
      ],
      "execution_count": 81,
      "outputs": [
        {
          "output_type": "execute_result",
          "data": {
            "application/vnd.google.colaboratory.intrinsic+json": {
              "type": "string"
            },
            "text/plain": [
              "'u'"
            ]
          },
          "metadata": {
            "tags": []
          },
          "execution_count": 81
        }
      ]
    },
    {
      "cell_type": "markdown",
      "metadata": {
        "id": "EqVmU1w_qraW"
      },
      "source": [
        "4.3 adds every 3rd number in a list"
      ]
    },
    {
      "cell_type": "code",
      "metadata": {
        "id": "jNNzhIW7qy_S",
        "outputId": "764b2897-8677-402e-93c5-771552d1322c",
        "colab": {
          "base_uri": "https://localhost:8080/"
        }
      },
      "source": [
        "def add_third_element(l: list):\n",
        "    \"\"\"\n",
        "    case 4.3:\n",
        "    using reduce function:\n",
        "    adds every 3rd number in a list\n",
        "    \"\"\"\n",
        "    return functools.reduce(operator.add, l[2::3],0)\n",
        "\n",
        "add_third_element([1, 2, 3, 4, 5, 6]) "
      ],
      "execution_count": 82,
      "outputs": [
        {
          "output_type": "execute_result",
          "data": {
            "text/plain": [
              "9"
            ]
          },
          "metadata": {
            "tags": []
          },
          "execution_count": 82
        }
      ]
    },
    {
      "cell_type": "markdown",
      "metadata": {
        "id": "sHR45hLTs-uB"
      },
      "source": [
        "5. Using randint, random.choice and list comprehensions, write an expression that generates 15 random KADDAADDDD number plates, where KA is fixed, D stands for a digit, and A stands for Capital alphabets. 10<<DD<<99 & 1000<<DDDD<<9999 PTS:100"
      ]
    },
    {
      "cell_type": "code",
      "metadata": {
        "id": "8wi2mMSNs6GD",
        "outputId": "dbb3dc85-a89f-4ef7-b386-bb15b015dfc1",
        "colab": {
          "base_uri": "https://localhost:8080/"
        }
      },
      "source": [
        "import random\n",
        "import string\n",
        "\n",
        "def generate_vehicle_num(state: str = \"KA\"):\n",
        "    \"\"\"\n",
        "    case 5:\n",
        "    Using randint, random.choice and list comprehensions,\n",
        "    write an expression that generates 15 random KADDAADDDD number plates,\n",
        "    : where KA is fixed,\n",
        "    :  D stands for a digit,\n",
        "    : A stands for Capital alphabets. 10<<DD<<99\n",
        "    :  & 1000<<DDDD<<9999\n",
        "    \"\"\"\n",
        "    return '\\n'.join(['KA'+ str(random.randint(10,99)) + random.choice(list(string.ascii_uppercase)) * 2 + str(random.randint(1000,9999)) for _ in range(15)])\n",
        "\n",
        "print(generate_vehicle_num())"
      ],
      "execution_count": 83,
      "outputs": [
        {
          "output_type": "stream",
          "text": [
            "KA52QQ5884\n",
            "KA75YY3535\n",
            "KA30II1901\n",
            "KA43PP1205\n",
            "KA87GG2759\n",
            "KA64UU3495\n",
            "KA33ZZ9193\n",
            "KA17EE4184\n",
            "KA10II8974\n",
            "KA79DD8116\n",
            "KA95UU6157\n",
            "KA67CC5718\n",
            "KA91BB7547\n",
            "KA91TT8509\n",
            "KA76FF3238\n"
          ],
          "name": "stdout"
        }
      ]
    },
    {
      "cell_type": "markdown",
      "metadata": {
        "id": "zvg4xFgOwRu1"
      },
      "source": [
        "6. Write the above again from scratch where KA can be changed to DL, and 1000/9999 ranges can be provided.  PTS:100"
      ]
    },
    {
      "cell_type": "code",
      "metadata": {
        "id": "Y_xH9JFqwYPE",
        "outputId": "255d5057-a3ee-4636-85cc-968d7ab21f5a",
        "colab": {
          "base_uri": "https://localhost:8080/"
        }
      },
      "source": [
        "import random\n",
        "import string \n",
        "\n",
        "def generate(state='KA', range1=1000, range2=9999):\n",
        "  return '\\n'.join([state + str(random.randint(10,99)) + random.choice(list(string.ascii_uppercase)) * 2 + str(random.randint(range1,range2)) for _ in range(15)])\n",
        "\n",
        "\n",
        "print(generate(state='DL', range1=1000, range2=9999 ))"
      ],
      "execution_count": 84,
      "outputs": [
        {
          "output_type": "stream",
          "text": [
            "DL47II6648\n",
            "DL84MM6298\n",
            "DL65XX7999\n",
            "DL29LL2608\n",
            "DL32CC8194\n",
            "DL37DD1410\n",
            "DL38PP4017\n",
            "DL54XX3533\n",
            "DL17XX5350\n",
            "DL65MM6079\n",
            "DL79YY1293\n",
            "DL70LL3793\n",
            "DL66AA1716\n",
            "DL69JJ3641\n",
            "DL62VV2055\n"
          ],
          "name": "stdout"
        }
      ]
    }
  ]
}