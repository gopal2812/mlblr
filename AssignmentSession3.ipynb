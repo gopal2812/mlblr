{
  "nbformat": 4,
  "nbformat_minor": 0,
  "metadata": {
    "colab": {
      "name": "Untitled54.ipynb",
      "provenance": [],
      "collapsed_sections": [],
      "authorship_tag": "ABX9TyN03fwn5WPo1HZ1cj5rPQ6W",
      "include_colab_link": true
    },
    "kernelspec": {
      "name": "python3",
      "display_name": "Python 3"
    }
  },
  "cells": [
    {
      "cell_type": "markdown",
      "metadata": {
        "id": "view-in-github",
        "colab_type": "text"
      },
      "source": [
        "<a href=\"https://colab.research.google.com/github/gopal2812/mlblr/blob/master/AssignmentSession3.ipynb\" target=\"_parent\"><img src=\"https://colab.research.google.com/assets/colab-badge.svg\" alt=\"Open In Colab\"/></a>"
      ]
    },
    {
      "cell_type": "markdown",
      "metadata": {
        "id": "-aEMImq0P0Jj"
      },
      "source": [
        "1. Write a function using only list filter lambda that can tell whether a number is a Fibonacci number or not. You can use a pre-calculated list/dict to store fab numbers till 10000 PTS:100"
      ]
    },
    {
      "cell_type": "code",
      "metadata": {
        "id": "1IU3aGk8P3vW"
      },
      "source": [
        "# A pre-calculated list to store fibonacci numbers till 10000\n",
        "fibonacci_numbers = [0, 1]\n",
        "while fibonacci_numbers[-1] + fibonacci_numbers[-2] < 10000:\n",
        "    fibonacci_numbers.append(fibonacci_numbers[-1] + fibonacci_numbers[-2])\n",
        "\n",
        "def check_fibonacci(num=int):\n",
        "    \"\"\"\n",
        "    This function checks if the number provided is a number in Fibonacci series\n",
        "    The input should be a positive integer less than 10,000. The function returns True or\n",
        "    False indicationg whether a the number provided is a number in Fibonacci series\n",
        "    \"\"\"\n",
        "    num_list=[num]\n",
        "    return bool((list(filter(lambda x: True if x in fibonacci_numbers else False, num_list))))\n",
        "\n",
        "print(check_fibonacci(1000))"
      ],
      "execution_count": null,
      "outputs": []
    },
    {
      "cell_type": "markdown",
      "metadata": {
        "id": "AAX4O2PYf5fg"
      },
      "source": [
        "2.1 Using list comprehension (and zip/lambda/etc if required) write five different expressions that: PTS:100\n",
        "a) add 2 iterables a and b such that a is even and b is odd"
      ]
    },
    {
      "cell_type": "code",
      "metadata": {
        "id": "Te1xLQCLewQS",
        "outputId": "dba852b5-5be4-46cb-bc8b-178461cf0f4a",
        "colab": {
          "base_uri": "https://localhost:8080/"
        }
      },
      "source": [
        "add_even_iter = lambda a, b : [x + y for x, y in zip(a, b) if x % 2 == 0 and y % 2 != 0]\n",
        "add_even_iter([4, 7, 10, 15, 20], [3, 6, 8, 1, 11])\n"
      ],
      "execution_count": 17,
      "outputs": [
        {
          "output_type": "execute_result",
          "data": {
            "text/plain": [
              "[7, 31]"
            ]
          },
          "metadata": {
            "tags": []
          },
          "execution_count": 17
        }
      ]
    },
    {
      "cell_type": "markdown",
      "metadata": {
        "id": "hElG-XyajDR6"
      },
      "source": [
        "2.2 strips every vowel from a string provided (tsai>>t s)"
      ]
    },
    {
      "cell_type": "code",
      "metadata": {
        "id": "BARWKQmzjIlS",
        "outputId": "3d2af8bf-2eaf-4f9d-ac9f-2586a7ed3584",
        "colab": {
          "base_uri": "https://localhost:8080/",
          "height": 35
        }
      },
      "source": [
        "def vowel_remover(in_str = str)->str:\n",
        "    \"\"\"\n",
        "    This function strips every vowel from a string provided\n",
        "    The input should be any string.\n",
        "    The function returns string without any vowels\n",
        "    \"\"\"\n",
        "    if not isinstance(in_str,str):\n",
        "        raise TypeError(\"Only strings allowed as input\")\n",
        "\n",
        "    pure_list = [x for x in in_str if x not in ('a','e','i','o','u')]\n",
        "    return \"\".join(pure_list)\n",
        "\n",
        "vowel_remover('tsai')"
      ],
      "execution_count": 18,
      "outputs": [
        {
          "output_type": "execute_result",
          "data": {
            "application/vnd.google.colaboratory.intrinsic+json": {
              "type": "string"
            },
            "text/plain": [
              "'ts'"
            ]
          },
          "metadata": {
            "tags": []
          },
          "execution_count": 18
        }
      ]
    },
    {
      "cell_type": "markdown",
      "metadata": {
        "id": "k6mrni2UjxKq"
      },
      "source": [
        "2.3 acts like a ReLU function for a 1D array"
      ]
    },
    {
      "cell_type": "code",
      "metadata": {
        "id": "j8qb0PEyjsBR",
        "outputId": "d73f0d67-e48e-4885-c011-3b511f258ea6",
        "colab": {
          "base_uri": "https://localhost:8080/"
        }
      },
      "source": [
        "# List comprehension to act like a ReLU function for a 1D array\n",
        "relu_func = lambda l : [x if x > 0 else 0 for x in l]\n",
        "\n",
        "relu_func([1.43, -0.76, 0.356, -1.89])  "
      ],
      "execution_count": 19,
      "outputs": [
        {
          "output_type": "execute_result",
          "data": {
            "text/plain": [
              "[1.43, 0, 0.356, 0]"
            ]
          },
          "metadata": {
            "tags": []
          },
          "execution_count": 19
        }
      ]
    },
    {
      "cell_type": "markdown",
      "metadata": {
        "id": "ucA7aSuckL7B"
      },
      "source": [
        "2.4 acts like a sigmoid function for a 1D array"
      ]
    },
    {
      "cell_type": "code",
      "metadata": {
        "id": "KwPRGmhekFuP",
        "outputId": "f5697cd8-1ba8-4788-f30e-129c91ad4fd6",
        "colab": {
          "base_uri": "https://localhost:8080/"
        }
      },
      "source": [
        "import numpy as np\n",
        "sigmoid = lambda x : [1/(1 + np.exp(-num)) for num in x]\n",
        "sigmoid([1, 2, -3, -4, 0])"
      ],
      "execution_count": 20,
      "outputs": [
        {
          "output_type": "execute_result",
          "data": {
            "text/plain": [
              "[0.7310585786300049,\n",
              " 0.8807970779778823,\n",
              " 0.04742587317756678,\n",
              " 0.01798620996209156,\n",
              " 0.5]"
            ]
          },
          "metadata": {
            "tags": []
          },
          "execution_count": 20
        }
      ]
    },
    {
      "cell_type": "markdown",
      "metadata": {
        "id": "cIlbdrRWlHRC"
      },
      "source": [
        "2.5 takes a small character string and shifts all characters by 5 (handle boundary conditions) tsai>>yxfn"
      ]
    },
    {
      "cell_type": "code",
      "metadata": {
        "id": "4ICYYSuolF93",
        "outputId": "d727b670-6e7e-4dd3-b20c-65177894355f",
        "colab": {
          "base_uri": "https://localhost:8080/",
          "height": 35
        }
      },
      "source": [
        "# List comprehension that takes a small character string and shifts all characters by 5\n",
        "alphabets = ['a', 'b', 'c', 'd', 'e', 'f', 'g', 'h', 'i', 'j', 'k', 'l', 'm', 'n', 'o', 'p', 'q', 'r', 's', 't', 'u', 'v', 'w', 'x', 'y', 'z']\n",
        "shift_characters = lambda s : \"\".join([alphabets[alphabets.index(x) + 5] if alphabets.index(x) < 21 else alphabets[alphabets.index(x) - 26 + 5] for x in s])    \n",
        "\n",
        "shift_characters('tsai')"
      ],
      "execution_count": 21,
      "outputs": [
        {
          "output_type": "execute_result",
          "data": {
            "application/vnd.google.colaboratory.intrinsic+json": {
              "type": "string"
            },
            "text/plain": [
              "'yxfn'"
            ]
          },
          "metadata": {
            "tags": []
          },
          "execution_count": 21
        }
      ]
    },
    {
      "cell_type": "markdown",
      "metadata": {
        "id": "C6wM15MwmCeq"
      },
      "source": [
        "3. A list comprehension expression that takes a ~200 word paragraph (write your own paragraph to check), and checks whether it has any of the swear words mentioned in https://github.com/RobertJGabriel/Google-profanity-words/blob/master/list.txt PTS:200"
      ]
    },
    {
      "cell_type": "code",
      "metadata": {
        "id": "bDjMsFPwmQNF",
        "outputId": "d6f01aa2-3b95-4c9e-bbd2-2fa5a1cef220",
        "colab": {
          "base_uri": "https://localhost:8080/"
        }
      },
      "source": [
        "import requests\n",
        "url = 'https://raw.githubusercontent.com/RobertJGabriel/Google-profanity-words/master/list.txt'\n",
        "r = requests.get(url)\n",
        "swear_words = r.text.split('\\n')\n",
        "paragraph1 = \"\"\"\n",
        "Jasprit Bumrah was the pick of the bowlers for the defending champions, taking four wickets including that of Marcus Stoinis, who scored 65 while trying to resurrect DC's appalling innings.\n",
        "Earlier, De Kock, Suryakumar Yadav, Kieron Pollard and Hardik starred with the bat to take MI to 200 for 5.\n",
        "\"\"\"\n",
        "paragraph2 = \"\"\"\n",
        "Go to hell. Naw, fuck that, you don’t deserve hell. Go somewhere worse than hell. Go to the hell where they keep Hitler and Pol Pot and people who show up at house shows with a six pack of beer and no money for the door. Ultra Hell.\n",
        "\"\"\"\n",
        "\n",
        "# Paragraph 1\n",
        "print(\"Paragraph 1\")\n",
        "print(any(word in paragraph1.split() for word in swear_words))\n",
        "print(\"Paragraph 2\")\n",
        "# Paragraph 2 \n",
        "print(any(word in paragraph2.split() for word in swear_words))"
      ],
      "execution_count": 22,
      "outputs": [
        {
          "output_type": "stream",
          "text": [
            "Paragraph 1\n",
            "False\n",
            "Paragraph 2\n",
            "True\n"
          ],
          "name": "stdout"
        }
      ]
    },
    {
      "cell_type": "markdown",
      "metadata": {
        "id": "PCK-2Xs8oJgw"
      },
      "source": [
        "4.1. Using reduce functions: PTS:100\n",
        "add only even numbers in a list"
      ]
    },
    {
      "cell_type": "code",
      "metadata": {
        "id": "JayBCtgmpKFS",
        "outputId": "4bcc1094-b110-4609-e65b-9c64d081e2ac",
        "colab": {
          "base_uri": "https://localhost:8080/"
        }
      },
      "source": [
        "import functools\n",
        "import operator\n",
        "def add_even_numbers(l: list):\n",
        "    \"\"\"\n",
        "    case 4.1:\n",
        "    using reduce function:\n",
        "    add only even numbers in a list\n",
        "    \"\"\"\n",
        "    return functools.reduce(operator.add, filter(lambda x: x % 2 == 0, l))\n",
        "\n",
        "add_even_numbers([1,2,3,4,5,6])"
      ],
      "execution_count": 23,
      "outputs": [
        {
          "output_type": "execute_result",
          "data": {
            "text/plain": [
              "12"
            ]
          },
          "metadata": {
            "tags": []
          },
          "execution_count": 23
        }
      ]
    },
    {
      "cell_type": "markdown",
      "metadata": {
        "id": "Uxgc0KPkp5Dt"
      },
      "source": [
        "4.2 find the biggest character in a string (printable ascii characters)"
      ]
    },
    {
      "cell_type": "code",
      "metadata": {
        "id": "Tr_TldokqCzV",
        "outputId": "d6fcf5ba-ddd1-4e46-977b-feadbe800673",
        "colab": {
          "base_uri": "https://localhost:8080/",
          "height": 35
        }
      },
      "source": [
        "def find_biggest_character(s: str):\n",
        "    \"\"\"\n",
        "    case 4.2:\n",
        "    using reduce function:\n",
        "     find the biggest character in a string (printable ascii characters)\n",
        "    \"\"\"\n",
        "    return functools.reduce(lambda a, b: a if ord(a) > ord(b) else b, s)\n",
        "\n",
        "find_biggest_character(\"gopalgupta\")"
      ],
      "execution_count": 24,
      "outputs": [
        {
          "output_type": "execute_result",
          "data": {
            "application/vnd.google.colaboratory.intrinsic+json": {
              "type": "string"
            },
            "text/plain": [
              "'u'"
            ]
          },
          "metadata": {
            "tags": []
          },
          "execution_count": 24
        }
      ]
    },
    {
      "cell_type": "markdown",
      "metadata": {
        "id": "EqVmU1w_qraW"
      },
      "source": [
        "4.3 adds every 3rd number in a list"
      ]
    },
    {
      "cell_type": "code",
      "metadata": {
        "id": "jNNzhIW7qy_S",
        "outputId": "54bb4e7c-1e81-414b-ff0f-aff4822a3137",
        "colab": {
          "base_uri": "https://localhost:8080/"
        }
      },
      "source": [
        "def add_third_element(l: list):\n",
        "    \"\"\"\n",
        "    case 4.3:\n",
        "    using reduce function:\n",
        "    adds every 3rd number in a list\n",
        "    \"\"\"\n",
        "    return functools.reduce(operator.add, l[2::3],0)\n",
        "\n",
        "add_third_element([1, 2, 3, 4, 5, 6]) "
      ],
      "execution_count": 25,
      "outputs": [
        {
          "output_type": "execute_result",
          "data": {
            "text/plain": [
              "9"
            ]
          },
          "metadata": {
            "tags": []
          },
          "execution_count": 25
        }
      ]
    },
    {
      "cell_type": "markdown",
      "metadata": {
        "id": "sHR45hLTs-uB"
      },
      "source": [
        "5. Using randint, random.choice and list comprehensions, write an expression that generates 15 random KADDAADDDD number plates, where KA is fixed, D stands for a digit, and A stands for Capital alphabets. 10<<DD<<99 & 1000<<DDDD<<9999 PTS:100"
      ]
    },
    {
      "cell_type": "code",
      "metadata": {
        "id": "8wi2mMSNs6GD",
        "outputId": "a33d4daa-6ba5-421e-e92e-f79d0c7ed01d",
        "colab": {
          "base_uri": "https://localhost:8080/"
        }
      },
      "source": [
        "import random\n",
        "import string\n",
        "\n",
        "def generate_vehicle_num(state: str = \"KA\"):\n",
        "    \"\"\"\n",
        "    case 5:\n",
        "    Using randint, random.choice and list comprehensions,\n",
        "    write an expression that generates 15 random KADDAADDDD number plates,\n",
        "    : where KA is fixed,\n",
        "    :  D stands for a digit,\n",
        "    : A stands for Capital alphabets. 10<<DD<<99\n",
        "    :  & 1000<<DDDD<<9999\n",
        "    \"\"\"\n",
        "    return '\\n'.join(['KA'+ str(random.randint(10,99)) + random.choice(list(string.ascii_uppercase)) * 2 + str(random.randint(1000,9999)) for _ in range(15)])\n",
        "\n",
        "print(generate_vehicle_num())"
      ],
      "execution_count": 26,
      "outputs": [
        {
          "output_type": "stream",
          "text": [
            "KA88VV8412\n",
            "KA96YY3747\n",
            "KA72MM1217\n",
            "KA30RR6715\n",
            "KA94ZZ2740\n",
            "KA89TT9002\n",
            "KA90ZZ4266\n",
            "KA79II2671\n",
            "KA34JJ5741\n",
            "KA10AA4368\n",
            "KA25UU7100\n",
            "KA77OO2112\n",
            "KA88SS6514\n",
            "KA13PP2659\n",
            "KA30YY3025\n"
          ],
          "name": "stdout"
        }
      ]
    },
    {
      "cell_type": "markdown",
      "metadata": {
        "id": "zvg4xFgOwRu1"
      },
      "source": [
        "6. Write the above again from scratch where KA can be changed to DL, and 1000/9999 ranges can be provided.  PTS:100"
      ]
    },
    {
      "cell_type": "code",
      "metadata": {
        "id": "Y_xH9JFqwYPE",
        "outputId": "16ff63e3-46a1-4beb-da78-a30980bfeebf",
        "colab": {
          "base_uri": "https://localhost:8080/"
        }
      },
      "source": [
        "import random\n",
        "import string \n",
        "\n",
        "def generate(state='KA', range1=1000, range2=9999):\n",
        "  return '\\n'.join([state + str(random.randint(10,99)) + random.choice(list(string.ascii_uppercase)) * 2 + str(random.randint(range1,range2)) for _ in range(15)])\n",
        "\n",
        "\n",
        "print(generate(state='DL', range1=1000, range2=9999 ))"
      ],
      "execution_count": 27,
      "outputs": [
        {
          "output_type": "stream",
          "text": [
            "DL16HH9380\n",
            "DL17MM8278\n",
            "DL58JJ7885\n",
            "DL75LL1596\n",
            "DL78VV7704\n",
            "DL39WW8424\n",
            "DL39DD8071\n",
            "DL86JJ1594\n",
            "DL38XX5669\n",
            "DL79MM4318\n",
            "DL63CC4727\n",
            "DL76VV5189\n",
            "DL49TT2117\n",
            "DL72ZZ7898\n",
            "DL14YY2309\n"
          ],
          "name": "stdout"
        }
      ]
    }
  ]
}