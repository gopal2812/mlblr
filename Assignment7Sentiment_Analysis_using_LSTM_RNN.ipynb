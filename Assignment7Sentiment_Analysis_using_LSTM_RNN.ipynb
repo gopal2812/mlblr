{
  "nbformat": 4,
  "nbformat_minor": 0,
  "metadata": {
    "colab": {
      "name": "Sentiment_Analysis_using_LSTM_RNN.ipynb",
      "provenance": [],
      "collapsed_sections": [],
      "include_colab_link": true
    },
    "kernelspec": {
      "name": "python3",
      "display_name": "Python 3"
    },
    "accelerator": "GPU"
  },
  "cells": [
    {
      "cell_type": "markdown",
      "metadata": {
        "id": "view-in-github",
        "colab_type": "text"
      },
      "source": [
        "<a href=\"https://colab.research.google.com/github/gopal2812/mlblr/blob/master/Assignment7Sentiment_Analysis_using_LSTM_RNN.ipynb\" target=\"_parent\"><img src=\"https://colab.research.google.com/assets/colab-badge.svg\" alt=\"Open In Colab\"/></a>"
      ]
    },
    {
      "cell_type": "markdown",
      "metadata": {
        "id": "GYiRsFGD6iUC"
      },
      "source": [
        "# 0 TorchText"
      ]
    },
    {
      "cell_type": "markdown",
      "metadata": {
        "id": "tp5IzBGsPGHs"
      },
      "source": [
        "## Dataset Preview\n",
        "\n",
        "Your first step to deep learning in NLP. We will be mostly using PyTorch. Just like torchvision, PyTorch provides an official library, torchtext, for handling text-processing pipelines. \n",
        "\n",
        "We will be using standford sentiment Treebank dataset."
      ]
    },
    {
      "cell_type": "code",
      "metadata": {
        "colab": {
          "base_uri": "https://localhost:8080/"
        },
        "id": "lIZ5b8Gz6KJ_",
        "outputId": "8628a862-c610-4470-b188-8eb0daebbc89"
      },
      "source": [
        "from google.colab import drive\r\n",
        "drive.mount('/content/gdrive/')\r\n",
        "\r\n"
      ],
      "execution_count": 1,
      "outputs": [
        {
          "output_type": "stream",
          "text": [
            "Mounted at /content/gdrive/\n"
          ],
          "name": "stdout"
        }
      ]
    },
    {
      "cell_type": "code",
      "metadata": {
        "colab": {
          "base_uri": "https://localhost:8080/"
        },
        "id": "e3gHS9sz7mb-",
        "outputId": "f8bc3f7d-c4e7-4d29-c61e-e776bf0fdef0"
      },
      "source": [
        "!ls /content/gdrive/MyDrive/end/stanfordSentimentTreebank.zip\r\n",
        "!cp '/content/gdrive/MyDrive/end/stanfordSentimentTreebank.zip' stanfordSentimentTreebank.zip\r\n",
        "!unzip -q -o stanfordSentimentTreebank.zip "
      ],
      "execution_count": 2,
      "outputs": [
        {
          "output_type": "stream",
          "text": [
            "/content/gdrive/MyDrive/end/stanfordSentimentTreebank.zip\n"
          ],
          "name": "stdout"
        }
      ]
    },
    {
      "cell_type": "code",
      "metadata": {
        "colab": {
          "base_uri": "https://localhost:8080/"
        },
        "id": "ImEfBDFR9pMo",
        "outputId": "6eddef7d-19a6-440b-8bec-617828c35ead"
      },
      "source": [
        "#!rm -rf stanfordSentimentTreebank\r\n",
        "!ls -l stanfordSentimentTreebank/"
      ],
      "execution_count": 3,
      "outputs": [
        {
          "output_type": "stream",
          "text": [
            "total 19920\n",
            "-rwxr-xr-x 1 root root  1290263 Oct  9  2013 datasetSentences.txt\n",
            "-rwxr-xr-x 1 root root    83764 Oct  9  2013 datasetSplit.txt\n",
            "-rwxr-xr-x 1 root root 12010637 Oct  9  2013 dictionary.txt\n",
            "-rwxr-xr-x 1 root root  1195613 Feb  2  2013 original_rt_snippets.txt\n",
            "-rwxr-xr-x 1 root root     2357 Oct  9  2013 README.txt\n",
            "-rwxr-xr-x 1 root root  3263577 Oct  9  2013 sentiment_labels.txt\n",
            "-rwxr-xr-x 1 root root  1226029 Feb  2  2013 SOStr.txt\n",
            "-rwxr-xr-x 1 root root  1308918 Feb  2  2013 STree.txt\n"
          ],
          "name": "stdout"
        }
      ]
    },
    {
      "cell_type": "code",
      "metadata": {
        "colab": {
          "base_uri": "https://localhost:8080/",
          "height": 204
        },
        "id": "_PZIPCpVEyjj",
        "outputId": "1f3eec49-41ee-4f8e-e19f-5cf3d3edb096"
      },
      "source": [
        "import pandas as pd\r\n",
        "df = pd.read_csv('stanfordSentimentTreebank/datasetSentences.txt',sep='\\t')\r\n",
        "df.tail()\r\n"
      ],
      "execution_count": 4,
      "outputs": [
        {
          "output_type": "execute_result",
          "data": {
            "text/html": [
              "<div>\n",
              "<style scoped>\n",
              "    .dataframe tbody tr th:only-of-type {\n",
              "        vertical-align: middle;\n",
              "    }\n",
              "\n",
              "    .dataframe tbody tr th {\n",
              "        vertical-align: top;\n",
              "    }\n",
              "\n",
              "    .dataframe thead th {\n",
              "        text-align: right;\n",
              "    }\n",
              "</style>\n",
              "<table border=\"1\" class=\"dataframe\">\n",
              "  <thead>\n",
              "    <tr style=\"text-align: right;\">\n",
              "      <th></th>\n",
              "      <th>sentence_index</th>\n",
              "      <th>sentence</th>\n",
              "    </tr>\n",
              "  </thead>\n",
              "  <tbody>\n",
              "    <tr>\n",
              "      <th>11850</th>\n",
              "      <td>11851</td>\n",
              "      <td>A real snooze .</td>\n",
              "    </tr>\n",
              "    <tr>\n",
              "      <th>11851</th>\n",
              "      <td>11852</td>\n",
              "      <td>No surprises .</td>\n",
              "    </tr>\n",
              "    <tr>\n",
              "      <th>11852</th>\n",
              "      <td>11853</td>\n",
              "      <td>We 've seen the hippie-turned-yuppie plot befo...</td>\n",
              "    </tr>\n",
              "    <tr>\n",
              "      <th>11853</th>\n",
              "      <td>11854</td>\n",
              "      <td>Her fans walked out muttering words like `` ho...</td>\n",
              "    </tr>\n",
              "    <tr>\n",
              "      <th>11854</th>\n",
              "      <td>11855</td>\n",
              "      <td>In this case zero .</td>\n",
              "    </tr>\n",
              "  </tbody>\n",
              "</table>\n",
              "</div>"
            ],
            "text/plain": [
              "       sentence_index                                           sentence\n",
              "11850           11851                                    A real snooze .\n",
              "11851           11852                                     No surprises .\n",
              "11852           11853  We 've seen the hippie-turned-yuppie plot befo...\n",
              "11853           11854  Her fans walked out muttering words like `` ho...\n",
              "11854           11855                                In this case zero ."
            ]
          },
          "metadata": {
            "tags": []
          },
          "execution_count": 4
        }
      ]
    },
    {
      "cell_type": "code",
      "metadata": {
        "colab": {
          "base_uri": "https://localhost:8080/",
          "height": 204
        },
        "id": "HexrEBYVM6fv",
        "outputId": "0992026c-6940-4080-d964-95d521c05c6c"
      },
      "source": [
        "df = pd.read_csv('stanfordSentimentTreebank/datasetSplit.txt',sep='\\t')\r\n",
        "df.tail()\r\n"
      ],
      "execution_count": 5,
      "outputs": [
        {
          "output_type": "execute_result",
          "data": {
            "text/html": [
              "<div>\n",
              "<style scoped>\n",
              "    .dataframe tbody tr th:only-of-type {\n",
              "        vertical-align: middle;\n",
              "    }\n",
              "\n",
              "    .dataframe tbody tr th {\n",
              "        vertical-align: top;\n",
              "    }\n",
              "\n",
              "    .dataframe thead th {\n",
              "        text-align: right;\n",
              "    }\n",
              "</style>\n",
              "<table border=\"1\" class=\"dataframe\">\n",
              "  <thead>\n",
              "    <tr style=\"text-align: right;\">\n",
              "      <th></th>\n",
              "      <th>sentence_index,splitset_label</th>\n",
              "    </tr>\n",
              "  </thead>\n",
              "  <tbody>\n",
              "    <tr>\n",
              "      <th>11850</th>\n",
              "      <td>11851,1</td>\n",
              "    </tr>\n",
              "    <tr>\n",
              "      <th>11851</th>\n",
              "      <td>11852,1</td>\n",
              "    </tr>\n",
              "    <tr>\n",
              "      <th>11852</th>\n",
              "      <td>11853,1</td>\n",
              "    </tr>\n",
              "    <tr>\n",
              "      <th>11853</th>\n",
              "      <td>11854,1</td>\n",
              "    </tr>\n",
              "    <tr>\n",
              "      <th>11854</th>\n",
              "      <td>11855,1</td>\n",
              "    </tr>\n",
              "  </tbody>\n",
              "</table>\n",
              "</div>"
            ],
            "text/plain": [
              "      sentence_index,splitset_label\n",
              "11850                       11851,1\n",
              "11851                       11852,1\n",
              "11852                       11853,1\n",
              "11853                       11854,1\n",
              "11854                       11855,1"
            ]
          },
          "metadata": {
            "tags": []
          },
          "execution_count": 5
        }
      ]
    },
    {
      "cell_type": "code",
      "metadata": {
        "colab": {
          "base_uri": "https://localhost:8080/",
          "height": 204
        },
        "id": "84HQbq7uNMab",
        "outputId": "c4290ed3-6821-482c-8f86-ed6ba87972cf"
      },
      "source": [
        "df = pd.read_csv('stanfordSentimentTreebank/SOStr.txt',sep='\\t')\r\n",
        "df.tail()\r\n"
      ],
      "execution_count": 6,
      "outputs": [
        {
          "output_type": "execute_result",
          "data": {
            "text/html": [
              "<div>\n",
              "<style scoped>\n",
              "    .dataframe tbody tr th:only-of-type {\n",
              "        vertical-align: middle;\n",
              "    }\n",
              "\n",
              "    .dataframe tbody tr th {\n",
              "        vertical-align: top;\n",
              "    }\n",
              "\n",
              "    .dataframe thead th {\n",
              "        text-align: right;\n",
              "    }\n",
              "</style>\n",
              "<table border=\"1\" class=\"dataframe\">\n",
              "  <thead>\n",
              "    <tr style=\"text-align: right;\">\n",
              "      <th></th>\n",
              "      <th>The|Rock|is|destined|to|be|the|21st|Century|'s|new|``|Conan|''|and|that|he|'s|going|to|make|a|splash|even|greater|than|Arnold|Schwarzenegger|,|Jean-Claud|Van|Damme|or|Steven|Segal|.</th>\n",
              "    </tr>\n",
              "  </thead>\n",
              "  <tbody>\n",
              "    <tr>\n",
              "      <th>11849</th>\n",
              "      <td>A|real|snooze|.</td>\n",
              "    </tr>\n",
              "    <tr>\n",
              "      <th>11850</th>\n",
              "      <td>No|surprises|.</td>\n",
              "    </tr>\n",
              "    <tr>\n",
              "      <th>11851</th>\n",
              "      <td>We|'ve|seen|the|hippie-turned-yuppie|plot|befo...</td>\n",
              "    </tr>\n",
              "    <tr>\n",
              "      <th>11852</th>\n",
              "      <td>Her|fans|walked|out|muttering|words|like|``|ho...</td>\n",
              "    </tr>\n",
              "    <tr>\n",
              "      <th>11853</th>\n",
              "      <td>In|this|case|zero|.</td>\n",
              "    </tr>\n",
              "  </tbody>\n",
              "</table>\n",
              "</div>"
            ],
            "text/plain": [
              "      The|Rock|is|destined|to|be|the|21st|Century|'s|new|``|Conan|''|and|that|he|'s|going|to|make|a|splash|even|greater|than|Arnold|Schwarzenegger|,|Jean-Claud|Van|Damme|or|Steven|Segal|.\n",
              "11849                                    A|real|snooze|.                                                                                                                                   \n",
              "11850                                     No|surprises|.                                                                                                                                   \n",
              "11851  We|'ve|seen|the|hippie-turned-yuppie|plot|befo...                                                                                                                                   \n",
              "11852  Her|fans|walked|out|muttering|words|like|``|ho...                                                                                                                                   \n",
              "11853                                In|this|case|zero|.                                                                                                                                   "
            ]
          },
          "metadata": {
            "tags": []
          },
          "execution_count": 6
        }
      ]
    },
    {
      "cell_type": "code",
      "metadata": {
        "colab": {
          "base_uri": "https://localhost:8080/",
          "height": 204
        },
        "id": "7DiO6b_uOBY9",
        "outputId": "9ffbb1aa-a37f-4798-e2a7-5b9e350d445f"
      },
      "source": [
        "df = pd.read_csv('stanfordSentimentTreebank/sentiment_labels.txt',sep='\\t')\r\n",
        "df.tail()"
      ],
      "execution_count": 7,
      "outputs": [
        {
          "output_type": "execute_result",
          "data": {
            "text/html": [
              "<div>\n",
              "<style scoped>\n",
              "    .dataframe tbody tr th:only-of-type {\n",
              "        vertical-align: middle;\n",
              "    }\n",
              "\n",
              "    .dataframe tbody tr th {\n",
              "        vertical-align: top;\n",
              "    }\n",
              "\n",
              "    .dataframe thead th {\n",
              "        text-align: right;\n",
              "    }\n",
              "</style>\n",
              "<table border=\"1\" class=\"dataframe\">\n",
              "  <thead>\n",
              "    <tr style=\"text-align: right;\">\n",
              "      <th></th>\n",
              "      <th>phrase ids|sentiment values</th>\n",
              "    </tr>\n",
              "  </thead>\n",
              "  <tbody>\n",
              "    <tr>\n",
              "      <th>239227</th>\n",
              "      <td>239227|0.36111</td>\n",
              "    </tr>\n",
              "    <tr>\n",
              "      <th>239228</th>\n",
              "      <td>239228|0.38889</td>\n",
              "    </tr>\n",
              "    <tr>\n",
              "      <th>239229</th>\n",
              "      <td>239229|0.33333</td>\n",
              "    </tr>\n",
              "    <tr>\n",
              "      <th>239230</th>\n",
              "      <td>239230|0.88889</td>\n",
              "    </tr>\n",
              "    <tr>\n",
              "      <th>239231</th>\n",
              "      <td>239231|0.5</td>\n",
              "    </tr>\n",
              "  </tbody>\n",
              "</table>\n",
              "</div>"
            ],
            "text/plain": [
              "       phrase ids|sentiment values\n",
              "239227              239227|0.36111\n",
              "239228              239228|0.38889\n",
              "239229              239229|0.33333\n",
              "239230              239230|0.88889\n",
              "239231                  239231|0.5"
            ]
          },
          "metadata": {
            "tags": []
          },
          "execution_count": 7
        }
      ]
    },
    {
      "cell_type": "code",
      "metadata": {
        "colab": {
          "base_uri": "https://localhost:8080/",
          "height": 204
        },
        "id": "NZ4yCv_qOCeo",
        "outputId": "7ac3c1f7-9772-4ed0-851f-9b3f94d645a3"
      },
      "source": [
        "df = pd.read_csv('stanfordSentimentTreebank/dictionary.txt',sep='\\t')\r\n",
        "df.tail()"
      ],
      "execution_count": 8,
      "outputs": [
        {
          "output_type": "execute_result",
          "data": {
            "text/html": [
              "<div>\n",
              "<style scoped>\n",
              "    .dataframe tbody tr th:only-of-type {\n",
              "        vertical-align: middle;\n",
              "    }\n",
              "\n",
              "    .dataframe tbody tr th {\n",
              "        vertical-align: top;\n",
              "    }\n",
              "\n",
              "    .dataframe thead th {\n",
              "        text-align: right;\n",
              "    }\n",
              "</style>\n",
              "<table border=\"1\" class=\"dataframe\">\n",
              "  <thead>\n",
              "    <tr style=\"text-align: right;\">\n",
              "      <th></th>\n",
              "      <th>!|0</th>\n",
              "    </tr>\n",
              "  </thead>\n",
              "  <tbody>\n",
              "    <tr>\n",
              "      <th>239226</th>\n",
              "      <td>zoning ordinances to protect your community fr...</td>\n",
              "    </tr>\n",
              "    <tr>\n",
              "      <th>239227</th>\n",
              "      <td>zzzzzzzzz|179256</td>\n",
              "    </tr>\n",
              "    <tr>\n",
              "      <th>239228</th>\n",
              "      <td>élan|220442</td>\n",
              "    </tr>\n",
              "    <tr>\n",
              "      <th>239229</th>\n",
              "      <td>É|220443</td>\n",
              "    </tr>\n",
              "    <tr>\n",
              "      <th>239230</th>\n",
              "      <td>É um passatempo descompromissado|220444</td>\n",
              "    </tr>\n",
              "  </tbody>\n",
              "</table>\n",
              "</div>"
            ],
            "text/plain": [
              "                                                      !|0\n",
              "239226  zoning ordinances to protect your community fr...\n",
              "239227                                   zzzzzzzzz|179256\n",
              "239228                                        élan|220442\n",
              "239229                                           É|220443\n",
              "239230            É um passatempo descompromissado|220444"
            ]
          },
          "metadata": {
            "tags": []
          },
          "execution_count": 8
        }
      ]
    },
    {
      "cell_type": "markdown",
      "metadata": {
        "id": "NKuMn8fHtdYn"
      },
      "source": [
        "## Prepare the labels into 25 category"
      ]
    },
    {
      "cell_type": "code",
      "metadata": {
        "id": "PDR7Tg_v9FBa"
      },
      "source": [
        "import sys\r\n",
        "import pandas as pd\r\n",
        "\r\n",
        "dir_corpus = ''\r\n",
        "\r\n",
        "def read_text():\r\n",
        "  ifname = dir_corpus + 'stanfordSentimentTreebank/SOStr.txt'\r\n",
        "  lines = open(ifname, 'r').read().split('\\n')\r\n",
        "\r\n",
        "  texts = []\r\n",
        "  for line in lines:\r\n",
        "    params = line.split('|')\r\n",
        "    if len(params) > 1:\r\n",
        "      text = ' '.join(params)\r\n",
        "      texts.append(text)\r\n",
        "\r\n",
        "  return texts\r\n",
        "\r\n",
        "def read_splitlabel():\r\n",
        "  ifname = dir_corpus + 'stanfordSentimentTreebank/datasetSplit.txt'\r\n",
        "  lines = open(ifname, 'r').read().split('\\n')\r\n",
        "\r\n",
        "  splitlabels = []\r\n",
        "  for line in lines[1:]:\r\n",
        "    params = line.split(',')\r\n",
        "    if len(params) == 2:\r\n",
        "      splitlabels.append(int(params[1]))\r\n",
        "\t\r\n",
        "  return splitlabels\r\n",
        "\r\n",
        "def read_sentiscore():\r\n",
        "  ifname = dir_corpus + 'stanfordSentimentTreebank/sentiment_labels.txt'\r\n",
        "  lines = open(ifname, 'r').read().split('\\n')\r\n",
        "\r\n",
        "  sentiscores = []\r\n",
        "  for line in lines[1:]:\r\n",
        "    params = line.split('|')\r\n",
        "    if len(params) == 2:\r\n",
        "      sentiscores.append(float(params[1]))\r\n",
        "\r\n",
        "  return sentiscores\r\n",
        "\r\n",
        "def read_phraseid():\r\n",
        "  ifname = dir_corpus + 'stanfordSentimentTreebank/dictionary.txt'\r\n",
        "  lines = open(ifname, 'r').read().split('\\n')\r\n",
        "\r\n",
        "  phraseid = {}\r\n",
        "  for line in lines:\r\n",
        "    params = line.split('|')\r\n",
        "    if len(params) == 2:\r\n",
        "      phraseid[params[0]] = int(params[1])\r\n",
        "\r\n",
        "  return phraseid\r\n",
        "\r\n",
        "def labelize(x_label):\r\n",
        "  x, label = x_label\r\n",
        "  y = []\r\n",
        "  for l in label:\r\n",
        "    if l <= 0.04:\r\n",
        "      y.append(1)\r\n",
        "    elif l <= 0.08:\r\n",
        "      y.append(2)\r\n",
        "    elif l <= 0.12:\r\n",
        "      y.append(3)\r\n",
        "    elif l <= 0.16:\r\n",
        "      y.append(4)\r\n",
        "    elif l <= 0.20:\r\n",
        "      y.append(5)\r\n",
        "    elif l <= 0.24:\r\n",
        "      y.append(6)\r\n",
        "    elif l <= 0.28:\r\n",
        "      y.append(7)\r\n",
        "    elif l <= 0.32:\r\n",
        "      y.append(8)\r\n",
        "    elif l <= 0.36:\r\n",
        "      y.append(9)\r\n",
        "    elif l <= 0.40:\r\n",
        "      y.append(10)\r\n",
        "    elif l <= 0.44:\r\n",
        "      y.append(11)\r\n",
        "    elif l <= 0.48:\r\n",
        "      y.append(12)\r\n",
        "    elif l <= 0.52:\r\n",
        "      y.append(13)\r\n",
        "    elif l <= 0.56:\r\n",
        "      y.append(14)\r\n",
        "    elif l <= 0.60:\r\n",
        "      y.append(15)\r\n",
        "    elif l <= 0.64:\r\n",
        "      y.append(16)\r\n",
        "    elif l <= 0.68:\r\n",
        "      y.append(17)\r\n",
        "    elif l <= 0.72:\r\n",
        "      y.append(18)\r\n",
        "    elif l <= 0.76:\r\n",
        "      y.append(19)\r\n",
        "    elif l <= 0.80:\r\n",
        "      y.append(20)\r\n",
        "    elif l <= 0.84:\r\n",
        "      y.append(21)\r\n",
        "    elif l <= 0.88:\r\n",
        "      y.append(22)\r\n",
        "    elif l <= 0.92:\r\n",
        "      y.append(23)\r\n",
        "    elif l <= 0.96:\r\n",
        "      y.append(24)\r\n",
        "    else:\r\n",
        "      y.append(25)\r\n",
        "\r\n",
        "  print(len(y))\r\n",
        "  return (x, y)\r\n",
        "\r\n",
        "def prepare_label():\r\n",
        "  texts = read_text()\r\n",
        "  splitlabels = read_splitlabel()\r\n",
        "  sentiscores = read_sentiscore()\r\n",
        "  phraseid = read_phraseid()\r\n",
        "\r\n",
        "  train_text = []\r\n",
        "  train_label = []\r\n",
        "\t\r\n",
        "  valid_text = []\r\n",
        "  valid_label = []\r\n",
        "\r\n",
        "  test_text = []\r\n",
        "  test_label = []\r\n",
        "\r\n",
        "  n_sample = len(texts)\r\n",
        "  if n_sample == len(splitlabels) and len(sentiscores) == len(phraseid):\r\n",
        "    print('%d samples'%(n_sample))\r\n",
        "  else:\r\n",
        "    print('reading fail')\r\n",
        "\t#for i, didx in enumerate(splitlabels):\r\n",
        "\t#\tprint(didx)\r\n",
        "  for i, didx in enumerate(splitlabels):\r\n",
        "    if didx == 1:\r\n",
        "      list_text = train_text\r\n",
        "      list_label = train_label\r\n",
        "    elif didx == 3:\r\n",
        "      #print(\"3\")\r\n",
        "      list_text = valid_text\r\n",
        "      list_label = valid_label\r\n",
        "    elif didx == 2:\r\n",
        "      list_text = test_text\r\n",
        "      list_label = test_label\r\n",
        "    list_text.append(texts[i])\r\n",
        "    list_label.append(sentiscores[phraseid[texts[i]]])\r\n",
        "  print(len(train_text), len(train_label))\r\n",
        "  return (labelize((train_text, train_label)), labelize((valid_text, valid_label)), labelize((test_text, test_label)))"
      ],
      "execution_count": 9,
      "outputs": []
    },
    {
      "cell_type": "code",
      "metadata": {
        "colab": {
          "base_uri": "https://localhost:8080/"
        },
        "id": "9lhxScgi_CfU",
        "outputId": "264d6291-6766-4b52-ea79-14e7fd618efb"
      },
      "source": [
        "#!ls\r\n",
        "(train, train_label), (valid, valid_label), (test, test_label) = prepare_label()\r\n",
        "set(train_label)"
      ],
      "execution_count": 10,
      "outputs": [
        {
          "output_type": "stream",
          "text": [
            "11855 samples\n",
            "8544 8544\n",
            "8544\n",
            "1101\n",
            "2210\n"
          ],
          "name": "stdout"
        },
        {
          "output_type": "execute_result",
          "data": {
            "text/plain": [
              "{1,\n",
              " 2,\n",
              " 3,\n",
              " 4,\n",
              " 5,\n",
              " 6,\n",
              " 7,\n",
              " 8,\n",
              " 9,\n",
              " 10,\n",
              " 11,\n",
              " 12,\n",
              " 13,\n",
              " 14,\n",
              " 15,\n",
              " 16,\n",
              " 17,\n",
              " 18,\n",
              " 19,\n",
              " 20,\n",
              " 21,\n",
              " 22,\n",
              " 23,\n",
              " 24,\n",
              " 25}"
            ]
          },
          "metadata": {
            "tags": []
          },
          "execution_count": 10
        }
      ]
    },
    {
      "cell_type": "code",
      "metadata": {
        "colab": {
          "base_uri": "https://localhost:8080/"
        },
        "id": "HpFek-iwH0bW",
        "outputId": "1f63b372-2cfa-4cca-df0f-d97f813a87ea"
      },
      "source": [
        "(len(train), len(valid), len(test))\r\n",
        "#len(train_label)"
      ],
      "execution_count": 11,
      "outputs": [
        {
          "output_type": "execute_result",
          "data": {
            "text/plain": [
              "(8544, 1101, 2210)"
            ]
          },
          "metadata": {
            "tags": []
          },
          "execution_count": 11
        }
      ]
    },
    {
      "cell_type": "markdown",
      "metadata": {
        "id": "XJ6o_79ISSVb"
      },
      "source": [
        "## Defining Fields"
      ]
    },
    {
      "cell_type": "markdown",
      "metadata": {
        "id": "e63g08ijOrf7"
      },
      "source": [
        "Now we shall be defining LABEL as a LabelField, which is a subclass of Field that sets sequen tial to False (as it’s our numerical category class). SENTENCE is a standard Field object, where we have decided to use the spaCy tokenizer and convert all the text to lower‐ case."
      ]
    },
    {
      "cell_type": "code",
      "metadata": {
        "id": "qk8IP4SK1Lrp",
        "colab": {
          "base_uri": "https://localhost:8080/"
        },
        "outputId": "af32788d-f05b-487a-9a05-8c791e17b578"
      },
      "source": [
        "# Import Library\n",
        "import random\n",
        "import torch, torchtext\n",
        "from torchtext import data \n",
        "\n",
        "# Manual Seed\n",
        "SEED = 43\n",
        "torch.manual_seed(SEED)"
      ],
      "execution_count": 12,
      "outputs": [
        {
          "output_type": "execute_result",
          "data": {
            "text/plain": [
              "<torch._C.Generator at 0x7fa6817de240>"
            ]
          },
          "metadata": {
            "tags": []
          },
          "execution_count": 12
        }
      ]
    },
    {
      "cell_type": "code",
      "metadata": {
        "id": "u6bKQax2Mf_U",
        "colab": {
          "base_uri": "https://localhost:8080/"
        },
        "outputId": "34049c9e-5249-4876-8705-e45fb111e64d"
      },
      "source": [
        "Sentence = data.Field(sequential = True, tokenize = 'spacy', batch_first =True, include_lengths=True)\n",
        "Label = data.LabelField(tokenize ='spacy', is_target=True, batch_first =True, sequential =False)\n",
        "\n",
        "print(Sentence)"
      ],
      "execution_count": 13,
      "outputs": [
        {
          "output_type": "stream",
          "text": [
            "<torchtext.data.field.Field object at 0x7fa660717940>\n"
          ],
          "name": "stdout"
        }
      ]
    },
    {
      "cell_type": "markdown",
      "metadata": {
        "id": "mX-lYIe_O7Vy"
      },
      "source": [
        "Having defined those fields, we now need to produce a list that maps them onto the list of rows that are in the CSV:"
      ]
    },
    {
      "cell_type": "code",
      "metadata": {
        "id": "VawdWq36O6td"
      },
      "source": [
        "fields = [('sentence', Sentence),('labels',Label)]"
      ],
      "execution_count": 14,
      "outputs": []
    },
    {
      "cell_type": "markdown",
      "metadata": {
        "id": "ZbtZ-Ph2P1xL"
      },
      "source": [
        "Armed with our declared fields, lets convert from pandas to list to torchtext. We could also use TabularDataset to apply that definition to the CSV directly but showing an alternative approach too."
      ]
    },
    {
      "cell_type": "code",
      "metadata": {
        "id": "L3OLcJ5B7rHz"
      },
      "source": [
        "example_train = [data.Example.fromlist([train[i], train_label[i]], fields) for i in range(len(train))]\r\n",
        "example_valid = [data.Example.fromlist([valid[i], valid_label[i]], fields) for i in range(len(valid))] "
      ],
      "execution_count": 15,
      "outputs": []
    },
    {
      "cell_type": "code",
      "metadata": {
        "id": "nT-flpH-P1cd"
      },
      "source": [
        "# Creating dataset\n",
        "#twitterDataset = data.TabularDataset(path=\"tweets.csv\", format=\"CSV\", fields=fields, skip_header=True)\n",
        "\n",
        "trainDataset = data.Dataset(example_train, fields)\n",
        "validDataset = data.Dataset(example_valid, fields)"
      ],
      "execution_count": 16,
      "outputs": []
    },
    {
      "cell_type": "markdown",
      "metadata": {
        "id": "g6ZnyCPaR08F"
      },
      "source": [
        "Finally, we can split into training, testing, and validation sets by using the split() method:"
      ]
    },
    {
      "cell_type": "code",
      "metadata": {
        "id": "ykvsCGQMR6UD",
        "colab": {
          "base_uri": "https://localhost:8080/"
        },
        "outputId": "7e9e97a7-aa22-4c4d-930e-6c22dd0903f6"
      },
      "source": [
        "(len(trainDataset), len(validDataset))"
      ],
      "execution_count": 17,
      "outputs": [
        {
          "output_type": "execute_result",
          "data": {
            "text/plain": [
              "(8544, 1101)"
            ]
          },
          "metadata": {
            "tags": []
          },
          "execution_count": 17
        }
      ]
    },
    {
      "cell_type": "markdown",
      "metadata": {
        "id": "kix8P2IKSBaV"
      },
      "source": [
        "An example from the dataset:"
      ]
    },
    {
      "cell_type": "code",
      "metadata": {
        "id": "dUpEOQruR9JL",
        "colab": {
          "base_uri": "https://localhost:8080/"
        },
        "outputId": "aa755c29-3fa0-4614-821d-ad76f2086f9c"
      },
      "source": [
        "vars(trainDataset.examples[10])"
      ],
      "execution_count": 18,
      "outputs": [
        {
          "output_type": "execute_result",
          "data": {
            "text/plain": [
              "{'labels': 23,\n",
              " 'sentence': ['Good',\n",
              "  'fun',\n",
              "  ',',\n",
              "  'good',\n",
              "  'action',\n",
              "  ',',\n",
              "  'good',\n",
              "  'acting',\n",
              "  ',',\n",
              "  'good',\n",
              "  'dialogue',\n",
              "  ',',\n",
              "  'good',\n",
              "  'pace',\n",
              "  ',',\n",
              "  'good',\n",
              "  'cinematography',\n",
              "  '.']}"
            ]
          },
          "metadata": {
            "tags": []
          },
          "execution_count": 18
        }
      ]
    },
    {
      "cell_type": "markdown",
      "metadata": {
        "id": "AKdllP3FST4N"
      },
      "source": [
        "## Building Vocabulary"
      ]
    },
    {
      "cell_type": "markdown",
      "metadata": {
        "id": "SuvWQ-SpSmSz"
      },
      "source": [
        "At this point we would have built a one-hot encoding of each word that is present in the dataset—a rather tedious process. Thankfully, torchtext will do this for us, and will also allow a max_size parameter to be passed in to limit the vocabu‐ lary to the most common words. This is normally done to prevent the construction of a huge, memory-hungry model. We don’t want our GPUs too overwhelmed, after all. \n",
        "\n",
        "Let’s limit the vocabulary to a maximum of 5000 words in our training set:\n"
      ]
    },
    {
      "cell_type": "code",
      "metadata": {
        "id": "mx955u93SGeY",
        "colab": {
          "base_uri": "https://localhost:8080/"
        },
        "outputId": "9e00cf72-22ba-48c7-b478-11dd5fe478f6"
      },
      "source": [
        "#Tweet.build_vocab(train)\n",
        "#Label.build_vocab(train)\n",
        "MAX_VOCAB_SIZE = 25_000\n",
        "\n",
        "Sentence.build_vocab(trainDataset, \n",
        "                     max_size = MAX_VOCAB_SIZE, \n",
        "                     vectors = \"glove.6B.100d\", \n",
        "                     unk_init = torch.Tensor.normal_)\n",
        "\n",
        "Label.build_vocab(trainDataset)"
      ],
      "execution_count": 19,
      "outputs": [
        {
          "output_type": "stream",
          "text": [
            ".vector_cache/glove.6B.zip: 862MB [06:41, 2.15MB/s]                           \n",
            "100%|█████████▉| 398869/400000 [00:16<00:00, 25014.31it/s]"
          ],
          "name": "stderr"
        }
      ]
    },
    {
      "cell_type": "markdown",
      "metadata": {
        "id": "xvyEeEjXTGhX"
      },
      "source": [
        "By default, torchtext will add two more special tokens, <unk> for unknown words and <pad>, a padding token that will be used to pad all our text to roughly the same size to help with efficient batching on the GPU."
      ]
    },
    {
      "cell_type": "code",
      "metadata": {
        "id": "rA3tIESdcJdN",
        "colab": {
          "base_uri": "https://localhost:8080/"
        },
        "outputId": "069b60dd-a27e-4027-e50b-478b70455be6"
      },
      "source": [
        "print('Size of input vocab : ', len(Sentence.vocab))\n",
        "print('Size of label vocab : ', len(Label.vocab))\n",
        "print('Top 10 words appreared repeatedly :', list(Sentence.vocab.freqs.most_common(10)))\n",
        "print('Labels : ', Label.vocab.stoi)"
      ],
      "execution_count": 20,
      "outputs": [
        {
          "output_type": "stream",
          "text": [
            "Size of input vocab :  17200\n",
            "Size of label vocab :  25\n",
            "Top 10 words appreared repeatedly : [('.', 8041), (',', 7131), ('the', 6087), ('and', 4474), ('of', 4446), ('a', 4423), ('to', 3024), ('-', 2739), (\"'s\", 2544), ('is', 2540)]\n",
            "Labels :  defaultdict(<function _default_unk_index at 0x7fa660750268>, {19: 0, 20: 1, 7: 2, 21: 3, 6: 4, 8: 5, 18: 6, 13: 7, 5: 8, 16: 9, 10: 10, 12: 11, 22: 12, 9: 13, 17: 14, 11: 15, 14: 16, 15: 17, 23: 18, 4: 19, 3: 20, 2: 21, 24: 22, 1: 23, 25: 24})\n"
          ],
          "name": "stdout"
        }
      ]
    },
    {
      "cell_type": "markdown",
      "metadata": {
        "id": "rwjD2-ebTeUX"
      },
      "source": [
        "**Lots of stopwords!!**"
      ]
    },
    {
      "cell_type": "markdown",
      "metadata": {
        "id": "sLWW221gTpNs"
      },
      "source": [
        "Now we need to create a data loader to feed into our training loop. Torchtext provides the BucketIterator method that will produce what it calls a Batch, which is almost, but not quite, like the data loader we used on images."
      ]
    },
    {
      "cell_type": "markdown",
      "metadata": {
        "id": "EQqMhMoDUDmn"
      },
      "source": [
        "But at first declare the device we are using."
      ]
    },
    {
      "cell_type": "code",
      "metadata": {
        "id": "Zfo2QhGJUK4l"
      },
      "source": [
        "device = torch.device(\"cuda\" if torch.cuda.is_available() else \"cpu\")"
      ],
      "execution_count": 21,
      "outputs": []
    },
    {
      "cell_type": "code",
      "metadata": {
        "id": "zK2ORoqdTNsM"
      },
      "source": [
        "train_iterator, valid_iterator = data.BucketIterator.splits((trainDataset, validDataset), batch_size = 256, \n",
        "                                                            sort_key = lambda x: len(x.sentence),\n",
        "                                                            sort_within_batch=True, device = device)"
      ],
      "execution_count": 22,
      "outputs": []
    },
    {
      "cell_type": "markdown",
      "metadata": {
        "id": "Gg7gTFQO4fby"
      },
      "source": [
        "Save the vocabulary for later use"
      ]
    },
    {
      "cell_type": "code",
      "metadata": {
        "id": "niE9Cc6-2bD_"
      },
      "source": [
        "import os, pickle\n",
        "with open('tokenizer.pkl', 'wb') as tokens: \n",
        "    pickle.dump(Sentence.vocab.stoi, tokens)"
      ],
      "execution_count": 23,
      "outputs": []
    },
    {
      "cell_type": "markdown",
      "metadata": {
        "id": "1AbsQwqkVyAy"
      },
      "source": [
        "## Defining Our Model"
      ]
    },
    {
      "cell_type": "markdown",
      "metadata": {
        "id": "E4PED4HJWH4t"
      },
      "source": [
        "We use the Embedding and LSTM modules in PyTorch to build a simple model for classifying tweets.\n",
        "\n",
        "In this model we create three layers. \n",
        "1. First, the words in our tweets are pushed into an Embedding layer, which we have established as a 300-dimensional vector embedding. \n",
        "2. That’s then fed into a 2 stacked-LSTMs with 100 hidden features (again, we’re compressing down from the 300-dimensional input like we did with images). We are using 2 LSTMs for using the dropout.\n",
        "3. Finally, the output of the LSTM (the final hidden state after processing the incoming tweet) is pushed through a standard fully connected layer with three outputs to correspond to our three possible classes (negative, positive, or neutral)."
      ]
    },
    {
      "cell_type": "code",
      "metadata": {
        "id": "43pVRccMT0bT"
      },
      "source": [
        "import torch.nn as nn\n",
        "import torch.nn.functional as F\n",
        "\n",
        "class classifier(nn.Module):\n",
        "    \n",
        "    # Define all the layers used in model\n",
        "    def __init__(self, vocab_size, embedding_dim, hidden_dim, output_dim, n_layers, dropout, bidirectional, pad_idx):\n",
        "        \n",
        "        super().__init__()          \n",
        "        \n",
        "        # Embedding layer\n",
        "        self.embedding = nn.Embedding(vocab_size, embedding_dim, padding_idx = pad_idx)\n",
        "        \n",
        "        # LSTM layer\n",
        "        self.encoder = nn.LSTM(embedding_dim, \n",
        "                           hidden_dim, \n",
        "                           num_layers=n_layers, \n",
        "                           dropout=dropout,\n",
        "                           bidirectional = bidirectional,\n",
        "                           batch_first=True)\n",
        "        # try using nn.GRU or nn.RNN here and compare their performances\n",
        "        # try bidirectional and compare their performances\n",
        "        self.dropout = nn.Dropout(dropout)\n",
        "        # Dense layer\n",
        "        self.fc = nn.Linear(hidden_dim, output_dim)\n",
        "        \n",
        "    def forward(self, text, text_lengths):\n",
        "        \n",
        "        # text = [batch size, sent_length]\n",
        "        embedded = self.embedding(text)\n",
        "        # embedded = [batch size, sent_len, emb dim]\n",
        "      \n",
        "        # packed sequence\n",
        "        packed_embedded = nn.utils.rnn.pack_padded_sequence(embedded, text_lengths.cpu(), batch_first=True)\n",
        "        \n",
        "        packed_output, (hidden, cell) = self.encoder(packed_embedded)\n",
        "        #hidden = [batch size, num layers * num directions,hid dim]\n",
        "        #cell = [batch size, num layers * num directions,hid dim]\n",
        "    \n",
        "        # Hidden = [batch size, hid dim * num directions]\n",
        "        dense_outputs = self.dropout(self.fc(hidden))\n",
        "        #dense_outputs = self.fc(hidden)\n",
        "        \n",
        "        # Final activation function softmax\n",
        "        output = F.softmax(dense_outputs[0], dim=1)\n",
        "            \n",
        "        return output"
      ],
      "execution_count": 37,
      "outputs": []
    },
    {
      "cell_type": "code",
      "metadata": {
        "id": "rwBoGE_X_Fl8"
      },
      "source": [
        "# Define hyperparameters\n",
        "size_of_vocab = len(Sentence.vocab)\n",
        "embedding_dim = 100\n",
        "num_hidden_nodes = 256\n",
        "num_output_nodes = 25\n",
        "num_layers = 4\n",
        "\n",
        "dropout = 0.4\n",
        "bidirectional = True\n",
        "PAD_IDX = Sentence.vocab.stoi[Sentence.pad_token]\n",
        "\n",
        "# Instantiate the model\n",
        "model = classifier(size_of_vocab, embedding_dim, num_hidden_nodes, num_output_nodes, num_layers, dropout, bidirectional, PAD_IDX)"
      ],
      "execution_count": 38,
      "outputs": []
    },
    {
      "cell_type": "code",
      "metadata": {
        "id": "O-pOMqzJ3eTv",
        "colab": {
          "base_uri": "https://localhost:8080/"
        },
        "outputId": "f9b8166c-8f02-49a2-b216-4da1ec6f7927"
      },
      "source": [
        "print(model)\n",
        "\n",
        "#No. of trianable parameters\n",
        "def count_parameters(model):\n",
        "    return sum(p.numel() for p in model.parameters() if p.requires_grad)\n",
        "    \n",
        "print(f'The model has {count_parameters(model):,} trainable parameters')"
      ],
      "execution_count": 39,
      "outputs": [
        {
          "output_type": "stream",
          "text": [
            "classifier(\n",
            "  (embedding): Embedding(17200, 100, padding_idx=1)\n",
            "  (encoder): LSTM(100, 256, num_layers=4, batch_first=True, dropout=0.4, bidirectional=True)\n",
            "  (dropout): Dropout(p=0.4, inplace=False)\n",
            "  (fc): Linear(in_features=256, out_features=25, bias=True)\n",
            ")\n",
            "The model has 7,190,489 trainable parameters\n"
          ],
          "name": "stdout"
        }
      ]
    },
    {
      "cell_type": "markdown",
      "metadata": {
        "id": "eXajorf5Xz7t"
      },
      "source": [
        "## Model Training and Evaluation"
      ]
    },
    {
      "cell_type": "markdown",
      "metadata": {
        "id": "PrE9RpMtZ1Vs"
      },
      "source": [
        "First define the optimizer and loss functions"
      ]
    },
    {
      "cell_type": "code",
      "metadata": {
        "id": "-u86JWdlXvu5"
      },
      "source": [
        "import torch.optim as optim\n",
        "\n",
        "# define optimizer and loss\n",
        "optimizer = optim.Adam(model.parameters(), lr=2e-4)\n",
        "criterion = nn.CrossEntropyLoss()\n",
        "\n",
        "# define metric\n",
        "def binary_accuracy(preds, y):\n",
        "    #round predictions to the closest integer\n",
        "    _, predictions = torch.max(preds, 1)\n",
        "    \n",
        "    correct = (predictions == y).float() \n",
        "    acc = correct.sum() / len(correct)\n",
        "    return acc"
      ],
      "execution_count": 40,
      "outputs": []
    },
    {
      "cell_type": "code",
      "metadata": {
        "colab": {
          "base_uri": "https://localhost:8080/"
        },
        "id": "Z6phd4xoUeM-",
        "outputId": "a3c648ee-82ba-4544-d7ae-0ab03637e9b4"
      },
      "source": [
        "pretrained_embeddings = Sentence.vocab.vectors\r\n",
        "print(pretrained_embeddings.shape)"
      ],
      "execution_count": 41,
      "outputs": [
        {
          "output_type": "stream",
          "text": [
            "torch.Size([17200, 100])\n"
          ],
          "name": "stdout"
        }
      ]
    },
    {
      "cell_type": "code",
      "metadata": {
        "colab": {
          "base_uri": "https://localhost:8080/"
        },
        "id": "xwnVC8shUlqV",
        "outputId": "850fe83b-6691-4e69-feb4-25db716603be"
      },
      "source": [
        "model.embedding.weight.data.copy_(pretrained_embeddings)"
      ],
      "execution_count": 42,
      "outputs": [
        {
          "output_type": "execute_result",
          "data": {
            "text/plain": [
              "tensor([[-0.0166, -0.4668,  2.0909,  ..., -1.4692,  0.4476, -0.7223],\n",
              "        [-0.0791, -0.2089, -0.3442,  ...,  0.4657,  0.6297, -1.7395],\n",
              "        [-0.3398,  0.2094,  0.4635,  ..., -0.2339,  0.4730, -0.0288],\n",
              "        ...,\n",
              "        [ 0.5732, -1.0756, -0.1600,  ...,  0.4548,  0.2344,  0.0364],\n",
              "        [ 1.0372,  1.5194, -1.0455,  ..., -0.6074, -1.3146,  0.4511],\n",
              "        [-0.1327, -0.8911,  0.2346,  ..., -0.1750, -0.1385,  0.6226]])"
            ]
          },
          "metadata": {
            "tags": []
          },
          "execution_count": 42
        }
      ]
    },
    {
      "cell_type": "code",
      "metadata": {
        "colab": {
          "base_uri": "https://localhost:8080/"
        },
        "id": "bgwrhf3VU1Dr",
        "outputId": "ed0630b5-2bfe-4a4b-d326-aa73c85e9035"
      },
      "source": [
        "UNK_IDX = Sentence.vocab.stoi[Sentence.unk_token]\r\n",
        "model.embedding.weight.data[UNK_IDX] = torch.zeros(embedding_dim)\r\n",
        "model.embedding.weight.data[PAD_IDX] = torch.zeros(embedding_dim)\r\n",
        "print(model.embedding.weight.data)"
      ],
      "execution_count": 43,
      "outputs": [
        {
          "output_type": "stream",
          "text": [
            "tensor([[ 0.0000,  0.0000,  0.0000,  ...,  0.0000,  0.0000,  0.0000],\n",
            "        [ 0.0000,  0.0000,  0.0000,  ...,  0.0000,  0.0000,  0.0000],\n",
            "        [-0.3398,  0.2094,  0.4635,  ..., -0.2339,  0.4730, -0.0288],\n",
            "        ...,\n",
            "        [ 0.5732, -1.0756, -0.1600,  ...,  0.4548,  0.2344,  0.0364],\n",
            "        [ 1.0372,  1.5194, -1.0455,  ..., -0.6074, -1.3146,  0.4511],\n",
            "        [-0.1327, -0.8911,  0.2346,  ..., -0.1750, -0.1385,  0.6226]])\n"
          ],
          "name": "stdout"
        }
      ]
    },
    {
      "cell_type": "code",
      "metadata": {
        "id": "brPLMOxAUarP"
      },
      "source": [
        "# push to cuda if available\r\n",
        "model = model.to(device)\r\n",
        "criterion = criterion.to(device)"
      ],
      "execution_count": 44,
      "outputs": []
    },
    {
      "cell_type": "markdown",
      "metadata": {
        "id": "3VCJtNb3Zt8w"
      },
      "source": [
        "The main thing to be aware of in this new training loop is that we have to reference `batch.tweets` and `batch.labels` to get the particular fields we’re interested in; they don’t fall out quite as nicely from the enumerator as they do in torchvision."
      ]
    },
    {
      "cell_type": "markdown",
      "metadata": {
        "id": "2WjEPLKsAiS_"
      },
      "source": [
        "**Training Loop**"
      ]
    },
    {
      "cell_type": "code",
      "metadata": {
        "id": "HDWNnGK3Y5oJ"
      },
      "source": [
        "def train(model, iterator, optimizer, criterion):\n",
        "    \n",
        "    # initialize every epoch \n",
        "    epoch_loss = 0\n",
        "    epoch_acc = 0\n",
        "    \n",
        "    # set the model in training phase\n",
        "    model.train()  \n",
        "    \n",
        "    for batch in iterator:\n",
        "        \n",
        "        # resets the gradients after every batch\n",
        "        optimizer.zero_grad()   \n",
        "        \n",
        "        # retrieve text and no. of words\n",
        "        text, text_lengths = batch.sentence   \n",
        "        \n",
        "        # convert to 1D tensor\n",
        "        predictions = model(text, text_lengths).squeeze()  \n",
        "        \n",
        "        # compute the loss\n",
        "        loss = criterion(predictions, batch.labels)        \n",
        "        \n",
        "        # compute the binary accuracy\n",
        "        acc = binary_accuracy(predictions, batch.labels)   \n",
        "        \n",
        "        # backpropage the loss and compute the gradients\n",
        "        loss.backward()       \n",
        "        \n",
        "        # update the weights\n",
        "        optimizer.step()      \n",
        "        \n",
        "        # loss and accuracy\n",
        "        epoch_loss += loss.item()  \n",
        "        epoch_acc += acc.item()    \n",
        "        \n",
        "    return epoch_loss / len(iterator), epoch_acc / len(iterator)"
      ],
      "execution_count": 45,
      "outputs": []
    },
    {
      "cell_type": "markdown",
      "metadata": {
        "id": "CZcHhkkvAsCt"
      },
      "source": [
        "**Evaluation Loop**"
      ]
    },
    {
      "cell_type": "code",
      "metadata": {
        "id": "zHEe-zSVAriL"
      },
      "source": [
        "def evaluate(model, iterator, criterion):\n",
        "    \n",
        "    # initialize every epoch\n",
        "    epoch_loss = 0\n",
        "    epoch_acc = 0\n",
        "\n",
        "    # deactivating dropout layers\n",
        "    model.eval()\n",
        "    \n",
        "    # deactivates autograd\n",
        "    with torch.no_grad():\n",
        "    \n",
        "        for batch in iterator:\n",
        "        \n",
        "            # retrieve text and no. of words\n",
        "            text, text_lengths = batch.sentence\n",
        "            \n",
        "            # convert to 1d tensor\n",
        "            predictions = model(text, text_lengths).squeeze()\n",
        "            \n",
        "            # compute loss and accuracy\n",
        "            loss = criterion(predictions, batch.labels)\n",
        "            acc = binary_accuracy(predictions, batch.labels)\n",
        "            \n",
        "            # keep track of loss and accuracy\n",
        "            epoch_loss += loss.item()\n",
        "            epoch_acc += acc.item()\n",
        "        \n",
        "    return epoch_loss / len(iterator), epoch_acc / len(iterator)"
      ],
      "execution_count": 46,
      "outputs": []
    },
    {
      "cell_type": "markdown",
      "metadata": {
        "id": "L6LJFW7HaJoV"
      },
      "source": [
        "**Let's Train and Evaluate**"
      ]
    },
    {
      "cell_type": "code",
      "metadata": {
        "id": "tq330XlnaEU9",
        "colab": {
          "base_uri": "https://localhost:8080/"
        },
        "outputId": "c3efc3be-9f72-4e62-c917-31ee98b4b7df"
      },
      "source": [
        "N_EPOCHS = 50\n",
        "best_valid_loss = float('inf')\n",
        "\n",
        "#freeze embeddings\n",
        "model.embedding.weight.requires_grad = unfrozen = False\n",
        "\n",
        "for epoch in range(N_EPOCHS):\n",
        "     \n",
        "    # train the model\n",
        "    train_loss, train_acc = train(model, train_iterator, optimizer, criterion)\n",
        "    \n",
        "    # evaluate the model\n",
        "    valid_loss, valid_acc = evaluate(model, valid_iterator, criterion)\n",
        "    \n",
        "    # save the best model\n",
        "    if valid_loss < best_valid_loss:\n",
        "        best_valid_loss = valid_loss\n",
        "        torch.save(model.state_dict(), 'saved_weights.pt')\n",
        "    \n",
        "    print(f'\\tTrain Loss: {train_loss:.3f} | Train Acc: {train_acc*100:.2f}%')\n",
        "    print(f'\\t Val. Loss: {valid_loss:.3f} |  Val. Acc: {valid_acc*100:.2f}% \\n')"
      ],
      "execution_count": 47,
      "outputs": [
        {
          "output_type": "stream",
          "text": [
            "\tTrain Loss: 3.217 | Train Acc: 5.57%\n",
            "\t Val. Loss: 3.212 |  Val. Acc: 6.95% \n",
            "\n",
            "\tTrain Loss: 3.206 | Train Acc: 6.03%\n",
            "\t Val. Loss: 3.201 |  Val. Acc: 6.79% \n",
            "\n",
            "\tTrain Loss: 3.202 | Train Acc: 6.84%\n",
            "\t Val. Loss: 3.199 |  Val. Acc: 6.79% \n",
            "\n",
            "\tTrain Loss: 3.203 | Train Acc: 6.75%\n",
            "\t Val. Loss: 3.200 |  Val. Acc: 6.95% \n",
            "\n",
            "\tTrain Loss: 3.201 | Train Acc: 6.80%\n",
            "\t Val. Loss: 3.199 |  Val. Acc: 6.95% \n",
            "\n",
            "\tTrain Loss: 3.200 | Train Acc: 7.09%\n",
            "\t Val. Loss: 3.195 |  Val. Acc: 9.16% \n",
            "\n",
            "\tTrain Loss: 3.197 | Train Acc: 7.57%\n",
            "\t Val. Loss: 3.199 |  Val. Acc: 5.62% \n",
            "\n",
            "\tTrain Loss: 3.197 | Train Acc: 7.78%\n",
            "\t Val. Loss: 3.199 |  Val. Acc: 6.87% \n",
            "\n",
            "\tTrain Loss: 3.203 | Train Acc: 6.77%\n",
            "\t Val. Loss: 3.200 |  Val. Acc: 7.55% \n",
            "\n",
            "\tTrain Loss: 3.199 | Train Acc: 7.38%\n",
            "\t Val. Loss: 3.199 |  Val. Acc: 7.26% \n",
            "\n",
            "\tTrain Loss: 3.198 | Train Acc: 7.96%\n",
            "\t Val. Loss: 3.200 |  Val. Acc: 6.09% \n",
            "\n",
            "\tTrain Loss: 3.198 | Train Acc: 7.69%\n",
            "\t Val. Loss: 3.194 |  Val. Acc: 7.08% \n",
            "\n",
            "\tTrain Loss: 3.191 | Train Acc: 8.77%\n",
            "\t Val. Loss: 3.187 |  Val. Acc: 8.48% \n",
            "\n",
            "\tTrain Loss: 3.198 | Train Acc: 7.49%\n",
            "\t Val. Loss: 3.201 |  Val. Acc: 6.30% \n",
            "\n",
            "\tTrain Loss: 3.194 | Train Acc: 8.43%\n",
            "\t Val. Loss: 3.190 |  Val. Acc: 9.34% \n",
            "\n",
            "\tTrain Loss: 3.192 | Train Acc: 8.12%\n",
            "\t Val. Loss: 3.191 |  Val. Acc: 8.41% \n",
            "\n",
            "\tTrain Loss: 3.188 | Train Acc: 9.04%\n",
            "\t Val. Loss: 3.187 |  Val. Acc: 9.29% \n",
            "\n",
            "\tTrain Loss: 3.188 | Train Acc: 8.88%\n",
            "\t Val. Loss: 3.193 |  Val. Acc: 8.36% \n",
            "\n",
            "\tTrain Loss: 3.193 | Train Acc: 8.50%\n",
            "\t Val. Loss: 3.187 |  Val. Acc: 9.19% \n",
            "\n",
            "\tTrain Loss: 3.190 | Train Acc: 8.79%\n",
            "\t Val. Loss: 3.188 |  Val. Acc: 8.20% \n",
            "\n",
            "\tTrain Loss: 3.187 | Train Acc: 9.17%\n",
            "\t Val. Loss: 3.185 |  Val. Acc: 9.21% \n",
            "\n",
            "\tTrain Loss: 3.181 | Train Acc: 10.05%\n",
            "\t Val. Loss: 3.186 |  Val. Acc: 9.61% \n",
            "\n",
            "\tTrain Loss: 3.181 | Train Acc: 9.73%\n",
            "\t Val. Loss: 3.188 |  Val. Acc: 9.55% \n",
            "\n",
            "\tTrain Loss: 3.182 | Train Acc: 9.70%\n",
            "\t Val. Loss: 3.186 |  Val. Acc: 8.17% \n",
            "\n",
            "\tTrain Loss: 3.182 | Train Acc: 9.76%\n",
            "\t Val. Loss: 3.183 |  Val. Acc: 9.58% \n",
            "\n",
            "\tTrain Loss: 3.181 | Train Acc: 10.03%\n",
            "\t Val. Loss: 3.182 |  Val. Acc: 9.35% \n",
            "\n",
            "\tTrain Loss: 3.183 | Train Acc: 9.55%\n",
            "\t Val. Loss: 3.190 |  Val. Acc: 7.63% \n",
            "\n",
            "\tTrain Loss: 3.182 | Train Acc: 9.50%\n",
            "\t Val. Loss: 3.181 |  Val. Acc: 10.33% \n",
            "\n",
            "\tTrain Loss: 3.175 | Train Acc: 10.40%\n",
            "\t Val. Loss: 3.180 |  Val. Acc: 10.75% \n",
            "\n",
            "\tTrain Loss: 3.177 | Train Acc: 10.48%\n",
            "\t Val. Loss: 3.182 |  Val. Acc: 9.29% \n",
            "\n",
            "\tTrain Loss: 3.180 | Train Acc: 10.05%\n",
            "\t Val. Loss: 3.181 |  Val. Acc: 9.92% \n",
            "\n",
            "\tTrain Loss: 3.178 | Train Acc: 10.24%\n",
            "\t Val. Loss: 3.181 |  Val. Acc: 9.66% \n",
            "\n",
            "\tTrain Loss: 3.179 | Train Acc: 9.84%\n",
            "\t Val. Loss: 3.179 |  Val. Acc: 10.10% \n",
            "\n",
            "\tTrain Loss: 3.176 | Train Acc: 10.01%\n",
            "\t Val. Loss: 3.178 |  Val. Acc: 10.02% \n",
            "\n",
            "\tTrain Loss: 3.171 | Train Acc: 11.18%\n",
            "\t Val. Loss: 3.180 |  Val. Acc: 9.50% \n",
            "\n",
            "\tTrain Loss: 3.176 | Train Acc: 10.34%\n",
            "\t Val. Loss: 3.179 |  Val. Acc: 9.94% \n",
            "\n",
            "\tTrain Loss: 3.171 | Train Acc: 10.81%\n",
            "\t Val. Loss: 3.179 |  Val. Acc: 10.00% \n",
            "\n",
            "\tTrain Loss: 3.168 | Train Acc: 11.37%\n",
            "\t Val. Loss: 3.177 |  Val. Acc: 10.07% \n",
            "\n",
            "\tTrain Loss: 3.171 | Train Acc: 10.80%\n",
            "\t Val. Loss: 3.179 |  Val. Acc: 9.14% \n",
            "\n",
            "\tTrain Loss: 3.171 | Train Acc: 10.98%\n",
            "\t Val. Loss: 3.178 |  Val. Acc: 9.71% \n",
            "\n",
            "\tTrain Loss: 3.165 | Train Acc: 11.45%\n",
            "\t Val. Loss: 3.178 |  Val. Acc: 9.48% \n",
            "\n",
            "\tTrain Loss: 3.170 | Train Acc: 11.16%\n",
            "\t Val. Loss: 3.179 |  Val. Acc: 9.79% \n",
            "\n",
            "\tTrain Loss: 3.165 | Train Acc: 11.55%\n",
            "\t Val. Loss: 3.178 |  Val. Acc: 10.00% \n",
            "\n",
            "\tTrain Loss: 3.162 | Train Acc: 12.07%\n",
            "\t Val. Loss: 3.180 |  Val. Acc: 9.63% \n",
            "\n",
            "\tTrain Loss: 3.162 | Train Acc: 11.82%\n",
            "\t Val. Loss: 3.178 |  Val. Acc: 9.50% \n",
            "\n",
            "\tTrain Loss: 3.168 | Train Acc: 11.34%\n",
            "\t Val. Loss: 3.180 |  Val. Acc: 9.29% \n",
            "\n",
            "\tTrain Loss: 3.164 | Train Acc: 11.50%\n",
            "\t Val. Loss: 3.182 |  Val. Acc: 10.00% \n",
            "\n",
            "\tTrain Loss: 3.166 | Train Acc: 11.42%\n",
            "\t Val. Loss: 3.181 |  Val. Acc: 9.01% \n",
            "\n",
            "\tTrain Loss: 3.161 | Train Acc: 12.04%\n",
            "\t Val. Loss: 3.177 |  Val. Acc: 9.87% \n",
            "\n",
            "\tTrain Loss: 3.159 | Train Acc: 12.48%\n",
            "\t Val. Loss: 3.177 |  Val. Acc: 10.38% \n",
            "\n"
          ],
          "name": "stdout"
        }
      ]
    },
    {
      "cell_type": "markdown",
      "metadata": {
        "id": "LZgzB0ZkHVTI"
      },
      "source": [
        "## Model Testing"
      ]
    },
    {
      "cell_type": "code",
      "metadata": {
        "id": "aZZfnWo0abRx"
      },
      "source": [
        "#load weights and tokenizer\n",
        "\n",
        "path='./saved_weights.pt'\n",
        "model.load_state_dict(torch.load(path));\n",
        "model.eval();\n",
        "tokenizer_file = open('./tokenizer.pkl', 'rb')\n",
        "tokenizer = pickle.load(tokenizer_file)\n",
        "\n",
        "#inference \n",
        "\n",
        "import spacy\n",
        "nlp = spacy.load('en')\n",
        "\n",
        "def classify_tweet(tweet):\n",
        "    \n",
        "    categories = {1: \"1\", 2:\"2\", 3:\"3\", 4: \"4\",\n",
        "                  5: \"5\", 6: \"6\" , 7:\"7\", 8:\"8\",\n",
        "                  9:\"9\", 10:\"10\", 11:\"11\", 12:\"12\",\n",
        "                  13:\"13\", 14:\"14\", 15:\"15\", 16:\"16\",\n",
        "                  17:\"17\", 18: \"18\", 19:\"19\", 20:\"20\",\n",
        "                  21:\"21\", 22:\"22\", 23:\"23\", 24:\"24\", 25:\"25\"}\n",
        "    \n",
        "    # tokenize the tweet \n",
        "    tokenized = [tok.text for tok in nlp.tokenizer(tweet)] \n",
        "    # convert to integer sequence using predefined tokenizer dictionary\n",
        "    indexed = [tokenizer[t] for t in tokenized]        \n",
        "    # compute no. of words        \n",
        "    length = [len(indexed)]\n",
        "    # convert to tensor                                    \n",
        "    tensor = torch.LongTensor(indexed).to(device)   \n",
        "    # reshape in form of batch, no. of words           \n",
        "    tensor = tensor.unsqueeze(1).T  \n",
        "    # convert to tensor                          \n",
        "    length_tensor = torch.LongTensor(length)\n",
        "    # Get the model prediction                  \n",
        "    prediction = model(tensor, length_tensor)\n",
        "\n",
        "    _, pred = torch.max(prediction, 1) \n",
        "    \n",
        "    return categories[pred.item()]"
      ],
      "execution_count": 48,
      "outputs": []
    },
    {
      "cell_type": "code",
      "metadata": {
        "id": "yTkHLEipIlM9",
        "colab": {
          "base_uri": "https://localhost:8080/",
          "height": 35
        },
        "outputId": "d044b63b-0dcd-42a9-87b9-685bc2b29add"
      },
      "source": [
        "classify_tweet(\"A valid explanation for why Trump won't let women on the golf course.\")"
      ],
      "execution_count": 49,
      "outputs": [
        {
          "output_type": "execute_result",
          "data": {
            "application/vnd.google.colaboratory.intrinsic+json": {
              "type": "string"
            },
            "text/plain": [
              "'2'"
            ]
          },
          "metadata": {
            "tags": []
          },
          "execution_count": 49
        }
      ]
    },
    {
      "cell_type": "markdown",
      "metadata": {
        "id": "WVjCuKK_LVEF"
      },
      "source": [
        "## Discussion on Data Augmentation Techniques \n",
        "\n",
        "You might wonder exactly how you can augment text data. After all, you can’t really flip it horizontally as you can an image! :D \n",
        "\n",
        "In contrast to data augmentation in images, augmentation techniques on data is very specific to final product you are building. As its general usage on any type of textual data doesn't provides a significant performance boost, that's why unlike torchvision, torchtext doesn’t offer a augmentation pipeline. Due to powerful models as transformers, augmentation tecnhiques are not so preferred now-a-days. But its better to know about some techniques with text that will provide your model with a little more information for training. \n",
        "\n",
        "### Synonym Replacement\n",
        "\n",
        "First, you could replace words in the sentence with synonyms, like so:\n",
        "\n",
        "    The dog slept on the mat\n",
        "\n",
        "could become\n",
        "\n",
        "    The dog slept on the rug\n",
        "\n",
        "Aside from the dog's insistence that a rug is much softer than a mat, the meaning of the sentence hasn’t changed. But mat and rug will be mapped to different indices in the vocabulary, so the model will learn that the two sentences map to the same label, and hopefully that there’s a connection between those two words, as everything else in the sentences is the same."
      ]
    },
    {
      "cell_type": "markdown",
      "metadata": {
        "id": "T_uEfWJpL6Nq"
      },
      "source": [
        "### Random Insertion\n",
        "A random insertion technique looks at a sentence and then randomly inserts synonyms of existing non-stopwords into the sentence n times. Assuming you have a way of getting a synonym of a word and a way of eliminating stopwords (common words such as and, it, the, etc.), shown, but not implemented, in this function via get_synonyms() and get_stopwords(), an implementation of this would be as follows:\n"
      ]
    },
    {
      "cell_type": "code",
      "metadata": {
        "id": "7Alm5D7WIvAC"
      },
      "source": [
        "def random_insertion(sentence, n): \n",
        "    words = remove_stopwords(sentence) \n",
        "    for _ in range(n):\n",
        "        new_synonym = get_synonyms(random.choice(words))\n",
        "        sentence.insert(randrange(len(sentence)+1), new_synonym) \n",
        "    return sentence"
      ],
      "execution_count": 50,
      "outputs": []
    },
    {
      "cell_type": "markdown",
      "metadata": {
        "id": "gqLWzwJ3Mm8h"
      },
      "source": [
        "## Random Deletion\n",
        "As the name suggests, random deletion deletes words from a sentence. Given a probability parameter p, it will go through the sentence and decide whether to delete a word or not based on that random probability. Consider of it as pixel dropouts while treating images."
      ]
    },
    {
      "cell_type": "code",
      "metadata": {
        "id": "-7Dz7JJfMqyC"
      },
      "source": [
        "def random_deletion(words, p=0.5): \n",
        "    if len(words) == 1: # return if single word\n",
        "        return words\n",
        "    remaining = list(filter(lambda x: random.uniform(0,1) > p,words)) \n",
        "    if len(remaining) == 0: # if not left, sample a random word\n",
        "        return [random.choice(words)] \n",
        "    else:\n",
        "        return remaining"
      ],
      "execution_count": 51,
      "outputs": []
    },
    {
      "cell_type": "markdown",
      "metadata": {
        "id": "zOIbi5WzO5OU"
      },
      "source": [
        "### Random Swap\n",
        "The random swap augmentation takes a sentence and then swaps words within it n times, with each iteration working on the previously swapped sentence. Here we sample two random numbers based on the length of the sentence, and then just keep swapping until we hit n."
      ]
    },
    {
      "cell_type": "code",
      "metadata": {
        "id": "LnkbG15HO3Yj"
      },
      "source": [
        "def random_swap(sentence, n=5): \n",
        "    length = range(len(sentence)) \n",
        "    for _ in range(n):\n",
        "        idx1, idx2 = random.sample(length, 2)\n",
        "        sentence[idx1], sentence[idx2] = sentence[idx2], sentence[idx1] \n",
        "    return sentence"
      ],
      "execution_count": 52,
      "outputs": []
    },
    {
      "cell_type": "markdown",
      "metadata": {
        "id": "599NpwfMR5Vm"
      },
      "source": [
        "For more on this please go through this [paper](https://arxiv.org/pdf/1901.11196.pdf)."
      ]
    },
    {
      "cell_type": "markdown",
      "metadata": {
        "id": "a5aeKuNCRGip"
      },
      "source": [
        "### Back Translation\n",
        "\n",
        "Another popular approach for augmenting text datasets is back translation. This involves translating a sentence from our target language into one or more other languages and then translating all of them back to the original language. We can use the Python library googletrans for this purpose. "
      ]
    },
    {
      "cell_type": "code",
      "metadata": {
        "id": "pHhNBbYrRXNy",
        "colab": {
          "base_uri": "https://localhost:8080/"
        },
        "outputId": "124ba734-aef1-4f43-97ba-6bddcf60df1d"
      },
      "source": [
        "!!pip install googletrans==3.1.0a0\n"
      ],
      "execution_count": 53,
      "outputs": [
        {
          "output_type": "execute_result",
          "data": {
            "text/plain": [
              "['Collecting googletrans==3.1.0a0',\n",
              " '  Downloading https://files.pythonhosted.org/packages/19/3d/4e3a1609bf52f2f7b00436cc751eb977e27040665dde2bd57e7152989672/googletrans-3.1.0a0.tar.gz',\n",
              " 'Collecting httpx==0.13.3',\n",
              " '\\x1b[?25l  Downloading https://files.pythonhosted.org/packages/54/b4/698b284c6aed4d7c2b4fe3ba5df1fcf6093612423797e76fbb24890dd22f/httpx-0.13.3-py3-none-any.whl (55kB)',\n",
              " '',\n",
              " '\\x1b[K     |██████                          | 10kB 17.2MB/s eta 0:00:01',\n",
              " '\\x1b[K     |████████████                    | 20kB 19.9MB/s eta 0:00:01',\n",
              " '\\x1b[K     |█████████████████▉              | 30kB 22.5MB/s eta 0:00:01',\n",
              " '\\x1b[K     |███████████████████████▉        | 40kB 25.6MB/s eta 0:00:01',\n",
              " '\\x1b[K     |█████████████████████████████▊  | 51kB 26.5MB/s eta 0:00:01',\n",
              " '\\x1b[K     |████████████████████████████████| 61kB 7.7MB/s ',\n",
              " '\\x1b[?25hCollecting hstspreload',\n",
              " '\\x1b[?25l  Downloading https://files.pythonhosted.org/packages/d3/3c/cdeaf9ab0404853e77c45d9e8021d0d2c01f70a1bb26e460090926fe2a5e/hstspreload-2020.11.21-py3-none-any.whl (981kB)',\n",
              " '',\n",
              " '\\x1b[K     |▍                               | 10kB 20.6MB/s eta 0:00:01',\n",
              " '\\x1b[K     |▊                               | 20kB 28.2MB/s eta 0:00:01',\n",
              " '\\x1b[K     |█                               | 30kB 23.2MB/s eta 0:00:01',\n",
              " '\\x1b[K     |█▍                              | 40kB 26.9MB/s eta 0:00:01',\n",
              " '\\x1b[K     |█▊                              | 51kB 20.3MB/s eta 0:00:01',\n",
              " '\\x1b[K     |██                              | 61kB 18.6MB/s eta 0:00:01',\n",
              " '\\x1b[K     |██▍                             | 71kB 20.1MB/s eta 0:00:01',\n",
              " '\\x1b[K     |██▊                             | 81kB 19.0MB/s eta 0:00:01',\n",
              " '\\x1b[K     |███                             | 92kB 18.3MB/s eta 0:00:01',\n",
              " '\\x1b[K     |███▍                            | 102kB 19.5MB/s eta 0:00:01',\n",
              " '\\x1b[K     |███▊                            | 112kB 19.5MB/s eta 0:00:01',\n",
              " '\\x1b[K     |████                            | 122kB 19.5MB/s eta 0:00:01',\n",
              " '\\x1b[K     |████▍                           | 133kB 19.5MB/s eta 0:00:01',\n",
              " '\\x1b[K     |████▊                           | 143kB 19.5MB/s eta 0:00:01',\n",
              " '\\x1b[K     |█████                           | 153kB 19.5MB/s eta 0:00:01',\n",
              " '\\x1b[K     |█████▍                          | 163kB 19.5MB/s eta 0:00:01',\n",
              " '\\x1b[K     |█████▊                          | 174kB 19.5MB/s eta 0:00:01',\n",
              " '\\x1b[K     |██████                          | 184kB 19.5MB/s eta 0:00:01',\n",
              " '\\x1b[K     |██████▍                         | 194kB 19.5MB/s eta 0:00:01',\n",
              " '\\x1b[K     |██████▊                         | 204kB 19.5MB/s eta 0:00:01',\n",
              " '\\x1b[K     |███████                         | 215kB 19.5MB/s eta 0:00:01',\n",
              " '\\x1b[K     |███████▍                        | 225kB 19.5MB/s eta 0:00:01',\n",
              " '\\x1b[K     |███████▊                        | 235kB 19.5MB/s eta 0:00:01',\n",
              " '\\x1b[K     |████████                        | 245kB 19.5MB/s eta 0:00:01',\n",
              " '\\x1b[K     |████████▍                       | 256kB 19.5MB/s eta 0:00:01',\n",
              " '\\x1b[K     |████████▊                       | 266kB 19.5MB/s eta 0:00:01',\n",
              " '\\x1b[K     |█████████                       | 276kB 19.5MB/s eta 0:00:01',\n",
              " '\\x1b[K     |█████████▍                      | 286kB 19.5MB/s eta 0:00:01',\n",
              " '\\x1b[K     |█████████▊                      | 296kB 19.5MB/s eta 0:00:01',\n",
              " '\\x1b[K     |██████████                      | 307kB 19.5MB/s eta 0:00:01',\n",
              " '\\x1b[K     |██████████▍                     | 317kB 19.5MB/s eta 0:00:01',\n",
              " '\\x1b[K     |██████████▊                     | 327kB 19.5MB/s eta 0:00:01',\n",
              " '\\x1b[K     |███████████                     | 337kB 19.5MB/s eta 0:00:01',\n",
              " '\\x1b[K     |███████████▍                    | 348kB 19.5MB/s eta 0:00:01',\n",
              " '\\x1b[K     |███████████▊                    | 358kB 19.5MB/s eta 0:00:01',\n",
              " '\\x1b[K     |████████████                    | 368kB 19.5MB/s eta 0:00:01',\n",
              " '\\x1b[K     |████████████▍                   | 378kB 19.5MB/s eta 0:00:01',\n",
              " '\\x1b[K     |████████████▊                   | 389kB 19.5MB/s eta 0:00:01',\n",
              " '\\x1b[K     |█████████████                   | 399kB 19.5MB/s eta 0:00:01',\n",
              " '\\x1b[K     |█████████████▍                  | 409kB 19.5MB/s eta 0:00:01',\n",
              " '\\x1b[K     |█████████████▊                  | 419kB 19.5MB/s eta 0:00:01',\n",
              " '\\x1b[K     |██████████████                  | 430kB 19.5MB/s eta 0:00:01',\n",
              " '\\x1b[K     |██████████████▍                 | 440kB 19.5MB/s eta 0:00:01',\n",
              " '\\x1b[K     |██████████████▊                 | 450kB 19.5MB/s eta 0:00:01',\n",
              " '\\x1b[K     |███████████████                 | 460kB 19.5MB/s eta 0:00:01',\n",
              " '\\x1b[K     |███████████████▍                | 471kB 19.5MB/s eta 0:00:01',\n",
              " '\\x1b[K     |███████████████▊                | 481kB 19.5MB/s eta 0:00:01',\n",
              " '\\x1b[K     |████████████████                | 491kB 19.5MB/s eta 0:00:01',\n",
              " '\\x1b[K     |████████████████▍               | 501kB 19.5MB/s eta 0:00:01',\n",
              " '\\x1b[K     |████████████████▊               | 512kB 19.5MB/s eta 0:00:01',\n",
              " '\\x1b[K     |█████████████████               | 522kB 19.5MB/s eta 0:00:01',\n",
              " '\\x1b[K     |█████████████████▍              | 532kB 19.5MB/s eta 0:00:01',\n",
              " '\\x1b[K     |█████████████████▊              | 542kB 19.5MB/s eta 0:00:01',\n",
              " '\\x1b[K     |██████████████████              | 552kB 19.5MB/s eta 0:00:01',\n",
              " '\\x1b[K     |██████████████████▍             | 563kB 19.5MB/s eta 0:00:01',\n",
              " '\\x1b[K     |██████████████████▊             | 573kB 19.5MB/s eta 0:00:01',\n",
              " '\\x1b[K     |███████████████████             | 583kB 19.5MB/s eta 0:00:01',\n",
              " '\\x1b[K     |███████████████████▍            | 593kB 19.5MB/s eta 0:00:01',\n",
              " '\\x1b[K     |███████████████████▊            | 604kB 19.5MB/s eta 0:00:01',\n",
              " '\\x1b[K     |████████████████████            | 614kB 19.5MB/s eta 0:00:01',\n",
              " '\\x1b[K     |████████████████████▍           | 624kB 19.5MB/s eta 0:00:01',\n",
              " '\\x1b[K     |████████████████████▊           | 634kB 19.5MB/s eta 0:00:01',\n",
              " '\\x1b[K     |█████████████████████           | 645kB 19.5MB/s eta 0:00:01',\n",
              " '\\x1b[K     |█████████████████████▍          | 655kB 19.5MB/s eta 0:00:01',\n",
              " '\\x1b[K     |█████████████████████▊          | 665kB 19.5MB/s eta 0:00:01',\n",
              " '\\x1b[K     |██████████████████████          | 675kB 19.5MB/s eta 0:00:01',\n",
              " '\\x1b[K     |██████████████████████▍         | 686kB 19.5MB/s eta 0:00:01',\n",
              " '\\x1b[K     |██████████████████████▊         | 696kB 19.5MB/s eta 0:00:01',\n",
              " '\\x1b[K     |███████████████████████         | 706kB 19.5MB/s eta 0:00:01',\n",
              " '\\x1b[K     |███████████████████████▍        | 716kB 19.5MB/s eta 0:00:01',\n",
              " '\\x1b[K     |███████████████████████▊        | 727kB 19.5MB/s eta 0:00:01',\n",
              " '\\x1b[K     |████████████████████████        | 737kB 19.5MB/s eta 0:00:01',\n",
              " '\\x1b[K     |████████████████████████▍       | 747kB 19.5MB/s eta 0:00:01',\n",
              " '\\x1b[K     |████████████████████████▊       | 757kB 19.5MB/s eta 0:00:01',\n",
              " '\\x1b[K     |█████████████████████████       | 768kB 19.5MB/s eta 0:00:01',\n",
              " '\\x1b[K     |█████████████████████████▍      | 778kB 19.5MB/s eta 0:00:01',\n",
              " '\\x1b[K     |█████████████████████████▊      | 788kB 19.5MB/s eta 0:00:01',\n",
              " '\\x1b[K     |██████████████████████████      | 798kB 19.5MB/s eta 0:00:01',\n",
              " '\\x1b[K     |██████████████████████████▍     | 808kB 19.5MB/s eta 0:00:01',\n",
              " '\\x1b[K     |██████████████████████████▊     | 819kB 19.5MB/s eta 0:00:01',\n",
              " '\\x1b[K     |███████████████████████████     | 829kB 19.5MB/s eta 0:00:01',\n",
              " '\\x1b[K     |███████████████████████████▍    | 839kB 19.5MB/s eta 0:00:01',\n",
              " '\\x1b[K     |███████████████████████████▊    | 849kB 19.5MB/s eta 0:00:01',\n",
              " '\\x1b[K     |████████████████████████████    | 860kB 19.5MB/s eta 0:00:01',\n",
              " '\\x1b[K     |████████████████████████████▍   | 870kB 19.5MB/s eta 0:00:01',\n",
              " '\\x1b[K     |████████████████████████████▊   | 880kB 19.5MB/s eta 0:00:01',\n",
              " '\\x1b[K     |█████████████████████████████   | 890kB 19.5MB/s eta 0:00:01',\n",
              " '\\x1b[K     |█████████████████████████████▍  | 901kB 19.5MB/s eta 0:00:01',\n",
              " '\\x1b[K     |█████████████████████████████▊  | 911kB 19.5MB/s eta 0:00:01',\n",
              " '\\x1b[K     |██████████████████████████████  | 921kB 19.5MB/s eta 0:00:01',\n",
              " '\\x1b[K     |██████████████████████████████▍ | 931kB 19.5MB/s eta 0:00:01',\n",
              " '\\x1b[K     |██████████████████████████████▊ | 942kB 19.5MB/s eta 0:00:01',\n",
              " '\\x1b[K     |███████████████████████████████ | 952kB 19.5MB/s eta 0:00:01',\n",
              " '\\x1b[K     |███████████████████████████████▍| 962kB 19.5MB/s eta 0:00:01',\n",
              " '\\x1b[K     |███████████████████████████████▊| 972kB 19.5MB/s eta 0:00:01',\n",
              " '\\x1b[K     |████████████████████████████████| 983kB 19.5MB/s ',\n",
              " '\\x1b[?25hCollecting rfc3986<2,>=1.3',\n",
              " '  Downloading https://files.pythonhosted.org/packages/78/be/7b8b99fd74ff5684225f50dd0e865393d2265656ef3b4ba9eaaaffe622b8/rfc3986-1.4.0-py2.py3-none-any.whl',\n",
              " 'Requirement already satisfied: certifi in /usr/local/lib/python3.6/dist-packages (from httpx==0.13.3->googletrans==3.1.0a0) (2020.12.5)',\n",
              " 'Collecting sniffio',\n",
              " '  Downloading https://files.pythonhosted.org/packages/52/b0/7b2e028b63d092804b6794595871f936aafa5e9322dcaaad50ebf67445b3/sniffio-1.2.0-py3-none-any.whl',\n",
              " 'Collecting httpcore==0.9.*',\n",
              " '\\x1b[?25l  Downloading https://files.pythonhosted.org/packages/dd/d5/e4ff9318693ac6101a2095e580908b591838c6f33df8d3ee8dd953ba96a8/httpcore-0.9.1-py3-none-any.whl (42kB)',\n",
              " '',\n",
              " '\\x1b[K     |███████▊                        | 10kB 7.9MB/s eta 0:00:01',\n",
              " '\\x1b[K     |███████████████▍                | 20kB 13.2MB/s eta 0:00:01',\n",
              " '\\x1b[K     |███████████████████████         | 30kB 18.0MB/s eta 0:00:01',\n",
              " '\\x1b[K     |██████████████████████████████▊ | 40kB 21.5MB/s eta 0:00:01',\n",
              " '\\x1b[K     |████████████████████████████████| 51kB 7.4MB/s ',\n",
              " '\\x1b[?25hRequirement already satisfied: idna==2.* in /usr/local/lib/python3.6/dist-packages (from httpx==0.13.3->googletrans==3.1.0a0) (2.10)',\n",
              " 'Requirement already satisfied: chardet==3.* in /usr/local/lib/python3.6/dist-packages (from httpx==0.13.3->googletrans==3.1.0a0) (3.0.4)',\n",
              " 'Collecting contextvars>=2.1; python_version < \"3.7\"',\n",
              " '  Downloading https://files.pythonhosted.org/packages/83/96/55b82d9f13763be9d672622e1b8106c85acb83edd7cc2fa5bc67cd9877e9/contextvars-2.4.tar.gz',\n",
              " 'Collecting h11<0.10,>=0.8',\n",
              " '\\x1b[?25l  Downloading https://files.pythonhosted.org/packages/5a/fd/3dad730b0f95e78aeeb742f96fa7bbecbdd56a58e405d3da440d5bfb90c6/h11-0.9.0-py2.py3-none-any.whl (53kB)',\n",
              " '',\n",
              " '\\x1b[K     |██████▏                         | 10kB 29.3MB/s eta 0:00:01',\n",
              " '\\x1b[K     |████████████▎                   | 20kB 35.0MB/s eta 0:00:01',\n",
              " '\\x1b[K     |██████████████████▍             | 30kB 40.1MB/s eta 0:00:01',\n",
              " '\\x1b[K     |████████████████████████▌       | 40kB 44.4MB/s eta 0:00:01',\n",
              " '\\x1b[K     |██████████████████████████████▋ | 51kB 47.1MB/s eta 0:00:01',\n",
              " '\\x1b[K     |████████████████████████████████| 61kB 10.2MB/s ',\n",
              " '\\x1b[?25hCollecting h2==3.*',\n",
              " '\\x1b[?25l  Downloading https://files.pythonhosted.org/packages/25/de/da019bcc539eeab02f6d45836f23858ac467f584bfec7a526ef200242afe/h2-3.2.0-py2.py3-none-any.whl (65kB)',\n",
              " '',\n",
              " '\\x1b[K     |█████                           | 10kB 30.8MB/s eta 0:00:01',\n",
              " '\\x1b[K     |██████████                      | 20kB 39.9MB/s eta 0:00:01',\n",
              " '\\x1b[K     |███████████████▏                | 30kB 45.9MB/s eta 0:00:01',\n",
              " '\\x1b[K     |████████████████████▏           | 40kB 48.3MB/s eta 0:00:01',\n",
              " '\\x1b[K     |█████████████████████████▏      | 51kB 50.7MB/s eta 0:00:01',\n",
              " '\\x1b[K     |██████████████████████████████▎ | 61kB 52.6MB/s eta 0:00:01',\n",
              " '\\x1b[K     |████████████████████████████████| 71kB 10.6MB/s ',\n",
              " '\\x1b[?25hCollecting immutables>=0.9',\n",
              " '\\x1b[?25l  Downloading https://files.pythonhosted.org/packages/99/e0/ea6fd4697120327d26773b5a84853f897a68e33d3f9376b00a8ff96e4f63/immutables-0.14-cp36-cp36m-manylinux1_x86_64.whl (98kB)',\n",
              " '',\n",
              " '\\x1b[K     |███▎                            | 10kB 27.9MB/s eta 0:00:01',\n",
              " '\\x1b[K     |██████▋                         | 20kB 36.2MB/s eta 0:00:01',\n",
              " '\\x1b[K     |██████████                      | 30kB 44.0MB/s eta 0:00:01',\n",
              " '\\x1b[K     |█████████████▎                  | 40kB 47.2MB/s eta 0:00:01',\n",
              " '\\x1b[K     |████████████████▋               | 51kB 49.1MB/s eta 0:00:01',\n",
              " '\\x1b[K     |████████████████████            | 61kB 51.9MB/s eta 0:00:01',\n",
              " '\\x1b[K     |███████████████████████▎        | 71kB 53.6MB/s eta 0:00:01',\n",
              " '\\x1b[K     |██████████████████████████▋     | 81kB 54.7MB/s eta 0:00:01',\n",
              " '\\x1b[K     |██████████████████████████████  | 92kB 56.1MB/s eta 0:00:01',\n",
              " '\\x1b[K     |████████████████████████████████| 102kB 14.8MB/s ',\n",
              " '\\x1b[?25hCollecting hyperframe<6,>=5.2.0',\n",
              " '  Downloading https://files.pythonhosted.org/packages/19/0c/bf88182bcb5dce3094e2f3e4fe20db28a9928cb7bd5b08024030e4b140db/hyperframe-5.2.0-py2.py3-none-any.whl',\n",
              " 'Collecting hpack<4,>=3.0',\n",
              " '  Downloading https://files.pythonhosted.org/packages/8a/cc/e53517f4a1e13f74776ca93271caef378dadec14d71c61c949d759d3db69/hpack-3.0.0-py2.py3-none-any.whl',\n",
              " 'Building wheels for collected packages: googletrans, contextvars',\n",
              " '  Building wheel for googletrans (setup.py) ... \\x1b[?25l\\x1b[?25hdone',\n",
              " '  Created wheel for googletrans: filename=googletrans-3.1.0a0-cp36-none-any.whl size=16369 sha256=8f9bb67a6c70ca512c81ae03b706fa9b7a428d52c4f6a1cd03d98f238dc22a1d',\n",
              " '  Stored in directory: /root/.cache/pip/wheels/27/7a/a0/aff3babbb775549ce6813cb8fa7ff3c0848c4dc62c20f8fdac',\n",
              " '  Building wheel for contextvars (setup.py) ... \\x1b[?25l\\x1b[?25hdone',\n",
              " '  Created wheel for contextvars: filename=contextvars-2.4-cp36-none-any.whl size=7666 sha256=a0aa5eb960dd319852ddf10fb775a5ec2507c74648570a11b8c56acce43a3731',\n",
              " '  Stored in directory: /root/.cache/pip/wheels/a5/7d/68/1ebae2668bda2228686e3c1cf16f2c2384cea6e9334ad5f6de',\n",
              " 'Successfully built googletrans contextvars',\n",
              " 'Installing collected packages: hstspreload, rfc3986, immutables, contextvars, sniffio, h11, hyperframe, hpack, h2, httpcore, httpx, googletrans',\n",
              " 'Successfully installed contextvars-2.4 googletrans-3.1.0a0 h11-0.9.0 h2-3.2.0 hpack-3.0.0 hstspreload-2020.11.21 httpcore-0.9.1 httpx-0.13.3 hyperframe-5.2.0 immutables-0.14 rfc3986-1.4.0 sniffio-1.2.0']"
            ]
          },
          "metadata": {
            "tags": []
          },
          "execution_count": 53
        }
      ]
    },
    {
      "cell_type": "code",
      "metadata": {
        "colab": {
          "base_uri": "https://localhost:8080/"
        },
        "id": "MuLdqv7A3yDO",
        "outputId": "a5ba6b63-a450-401c-f9bf-2d8b92bbd08a"
      },
      "source": [
        "import random\r\n",
        "import googletrans\r\n",
        "from googletrans import Translator\r\n",
        "#import googletrans.Translator\r\n",
        "\r\n",
        "translator = Translator()\r\n",
        "sentence = ['The dog slept on the rug']\r\n",
        "\r\n",
        "available_langs = list(googletrans.LANGUAGES.keys()) \r\n",
        "trans_lang = random.choice(available_langs) \r\n",
        "print(f\"Translating to {googletrans.LANGUAGES[trans_lang]}\")\r\n",
        "\r\n",
        "translations = translator.translate(sentence, dest=trans_lang) \r\n",
        "t_text = [t.text for t in translations]\r\n",
        "print(t_text)\r\n",
        "\r\n",
        "translations_en_random = translator.translate(t_text, src=trans_lang, dest='en') \r\n",
        "en_text = [t.text for t in translations_en_random]\r\n",
        "print(en_text)"
      ],
      "execution_count": 54,
      "outputs": [
        {
          "output_type": "stream",
          "text": [
            "Translating to czech\n",
            "['Pes spal na koberci']\n",
            "['The dog slept on the carpet']\n"
          ],
          "name": "stdout"
        }
      ]
    }
  ]
}