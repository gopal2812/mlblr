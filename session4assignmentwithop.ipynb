{
  "nbformat": 4,
  "nbformat_minor": 0,
  "metadata": {
    "colab": {
      "name": "Copy of Untitled57.ipynb",
      "provenance": [],
      "authorship_tag": "ABX9TyN602bPzj5dSWHT8x2k0GfM",
      "include_colab_link": true
    },
    "kernelspec": {
      "name": "python3",
      "display_name": "Python 3"
    },
    "accelerator": "GPU"
  },
  "cells": [
    {
      "cell_type": "markdown",
      "metadata": {
        "id": "view-in-github",
        "colab_type": "text"
      },
      "source": [
        "<a href=\"https://colab.research.google.com/github/gopal2812/mlblr/blob/master/session4assignmentwithop.ipynb\" target=\"_parent\"><img src=\"https://colab.research.google.com/assets/colab-badge.svg\" alt=\"Open In Colab\"/></a>"
      ]
    },
    {
      "cell_type": "markdown",
      "metadata": {
        "id": "7-ixjGOfNMan"
      },
      "source": [
        "Instructions\n",
        "\n",
        "Use this as a reference [link text](\n",
        "https://github.com/bentrevett/pytorch-sentiment-analysis/blob/master/2%20-%20Upgraded%20Sentiment%20Analysis.ipynb )\n",
        "\n",
        "Change this code in such a way that:\n",
        "\n",
        "1. it has 3 LSTM layers\n",
        "\n",
        "2. it has used a for loop to do so in the forward function\n",
        "3. the dropout value used is 0.2\n",
        "4. trained on the text that is reversed (for example \"my name is Rohan\" becomes \"Rohan is name my\"\n",
        "5. achieves 87% or more accuracy\n",
        "once done, share the Github link as well (after training on Google Colab, move the file to GitHub).\n"
      ]
    },
    {
      "cell_type": "code",
      "metadata": {
        "id": "b_bHNQxcNytO"
      },
      "source": [
        "import torch\n",
        "import random\n",
        "import spacy\n",
        "from torchtext import data, datasets\n",
        "import torch.nn as nn\n",
        "import torch.optim as optim\n",
        "\n",
        "SEED = 2812\n",
        "torch.manual_seed(SEED)\n",
        "torch.backends.cudnn.deterministic = True\n",
        "\n",
        "text = data.Field(tokenize = 'spacy', include_lengths = True)\n",
        "label = data.LabelField(dtype = torch.float)"
      ],
      "execution_count": 1,
      "outputs": []
    },
    {
      "cell_type": "code",
      "metadata": {
        "id": "s4qew6k-Onop",
        "colab": {
          "base_uri": "https://localhost:8080/"
        },
        "outputId": "48b02b95-86b6-4066-ce38-741e7a362f72"
      },
      "source": [
        "#load the IMDb dataset.\n",
        "train_data, test_data = datasets.IMDB.splits(text, label)"
      ],
      "execution_count": 2,
      "outputs": [
        {
          "output_type": "stream",
          "text": [
            "\raclImdb_v1.tar.gz:   0%|          | 0.00/84.1M [00:00<?, ?B/s]"
          ],
          "name": "stderr"
        },
        {
          "output_type": "stream",
          "text": [
            "downloading aclImdb_v1.tar.gz\n"
          ],
          "name": "stdout"
        },
        {
          "output_type": "stream",
          "text": [
            "aclImdb_v1.tar.gz: 100%|██████████| 84.1M/84.1M [00:03<00:00, 21.6MB/s]\n"
          ],
          "name": "stderr"
        }
      ]
    },
    {
      "cell_type": "code",
      "metadata": {
        "id": "MTY_S4H9O-k6"
      },
      "source": [
        "#reverse training text data in-place\n",
        "for i in range(len(train_data.examples)):\n",
        "  vars(train_data.examples[i]).get('text').reverse()"
      ],
      "execution_count": 3,
      "outputs": []
    },
    {
      "cell_type": "code",
      "metadata": {
        "id": "JfTiU856PDMY"
      },
      "source": [
        "# create the validation set from our training set.\n",
        "train_data, valid_data = train_data.split(random_state = random.seed(SEED))"
      ],
      "execution_count": 4,
      "outputs": []
    },
    {
      "cell_type": "code",
      "metadata": {
        "id": "JMEfpRU8PZJ8",
        "colab": {
          "base_uri": "https://localhost:8080/"
        },
        "outputId": "2785db10-f809-4129-de8d-809df4a21625"
      },
      "source": [
        "# build vocabulary with pre-trained global embedding\n",
        "\n",
        "MAX_VOCAB_SIZE = 25_000\n",
        "\n",
        "text.build_vocab(train_data, \n",
        "                 max_size = MAX_VOCAB_SIZE, \n",
        "                 vectors = \"glove.6B.100d\", \n",
        "                 unk_init = torch.Tensor.normal_)\n",
        "\n",
        "label.build_vocab(train_data)"
      ],
      "execution_count": 5,
      "outputs": [
        {
          "output_type": "stream",
          "text": [
            ".vector_cache/glove.6B.zip: 862MB [06:28, 2.22MB/s]                          \n",
            "100%|█████████▉| 399070/400000 [00:17<00:00, 21354.37it/s]"
          ],
          "name": "stderr"
        }
      ]
    },
    {
      "cell_type": "code",
      "metadata": {
        "id": "SyPqo1sPPeLQ"
      },
      "source": [
        "#Another thing for packed padded sequences all of the tensors within a batch \n",
        "#need to be sorted by their lengths. This is handled in the iterator by setting \n",
        "#sort_within_batch = True. \n",
        "\n",
        "BATCH_SIZE = 64\n",
        "\n",
        "device = torch.device('cuda' if torch.cuda.is_available() else 'cpu')\n",
        "\n",
        "train_iterator, valid_iterator, test_iterator = data.BucketIterator.splits(\n",
        "    (train_data, valid_data, test_data), \n",
        "    batch_size = BATCH_SIZE,\n",
        "    sort_within_batch = True,\n",
        "    device = device)"
      ],
      "execution_count": 6,
      "outputs": []
    },
    {
      "cell_type": "markdown",
      "metadata": {
        "id": "mZkrspWAaFmt"
      },
      "source": [
        "\n",
        "Build the Model"
      ]
    },
    {
      "cell_type": "code",
      "metadata": {
        "id": "THt4FDNAPki9"
      },
      "source": [
        "class RNN(nn.Module):\n",
        "\n",
        "    #parts list for building blocks\n",
        "    def __init__(self, vocab_size, embedding_dim, hidden_dim, output_dim, \n",
        "                 n_layers, bidirectional, dropout, pad_idx):\n",
        "        \n",
        "        super().__init__()\n",
        "        \n",
        "        self.embedding = nn.Embedding(vocab_size, embedding_dim, \n",
        "                                      padding_idx = pad_idx)\n",
        "        #bidirectional = False\n",
        "        self.rnns = nn.ModuleList([nn.LSTM(embedding_dim, hidden_dim, \n",
        "                                           bidirectional=bidirectional)])\n",
        "        # LSTM layers = 3\n",
        "        for _ in range(n_layers - 1):\n",
        "          self.rnns.append(nn.LSTM(hidden_dim, hidden_dim, \n",
        "                                   bidirectional=bidirectional))\n",
        "        \n",
        "        self.fc = nn.Linear(hidden_dim, output_dim)\n",
        "        \n",
        "        self.dropout = nn.Dropout(dropout)\n",
        "\n",
        "    #step-by-step manual for assembling building blocks    \n",
        "    def forward(self, text, text_lengths):\n",
        "        \n",
        "        #text = [sent len, batch size]\n",
        "        \n",
        "        embedded = self.dropout(self.embedding(text))\n",
        "        \n",
        "        #embedded = [sent len, batch size, emb dim]\n",
        "        \n",
        "        #pack sequence\n",
        "        packed_embedded = nn.utils.rnn.pack_padded_sequence(embedded, text_lengths)\n",
        "        \n",
        "        #stack multiple (3) LSTM layers with dropouts\n",
        "        x = packed_embedded\n",
        "        for rnn in self.rnns:\n",
        "          _, (x, _) = rnn(x)\n",
        "          x = self.dropout(x)\n",
        "        \n",
        "        #x = last hidden states [1, batch size, hid dim]\n",
        "        hidden = x.squeeze(0)\n",
        "\n",
        "        return self.fc(hidden)"
      ],
      "execution_count": 7,
      "outputs": []
    },
    {
      "cell_type": "code",
      "metadata": {
        "id": "J02e8tA4P6-9"
      },
      "source": [
        "#define model constants\n",
        "\n",
        "INPUT_DIM = len(text.vocab)\n",
        "EMBEDDING_DIM = 100\n",
        "HIDDEN_DIM = 256\n",
        "OUTPUT_DIM = 1\n",
        "N_LAYERS = 3\n",
        "#changed from True to False         \n",
        "BIDIRECTIONAL = False\n",
        "#changed from 0.5 to 0.2\n",
        "DROPOUT = 0.2\n",
        "PAD_IDX = text.vocab.stoi[text.pad_token]"
      ],
      "execution_count": 8,
      "outputs": []
    },
    {
      "cell_type": "code",
      "metadata": {
        "id": "j-cbEnEkQHlx"
      },
      "source": [
        "model = RNN(INPUT_DIM, \n",
        "            EMBEDDING_DIM, \n",
        "            HIDDEN_DIM, \n",
        "            OUTPUT_DIM, \n",
        "            N_LAYERS, \n",
        "            BIDIRECTIONAL, \n",
        "            DROPOUT, \n",
        "            PAD_IDX)"
      ],
      "execution_count": 9,
      "outputs": []
    },
    {
      "cell_type": "code",
      "metadata": {
        "id": "1Gp-k_mcQyMf",
        "colab": {
          "base_uri": "https://localhost:8080/"
        },
        "outputId": "c3c3c9e3-b000-40da-ffae-d298ae51472b"
      },
      "source": [
        "def count_parameters(model):\n",
        "    return sum(p.numel() for p in model.parameters() if p.requires_grad)\n",
        "\n",
        "print(model)\n",
        "print(f'The model has {count_parameters(model):,} trainable parameters')"
      ],
      "execution_count": 10,
      "outputs": [
        {
          "output_type": "stream",
          "text": [
            "RNN(\n",
            "  (embedding): Embedding(25002, 100, padding_idx=1)\n",
            "  (rnns): ModuleList(\n",
            "    (0): LSTM(100, 256)\n",
            "    (1): LSTM(256, 256)\n",
            "    (2): LSTM(256, 256)\n",
            "  )\n",
            "  (fc): Linear(in_features=256, out_features=1, bias=True)\n",
            "  (dropout): Dropout(p=0.2, inplace=False)\n",
            ")\n",
            "The model has 3,919,721 trainable parameters\n"
          ],
          "name": "stdout"
        }
      ]
    },
    {
      "cell_type": "code",
      "metadata": {
        "id": "tPHSUZObPx89",
        "colab": {
          "base_uri": "https://localhost:8080/"
        },
        "outputId": "70e99832-c798-428b-b009-dc8294642acb"
      },
      "source": [
        "pretrained_embeddings = text.vocab.vectors\n",
        "print(pretrained_embeddings.shape)"
      ],
      "execution_count": 11,
      "outputs": [
        {
          "output_type": "stream",
          "text": [
            "torch.Size([25002, 100])\n"
          ],
          "name": "stdout"
        }
      ]
    },
    {
      "cell_type": "code",
      "metadata": {
        "id": "kWEPWQBDRBtG",
        "colab": {
          "base_uri": "https://localhost:8080/"
        },
        "outputId": "d3a28850-8a1f-4e3b-e9e4-db2b705c0d9a"
      },
      "source": [
        "#copy pre-trained embeddings from vocabulary to model\n",
        "model.embedding.weight.data.copy_(pretrained_embeddings)"
      ],
      "execution_count": 12,
      "outputs": [
        {
          "output_type": "execute_result",
          "data": {
            "text/plain": [
              "tensor([[ 0.4229, -0.5757, -0.0617,  ...,  0.4862, -1.3053,  1.3924],\n",
              "        [ 0.6612, -1.0053, -1.7353,  ...,  0.3116, -0.2421, -1.1424],\n",
              "        [-0.0382, -0.2449,  0.7281,  ..., -0.1459,  0.8278,  0.2706],\n",
              "        ...,\n",
              "        [-0.1548,  0.0468, -0.4173,  ...,  1.0094, -0.2961, -0.3413],\n",
              "        [ 0.0854, -0.7074,  0.2070,  ..., -0.4760, -0.0073,  0.4740],\n",
              "        [ 0.0926, -0.6522,  0.7409,  ..., -0.1327, -0.2580, -0.3509]])"
            ]
          },
          "metadata": {
            "tags": []
          },
          "execution_count": 12
        }
      ]
    },
    {
      "cell_type": "code",
      "metadata": {
        "id": "VPEqg1q1RFJL",
        "colab": {
          "base_uri": "https://localhost:8080/"
        },
        "outputId": "2598579b-3db1-46f3-d544-5245d7e86b03"
      },
      "source": [
        "#zero weights for <unk> and <pad> tokens\n",
        "\n",
        "UNK_IDX = text.vocab.stoi[text.unk_token]\n",
        "\n",
        "model.embedding.weight.data[UNK_IDX] = torch.zeros(EMBEDDING_DIM)\n",
        "model.embedding.weight.data[PAD_IDX] = torch.zeros(EMBEDDING_DIM)\n",
        "\n",
        "print(model.embedding.weight.data)"
      ],
      "execution_count": 13,
      "outputs": [
        {
          "output_type": "stream",
          "text": [
            "tensor([[ 0.0000,  0.0000,  0.0000,  ...,  0.0000,  0.0000,  0.0000],\n",
            "        [ 0.0000,  0.0000,  0.0000,  ...,  0.0000,  0.0000,  0.0000],\n",
            "        [-0.0382, -0.2449,  0.7281,  ..., -0.1459,  0.8278,  0.2706],\n",
            "        ...,\n",
            "        [-0.1548,  0.0468, -0.4173,  ...,  1.0094, -0.2961, -0.3413],\n",
            "        [ 0.0854, -0.7074,  0.2070,  ..., -0.4760, -0.0073,  0.4740],\n",
            "        [ 0.0926, -0.6522,  0.7409,  ..., -0.1327, -0.2580, -0.3509]])\n"
          ],
          "name": "stdout"
        }
      ]
    },
    {
      "cell_type": "markdown",
      "metadata": {
        "id": "nyobdBvddi3f"
      },
      "source": [
        "Train the Model"
      ]
    },
    {
      "cell_type": "code",
      "metadata": {
        "id": "Trl-Ou3tRI6P"
      },
      "source": [
        "#instantiate optimizer\n",
        "optimizer = optim.Adam(model.parameters())"
      ],
      "execution_count": 14,
      "outputs": []
    },
    {
      "cell_type": "code",
      "metadata": {
        "id": "rEi5JKCiRMz8"
      },
      "source": [
        "#instantiate loss function\n",
        "criterion = nn.BCEWithLogitsLoss()"
      ],
      "execution_count": 15,
      "outputs": []
    },
    {
      "cell_type": "code",
      "metadata": {
        "id": "0P38WLdbRRlf"
      },
      "source": [
        "#place the model and criterion on the GPU (if available)\n",
        "model = model.to(device)\n",
        "criterion = criterion.to(device)"
      ],
      "execution_count": 16,
      "outputs": []
    },
    {
      "cell_type": "code",
      "metadata": {
        "id": "8YLO7E8VRVZS"
      },
      "source": [
        "#define the accuracy for training, validation and testing\n",
        "def binary_accuracy(preds, y):\n",
        "    \"\"\"\n",
        "    Returns accuracy per batch,i.e. if you get 8/10 right, this returns 0.8, NOT 8\n",
        "    \"\"\"\n",
        "\n",
        "    #round predictions to the closest integer\n",
        "    rounded_preds = torch.round(torch.sigmoid(preds))\n",
        "    correct = (rounded_preds == y).float() #convert into float for division \n",
        "    acc = correct.sum() / len(correct)\n",
        "    return acc"
      ],
      "execution_count": 17,
      "outputs": []
    },
    {
      "cell_type": "code",
      "metadata": {
        "id": "0xSLm0itRZs3"
      },
      "source": [
        "#define the training\n",
        "def train(model, iterator, optimizer, criterion):\n",
        "    \n",
        "    epoch_loss = 0\n",
        "    epoch_acc = 0\n",
        "    \n",
        "    model.train()\n",
        "    \n",
        "    for batch in iterator:\n",
        "        \n",
        "        optimizer.zero_grad()\n",
        "        \n",
        "        text, text_lengths = batch.text\n",
        "\n",
        "        #runtime type is GPU but  model expects CPU tensor\n",
        "        text_lengths = text_lengths.cpu()\n",
        "\n",
        "        predictions = model(text, text_lengths).squeeze(1)\n",
        "        \n",
        "        loss = criterion(predictions, batch.label)\n",
        "        \n",
        "        acc = binary_accuracy(predictions, batch.label)\n",
        "        \n",
        "        loss.backward()\n",
        "        \n",
        "        optimizer.step()\n",
        "        \n",
        "        epoch_loss += loss.item()\n",
        "        epoch_acc += acc.item()\n",
        "        \n",
        "    return epoch_loss / len(iterator), epoch_acc / len(iterator)"
      ],
      "execution_count": 18,
      "outputs": []
    },
    {
      "cell_type": "code",
      "metadata": {
        "id": "dcJ33YHtRi2t"
      },
      "source": [
        "def evaluate(model, iterator, criterion):\n",
        "    \n",
        "    epoch_loss = 0\n",
        "    epoch_acc = 0\n",
        "    \n",
        "    model.eval()\n",
        "    \n",
        "    with torch.no_grad():\n",
        "    \n",
        "        for batch in iterator:\n",
        "\n",
        "            text, text_lengths = batch.text\n",
        "            \n",
        "            #runtime type is GPU but model expects CPU tensor\n",
        "            text_lengths = text_lengths.cpu()\n",
        "\n",
        "            predictions = model(text, text_lengths).squeeze(1)\n",
        "            \n",
        "            loss = criterion(predictions, batch.label)\n",
        "            \n",
        "            acc = binary_accuracy(predictions, batch.label)\n",
        "\n",
        "            epoch_loss += loss.item()\n",
        "            epoch_acc += acc.item()\n",
        "        \n",
        "    return epoch_loss / len(iterator), epoch_acc / len(iterator)"
      ],
      "execution_count": 19,
      "outputs": []
    },
    {
      "cell_type": "code",
      "metadata": {
        "id": "AqHKsMPTRo1f"
      },
      "source": [
        "# define how to calculate time required per epoch\n",
        "\n",
        "import time\n",
        "\n",
        "def epoch_time(start_time, end_time):\n",
        "    elapsed_time = end_time - start_time\n",
        "    elapsed_mins = int(elapsed_time / 60)\n",
        "    elapsed_secs = int(elapsed_time - (elapsed_mins * 60))\n",
        "    return elapsed_mins, elapsed_secs"
      ],
      "execution_count": 20,
      "outputs": []
    },
    {
      "cell_type": "code",
      "metadata": {
        "id": "TcY2qVKGRs67",
        "colab": {
          "base_uri": "https://localhost:8080/"
        },
        "outputId": "c16d401a-632a-49fb-a2f8-b8dbb89a56c4"
      },
      "source": [
        "N_EPOCHS = 20\n",
        "\n",
        "best_valid_loss = float('inf')\n",
        "\n",
        "for epoch in range(N_EPOCHS):\n",
        "\n",
        "    start_time = time.time()\n",
        "    \n",
        "    train_loss, train_acc = train(model, train_iterator, optimizer, criterion)\n",
        "    valid_loss, valid_acc = evaluate(model, valid_iterator, criterion)\n",
        "    \n",
        "    end_time = time.time()\n",
        "\n",
        "    epoch_mins, epoch_secs = epoch_time(start_time, end_time)\n",
        "    \n",
        "    if valid_loss < best_valid_loss:\n",
        "        best_valid_loss = valid_loss\n",
        "        torch.save(model.state_dict(), 'tut2-model.pt')\n",
        "    \n",
        "    print(f'Epoch: {epoch+1:02} | Epoch Time: {epoch_mins}m {epoch_secs}s')\n",
        "    print(f'\\tTrain Loss: {train_loss:.3f} | Train Acc: {train_acc*100:.2f}%')\n",
        "    print(f'\\t Val. Loss: {valid_loss:.3f} |  Val. Acc: {valid_acc*100:.2f}%')"
      ],
      "execution_count": 21,
      "outputs": [
        {
          "output_type": "stream",
          "text": [
            "\r100%|█████████▉| 399070/400000 [00:30<00:00, 21354.37it/s]"
          ],
          "name": "stderr"
        },
        {
          "output_type": "stream",
          "text": [
            "Epoch: 01 | Epoch Time: 0m 10s\n",
            "\tTrain Loss: 0.686 | Train Acc: 54.69%\n",
            "\t Val. Loss: 0.647 |  Val. Acc: 64.55%\n",
            "Epoch: 02 | Epoch Time: 0m 9s\n",
            "\tTrain Loss: 0.664 | Train Acc: 57.55%\n",
            "\t Val. Loss: 0.692 |  Val. Acc: 50.84%\n",
            "Epoch: 03 | Epoch Time: 0m 9s\n",
            "\tTrain Loss: 0.598 | Train Acc: 68.11%\n",
            "\t Val. Loss: 0.680 |  Val. Acc: 60.46%\n",
            "Epoch: 04 | Epoch Time: 0m 9s\n",
            "\tTrain Loss: 0.516 | Train Acc: 75.80%\n",
            "\t Val. Loss: 0.385 |  Val. Acc: 83.15%\n",
            "Epoch: 05 | Epoch Time: 0m 9s\n",
            "\tTrain Loss: 0.286 | Train Acc: 88.64%\n",
            "\t Val. Loss: 0.316 |  Val. Acc: 87.46%\n",
            "Epoch: 06 | Epoch Time: 0m 9s\n",
            "\tTrain Loss: 0.210 | Train Acc: 92.15%\n",
            "\t Val. Loss: 0.335 |  Val. Acc: 87.13%\n",
            "Epoch: 07 | Epoch Time: 0m 10s\n",
            "\tTrain Loss: 0.162 | Train Acc: 94.37%\n",
            "\t Val. Loss: 0.331 |  Val. Acc: 88.45%\n",
            "Epoch: 08 | Epoch Time: 0m 9s\n",
            "\tTrain Loss: 0.125 | Train Acc: 95.80%\n",
            "\t Val. Loss: 0.353 |  Val. Acc: 87.74%\n",
            "Epoch: 09 | Epoch Time: 0m 10s\n",
            "\tTrain Loss: 0.094 | Train Acc: 96.91%\n",
            "\t Val. Loss: 0.407 |  Val. Acc: 88.29%\n",
            "Epoch: 10 | Epoch Time: 0m 10s\n",
            "\tTrain Loss: 0.075 | Train Acc: 97.70%\n",
            "\t Val. Loss: 0.429 |  Val. Acc: 88.06%\n",
            "Epoch: 11 | Epoch Time: 0m 9s\n",
            "\tTrain Loss: 0.058 | Train Acc: 98.33%\n",
            "\t Val. Loss: 0.405 |  Val. Acc: 88.32%\n",
            "Epoch: 12 | Epoch Time: 0m 10s\n",
            "\tTrain Loss: 0.046 | Train Acc: 98.68%\n",
            "\t Val. Loss: 0.522 |  Val. Acc: 88.08%\n",
            "Epoch: 13 | Epoch Time: 0m 9s\n",
            "\tTrain Loss: 0.037 | Train Acc: 98.91%\n",
            "\t Val. Loss: 0.587 |  Val. Acc: 87.16%\n",
            "Epoch: 14 | Epoch Time: 0m 10s\n",
            "\tTrain Loss: 0.030 | Train Acc: 99.14%\n",
            "\t Val. Loss: 0.553 |  Val. Acc: 88.23%\n",
            "Epoch: 15 | Epoch Time: 0m 10s\n",
            "\tTrain Loss: 0.027 | Train Acc: 99.25%\n",
            "\t Val. Loss: 0.537 |  Val. Acc: 88.44%\n",
            "Epoch: 16 | Epoch Time: 0m 10s\n",
            "\tTrain Loss: 0.025 | Train Acc: 99.29%\n",
            "\t Val. Loss: 0.599 |  Val. Acc: 88.39%\n",
            "Epoch: 17 | Epoch Time: 0m 10s\n",
            "\tTrain Loss: 0.021 | Train Acc: 99.38%\n",
            "\t Val. Loss: 0.582 |  Val. Acc: 88.15%\n",
            "Epoch: 18 | Epoch Time: 0m 10s\n",
            "\tTrain Loss: 0.017 | Train Acc: 99.46%\n",
            "\t Val. Loss: 0.685 |  Val. Acc: 88.14%\n",
            "Epoch: 19 | Epoch Time: 0m 10s\n",
            "\tTrain Loss: 0.019 | Train Acc: 99.51%\n",
            "\t Val. Loss: 0.625 |  Val. Acc: 87.86%\n",
            "Epoch: 20 | Epoch Time: 0m 9s\n",
            "\tTrain Loss: 0.017 | Train Acc: 99.60%\n",
            "\t Val. Loss: 0.680 |  Val. Acc: 88.19%\n"
          ],
          "name": "stdout"
        }
      ]
    },
    {
      "cell_type": "code",
      "metadata": {
        "id": "4-oPtYNxR2l0",
        "colab": {
          "base_uri": "https://localhost:8080/"
        },
        "outputId": "b5fed916-c577-4827-9338-606ec87f019f"
      },
      "source": [
        "# test model using testing dataset\n",
        "model.load_state_dict(torch.load('tut2-model.pt'))\n",
        "\n",
        "test_loss, test_acc = evaluate(model, test_iterator, criterion)\n",
        "\n",
        "print(f'Test Loss: {test_loss:.3f} | Test Acc: {test_acc*100:.2f}%')"
      ],
      "execution_count": 22,
      "outputs": [
        {
          "output_type": "stream",
          "text": [
            "Test Loss: 0.340 | Test Acc: 85.98%\n"
          ],
          "name": "stdout"
        }
      ]
    },
    {
      "cell_type": "code",
      "metadata": {
        "id": "1BQp5tAIXR7C"
      },
      "source": [
        "nlp = spacy.load('en')\n",
        "\n",
        "def predict_sentiment(model, sentence):\n",
        "    model.eval()\n",
        "    tokenized = [tok.text for tok in nlp.tokenizer(sentence)]\n",
        "    indexed = [text.vocab.stoi[t] for t in tokenized]\n",
        "    length = [len(indexed)]\n",
        "    tensor = torch.LongTensor(indexed).to(device)\n",
        "    tensor = tensor.unsqueeze(1)\n",
        "    length_tensor = torch.LongTensor(length)\n",
        "    prediction = torch.sigmoid(model(tensor, length_tensor))\n",
        "    return prediction.item()"
      ],
      "execution_count": 23,
      "outputs": []
    },
    {
      "cell_type": "code",
      "metadata": {
        "colab": {
          "base_uri": "https://localhost:8080/"
        },
        "id": "0r4CVnPpfG5l",
        "outputId": "71612b5d-5238-4289-c8e5-a99efe102163"
      },
      "source": [
        "#test a positive sentence\n",
        "predict_sentiment(model, \"This film is very good\")"
      ],
      "execution_count": 24,
      "outputs": [
        {
          "output_type": "execute_result",
          "data": {
            "text/plain": [
              "0.9337762594223022"
            ]
          },
          "metadata": {
            "tags": []
          },
          "execution_count": 24
        }
      ]
    }
  ]
}